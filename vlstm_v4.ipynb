{
 "cells": [
  {
   "cell_type": "code",
   "execution_count": 1,
   "metadata": {
    "notebookRunGroups": {
     "groupValue": "1"
    }
   },
   "outputs": [
    {
     "data": {
      "text/plain": [
       "True"
      ]
     },
     "execution_count": 1,
     "metadata": {},
     "output_type": "execute_result"
    }
   ],
   "source": [
    "import sys\n",
    "import os\n",
    "\n",
    "os.environ[\"CUDA_VISIBLE_DEVICES\"] = \"0\"\n",
    "sys.path.append(\".\")\n",
    "# os.environ[\"MAX_JOBS\"] = \"100\"\n",
    "\n",
    "import torch\n",
    "torch.cuda.is_available()"
   ]
  },
  {
   "cell_type": "code",
   "execution_count": 2,
   "metadata": {
    "notebookRunGroups": {
     "groupValue": "1"
    }
   },
   "outputs": [
    {
     "name": "stdout",
     "output_type": "stream",
     "text": [
      "INCLUDE: ['/home/max/miniconda3/envs/xlstmpt21cu118/lib/python3.11/site-packages/torch/include', '/home/max/miniconda3/envs/xlstmpt21cu118/lib/python3.11/site-packages/torch/include/torch/csrc/api/include', '/home/max/miniconda3/envs/xlstmpt21cu118/lib/python3.11/site-packages/torch/include/TH', '/home/max/miniconda3/envs/xlstmpt21cu118/lib/python3.11/site-packages/torch/include/THC', '/home/max/miniconda3/envs/xlstmpt21cu118/include']\n",
      "/home/max/myrepos/vlstm_cuda/src\n",
      "/home/max/cpplibs/libtorch/lib:/usr/local/cuda-12.3/lib64:\n",
      "/home/max/miniconda3/envs/xlstmpt21cu118/lib\n"
     ]
    },
    {
     "name": "stderr",
     "output_type": "stream",
     "text": [
      "Using /home/max/.cache/torch_extensions/py311_cu118 as PyTorch extensions root...\n",
      "Detected CUDA files, patching ldflags\n",
      "Emitting ninja build file /home/max/.cache/torch_extensions/py311_cu118/vlstm_v4/build.ninja...\n",
      "Building extension module vlstm_v4...\n",
      "Allowing ninja to set a default number of workers... (overridable by setting the environment variable MAX_JOBS=N)\n"
     ]
    },
    {
     "name": "stdout",
     "output_type": "stream",
     "text": [
      "[1/2] /home/max/miniconda3/envs/xlstmpt21cu118/bin/nvcc  -ccbin /home/max/miniconda3/envs/xlstmpt21cu118/bin/x86_64-conda-linux-gnu-cc -DTORCH_EXTENSION_NAME=vlstm_v4 -DTORCH_API_INCLUDE_EXTENSION_H -DPYBIND11_COMPILER_TYPE=\\\"_gcc\\\" -DPYBIND11_STDLIB=\\\"_libstdcpp\\\" -DPYBIND11_BUILD_ABI=\\\"_cxxabi1011\\\" -isystem /home/max/miniconda3/envs/xlstmpt21cu118/lib/python3.11/site-packages/torch/include -isystem /home/max/miniconda3/envs/xlstmpt21cu118/lib/python3.11/site-packages/torch/include/torch/csrc/api/include -isystem /home/max/miniconda3/envs/xlstmpt21cu118/lib/python3.11/site-packages/torch/include/TH -isystem /home/max/miniconda3/envs/xlstmpt21cu118/lib/python3.11/site-packages/torch/include/THC -isystem /home/max/miniconda3/envs/xlstmpt21cu118/include -isystem /home/max/miniconda3/envs/xlstmpt21cu118/include/python3.11 -D_GLIBCXX_USE_CXX11_ABI=0 -D__CUDA_NO_HALF_OPERATORS__ -D__CUDA_NO_HALF_CONVERSIONS__ -D__CUDA_NO_BFLOAT16_CONVERSIONS__ -D__CUDA_NO_HALF2_OPERATORS__ --expt-relaxed-constexpr -gencode=arch=compute_89,code=compute_89 -gencode=arch=compute_89,code=sm_89 --compiler-options '-fPIC' -gencode arch=compute_80,code=compute_80 -res-usage --use_fast_math -O3 -Xptxas -O3 --extra-device-vectorization -DTmax=13407807929942597099574024998205846127479365820592393377723561443721764030073546976801874298166903427690031858186486050853753882811946569946433649006084096 -std=c++17 -c /home/max/myrepos/vlstm_cuda/src/vlstm_v4/kernels.cu -o kernels.cuda.o \n",
      "/home/max/myrepos/vlstm_cuda/src/vlstm_v4/../util/inline_ops.cuh(255): remark #20200-D: #pragma message: \"/home/max/myrepos/vlstm_cuda/src/vlstm_v4/../util/inline_ops.cuh:255 CUDART_VERSION: 11080, arch: 800\"\n",
      "\n",
      "/home/max/myrepos/vlstm_cuda/src/vlstm_v4/../util/inline_ops.cuh(260): remark #20200-D: #pragma message: \"INCLUDING FP16\"\n",
      "\n",
      "/home/max/myrepos/vlstm_cuda/src/vlstm_v4/../util/inline_ops_fp16.cuh(29): remark #20200-D: #pragma message: \"/home/max/myrepos/vlstm_cuda/src/vlstm_v4/../util/inline_ops_fp16.cuh:29 CUDART_VERSION with FP16: 11080, CUDA_ARCH: 800\"\n",
      "\n",
      "/home/max/myrepos/vlstm_cuda/src/vlstm_v4/../util/inline_ops_2fp16.cuh(29): remark #20200-D: #pragma message: \"/home/max/myrepos/vlstm_cuda/src/vlstm_v4/../util/inline_ops_2fp16.cuh:29 CUDART_VERSION with FP16: 11080, CUDA_ARCH: 800\"\n",
      "\n",
      "/home/max/myrepos/vlstm_cuda/src/vlstm_v4/../util/inline_ops.cuh(273): remark #20200-D: #pragma message: \"INCLUDING BF16\"\n",
      "\n",
      "/home/max/myrepos/vlstm_cuda/src/vlstm_v4/../util/inline_ops_bf16.cuh(29): remark #20200-D: #pragma message: \"/home/max/myrepos/vlstm_cuda/src/vlstm_v4/../util/inline_ops_bf16.cuh:29 CUDART_VERSION with BF16: 11080, CUDA_ARCH: 800\"\n",
      "\n",
      "/home/max/myrepos/vlstm_cuda/src/vlstm_v4/../util/inline_ops_2bf16.cuh(29): remark #20200-D: #pragma message: \"/home/max/myrepos/vlstm_cuda/src/vlstm_v4/../util/inline_ops_2bf16.cuh:29 CUDART_VERSION with FP16: 11080, CUDA_ARCH: 800\"\n",
      "\n",
      "/home/max/myrepos/vlstm_cuda/src/vlstm_v4/kernels.cu(85): warning #177-D: variable \"tileX\" was declared but never referenced\n",
      "          detected during instantiation of \"void vlstm::kernel_dispatchers::qkvkernel_dispatch(scalar_t *, scalar_t *, scalar_t *, scalar_t *, int, int, int, int) [with scalar_t=__nv_bfloat16]\" \n",
      "(407): here\n",
      "\n",
      "/home/max/myrepos/vlstm_cuda/src/vlstm_v4/kernels.cu(86): warning #177-D: variable \"tileY\" was declared but never referenced\n",
      "          detected during instantiation of \"void vlstm::kernel_dispatchers::qkvkernel_dispatch(scalar_t *, scalar_t *, scalar_t *, scalar_t *, int, int, int, int) [with scalar_t=__nv_bfloat16]\" \n",
      "(407): here\n",
      "\n",
      "/home/max/myrepos/vlstm_cuda/src/vlstm_v4/../util/inline_ops.cuh(255): remark #20200-D: #pragma message: \"/home/max/myrepos/vlstm_cuda/src/vlstm_v4/../util/inline_ops.cuh:255 CUDART_VERSION: 11080, arch: 890\"\n",
      "\n",
      "/home/max/myrepos/vlstm_cuda/src/vlstm_v4/../util/inline_ops.cuh(260): remark #20200-D: #pragma message: \"INCLUDING FP16\"\n",
      "\n",
      "/home/max/myrepos/vlstm_cuda/src/vlstm_v4/../util/inline_ops_fp16.cuh(29): remark #20200-D: #pragma message: \"/home/max/myrepos/vlstm_cuda/src/vlstm_v4/../util/inline_ops_fp16.cuh:29 CUDART_VERSION with FP16: 11080, CUDA_ARCH: 890\"\n",
      "\n",
      "/home/max/myrepos/vlstm_cuda/src/vlstm_v4/../util/inline_ops_2fp16.cuh(29): remark #20200-D: #pragma message: \"/home/max/myrepos/vlstm_cuda/src/vlstm_v4/../util/inline_ops_2fp16.cuh:29 CUDART_VERSION with FP16: 11080, CUDA_ARCH: 890\"\n",
      "\n",
      "/home/max/myrepos/vlstm_cuda/src/vlstm_v4/../util/inline_ops.cuh(273): remark #20200-D: #pragma message: \"INCLUDING BF16\"\n",
      "\n",
      "/home/max/myrepos/vlstm_cuda/src/vlstm_v4/../util/inline_ops_bf16.cuh(29): remark #20200-D: #pragma message: \"/home/max/myrepos/vlstm_cuda/src/vlstm_v4/../util/inline_ops_bf16.cuh:29 CUDART_VERSION with BF16: 11080, CUDA_ARCH: 890\"\n",
      "\n",
      "/home/max/myrepos/vlstm_cuda/src/vlstm_v4/../util/inline_ops_2bf16.cuh(29): remark #20200-D: #pragma message: \"/home/max/myrepos/vlstm_cuda/src/vlstm_v4/../util/inline_ops_2bf16.cuh:29 CUDART_VERSION with FP16: 11080, CUDA_ARCH: 890\"\n",
      "\n",
      "/home/max/myrepos/vlstm_cuda/src/vlstm_v4/kernels.cu(85): warning #177-D: variable \"tileX\" was declared but never referenced\n",
      "          detected during instantiation of \"void vlstm::kernel_dispatchers::qkvkernel_dispatch(scalar_t *, scalar_t *, scalar_t *, scalar_t *, int, int, int, int) [with scalar_t=__nv_bfloat16]\" \n",
      "(407): here\n",
      "\n",
      "/home/max/myrepos/vlstm_cuda/src/vlstm_v4/kernels.cu(86): warning #177-D: variable \"tileY\" was declared but never referenced\n",
      "          detected during instantiation of \"void vlstm::kernel_dispatchers::qkvkernel_dispatch(scalar_t *, scalar_t *, scalar_t *, scalar_t *, int, int, int, int) [with scalar_t=__nv_bfloat16]\" \n",
      "(407): here\n",
      "\n",
      "ptxas info    : 268 bytes gmem\n",
      "ptxas info    : Compiling entry function '_ZN5vlstm7kernels9qkvkernelI6__halfLi4ELi8ELi8EEEvPT_S4_S4_S4_iiii' for 'sm_89'\n",
      "ptxas info    : Function properties for _ZN5vlstm7kernels9qkvkernelI6__halfLi4ELi8ELi8EEEvPT_S4_S4_S4_iiii\n",
      "    32 bytes stack frame, 0 bytes spill stores, 0 bytes spill loads\n",
      "ptxas info    : Used 63 registers, 4224 bytes smem, 400 bytes cmem[0]\n",
      "ptxas info    : Compiling entry function '_ZN5vlstm7kernels9qkvkernelI13__nv_bfloat16Li4ELi8ELi8EEEvPT_S4_S4_S4_iiii' for 'sm_89'\n",
      "ptxas info    : Function properties for _ZN5vlstm7kernels9qkvkernelI13__nv_bfloat16Li4ELi8ELi8EEEvPT_S4_S4_S4_iiii\n",
      "    32 bytes stack frame, 0 bytes spill stores, 0 bytes spill loads\n",
      "ptxas info    : Used 64 registers, 4224 bytes smem, 400 bytes cmem[0]\n",
      "/home/max/myrepos/vlstm_cuda/src/vlstm_v4/../util/inline_ops.cuh:255:133: note: '#pragma message: /home/max/myrepos/vlstm_cuda/src/vlstm_v4/../util/inline_ops.cuh:255 CUDART_VERSION: 11080, arch: __CUDA_ARCH__'\n",
      "  255 | #pragma message(AT \" CUDART_VERSION: \" TOSTRING(                               \\\n",
      "      |                                                                                                                                     ^\n",
      "/home/max/myrepos/vlstm_cuda/src/vlstm_v4/../util/inline_ops.cuh:267:90: note: '#pragma message: SKIPPING FP16, because of CUDART_VERSION: 11080, arch: __CUDA_ARCH__'\n",
      "  267 | #pragma message(\"SKIPPING FP16, because of CUDART_VERSION: \" TOSTRING(         \\\n",
      "      |                                                                                          ^\n",
      "/home/max/myrepos/vlstm_cuda/src/vlstm_v4/../util/inline_ops.cuh:280:90: note: '#pragma message: SKIPPING BF16, because of CUDART_VERSION: 11080, arch: __CUDA_ARCH__'\n",
      "  280 | #pragma message(\"SKIPPING BF16, because of CUDART_VERSION: \" TOSTRING(         \\\n",
      "      |                                                                                          ^\n",
      "[2/2] /home/max/miniconda3/envs/xlstmpt21cu118/bin/x86_64-conda-linux-gnu-c++ interface.o kernels.cuda.o -shared -L/home/max/miniconda3/envs/xlstmpt21cu118/lib -lcublas -L/home/max/miniconda3/envs/xlstmpt21cu118/lib/python3.11/site-packages/torch/lib -lc10 -lc10_cuda -ltorch_cpu -ltorch_cuda -ltorch -ltorch_python -L/home/max/miniconda3/envs/xlstmpt21cu118/lib -lcudart -o vlstm_v4.so\n"
     ]
    },
    {
     "name": "stderr",
     "output_type": "stream",
     "text": [
      "Loading extension module vlstm_v4...\n"
     ]
    }
   ],
   "source": [
    "from src.vlstm_v4.interface import qkvkernel"
   ]
  },
  {
   "cell_type": "markdown",
   "metadata": {},
   "source": [
    "### qkvtest"
   ]
  },
  {
   "cell_type": "code",
   "execution_count": 3,
   "metadata": {
    "notebookRunGroups": {
     "groupValue": "1"
    }
   },
   "outputs": [],
   "source": [
    "S = 16 # seq len\n",
    "B = 1 # batch size\n",
    "NH = 1 # num heads\n",
    "DH = 4 # dim per head\n",
    "DTYPE = torch.float16\n",
    "DEVICE = torch.device(\"cuda:0\")"
   ]
  },
  {
   "cell_type": "code",
   "execution_count": 4,
   "metadata": {
    "notebookRunGroups": {
     "groupValue": "1"
    }
   },
   "outputs": [
    {
     "data": {
      "text/plain": [
       "(tensor([[[[0.0000, 0.1000, 0.2000, 0.3000],\n",
       "           [0.3999, 0.5000, 0.6001, 0.7002],\n",
       "           [0.7998, 0.8999, 1.0000, 1.0996],\n",
       "           [1.2002, 1.2998, 1.4004, 1.5000],\n",
       "           [1.5996, 1.7002, 1.7998, 1.9004],\n",
       "           [2.0000, 2.0996, 2.1992, 2.3008],\n",
       "           [2.4004, 2.5000, 2.5996, 2.6992],\n",
       "           [2.8008, 2.9004, 3.0000, 3.0996],\n",
       "           [3.1992, 3.3008, 3.4004, 3.5000],\n",
       "           [3.5996, 3.6992, 3.8008, 3.9004],\n",
       "           [4.0000, 4.1016, 4.1992, 4.3008],\n",
       "           [4.3984, 4.5000, 4.6016, 4.6992],\n",
       "           [4.8008, 4.8984, 5.0000, 5.1016],\n",
       "           [5.1992, 5.3008, 5.3984, 5.5000],\n",
       "           [5.6016, 5.6992, 5.8008, 5.8984],\n",
       "           [6.0000, 6.1016, 6.1992, 6.3008]]]], device='cuda:0',\n",
       "        dtype=torch.float16),\n",
       " torch.Size([1, 1, 16, 4]))"
      ]
     },
     "execution_count": 4,
     "metadata": {},
     "output_type": "execute_result"
    }
   ],
   "source": [
    "# create qkv, inputgates, forgetgates \n",
    "torch.manual_seed(0)\n",
    "qs = torch.arange((B*NH*S*DH), device=DEVICE, dtype=DTYPE).reshape((B, NH, S, DH)) / 10.\n",
    "ks = torch.ones((B, NH, S, DH), device=DEVICE, dtype=DTYPE)\n",
    "vs = torch.ones((B, NH, S, DH), device=DEVICE, dtype=DTYPE)\n",
    "qs, qs.shape"
   ]
  },
  {
   "cell_type": "code",
   "execution_count": 14,
   "metadata": {},
   "outputs": [
    {
     "data": {
      "text/plain": [
       "(tensor([[[[ 0.6001,  0.6001,  0.6001,  0.6001,  0.6001,  0.6001,  0.6001,  0.6001,  0.6001,  0.6001,  0.6001,  0.6001,  0.6001,  0.6001,  0.6001,  0.6001],\n",
       "           [ 2.1992,  2.1992,  2.1992,  2.1992,  2.1992,  2.1992,  2.1992,  2.1992,  2.1992,  2.1992,  2.1992,  2.1992,  2.1992,  2.1992,  2.1992,  2.1992],\n",
       "           [ 3.7988,  3.7988,  3.7988,  3.7988,  3.7988,  3.7988,  3.7988,  3.7988,  3.7988,  3.7988,  3.7988,  3.7988,  3.7988,  3.7988,  3.7988,  3.7988],\n",
       "           [ 5.3984,  5.3984,  5.3984,  5.3984,  5.3984,  5.3984,  5.3984,  5.3984,  5.3984,  5.3984,  5.3984,  5.3984,  5.3984,  5.3984,  5.3984,  5.3984],\n",
       "           [ 7.0000,  7.0000,  7.0000,  7.0000,  7.0000,  7.0000,  7.0000,  7.0000,  7.0000,  7.0000,  7.0000,  7.0000,  7.0000,  7.0000,  7.0000,  7.0000],\n",
       "           [ 8.6016,  8.6016,  8.6016,  8.6016,  8.6016,  8.6016,  8.6016,  8.6016,  8.6016,  8.6016,  8.6016,  8.6016,  8.6016,  8.6016,  8.6016,  8.6016],\n",
       "           [10.2031, 10.2031, 10.2031, 10.2031, 10.2031, 10.2031, 10.2031, 10.2031, 10.2031, 10.2031, 10.2031, 10.2031, 10.2031, 10.2031, 10.2031, 10.2031],\n",
       "           [11.7969, 11.7969, 11.7969, 11.7969, 11.7969, 11.7969, 11.7969, 11.7969, 11.7969, 11.7969, 11.7969, 11.7969, 11.7969, 11.7969, 11.7969, 11.7969],\n",
       "           [13.3984, 13.3984, 13.3984, 13.3984, 13.3984, 13.3984, 13.3984, 13.3984, 13.3984, 13.3984, 13.3984, 13.3984, 13.3984, 13.3984, 13.3984, 13.3984],\n",
       "           [15.0000, 15.0000, 15.0000, 15.0000, 15.0000, 15.0000, 15.0000, 15.0000, 15.0000, 15.0000, 15.0000, 15.0000, 15.0000, 15.0000, 15.0000, 15.0000],\n",
       "           [16.5938, 16.5938, 16.5938, 16.5938, 16.5938, 16.5938, 16.5938, 16.5938, 16.5938, 16.5938, 16.5938, 16.5938, 16.5938, 16.5938, 16.5938, 16.5938],\n",
       "           [18.2031, 18.2031, 18.2031, 18.2031, 18.2031, 18.2031, 18.2031, 18.2031, 18.2031, 18.2031, 18.2031, 18.2031, 18.2031, 18.2031, 18.2031, 18.2031],\n",
       "           [19.7969, 19.7969, 19.7969, 19.7969, 19.7969, 19.7969, 19.7969, 19.7969, 19.7969, 19.7969, 19.7969, 19.7969, 19.7969, 19.7969, 19.7969, 19.7969],\n",
       "           [21.4062, 21.4062, 21.4062, 21.4062, 21.4062, 21.4062, 21.4062, 21.4062, 21.4062, 21.4062, 21.4062, 21.4062, 21.4062, 21.4062, 21.4062, 21.4062],\n",
       "           [23.0000, 23.0000, 23.0000, 23.0000, 23.0000, 23.0000, 23.0000, 23.0000, 23.0000, 23.0000, 23.0000, 23.0000, 23.0000, 23.0000, 23.0000, 23.0000],\n",
       "           [24.5938, 24.5938, 24.5938, 24.5938, 24.5938, 24.5938, 24.5938, 24.5938, 24.5938, 24.5938, 24.5938, 24.5938, 24.5938, 24.5938, 24.5938, 24.5938]]]], device='cuda:0', dtype=torch.float16),\n",
       " torch.Size([1, 1, 16, 16]))"
      ]
     },
     "execution_count": 14,
     "metadata": {},
     "output_type": "execute_result"
    }
   ],
   "source": [
    "torch.set_printoptions(linewidth=200)\n",
    "rs = qs @ ks.transpose(-1, -2)\n",
    "rs, rs.shape"
   ]
  },
  {
   "cell_type": "code",
   "execution_count": 16,
   "metadata": {},
   "outputs": [
    {
     "data": {
      "text/plain": [
       "tensor([[13.3984]], device='cuda:0', dtype=torch.float16)"
      ]
     },
     "execution_count": 16,
     "metadata": {},
     "output_type": "execute_result"
    }
   ],
   "source": [
    "rs[:,:,8,8]"
   ]
  },
  {
   "cell_type": "code",
   "execution_count": 5,
   "metadata": {
    "notebookRunGroups": {
     "groupValue": "1"
    }
   },
   "outputs": [],
   "source": [
    "# pytorch version\n",
    "# rs = qs @ ks.transpose(-1, -2) @ vs\n",
    "# rs, rs.shape"
   ]
  },
  {
   "cell_type": "code",
   "execution_count": 6,
   "metadata": {
    "notebookRunGroups": {
     "groupValue": "1"
    }
   },
   "outputs": [
    {
     "name": "stdout",
     "output_type": "stream",
     "text": [
      "before kernel dispatch - float16!\n",
      "B: 1, NH: 1, S: 16, DH: 4\n",
      "blocksxy: 1-1, threads: 4-4\n",
      "In Kernel: gdim.x: 1, gdim.y: 1, gdim.z: 1, bdim.x: 4, bdim.y: 4\n",
      "In Kernel: QtileDim: 8, KVtileDim: 8, TblockDim:4\n",
      "qTIdx=0|kvTIdx=0: qTile[3][3] = 1.500000\n",
      "qTIdx=0|kvTIdx=0: kTile[0][3] = 1.000000\n",
      "qTIdx=0|kvTIdx=0: sTile[3][0](3) = 5.398438\n",
      "qTIdx=0|kvTIdx=0: qTile[7][3] = 3.099609\n",
      "qTIdx=0|kvTIdx=0: kTile[0][3] = 1.000000\n",
      "qTIdx=0|kvTIdx=0: sTile[7][0](3) = 11.804688\n",
      "qTIdx=1|kvTIdx=0: qTile[3][3] = 4.699219\n",
      "qTIdx=1|kvTIdx=0: kTile[0][3] = 1.000000\n",
      "qTIdx=1|kvTIdx=0: sTile[3][0](3) = 18.203125\n",
      "qTIdx=1|kvTIdx=0: qTile[7][3] = 6.300781\n",
      "qTIdx=1|kvTIdx=0: kTile[0][3] = 1.000000\n",
      "qTIdx=1|kvTIdx=0: sTile[7][0](3) = 24.593750\n"
     ]
    },
    {
     "data": {
      "text/plain": [
       "(tensor([[[[  9.5938,   9.5938,   9.5938,   9.5938],\n",
       "           [ 35.2188,  35.2188,  35.2188,  35.2188],\n",
       "           [ 60.7812,  60.7812,  60.7812,  60.7812],\n",
       "           [ 86.4375,  86.4375,  86.4375,  86.4375],\n",
       "           [112.0000, 112.0000, 112.0000, 112.0000],\n",
       "           [137.6250, 137.6250, 137.6250, 137.6250],\n",
       "           [163.1250, 163.1250, 163.1250, 163.1250],\n",
       "           [188.8750, 188.8750, 188.8750, 188.8750],\n",
       "           [223.8750, 223.8750, 223.8750, 223.8750],\n",
       "           [275.0000, 275.0000, 275.0000, 275.0000],\n",
       "           [326.5000, 326.5000, 326.5000, 326.5000],\n",
       "           [377.5000, 377.5000, 377.5000, 377.5000],\n",
       "           [429.0000, 429.0000, 429.0000, 429.0000],\n",
       "           [480.0000, 480.0000, 480.0000, 480.0000],\n",
       "           [531.0000, 531.0000, 531.0000, 531.0000],\n",
       "           [582.5000, 582.5000, 582.5000, 582.5000]]]], device='cuda:0',\n",
       "        dtype=torch.float16),\n",
       " torch.Size([1, 1, 16, 4]))"
      ]
     },
     "execution_count": 6,
     "metadata": {},
     "output_type": "execute_result"
    }
   ],
   "source": [
    "# cuda kernel\n",
    "rs = qkvkernel(mat_Q=qs, mat_K=ks, mat_V=vs)\n",
    "rs, rs.shape"
   ]
  },
  {
   "cell_type": "code",
   "execution_count": null,
   "metadata": {},
   "outputs": [],
   "source": [
    "qs"
   ]
  },
  {
   "cell_type": "markdown",
   "metadata": {},
   "source": [
    "### Matmul kernel Test from vlstm_v2"
   ]
  },
  {
   "cell_type": "code",
   "execution_count": null,
   "metadata": {
    "notebookRunGroups": {
     "groupValue": ""
    }
   },
   "outputs": [],
   "source": [
    "# from src.vlstm_v3.interface import testkernel, copykernel, mmkernelv1"
   ]
  },
  {
   "cell_type": "code",
   "execution_count": 7,
   "metadata": {
    "notebookRunGroups": {
     "groupValue": "1"
    }
   },
   "outputs": [],
   "source": [
    "DTYPE = torch.bfloat16\n",
    "DEVICE = torch.device(\"cuda:0\")"
   ]
  },
  {
   "cell_type": "code",
   "execution_count": null,
   "metadata": {
    "notebookRunGroups": {
     "groupValue": ""
    }
   },
   "outputs": [],
   "source": [
    "S = 8 # sequence length\n",
    "DH = 8 # hidden size"
   ]
  },
  {
   "cell_type": "code",
   "execution_count": null,
   "metadata": {
    "notebookRunGroups": {
     "groupValue": ""
    }
   },
   "outputs": [],
   "source": [
    "matA = torch.arange((2*S * DH), device=DEVICE, dtype=DTYPE).reshape((2*S, DH))\n",
    "matB = torch.ones((DH, S), device=DEVICE, dtype=DTYPE)\n",
    "matA.shape, matB.shape, matA, matA.sum(-1)"
   ]
  },
  {
   "cell_type": "code",
   "execution_count": null,
   "metadata": {
    "notebookRunGroups": {
     "groupValue": ""
    }
   },
   "outputs": [],
   "source": [
    "# pytorch\n",
    "pt_out = matA @ matB\n",
    "pt_out, pt_out.shape"
   ]
  },
  {
   "cell_type": "code",
   "execution_count": null,
   "metadata": {
    "notebookRunGroups": {
     "groupValue": ""
    }
   },
   "outputs": [],
   "source": [
    "matA.is_contiguous(), matB.is_contiguous()"
   ]
  },
  {
   "cell_type": "code",
   "execution_count": null,
   "metadata": {
    "notebookRunGroups": {
     "groupValue": ""
    }
   },
   "outputs": [],
   "source": [
    "cu_out = mmkernelv1(mat_A=matA, mat_B=matB)\n",
    "cu_out, cu_out.shape"
   ]
  },
  {
   "cell_type": "code",
   "execution_count": null,
   "metadata": {},
   "outputs": [],
   "source": [
    "matA[9]"
   ]
  },
  {
   "cell_type": "code",
   "execution_count": null,
   "metadata": {},
   "outputs": [],
   "source": [
    "matA[9].cumsum(-1)"
   ]
  },
  {
   "cell_type": "code",
   "execution_count": null,
   "metadata": {},
   "outputs": [],
   "source": [
    "torch.arange(72,80, dtype=torch.bfloat16, device=torch.device('cuda:0')).cumsum(-1)"
   ]
  },
  {
   "cell_type": "code",
   "execution_count": null,
   "metadata": {},
   "outputs": [],
   "source": [
    "torch.arange(72,80, dtype=torch.bfloat16, device=torch.device('cpu')).cumsum(-1)"
   ]
  },
  {
   "cell_type": "code",
   "execution_count": null,
   "metadata": {},
   "outputs": [],
   "source": [
    "torch.arange(72,80, dtype=torch.float32, device=torch.device('cpu')).cumsum(-1)"
   ]
  },
  {
   "cell_type": "code",
   "execution_count": null,
   "metadata": {},
   "outputs": [],
   "source": [
    "torch.arange(72,80, dtype=torch.float16, device=torch.device('cuda:0')).cumsum(-1)"
   ]
  },
  {
   "cell_type": "code",
   "execution_count": null,
   "metadata": {},
   "outputs": [],
   "source": []
  },
  {
   "cell_type": "code",
   "execution_count": 8,
   "metadata": {
    "notebookRunGroups": {
     "groupValue": "1"
    }
   },
   "outputs": [],
   "source": [
    "# cu_out = mmkernelv2(mat_A=matA, mat_B=matB)\n",
    "# cu_out, cu_out.shape"
   ]
  },
  {
   "cell_type": "code",
   "execution_count": null,
   "metadata": {},
   "outputs": [],
   "source": [
    "# mat @ mat.T @ mat"
   ]
  },
  {
   "cell_type": "markdown",
   "metadata": {},
   "source": [
    "### pytorch version"
   ]
  },
  {
   "cell_type": "code",
   "execution_count": null,
   "metadata": {},
   "outputs": [],
   "source": [
    "H = 6 # hidden size\n",
    "S = 5 # seq len\n",
    "B = 1 # batch size\n",
    "NH = 2 # num heads\n",
    "DH = H // NH # dim per head\n",
    "DTYPE = torch.bfloat16\n",
    "DEVICE = torch.device(\"cuda:0\")\n",
    "assert H % NH == 0"
   ]
  },
  {
   "cell_type": "code",
   "execution_count": null,
   "metadata": {},
   "outputs": [],
   "source": [
    "# create qkv, inputgates, forgetgates \n",
    "torch.manual_seed(0)\n",
    "qs = torch.randn((B, NH, S, DH), device=DEVICE, dtype=DTYPE)\n",
    "ks = torch.randn((B, NH, S, DH), device=DEVICE, dtype=DTYPE)\n",
    "vs = torch.randn((B, NH, S, DH), device=DEVICE, dtype=DTYPE)\n",
    "ds = torch.rand((B, NH, S, S), device=DEVICE, dtype=DTYPE)\n",
    "\n",
    "max_log_D, _ = torch.max(ds.view(B, NH, -1), dim=-1, keepdim=True)  # (B, NH, 1)\n",
    "log_D_matrix_stabilized = ds - max_log_D.unsqueeze(-1)  # (B, NH, S, S) = (B, NH, S, S) - (B, NH, 1, 1)\n",
    "D_matrix = torch.exp(log_D_matrix_stabilized)  # (B, NH, S, S)\n",
    "mval = torch.exp(-max_log_D.unsqueeze(-1))"
   ]
  },
  {
   "cell_type": "code",
   "execution_count": null,
   "metadata": {},
   "outputs": [],
   "source": []
  }
 ],
 "metadata": {
  "kernelspec": {
   "display_name": "xlstmpt21cu121",
   "language": "python",
   "name": "python3"
  },
  "language_info": {
   "codemirror_mode": {
    "name": "ipython",
    "version": 3
   },
   "file_extension": ".py",
   "mimetype": "text/x-python",
   "name": "python",
   "nbconvert_exporter": "python",
   "pygments_lexer": "ipython3",
   "version": "3.11.6"
  }
 },
 "nbformat": 4,
 "nbformat_minor": 2
}
