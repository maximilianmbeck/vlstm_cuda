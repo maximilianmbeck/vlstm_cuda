{
 "cells": [
  {
   "cell_type": "code",
   "execution_count": 1,
   "metadata": {
    "notebookRunGroups": {
     "groupValue": "1"
    }
   },
   "outputs": [
    {
     "data": {
      "text/plain": [
       "True"
      ]
     },
     "execution_count": 1,
     "metadata": {},
     "output_type": "execute_result"
    }
   ],
   "source": [
    "import sys\n",
    "import os\n",
    "\n",
    "os.environ[\"CUDA_VISIBLE_DEVICES\"] = \"0\"\n",
    "sys.path.append(\".\")\n",
    "# os.environ[\"MAX_JOBS\"] = \"100\"\n",
    "\n",
    "import torch\n",
    "torch.cuda.is_available()"
   ]
  },
  {
   "cell_type": "code",
   "execution_count": 2,
   "metadata": {
    "notebookRunGroups": {
     "groupValue": "1"
    }
   },
   "outputs": [
    {
     "name": "stdout",
     "output_type": "stream",
     "text": [
      "INCLUDE: ['/home/max/miniconda3/envs/xlstmpt21cu118/lib/python3.11/site-packages/torch/include', '/home/max/miniconda3/envs/xlstmpt21cu118/lib/python3.11/site-packages/torch/include/torch/csrc/api/include', '/home/max/miniconda3/envs/xlstmpt21cu118/lib/python3.11/site-packages/torch/include/TH', '/home/max/miniconda3/envs/xlstmpt21cu118/lib/python3.11/site-packages/torch/include/THC', '/home/max/miniconda3/envs/xlstmpt21cu118/include']\n",
      "/home/max/myrepos/vlstm_cuda/src\n",
      "/home/max/cpplibs/libtorch/lib:/usr/local/cuda-12.3/lib64:\n",
      "/home/max/miniconda3/envs/xlstmpt21cu118/lib\n"
     ]
    },
    {
     "name": "stderr",
     "output_type": "stream",
     "text": [
      "Using /home/max/.cache/torch_extensions/py311_cu118 as PyTorch extensions root...\n",
      "Detected CUDA files, patching ldflags\n",
      "Emitting ninja build file /home/max/.cache/torch_extensions/py311_cu118/vlstm_v4/build.ninja...\n",
      "Building extension module vlstm_v4...\n",
      "Allowing ninja to set a default number of workers... (overridable by setting the environment variable MAX_JOBS=N)\n"
     ]
    },
    {
     "name": "stdout",
     "output_type": "stream",
     "text": [
      "ninja: no work to do.\n"
     ]
    },
    {
     "name": "stderr",
     "output_type": "stream",
     "text": [
      "Loading extension module vlstm_v4...\n"
     ]
    }
   ],
   "source": [
    "from src.vlstm_v4.interface import qkvkernel"
   ]
  },
  {
   "cell_type": "markdown",
   "metadata": {},
   "source": [
    "### qkvtest"
   ]
  },
  {
   "cell_type": "code",
   "execution_count": 9,
   "metadata": {
    "notebookRunGroups": {
     "groupValue": "1"
    }
   },
   "outputs": [],
   "source": [
    "S = 16 # seq len\n",
    "B = 1 # batch size\n",
    "NH = 1 # num heads\n",
    "DH = 4 # dim per head\n",
    "DTYPE = torch.bfloat16\n",
    "DEVICE = torch.device(\"cuda:0\")"
   ]
  },
  {
   "cell_type": "code",
   "execution_count": 18,
   "metadata": {
    "notebookRunGroups": {
     "groupValue": "1"
    }
   },
   "outputs": [
    {
     "data": {
      "text/plain": [
       "(tensor([[[[0.0000, 0.0100, 0.0200, 0.0300],\n",
       "           [0.0400, 0.0500, 0.0601, 0.0698],\n",
       "           [0.0801, 0.0898, 0.1001, 0.1099],\n",
       "           [0.1201, 0.1299, 0.1396, 0.1504],\n",
       "           [0.1602, 0.1699, 0.1797, 0.1904],\n",
       "           [0.2002, 0.2100, 0.2197, 0.2305],\n",
       "           [0.2402, 0.2500, 0.2598, 0.2695],\n",
       "           [0.2793, 0.2891, 0.3008, 0.3105],\n",
       "           [0.3203, 0.3301, 0.3398, 0.3496],\n",
       "           [0.3594, 0.3691, 0.3809, 0.3906],\n",
       "           [0.4004, 0.4102, 0.4199, 0.4297],\n",
       "           [0.4395, 0.4492, 0.4609, 0.4707],\n",
       "           [0.4805, 0.4902, 0.5000, 0.5117],\n",
       "           [0.5195, 0.5312, 0.5391, 0.5508],\n",
       "           [0.5586, 0.5703, 0.5781, 0.5898],\n",
       "           [0.6016, 0.6094, 0.6211, 0.6289]]]], device='cuda:0', dtype=torch.bfloat16),\n",
       " torch.Size([1, 1, 16, 4]))"
      ]
     },
     "execution_count": 18,
     "metadata": {},
     "output_type": "execute_result"
    }
   ],
   "source": [
    "# create qkv, inputgates, forgetgates \n",
    "torch.manual_seed(0)\n",
    "qs = torch.arange((B*NH*S*DH), device=DEVICE, dtype=DTYPE).reshape((B, NH, S, DH)) / 100.\n",
    "ks = torch.ones((B, NH, S, DH), device=DEVICE, dtype=DTYPE) / 10.\n",
    "vs = torch.ones((B, NH, S, DH), device=DEVICE, dtype=DTYPE) / 10.\n",
    "qs, qs.shape"
   ]
  },
  {
   "cell_type": "code",
   "execution_count": 19,
   "metadata": {},
   "outputs": [
    {
     "data": {
      "text/plain": [
       "(tensor([[[[0.0060, 0.0060, 0.0060, 0.0060, 0.0060, 0.0060, 0.0060, 0.0060, 0.0060, 0.0060, 0.0060, 0.0060, 0.0060, 0.0060, 0.0060, 0.0060],\n",
       "           [0.0220, 0.0220, 0.0220, 0.0220, 0.0220, 0.0220, 0.0220, 0.0220, 0.0220, 0.0220, 0.0220, 0.0220, 0.0220, 0.0220, 0.0220, 0.0220],\n",
       "           [0.0381, 0.0381, 0.0381, 0.0381, 0.0381, 0.0381, 0.0381, 0.0381, 0.0381, 0.0381, 0.0381, 0.0381, 0.0381, 0.0381, 0.0381, 0.0381],\n",
       "           [0.0540, 0.0540, 0.0540, 0.0540, 0.0540, 0.0540, 0.0540, 0.0540, 0.0540, 0.0540, 0.0540, 0.0540, 0.0540, 0.0540, 0.0540, 0.0540],\n",
       "           [0.0703, 0.0703, 0.0703, 0.0703, 0.0703, 0.0703, 0.0703, 0.0703, 0.0703, 0.0703, 0.0703, 0.0703, 0.0703, 0.0703, 0.0703, 0.0703],\n",
       "           [0.0859, 0.0859, 0.0859, 0.0859, 0.0859, 0.0859, 0.0859, 0.0859, 0.0859, 0.0859, 0.0859, 0.0859, 0.0859, 0.0859, 0.0859, 0.0859],\n",
       "           [0.1021, 0.1021, 0.1021, 0.1021, 0.1021, 0.1021, 0.1021, 0.1021, 0.1021, 0.1021, 0.1021, 0.1021, 0.1021, 0.1021, 0.1021, 0.1021],\n",
       "           [0.1182, 0.1182, 0.1182, 0.1182, 0.1182, 0.1182, 0.1182, 0.1182, 0.1182, 0.1182, 0.1182, 0.1182, 0.1182, 0.1182, 0.1182, 0.1182],\n",
       "           [0.1338, 0.1338, 0.1338, 0.1338, 0.1338, 0.1338, 0.1338, 0.1338, 0.1338, 0.1338, 0.1338, 0.1338, 0.1338, 0.1338, 0.1338, 0.1338],\n",
       "           [0.1504, 0.1504, 0.1504, 0.1504, 0.1504, 0.1504, 0.1504, 0.1504, 0.1504, 0.1504, 0.1504, 0.1504, 0.1504, 0.1504, 0.1504, 0.1504],\n",
       "           [0.1660, 0.1660, 0.1660, 0.1660, 0.1660, 0.1660, 0.1660, 0.1660, 0.1660, 0.1660, 0.1660, 0.1660, 0.1660, 0.1660, 0.1660, 0.1660],\n",
       "           [0.1826, 0.1826, 0.1826, 0.1826, 0.1826, 0.1826, 0.1826, 0.1826, 0.1826, 0.1826, 0.1826, 0.1826, 0.1826, 0.1826, 0.1826, 0.1826],\n",
       "           [0.1982, 0.1982, 0.1982, 0.1982, 0.1982, 0.1982, 0.1982, 0.1982, 0.1982, 0.1982, 0.1982, 0.1982, 0.1982, 0.1982, 0.1982, 0.1982],\n",
       "           [0.2139, 0.2139, 0.2139, 0.2139, 0.2139, 0.2139, 0.2139, 0.2139, 0.2139, 0.2139, 0.2139, 0.2139, 0.2139, 0.2139, 0.2139, 0.2139],\n",
       "           [0.2295, 0.2295, 0.2295, 0.2295, 0.2295, 0.2295, 0.2295, 0.2295, 0.2295, 0.2295, 0.2295, 0.2295, 0.2295, 0.2295, 0.2295, 0.2295],\n",
       "           [0.2461, 0.2461, 0.2461, 0.2461, 0.2461, 0.2461, 0.2461, 0.2461, 0.2461, 0.2461, 0.2461, 0.2461, 0.2461, 0.2461, 0.2461, 0.2461]]]], device='cuda:0', dtype=torch.bfloat16),\n",
       " torch.Size([1, 1, 16, 16]))"
      ]
     },
     "execution_count": 19,
     "metadata": {},
     "output_type": "execute_result"
    }
   ],
   "source": [
    "torch.set_printoptions(linewidth=200)\n",
    "rs = qs @ ks.transpose(-1, -2)\n",
    "rs, rs.shape"
   ]
  },
  {
   "cell_type": "code",
   "execution_count": 20,
   "metadata": {
    "notebookRunGroups": {
     "groupValue": "1"
    }
   },
   "outputs": [
    {
     "data": {
      "text/plain": [
       "(tensor([[[[0.0096, 0.0096, 0.0096, 0.0096],\n",
       "           [0.0352, 0.0352, 0.0352, 0.0352],\n",
       "           [0.0610, 0.0610, 0.0610, 0.0610],\n",
       "           [0.0864, 0.0864, 0.0864, 0.0864],\n",
       "           [0.1128, 0.1128, 0.1128, 0.1128],\n",
       "           [0.1377, 0.1377, 0.1377, 0.1377],\n",
       "           [0.1631, 0.1631, 0.1631, 0.1631],\n",
       "           [0.1895, 0.1895, 0.1895, 0.1895],\n",
       "           [0.2139, 0.2139, 0.2139, 0.2139],\n",
       "           [0.2412, 0.2412, 0.2412, 0.2412],\n",
       "           [0.2656, 0.2656, 0.2656, 0.2656],\n",
       "           [0.2930, 0.2930, 0.2930, 0.2930],\n",
       "           [0.3184, 0.3184, 0.3184, 0.3184],\n",
       "           [0.3418, 0.3418, 0.3418, 0.3418],\n",
       "           [0.3672, 0.3672, 0.3672, 0.3672],\n",
       "           [0.3945, 0.3945, 0.3945, 0.3945]]]], device='cuda:0', dtype=torch.bfloat16),\n",
       " torch.Size([1, 1, 16, 4]))"
      ]
     },
     "execution_count": 20,
     "metadata": {},
     "output_type": "execute_result"
    }
   ],
   "source": [
    "# pytorch version\n",
    "rs = qs @ ks.transpose(-1, -2) @ vs\n",
    "rs, rs.shape"
   ]
  },
  {
   "cell_type": "code",
   "execution_count": 21,
   "metadata": {
    "notebookRunGroups": {
     "groupValue": "1"
    }
   },
   "outputs": [
    {
     "name": "stdout",
     "output_type": "stream",
     "text": [
      "before kernel dispatch - bfloat16!\n",
      "B: 1, NH: 1, S: 16, DH: 4\n",
      "blocksxy: 1-1, threads: 4-4\n",
      "In Kernel: gdim.x: 1, gdim.y: 1, gdim.z: 1, bdim.x: 4, bdim.y: 4\n",
      "In Kernel: QtileDim: 8, KVtileDim: 8, TblockDim:4\n",
      "qTIdx=0|kvTIdx=0: qTile[3][3] = 0.150391\n",
      "qTIdx=0|kvTIdx=0: kTile[0][3] = 0.100098\n",
      "qTIdx=0|kvTIdx=0: sTile[3][0](3) = 0.054077\n",
      "qTIdx=0|kvTIdx=0: qTile[7][3] = 0.310547\n",
      "qTIdx=0|kvTIdx=0: kTile[0][3] = 0.100098\n",
      "qTIdx=0|kvTIdx=0: sTile[7][0](3) = 0.118164\n",
      "qTIdx=1|kvTIdx=0: qTile[3][3] = 0.470703\n",
      "qTIdx=1|kvTIdx=0: kTile[0][3] = 0.100098\n",
      "qTIdx=1|kvTIdx=0: sTile[3][0](3) = 0.182129\n",
      "qTIdx=1|kvTIdx=0: qTile[7][3] = 0.628906\n",
      "qTIdx=1|kvTIdx=0: kTile[0][3] = 0.100098\n",
      "qTIdx=1|kvTIdx=0: sTile[7][0](3) = 0.246582\n"
     ]
    },
    {
     "data": {
      "text/plain": [
       "(tensor([[[[0.0096, 0.0096, 0.0096, 0.0096],\n",
       "           [0.0352, 0.0352, 0.0352, 0.0352],\n",
       "           [0.0610, 0.0610, 0.0610, 0.0610],\n",
       "           [0.0869, 0.0869, 0.0869, 0.0869],\n",
       "           [0.1118, 0.1118, 0.1118, 0.1118],\n",
       "           [0.1377, 0.1377, 0.1377, 0.1377],\n",
       "           [0.1631, 0.1631, 0.1631, 0.1631],\n",
       "           [0.1895, 0.1895, 0.1895, 0.1895],\n",
       "           [0.2236, 0.2236, 0.2236, 0.2236],\n",
       "           [0.2773, 0.2773, 0.2773, 0.2773],\n",
       "           [0.3262, 0.3262, 0.3262, 0.3262],\n",
       "           [0.3789, 0.3789, 0.3789, 0.3789],\n",
       "           [0.4297, 0.4297, 0.4297, 0.4297],\n",
       "           [0.4805, 0.4805, 0.4805, 0.4805],\n",
       "           [0.5312, 0.5312, 0.5312, 0.5312],\n",
       "           [0.5859, 0.5859, 0.5859, 0.5859]]]], device='cuda:0', dtype=torch.bfloat16),\n",
       " torch.Size([1, 1, 16, 4]))"
      ]
     },
     "execution_count": 21,
     "metadata": {},
     "output_type": "execute_result"
    }
   ],
   "source": [
    "# cuda kernel\n",
    "rs = qkvkernel(mat_Q=qs, mat_K=ks, mat_V=vs)\n",
    "rs, rs.shape"
   ]
  },
  {
   "cell_type": "markdown",
   "metadata": {},
   "source": [
    "### Matmul kernel Test from vlstm_v2"
   ]
  },
  {
   "cell_type": "code",
   "execution_count": 10,
   "metadata": {
    "notebookRunGroups": {
     "groupValue": ""
    }
   },
   "outputs": [],
   "source": [
    "# from src.vlstm_v3.interface import testkernel, copykernel, mmkernelv1"
   ]
  },
  {
   "cell_type": "code",
   "execution_count": 7,
   "metadata": {
    "notebookRunGroups": {
     "groupValue": "1"
    }
   },
   "outputs": [],
   "source": [
    "DTYPE = torch.bfloat16\n",
    "DEVICE = torch.device(\"cuda:0\")"
   ]
  },
  {
   "cell_type": "code",
   "execution_count": 12,
   "metadata": {
    "notebookRunGroups": {
     "groupValue": ""
    }
   },
   "outputs": [],
   "source": [
    "S = 8 # sequence length\n",
    "DH = 8 # hidden size"
   ]
  },
  {
   "cell_type": "code",
   "execution_count": 13,
   "metadata": {
    "notebookRunGroups": {
     "groupValue": ""
    }
   },
   "outputs": [
    {
     "data": {
      "text/plain": [
       "(torch.Size([16, 8]),\n",
       " torch.Size([8, 8]),\n",
       " tensor([[  0.,   1.,   2.,   3.,   4.,   5.,   6.,   7.],\n",
       "         [  8.,   9.,  10.,  11.,  12.,  13.,  14.,  15.],\n",
       "         [ 16.,  17.,  18.,  19.,  20.,  21.,  22.,  23.],\n",
       "         [ 24.,  25.,  26.,  27.,  28.,  29.,  30.,  31.],\n",
       "         [ 32.,  33.,  34.,  35.,  36.,  37.,  38.,  39.],\n",
       "         [ 40.,  41.,  42.,  43.,  44.,  45.,  46.,  47.],\n",
       "         [ 48.,  49.,  50.,  51.,  52.,  53.,  54.,  55.],\n",
       "         [ 56.,  57.,  58.,  59.,  60.,  61.,  62.,  63.],\n",
       "         [ 64.,  65.,  66.,  67.,  68.,  69.,  70.,  71.],\n",
       "         [ 72.,  73.,  74.,  75.,  76.,  77.,  78.,  79.],\n",
       "         [ 80.,  81.,  82.,  83.,  84.,  85.,  86.,  87.],\n",
       "         [ 88.,  89.,  90.,  91.,  92.,  93.,  94.,  95.],\n",
       "         [ 96.,  97.,  98.,  99., 100., 101., 102., 103.],\n",
       "         [104., 105., 106., 107., 108., 109., 110., 111.],\n",
       "         [112., 113., 114., 115., 116., 117., 118., 119.],\n",
       "         [120., 121., 122., 123., 124., 125., 126., 127.]], device='cuda:0', dtype=torch.bfloat16),\n",
       " tensor([ 28.,  92., 156., 220., 284., 348., 412., 476., 540., 604., 668., 732., 796., 860., 924., 988.], device='cuda:0', dtype=torch.bfloat16))"
      ]
     },
     "execution_count": 13,
     "metadata": {},
     "output_type": "execute_result"
    }
   ],
   "source": [
    "matA = torch.arange((2*S * DH), device=DEVICE, dtype=DTYPE).reshape((2*S, DH))\n",
    "matB = torch.ones((DH, S), device=DEVICE, dtype=DTYPE)\n",
    "matA.shape, matB.shape, matA, matA.sum(-1)"
   ]
  },
  {
   "cell_type": "code",
   "execution_count": 14,
   "metadata": {
    "notebookRunGroups": {
     "groupValue": ""
    }
   },
   "outputs": [
    {
     "data": {
      "text/plain": [
       "(tensor([[ 28.,  28.,  28.,  28.,  28.,  28.,  28.,  28.],\n",
       "         [ 92.,  92.,  92.,  92.,  92.,  92.,  92.,  92.],\n",
       "         [156., 156., 156., 156., 156., 156., 156., 156.],\n",
       "         [220., 220., 220., 220., 220., 220., 220., 220.],\n",
       "         [284., 284., 284., 284., 284., 284., 284., 284.],\n",
       "         [348., 348., 348., 348., 348., 348., 348., 348.],\n",
       "         [412., 412., 412., 412., 412., 412., 412., 412.],\n",
       "         [476., 476., 476., 476., 476., 476., 476., 476.],\n",
       "         [540., 540., 540., 540., 540., 540., 540., 540.],\n",
       "         [604., 604., 604., 604., 604., 604., 604., 604.],\n",
       "         [668., 668., 668., 668., 668., 668., 668., 668.],\n",
       "         [732., 732., 732., 732., 732., 732., 732., 732.],\n",
       "         [796., 796., 796., 796., 796., 796., 796., 796.],\n",
       "         [860., 860., 860., 860., 860., 860., 860., 860.],\n",
       "         [924., 924., 924., 924., 924., 924., 924., 924.],\n",
       "         [988., 988., 988., 988., 988., 988., 988., 988.]], device='cuda:0', dtype=torch.bfloat16),\n",
       " torch.Size([16, 8]))"
      ]
     },
     "execution_count": 14,
     "metadata": {},
     "output_type": "execute_result"
    }
   ],
   "source": [
    "# pytorch\n",
    "pt_out = matA @ matB\n",
    "pt_out, pt_out.shape"
   ]
  },
  {
   "cell_type": "code",
   "execution_count": 15,
   "metadata": {
    "notebookRunGroups": {
     "groupValue": ""
    }
   },
   "outputs": [
    {
     "data": {
      "text/plain": [
       "(True, True)"
      ]
     },
     "execution_count": 15,
     "metadata": {},
     "output_type": "execute_result"
    }
   ],
   "source": [
    "matA.is_contiguous(), matB.is_contiguous()"
   ]
  },
  {
   "cell_type": "code",
   "execution_count": 16,
   "metadata": {
    "notebookRunGroups": {
     "groupValue": ""
    }
   },
   "outputs": [
    {
     "ename": "NameError",
     "evalue": "name 'mmkernelv1' is not defined",
     "output_type": "error",
     "traceback": [
      "\u001b[0;31m---------------------------------------------------------------------------\u001b[0m",
      "\u001b[0;31mNameError\u001b[0m                                 Traceback (most recent call last)",
      "\u001b[1;32m/home/max/myrepos/vlstm_cuda/vlstm_v4.ipynb Cell 18\u001b[0m line \u001b[0;36m1\n\u001b[0;32m----> <a href='vscode-notebook-cell:/home/max/myrepos/vlstm_cuda/vlstm_v4.ipynb#X22sZmlsZQ%3D%3D?line=0'>1</a>\u001b[0m cu_out \u001b[39m=\u001b[39m mmkernelv1(mat_A\u001b[39m=\u001b[39mmatA, mat_B\u001b[39m=\u001b[39mmatB)\n\u001b[1;32m      <a href='vscode-notebook-cell:/home/max/myrepos/vlstm_cuda/vlstm_v4.ipynb#X22sZmlsZQ%3D%3D?line=1'>2</a>\u001b[0m cu_out, cu_out\u001b[39m.\u001b[39mshape\n",
      "\u001b[0;31mNameError\u001b[0m: name 'mmkernelv1' is not defined"
     ]
    }
   ],
   "source": [
    "cu_out = mmkernelv1(mat_A=matA, mat_B=matB)\n",
    "cu_out, cu_out.shape"
   ]
  },
  {
   "cell_type": "code",
   "execution_count": null,
   "metadata": {},
   "outputs": [],
   "source": [
    "matA[9]"
   ]
  },
  {
   "cell_type": "code",
   "execution_count": null,
   "metadata": {},
   "outputs": [],
   "source": [
    "matA[9].cumsum(-1)"
   ]
  },
  {
   "cell_type": "code",
   "execution_count": null,
   "metadata": {},
   "outputs": [],
   "source": [
    "torch.arange(72,80, dtype=torch.bfloat16, device=torch.device('cuda:0')).cumsum(-1)"
   ]
  },
  {
   "cell_type": "code",
   "execution_count": null,
   "metadata": {},
   "outputs": [],
   "source": [
    "torch.arange(72,80, dtype=torch.bfloat16, device=torch.device('cpu')).cumsum(-1)"
   ]
  },
  {
   "cell_type": "code",
   "execution_count": null,
   "metadata": {},
   "outputs": [],
   "source": [
    "torch.arange(72,80, dtype=torch.float32, device=torch.device('cpu')).cumsum(-1)"
   ]
  },
  {
   "cell_type": "code",
   "execution_count": null,
   "metadata": {},
   "outputs": [],
   "source": [
    "torch.arange(72,80, dtype=torch.float16, device=torch.device('cuda:0')).cumsum(-1)"
   ]
  },
  {
   "cell_type": "code",
   "execution_count": null,
   "metadata": {},
   "outputs": [],
   "source": []
  },
  {
   "cell_type": "code",
   "execution_count": 8,
   "metadata": {
    "notebookRunGroups": {
     "groupValue": "1"
    }
   },
   "outputs": [],
   "source": [
    "# cu_out = mmkernelv2(mat_A=matA, mat_B=matB)\n",
    "# cu_out, cu_out.shape"
   ]
  },
  {
   "cell_type": "code",
   "execution_count": null,
   "metadata": {},
   "outputs": [],
   "source": [
    "# mat @ mat.T @ mat"
   ]
  },
  {
   "cell_type": "markdown",
   "metadata": {},
   "source": [
    "### pytorch version"
   ]
  },
  {
   "cell_type": "code",
   "execution_count": null,
   "metadata": {},
   "outputs": [],
   "source": [
    "H = 6 # hidden size\n",
    "S = 5 # seq len\n",
    "B = 1 # batch size\n",
    "NH = 2 # num heads\n",
    "DH = H // NH # dim per head\n",
    "DTYPE = torch.bfloat16\n",
    "DEVICE = torch.device(\"cuda:0\")\n",
    "assert H % NH == 0"
   ]
  },
  {
   "cell_type": "code",
   "execution_count": null,
   "metadata": {},
   "outputs": [],
   "source": [
    "# create qkv, inputgates, forgetgates \n",
    "torch.manual_seed(0)\n",
    "qs = torch.randn((B, NH, S, DH), device=DEVICE, dtype=DTYPE)\n",
    "ks = torch.randn((B, NH, S, DH), device=DEVICE, dtype=DTYPE)\n",
    "vs = torch.randn((B, NH, S, DH), device=DEVICE, dtype=DTYPE)\n",
    "ds = torch.rand((B, NH, S, S), device=DEVICE, dtype=DTYPE)\n",
    "\n",
    "max_log_D, _ = torch.max(ds.view(B, NH, -1), dim=-1, keepdim=True)  # (B, NH, 1)\n",
    "log_D_matrix_stabilized = ds - max_log_D.unsqueeze(-1)  # (B, NH, S, S) = (B, NH, S, S) - (B, NH, 1, 1)\n",
    "D_matrix = torch.exp(log_D_matrix_stabilized)  # (B, NH, S, S)\n",
    "mval = torch.exp(-max_log_D.unsqueeze(-1))"
   ]
  },
  {
   "cell_type": "code",
   "execution_count": null,
   "metadata": {},
   "outputs": [],
   "source": []
  }
 ],
 "metadata": {
  "kernelspec": {
   "display_name": "xlstmpt21cu121",
   "language": "python",
   "name": "python3"
  },
  "language_info": {
   "codemirror_mode": {
    "name": "ipython",
    "version": 3
   },
   "file_extension": ".py",
   "mimetype": "text/x-python",
   "name": "python",
   "nbconvert_exporter": "python",
   "pygments_lexer": "ipython3",
   "version": "3.11.6"
  }
 },
 "nbformat": 4,
 "nbformat_minor": 2
}
