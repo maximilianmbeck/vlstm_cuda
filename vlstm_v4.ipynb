{
 "cells": [
  {
   "cell_type": "code",
   "execution_count": 1,
   "metadata": {
    "notebookRunGroups": {
     "groupValue": "1"
    }
   },
   "outputs": [
    {
     "data": {
      "text/plain": [
       "True"
      ]
     },
     "execution_count": 1,
     "metadata": {},
     "output_type": "execute_result"
    }
   ],
   "source": [
    "import sys\n",
    "import os\n",
    "\n",
    "os.environ[\"CUDA_VISIBLE_DEVICES\"] = \"0\"\n",
    "sys.path.append(\".\")\n",
    "# os.environ[\"MAX_JOBS\"] = \"100\"\n",
    "\n",
    "import torch\n",
    "torch.cuda.is_available()"
   ]
  },
  {
   "cell_type": "code",
   "execution_count": 2,
   "metadata": {
    "notebookRunGroups": {
     "groupValue": "1"
    }
   },
   "outputs": [
    {
     "name": "stdout",
     "output_type": "stream",
     "text": [
      "INCLUDE: ['/home/max/miniconda3/envs/xlstmpt21cu118/lib/python3.11/site-packages/torch/include', '/home/max/miniconda3/envs/xlstmpt21cu118/lib/python3.11/site-packages/torch/include/torch/csrc/api/include', '/home/max/miniconda3/envs/xlstmpt21cu118/lib/python3.11/site-packages/torch/include/TH', '/home/max/miniconda3/envs/xlstmpt21cu118/lib/python3.11/site-packages/torch/include/THC', '/home/max/miniconda3/envs/xlstmpt21cu118/include']\n",
      "/home/max/myrepos/vlstm_cuda/src\n",
      "/home/max/cpplibs/libtorch/lib:/usr/local/cuda-12.3/lib64:\n",
      "/home/max/miniconda3/envs/xlstmpt21cu118/lib\n"
     ]
    },
    {
     "name": "stderr",
     "output_type": "stream",
     "text": [
      "Using /home/max/.cache/torch_extensions/py311_cu118 as PyTorch extensions root...\n",
      "Creating extension directory /home/max/.cache/torch_extensions/py311_cu118/vlstm_v4...\n",
      "Detected CUDA files, patching ldflags\n",
      "Emitting ninja build file /home/max/.cache/torch_extensions/py311_cu118/vlstm_v4/build.ninja...\n",
      "Building extension module vlstm_v4...\n",
      "Allowing ninja to set a default number of workers... (overridable by setting the environment variable MAX_JOBS=N)\n"
     ]
    },
    {
     "name": "stdout",
     "output_type": "stream",
     "text": [
      "[1/3] /home/max/miniconda3/envs/xlstmpt21cu118/bin/x86_64-conda-linux-gnu-c++ -MMD -MF interface.o.d -DTORCH_EXTENSION_NAME=vlstm_v4 -DTORCH_API_INCLUDE_EXTENSION_H -DPYBIND11_COMPILER_TYPE=\\\"_gcc\\\" -DPYBIND11_STDLIB=\\\"_libstdcpp\\\" -DPYBIND11_BUILD_ABI=\\\"_cxxabi1011\\\" -isystem /home/max/miniconda3/envs/xlstmpt21cu118/lib/python3.11/site-packages/torch/include -isystem /home/max/miniconda3/envs/xlstmpt21cu118/lib/python3.11/site-packages/torch/include/torch/csrc/api/include -isystem /home/max/miniconda3/envs/xlstmpt21cu118/lib/python3.11/site-packages/torch/include/TH -isystem /home/max/miniconda3/envs/xlstmpt21cu118/lib/python3.11/site-packages/torch/include/THC -isystem /home/max/miniconda3/envs/xlstmpt21cu118/include -isystem /home/max/miniconda3/envs/xlstmpt21cu118/include/python3.11 -D_GLIBCXX_USE_CXX11_ABI=0 -fPIC -std=c++17 -c /home/max/myrepos/vlstm_cuda/src/vlstm_v4/interface.cc -o interface.o \n",
      "[2/3] /home/max/miniconda3/envs/xlstmpt21cu118/bin/nvcc  -ccbin /home/max/miniconda3/envs/xlstmpt21cu118/bin/x86_64-conda-linux-gnu-cc -DTORCH_EXTENSION_NAME=vlstm_v4 -DTORCH_API_INCLUDE_EXTENSION_H -DPYBIND11_COMPILER_TYPE=\\\"_gcc\\\" -DPYBIND11_STDLIB=\\\"_libstdcpp\\\" -DPYBIND11_BUILD_ABI=\\\"_cxxabi1011\\\" -isystem /home/max/miniconda3/envs/xlstmpt21cu118/lib/python3.11/site-packages/torch/include -isystem /home/max/miniconda3/envs/xlstmpt21cu118/lib/python3.11/site-packages/torch/include/torch/csrc/api/include -isystem /home/max/miniconda3/envs/xlstmpt21cu118/lib/python3.11/site-packages/torch/include/TH -isystem /home/max/miniconda3/envs/xlstmpt21cu118/lib/python3.11/site-packages/torch/include/THC -isystem /home/max/miniconda3/envs/xlstmpt21cu118/include -isystem /home/max/miniconda3/envs/xlstmpt21cu118/include/python3.11 -D_GLIBCXX_USE_CXX11_ABI=0 -D__CUDA_NO_HALF_OPERATORS__ -D__CUDA_NO_HALF_CONVERSIONS__ -D__CUDA_NO_BFLOAT16_CONVERSIONS__ -D__CUDA_NO_HALF2_OPERATORS__ --expt-relaxed-constexpr -gencode=arch=compute_89,code=compute_89 -gencode=arch=compute_89,code=sm_89 --compiler-options '-fPIC' -gencode arch=compute_80,code=compute_80 -res-usage --use_fast_math -O3 -Xptxas -O3 --extra-device-vectorization -DTmax=13407807929942597099574024998205846127479365820592393377723561443721764030073546976801874298166903427690031858186486050853753882811946569946433649006084096 -std=c++17 -c /home/max/myrepos/vlstm_cuda/src/vlstm_v4/kernels.cu -o kernels.cuda.o \n",
      "/home/max/myrepos/vlstm_cuda/src/vlstm_v4/../util/inline_ops.cuh(255): remark #20200-D: #pragma message: \"/home/max/myrepos/vlstm_cuda/src/vlstm_v4/../util/inline_ops.cuh:255 CUDART_VERSION: 11080, arch: 800\"\n",
      "\n",
      "/home/max/myrepos/vlstm_cuda/src/vlstm_v4/../util/inline_ops.cuh(260): remark #20200-D: #pragma message: \"INCLUDING FP16\"\n",
      "\n",
      "/home/max/myrepos/vlstm_cuda/src/vlstm_v4/../util/inline_ops_fp16.cuh(29): remark #20200-D: #pragma message: \"/home/max/myrepos/vlstm_cuda/src/vlstm_v4/../util/inline_ops_fp16.cuh:29 CUDART_VERSION with FP16: 11080, CUDA_ARCH: 800\"\n",
      "\n",
      "/home/max/myrepos/vlstm_cuda/src/vlstm_v4/../util/inline_ops_2fp16.cuh(29): remark #20200-D: #pragma message: \"/home/max/myrepos/vlstm_cuda/src/vlstm_v4/../util/inline_ops_2fp16.cuh:29 CUDART_VERSION with FP16: 11080, CUDA_ARCH: 800\"\n",
      "\n",
      "/home/max/myrepos/vlstm_cuda/src/vlstm_v4/../util/inline_ops.cuh(273): remark #20200-D: #pragma message: \"INCLUDING BF16\"\n",
      "\n",
      "/home/max/myrepos/vlstm_cuda/src/vlstm_v4/../util/inline_ops_bf16.cuh(29): remark #20200-D: #pragma message: \"/home/max/myrepos/vlstm_cuda/src/vlstm_v4/../util/inline_ops_bf16.cuh:29 CUDART_VERSION with BF16: 11080, CUDA_ARCH: 800\"\n",
      "\n",
      "/home/max/myrepos/vlstm_cuda/src/vlstm_v4/../util/inline_ops_2bf16.cuh(29): remark #20200-D: #pragma message: \"/home/max/myrepos/vlstm_cuda/src/vlstm_v4/../util/inline_ops_2bf16.cuh:29 CUDART_VERSION with FP16: 11080, CUDA_ARCH: 800\"\n",
      "\n",
      "/home/max/myrepos/vlstm_cuda/src/vlstm_v4/kernels.cu(85): warning #177-D: variable \"tileX\" was declared but never referenced\n",
      "          detected during instantiation of \"void vlstm::kernel_dispatchers::qkvkernel_dispatch(scalar_t *, scalar_t *, scalar_t *, scalar_t *, int, int, int, int) [with scalar_t=__nv_bfloat16]\" \n",
      "(417): here\n",
      "\n",
      "/home/max/myrepos/vlstm_cuda/src/vlstm_v4/kernels.cu(86): warning #177-D: variable \"tileY\" was declared but never referenced\n",
      "          detected during instantiation of \"void vlstm::kernel_dispatchers::qkvkernel_dispatch(scalar_t *, scalar_t *, scalar_t *, scalar_t *, int, int, int, int) [with scalar_t=__nv_bfloat16]\" \n",
      "(417): here\n",
      "\n",
      "/home/max/myrepos/vlstm_cuda/src/vlstm_v4/../util/inline_ops.cuh(255): remark #20200-D: #pragma message: \"/home/max/myrepos/vlstm_cuda/src/vlstm_v4/../util/inline_ops.cuh:255 CUDART_VERSION: 11080, arch: 890\"\n",
      "\n",
      "/home/max/myrepos/vlstm_cuda/src/vlstm_v4/../util/inline_ops.cuh(260): remark #20200-D: #pragma message: \"INCLUDING FP16\"\n",
      "\n",
      "/home/max/myrepos/vlstm_cuda/src/vlstm_v4/../util/inline_ops_fp16.cuh(29): remark #20200-D: #pragma message: \"/home/max/myrepos/vlstm_cuda/src/vlstm_v4/../util/inline_ops_fp16.cuh:29 CUDART_VERSION with FP16: 11080, CUDA_ARCH: 890\"\n",
      "\n",
      "/home/max/myrepos/vlstm_cuda/src/vlstm_v4/../util/inline_ops_2fp16.cuh(29): remark #20200-D: #pragma message: \"/home/max/myrepos/vlstm_cuda/src/vlstm_v4/../util/inline_ops_2fp16.cuh:29 CUDART_VERSION with FP16: 11080, CUDA_ARCH: 890\"\n",
      "\n",
      "/home/max/myrepos/vlstm_cuda/src/vlstm_v4/../util/inline_ops.cuh(273): remark #20200-D: #pragma message: \"INCLUDING BF16\"\n",
      "\n",
      "/home/max/myrepos/vlstm_cuda/src/vlstm_v4/../util/inline_ops_bf16.cuh(29): remark #20200-D: #pragma message: \"/home/max/myrepos/vlstm_cuda/src/vlstm_v4/../util/inline_ops_bf16.cuh:29 CUDART_VERSION with BF16: 11080, CUDA_ARCH: 890\"\n",
      "\n",
      "/home/max/myrepos/vlstm_cuda/src/vlstm_v4/../util/inline_ops_2bf16.cuh(29): remark #20200-D: #pragma message: \"/home/max/myrepos/vlstm_cuda/src/vlstm_v4/../util/inline_ops_2bf16.cuh:29 CUDART_VERSION with FP16: 11080, CUDA_ARCH: 890\"\n",
      "\n",
      "/home/max/myrepos/vlstm_cuda/src/vlstm_v4/kernels.cu(85): warning #177-D: variable \"tileX\" was declared but never referenced\n",
      "          detected during instantiation of \"void vlstm::kernel_dispatchers::qkvkernel_dispatch(scalar_t *, scalar_t *, scalar_t *, scalar_t *, int, int, int, int) [with scalar_t=__nv_bfloat16]\" \n",
      "(417): here\n",
      "\n",
      "/home/max/myrepos/vlstm_cuda/src/vlstm_v4/kernels.cu(86): warning #177-D: variable \"tileY\" was declared but never referenced\n",
      "          detected during instantiation of \"void vlstm::kernel_dispatchers::qkvkernel_dispatch(scalar_t *, scalar_t *, scalar_t *, scalar_t *, int, int, int, int) [with scalar_t=__nv_bfloat16]\" \n",
      "(417): here\n",
      "\n",
      "ptxas info    : 268 bytes gmem\n",
      "ptxas info    : Compiling entry function '_ZN5vlstm7kernels9qkvkernelIfLi4ELi8ELi8EEEvPT_S3_S3_S3_iiii' for 'sm_89'\n",
      "ptxas info    : Function properties for _ZN5vlstm7kernels9qkvkernelIfLi4ELi8ELi8EEEvPT_S3_S3_S3_iiii\n",
      "    32 bytes stack frame, 0 bytes spill stores, 0 bytes spill loads\n",
      "ptxas info    : Used 64 registers, 8448 bytes smem, 400 bytes cmem[0]\n",
      "ptxas info    : Compiling entry function '_ZN5vlstm7kernels9qkvkernelI6__halfLi4ELi8ELi8EEEvPT_S4_S4_S4_iiii' for 'sm_89'\n",
      "ptxas info    : Function properties for _ZN5vlstm7kernels9qkvkernelI6__halfLi4ELi8ELi8EEEvPT_S4_S4_S4_iiii\n",
      "    32 bytes stack frame, 0 bytes spill stores, 0 bytes spill loads\n",
      "ptxas info    : Used 63 registers, 4224 bytes smem, 400 bytes cmem[0]\n",
      "ptxas info    : Compiling entry function '_ZN5vlstm7kernels9qkvkernelI13__nv_bfloat16Li4ELi8ELi8EEEvPT_S4_S4_S4_iiii' for 'sm_89'\n",
      "ptxas info    : Function properties for _ZN5vlstm7kernels9qkvkernelI13__nv_bfloat16Li4ELi8ELi8EEEvPT_S4_S4_S4_iiii\n",
      "    32 bytes stack frame, 0 bytes spill stores, 0 bytes spill loads\n",
      "ptxas info    : Used 64 registers, 4224 bytes smem, 400 bytes cmem[0]\n",
      "/home/max/myrepos/vlstm_cuda/src/vlstm_v4/../util/inline_ops.cuh:255:133: note: '#pragma message: /home/max/myrepos/vlstm_cuda/src/vlstm_v4/../util/inline_ops.cuh:255 CUDART_VERSION: 11080, arch: __CUDA_ARCH__'\n",
      "  255 | #pragma message(AT \" CUDART_VERSION: \" TOSTRING(                               \\\n",
      "      |                                                                                                                                     ^\n",
      "/home/max/myrepos/vlstm_cuda/src/vlstm_v4/../util/inline_ops.cuh:267:90: note: '#pragma message: SKIPPING FP16, because of CUDART_VERSION: 11080, arch: __CUDA_ARCH__'\n",
      "  267 | #pragma message(\"SKIPPING FP16, because of CUDART_VERSION: \" TOSTRING(         \\\n",
      "      |                                                                                          ^\n",
      "/home/max/myrepos/vlstm_cuda/src/vlstm_v4/../util/inline_ops.cuh:280:90: note: '#pragma message: SKIPPING BF16, because of CUDART_VERSION: 11080, arch: __CUDA_ARCH__'\n",
      "  280 | #pragma message(\"SKIPPING BF16, because of CUDART_VERSION: \" TOSTRING(         \\\n",
      "      |                                                                                          ^\n",
      "[3/3] /home/max/miniconda3/envs/xlstmpt21cu118/bin/x86_64-conda-linux-gnu-c++ interface.o kernels.cuda.o -shared -L/home/max/miniconda3/envs/xlstmpt21cu118/lib -lcublas -L/home/max/miniconda3/envs/xlstmpt21cu118/lib/python3.11/site-packages/torch/lib -lc10 -lc10_cuda -ltorch_cpu -ltorch_cuda -ltorch -ltorch_python -L/home/max/miniconda3/envs/xlstmpt21cu118/lib -lcudart -o vlstm_v4.so\n"
     ]
    },
    {
     "name": "stderr",
     "output_type": "stream",
     "text": [
      "Loading extension module vlstm_v4...\n"
     ]
    }
   ],
   "source": [
    "from src.vlstm_v4.interface import qkvkernel"
   ]
  },
  {
   "cell_type": "markdown",
   "metadata": {},
   "source": [
    "### qkvtest"
   ]
  },
  {
   "cell_type": "code",
   "execution_count": 3,
   "metadata": {
    "notebookRunGroups": {
     "groupValue": "1"
    }
   },
   "outputs": [],
   "source": [
    "S = 16 # seq len\n",
    "B = 1 # batch size\n",
    "NH = 2 # num heads\n",
    "DH = 4 # dim per head\n",
    "DTYPE = torch.float32\n",
    "DEVICE = torch.device(\"cuda:0\")"
   ]
  },
  {
   "cell_type": "code",
   "execution_count": 9,
   "metadata": {
    "notebookRunGroups": {
     "groupValue": "1"
    }
   },
   "outputs": [
    {
     "data": {
      "text/plain": [
       "(tensor([[[[  0.,   1.,   2.,   3.],\n",
       "           [  4.,   5.,   6.,   7.],\n",
       "           [  8.,   9.,  10.,  11.],\n",
       "           [ 12.,  13.,  14.,  15.],\n",
       "           [ 16.,  17.,  18.,  19.],\n",
       "           [ 20.,  21.,  22.,  23.],\n",
       "           [ 24.,  25.,  26.,  27.],\n",
       "           [ 28.,  29.,  30.,  31.],\n",
       "           [ 32.,  33.,  34.,  35.],\n",
       "           [ 36.,  37.,  38.,  39.],\n",
       "           [ 40.,  41.,  42.,  43.],\n",
       "           [ 44.,  45.,  46.,  47.],\n",
       "           [ 48.,  49.,  50.,  51.],\n",
       "           [ 52.,  53.,  54.,  55.],\n",
       "           [ 56.,  57.,  58.,  59.],\n",
       "           [ 60.,  61.,  62.,  63.]],\n",
       " \n",
       "          [[ 64.,  65.,  66.,  67.],\n",
       "           [ 68.,  69.,  70.,  71.],\n",
       "           [ 72.,  73.,  74.,  75.],\n",
       "           [ 76.,  77.,  78.,  79.],\n",
       "           [ 80.,  81.,  82.,  83.],\n",
       "           [ 84.,  85.,  86.,  87.],\n",
       "           [ 88.,  89.,  90.,  91.],\n",
       "           [ 92.,  93.,  94.,  95.],\n",
       "           [ 96.,  97.,  98.,  99.],\n",
       "           [100., 101., 102., 103.],\n",
       "           [104., 105., 106., 107.],\n",
       "           [108., 109., 110., 111.],\n",
       "           [112., 113., 114., 115.],\n",
       "           [116., 117., 118., 119.],\n",
       "           [120., 121., 122., 123.],\n",
       "           [124., 125., 126., 127.]]]], device='cuda:0', dtype=torch.bfloat16),\n",
       " torch.Size([1, 2, 16, 4]))"
      ]
     },
     "execution_count": 9,
     "metadata": {},
     "output_type": "execute_result"
    }
   ],
   "source": [
    "# create qkv, inputgates, forgetgates \n",
    "torch.manual_seed(0)\n",
    "qs = torch.arange((B*NH*S*DH), device=DEVICE, dtype=DTYPE).reshape((B, NH, S, DH)) #/ 100.\n",
    "ks = torch.ones((B, NH, S, DH), device=DEVICE, dtype=DTYPE) #/ 10.\n",
    "vs = torch.ones((B, NH, S, DH), device=DEVICE, dtype=DTYPE) #/ 10.\n",
    "qs, qs.shape"
   ]
  },
  {
   "cell_type": "code",
   "execution_count": 10,
   "metadata": {},
   "outputs": [
    {
     "data": {
      "text/plain": [
       "(tensor([[[[  6.,   6.,   6.,   6.,   6.,   6.,   6.,   6.,   6.,   6.,   6.,   6.,   6.,   6.,   6.,   6.],\n",
       "           [ 22.,  22.,  22.,  22.,  22.,  22.,  22.,  22.,  22.,  22.,  22.,  22.,  22.,  22.,  22.,  22.],\n",
       "           [ 38.,  38.,  38.,  38.,  38.,  38.,  38.,  38.,  38.,  38.,  38.,  38.,  38.,  38.,  38.,  38.],\n",
       "           [ 54.,  54.,  54.,  54.,  54.,  54.,  54.,  54.,  54.,  54.,  54.,  54.,  54.,  54.,  54.,  54.],\n",
       "           [ 70.,  70.,  70.,  70.,  70.,  70.,  70.,  70.,  70.,  70.,  70.,  70.,  70.,  70.,  70.,  70.],\n",
       "           [ 86.,  86.,  86.,  86.,  86.,  86.,  86.,  86.,  86.,  86.,  86.,  86.,  86.,  86.,  86.,  86.],\n",
       "           [102., 102., 102., 102., 102., 102., 102., 102., 102., 102., 102., 102., 102., 102., 102., 102.],\n",
       "           [118., 118., 118., 118., 118., 118., 118., 118., 118., 118., 118., 118., 118., 118., 118., 118.],\n",
       "           [134., 134., 134., 134., 134., 134., 134., 134., 134., 134., 134., 134., 134., 134., 134., 134.],\n",
       "           [150., 150., 150., 150., 150., 150., 150., 150., 150., 150., 150., 150., 150., 150., 150., 150.],\n",
       "           [166., 166., 166., 166., 166., 166., 166., 166., 166., 166., 166., 166., 166., 166., 166., 166.],\n",
       "           [182., 182., 182., 182., 182., 182., 182., 182., 182., 182., 182., 182., 182., 182., 182., 182.],\n",
       "           [198., 198., 198., 198., 198., 198., 198., 198., 198., 198., 198., 198., 198., 198., 198., 198.],\n",
       "           [214., 214., 214., 214., 214., 214., 214., 214., 214., 214., 214., 214., 214., 214., 214., 214.],\n",
       "           [230., 230., 230., 230., 230., 230., 230., 230., 230., 230., 230., 230., 230., 230., 230., 230.],\n",
       "           [246., 246., 246., 246., 246., 246., 246., 246., 246., 246., 246., 246., 246., 246., 246., 246.]],\n",
       " \n",
       "          [[262., 262., 262., 262., 262., 262., 262., 262., 262., 262., 262., 262., 262., 262., 262., 262.],\n",
       "           [278., 278., 278., 278., 278., 278., 278., 278., 278., 278., 278., 278., 278., 278., 278., 278.],\n",
       "           [294., 294., 294., 294., 294., 294., 294., 294., 294., 294., 294., 294., 294., 294., 294., 294.],\n",
       "           [310., 310., 310., 310., 310., 310., 310., 310., 310., 310., 310., 310., 310., 310., 310., 310.],\n",
       "           [326., 326., 326., 326., 326., 326., 326., 326., 326., 326., 326., 326., 326., 326., 326., 326.],\n",
       "           [342., 342., 342., 342., 342., 342., 342., 342., 342., 342., 342., 342., 342., 342., 342., 342.],\n",
       "           [358., 358., 358., 358., 358., 358., 358., 358., 358., 358., 358., 358., 358., 358., 358., 358.],\n",
       "           [374., 374., 374., 374., 374., 374., 374., 374., 374., 374., 374., 374., 374., 374., 374., 374.],\n",
       "           [390., 390., 390., 390., 390., 390., 390., 390., 390., 390., 390., 390., 390., 390., 390., 390.],\n",
       "           [406., 406., 406., 406., 406., 406., 406., 406., 406., 406., 406., 406., 406., 406., 406., 406.],\n",
       "           [422., 422., 422., 422., 422., 422., 422., 422., 422., 422., 422., 422., 422., 422., 422., 422.],\n",
       "           [438., 438., 438., 438., 438., 438., 438., 438., 438., 438., 438., 438., 438., 438., 438., 438.],\n",
       "           [454., 454., 454., 454., 454., 454., 454., 454., 454., 454., 454., 454., 454., 454., 454., 454.],\n",
       "           [470., 470., 470., 470., 470., 470., 470., 470., 470., 470., 470., 470., 470., 470., 470., 470.],\n",
       "           [486., 486., 486., 486., 486., 486., 486., 486., 486., 486., 486., 486., 486., 486., 486., 486.],\n",
       "           [502., 502., 502., 502., 502., 502., 502., 502., 502., 502., 502., 502., 502., 502., 502., 502.]]]], device='cuda:0', dtype=torch.bfloat16),\n",
       " torch.Size([1, 2, 16, 16]))"
      ]
     },
     "execution_count": 10,
     "metadata": {},
     "output_type": "execute_result"
    }
   ],
   "source": [
    "torch.set_printoptions(linewidth=200)\n",
    "rs = qs @ ks.transpose(-1, -2)\n",
    "rs, rs.shape"
   ]
  },
  {
   "cell_type": "code",
   "execution_count": 11,
   "metadata": {
    "notebookRunGroups": {
     "groupValue": "1"
    }
   },
   "outputs": [
    {
     "data": {
      "text/plain": [
       "(tensor([[[[  96.,   96.,   96.,   96.],\n",
       "           [ 352.,  352.,  352.,  352.],\n",
       "           [ 608.,  608.,  608.,  608.],\n",
       "           [ 864.,  864.,  864.,  864.],\n",
       "           [1120., 1120., 1120., 1120.],\n",
       "           [1376., 1376., 1376., 1376.],\n",
       "           [1632., 1632., 1632., 1632.],\n",
       "           [1888., 1888., 1888., 1888.],\n",
       "           [2144., 2144., 2144., 2144.],\n",
       "           [2400., 2400., 2400., 2400.],\n",
       "           [2656., 2656., 2656., 2656.],\n",
       "           [2912., 2912., 2912., 2912.],\n",
       "           [3168., 3168., 3168., 3168.],\n",
       "           [3424., 3424., 3424., 3424.],\n",
       "           [3680., 3680., 3680., 3680.],\n",
       "           [3936., 3936., 3936., 3936.]],\n",
       " \n",
       "          [[4192., 4192., 4192., 4192.],\n",
       "           [4448., 4448., 4448., 4448.],\n",
       "           [4704., 4704., 4704., 4704.],\n",
       "           [4960., 4960., 4960., 4960.],\n",
       "           [5216., 5216., 5216., 5216.],\n",
       "           [5472., 5472., 5472., 5472.],\n",
       "           [5728., 5728., 5728., 5728.],\n",
       "           [5984., 5984., 5984., 5984.],\n",
       "           [6240., 6240., 6240., 6240.],\n",
       "           [6496., 6496., 6496., 6496.],\n",
       "           [6752., 6752., 6752., 6752.],\n",
       "           [7008., 7008., 7008., 7008.],\n",
       "           [7264., 7264., 7264., 7264.],\n",
       "           [7520., 7520., 7520., 7520.],\n",
       "           [7776., 7776., 7776., 7776.],\n",
       "           [8032., 8032., 8032., 8032.]]]], device='cuda:0', dtype=torch.bfloat16),\n",
       " torch.Size([1, 2, 16, 4]))"
      ]
     },
     "execution_count": 11,
     "metadata": {},
     "output_type": "execute_result"
    }
   ],
   "source": [
    "# pytorch version\n",
    "rs = qs @ ks.transpose(-1, -2) @ vs\n",
    "rs, rs.shape"
   ]
  },
  {
   "cell_type": "code",
   "execution_count": 12,
   "metadata": {
    "notebookRunGroups": {
     "groupValue": "1"
    }
   },
   "outputs": [
    {
     "name": "stdout",
     "output_type": "stream",
     "text": [
      "before kernel dispatch - bfloat16!\n",
      "B: 1, NH: 2, S: 16, DH: 4\n",
      "blocksxy: 1-1, threads: 4-4\n",
      "In Kernel: gdim.x: 1, gdim.y: 1, gdim.z: 1, bdim.x: 4, bdim.y: 4\n",
      "In Kernel: QtileDim: 8, KVtileDim: 8, TblockDim:4\n",
      "qTIdx=0|kvTIdx=0: qTile[3][3] = 15.000000\n",
      "qTIdx=0|kvTIdx=0: kTile[0][3] = 1.000000\n",
      "qTIdx=0|kvTIdx=0: sTile[3][0](3) = 54.000000\n",
      "qTIdx=0|kvTIdx=0: qTile[7][3] = 31.000000\n",
      "qTIdx=0|kvTIdx=0: kTile[0][3] = 1.000000\n",
      "qTIdx=0|kvTIdx=0: sTile[7][0](3) = 118.000000\n",
      "qTIdx=1|kvTIdx=0: qTile[3][3] = 47.000000\n",
      "qTIdx=1|kvTIdx=0: kTile[0][3] = 1.000000\n",
      "qTIdx=1|kvTIdx=0: sTile[3][0](3) = 182.000000\n",
      "qTIdx=1|kvTIdx=0: qTile[7][3] = 63.000000\n",
      "qTIdx=1|kvTIdx=0: kTile[0][3] = 1.000000\n",
      "qTIdx=1|kvTIdx=0: sTile[7][0](3) = 246.000000\n",
      "qTIdx=0|kvTIdx=0: qTile[3][3] = 79.000000\n",
      "qTIdx=0|kvTIdx=0: kTile[0][3] = 1.000000\n",
      "qTIdx=0|kvTIdx=0: sTile[3][0](3) = 310.000000\n",
      "qTIdx=0|kvTIdx=0: qTile[7][3] = 95.000000\n",
      "qTIdx=0|kvTIdx=0: kTile[0][3] = 1.000000\n",
      "qTIdx=0|kvTIdx=0: sTile[7][0](3) = 374.000000\n",
      "qTIdx=1|kvTIdx=0: qTile[3][3] = 111.000000\n",
      "qTIdx=1|kvTIdx=0: kTile[0][3] = 1.000000\n",
      "qTIdx=1|kvTIdx=0: sTile[3][0](3) = 438.000000\n",
      "qTIdx=1|kvTIdx=0: qTile[7][3] = 127.000000\n",
      "qTIdx=1|kvTIdx=0: kTile[0][3] = 1.000000\n",
      "qTIdx=1|kvTIdx=0: sTile[7][0](3) = 502.000000\n"
     ]
    },
    {
     "data": {
      "text/plain": [
       "(tensor([[[[   96.,    96.,    96.,    96.],\n",
       "           [  352.,   352.,   352.,   352.],\n",
       "           [  608.,   608.,   608.,   608.],\n",
       "           [  864.,   864.,   864.,   864.],\n",
       "           [ 1120.,  1120.,  1120.,  1120.],\n",
       "           [ 1376.,  1376.,  1376.,  1376.],\n",
       "           [ 1632.,  1632.,  1632.,  1632.],\n",
       "           [ 1888.,  1888.,  1888.,  1888.],\n",
       "           [ 2240.,  2240.,  2240.,  2240.],\n",
       "           [ 2752.,  2752.,  2752.,  2752.],\n",
       "           [ 3264.,  3264.,  3264.,  3264.],\n",
       "           [ 3776.,  3776.,  3776.,  3776.],\n",
       "           [ 4288.,  4288.,  4288.,  4288.],\n",
       "           [ 4800.,  4800.,  4800.,  4800.],\n",
       "           [ 5312.,  5312.,  5312.,  5312.],\n",
       "           [ 5824.,  5824.,  5824.,  5824.]],\n",
       " \n",
       "          [[ 6464.,  6464.,  6464.,  6464.],\n",
       "           [ 7232.,  7232.,  7232.,  7232.],\n",
       "           [ 8000.,  8000.,  8000.,  8000.],\n",
       "           [ 8768.,  8768.,  8768.,  8768.],\n",
       "           [ 9536.,  9536.,  9536.,  9536.],\n",
       "           [10304., 10304., 10304., 10304.],\n",
       "           [11072., 11072., 11072., 11072.],\n",
       "           [11840., 11840., 11840., 11840.],\n",
       "           [12736., 12736., 12736., 12736.],\n",
       "           [13760., 13760., 13760., 13760.],\n",
       "           [14784., 14784., 14784., 14784.],\n",
       "           [15808., 15808., 15808., 15808.],\n",
       "           [16768., 16768., 16768., 16768.],\n",
       "           [17792., 17792., 17792., 17792.],\n",
       "           [18816., 18816., 18816., 18816.],\n",
       "           [19840., 19840., 19840., 19840.]]]], device='cuda:0', dtype=torch.bfloat16),\n",
       " torch.Size([1, 2, 16, 4]))"
      ]
     },
     "execution_count": 12,
     "metadata": {},
     "output_type": "execute_result"
    }
   ],
   "source": [
    "# cuda kernel\n",
    "rs = qkvkernel(mat_Q=qs, mat_K=ks, mat_V=vs)\n",
    "rs, rs.shape"
   ]
  },
  {
   "cell_type": "markdown",
   "metadata": {},
   "source": [
    "### Matmul kernel Test from vlstm_v2"
   ]
  },
  {
   "cell_type": "code",
   "execution_count": 10,
   "metadata": {
    "notebookRunGroups": {
     "groupValue": ""
    }
   },
   "outputs": [],
   "source": [
    "# from src.vlstm_v3.interface import testkernel, copykernel, mmkernelv1"
   ]
  },
  {
   "cell_type": "code",
   "execution_count": 7,
   "metadata": {
    "notebookRunGroups": {
     "groupValue": "1"
    }
   },
   "outputs": [],
   "source": [
    "DTYPE = torch.bfloat16\n",
    "DEVICE = torch.device(\"cuda:0\")"
   ]
  },
  {
   "cell_type": "code",
   "execution_count": 12,
   "metadata": {
    "notebookRunGroups": {
     "groupValue": ""
    }
   },
   "outputs": [],
   "source": [
    "S = 8 # sequence length\n",
    "DH = 8 # hidden size"
   ]
  },
  {
   "cell_type": "code",
   "execution_count": 13,
   "metadata": {
    "notebookRunGroups": {
     "groupValue": ""
    }
   },
   "outputs": [
    {
     "data": {
      "text/plain": [
       "(torch.Size([16, 8]),\n",
       " torch.Size([8, 8]),\n",
       " tensor([[  0.,   1.,   2.,   3.,   4.,   5.,   6.,   7.],\n",
       "         [  8.,   9.,  10.,  11.,  12.,  13.,  14.,  15.],\n",
       "         [ 16.,  17.,  18.,  19.,  20.,  21.,  22.,  23.],\n",
       "         [ 24.,  25.,  26.,  27.,  28.,  29.,  30.,  31.],\n",
       "         [ 32.,  33.,  34.,  35.,  36.,  37.,  38.,  39.],\n",
       "         [ 40.,  41.,  42.,  43.,  44.,  45.,  46.,  47.],\n",
       "         [ 48.,  49.,  50.,  51.,  52.,  53.,  54.,  55.],\n",
       "         [ 56.,  57.,  58.,  59.,  60.,  61.,  62.,  63.],\n",
       "         [ 64.,  65.,  66.,  67.,  68.,  69.,  70.,  71.],\n",
       "         [ 72.,  73.,  74.,  75.,  76.,  77.,  78.,  79.],\n",
       "         [ 80.,  81.,  82.,  83.,  84.,  85.,  86.,  87.],\n",
       "         [ 88.,  89.,  90.,  91.,  92.,  93.,  94.,  95.],\n",
       "         [ 96.,  97.,  98.,  99., 100., 101., 102., 103.],\n",
       "         [104., 105., 106., 107., 108., 109., 110., 111.],\n",
       "         [112., 113., 114., 115., 116., 117., 118., 119.],\n",
       "         [120., 121., 122., 123., 124., 125., 126., 127.]], device='cuda:0', dtype=torch.bfloat16),\n",
       " tensor([ 28.,  92., 156., 220., 284., 348., 412., 476., 540., 604., 668., 732., 796., 860., 924., 988.], device='cuda:0', dtype=torch.bfloat16))"
      ]
     },
     "execution_count": 13,
     "metadata": {},
     "output_type": "execute_result"
    }
   ],
   "source": [
    "matA = torch.arange((2*S * DH), device=DEVICE, dtype=DTYPE).reshape((2*S, DH))\n",
    "matB = torch.ones((DH, S), device=DEVICE, dtype=DTYPE)\n",
    "matA.shape, matB.shape, matA, matA.sum(-1)"
   ]
  },
  {
   "cell_type": "code",
   "execution_count": 14,
   "metadata": {
    "notebookRunGroups": {
     "groupValue": ""
    }
   },
   "outputs": [
    {
     "data": {
      "text/plain": [
       "(tensor([[ 28.,  28.,  28.,  28.,  28.,  28.,  28.,  28.],\n",
       "         [ 92.,  92.,  92.,  92.,  92.,  92.,  92.,  92.],\n",
       "         [156., 156., 156., 156., 156., 156., 156., 156.],\n",
       "         [220., 220., 220., 220., 220., 220., 220., 220.],\n",
       "         [284., 284., 284., 284., 284., 284., 284., 284.],\n",
       "         [348., 348., 348., 348., 348., 348., 348., 348.],\n",
       "         [412., 412., 412., 412., 412., 412., 412., 412.],\n",
       "         [476., 476., 476., 476., 476., 476., 476., 476.],\n",
       "         [540., 540., 540., 540., 540., 540., 540., 540.],\n",
       "         [604., 604., 604., 604., 604., 604., 604., 604.],\n",
       "         [668., 668., 668., 668., 668., 668., 668., 668.],\n",
       "         [732., 732., 732., 732., 732., 732., 732., 732.],\n",
       "         [796., 796., 796., 796., 796., 796., 796., 796.],\n",
       "         [860., 860., 860., 860., 860., 860., 860., 860.],\n",
       "         [924., 924., 924., 924., 924., 924., 924., 924.],\n",
       "         [988., 988., 988., 988., 988., 988., 988., 988.]], device='cuda:0', dtype=torch.bfloat16),\n",
       " torch.Size([16, 8]))"
      ]
     },
     "execution_count": 14,
     "metadata": {},
     "output_type": "execute_result"
    }
   ],
   "source": [
    "# pytorch\n",
    "pt_out = matA @ matB\n",
    "pt_out, pt_out.shape"
   ]
  },
  {
   "cell_type": "code",
   "execution_count": 15,
   "metadata": {
    "notebookRunGroups": {
     "groupValue": ""
    }
   },
   "outputs": [
    {
     "data": {
      "text/plain": [
       "(True, True)"
      ]
     },
     "execution_count": 15,
     "metadata": {},
     "output_type": "execute_result"
    }
   ],
   "source": [
    "matA.is_contiguous(), matB.is_contiguous()"
   ]
  },
  {
   "cell_type": "code",
   "execution_count": 16,
   "metadata": {
    "notebookRunGroups": {
     "groupValue": ""
    }
   },
   "outputs": [
    {
     "ename": "NameError",
     "evalue": "name 'mmkernelv1' is not defined",
     "output_type": "error",
     "traceback": [
      "\u001b[0;31m---------------------------------------------------------------------------\u001b[0m",
      "\u001b[0;31mNameError\u001b[0m                                 Traceback (most recent call last)",
      "\u001b[1;32m/home/max/myrepos/vlstm_cuda/vlstm_v4.ipynb Cell 18\u001b[0m line \u001b[0;36m1\n\u001b[0;32m----> <a href='vscode-notebook-cell:/home/max/myrepos/vlstm_cuda/vlstm_v4.ipynb#X22sZmlsZQ%3D%3D?line=0'>1</a>\u001b[0m cu_out \u001b[39m=\u001b[39m mmkernelv1(mat_A\u001b[39m=\u001b[39mmatA, mat_B\u001b[39m=\u001b[39mmatB)\n\u001b[1;32m      <a href='vscode-notebook-cell:/home/max/myrepos/vlstm_cuda/vlstm_v4.ipynb#X22sZmlsZQ%3D%3D?line=1'>2</a>\u001b[0m cu_out, cu_out\u001b[39m.\u001b[39mshape\n",
      "\u001b[0;31mNameError\u001b[0m: name 'mmkernelv1' is not defined"
     ]
    }
   ],
   "source": [
    "cu_out = mmkernelv1(mat_A=matA, mat_B=matB)\n",
    "cu_out, cu_out.shape"
   ]
  },
  {
   "cell_type": "code",
   "execution_count": null,
   "metadata": {},
   "outputs": [],
   "source": [
    "matA[9]"
   ]
  },
  {
   "cell_type": "code",
   "execution_count": null,
   "metadata": {},
   "outputs": [],
   "source": [
    "matA[9].cumsum(-1)"
   ]
  },
  {
   "cell_type": "code",
   "execution_count": null,
   "metadata": {},
   "outputs": [],
   "source": [
    "torch.arange(72,80, dtype=torch.bfloat16, device=torch.device('cuda:0')).cumsum(-1)"
   ]
  },
  {
   "cell_type": "code",
   "execution_count": null,
   "metadata": {},
   "outputs": [],
   "source": [
    "torch.arange(72,80, dtype=torch.bfloat16, device=torch.device('cpu')).cumsum(-1)"
   ]
  },
  {
   "cell_type": "code",
   "execution_count": null,
   "metadata": {},
   "outputs": [],
   "source": [
    "torch.arange(72,80, dtype=torch.float32, device=torch.device('cpu')).cumsum(-1)"
   ]
  },
  {
   "cell_type": "code",
   "execution_count": null,
   "metadata": {},
   "outputs": [],
   "source": [
    "torch.arange(72,80, dtype=torch.float16, device=torch.device('cuda:0')).cumsum(-1)"
   ]
  },
  {
   "cell_type": "code",
   "execution_count": null,
   "metadata": {},
   "outputs": [],
   "source": []
  },
  {
   "cell_type": "code",
   "execution_count": 8,
   "metadata": {
    "notebookRunGroups": {
     "groupValue": "1"
    }
   },
   "outputs": [],
   "source": [
    "# cu_out = mmkernelv2(mat_A=matA, mat_B=matB)\n",
    "# cu_out, cu_out.shape"
   ]
  },
  {
   "cell_type": "code",
   "execution_count": null,
   "metadata": {},
   "outputs": [],
   "source": [
    "# mat @ mat.T @ mat"
   ]
  },
  {
   "cell_type": "markdown",
   "metadata": {},
   "source": [
    "### pytorch version"
   ]
  },
  {
   "cell_type": "code",
   "execution_count": null,
   "metadata": {},
   "outputs": [],
   "source": [
    "H = 6 # hidden size\n",
    "S = 5 # seq len\n",
    "B = 1 # batch size\n",
    "NH = 2 # num heads\n",
    "DH = H // NH # dim per head\n",
    "DTYPE = torch.bfloat16\n",
    "DEVICE = torch.device(\"cuda:0\")\n",
    "assert H % NH == 0"
   ]
  },
  {
   "cell_type": "code",
   "execution_count": null,
   "metadata": {},
   "outputs": [],
   "source": [
    "# create qkv, inputgates, forgetgates \n",
    "torch.manual_seed(0)\n",
    "qs = torch.randn((B, NH, S, DH), device=DEVICE, dtype=DTYPE)\n",
    "ks = torch.randn((B, NH, S, DH), device=DEVICE, dtype=DTYPE)\n",
    "vs = torch.randn((B, NH, S, DH), device=DEVICE, dtype=DTYPE)\n",
    "ds = torch.rand((B, NH, S, S), device=DEVICE, dtype=DTYPE)\n",
    "\n",
    "max_log_D, _ = torch.max(ds.view(B, NH, -1), dim=-1, keepdim=True)  # (B, NH, 1)\n",
    "log_D_matrix_stabilized = ds - max_log_D.unsqueeze(-1)  # (B, NH, S, S) = (B, NH, S, S) - (B, NH, 1, 1)\n",
    "D_matrix = torch.exp(log_D_matrix_stabilized)  # (B, NH, S, S)\n",
    "mval = torch.exp(-max_log_D.unsqueeze(-1))"
   ]
  },
  {
   "cell_type": "code",
   "execution_count": null,
   "metadata": {},
   "outputs": [],
   "source": []
  }
 ],
 "metadata": {
  "kernelspec": {
   "display_name": "xlstmpt21cu121",
   "language": "python",
   "name": "python3"
  },
  "language_info": {
   "codemirror_mode": {
    "name": "ipython",
    "version": 3
   },
   "file_extension": ".py",
   "mimetype": "text/x-python",
   "name": "python",
   "nbconvert_exporter": "python",
   "pygments_lexer": "ipython3",
   "version": "3.11.6"
  }
 },
 "nbformat": 4,
 "nbformat_minor": 2
}
