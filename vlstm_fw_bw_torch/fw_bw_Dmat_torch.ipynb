{
 "cells": [
  {
   "cell_type": "code",
   "execution_count": 10,
   "metadata": {},
   "outputs": [
    {
     "name": "stdout",
     "output_type": "stream",
     "text": [
      "The autoreload extension is already loaded. To reload it, use:\n",
      "  %reload_ext autoreload\n"
     ]
    }
   ],
   "source": [
    "%load_ext autoreload\n",
    "%autoreload 2\n",
    "\n",
    "import torch \n",
    "\n",
    "from vlstm_Dmat import vlstm_fw_Dtildemat, vlstm_fwbw_Dtildemat"
   ]
  },
  {
   "cell_type": "markdown",
   "metadata": {},
   "source": [
    "# vLSTM Dmat forward backward implementation\n",
    "\n",
    "In this notebook we implement the forward and backward pass of the D (decay matrix) construction."
   ]
  },
  {
   "cell_type": "code",
   "execution_count": 2,
   "metadata": {},
   "outputs": [],
   "source": [
    "DTYPE = torch.float32 \n",
    "DEVICE = torch.device(\"cuda:0\")"
   ]
  },
  {
   "cell_type": "code",
   "execution_count": 3,
   "metadata": {},
   "outputs": [],
   "source": [
    "B = 1\n",
    "S = 5\n",
    "NH = 1\n",
    "DH = 6\n",
    "EPS = 0.0"
   ]
  },
  {
   "cell_type": "code",
   "execution_count": 4,
   "metadata": {},
   "outputs": [],
   "source": [
    "igate_preacts = torch.randn((B, NH, S, 1), dtype=DTYPE, device=DEVICE)\n",
    "fgate_preacts = torch.randn((B, NH, S, 1), dtype=DTYPE, device=DEVICE)"
   ]
  },
  {
   "cell_type": "markdown",
   "metadata": {},
   "source": [
    "## Forward / Backward impl"
   ]
  },
  {
   "cell_type": "markdown",
   "metadata": {},
   "source": [
    "### Torch autograd"
   ]
  },
  {
   "cell_type": "code",
   "execution_count": 5,
   "metadata": {},
   "outputs": [],
   "source": [
    "igate_preacts_pt = igate_preacts.clone().detach().requires_grad_(True)\n",
    "fgate_preacts_pt = fgate_preacts.clone().detach().requires_grad_(True)"
   ]
  },
  {
   "cell_type": "code",
   "execution_count": 6,
   "metadata": {},
   "outputs": [
    {
     "data": {
      "text/plain": [
       "(tensor([[[[-0.5286,    -inf,    -inf,    -inf,    -inf],\n",
       "           [-0.5716,  0.2702,    -inf,    -inf,    -inf],\n",
       "           [-0.8562, -0.0143,  0.2460,    -inf,    -inf],\n",
       "           [-1.7083, -0.8665, -0.6061, -0.8402,    -inf],\n",
       "           [-2.0340, -1.1922, -0.9319, -1.1659,  1.7142]]]], device='cuda:0',\n",
       "        grad_fn=<AddBackward0>),\n",
       " torch.Size([1, 1, 5, 5]))"
      ]
     },
     "execution_count": 6,
     "metadata": {},
     "output_type": "execute_result"
    }
   ],
   "source": [
    "dmat_pt = vlstm_fw_Dtildemat(igate_preacts_pt, fgate_preacts_pt)\n",
    "dmat_pt, dmat_pt.shape"
   ]
  },
  {
   "cell_type": "code",
   "execution_count": 7,
   "metadata": {},
   "outputs": [],
   "source": [
    "dmat_pt.sum().backward()"
   ]
  },
  {
   "cell_type": "code",
   "execution_count": 8,
   "metadata": {},
   "outputs": [
    {
     "data": {
      "text/plain": [
       "(tensor([[[[5.],\n",
       "           [5.],\n",
       "           [5.],\n",
       "           [5.],\n",
       "           [5.]]]], device='cuda:0'),\n",
       " tensor([[[[0.0000],\n",
       "           [0.1684],\n",
       "           [1.4858],\n",
       "           [3.4411],\n",
       "           [1.1120]]]], device='cuda:0'))"
      ]
     },
     "execution_count": 8,
     "metadata": {},
     "output_type": "execute_result"
    }
   ],
   "source": [
    "igate_preacts_pt.grad, fgate_preacts_pt.grad"
   ]
  },
  {
   "cell_type": "markdown",
   "metadata": {},
   "source": [
    "### Own backward"
   ]
  },
  {
   "cell_type": "code",
   "execution_count": 12,
   "metadata": {},
   "outputs": [],
   "source": [
    "igate_preacts_obw = igate_preacts.clone().detach().requires_grad_(True)\n",
    "fgate_preacts_obw = fgate_preacts.clone().detach().requires_grad_(True)"
   ]
  },
  {
   "cell_type": "code",
   "execution_count": 13,
   "metadata": {},
   "outputs": [
    {
     "data": {
      "text/plain": [
       "(tensor([[[[-0.5286,    -inf,    -inf,    -inf,    -inf],\n",
       "           [-0.5716,  0.2702,    -inf,    -inf,    -inf],\n",
       "           [-0.8562, -0.0143,  0.2460,    -inf,    -inf],\n",
       "           [-1.7083, -0.8665, -0.6061, -0.8402,    -inf],\n",
       "           [-2.0340, -1.1922, -0.9319, -1.1659,  1.7142]]]], device='cuda:0',\n",
       "        grad_fn=<vLSTMFwBwDtildematBackward>),\n",
       " torch.Size([1, 1, 5, 5]))"
      ]
     },
     "execution_count": 13,
     "metadata": {},
     "output_type": "execute_result"
    }
   ],
   "source": [
    "dmat_obw = vlstm_fwbw_Dtildemat(igate_preacts_obw, fgate_preacts_obw)\n",
    "dmat_obw, dmat_obw.shape"
   ]
  },
  {
   "cell_type": "code",
   "execution_count": 14,
   "metadata": {},
   "outputs": [
    {
     "data": {
      "text/plain": [
       "tensor([[[[0., nan, nan, nan, nan],\n",
       "          [0., 0., nan, nan, nan],\n",
       "          [0., 0., 0., nan, nan],\n",
       "          [0., 0., 0., 0., nan],\n",
       "          [0., 0., 0., 0., 0.]]]], device='cuda:0', grad_fn=<SubBackward0>)"
      ]
     },
     "execution_count": 14,
     "metadata": {},
     "output_type": "execute_result"
    }
   ],
   "source": [
    "dmat_obw - dmat_pt"
   ]
  },
  {
   "cell_type": "code",
   "execution_count": null,
   "metadata": {},
   "outputs": [],
   "source": []
  }
 ],
 "metadata": {
  "kernelspec": {
   "display_name": "xlstmpt21cu118",
   "language": "python",
   "name": "python3"
  },
  "language_info": {
   "codemirror_mode": {
    "name": "ipython",
    "version": 3
   },
   "file_extension": ".py",
   "mimetype": "text/x-python",
   "name": "python",
   "nbconvert_exporter": "python",
   "pygments_lexer": "ipython3",
   "version": "3.11.6"
  }
 },
 "nbformat": 4,
 "nbformat_minor": 2
}
