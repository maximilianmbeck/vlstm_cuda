{
 "cells": [
  {
   "cell_type": "code",
   "execution_count": 1,
   "metadata": {
    "notebookRunGroups": {
     "groupValue": "1"
    }
   },
   "outputs": [],
   "source": [
    "%load_ext autoreload\n",
    "%autoreload 2\n",
    "\n",
    "import torch \n",
    "\n",
    "from vlstm_nogatematrices import vlstm_fw_nogatematrices_torch, vlstm_fw_prepare_gate_preacts, vlstm_fwbw_nogatematrices_torch\n",
    "from vlstm_full import vlstm_fw_torch\n",
    "\n"
   ]
  },
  {
   "cell_type": "markdown",
   "metadata": {},
   "source": [
    "# vLSTM forward backward (NOGATES stabilized) implementation"
   ]
  },
  {
   "cell_type": "code",
   "execution_count": 2,
   "metadata": {
    "notebookRunGroups": {
     "groupValue": "1"
    }
   },
   "outputs": [],
   "source": [
    "DTYPE = torch.float32 \n",
    "DEVICE = torch.device(\"cuda:0\")"
   ]
  },
  {
   "cell_type": "code",
   "execution_count": 3,
   "metadata": {
    "notebookRunGroups": {
     "groupValue": "1"
    }
   },
   "outputs": [],
   "source": [
    "B = 1\n",
    "S = 5\n",
    "NH = 1\n",
    "DH = 6\n",
    "EPS = 0.0"
   ]
  },
  {
   "cell_type": "code",
   "execution_count": 4,
   "metadata": {
    "notebookRunGroups": {
     "groupValue": "1"
    }
   },
   "outputs": [],
   "source": [
    "igate_preacts = torch.randn((B, NH, S, 1), dtype=DTYPE, device=DEVICE)\n",
    "fgate_preacts = torch.randn((B, NH, S, 1), dtype=DTYPE, device=DEVICE)"
   ]
  },
  {
   "cell_type": "code",
   "execution_count": 5,
   "metadata": {
    "notebookRunGroups": {
     "groupValue": "1"
    }
   },
   "outputs": [
    {
     "data": {
      "text/plain": [
       "(torch.Size([1, 1, 5, 5]), torch.Size([1, 1, 5, 5]))"
      ]
     },
     "execution_count": 5,
     "metadata": {},
     "output_type": "execute_result"
    }
   ],
   "source": [
    "fgate_mat, igate_mat = vlstm_fw_prepare_gate_preacts(igate_preacts, fgate_preacts)\n",
    "igate_mat.shape, fgate_mat.shape"
   ]
  },
  {
   "cell_type": "code",
   "execution_count": 6,
   "metadata": {
    "notebookRunGroups": {
     "groupValue": "1"
    }
   },
   "outputs": [
    {
     "data": {
      "text/plain": [
       "tensor([[[[ 0.0000,    -inf,    -inf,    -inf,    -inf],\n",
       "          [-0.6975,  0.0000,    -inf,    -inf,    -inf],\n",
       "          [-1.7448, -1.0474,  0.0000,    -inf,    -inf],\n",
       "          [-1.9973, -1.2998, -0.2524,  0.0000,    -inf],\n",
       "          [-3.8352, -3.1378, -2.0904, -1.8379,  0.0000]]]], device='cuda:0')"
      ]
     },
     "execution_count": 6,
     "metadata": {},
     "output_type": "execute_result"
    }
   ],
   "source": [
    "fgate_mat"
   ]
  },
  {
   "cell_type": "code",
   "execution_count": 7,
   "metadata": {
    "notebookRunGroups": {
     "groupValue": "1"
    }
   },
   "outputs": [
    {
     "data": {
      "text/plain": [
       "tensor([[[[-1.2596,    -inf,    -inf,    -inf,    -inf],\n",
       "          [-1.2596,  0.3898,    -inf,    -inf,    -inf],\n",
       "          [-1.2596,  0.3898, -0.1589,    -inf,    -inf],\n",
       "          [-1.2596,  0.3898, -0.1589, -0.9753,    -inf],\n",
       "          [-1.2596,  0.3898, -0.1589, -0.9753, -1.7398]]]], device='cuda:0')"
      ]
     },
     "execution_count": 7,
     "metadata": {},
     "output_type": "execute_result"
    }
   ],
   "source": [
    "igate_mat"
   ]
  },
  {
   "cell_type": "code",
   "execution_count": 8,
   "metadata": {
    "notebookRunGroups": {
     "groupValue": "1"
    }
   },
   "outputs": [
    {
     "data": {
      "text/plain": [
       "torch.Size([1, 1, 5, 6])"
      ]
     },
     "execution_count": 8,
     "metadata": {},
     "output_type": "execute_result"
    }
   ],
   "source": [
    "qs = torch.randn((B, NH, S, DH), dtype=DTYPE, device=DEVICE)\n",
    "ks = torch.randn((B, NH, S, DH), dtype=DTYPE, device=DEVICE)\n",
    "vs = torch.randn((B, NH, S, DH), dtype=DTYPE, device=DEVICE)\n",
    "vs.shape"
   ]
  },
  {
   "cell_type": "markdown",
   "metadata": {},
   "source": [
    "## Backward Stabilized without input & forget gate"
   ]
  },
  {
   "cell_type": "markdown",
   "metadata": {},
   "source": [
    "### Torch Autograd"
   ]
  },
  {
   "cell_type": "code",
   "execution_count": 9,
   "metadata": {
    "notebookRunGroups": {
     "groupValue": "1"
    }
   },
   "outputs": [],
   "source": [
    "fgate_mat_pt = fgate_mat.clone().detach().requires_grad_(True)\n",
    "igate_mat_pt = igate_mat.clone().detach().requires_grad_(True)\n",
    "qs_pt = qs.clone().detach().requires_grad_(True)\n",
    "ks_pt = ks.clone().detach().requires_grad_(True)\n",
    "vs_pt = vs.clone().detach().requires_grad_(True)"
   ]
  },
  {
   "cell_type": "code",
   "execution_count": 10,
   "metadata": {},
   "outputs": [
    {
     "data": {
      "text/plain": [
       "(tensor([[[[-1.2596,    -inf,    -inf,    -inf,    -inf],\n",
       "           [-1.2596,  0.3898,    -inf,    -inf,    -inf],\n",
       "           [-1.2596,  0.3898, -0.1589,    -inf,    -inf],\n",
       "           [-1.2596,  0.3898, -0.1589, -0.9753,    -inf],\n",
       "           [-1.2596,  0.3898, -0.1589, -0.9753, -1.7398]]]], device='cuda:0',\n",
       "        requires_grad=True),\n",
       " tensor([[[[ 0.0000,    -inf,    -inf,    -inf,    -inf],\n",
       "           [-0.6975,  0.0000,    -inf,    -inf,    -inf],\n",
       "           [-1.7448, -1.0474,  0.0000,    -inf,    -inf],\n",
       "           [-1.9973, -1.2998, -0.2524,  0.0000,    -inf],\n",
       "           [-3.8352, -3.1378, -2.0904, -1.8379,  0.0000]]]], device='cuda:0',\n",
       "        requires_grad=True))"
      ]
     },
     "execution_count": 10,
     "metadata": {},
     "output_type": "execute_result"
    }
   ],
   "source": [
    "igate_mat_pt, fgate_mat_pt"
   ]
  },
  {
   "cell_type": "code",
   "execution_count": 11,
   "metadata": {
    "notebookRunGroups": {
     "groupValue": "1"
    }
   },
   "outputs": [
    {
     "data": {
      "text/plain": [
       "torch.Size([1, 1, 5, 6])"
      ]
     },
     "execution_count": 11,
     "metadata": {},
     "output_type": "execute_result"
    }
   ],
   "source": [
    "retr_val_pt = vlstm_fw_nogatematrices_torch(qs_pt, ks_pt, vs_pt, igate_mat_pt, fgate_mat_pt, eps=EPS)\n",
    "retr_val_pt.shape"
   ]
  },
  {
   "cell_type": "code",
   "execution_count": 12,
   "metadata": {
    "notebookRunGroups": {
     "groupValue": "1"
    }
   },
   "outputs": [],
   "source": [
    "retr_val_pt.sum().backward()"
   ]
  },
  {
   "cell_type": "code",
   "execution_count": 13,
   "metadata": {
    "notebookRunGroups": {
     "groupValue": "1"
    }
   },
   "outputs": [
    {
     "data": {
      "text/plain": [
       "tensor([[[[-0.0600, -0.0271,  0.0342, -0.0270, -0.0670, -0.0976],\n",
       "          [ 1.6059,  1.4116,  0.2235, -0.7741, -0.4435,  0.2759],\n",
       "          [ 0.5116,  0.4880,  0.2219, -0.2664, -0.2346,  0.0729],\n",
       "          [ 0.4261,  0.3242,  0.1623, -0.1879, -0.1271,  0.0533],\n",
       "          [ 0.1224,  0.0346,  0.0641, -0.1076, -0.0618, -0.1150]]]],\n",
       "       device='cuda:0')"
      ]
     },
     "execution_count": 13,
     "metadata": {},
     "output_type": "execute_result"
    }
   ],
   "source": [
    "qs_pt.grad"
   ]
  },
  {
   "cell_type": "code",
   "execution_count": 14,
   "metadata": {
    "notebookRunGroups": {
     "groupValue": "1"
    }
   },
   "outputs": [
    {
     "data": {
      "text/plain": [
       "tensor([[[[ 5.2426e-02, -1.4183e-01,  6.9655e-02,  4.3799e-02, -3.3762e-02,\n",
       "            1.7235e-02],\n",
       "          [ 1.2053e+00, -1.7971e+00,  3.0814e-01, -8.8649e-01, -1.3736e-01,\n",
       "           -3.1060e-01],\n",
       "          [-2.2055e-02, -1.0415e-01, -1.8058e-02, -1.9704e-01, -1.6115e-02,\n",
       "           -1.8045e-01],\n",
       "          [-7.9026e-04,  2.7587e-02, -1.8638e-02,  4.7791e-02,  1.8510e-02,\n",
       "            6.5603e-02],\n",
       "          [ 7.0735e-02, -1.2208e-02,  1.1616e-01,  3.8113e-02, -4.9610e-02,\n",
       "           -2.1831e-01]]]], device='cuda:0')"
      ]
     },
     "execution_count": 14,
     "metadata": {},
     "output_type": "execute_result"
    }
   ],
   "source": [
    "ks_pt.grad"
   ]
  },
  {
   "cell_type": "code",
   "execution_count": 15,
   "metadata": {
    "notebookRunGroups": {
     "groupValue": "1"
    }
   },
   "outputs": [
    {
     "data": {
      "text/plain": [
       "tensor([[[[0.1283, 0.1283, 0.1283, 0.1283, 0.1283, 0.1283],\n",
       "          [0.0766, 0.0766, 0.0766, 0.0766, 0.0766, 0.0766],\n",
       "          [0.1690, 0.1690, 0.1690, 0.1690, 0.1690, 0.1690],\n",
       "          [0.0397, 0.0397, 0.0397, 0.0397, 0.0397, 0.0397],\n",
       "          [0.5019, 0.5019, 0.5019, 0.5019, 0.5019, 0.5019]]]], device='cuda:0')"
      ]
     },
     "execution_count": 15,
     "metadata": {},
     "output_type": "execute_result"
    }
   ],
   "source": [
    "vs_pt.grad"
   ]
  },
  {
   "cell_type": "code",
   "execution_count": 16,
   "metadata": {
    "notebookRunGroups": {
     "groupValue": "1"
    }
   },
   "outputs": [
    {
     "data": {
      "text/plain": [
       "tensor([[[[-0.0247,  0.0000,  0.0000,  0.0000,  0.0000],\n",
       "          [ 0.0263, -0.4703,  0.0000,  0.0000,  0.0000],\n",
       "          [-0.0166,  0.2711,  0.0737,  0.0000,  0.0000],\n",
       "          [-0.0301,  0.1106, -0.0775,  0.0102,  0.0000],\n",
       "          [-0.0073, -0.0264, -0.0395, -0.0005, -0.4921]]]], device='cuda:0')"
      ]
     },
     "execution_count": 16,
     "metadata": {},
     "output_type": "execute_result"
    }
   ],
   "source": [
    "fgate_mat_pt.grad"
   ]
  },
  {
   "cell_type": "code",
   "execution_count": 17,
   "metadata": {
    "notebookRunGroups": {
     "groupValue": "1"
    }
   },
   "outputs": [
    {
     "data": {
      "text/plain": [
       "tensor([[[[-0.0247,  0.0000,  0.0000,  0.0000,  0.0000],\n",
       "          [ 0.0263, -0.4703,  0.0000,  0.0000,  0.0000],\n",
       "          [-0.0166,  0.2711,  0.0737,  0.0000,  0.0000],\n",
       "          [-0.0301,  0.1106, -0.0775,  0.0102,  0.0000],\n",
       "          [-0.0073, -0.0264, -0.0395, -0.0005, -0.4921]]]], device='cuda:0')"
      ]
     },
     "execution_count": 17,
     "metadata": {},
     "output_type": "execute_result"
    }
   ],
   "source": [
    "igate_mat_pt.grad"
   ]
  },
  {
   "cell_type": "markdown",
   "metadata": {},
   "source": [
    "### Own backward"
   ]
  },
  {
   "cell_type": "code",
   "execution_count": 18,
   "metadata": {
    "notebookRunGroups": {
     "groupValue": "1"
    }
   },
   "outputs": [],
   "source": [
    "fgate_mat_obw = fgate_mat.clone().detach().requires_grad_(True)\n",
    "igate_mat_obw = igate_mat.clone().detach().requires_grad_(True)\n",
    "qs_obw = qs.clone().detach().requires_grad_(True)\n",
    "ks_obw = ks.clone().detach().requires_grad_(True)\n",
    "vs_obw = vs.clone().detach().requires_grad_(True)"
   ]
  },
  {
   "cell_type": "code",
   "execution_count": 19,
   "metadata": {
    "notebookRunGroups": {
     "groupValue": "1"
    }
   },
   "outputs": [
    {
     "data": {
      "text/plain": [
       "torch.Size([1, 1, 5, 6])"
      ]
     },
     "execution_count": 19,
     "metadata": {},
     "output_type": "execute_result"
    }
   ],
   "source": [
    "retr_val_obw = vlstm_fwbw_nogatematrices_torch(\n",
    "    qs_obw, ks_obw, vs_obw, igate_mat_obw, fgate_mat_obw, eps=EPS\n",
    ")\n",
    "retr_val_obw.shape"
   ]
  },
  {
   "cell_type": "code",
   "execution_count": 20,
   "metadata": {
    "notebookRunGroups": {
     "groupValue": "1"
    }
   },
   "outputs": [],
   "source": [
    "retr_val_obw.sum().backward()"
   ]
  },
  {
   "cell_type": "code",
   "execution_count": 21,
   "metadata": {
    "notebookRunGroups": {
     "groupValue": "1"
    }
   },
   "outputs": [
    {
     "data": {
      "text/plain": [
       "tensor([[[[0., 0., 0., 0., 0., 0.],\n",
       "          [0., 0., 0., 0., 0., 0.],\n",
       "          [0., 0., 0., 0., 0., 0.],\n",
       "          [0., 0., 0., 0., 0., 0.],\n",
       "          [0., 0., 0., 0., 0., 0.]]]], device='cuda:0')"
      ]
     },
     "execution_count": 21,
     "metadata": {},
     "output_type": "execute_result"
    }
   ],
   "source": [
    "qs_obw.grad-qs_pt.grad"
   ]
  },
  {
   "cell_type": "code",
   "execution_count": 22,
   "metadata": {
    "notebookRunGroups": {
     "groupValue": "1"
    }
   },
   "outputs": [
    {
     "data": {
      "text/plain": [
       "tensor([[[[-3.7253e-09,  1.4901e-08, -7.4506e-09,  3.7253e-09,  3.7253e-09,\n",
       "            3.7253e-09],\n",
       "          [ 0.0000e+00,  0.0000e+00,  0.0000e+00,  5.9605e-08,  0.0000e+00,\n",
       "            0.0000e+00],\n",
       "          [ 0.0000e+00,  0.0000e+00,  3.7253e-09, -1.4901e-08,  0.0000e+00,\n",
       "            1.4901e-08],\n",
       "          [-5.2387e-10,  0.0000e+00,  0.0000e+00,  0.0000e+00, -3.7253e-09,\n",
       "            0.0000e+00],\n",
       "          [ 0.0000e+00,  9.3132e-10,  0.0000e+00,  0.0000e+00,  0.0000e+00,\n",
       "           -1.4901e-08]]]], device='cuda:0')"
      ]
     },
     "execution_count": 22,
     "metadata": {},
     "output_type": "execute_result"
    }
   ],
   "source": [
    "ks_obw.grad-ks_pt.grad"
   ]
  },
  {
   "cell_type": "code",
   "execution_count": 23,
   "metadata": {
    "notebookRunGroups": {
     "groupValue": "1"
    }
   },
   "outputs": [
    {
     "data": {
      "text/plain": [
       "tensor([[[[0., 0., 0., 0., 0., 0.],\n",
       "          [0., 0., 0., 0., 0., 0.],\n",
       "          [0., 0., 0., 0., 0., 0.],\n",
       "          [0., 0., 0., 0., 0., 0.],\n",
       "          [0., 0., 0., 0., 0., 0.]]]], device='cuda:0')"
      ]
     },
     "execution_count": 23,
     "metadata": {},
     "output_type": "execute_result"
    }
   ],
   "source": [
    "vs_obw.grad-vs_pt.grad"
   ]
  },
  {
   "cell_type": "code",
   "execution_count": 24,
   "metadata": {
    "notebookRunGroups": {
     "groupValue": "1"
    }
   },
   "outputs": [
    {
     "data": {
      "text/plain": [
       "tensor([[[[-1.8626e-09,  0.0000e+00, -0.0000e+00, -0.0000e+00,  0.0000e+00],\n",
       "          [ 0.0000e+00,  0.0000e+00,  0.0000e+00, -0.0000e+00, -0.0000e+00],\n",
       "          [ 0.0000e+00,  0.0000e+00,  0.0000e+00, -0.0000e+00, -0.0000e+00],\n",
       "          [ 0.0000e+00,  0.0000e+00, -1.4901e-08,  0.0000e+00, -0.0000e+00],\n",
       "          [ 0.0000e+00,  0.0000e+00,  0.0000e+00,  0.0000e+00,  5.9605e-08]]]],\n",
       "       device='cuda:0')"
      ]
     },
     "execution_count": 24,
     "metadata": {},
     "output_type": "execute_result"
    }
   ],
   "source": [
    "fgate_mat_obw.grad-fgate_mat_pt.grad"
   ]
  },
  {
   "cell_type": "markdown",
   "metadata": {},
   "source": [
    "### Do gradients match? "
   ]
  },
  {
   "cell_type": "code",
   "execution_count": 25,
   "metadata": {
    "notebookRunGroups": {
     "groupValue": "1"
    }
   },
   "outputs": [
    {
     "data": {
      "text/plain": [
       "tensor([[[[0., 0., 0., 0., 0., 0.],\n",
       "          [0., 0., 0., 0., 0., 0.],\n",
       "          [0., 0., 0., 0., 0., 0.],\n",
       "          [0., 0., 0., 0., 0., 0.],\n",
       "          [0., 0., 0., 0., 0., 0.]]]], device='cuda:0')"
      ]
     },
     "execution_count": 25,
     "metadata": {},
     "output_type": "execute_result"
    }
   ],
   "source": [
    "qs_pt.grad - qs_obw.grad"
   ]
  },
  {
   "cell_type": "code",
   "execution_count": 26,
   "metadata": {
    "notebookRunGroups": {
     "groupValue": "1"
    }
   },
   "outputs": [
    {
     "name": "stdout",
     "output_type": "stream",
     "text": [
      "Forward match: True\n",
      "qs match: True\n",
      "ks match: True\n",
      "vs match: True\n",
      "fgate_mat match: True\n",
      "igate_mat match: True\n"
     ]
    }
   ],
   "source": [
    "atol = 1e-6\n",
    "rtol = 1e-6\n",
    "print(f\"Forward match: {torch.allclose(retr_val_pt, retr_val_obw)}\")\n",
    "print(f\"qs match: {torch.allclose(qs_pt.grad, qs_obw.grad, atol=atol, rtol=rtol)}\")\n",
    "print(f\"ks match: {torch.allclose(ks_pt.grad, ks_obw.grad, atol=atol, rtol=rtol)}\")\n",
    "print(f\"vs match: {torch.allclose(vs_pt.grad, vs_obw.grad, atol=atol, rtol=rtol)}\")\n",
    "print(f\"fgate_mat match: {torch.allclose(fgate_mat_pt.grad, fgate_mat_obw.grad, atol=atol, rtol=rtol)}\")\n",
    "print(f\"igate_mat match: {torch.allclose(igate_mat_pt.grad, igate_mat_obw.grad, atol=atol, rtol=rtol)}\")"
   ]
  },
  {
   "cell_type": "markdown",
   "metadata": {},
   "source": [
    "## Forward without input & forget gate"
   ]
  },
  {
   "cell_type": "code",
   "execution_count": 27,
   "metadata": {},
   "outputs": [
    {
     "data": {
      "text/plain": [
       "torch.Size([1, 1, 5, 6])"
      ]
     },
     "execution_count": 27,
     "metadata": {},
     "output_type": "execute_result"
    }
   ],
   "source": [
    "retr_vals = vlstm_fw_nogatematrices_torch(queries=qs, keys=ks, values=vs, igate_preact=igate_mat, fgate_preact=fgate_mat)\n",
    "retr_vals.shape"
   ]
  },
  {
   "cell_type": "code",
   "execution_count": 28,
   "metadata": {},
   "outputs": [
    {
     "data": {
      "text/plain": [
       "torch.Size([1, 1, 5, 6])"
      ]
     },
     "execution_count": 28,
     "metadata": {},
     "output_type": "execute_result"
    }
   ],
   "source": [
    "retr_vals_fwbw = vlstm_fwbw_nogatematrices_torch(queries=qs, keys=ks, values=vs, igate_preact=igate_mat, fgate_preact=fgate_mat)\n",
    "retr_vals_fwbw.shape"
   ]
  },
  {
   "cell_type": "markdown",
   "metadata": {},
   "source": [
    "### Check if it equals the full version:"
   ]
  },
  {
   "cell_type": "code",
   "execution_count": 29,
   "metadata": {},
   "outputs": [
    {
     "data": {
      "text/plain": [
       "torch.Size([1, 1, 5, 6])"
      ]
     },
     "execution_count": 29,
     "metadata": {},
     "output_type": "execute_result"
    }
   ],
   "source": [
    "# check if equals the full version\n",
    "retr_vals_full = vlstm_fw_torch(queries=qs, keys=ks, values=vs, igate_preact=igate_preacts, fgate_preact=fgate_preacts)\n",
    "retr_vals_full.shape"
   ]
  },
  {
   "cell_type": "code",
   "execution_count": 30,
   "metadata": {},
   "outputs": [
    {
     "data": {
      "text/plain": [
       "tensor([[[[0., 0., 0., 0., 0., 0.],\n",
       "          [0., 0., 0., 0., 0., 0.],\n",
       "          [0., 0., 0., 0., 0., 0.],\n",
       "          [0., 0., 0., 0., 0., 0.],\n",
       "          [0., 0., 0., 0., 0., 0.]]]], device='cuda:0')"
      ]
     },
     "execution_count": 30,
     "metadata": {},
     "output_type": "execute_result"
    }
   ],
   "source": [
    "# The implementations match!!!\n",
    "retr_vals - retr_vals_full"
   ]
  },
  {
   "cell_type": "code",
   "execution_count": 31,
   "metadata": {},
   "outputs": [
    {
     "data": {
      "text/plain": [
       "tensor([[[[0., 0., 0., 0., 0., 0.],\n",
       "          [0., 0., 0., 0., 0., 0.],\n",
       "          [0., 0., 0., 0., 0., 0.],\n",
       "          [0., 0., 0., 0., 0., 0.],\n",
       "          [0., 0., 0., 0., 0., 0.]]]], device='cuda:0')"
      ]
     },
     "execution_count": 31,
     "metadata": {},
     "output_type": "execute_result"
    }
   ],
   "source": [
    "retr_vals_fwbw - retr_vals_full"
   ]
  },
  {
   "cell_type": "code",
   "execution_count": null,
   "metadata": {},
   "outputs": [],
   "source": []
  }
 ],
 "metadata": {
  "kernelspec": {
   "display_name": "xlstmpt21cu118",
   "language": "python",
   "name": "python3"
  },
  "language_info": {
   "codemirror_mode": {
    "name": "ipython",
    "version": 3
   },
   "file_extension": ".py",
   "mimetype": "text/x-python",
   "name": "python",
   "nbconvert_exporter": "python",
   "pygments_lexer": "ipython3",
   "version": "3.11.6"
  }
 },
 "nbformat": 4,
 "nbformat_minor": 2
}
