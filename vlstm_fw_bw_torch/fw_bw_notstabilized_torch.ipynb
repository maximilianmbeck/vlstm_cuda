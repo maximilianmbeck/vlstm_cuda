{
 "cells": [
  {
   "cell_type": "code",
   "execution_count": 1,
   "metadata": {
    "notebookRunGroups": {
     "groupValue": "1"
    }
   },
   "outputs": [],
   "source": [
    "%load_ext autoreload\n",
    "%autoreload 2\n",
    "\n",
    "import torch \n",
    "\n",
    "from vlstm_nogatematrices import vlstm_fw_prepare_gate_preacts, vlstm_fw_nogatematrices_nostabilization, vlstm_fwbw_nogatematrices_nostabilization\n",
    "from vlstm_full import vlstm_fw_torch\n",
    "\n"
   ]
  },
  {
   "cell_type": "markdown",
   "metadata": {},
   "source": [
    "# vLSTM forward backward implementation"
   ]
  },
  {
   "cell_type": "code",
   "execution_count": 2,
   "metadata": {
    "notebookRunGroups": {
     "groupValue": "1"
    }
   },
   "outputs": [],
   "source": [
    "DTYPE = torch.float32 \n",
    "DEVICE = torch.device(\"cuda:0\")"
   ]
  },
  {
   "cell_type": "code",
   "execution_count": 3,
   "metadata": {
    "notebookRunGroups": {
     "groupValue": "1"
    }
   },
   "outputs": [],
   "source": [
    "B = 1\n",
    "S = 5\n",
    "NH = 1\n",
    "DH = 6\n",
    "EPS = 0.0"
   ]
  },
  {
   "cell_type": "code",
   "execution_count": 4,
   "metadata": {
    "notebookRunGroups": {
     "groupValue": "1"
    }
   },
   "outputs": [],
   "source": [
    "igate_preacts = torch.randn((B, NH, S, 1), dtype=DTYPE, device=DEVICE)\n",
    "fgate_preacts = torch.randn((B, NH, S, 1), dtype=DTYPE, device=DEVICE)\n",
    "temp_Ctilde = torch.zeros((B, NH, S, S), dtype=DTYPE, device=DEVICE)\n",
    "temp_D = torch.zeros((B, NH, S, S), dtype=DTYPE, device=DEVICE)\n",
    "temp_QK = torch.zeros((B, NH, S, S), dtype=DTYPE, device=DEVICE)\n",
    "temp_N = torch.zeros((B, NH, S, 1), dtype=DTYPE, device=DEVICE)\n",
    "temp_B = torch.zeros((B, NH, S, 1), dtype=DTYPE, device=DEVICE)"
   ]
  },
  {
   "cell_type": "code",
   "execution_count": 5,
   "metadata": {
    "notebookRunGroups": {
     "groupValue": "1"
    }
   },
   "outputs": [
    {
     "data": {
      "text/plain": [
       "(torch.Size([1, 1, 5, 5]), torch.Size([1, 1, 5, 5]))"
      ]
     },
     "execution_count": 5,
     "metadata": {},
     "output_type": "execute_result"
    }
   ],
   "source": [
    "fgate_mat, igate_mat = vlstm_fw_prepare_gate_preacts(igate_preacts, fgate_preacts)\n",
    "igate_mat.shape, fgate_mat.shape"
   ]
  },
  {
   "cell_type": "code",
   "execution_count": 6,
   "metadata": {
    "notebookRunGroups": {
     "groupValue": "1"
    }
   },
   "outputs": [
    {
     "data": {
      "text/plain": [
       "tensor([[[[ 0.0000,    -inf,    -inf,    -inf,    -inf],\n",
       "          [-0.1129,  0.0000,    -inf,    -inf,    -inf],\n",
       "          [-0.9327, -0.8197,  0.0000,    -inf,    -inf],\n",
       "          [-1.6315, -1.5186, -0.6988,  0.0000,    -inf],\n",
       "          [-2.9347, -2.8217, -2.0020, -1.3032,  0.0000]]]], device='cuda:0')"
      ]
     },
     "execution_count": 6,
     "metadata": {},
     "output_type": "execute_result"
    }
   ],
   "source": [
    "fgate_mat"
   ]
  },
  {
   "cell_type": "code",
   "execution_count": 7,
   "metadata": {
    "notebookRunGroups": {
     "groupValue": "1"
    }
   },
   "outputs": [
    {
     "data": {
      "text/plain": [
       "tensor([[[[-0.9037,    -inf,    -inf,    -inf,    -inf],\n",
       "          [-0.9037, -0.0643,    -inf,    -inf,    -inf],\n",
       "          [-0.9037, -0.0643, -0.8249,    -inf,    -inf],\n",
       "          [-0.9037, -0.0643, -0.8249, -0.1901,    -inf],\n",
       "          [-0.9037, -0.0643, -0.8249, -0.1901,  0.7249]]]], device='cuda:0')"
      ]
     },
     "execution_count": 7,
     "metadata": {},
     "output_type": "execute_result"
    }
   ],
   "source": [
    "igate_mat"
   ]
  },
  {
   "cell_type": "code",
   "execution_count": 8,
   "metadata": {
    "notebookRunGroups": {
     "groupValue": "1"
    }
   },
   "outputs": [
    {
     "data": {
      "text/plain": [
       "torch.Size([1, 1, 5, 6])"
      ]
     },
     "execution_count": 8,
     "metadata": {},
     "output_type": "execute_result"
    }
   ],
   "source": [
    "qs = torch.randn((B, NH, S, DH), dtype=DTYPE, device=DEVICE)\n",
    "ks = torch.randn((B, NH, S, DH), dtype=DTYPE, device=DEVICE)\n",
    "vs = torch.randn((B, NH, S, DH), dtype=DTYPE, device=DEVICE)\n",
    "vs.shape"
   ]
  },
  {
   "cell_type": "markdown",
   "metadata": {},
   "source": [
    "## Backward NOT stabilized without input & forget gate"
   ]
  },
  {
   "cell_type": "markdown",
   "metadata": {},
   "source": [
    "### Torch Autograd"
   ]
  },
  {
   "cell_type": "code",
   "execution_count": 9,
   "metadata": {
    "notebookRunGroups": {
     "groupValue": "1"
    }
   },
   "outputs": [],
   "source": [
    "fgate_mat_pt = fgate_mat.clone().detach().requires_grad_(True)\n",
    "igate_mat_pt = igate_mat.clone().detach().requires_grad_(True)\n",
    "qs_pt = qs.clone().detach().requires_grad_(True)\n",
    "ks_pt = ks.clone().detach().requires_grad_(True)\n",
    "vs_pt = vs.clone().detach().requires_grad_(True)\n",
    "temp_Ctilde_pt = temp_Ctilde.clone().detach().requires_grad_(True)\n",
    "temp_D_pt = temp_D.clone().detach().requires_grad_(True)\n",
    "temp_QK_pt = temp_QK.clone().detach().requires_grad_(True)\n",
    "temp_N_pt = temp_N.clone().detach().requires_grad_(True)\n",
    "temp_B_pt = temp_B.clone().detach().requires_grad_(True)"
   ]
  },
  {
   "cell_type": "code",
   "execution_count": 10,
   "metadata": {},
   "outputs": [
    {
     "data": {
      "text/plain": [
       "(tensor([[[[-0.9037,    -inf,    -inf,    -inf,    -inf],\n",
       "           [-0.9037, -0.0643,    -inf,    -inf,    -inf],\n",
       "           [-0.9037, -0.0643, -0.8249,    -inf,    -inf],\n",
       "           [-0.9037, -0.0643, -0.8249, -0.1901,    -inf],\n",
       "           [-0.9037, -0.0643, -0.8249, -0.1901,  0.7249]]]], device='cuda:0',\n",
       "        requires_grad=True),\n",
       " tensor([[[[ 0.0000,    -inf,    -inf,    -inf,    -inf],\n",
       "           [-0.1129,  0.0000,    -inf,    -inf,    -inf],\n",
       "           [-0.9327, -0.8197,  0.0000,    -inf,    -inf],\n",
       "           [-1.6315, -1.5186, -0.6988,  0.0000,    -inf],\n",
       "           [-2.9347, -2.8217, -2.0020, -1.3032,  0.0000]]]], device='cuda:0',\n",
       "        requires_grad=True))"
      ]
     },
     "execution_count": 10,
     "metadata": {},
     "output_type": "execute_result"
    }
   ],
   "source": [
    "igate_mat_pt, fgate_mat_pt"
   ]
  },
  {
   "cell_type": "code",
   "execution_count": 11,
   "metadata": {
    "notebookRunGroups": {
     "groupValue": "1"
    }
   },
   "outputs": [
    {
     "data": {
      "text/plain": [
       "torch.Size([1, 1, 5, 6])"
      ]
     },
     "execution_count": 11,
     "metadata": {},
     "output_type": "execute_result"
    }
   ],
   "source": [
    "retr_val_pt = vlstm_fw_nogatematrices_nostabilization(\n",
    "    qs_pt, ks_pt, vs_pt, igate_mat_pt, fgate_mat_pt, \n",
    "    temp_Ctilde_pt,\n",
    "    temp_D_pt, \n",
    "    temp_QK_pt,\n",
    "    temp_N_pt,\n",
    "    temp_B_pt,\n",
    "    eps=EPS\n",
    ")\n",
    "retr_val_pt.shape"
   ]
  },
  {
   "cell_type": "code",
   "execution_count": 12,
   "metadata": {
    "notebookRunGroups": {
     "groupValue": "1"
    }
   },
   "outputs": [],
   "source": [
    "retr_val_pt.sum().backward()"
   ]
  },
  {
   "cell_type": "code",
   "execution_count": 13,
   "metadata": {},
   "outputs": [
    {
     "data": {
      "text/plain": [
       "tensor([[[[-1.0081, -0.6488, -1.7417, -1.3857,  2.5519],\n",
       "          [-1.0081, -0.6488, -1.7417, -1.3857,  2.5519],\n",
       "          [-1.0081, -0.6488, -1.7417, -1.3857,  2.5519],\n",
       "          [-1.0081, -0.6488, -1.7417, -1.3857,  2.5519],\n",
       "          [-1.0081, -0.6488, -1.7417, -1.3857,  2.5519]]]], device='cuda:0')"
      ]
     },
     "execution_count": 13,
     "metadata": {},
     "output_type": "execute_result"
    }
   ],
   "source": [
    "temp_Ctilde_pt.grad"
   ]
  },
  {
   "cell_type": "code",
   "execution_count": 14,
   "metadata": {
    "notebookRunGroups": {
     "groupValue": "1"
    }
   },
   "outputs": [
    {
     "data": {
      "text/plain": [
       "tensor([[[[-0.1460,  0.0956,  0.2851,  0.3477,  0.2270, -0.2115],\n",
       "          [-0.3233,  0.2069,  0.1622,  0.6614,  0.1564, -0.3598],\n",
       "          [-0.3338,  0.2311, -0.1683,  0.9708, -0.2470, -0.4881],\n",
       "          [ 0.3376, -0.1272,  0.3181,  0.9379, -0.3482, -0.1634],\n",
       "          [-1.7451,  1.4614,  2.4083,  0.4321,  2.5609, -0.1833]]]],\n",
       "       device='cuda:0')"
      ]
     },
     "execution_count": 14,
     "metadata": {},
     "output_type": "execute_result"
    }
   ],
   "source": [
    "qs_pt.grad"
   ]
  },
  {
   "cell_type": "code",
   "execution_count": 15,
   "metadata": {
    "notebookRunGroups": {
     "groupValue": "1"
    }
   },
   "outputs": [
    {
     "data": {
      "text/plain": [
       "tensor([[[[-0.0582,  0.0954,  0.2943, -0.2541, -0.0171,  0.2590],\n",
       "          [-0.4234,  0.2434,  0.4329, -0.0063, -0.3538, -0.0048],\n",
       "          [-0.0980,  0.4882,  0.5530,  0.0179, -0.0038, -0.1576],\n",
       "          [-0.7273,  0.5986,  0.2099,  0.5376, -0.2532, -0.5180],\n",
       "          [-2.6261, -2.1656, -1.7155, -2.9681,  1.1905,  0.7754]]]],\n",
       "       device='cuda:0')"
      ]
     },
     "execution_count": 15,
     "metadata": {},
     "output_type": "execute_result"
    }
   ],
   "source": [
    "ks_pt.grad"
   ]
  },
  {
   "cell_type": "code",
   "execution_count": 16,
   "metadata": {
    "notebookRunGroups": {
     "groupValue": "1"
    }
   },
   "outputs": [
    {
     "data": {
      "text/plain": [
       "tensor([[[[-0.2710, -0.2710, -0.2710, -0.2710, -0.2710, -0.2710],\n",
       "          [ 0.5357,  0.5357,  0.5357,  0.5357,  0.5357,  0.5357],\n",
       "          [ 0.0364,  0.0364,  0.0364,  0.0364,  0.0364,  0.0364],\n",
       "          [-0.2561, -0.2561, -0.2561, -0.2561, -0.2561, -0.2561],\n",
       "          [ 0.0234,  0.0234,  0.0234,  0.0234,  0.0234,  0.0234]]]],\n",
       "       device='cuda:0')"
      ]
     },
     "execution_count": 16,
     "metadata": {},
     "output_type": "execute_result"
    }
   ],
   "source": [
    "vs_pt.grad"
   ]
  },
  {
   "cell_type": "code",
   "execution_count": 17,
   "metadata": {
    "notebookRunGroups": {
     "groupValue": "1"
    }
   },
   "outputs": [
    {
     "data": {
      "text/plain": [
       "tensor([[[[ 0.7299,  0.0000,  0.0000,  0.0000, -0.0000],\n",
       "          [-0.1318, -0.2620, -0.0000,  0.0000, -0.0000],\n",
       "          [-0.1316,  0.1404,  0.7745, -0.0000, -0.0000],\n",
       "          [-0.1627, -0.2030, -0.7101,  0.7395, -0.0000],\n",
       "          [-0.0306, -0.0229, -0.1279, -0.3847,  0.0597]]]], device='cuda:0')"
      ]
     },
     "execution_count": 17,
     "metadata": {},
     "output_type": "execute_result"
    }
   ],
   "source": [
    "fgate_mat_pt.grad"
   ]
  },
  {
   "cell_type": "code",
   "execution_count": 18,
   "metadata": {
    "notebookRunGroups": {
     "groupValue": "1"
    }
   },
   "outputs": [
    {
     "data": {
      "text/plain": [
       "tensor([[[[ 0.7299,  0.0000,  0.0000,  0.0000, -0.0000],\n",
       "          [-0.1318, -0.2620, -0.0000,  0.0000, -0.0000],\n",
       "          [-0.1316,  0.1404,  0.7745, -0.0000, -0.0000],\n",
       "          [-0.1627, -0.2030, -0.7101,  0.7395, -0.0000],\n",
       "          [-0.0306, -0.0229, -0.1279, -0.3847,  0.0597]]]], device='cuda:0')"
      ]
     },
     "execution_count": 18,
     "metadata": {},
     "output_type": "execute_result"
    }
   ],
   "source": [
    "igate_mat_pt.grad"
   ]
  },
  {
   "cell_type": "markdown",
   "metadata": {},
   "source": [
    "### Own backward"
   ]
  },
  {
   "cell_type": "code",
   "execution_count": 19,
   "metadata": {
    "notebookRunGroups": {
     "groupValue": "1"
    }
   },
   "outputs": [],
   "source": [
    "fgate_mat_obw = fgate_mat.clone().detach().requires_grad_(True)\n",
    "igate_mat_obw = igate_mat.clone().detach().requires_grad_(True)\n",
    "qs_obw = qs.clone().detach().requires_grad_(True)\n",
    "ks_obw = ks.clone().detach().requires_grad_(True)\n",
    "vs_obw = vs.clone().detach().requires_grad_(True)\n",
    "temp_Ctilde_obw = temp_Ctilde.clone().detach().requires_grad_(True)\n",
    "temp_D_obw = temp_D.clone().detach().requires_grad_(True)\n",
    "temp_QK_obw = temp_QK.clone().detach().requires_grad_(True)\n",
    "temp_N_obw = temp_N.clone().detach().requires_grad_(True)\n",
    "temp_B_obw = temp_B.clone().detach().requires_grad_(True)"
   ]
  },
  {
   "cell_type": "code",
   "execution_count": 20,
   "metadata": {
    "notebookRunGroups": {
     "groupValue": "1"
    }
   },
   "outputs": [
    {
     "data": {
      "text/plain": [
       "torch.Size([1, 1, 5, 6])"
      ]
     },
     "execution_count": 20,
     "metadata": {},
     "output_type": "execute_result"
    }
   ],
   "source": [
    "retr_val_obw = vlstm_fwbw_nogatematrices_nostabilization(\n",
    "    qs_obw, ks_obw, vs_obw, igate_mat_obw, fgate_mat_obw, \n",
    "    temp_Ctilde_obw,\n",
    "    temp_D_obw, \n",
    "    temp_QK_obw,\n",
    "    temp_N_obw,\n",
    "    temp_B_obw,\n",
    "    eps=EPS\n",
    ")\n",
    "retr_val_obw.shape"
   ]
  },
  {
   "cell_type": "code",
   "execution_count": 21,
   "metadata": {
    "notebookRunGroups": {
     "groupValue": "1"
    }
   },
   "outputs": [],
   "source": [
    "retr_val_obw.sum().backward()"
   ]
  },
  {
   "cell_type": "code",
   "execution_count": 22,
   "metadata": {},
   "outputs": [
    {
     "data": {
      "text/plain": [
       "tensor([[[[0.],\n",
       "          [0.],\n",
       "          [0.],\n",
       "          [0.],\n",
       "          [0.]]]], device='cuda:0')"
      ]
     },
     "execution_count": 22,
     "metadata": {},
     "output_type": "execute_result"
    }
   ],
   "source": [
    "temp_N_obw.grad - temp_N_pt.grad"
   ]
  },
  {
   "cell_type": "code",
   "execution_count": 23,
   "metadata": {},
   "outputs": [
    {
     "data": {
      "text/plain": [
       "tensor([[[[0.],\n",
       "          [0.],\n",
       "          [0.],\n",
       "          [0.],\n",
       "          [0.]]]], device='cuda:0')"
      ]
     },
     "execution_count": 23,
     "metadata": {},
     "output_type": "execute_result"
    }
   ],
   "source": [
    "temp_B_obw.grad - temp_B_pt.grad"
   ]
  },
  {
   "cell_type": "code",
   "execution_count": 24,
   "metadata": {},
   "outputs": [
    {
     "data": {
      "text/plain": [
       "tensor([[[[0., 0., 0., 0., 0.],\n",
       "          [0., 0., 0., 0., 0.],\n",
       "          [0., 0., 0., 0., 0.],\n",
       "          [0., 0., 0., 0., 0.],\n",
       "          [0., 0., 0., 0., 0.]]]], device='cuda:0')"
      ]
     },
     "execution_count": 24,
     "metadata": {},
     "output_type": "execute_result"
    }
   ],
   "source": [
    "temp_QK_obw.grad - temp_QK_pt.grad"
   ]
  },
  {
   "cell_type": "code",
   "execution_count": 25,
   "metadata": {},
   "outputs": [
    {
     "data": {
      "text/plain": [
       "tensor([[[[0., 0., 0., 0., 0.],\n",
       "          [0., 0., 0., 0., 0.],\n",
       "          [0., 0., 0., 0., 0.],\n",
       "          [0., 0., 0., 0., 0.],\n",
       "          [0., 0., 0., 0., 0.]]]], device='cuda:0')"
      ]
     },
     "execution_count": 25,
     "metadata": {},
     "output_type": "execute_result"
    }
   ],
   "source": [
    "temp_Ctilde_obw.grad - temp_Ctilde_pt.grad"
   ]
  },
  {
   "cell_type": "code",
   "execution_count": 26,
   "metadata": {
    "notebookRunGroups": {
     "groupValue": "1"
    }
   },
   "outputs": [
    {
     "data": {
      "text/plain": [
       "tensor([[[[0., 0., 0., 0., 0., 0.],\n",
       "          [0., 0., 0., 0., 0., 0.],\n",
       "          [0., 0., 0., 0., 0., 0.],\n",
       "          [0., 0., 0., 0., 0., 0.],\n",
       "          [0., 0., 0., 0., 0., 0.]]]], device='cuda:0')"
      ]
     },
     "execution_count": 26,
     "metadata": {},
     "output_type": "execute_result"
    }
   ],
   "source": [
    "qs_obw.grad-qs_pt.grad"
   ]
  },
  {
   "cell_type": "code",
   "execution_count": 27,
   "metadata": {
    "notebookRunGroups": {
     "groupValue": "1"
    }
   },
   "outputs": [
    {
     "data": {
      "text/plain": [
       "tensor([[[[-3.7253e-09,  7.4506e-09,  0.0000e+00, -2.9802e-08, -5.5879e-09,\n",
       "           -2.9802e-08],\n",
       "          [-2.9802e-08,  2.9802e-08, -5.9605e-08, -5.1223e-09,  0.0000e+00,\n",
       "            4.6566e-10],\n",
       "          [ 0.0000e+00, -2.9802e-08,  5.9605e-08, -1.1176e-08,  4.8894e-09,\n",
       "            1.4901e-08],\n",
       "          [ 0.0000e+00,  0.0000e+00,  0.0000e+00, -5.9605e-08,  0.0000e+00,\n",
       "            5.9605e-08],\n",
       "          [ 0.0000e+00,  0.0000e+00,  0.0000e+00,  2.3842e-07,  0.0000e+00,\n",
       "            0.0000e+00]]]], device='cuda:0')"
      ]
     },
     "execution_count": 27,
     "metadata": {},
     "output_type": "execute_result"
    }
   ],
   "source": [
    "ks_obw.grad-ks_pt.grad"
   ]
  },
  {
   "cell_type": "code",
   "execution_count": 28,
   "metadata": {
    "notebookRunGroups": {
     "groupValue": "1"
    }
   },
   "outputs": [
    {
     "data": {
      "text/plain": [
       "tensor([[[[0., 0., 0., 0., 0., 0.],\n",
       "          [0., 0., 0., 0., 0., 0.],\n",
       "          [0., 0., 0., 0., 0., 0.],\n",
       "          [0., 0., 0., 0., 0., 0.],\n",
       "          [0., 0., 0., 0., 0., 0.]]]], device='cuda:0')"
      ]
     },
     "execution_count": 28,
     "metadata": {},
     "output_type": "execute_result"
    }
   ],
   "source": [
    "vs_obw.grad-vs_pt.grad"
   ]
  },
  {
   "cell_type": "code",
   "execution_count": 29,
   "metadata": {
    "notebookRunGroups": {
     "groupValue": "1"
    }
   },
   "outputs": [
    {
     "data": {
      "text/plain": [
       "tensor([[[[0., 0., 0., 0., 0.],\n",
       "          [0., 0., 0., 0., 0.],\n",
       "          [0., 0., 0., 0., 0.],\n",
       "          [0., 0., 0., 0., 0.],\n",
       "          [0., 0., 0., 0., 0.]]]], device='cuda:0')"
      ]
     },
     "execution_count": 29,
     "metadata": {},
     "output_type": "execute_result"
    }
   ],
   "source": [
    "fgate_mat_obw.grad-fgate_mat_pt.grad"
   ]
  },
  {
   "cell_type": "markdown",
   "metadata": {},
   "source": [
    "### Do gradients match? "
   ]
  },
  {
   "cell_type": "code",
   "execution_count": 30,
   "metadata": {
    "notebookRunGroups": {
     "groupValue": "1"
    }
   },
   "outputs": [
    {
     "data": {
      "text/plain": [
       "tensor([[[[0., 0., 0., 0., 0., 0.],\n",
       "          [0., 0., 0., 0., 0., 0.],\n",
       "          [0., 0., 0., 0., 0., 0.],\n",
       "          [0., 0., 0., 0., 0., 0.],\n",
       "          [0., 0., 0., 0., 0., 0.]]]], device='cuda:0')"
      ]
     },
     "execution_count": 30,
     "metadata": {},
     "output_type": "execute_result"
    }
   ],
   "source": [
    "qs_pt.grad - qs_obw.grad"
   ]
  },
  {
   "cell_type": "code",
   "execution_count": 31,
   "metadata": {
    "notebookRunGroups": {
     "groupValue": "1"
    }
   },
   "outputs": [
    {
     "name": "stdout",
     "output_type": "stream",
     "text": [
      "Forward match: True\n",
      "qs match: True\n",
      "ks match: True\n",
      "vs match: True\n",
      "fgate_mat match: True\n",
      "igate_mat match: True\n"
     ]
    }
   ],
   "source": [
    "atol = 1e-6\n",
    "rtol = 1e-6\n",
    "print(f\"Forward match: {torch.allclose(retr_val_pt, retr_val_obw)}\")\n",
    "print(f\"qs match: {torch.allclose(qs_pt.grad, qs_obw.grad, atol=atol, rtol=rtol)}\")\n",
    "print(f\"ks match: {torch.allclose(ks_pt.grad, ks_obw.grad, atol=atol, rtol=rtol)}\")\n",
    "print(f\"vs match: {torch.allclose(vs_pt.grad, vs_obw.grad, atol=atol, rtol=rtol)}\")\n",
    "print(f\"fgate_mat match: {torch.allclose(fgate_mat_pt.grad, fgate_mat_obw.grad, atol=atol, rtol=rtol)}\")\n",
    "print(f\"igate_mat match: {torch.allclose(igate_mat_pt.grad, igate_mat_obw.grad, atol=atol, rtol=rtol)}\")"
   ]
  },
  {
   "cell_type": "markdown",
   "metadata": {},
   "source": [
    "## Forward without input & forget gate"
   ]
  },
  {
   "cell_type": "code",
   "execution_count": 32,
   "metadata": {},
   "outputs": [
    {
     "data": {
      "text/plain": [
       "torch.Size([1, 1, 5, 6])"
      ]
     },
     "execution_count": 32,
     "metadata": {},
     "output_type": "execute_result"
    }
   ],
   "source": [
    "retr_vals = vlstm_fw_nogatematrices_nostabilization(\n",
    "    queries=qs,\n",
    "    keys=ks,\n",
    "    values=vs,\n",
    "    igate_preact=igate_mat,\n",
    "    fgate_preact=fgate_mat,\n",
    "    temp_Ctilde=temp_Ctilde,\n",
    "    temp_D=temp_D,\n",
    "    temp_QK=temp_QK,\n",
    "    temp_N=temp_N,\n",
    "    temp_B=temp_B,\n",
    "    eps=EPS,\n",
    ")\n",
    "retr_vals.shape"
   ]
  },
  {
   "cell_type": "code",
   "execution_count": 33,
   "metadata": {},
   "outputs": [
    {
     "data": {
      "text/plain": [
       "torch.Size([1, 1, 5, 6])"
      ]
     },
     "execution_count": 33,
     "metadata": {},
     "output_type": "execute_result"
    }
   ],
   "source": [
    "retr_vals_fwbw = vlstm_fwbw_nogatematrices_nostabilization(\n",
    "    queries=qs,\n",
    "    keys=ks,\n",
    "    values=vs,\n",
    "    igate_preact=igate_mat,\n",
    "    fgate_preact=fgate_mat,\n",
    "    temp_Ctilde=temp_Ctilde,\n",
    "    temp_D=temp_D,\n",
    "    temp_QK=temp_QK,\n",
    "    temp_N=temp_N,\n",
    "    temp_B=temp_B,\n",
    "    eps=EPS,\n",
    ")\n",
    "retr_vals_fwbw.shape"
   ]
  },
  {
   "cell_type": "markdown",
   "metadata": {},
   "source": [
    "### Check if it equals the full version:"
   ]
  },
  {
   "cell_type": "code",
   "execution_count": 34,
   "metadata": {},
   "outputs": [
    {
     "data": {
      "text/plain": [
       "torch.Size([1, 1, 5, 6])"
      ]
     },
     "execution_count": 34,
     "metadata": {},
     "output_type": "execute_result"
    }
   ],
   "source": [
    "# check if equals the full version\n",
    "retr_vals_full = vlstm_fw_torch(queries=qs, keys=ks, values=vs, igate_preact=igate_preacts, fgate_preact=fgate_preacts)\n",
    "retr_vals_full.shape"
   ]
  },
  {
   "cell_type": "code",
   "execution_count": 35,
   "metadata": {},
   "outputs": [
    {
     "data": {
      "text/plain": [
       "tensor([[[[-2.3842e-07, -7.4506e-08,  2.3842e-07,  1.7881e-07,  1.1921e-07,\n",
       "            7.4506e-08],\n",
       "          [-3.2783e-07, -4.6566e-09,  1.0431e-07,  3.8743e-07, -4.1723e-07,\n",
       "           -2.9802e-08],\n",
       "          [ 4.1723e-07, -5.9605e-08, -4.4703e-08, -1.7881e-07,  2.3842e-07,\n",
       "            8.9407e-08],\n",
       "          [-3.5763e-07,  3.8743e-07,  1.4901e-08,  5.9605e-07, -2.9802e-07,\n",
       "           -7.1526e-07],\n",
       "          [-6.5565e-07, -1.7881e-07, -2.4214e-08, -1.1921e-07, -7.4506e-07,\n",
       "            6.2585e-07]]]], device='cuda:0')"
      ]
     },
     "execution_count": 35,
     "metadata": {},
     "output_type": "execute_result"
    }
   ],
   "source": [
    "# The implementations match!!!\n",
    "retr_vals - retr_vals_full"
   ]
  },
  {
   "cell_type": "code",
   "execution_count": 36,
   "metadata": {},
   "outputs": [
    {
     "data": {
      "text/plain": [
       "tensor([[[[-2.3842e-07, -7.4506e-08,  2.3842e-07,  1.7881e-07,  1.1921e-07,\n",
       "            7.4506e-08],\n",
       "          [-3.2783e-07, -4.6566e-09,  1.0431e-07,  3.8743e-07, -4.1723e-07,\n",
       "           -2.9802e-08],\n",
       "          [ 4.1723e-07, -5.9605e-08, -4.4703e-08, -1.7881e-07,  2.3842e-07,\n",
       "            8.9407e-08],\n",
       "          [-3.5763e-07,  3.8743e-07,  1.4901e-08,  5.9605e-07, -2.9802e-07,\n",
       "           -7.1526e-07],\n",
       "          [-6.5565e-07, -1.7881e-07, -2.4214e-08, -1.1921e-07, -7.4506e-07,\n",
       "            6.2585e-07]]]], device='cuda:0')"
      ]
     },
     "execution_count": 36,
     "metadata": {},
     "output_type": "execute_result"
    }
   ],
   "source": [
    "retr_vals_fwbw - retr_vals_full"
   ]
  },
  {
   "cell_type": "code",
   "execution_count": null,
   "metadata": {},
   "outputs": [],
   "source": []
  }
 ],
 "metadata": {
  "kernelspec": {
   "display_name": "xlstmpt21cu118",
   "language": "python",
   "name": "python3"
  },
  "language_info": {
   "codemirror_mode": {
    "name": "ipython",
    "version": 3
   },
   "file_extension": ".py",
   "mimetype": "text/x-python",
   "name": "python",
   "nbconvert_exporter": "python",
   "pygments_lexer": "ipython3",
   "version": "3.11.6"
  }
 },
 "nbformat": 4,
 "nbformat_minor": 2
}
