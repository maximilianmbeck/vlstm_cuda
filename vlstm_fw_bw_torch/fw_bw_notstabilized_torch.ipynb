{
 "cells": [
  {
   "cell_type": "code",
   "execution_count": 1,
   "metadata": {
    "notebookRunGroups": {
     "groupValue": "1"
    }
   },
   "outputs": [],
   "source": [
    "%load_ext autoreload\n",
    "%autoreload 2\n",
    "\n",
    "import torch \n",
    "\n",
    "from vlstm_nogatematrices import vlstm_fw_prepare_gate_preacts, vlstm_fw_nogatematrices_nostabilization, vlstm_fwbw_nogatematrices_nostabilization\n",
    "from vlstm_full import vlstm_fw_torch\n",
    "\n"
   ]
  },
  {
   "cell_type": "markdown",
   "metadata": {},
   "source": [
    "# vLSTM forward backward implementation"
   ]
  },
  {
   "cell_type": "code",
   "execution_count": 2,
   "metadata": {
    "notebookRunGroups": {
     "groupValue": "1"
    }
   },
   "outputs": [],
   "source": [
    "DTYPE = torch.float32 \n",
    "DEVICE = torch.device(\"cuda:0\")"
   ]
  },
  {
   "cell_type": "code",
   "execution_count": 3,
   "metadata": {
    "notebookRunGroups": {
     "groupValue": "1"
    }
   },
   "outputs": [],
   "source": [
    "B = 1\n",
    "S = 5\n",
    "NH = 1\n",
    "DH = 6\n",
    "EPS = 0.0"
   ]
  },
  {
   "cell_type": "code",
   "execution_count": 4,
   "metadata": {
    "notebookRunGroups": {
     "groupValue": "1"
    }
   },
   "outputs": [],
   "source": [
    "igate_preacts = torch.randn((B, NH, S, 1), dtype=DTYPE, device=DEVICE)\n",
    "fgate_preacts = torch.randn((B, NH, S, 1), dtype=DTYPE, device=DEVICE)\n",
    "temp_Ctilde = torch.zeros((B, NH, S, S), dtype=DTYPE, device=DEVICE)\n",
    "temp_D = torch.zeros((B, NH, S, S), dtype=DTYPE, device=DEVICE)\n",
    "temp_QK = torch.zeros((B, NH, S, S), dtype=DTYPE, device=DEVICE)\n",
    "temp_N = torch.zeros((B, NH, S, 1), dtype=DTYPE, device=DEVICE)"
   ]
  },
  {
   "cell_type": "code",
   "execution_count": 5,
   "metadata": {
    "notebookRunGroups": {
     "groupValue": "1"
    }
   },
   "outputs": [
    {
     "data": {
      "text/plain": [
       "(torch.Size([1, 1, 5, 5]), torch.Size([1, 1, 5, 5]))"
      ]
     },
     "execution_count": 5,
     "metadata": {},
     "output_type": "execute_result"
    }
   ],
   "source": [
    "fgate_mat, igate_mat = vlstm_fw_prepare_gate_preacts(igate_preacts, fgate_preacts)\n",
    "igate_mat.shape, fgate_mat.shape"
   ]
  },
  {
   "cell_type": "code",
   "execution_count": 6,
   "metadata": {
    "notebookRunGroups": {
     "groupValue": "1"
    }
   },
   "outputs": [
    {
     "data": {
      "text/plain": [
       "tensor([[[[ 0.0000,    -inf,    -inf,    -inf,    -inf],\n",
       "          [-0.5457,  0.0000,    -inf,    -inf,    -inf],\n",
       "          [-1.2204, -0.6747,  0.0000,    -inf,    -inf],\n",
       "          [-1.3282, -0.7825, -0.1078,  0.0000,    -inf],\n",
       "          [-2.1286, -1.5828, -0.9082, -0.8003,  0.0000]]]], device='cuda:0')"
      ]
     },
     "execution_count": 6,
     "metadata": {},
     "output_type": "execute_result"
    }
   ],
   "source": [
    "fgate_mat"
   ]
  },
  {
   "cell_type": "code",
   "execution_count": 7,
   "metadata": {
    "notebookRunGroups": {
     "groupValue": "1"
    }
   },
   "outputs": [
    {
     "data": {
      "text/plain": [
       "tensor([[[[ 2.3054,    -inf,    -inf,    -inf,    -inf],\n",
       "          [ 2.3054,  0.0847,    -inf,    -inf,    -inf],\n",
       "          [ 2.3054,  0.0847, -1.0159,    -inf,    -inf],\n",
       "          [ 2.3054,  0.0847, -1.0159, -1.3262,    -inf],\n",
       "          [ 2.3054,  0.0847, -1.0159, -1.3262,  0.7103]]]], device='cuda:0')"
      ]
     },
     "execution_count": 7,
     "metadata": {},
     "output_type": "execute_result"
    }
   ],
   "source": [
    "igate_mat"
   ]
  },
  {
   "cell_type": "code",
   "execution_count": 8,
   "metadata": {
    "notebookRunGroups": {
     "groupValue": "1"
    }
   },
   "outputs": [
    {
     "data": {
      "text/plain": [
       "torch.Size([1, 1, 5, 6])"
      ]
     },
     "execution_count": 8,
     "metadata": {},
     "output_type": "execute_result"
    }
   ],
   "source": [
    "qs = torch.randn((B, NH, S, DH), dtype=DTYPE, device=DEVICE)\n",
    "ks = torch.randn((B, NH, S, DH), dtype=DTYPE, device=DEVICE)\n",
    "vs = torch.randn((B, NH, S, DH), dtype=DTYPE, device=DEVICE)\n",
    "vs.shape"
   ]
  },
  {
   "cell_type": "markdown",
   "metadata": {},
   "source": [
    "## Backward NOT stabilized without input & forget gate"
   ]
  },
  {
   "cell_type": "markdown",
   "metadata": {},
   "source": [
    "### Torch Autograd"
   ]
  },
  {
   "cell_type": "code",
   "execution_count": 9,
   "metadata": {
    "notebookRunGroups": {
     "groupValue": "1"
    }
   },
   "outputs": [],
   "source": [
    "fgate_mat_pt = fgate_mat.clone().detach().requires_grad_(True)\n",
    "igate_mat_pt = igate_mat.clone().detach().requires_grad_(True)\n",
    "qs_pt = qs.clone().detach().requires_grad_(True)\n",
    "ks_pt = ks.clone().detach().requires_grad_(True)\n",
    "vs_pt = vs.clone().detach().requires_grad_(True)\n",
    "temp_Ctilde_pt = temp_Ctilde.clone().detach().requires_grad_(True)\n",
    "temp_D_pt = temp_D.clone().detach().requires_grad_(True)\n",
    "temp_QK_pt = temp_QK.clone().detach().requires_grad_(True)\n",
    "temp_N_pt = temp_N.clone().detach().requires_grad_(True)"
   ]
  },
  {
   "cell_type": "code",
   "execution_count": 10,
   "metadata": {},
   "outputs": [
    {
     "data": {
      "text/plain": [
       "(tensor([[[[ 2.3054,    -inf,    -inf,    -inf,    -inf],\n",
       "           [ 2.3054,  0.0847,    -inf,    -inf,    -inf],\n",
       "           [ 2.3054,  0.0847, -1.0159,    -inf,    -inf],\n",
       "           [ 2.3054,  0.0847, -1.0159, -1.3262,    -inf],\n",
       "           [ 2.3054,  0.0847, -1.0159, -1.3262,  0.7103]]]], device='cuda:0',\n",
       "        requires_grad=True),\n",
       " tensor([[[[ 0.0000,    -inf,    -inf,    -inf,    -inf],\n",
       "           [-0.5457,  0.0000,    -inf,    -inf,    -inf],\n",
       "           [-1.2204, -0.6747,  0.0000,    -inf,    -inf],\n",
       "           [-1.3282, -0.7825, -0.1078,  0.0000,    -inf],\n",
       "           [-2.1286, -1.5828, -0.9082, -0.8003,  0.0000]]]], device='cuda:0',\n",
       "        requires_grad=True))"
      ]
     },
     "execution_count": 10,
     "metadata": {},
     "output_type": "execute_result"
    }
   ],
   "source": [
    "igate_mat_pt, fgate_mat_pt"
   ]
  },
  {
   "cell_type": "code",
   "execution_count": 11,
   "metadata": {
    "notebookRunGroups": {
     "groupValue": "1"
    }
   },
   "outputs": [
    {
     "data": {
      "text/plain": [
       "torch.Size([1, 1, 5, 6])"
      ]
     },
     "execution_count": 11,
     "metadata": {},
     "output_type": "execute_result"
    }
   ],
   "source": [
    "retr_val_pt = vlstm_fw_nogatematrices_nostabilization(\n",
    "    qs_pt, ks_pt, vs_pt, igate_mat_pt, fgate_mat_pt, \n",
    "    temp_Ctilde_pt,\n",
    "    temp_D_pt, \n",
    "    temp_QK_pt,\n",
    "    temp_N_pt,\n",
    "    eps=EPS\n",
    ")\n",
    "retr_val_pt.shape"
   ]
  },
  {
   "cell_type": "code",
   "execution_count": 12,
   "metadata": {
    "notebookRunGroups": {
     "groupValue": "1"
    }
   },
   "outputs": [],
   "source": [
    "retr_val_pt.sum().backward()"
   ]
  },
  {
   "cell_type": "code",
   "execution_count": 13,
   "metadata": {},
   "outputs": [
    {
     "data": {
      "text/plain": [
       "tensor([[[[ 0.0000, -0.0587,  0.2899, -0.1118,  0.1739],\n",
       "          [ 0.0124, -0.0611,  0.3752, -0.1276,  0.2300],\n",
       "          [-0.0260, -0.2134,  0.8997, -0.3831,  0.5293],\n",
       "          [ 0.0133, -0.1824,  0.9803, -0.3597,  0.5934],\n",
       "          [-0.0992, -0.3727,  1.2520, -0.6205,  0.7113]]]], device='cuda:0')"
      ]
     },
     "execution_count": 13,
     "metadata": {},
     "output_type": "execute_result"
    }
   ],
   "source": [
    "temp_Ctilde_pt.grad"
   ]
  },
  {
   "cell_type": "code",
   "execution_count": 14,
   "metadata": {
    "notebookRunGroups": {
     "groupValue": "1"
    }
   },
   "outputs": [
    {
     "data": {
      "text/plain": [
       "tensor([[[[ 0.0000,  0.0000,  0.0000,  0.0000,  0.0000,  0.0000],\n",
       "          [-0.0016, -0.0482,  0.0024, -0.0603,  0.0300,  0.0020],\n",
       "          [-0.0495, -0.1514, -0.1589, -0.1463, -0.0703, -0.1679],\n",
       "          [-0.0568, -0.0998, -0.1180, -0.1954, -0.0650, -0.1147],\n",
       "          [-0.1934, -0.0472, -1.1054, -0.4855,  0.3414, -0.2261]]]],\n",
       "       device='cuda:0')"
      ]
     },
     "execution_count": 14,
     "metadata": {},
     "output_type": "execute_result"
    }
   ],
   "source": [
    "qs_pt.grad"
   ]
  },
  {
   "cell_type": "code",
   "execution_count": 15,
   "metadata": {
    "notebookRunGroups": {
     "groupValue": "1"
    }
   },
   "outputs": [
    {
     "data": {
      "text/plain": [
       "tensor([[[[ 6.4270e-03,  1.5413e-02,  3.8854e-03,  1.6204e-02, -3.2575e-02,\n",
       "            7.6880e-03],\n",
       "          [ 1.9567e-02,  1.0672e-01,  1.0744e-02, -5.8428e-02,  3.0784e-02,\n",
       "            6.6472e-02],\n",
       "          [-1.1618e-01, -2.1264e-01, -1.9881e-04,  1.2807e-01, -8.7206e-02,\n",
       "           -1.0195e-01],\n",
       "          [ 2.4762e-02,  1.4069e-01, -1.0870e-02, -7.7597e-02,  3.6510e-03,\n",
       "            3.2500e-02],\n",
       "          [ 7.0642e-02, -1.4443e+00,  2.1128e-03,  5.6555e-01,  3.5326e-01,\n",
       "           -4.5008e-01]]]], device='cuda:0')"
      ]
     },
     "execution_count": 15,
     "metadata": {},
     "output_type": "execute_result"
    }
   ],
   "source": [
    "ks_pt.grad"
   ]
  },
  {
   "cell_type": "code",
   "execution_count": 16,
   "metadata": {
    "notebookRunGroups": {
     "groupValue": "1"
    }
   },
   "outputs": [
    {
     "data": {
      "text/plain": [
       "tensor([[[[-2.6701, -2.6701, -2.6701, -2.6701, -2.6701, -2.6701],\n",
       "          [-0.3439, -0.3439, -0.3439, -0.3439, -0.3439, -0.3439],\n",
       "          [ 0.0902,  0.0902,  0.0902,  0.0902,  0.0902,  0.0902],\n",
       "          [ 0.1132,  0.1132,  0.1132,  0.1132,  0.1132,  0.1132],\n",
       "          [-0.1894, -0.1894, -0.1894, -0.1894, -0.1894, -0.1894]]]],\n",
       "       device='cuda:0')"
      ]
     },
     "execution_count": 16,
     "metadata": {},
     "output_type": "execute_result"
    }
   ],
   "source": [
    "vs_pt.grad"
   ]
  },
  {
   "cell_type": "code",
   "execution_count": 17,
   "metadata": {
    "notebookRunGroups": {
     "groupValue": "1"
    }
   },
   "outputs": [
    {
     "data": {
      "text/plain": [
       "tensor([[[[-0.0000,  0.0000,  0.0000, -0.0000,  0.0000],\n",
       "          [-0.0601,  0.0601,  0.0000, -0.0000, -0.0000],\n",
       "          [-0.0391, -0.1287,  0.1678,  0.0000,  0.0000],\n",
       "          [-0.0265,  0.0626,  0.0098, -0.0458, -0.0000],\n",
       "          [ 0.0916,  0.1653,  0.0085, -0.0538, -0.2117]]]], device='cuda:0')"
      ]
     },
     "execution_count": 17,
     "metadata": {},
     "output_type": "execute_result"
    }
   ],
   "source": [
    "fgate_mat_pt.grad"
   ]
  },
  {
   "cell_type": "code",
   "execution_count": 18,
   "metadata": {
    "notebookRunGroups": {
     "groupValue": "1"
    }
   },
   "outputs": [
    {
     "data": {
      "text/plain": [
       "tensor([[[[-0.0000,  0.0000,  0.0000, -0.0000,  0.0000],\n",
       "          [-0.0601,  0.0601,  0.0000, -0.0000, -0.0000],\n",
       "          [-0.0391, -0.1287,  0.1678,  0.0000,  0.0000],\n",
       "          [-0.0265,  0.0626,  0.0098, -0.0458, -0.0000],\n",
       "          [ 0.0916,  0.1653,  0.0085, -0.0538, -0.2117]]]], device='cuda:0')"
      ]
     },
     "execution_count": 18,
     "metadata": {},
     "output_type": "execute_result"
    }
   ],
   "source": [
    "igate_mat_pt.grad"
   ]
  },
  {
   "cell_type": "markdown",
   "metadata": {},
   "source": [
    "### Own backward"
   ]
  },
  {
   "cell_type": "code",
   "execution_count": 19,
   "metadata": {
    "notebookRunGroups": {
     "groupValue": "1"
    }
   },
   "outputs": [],
   "source": [
    "fgate_mat_obw = fgate_mat.clone().detach().requires_grad_(True)\n",
    "igate_mat_obw = igate_mat.clone().detach().requires_grad_(True)\n",
    "qs_obw = qs.clone().detach().requires_grad_(True)\n",
    "ks_obw = ks.clone().detach().requires_grad_(True)\n",
    "vs_obw = vs.clone().detach().requires_grad_(True)\n",
    "temp_Ctilde_obw = temp_Ctilde.clone().detach().requires_grad_(True)\n",
    "temp_D_obw = temp_D.clone().detach().requires_grad_(True)\n",
    "temp_QK_obw = temp_QK.clone().detach().requires_grad_(True)\n",
    "temp_N_obw = temp_N.clone().detach().requires_grad_(True)"
   ]
  },
  {
   "cell_type": "code",
   "execution_count": 20,
   "metadata": {
    "notebookRunGroups": {
     "groupValue": "1"
    }
   },
   "outputs": [
    {
     "data": {
      "text/plain": [
       "torch.Size([1, 1, 5, 6])"
      ]
     },
     "execution_count": 20,
     "metadata": {},
     "output_type": "execute_result"
    }
   ],
   "source": [
    "retr_val_obw = vlstm_fwbw_nogatematrices_nostabilization(\n",
    "    qs_obw, ks_obw, vs_obw, igate_mat_obw, fgate_mat_obw, \n",
    "    temp_Ctilde_obw,\n",
    "    temp_D_obw, \n",
    "    temp_QK_obw,\n",
    "    temp_N_obw,\n",
    "    eps=EPS\n",
    ")\n",
    "retr_val_obw.shape"
   ]
  },
  {
   "cell_type": "code",
   "execution_count": 21,
   "metadata": {
    "notebookRunGroups": {
     "groupValue": "1"
    }
   },
   "outputs": [],
   "source": [
    "retr_val_obw.sum().backward()"
   ]
  },
  {
   "cell_type": "code",
   "execution_count": 22,
   "metadata": {},
   "outputs": [
    {
     "data": {
      "text/plain": [
       "tensor([[[[ 1.4901e-08],\n",
       "          [-5.9605e-08],\n",
       "          [ 5.9605e-08],\n",
       "          [ 0.0000e+00],\n",
       "          [ 0.0000e+00]]]], device='cuda:0')"
      ]
     },
     "execution_count": 22,
     "metadata": {},
     "output_type": "execute_result"
    }
   ],
   "source": [
    "temp_N_obw.grad - temp_N_pt.grad"
   ]
  },
  {
   "cell_type": "code",
   "execution_count": 23,
   "metadata": {},
   "outputs": [
    {
     "data": {
      "text/plain": [
       "tensor([[[[-6.5122,  0.0000, -0.0000,  0.0000, -0.0000],\n",
       "          [-3.4286, -0.8048, -0.0000,  0.0000, -0.0000],\n",
       "          [-0.3922, -0.0931, -1.0860,  0.0000, -0.0000],\n",
       "          [-0.2629, -0.0627, -0.9775, -0.4760, -0.0000],\n",
       "          [ 0.2547,  0.0590, -0.4495, -0.1589, -7.8078]]]], device='cuda:0')"
      ]
     },
     "execution_count": 23,
     "metadata": {},
     "output_type": "execute_result"
    }
   ],
   "source": [
    "temp_QK_obw.grad - temp_QK_pt.grad"
   ]
  },
  {
   "cell_type": "code",
   "execution_count": 31,
   "metadata": {},
   "outputs": [
    {
     "data": {
      "text/plain": [
       "tensor([[[[-0.6494, -0.8135, -2.8804, -2.6048, -4.0636],\n",
       "          [-0.5901, -0.7394, -2.8941, -2.5173, -4.0480],\n",
       "          [-0.1325, -0.1679, -2.9994, -1.8426, -3.9281],\n",
       "          [-0.0989, -0.1260, -3.0071, -1.7931, -3.9193],\n",
       "          [ 0.2134,  0.2641, -3.0790, -1.3325, -3.8374]]]], device='cuda:0')"
      ]
     },
     "execution_count": 31,
     "metadata": {},
     "output_type": "execute_result"
    }
   ],
   "source": [
    "temp_Ctilde_obw.grad - temp_Ctilde_pt.grad"
   ]
  },
  {
   "cell_type": "code",
   "execution_count": 24,
   "metadata": {
    "notebookRunGroups": {
     "groupValue": "1"
    }
   },
   "outputs": [
    {
     "data": {
      "text/plain": [
       "tensor([[[[ 5.5456e-01,  3.1493e-01, -9.2367e-02,  2.2284e+00,  3.1072e-02,\n",
       "           -8.0010e-01],\n",
       "          [ 3.5906e-01, -1.8177e-03, -5.0489e-02,  1.2086e+00,  1.5092e-01,\n",
       "           -5.1932e-01],\n",
       "          [ 1.9192e-01,  2.0818e-01,  3.0078e-01,  5.0736e-01,  2.3261e-01,\n",
       "            1.8953e-01],\n",
       "          [ 2.1064e-01,  2.6126e-01,  3.2550e-01,  5.4577e-01,  2.3976e-01,\n",
       "            1.8080e-01],\n",
       "          [ 5.9204e-01,  1.0595e-01,  3.0582e+00,  1.4426e+00, -9.2328e-01,\n",
       "            4.8500e-01]]]], device='cuda:0')"
      ]
     },
     "execution_count": 24,
     "metadata": {},
     "output_type": "execute_result"
    }
   ],
   "source": [
    "qs_obw.grad-qs_pt.grad"
   ]
  },
  {
   "cell_type": "code",
   "execution_count": 25,
   "metadata": {
    "notebookRunGroups": {
     "groupValue": "1"
    }
   },
   "outputs": [
    {
     "data": {
      "text/plain": [
       "tensor([[[[-0.7835,  2.4752,  1.8734, -2.6522,  1.0793,  2.9452],\n",
       "          [-0.1439,  0.2936,  0.0989, -0.1966,  0.1537,  0.3144],\n",
       "          [ 0.3699,  0.4899,  0.0105, -0.3212,  0.3104,  0.2817],\n",
       "          [ 0.1337,  0.4918, -0.0539, -0.3048,  0.0694,  0.0967],\n",
       "          [-0.3811,  7.7917, -0.0114, -3.0511, -1.9058,  2.4281]]]],\n",
       "       device='cuda:0')"
      ]
     },
     "execution_count": 25,
     "metadata": {},
     "output_type": "execute_result"
    }
   ],
   "source": [
    "ks_obw.grad-ks_pt.grad"
   ]
  },
  {
   "cell_type": "code",
   "execution_count": 26,
   "metadata": {
    "notebookRunGroups": {
     "groupValue": "1"
    }
   },
   "outputs": [
    {
     "data": {
      "text/plain": [
       "tensor([[[[0., 0., 0., 0., 0., 0.],\n",
       "          [0., 0., 0., 0., 0., 0.],\n",
       "          [0., 0., 0., 0., 0., 0.],\n",
       "          [0., 0., 0., 0., 0., 0.],\n",
       "          [0., 0., 0., 0., 0., 0.]]]], device='cuda:0')"
      ]
     },
     "execution_count": 26,
     "metadata": {},
     "output_type": "execute_result"
    }
   ],
   "source": [
    "vs_obw.grad-vs_pt.grad"
   ]
  },
  {
   "cell_type": "code",
   "execution_count": 27,
   "metadata": {
    "notebookRunGroups": {
     "groupValue": "1"
    }
   },
   "outputs": [
    {
     "data": {
      "text/plain": [
       "tensor([[[[ 4.7555,  0.0000, -0.0000,  0.0000, -0.0000],\n",
       "          [ 2.8712,  0.7280, -0.0000,  0.0000,  0.0000],\n",
       "          [-0.1993, -0.1013, -0.5592,  0.0000, -0.0000],\n",
       "          [ 0.1969,  0.0432, -0.0299, -0.2284,  0.0000],\n",
       "          [-0.1971, -0.1172, -0.0210, -0.1156,  1.1420]]]], device='cuda:0')"
      ]
     },
     "execution_count": 27,
     "metadata": {},
     "output_type": "execute_result"
    }
   ],
   "source": [
    "fgate_mat_obw.grad-fgate_mat_pt.grad"
   ]
  },
  {
   "cell_type": "markdown",
   "metadata": {},
   "source": [
    "### Do gradients match? "
   ]
  },
  {
   "cell_type": "code",
   "execution_count": 28,
   "metadata": {
    "notebookRunGroups": {
     "groupValue": "1"
    }
   },
   "outputs": [
    {
     "data": {
      "text/plain": [
       "tensor([[[[-5.5456e-01, -3.1493e-01,  9.2367e-02, -2.2284e+00, -3.1072e-02,\n",
       "            8.0010e-01],\n",
       "          [-3.5906e-01,  1.8177e-03,  5.0489e-02, -1.2086e+00, -1.5092e-01,\n",
       "            5.1932e-01],\n",
       "          [-1.9192e-01, -2.0818e-01, -3.0078e-01, -5.0736e-01, -2.3261e-01,\n",
       "           -1.8953e-01],\n",
       "          [-2.1064e-01, -2.6126e-01, -3.2550e-01, -5.4577e-01, -2.3976e-01,\n",
       "           -1.8080e-01],\n",
       "          [-5.9204e-01, -1.0595e-01, -3.0582e+00, -1.4426e+00,  9.2328e-01,\n",
       "           -4.8500e-01]]]], device='cuda:0')"
      ]
     },
     "execution_count": 28,
     "metadata": {},
     "output_type": "execute_result"
    }
   ],
   "source": [
    "qs_pt.grad - qs_obw.grad"
   ]
  },
  {
   "cell_type": "code",
   "execution_count": 29,
   "metadata": {
    "notebookRunGroups": {
     "groupValue": "1"
    }
   },
   "outputs": [
    {
     "name": "stdout",
     "output_type": "stream",
     "text": [
      "Forward match: True\n",
      "qs match: False\n",
      "ks match: False\n",
      "vs match: True\n",
      "fgate_mat match: False\n",
      "igate_mat match: False\n"
     ]
    }
   ],
   "source": [
    "atol = 1e-6\n",
    "rtol = 1e-6\n",
    "print(f\"Forward match: {torch.allclose(retr_val_pt, retr_val_obw)}\")\n",
    "print(f\"qs match: {torch.allclose(qs_pt.grad, qs_obw.grad, atol=atol, rtol=rtol)}\")\n",
    "print(f\"ks match: {torch.allclose(ks_pt.grad, ks_obw.grad, atol=atol, rtol=rtol)}\")\n",
    "print(f\"vs match: {torch.allclose(vs_pt.grad, vs_obw.grad, atol=atol, rtol=rtol)}\")\n",
    "print(f\"fgate_mat match: {torch.allclose(fgate_mat_pt.grad, fgate_mat_obw.grad, atol=atol, rtol=rtol)}\")\n",
    "print(f\"igate_mat match: {torch.allclose(igate_mat_pt.grad, igate_mat_obw.grad, atol=atol, rtol=rtol)}\")"
   ]
  },
  {
   "cell_type": "markdown",
   "metadata": {},
   "source": [
    "### DEBUG"
   ]
  },
  {
   "cell_type": "code",
   "execution_count": null,
   "metadata": {},
   "outputs": [],
   "source": []
  },
  {
   "cell_type": "code",
   "execution_count": null,
   "metadata": {},
   "outputs": [],
   "source": []
  },
  {
   "cell_type": "markdown",
   "metadata": {},
   "source": [
    "## Forward without input & forget gate"
   ]
  },
  {
   "cell_type": "code",
   "execution_count": 32,
   "metadata": {},
   "outputs": [
    {
     "data": {
      "text/plain": [
       "torch.Size([1, 1, 5, 6])"
      ]
     },
     "execution_count": 32,
     "metadata": {},
     "output_type": "execute_result"
    }
   ],
   "source": [
    "retr_vals = vlstm_fw_nogatematrices_nostabilization(\n",
    "    queries=qs,\n",
    "    keys=ks,\n",
    "    values=vs,\n",
    "    igate_preact=igate_mat,\n",
    "    fgate_preact=fgate_mat,\n",
    "    temp_Ctilde=temp_Ctilde,\n",
    "    temp_D=temp_D,\n",
    "    temp_QK=temp_QK,\n",
    "    temp_N=temp_N,\n",
    "    eps=EPS,\n",
    ")\n",
    "retr_vals.shape"
   ]
  },
  {
   "cell_type": "code",
   "execution_count": 35,
   "metadata": {},
   "outputs": [
    {
     "data": {
      "text/plain": [
       "torch.Size([1, 1, 5, 6])"
      ]
     },
     "execution_count": 35,
     "metadata": {},
     "output_type": "execute_result"
    }
   ],
   "source": [
    "retr_vals_fwbw = vlstm_fwbw_nogatematrices_nostabilization(\n",
    "    queries=qs,\n",
    "    keys=ks,\n",
    "    values=vs,\n",
    "    igate_preact=igate_mat,\n",
    "    fgate_preact=fgate_mat,\n",
    "    temp_Ctilde=temp_Ctilde,\n",
    "    temp_D=temp_D,\n",
    "    temp_QK=temp_QK,\n",
    "    temp_N=temp_N,\n",
    "    eps=EPS,\n",
    ")\n",
    "retr_vals_fwbw.shape"
   ]
  },
  {
   "cell_type": "markdown",
   "metadata": {},
   "source": [
    "### Check if it equals the full version:"
   ]
  },
  {
   "cell_type": "code",
   "execution_count": 36,
   "metadata": {},
   "outputs": [
    {
     "data": {
      "text/plain": [
       "torch.Size([1, 1, 5, 6])"
      ]
     },
     "execution_count": 36,
     "metadata": {},
     "output_type": "execute_result"
    }
   ],
   "source": [
    "# check if equals the full version\n",
    "retr_vals_full = vlstm_fw_torch(queries=qs, keys=ks, values=vs, igate_preact=igate_preacts, fgate_preact=fgate_preacts)\n",
    "retr_vals_full.shape"
   ]
  },
  {
   "cell_type": "code",
   "execution_count": 37,
   "metadata": {},
   "outputs": [
    {
     "data": {
      "text/plain": [
       "tensor([[[[ 8.9407e-08, -8.3447e-07,  9.5367e-07,  1.2517e-06,  1.4901e-07,\n",
       "            7.7486e-07],\n",
       "          [ 3.2783e-07, -5.3644e-07,  5.3644e-07,  8.9407e-07, -1.3411e-07,\n",
       "            5.3644e-07],\n",
       "          [-7.1526e-07,  6.5565e-07, -7.1526e-07, -1.1325e-06,  5.9605e-07,\n",
       "           -7.7486e-07],\n",
       "          [ 2.9802e-07, -7.1526e-07,  7.1526e-07,  1.4305e-06, -2.5332e-07,\n",
       "            6.5565e-07],\n",
       "          [ 4.4703e-07, -6.8545e-07,  8.9407e-07,  1.6689e-06, -5.9605e-07,\n",
       "            3.8743e-07]]]], device='cuda:0')"
      ]
     },
     "execution_count": 37,
     "metadata": {},
     "output_type": "execute_result"
    }
   ],
   "source": [
    "# The implementations match!!!\n",
    "retr_vals - retr_vals_full"
   ]
  },
  {
   "cell_type": "code",
   "execution_count": 38,
   "metadata": {},
   "outputs": [
    {
     "data": {
      "text/plain": [
       "tensor([[[[ 8.9407e-08, -8.3447e-07,  9.5367e-07,  1.2517e-06,  1.4901e-07,\n",
       "            7.7486e-07],\n",
       "          [ 3.2783e-07, -5.3644e-07,  5.3644e-07,  8.9407e-07, -1.3411e-07,\n",
       "            5.3644e-07],\n",
       "          [-7.1526e-07,  6.5565e-07, -7.1526e-07, -1.1325e-06,  5.9605e-07,\n",
       "           -7.7486e-07],\n",
       "          [ 2.9802e-07, -7.1526e-07,  7.1526e-07,  1.4305e-06, -2.5332e-07,\n",
       "            6.5565e-07],\n",
       "          [ 4.4703e-07, -6.8545e-07,  8.9407e-07,  1.6689e-06, -5.9605e-07,\n",
       "            3.8743e-07]]]], device='cuda:0')"
      ]
     },
     "execution_count": 38,
     "metadata": {},
     "output_type": "execute_result"
    }
   ],
   "source": [
    "retr_vals_fwbw - retr_vals_full"
   ]
  },
  {
   "cell_type": "code",
   "execution_count": null,
   "metadata": {},
   "outputs": [],
   "source": []
  }
 ],
 "metadata": {
  "kernelspec": {
   "display_name": "xlstmpt21cu118",
   "language": "python",
   "name": "python3"
  },
  "language_info": {
   "codemirror_mode": {
    "name": "ipython",
    "version": 3
   },
   "file_extension": ".py",
   "mimetype": "text/x-python",
   "name": "python",
   "nbconvert_exporter": "python",
   "pygments_lexer": "ipython3",
   "version": "3.11.6"
  }
 },
 "nbformat": 4,
 "nbformat_minor": 2
}
