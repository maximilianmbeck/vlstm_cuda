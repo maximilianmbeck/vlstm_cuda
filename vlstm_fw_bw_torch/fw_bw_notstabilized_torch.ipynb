{
 "cells": [
  {
   "cell_type": "code",
   "execution_count": 1,
   "metadata": {
    "notebookRunGroups": {
     "groupValue": "1"
    }
   },
   "outputs": [],
   "source": [
    "%load_ext autoreload\n",
    "%autoreload 2\n",
    "\n",
    "import torch \n",
    "\n",
    "from vlstm_nogatematrices import vlstm_fw_prepare_gate_preacts, vlstm_fw_nogatematrices_nostabilization, vlstm_fwbw_nogatematrices_nostabilization\n",
    "from vlstm_full import vlstm_fw_torch\n",
    "\n"
   ]
  },
  {
   "cell_type": "markdown",
   "metadata": {},
   "source": [
    "# vLSTM forward backward implementation"
   ]
  },
  {
   "cell_type": "code",
   "execution_count": 2,
   "metadata": {
    "notebookRunGroups": {
     "groupValue": "1"
    }
   },
   "outputs": [],
   "source": [
    "DTYPE = torch.float32 \n",
    "DEVICE = torch.device(\"cuda:0\")"
   ]
  },
  {
   "cell_type": "code",
   "execution_count": 3,
   "metadata": {
    "notebookRunGroups": {
     "groupValue": "1"
    }
   },
   "outputs": [],
   "source": [
    "B = 1\n",
    "S = 5\n",
    "NH = 1\n",
    "DH = 6\n",
    "EPS = 0.0"
   ]
  },
  {
   "cell_type": "code",
   "execution_count": 4,
   "metadata": {
    "notebookRunGroups": {
     "groupValue": "1"
    }
   },
   "outputs": [],
   "source": [
    "igate_preacts = torch.randn((B, NH, S, 1), dtype=DTYPE, device=DEVICE)\n",
    "fgate_preacts = torch.randn((B, NH, S, 1), dtype=DTYPE, device=DEVICE)\n",
    "temp_Ctilde = torch.zeros((B, NH, S, S), dtype=DTYPE, device=DEVICE)\n",
    "temp_D = torch.zeros((B, NH, S, S), dtype=DTYPE, device=DEVICE)\n",
    "temp_QK = torch.zeros((B, NH, S, S), dtype=DTYPE, device=DEVICE)\n",
    "temp_N = torch.zeros((B, NH, S, 1), dtype=DTYPE, device=DEVICE)\n",
    "temp_B = torch.zeros((B, NH, S, 1), dtype=DTYPE, device=DEVICE)"
   ]
  },
  {
   "cell_type": "code",
   "execution_count": 5,
   "metadata": {
    "notebookRunGroups": {
     "groupValue": "1"
    }
   },
   "outputs": [
    {
     "data": {
      "text/plain": [
       "(torch.Size([1, 1, 5, 5]), torch.Size([1, 1, 5, 5]))"
      ]
     },
     "execution_count": 5,
     "metadata": {},
     "output_type": "execute_result"
    }
   ],
   "source": [
    "fgate_mat, igate_mat = vlstm_fw_prepare_gate_preacts(igate_preacts, fgate_preacts)\n",
    "igate_mat.shape, fgate_mat.shape"
   ]
  },
  {
   "cell_type": "code",
   "execution_count": 6,
   "metadata": {
    "notebookRunGroups": {
     "groupValue": "1"
    }
   },
   "outputs": [
    {
     "data": {
      "text/plain": [
       "tensor([[[[ 0.0000,    -inf,    -inf,    -inf,    -inf],\n",
       "          [-1.3068,  0.0000,    -inf,    -inf,    -inf],\n",
       "          [-1.6387, -0.3319,  0.0000,    -inf,    -inf],\n",
       "          [-2.7734, -1.4667, -1.1348,  0.0000,    -inf],\n",
       "          [-3.8335, -2.5267, -2.1948, -1.0600,  0.0000]]]], device='cuda:0')"
      ]
     },
     "execution_count": 6,
     "metadata": {},
     "output_type": "execute_result"
    }
   ],
   "source": [
    "fgate_mat"
   ]
  },
  {
   "cell_type": "code",
   "execution_count": 7,
   "metadata": {
    "notebookRunGroups": {
     "groupValue": "1"
    }
   },
   "outputs": [
    {
     "data": {
      "text/plain": [
       "tensor([[[[ 0.0681,    -inf,    -inf,    -inf,    -inf],\n",
       "          [ 0.0681,  1.1541,    -inf,    -inf,    -inf],\n",
       "          [ 0.0681,  1.1541, -0.2651,    -inf,    -inf],\n",
       "          [ 0.0681,  1.1541, -0.2651, -0.3021,    -inf],\n",
       "          [ 0.0681,  1.1541, -0.2651, -0.3021,  0.8409]]]], device='cuda:0')"
      ]
     },
     "execution_count": 7,
     "metadata": {},
     "output_type": "execute_result"
    }
   ],
   "source": [
    "igate_mat"
   ]
  },
  {
   "cell_type": "code",
   "execution_count": 8,
   "metadata": {
    "notebookRunGroups": {
     "groupValue": "1"
    }
   },
   "outputs": [
    {
     "data": {
      "text/plain": [
       "torch.Size([1, 1, 5, 6])"
      ]
     },
     "execution_count": 8,
     "metadata": {},
     "output_type": "execute_result"
    }
   ],
   "source": [
    "qs = torch.randn((B, NH, S, DH), dtype=DTYPE, device=DEVICE)\n",
    "ks = torch.randn((B, NH, S, DH), dtype=DTYPE, device=DEVICE)\n",
    "vs = torch.randn((B, NH, S, DH), dtype=DTYPE, device=DEVICE)\n",
    "vs.shape"
   ]
  },
  {
   "cell_type": "markdown",
   "metadata": {},
   "source": [
    "## Backward NOT stabilized without input & forget gate"
   ]
  },
  {
   "cell_type": "markdown",
   "metadata": {},
   "source": [
    "### Torch Autograd"
   ]
  },
  {
   "cell_type": "code",
   "execution_count": 9,
   "metadata": {
    "notebookRunGroups": {
     "groupValue": "1"
    }
   },
   "outputs": [],
   "source": [
    "fgate_mat_pt = fgate_mat.clone().detach().requires_grad_(True)\n",
    "igate_mat_pt = igate_mat.clone().detach().requires_grad_(True)\n",
    "qs_pt = qs.clone().detach().requires_grad_(True)\n",
    "ks_pt = ks.clone().detach().requires_grad_(True)\n",
    "vs_pt = vs.clone().detach().requires_grad_(True)\n",
    "temp_Ctilde_pt = temp_Ctilde.clone().detach().requires_grad_(True)\n",
    "temp_D_pt = temp_D.clone().detach().requires_grad_(True)\n",
    "temp_QK_pt = temp_QK.clone().detach().requires_grad_(True)\n",
    "temp_N_pt = temp_N.clone().detach().requires_grad_(True)\n",
    "temp_B_pt = temp_B.clone().detach().requires_grad_(True)"
   ]
  },
  {
   "cell_type": "code",
   "execution_count": 10,
   "metadata": {},
   "outputs": [
    {
     "data": {
      "text/plain": [
       "(tensor([[[[ 0.0681,    -inf,    -inf,    -inf,    -inf],\n",
       "           [ 0.0681,  1.1541,    -inf,    -inf,    -inf],\n",
       "           [ 0.0681,  1.1541, -0.2651,    -inf,    -inf],\n",
       "           [ 0.0681,  1.1541, -0.2651, -0.3021,    -inf],\n",
       "           [ 0.0681,  1.1541, -0.2651, -0.3021,  0.8409]]]], device='cuda:0',\n",
       "        requires_grad=True),\n",
       " tensor([[[[ 0.0000,    -inf,    -inf,    -inf,    -inf],\n",
       "           [-1.3068,  0.0000,    -inf,    -inf,    -inf],\n",
       "           [-1.6387, -0.3319,  0.0000,    -inf,    -inf],\n",
       "           [-2.7734, -1.4667, -1.1348,  0.0000,    -inf],\n",
       "           [-3.8335, -2.5267, -2.1948, -1.0600,  0.0000]]]], device='cuda:0',\n",
       "        requires_grad=True))"
      ]
     },
     "execution_count": 10,
     "metadata": {},
     "output_type": "execute_result"
    }
   ],
   "source": [
    "igate_mat_pt, fgate_mat_pt"
   ]
  },
  {
   "cell_type": "code",
   "execution_count": 11,
   "metadata": {
    "notebookRunGroups": {
     "groupValue": "1"
    }
   },
   "outputs": [
    {
     "data": {
      "text/plain": [
       "torch.Size([1, 1, 5, 6])"
      ]
     },
     "execution_count": 11,
     "metadata": {},
     "output_type": "execute_result"
    }
   ],
   "source": [
    "retr_val_pt = vlstm_fw_nogatematrices_nostabilization(\n",
    "    qs_pt, ks_pt, vs_pt, igate_mat_pt, fgate_mat_pt, \n",
    "    temp_Ctilde_pt,\n",
    "    temp_D_pt, \n",
    "    temp_QK_pt,\n",
    "    temp_N_pt,\n",
    "    temp_B_pt,\n",
    "    eps=EPS\n",
    ")\n",
    "retr_val_pt.shape"
   ]
  },
  {
   "cell_type": "code",
   "execution_count": 12,
   "metadata": {
    "notebookRunGroups": {
     "groupValue": "1"
    }
   },
   "outputs": [],
   "source": [
    "retr_val_pt.sum().backward()"
   ]
  },
  {
   "cell_type": "code",
   "execution_count": 13,
   "metadata": {},
   "outputs": [
    {
     "data": {
      "text/plain": [
       "tensor([[[[-0.1808,  7.5565,  3.0299, -2.6199, -1.2011],\n",
       "          [-4.1559, -0.2817, -2.5482, -5.3772, -4.6668],\n",
       "          [-3.0533,  1.2428, -1.2705, -4.4075, -3.6198],\n",
       "          [-0.1808,  7.5565,  3.0299, -2.6199, -1.2011],\n",
       "          [-0.1808,  7.5565,  3.0299, -2.6199, -1.2011]]]], device='cuda:0')"
      ]
     },
     "execution_count": 13,
     "metadata": {},
     "output_type": "execute_result"
    }
   ],
   "source": [
    "temp_Ctilde_pt.grad"
   ]
  },
  {
   "cell_type": "code",
   "execution_count": 14,
   "metadata": {
    "notebookRunGroups": {
     "groupValue": "1"
    }
   },
   "outputs": [
    {
     "data": {
      "text/plain": [
       "tensor([[[[ 0.0173,  0.0353, -0.0691,  0.0335, -0.0069,  0.0910],\n",
       "          [-0.0636,  0.3762, -0.4657,  0.0243, -0.0847,  0.8219],\n",
       "          [ 0.7051, -0.2831, -0.4671,  0.7171,  0.2757, -0.0789],\n",
       "          [ 0.5619, -1.1695,  1.5253,  1.1713, -0.1283, -3.8332],\n",
       "          [ 1.3477, -2.1956,  0.5541,  0.2074, -0.5199, -1.2573]]]],\n",
       "       device='cuda:0')"
      ]
     },
     "execution_count": 14,
     "metadata": {},
     "output_type": "execute_result"
    }
   ],
   "source": [
    "qs_pt.grad"
   ]
  },
  {
   "cell_type": "code",
   "execution_count": 15,
   "metadata": {
    "notebookRunGroups": {
     "groupValue": "1"
    }
   },
   "outputs": [
    {
     "data": {
      "text/plain": [
       "tensor([[[[ 1.0093, -0.0430, -0.3616,  0.6074,  0.4815,  0.3456],\n",
       "          [-2.3925, -2.7342,  1.2138,  8.0466,  3.8282, -3.8922],\n",
       "          [-0.0234,  0.2902,  0.3225,  1.0776,  0.4399,  0.2744],\n",
       "          [ 0.7681,  0.4138, -0.6249, -2.7095, -1.1854,  0.7790],\n",
       "          [ 0.0232,  0.0758, -0.8248, -0.7961,  0.4275,  1.3741]]]],\n",
       "       device='cuda:0')"
      ]
     },
     "execution_count": 15,
     "metadata": {},
     "output_type": "execute_result"
    }
   ],
   "source": [
    "ks_pt.grad"
   ]
  },
  {
   "cell_type": "code",
   "execution_count": 16,
   "metadata": {
    "notebookRunGroups": {
     "groupValue": "1"
    }
   },
   "outputs": [
    {
     "data": {
      "text/plain": [
       "tensor([[[[-0.0248, -0.0248, -0.0248, -0.0248, -0.0248, -0.0248],\n",
       "          [ 0.2352,  0.2352,  0.2352,  0.2352,  0.2352,  0.2352],\n",
       "          [ 0.4537,  0.4537,  0.4537,  0.4537,  0.4537,  0.4537],\n",
       "          [-1.1271, -1.1271, -1.1271, -1.1271, -1.1271, -1.1271],\n",
       "          [-0.0572, -0.0572, -0.0572, -0.0572, -0.0572, -0.0572]]]],\n",
       "       device='cuda:0')"
      ]
     },
     "execution_count": 16,
     "metadata": {},
     "output_type": "execute_result"
    }
   ],
   "source": [
    "vs_pt.grad"
   ]
  },
  {
   "cell_type": "code",
   "execution_count": 17,
   "metadata": {
    "notebookRunGroups": {
     "groupValue": "1"
    }
   },
   "outputs": [
    {
     "data": {
      "text/plain": [
       "tensor([[[[ 4.0874e-02, -0.0000e+00, -0.0000e+00, -0.0000e+00, -0.0000e+00],\n",
       "          [-6.0341e-01,  6.0341e-01, -0.0000e+00,  0.0000e+00, -0.0000e+00],\n",
       "          [-5.6450e-01,  1.2945e+00, -7.2997e-01,  0.0000e+00,  0.0000e+00],\n",
       "          [-1.7167e-03,  4.5362e+00,  1.8652e-01,  1.8357e+00, -0.0000e+00],\n",
       "          [-2.9584e-03,  9.7654e-01,  2.2154e-01,  1.1172e+00,  6.8687e-02]]]],\n",
       "       device='cuda:0')"
      ]
     },
     "execution_count": 17,
     "metadata": {},
     "output_type": "execute_result"
    }
   ],
   "source": [
    "fgate_mat_pt.grad"
   ]
  },
  {
   "cell_type": "code",
   "execution_count": 18,
   "metadata": {
    "notebookRunGroups": {
     "groupValue": "1"
    }
   },
   "outputs": [
    {
     "data": {
      "text/plain": [
       "tensor([[[[ 4.0874e-02, -0.0000e+00, -0.0000e+00, -0.0000e+00, -0.0000e+00],\n",
       "          [-6.0341e-01,  6.0341e-01, -0.0000e+00,  0.0000e+00, -0.0000e+00],\n",
       "          [-5.6450e-01,  1.2945e+00, -7.2997e-01,  0.0000e+00,  0.0000e+00],\n",
       "          [-1.7167e-03,  4.5362e+00,  1.8652e-01,  1.8357e+00, -0.0000e+00],\n",
       "          [-2.9584e-03,  9.7654e-01,  2.2154e-01,  1.1172e+00,  6.8687e-02]]]],\n",
       "       device='cuda:0')"
      ]
     },
     "execution_count": 18,
     "metadata": {},
     "output_type": "execute_result"
    }
   ],
   "source": [
    "igate_mat_pt.grad"
   ]
  },
  {
   "cell_type": "markdown",
   "metadata": {},
   "source": [
    "### Own backward"
   ]
  },
  {
   "cell_type": "code",
   "execution_count": 19,
   "metadata": {
    "notebookRunGroups": {
     "groupValue": "1"
    }
   },
   "outputs": [],
   "source": [
    "fgate_mat_obw = fgate_mat.clone().detach().requires_grad_(True)\n",
    "igate_mat_obw = igate_mat.clone().detach().requires_grad_(True)\n",
    "qs_obw = qs.clone().detach().requires_grad_(True)\n",
    "ks_obw = ks.clone().detach().requires_grad_(True)\n",
    "vs_obw = vs.clone().detach().requires_grad_(True)\n",
    "temp_Ctilde_obw = temp_Ctilde.clone().detach().requires_grad_(True)\n",
    "temp_D_obw = temp_D.clone().detach().requires_grad_(True)\n",
    "temp_QK_obw = temp_QK.clone().detach().requires_grad_(True)\n",
    "temp_N_obw = temp_N.clone().detach().requires_grad_(True)\n",
    "temp_B_obw = temp_B.clone().detach().requires_grad_(True)"
   ]
  },
  {
   "cell_type": "code",
   "execution_count": 20,
   "metadata": {
    "notebookRunGroups": {
     "groupValue": "1"
    }
   },
   "outputs": [
    {
     "data": {
      "text/plain": [
       "torch.Size([1, 1, 5, 6])"
      ]
     },
     "execution_count": 20,
     "metadata": {},
     "output_type": "execute_result"
    }
   ],
   "source": [
    "retr_val_obw = vlstm_fwbw_nogatematrices_nostabilization(\n",
    "    qs_obw, ks_obw, vs_obw, igate_mat_obw, fgate_mat_obw, \n",
    "    temp_Ctilde_obw,\n",
    "    temp_D_obw, \n",
    "    temp_QK_obw,\n",
    "    temp_N_obw,\n",
    "    temp_B_obw,\n",
    "    eps=EPS\n",
    ")\n",
    "retr_val_obw.shape"
   ]
  },
  {
   "cell_type": "code",
   "execution_count": 21,
   "metadata": {
    "notebookRunGroups": {
     "groupValue": "1"
    }
   },
   "outputs": [],
   "source": [
    "retr_val_obw.sum().backward()"
   ]
  },
  {
   "cell_type": "code",
   "execution_count": 22,
   "metadata": {},
   "outputs": [
    {
     "data": {
      "text/plain": [
       "tensor([[[[ 0.0000e+00],\n",
       "          [-4.7684e-07],\n",
       "          [ 4.7684e-07],\n",
       "          [ 0.0000e+00],\n",
       "          [ 0.0000e+00]]]], device='cuda:0')"
      ]
     },
     "execution_count": 22,
     "metadata": {},
     "output_type": "execute_result"
    }
   ],
   "source": [
    "temp_N_obw.grad - temp_N_pt.grad"
   ]
  },
  {
   "cell_type": "code",
   "execution_count": 23,
   "metadata": {},
   "outputs": [
    {
     "data": {
      "text/plain": [
       "tensor([[[[0.0000e+00],\n",
       "          [4.7684e-07],\n",
       "          [4.7684e-07],\n",
       "          [0.0000e+00],\n",
       "          [0.0000e+00]]]], device='cuda:0')"
      ]
     },
     "execution_count": 23,
     "metadata": {},
     "output_type": "execute_result"
    }
   ],
   "source": [
    "temp_B_obw.grad - temp_B_pt.grad"
   ]
  },
  {
   "cell_type": "code",
   "execution_count": 24,
   "metadata": {},
   "outputs": [
    {
     "data": {
      "text/plain": [
       "tensor([[[[0.0000e+00, 0.0000e+00, 0.0000e+00, 0.0000e+00, 0.0000e+00],\n",
       "          [1.1921e-07, 1.4901e-06, 0.0000e+00, 0.0000e+00, 0.0000e+00],\n",
       "          [5.9605e-08, 1.1921e-06, 3.5763e-07, 0.0000e+00, 0.0000e+00],\n",
       "          [0.0000e+00, 0.0000e+00, 0.0000e+00, 0.0000e+00, 0.0000e+00],\n",
       "          [0.0000e+00, 0.0000e+00, 0.0000e+00, 0.0000e+00, 0.0000e+00]]]],\n",
       "       device='cuda:0')"
      ]
     },
     "execution_count": 24,
     "metadata": {},
     "output_type": "execute_result"
    }
   ],
   "source": [
    "temp_QK_obw.grad - temp_QK_pt.grad"
   ]
  },
  {
   "cell_type": "code",
   "execution_count": 25,
   "metadata": {},
   "outputs": [
    {
     "data": {
      "text/plain": [
       "tensor([[[[0.0000e+00, 0.0000e+00, 0.0000e+00, 0.0000e+00, 0.0000e+00],\n",
       "          [4.7684e-07, 4.7684e-07, 4.7684e-07, 9.5367e-07, 4.7684e-07],\n",
       "          [4.7684e-07, 4.7684e-07, 4.7684e-07, 4.7684e-07, 4.7684e-07],\n",
       "          [0.0000e+00, 0.0000e+00, 0.0000e+00, 0.0000e+00, 0.0000e+00],\n",
       "          [0.0000e+00, 0.0000e+00, 0.0000e+00, 0.0000e+00, 0.0000e+00]]]],\n",
       "       device='cuda:0')"
      ]
     },
     "execution_count": 25,
     "metadata": {},
     "output_type": "execute_result"
    }
   ],
   "source": [
    "temp_Ctilde_obw.grad - temp_Ctilde_pt.grad"
   ]
  },
  {
   "cell_type": "code",
   "execution_count": 26,
   "metadata": {
    "notebookRunGroups": {
     "groupValue": "1"
    }
   },
   "outputs": [
    {
     "data": {
      "text/plain": [
       "tensor([[[[ 0.0000e+00,  0.0000e+00,  0.0000e+00,  0.0000e+00,  0.0000e+00,\n",
       "            0.0000e+00],\n",
       "          [ 2.6822e-07, -2.6822e-07,  1.1921e-07,  2.9244e-07,  7.4506e-08,\n",
       "           -4.7684e-07],\n",
       "          [ 2.3842e-07, -2.6822e-07,  2.3842e-07,  2.3842e-07,  0.0000e+00,\n",
       "           -5.9605e-07],\n",
       "          [ 0.0000e+00,  0.0000e+00,  0.0000e+00,  0.0000e+00,  0.0000e+00,\n",
       "            0.0000e+00],\n",
       "          [ 0.0000e+00,  0.0000e+00,  0.0000e+00,  0.0000e+00,  0.0000e+00,\n",
       "            0.0000e+00]]]], device='cuda:0')"
      ]
     },
     "execution_count": 26,
     "metadata": {},
     "output_type": "execute_result"
    }
   ],
   "source": [
    "qs_obw.grad-qs_pt.grad"
   ]
  },
  {
   "cell_type": "code",
   "execution_count": 27,
   "metadata": {
    "notebookRunGroups": {
     "groupValue": "1"
    }
   },
   "outputs": [
    {
     "data": {
      "text/plain": [
       "tensor([[[[ 0.0000e+00, -3.3528e-08,  0.0000e+00,  0.0000e+00, -5.9605e-08,\n",
       "           -8.9407e-08],\n",
       "          [-1.4305e-06,  0.0000e+00,  4.7684e-07, -1.9073e-06, -4.7684e-07,\n",
       "           -2.3842e-07],\n",
       "          [-7.2643e-08, -2.0862e-07, -2.9802e-08,  0.0000e+00, -2.9802e-08,\n",
       "           -2.0862e-07],\n",
       "          [-5.9605e-08,  0.0000e+00,  0.0000e+00,  0.0000e+00,  0.0000e+00,\n",
       "            5.9605e-08],\n",
       "          [ 0.0000e+00,  0.0000e+00,  0.0000e+00, -5.9605e-08, -2.9802e-08,\n",
       "           -1.1921e-07]]]], device='cuda:0')"
      ]
     },
     "execution_count": 27,
     "metadata": {},
     "output_type": "execute_result"
    }
   ],
   "source": [
    "ks_obw.grad-ks_pt.grad"
   ]
  },
  {
   "cell_type": "code",
   "execution_count": 28,
   "metadata": {
    "notebookRunGroups": {
     "groupValue": "1"
    }
   },
   "outputs": [
    {
     "data": {
      "text/plain": [
       "tensor([[[[0., 0., 0., 0., 0., 0.],\n",
       "          [0., 0., 0., 0., 0., 0.],\n",
       "          [0., 0., 0., 0., 0., 0.],\n",
       "          [0., 0., 0., 0., 0., 0.],\n",
       "          [0., 0., 0., 0., 0., 0.]]]], device='cuda:0')"
      ]
     },
     "execution_count": 28,
     "metadata": {},
     "output_type": "execute_result"
    }
   ],
   "source": [
    "vs_obw.grad-vs_pt.grad"
   ]
  },
  {
   "cell_type": "code",
   "execution_count": 29,
   "metadata": {
    "notebookRunGroups": {
     "groupValue": "1"
    }
   },
   "outputs": [
    {
     "data": {
      "text/plain": [
       "tensor([[[[ 0.0000e+00,  0.0000e+00,  0.0000e+00,  0.0000e+00,  0.0000e+00],\n",
       "          [ 5.9605e-08, -1.0133e-06,  0.0000e+00,  0.0000e+00,  0.0000e+00],\n",
       "          [ 5.9605e-08,  4.7684e-07,  2.3842e-07,  0.0000e+00,  0.0000e+00],\n",
       "          [ 0.0000e+00,  0.0000e+00,  0.0000e+00,  0.0000e+00,  0.0000e+00],\n",
       "          [ 0.0000e+00,  0.0000e+00,  0.0000e+00,  0.0000e+00,  0.0000e+00]]]],\n",
       "       device='cuda:0')"
      ]
     },
     "execution_count": 29,
     "metadata": {},
     "output_type": "execute_result"
    }
   ],
   "source": [
    "fgate_mat_obw.grad-fgate_mat_pt.grad"
   ]
  },
  {
   "cell_type": "markdown",
   "metadata": {},
   "source": [
    "### Do gradients match? "
   ]
  },
  {
   "cell_type": "code",
   "execution_count": 30,
   "metadata": {
    "notebookRunGroups": {
     "groupValue": "1"
    }
   },
   "outputs": [
    {
     "data": {
      "text/plain": [
       "tensor([[[[ 0.0000e+00,  0.0000e+00,  0.0000e+00,  0.0000e+00,  0.0000e+00,\n",
       "            0.0000e+00],\n",
       "          [-2.6822e-07,  2.6822e-07, -1.1921e-07, -2.9244e-07, -7.4506e-08,\n",
       "            4.7684e-07],\n",
       "          [-2.3842e-07,  2.6822e-07, -2.3842e-07, -2.3842e-07,  0.0000e+00,\n",
       "            5.9605e-07],\n",
       "          [ 0.0000e+00,  0.0000e+00,  0.0000e+00,  0.0000e+00,  0.0000e+00,\n",
       "            0.0000e+00],\n",
       "          [ 0.0000e+00,  0.0000e+00,  0.0000e+00,  0.0000e+00,  0.0000e+00,\n",
       "            0.0000e+00]]]], device='cuda:0')"
      ]
     },
     "execution_count": 30,
     "metadata": {},
     "output_type": "execute_result"
    }
   ],
   "source": [
    "qs_pt.grad - qs_obw.grad"
   ]
  },
  {
   "cell_type": "code",
   "execution_count": 31,
   "metadata": {
    "notebookRunGroups": {
     "groupValue": "1"
    }
   },
   "outputs": [
    {
     "name": "stdout",
     "output_type": "stream",
     "text": [
      "Forward match: True\n",
      "qs match: True\n",
      "ks match: True\n",
      "vs match: True\n",
      "fgate_mat match: True\n",
      "igate_mat match: True\n"
     ]
    }
   ],
   "source": [
    "atol = 1e-6\n",
    "rtol = 1e-6\n",
    "print(f\"Forward match: {torch.allclose(retr_val_pt, retr_val_obw)}\")\n",
    "print(f\"qs match: {torch.allclose(qs_pt.grad, qs_obw.grad, atol=atol, rtol=rtol)}\")\n",
    "print(f\"ks match: {torch.allclose(ks_pt.grad, ks_obw.grad, atol=atol, rtol=rtol)}\")\n",
    "print(f\"vs match: {torch.allclose(vs_pt.grad, vs_obw.grad, atol=atol, rtol=rtol)}\")\n",
    "print(f\"fgate_mat match: {torch.allclose(fgate_mat_pt.grad, fgate_mat_obw.grad, atol=atol, rtol=rtol)}\")\n",
    "print(f\"igate_mat match: {torch.allclose(igate_mat_pt.grad, igate_mat_obw.grad, atol=atol, rtol=rtol)}\")"
   ]
  },
  {
   "cell_type": "markdown",
   "metadata": {},
   "source": [
    "### DEBUG"
   ]
  },
  {
   "cell_type": "code",
   "execution_count": null,
   "metadata": {},
   "outputs": [],
   "source": []
  },
  {
   "cell_type": "code",
   "execution_count": null,
   "metadata": {},
   "outputs": [],
   "source": []
  },
  {
   "cell_type": "markdown",
   "metadata": {},
   "source": [
    "## Forward without input & forget gate"
   ]
  },
  {
   "cell_type": "code",
   "execution_count": 32,
   "metadata": {},
   "outputs": [
    {
     "ename": "TypeError",
     "evalue": "vlstm_fw_nogatematrices_nostabilization() missing 1 required positional argument: 'temp_B'",
     "output_type": "error",
     "traceback": [
      "\u001b[0;31m---------------------------------------------------------------------------\u001b[0m",
      "\u001b[0;31mTypeError\u001b[0m                                 Traceback (most recent call last)",
      "Cell \u001b[0;32mIn[32], line 1\u001b[0m\n\u001b[0;32m----> 1\u001b[0m retr_vals \u001b[38;5;241m=\u001b[39m \u001b[43mvlstm_fw_nogatematrices_nostabilization\u001b[49m\u001b[43m(\u001b[49m\n\u001b[1;32m      2\u001b[0m \u001b[43m    \u001b[49m\u001b[43mqueries\u001b[49m\u001b[38;5;241;43m=\u001b[39;49m\u001b[43mqs\u001b[49m\u001b[43m,\u001b[49m\n\u001b[1;32m      3\u001b[0m \u001b[43m    \u001b[49m\u001b[43mkeys\u001b[49m\u001b[38;5;241;43m=\u001b[39;49m\u001b[43mks\u001b[49m\u001b[43m,\u001b[49m\n\u001b[1;32m      4\u001b[0m \u001b[43m    \u001b[49m\u001b[43mvalues\u001b[49m\u001b[38;5;241;43m=\u001b[39;49m\u001b[43mvs\u001b[49m\u001b[43m,\u001b[49m\n\u001b[1;32m      5\u001b[0m \u001b[43m    \u001b[49m\u001b[43migate_preact\u001b[49m\u001b[38;5;241;43m=\u001b[39;49m\u001b[43migate_mat\u001b[49m\u001b[43m,\u001b[49m\n\u001b[1;32m      6\u001b[0m \u001b[43m    \u001b[49m\u001b[43mfgate_preact\u001b[49m\u001b[38;5;241;43m=\u001b[39;49m\u001b[43mfgate_mat\u001b[49m\u001b[43m,\u001b[49m\n\u001b[1;32m      7\u001b[0m \u001b[43m    \u001b[49m\u001b[43mtemp_Ctilde\u001b[49m\u001b[38;5;241;43m=\u001b[39;49m\u001b[43mtemp_Ctilde\u001b[49m\u001b[43m,\u001b[49m\n\u001b[1;32m      8\u001b[0m \u001b[43m    \u001b[49m\u001b[43mtemp_D\u001b[49m\u001b[38;5;241;43m=\u001b[39;49m\u001b[43mtemp_D\u001b[49m\u001b[43m,\u001b[49m\n\u001b[1;32m      9\u001b[0m \u001b[43m    \u001b[49m\u001b[43mtemp_QK\u001b[49m\u001b[38;5;241;43m=\u001b[39;49m\u001b[43mtemp_QK\u001b[49m\u001b[43m,\u001b[49m\n\u001b[1;32m     10\u001b[0m \u001b[43m    \u001b[49m\u001b[43mtemp_N\u001b[49m\u001b[38;5;241;43m=\u001b[39;49m\u001b[43mtemp_N\u001b[49m\u001b[43m,\u001b[49m\n\u001b[1;32m     11\u001b[0m \u001b[43m    \u001b[49m\u001b[43meps\u001b[49m\u001b[38;5;241;43m=\u001b[39;49m\u001b[43mEPS\u001b[49m\u001b[43m,\u001b[49m\n\u001b[1;32m     12\u001b[0m \u001b[43m)\u001b[49m\n\u001b[1;32m     13\u001b[0m retr_vals\u001b[38;5;241m.\u001b[39mshape\n",
      "\u001b[0;31mTypeError\u001b[0m: vlstm_fw_nogatematrices_nostabilization() missing 1 required positional argument: 'temp_B'"
     ]
    }
   ],
   "source": [
    "retr_vals = vlstm_fw_nogatematrices_nostabilization(\n",
    "    queries=qs,\n",
    "    keys=ks,\n",
    "    values=vs,\n",
    "    igate_preact=igate_mat,\n",
    "    fgate_preact=fgate_mat,\n",
    "    temp_Ctilde=temp_Ctilde,\n",
    "    temp_D=temp_D,\n",
    "    temp_QK=temp_QK,\n",
    "    temp_N=temp_N,\n",
    "    eps=EPS,\n",
    ")\n",
    "retr_vals.shape"
   ]
  },
  {
   "cell_type": "code",
   "execution_count": null,
   "metadata": {},
   "outputs": [
    {
     "data": {
      "text/plain": [
       "torch.Size([1, 1, 5, 6])"
      ]
     },
     "execution_count": 35,
     "metadata": {},
     "output_type": "execute_result"
    }
   ],
   "source": [
    "retr_vals_fwbw = vlstm_fwbw_nogatematrices_nostabilization(\n",
    "    queries=qs,\n",
    "    keys=ks,\n",
    "    values=vs,\n",
    "    igate_preact=igate_mat,\n",
    "    fgate_preact=fgate_mat,\n",
    "    temp_Ctilde=temp_Ctilde,\n",
    "    temp_D=temp_D,\n",
    "    temp_QK=temp_QK,\n",
    "    temp_N=temp_N,\n",
    "    eps=EPS,\n",
    ")\n",
    "retr_vals_fwbw.shape"
   ]
  },
  {
   "cell_type": "markdown",
   "metadata": {},
   "source": [
    "### Check if it equals the full version:"
   ]
  },
  {
   "cell_type": "code",
   "execution_count": null,
   "metadata": {},
   "outputs": [
    {
     "data": {
      "text/plain": [
       "torch.Size([1, 1, 5, 6])"
      ]
     },
     "execution_count": 36,
     "metadata": {},
     "output_type": "execute_result"
    }
   ],
   "source": [
    "# check if equals the full version\n",
    "retr_vals_full = vlstm_fw_torch(queries=qs, keys=ks, values=vs, igate_preact=igate_preacts, fgate_preact=fgate_preacts)\n",
    "retr_vals_full.shape"
   ]
  },
  {
   "cell_type": "code",
   "execution_count": null,
   "metadata": {},
   "outputs": [
    {
     "data": {
      "text/plain": [
       "tensor([[[[ 8.9407e-08, -8.3447e-07,  9.5367e-07,  1.2517e-06,  1.4901e-07,\n",
       "            7.7486e-07],\n",
       "          [ 3.2783e-07, -5.3644e-07,  5.3644e-07,  8.9407e-07, -1.3411e-07,\n",
       "            5.3644e-07],\n",
       "          [-7.1526e-07,  6.5565e-07, -7.1526e-07, -1.1325e-06,  5.9605e-07,\n",
       "           -7.7486e-07],\n",
       "          [ 2.9802e-07, -7.1526e-07,  7.1526e-07,  1.4305e-06, -2.5332e-07,\n",
       "            6.5565e-07],\n",
       "          [ 4.4703e-07, -6.8545e-07,  8.9407e-07,  1.6689e-06, -5.9605e-07,\n",
       "            3.8743e-07]]]], device='cuda:0')"
      ]
     },
     "execution_count": 37,
     "metadata": {},
     "output_type": "execute_result"
    }
   ],
   "source": [
    "# The implementations match!!!\n",
    "retr_vals - retr_vals_full"
   ]
  },
  {
   "cell_type": "code",
   "execution_count": null,
   "metadata": {},
   "outputs": [
    {
     "data": {
      "text/plain": [
       "tensor([[[[ 8.9407e-08, -8.3447e-07,  9.5367e-07,  1.2517e-06,  1.4901e-07,\n",
       "            7.7486e-07],\n",
       "          [ 3.2783e-07, -5.3644e-07,  5.3644e-07,  8.9407e-07, -1.3411e-07,\n",
       "            5.3644e-07],\n",
       "          [-7.1526e-07,  6.5565e-07, -7.1526e-07, -1.1325e-06,  5.9605e-07,\n",
       "           -7.7486e-07],\n",
       "          [ 2.9802e-07, -7.1526e-07,  7.1526e-07,  1.4305e-06, -2.5332e-07,\n",
       "            6.5565e-07],\n",
       "          [ 4.4703e-07, -6.8545e-07,  8.9407e-07,  1.6689e-06, -5.9605e-07,\n",
       "            3.8743e-07]]]], device='cuda:0')"
      ]
     },
     "execution_count": 38,
     "metadata": {},
     "output_type": "execute_result"
    }
   ],
   "source": [
    "retr_vals_fwbw - retr_vals_full"
   ]
  },
  {
   "cell_type": "code",
   "execution_count": null,
   "metadata": {},
   "outputs": [],
   "source": []
  }
 ],
 "metadata": {
  "kernelspec": {
   "display_name": "xlstmpt21cu118",
   "language": "python",
   "name": "python3"
  },
  "language_info": {
   "codemirror_mode": {
    "name": "ipython",
    "version": 3
   },
   "file_extension": ".py",
   "mimetype": "text/x-python",
   "name": "python",
   "nbconvert_exporter": "python",
   "pygments_lexer": "ipython3",
   "version": "3.11.6"
  }
 },
 "nbformat": 4,
 "nbformat_minor": 2
}
