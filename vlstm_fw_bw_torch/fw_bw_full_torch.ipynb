{
 "cells": [
  {
   "cell_type": "code",
   "execution_count": 1,
   "metadata": {
    "notebookRunGroups": {
     "groupValue": "1"
    }
   },
   "outputs": [],
   "source": [
    "%load_ext autoreload\n",
    "%autoreload 2\n",
    "\n",
    "import torch \n",
    "\n",
    "from vlstm_full import vlstm_fw_torch, vlstm_fwbw_torch\n",
    "\n"
   ]
  },
  {
   "cell_type": "markdown",
   "metadata": {},
   "source": [
    "# vLSTM forward backward (FULL version stabilized) implementation"
   ]
  },
  {
   "cell_type": "code",
   "execution_count": 2,
   "metadata": {
    "notebookRunGroups": {
     "groupValue": "1"
    }
   },
   "outputs": [],
   "source": [
    "DTYPE = torch.float32 \n",
    "DEVICE = torch.device(\"cuda:0\")"
   ]
  },
  {
   "cell_type": "code",
   "execution_count": 3,
   "metadata": {
    "notebookRunGroups": {
     "groupValue": "1"
    }
   },
   "outputs": [],
   "source": [
    "B = 1\n",
    "S = 5\n",
    "NH = 1\n",
    "DH = 6\n",
    "EPS = 0.0"
   ]
  },
  {
   "cell_type": "code",
   "execution_count": 4,
   "metadata": {
    "notebookRunGroups": {
     "groupValue": "1"
    }
   },
   "outputs": [],
   "source": [
    "igate_preacts = torch.randn((B, NH, S, 1), dtype=DTYPE, device=DEVICE)\n",
    "fgate_preacts = torch.randn((B, NH, S, 1), dtype=DTYPE, device=DEVICE)"
   ]
  },
  {
   "cell_type": "code",
   "execution_count": 5,
   "metadata": {
    "notebookRunGroups": {
     "groupValue": "1"
    }
   },
   "outputs": [
    {
     "data": {
      "text/plain": [
       "torch.Size([1, 1, 5, 6])"
      ]
     },
     "execution_count": 5,
     "metadata": {},
     "output_type": "execute_result"
    }
   ],
   "source": [
    "qs = torch.randn((B, NH, S, DH), dtype=DTYPE, device=DEVICE)\n",
    "ks = torch.randn((B, NH, S, DH), dtype=DTYPE, device=DEVICE)\n",
    "vs = torch.randn((B, NH, S, DH), dtype=DTYPE, device=DEVICE)\n",
    "vs.shape"
   ]
  },
  {
   "cell_type": "markdown",
   "metadata": {},
   "source": [
    "## Backward Stabilized without input & forget gate"
   ]
  },
  {
   "cell_type": "markdown",
   "metadata": {},
   "source": [
    "### Torch Autograd"
   ]
  },
  {
   "cell_type": "code",
   "execution_count": 6,
   "metadata": {
    "notebookRunGroups": {
     "groupValue": "1"
    }
   },
   "outputs": [],
   "source": [
    "fgate_preacts_pt = fgate_preacts.clone().detach().requires_grad_(True)\n",
    "igate_preacts_pt = igate_preacts.clone().detach().requires_grad_(True)\n",
    "qs_pt = qs.clone().detach().requires_grad_(True)\n",
    "ks_pt = ks.clone().detach().requires_grad_(True)\n",
    "vs_pt = vs.clone().detach().requires_grad_(True)"
   ]
  },
  {
   "cell_type": "code",
   "execution_count": 7,
   "metadata": {},
   "outputs": [
    {
     "data": {
      "text/plain": [
       "(tensor([[[[-0.8153],\n",
       "           [-0.8300],\n",
       "           [-0.4147],\n",
       "           [ 0.2378],\n",
       "           [ 1.3356]]]], device='cuda:0', requires_grad=True),\n",
       " tensor([[[[ 1.5931],\n",
       "           [-0.8049],\n",
       "           [-1.0801],\n",
       "           [-1.8037],\n",
       "           [-1.1816]]]], device='cuda:0', requires_grad=True))"
      ]
     },
     "execution_count": 7,
     "metadata": {},
     "output_type": "execute_result"
    }
   ],
   "source": [
    "igate_preacts_pt, fgate_preacts_pt"
   ]
  },
  {
   "cell_type": "code",
   "execution_count": 8,
   "metadata": {
    "notebookRunGroups": {
     "groupValue": "1"
    }
   },
   "outputs": [
    {
     "data": {
      "text/plain": [
       "torch.Size([1, 1, 5, 6])"
      ]
     },
     "execution_count": 8,
     "metadata": {},
     "output_type": "execute_result"
    }
   ],
   "source": [
    "retr_val_pt = vlstm_fw_torch(qs_pt, ks_pt, vs_pt, igate_preacts_pt, fgate_preacts_pt, eps=EPS)\n",
    "retr_val_pt.shape"
   ]
  },
  {
   "cell_type": "code",
   "execution_count": 9,
   "metadata": {
    "notebookRunGroups": {
     "groupValue": "1"
    }
   },
   "outputs": [],
   "source": [
    "retr_val_pt.sum().backward()"
   ]
  },
  {
   "cell_type": "code",
   "execution_count": 10,
   "metadata": {
    "notebookRunGroups": {
     "groupValue": "1"
    }
   },
   "outputs": [
    {
     "data": {
      "text/plain": [
       "tensor([[[[-7.4937e-03,  9.9400e-02,  4.8439e-02, -1.8549e-01, -2.4355e-01,\n",
       "            1.3618e-01],\n",
       "          [ 1.5646e-02,  4.5657e-02,  5.3954e-02, -6.1600e-02, -8.4806e-02,\n",
       "            1.0692e-02],\n",
       "          [-3.4843e-01, -3.0921e-04, -2.2357e-01,  2.5050e-01, -1.1053e-01,\n",
       "            1.6818e-01],\n",
       "          [ 7.0005e-03,  3.7986e-03,  1.5666e-02, -8.3835e-03,  6.8498e-04,\n",
       "           -1.4984e-02],\n",
       "          [-9.7439e-04,  3.1440e-04,  1.4727e-03,  4.9805e-05,  4.8324e-04,\n",
       "           -1.9327e-03]]]], device='cuda:0')"
      ]
     },
     "execution_count": 10,
     "metadata": {},
     "output_type": "execute_result"
    }
   ],
   "source": [
    "qs_pt.grad"
   ]
  },
  {
   "cell_type": "code",
   "execution_count": 11,
   "metadata": {
    "notebookRunGroups": {
     "groupValue": "1"
    }
   },
   "outputs": [
    {
     "data": {
      "text/plain": [
       "tensor([[[[-3.2740e-01,  2.6350e-01, -4.8446e-02,  6.9152e-02, -1.2329e-01,\n",
       "           -1.0815e-01],\n",
       "          [-2.4688e-02, -4.6997e-03,  1.4115e-02,  8.7711e-02, -3.2873e-02,\n",
       "           -2.3681e-02],\n",
       "          [ 1.0163e-01,  3.6865e-02, -1.3464e-01, -1.6148e-01, -3.7631e-01,\n",
       "           -7.8293e-02],\n",
       "          [ 3.1089e-03,  2.4774e-03, -1.8500e-04, -3.3440e-03,  1.9840e-03,\n",
       "            6.8678e-03],\n",
       "          [ 2.4160e-04,  8.4634e-05,  1.5980e-04, -2.8352e-04,  1.5039e-04,\n",
       "            4.4040e-05]]]], device='cuda:0')"
      ]
     },
     "execution_count": 11,
     "metadata": {},
     "output_type": "execute_result"
    }
   ],
   "source": [
    "ks_pt.grad"
   ]
  },
  {
   "cell_type": "code",
   "execution_count": 12,
   "metadata": {
    "notebookRunGroups": {
     "groupValue": "1"
    }
   },
   "outputs": [
    {
     "data": {
      "text/plain": [
       "tensor([[[[ 0.2637,  0.2637,  0.2637,  0.2637,  0.2637,  0.2637],\n",
       "          [ 0.1878,  0.1878,  0.1878,  0.1878,  0.1878,  0.1878],\n",
       "          [-0.2005, -0.2005, -0.2005, -0.2005, -0.2005, -0.2005],\n",
       "          [-0.8794, -0.8794, -0.8794, -0.8794, -0.8794, -0.8794],\n",
       "          [ 0.9068,  0.9068,  0.9068,  0.9068,  0.9068,  0.9068]]]],\n",
       "       device='cuda:0')"
      ]
     },
     "execution_count": 12,
     "metadata": {},
     "output_type": "execute_result"
    }
   ],
   "source": [
    "vs_pt.grad"
   ]
  },
  {
   "cell_type": "code",
   "execution_count": 13,
   "metadata": {
    "notebookRunGroups": {
     "groupValue": "1"
    }
   },
   "outputs": [
    {
     "data": {
      "text/plain": [
       "tensor([[[[ 2.5175e-09],\n",
       "          [-8.7534e-02],\n",
       "          [-3.3391e-02],\n",
       "          [-1.5502e-02],\n",
       "          [-5.1984e-04]]]], device='cuda:0')"
      ]
     },
     "execution_count": 13,
     "metadata": {},
     "output_type": "execute_result"
    }
   ],
   "source": [
    "fgate_preacts_pt.grad"
   ]
  },
  {
   "cell_type": "code",
   "execution_count": 14,
   "metadata": {
    "notebookRunGroups": {
     "groupValue": "1"
    }
   },
   "outputs": [
    {
     "data": {
      "text/plain": [
       "tensor([[[[0.2038],\n",
       "          [0.0288],\n",
       "          [0.1226],\n",
       "          [0.0174],\n",
       "          [0.0007]]]], device='cuda:0')"
      ]
     },
     "execution_count": 14,
     "metadata": {},
     "output_type": "execute_result"
    }
   ],
   "source": [
    "igate_preacts_pt.grad"
   ]
  },
  {
   "cell_type": "markdown",
   "metadata": {},
   "source": [
    "### Own backward"
   ]
  },
  {
   "cell_type": "code",
   "execution_count": 15,
   "metadata": {
    "notebookRunGroups": {
     "groupValue": "1"
    }
   },
   "outputs": [],
   "source": [
    "fgate_preacts_obw = fgate_preacts.clone().detach().requires_grad_(True)\n",
    "igate_preacts_obw = igate_preacts.clone().detach().requires_grad_(True)\n",
    "qs_obw = qs.clone().detach().requires_grad_(True)\n",
    "ks_obw = ks.clone().detach().requires_grad_(True)\n",
    "vs_obw = vs.clone().detach().requires_grad_(True)"
   ]
  },
  {
   "cell_type": "code",
   "execution_count": 16,
   "metadata": {
    "notebookRunGroups": {
     "groupValue": "1"
    }
   },
   "outputs": [
    {
     "data": {
      "text/plain": [
       "torch.Size([1, 1, 5, 6])"
      ]
     },
     "execution_count": 16,
     "metadata": {},
     "output_type": "execute_result"
    }
   ],
   "source": [
    "retr_val_obw = vlstm_fwbw_torch(\n",
    "    qs_obw, ks_obw, vs_obw, igate_preacts_obw, fgate_preacts_obw, eps=EPS\n",
    ")\n",
    "retr_val_obw.shape"
   ]
  },
  {
   "cell_type": "code",
   "execution_count": 17,
   "metadata": {
    "notebookRunGroups": {
     "groupValue": "1"
    }
   },
   "outputs": [],
   "source": [
    "retr_val_obw.sum().backward()"
   ]
  },
  {
   "cell_type": "code",
   "execution_count": 18,
   "metadata": {
    "notebookRunGroups": {
     "groupValue": "1"
    }
   },
   "outputs": [
    {
     "data": {
      "text/plain": [
       "tensor([[[[ 0.0000e+00,  0.0000e+00,  0.0000e+00,  0.0000e+00,  0.0000e+00,\n",
       "            0.0000e+00],\n",
       "          [ 0.0000e+00,  0.0000e+00,  0.0000e+00,  0.0000e+00,  0.0000e+00,\n",
       "            0.0000e+00],\n",
       "          [ 0.0000e+00,  0.0000e+00,  0.0000e+00,  0.0000e+00,  0.0000e+00,\n",
       "            0.0000e+00],\n",
       "          [-5.2620e-08, -4.6566e-10, -1.8626e-09,  2.7940e-08,  7.4506e-09,\n",
       "           -2.7008e-08],\n",
       "          [-6.9849e-09, -1.5716e-09, -3.6904e-08,  1.5621e-08, -3.4343e-08,\n",
       "           -2.0373e-08]]]], device='cuda:0')"
      ]
     },
     "execution_count": 18,
     "metadata": {},
     "output_type": "execute_result"
    }
   ],
   "source": [
    "qs_obw.grad-qs_pt.grad"
   ]
  },
  {
   "cell_type": "code",
   "execution_count": 19,
   "metadata": {
    "notebookRunGroups": {
     "groupValue": "1"
    }
   },
   "outputs": [
    {
     "data": {
      "text/plain": [
       "tensor([[[[ 2.9802e-08,  0.0000e+00,  0.0000e+00,  7.4506e-09,  1.4901e-08,\n",
       "            0.0000e+00],\n",
       "          [ 0.0000e+00,  4.6566e-10,  9.3132e-10,  0.0000e+00,  0.0000e+00,\n",
       "            0.0000e+00],\n",
       "          [ 7.4506e-09,  3.7253e-09, -1.4901e-08,  0.0000e+00, -2.9802e-08,\n",
       "            0.0000e+00],\n",
       "          [ 2.2352e-08,  1.5134e-08,  3.0414e-09, -2.5146e-08,  1.3970e-08,\n",
       "            3.7253e-08],\n",
       "          [-3.7733e-08, -1.3220e-08, -2.4957e-08,  4.4267e-08, -2.3487e-08,\n",
       "           -6.8794e-09]]]], device='cuda:0')"
      ]
     },
     "execution_count": 19,
     "metadata": {},
     "output_type": "execute_result"
    }
   ],
   "source": [
    "ks_obw.grad-ks_pt.grad"
   ]
  },
  {
   "cell_type": "code",
   "execution_count": 20,
   "metadata": {
    "notebookRunGroups": {
     "groupValue": "1"
    }
   },
   "outputs": [
    {
     "data": {
      "text/plain": [
       "tensor([[[[0., 0., 0., 0., 0., 0.],\n",
       "          [0., 0., 0., 0., 0., 0.],\n",
       "          [0., 0., 0., 0., 0., 0.],\n",
       "          [0., 0., 0., 0., 0., 0.],\n",
       "          [0., 0., 0., 0., 0., 0.]]]], device='cuda:0')"
      ]
     },
     "execution_count": 20,
     "metadata": {},
     "output_type": "execute_result"
    }
   ],
   "source": [
    "vs_obw.grad-vs_pt.grad"
   ]
  },
  {
   "cell_type": "code",
   "execution_count": 21,
   "metadata": {
    "notebookRunGroups": {
     "groupValue": "1"
    }
   },
   "outputs": [
    {
     "data": {
      "text/plain": [
       "tensor([[[[-2.5175e-09],\n",
       "          [-1.4901e-08],\n",
       "          [ 0.0000e+00],\n",
       "          [ 3.7253e-09],\n",
       "          [-8.2073e-09]]]], device='cuda:0')"
      ]
     },
     "execution_count": 21,
     "metadata": {},
     "output_type": "execute_result"
    }
   ],
   "source": [
    "fgate_preacts_obw.grad-fgate_preacts_pt.grad"
   ]
  },
  {
   "cell_type": "code",
   "execution_count": 22,
   "metadata": {},
   "outputs": [
    {
     "data": {
      "text/plain": [
       "tensor([[[[-2.9802e-08],\n",
       "          [-7.4506e-09],\n",
       "          [ 7.4506e-09],\n",
       "          [ 3.1665e-08],\n",
       "          [-2.2870e-07]]]], device='cuda:0')"
      ]
     },
     "execution_count": 22,
     "metadata": {},
     "output_type": "execute_result"
    }
   ],
   "source": [
    "igate_preacts_obw.grad-igate_preacts_pt.grad"
   ]
  },
  {
   "cell_type": "markdown",
   "metadata": {},
   "source": [
    "### Do gradients match? "
   ]
  },
  {
   "cell_type": "code",
   "execution_count": 23,
   "metadata": {
    "notebookRunGroups": {
     "groupValue": "1"
    }
   },
   "outputs": [
    {
     "data": {
      "text/plain": [
       "tensor([[[[ 0.0000e+00,  0.0000e+00,  0.0000e+00,  0.0000e+00,  0.0000e+00,\n",
       "            0.0000e+00],\n",
       "          [ 0.0000e+00,  0.0000e+00,  0.0000e+00,  0.0000e+00,  0.0000e+00,\n",
       "            0.0000e+00],\n",
       "          [ 0.0000e+00,  0.0000e+00,  0.0000e+00,  0.0000e+00,  0.0000e+00,\n",
       "            0.0000e+00],\n",
       "          [ 5.2620e-08,  4.6566e-10,  1.8626e-09, -2.7940e-08, -7.4506e-09,\n",
       "            2.7008e-08],\n",
       "          [ 6.9849e-09,  1.5716e-09,  3.6904e-08, -1.5621e-08,  3.4343e-08,\n",
       "            2.0373e-08]]]], device='cuda:0')"
      ]
     },
     "execution_count": 23,
     "metadata": {},
     "output_type": "execute_result"
    }
   ],
   "source": [
    "qs_pt.grad - qs_obw.grad"
   ]
  },
  {
   "cell_type": "code",
   "execution_count": 24,
   "metadata": {
    "notebookRunGroups": {
     "groupValue": "1"
    }
   },
   "outputs": [
    {
     "name": "stdout",
     "output_type": "stream",
     "text": [
      "Forward match: True\n",
      "qs match: True\n",
      "ks match: True\n",
      "vs match: True\n",
      "fgate_preacts match: True\n",
      "igate_preacts match: True\n"
     ]
    }
   ],
   "source": [
    "atol = 1e-6\n",
    "rtol = 1e-6\n",
    "print(f\"Forward match: {torch.allclose(retr_val_pt, retr_val_obw)}\")\n",
    "print(f\"qs match: {torch.allclose(qs_pt.grad, qs_obw.grad, atol=atol, rtol=rtol)}\")\n",
    "print(f\"ks match: {torch.allclose(ks_pt.grad, ks_obw.grad, atol=atol, rtol=rtol)}\")\n",
    "print(f\"vs match: {torch.allclose(vs_pt.grad, vs_obw.grad, atol=atol, rtol=rtol)}\")\n",
    "print(f\"fgate_preacts match: {torch.allclose(fgate_preacts_pt.grad, fgate_preacts_obw.grad, atol=atol, rtol=rtol)}\")\n",
    "print(f\"igate_preacts match: {torch.allclose(igate_preacts_pt.grad, igate_preacts_obw.grad, atol=atol, rtol=rtol)}\")"
   ]
  },
  {
   "cell_type": "code",
   "execution_count": null,
   "metadata": {},
   "outputs": [],
   "source": []
  }
 ],
 "metadata": {
  "kernelspec": {
   "display_name": "xlstmpt21cu118",
   "language": "python",
   "name": "python3"
  },
  "language_info": {
   "codemirror_mode": {
    "name": "ipython",
    "version": 3
   },
   "file_extension": ".py",
   "mimetype": "text/x-python",
   "name": "python",
   "nbconvert_exporter": "python",
   "pygments_lexer": "ipython3",
   "version": "3.11.6"
  }
 },
 "nbformat": 4,
 "nbformat_minor": 2
}
