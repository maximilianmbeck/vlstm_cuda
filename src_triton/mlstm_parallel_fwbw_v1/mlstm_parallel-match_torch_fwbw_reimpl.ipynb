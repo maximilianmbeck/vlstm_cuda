{
 "cells": [
  {
   "cell_type": "code",
   "execution_count": 1,
   "metadata": {},
   "outputs": [],
   "source": [
    "import sys\n",
    "\n",
    "\n",
    "import torch\n",
    "torch.set_printoptions(linewidth=200, threshold=100000)\n",
    "import math\n",
    "from mlstm_parallel._torch_fwbw_legacy import mlstm_fw, mlstm_fw_legacy\n",
    "from mlstm_parallel._torch_fwbw_legacy import mlstm_bw, mlstm_bw_legacy"
   ]
  },
  {
   "cell_type": "code",
   "execution_count": 2,
   "metadata": {},
   "outputs": [],
   "source": [
    "S = 6 #32 #32 #16 #8 # seq len\n",
    "B = 1 # batch size\n",
    "NH = 1 # num heads\n",
    "DH = 8 # dim per head\n",
    "DTYPE = torch.float64\n",
    "DEVICE = torch.device(\"cuda:0\")\n",
    "BLOCK_Q = 16\n",
    "BLOCK_KV = 16"
   ]
  },
  {
   "cell_type": "code",
   "execution_count": 3,
   "metadata": {},
   "outputs": [],
   "source": [
    "# create qkv, inputgates, forgetgates \n",
    "torch.manual_seed(0)\n",
    "# fixed:\n",
    "# qs = torch.arange((B*NH*S*DH), device=DEVICE, dtype=DTYPE).reshape((B, NH, S, DH)) / 10.\n",
    "# qs = torch.ones((B, NH, S, DH), device=DEVICE, dtype=DTYPE) / 100.\n",
    "# ks = torch.ones((B, NH, S, DH), device=DEVICE, dtype=DTYPE) / 100.\n",
    "# # vs = torch.ones((B, NH, S, DH), device=DEVICE, dtype=DTYPE) / 100.\n",
    "# vs = torch.arange((B*NH*S*DH), device=DEVICE, dtype=DTYPE).reshape((B, NH, S, DH)) / 100.\n",
    "# # vs = torch.zeros((B, NH, S, DH), device=DEVICE, dtype=DTYPE)\n",
    "# vs[:,:,1,0] = 7.\n",
    "# qs[:,:,1,0] = 1.\n",
    "\n",
    "# vs[:,:,1,16] = 8.\n",
    "# qs[:,:,1,16] = 1.\n",
    "# random: \n",
    "qs = torch.randn((B, NH, S, DH), device=DEVICE, dtype=DTYPE)\n",
    "ks = torch.randn((B, NH, S, DH), device=DEVICE, dtype=DTYPE)\n",
    "vs = torch.randn((B, NH, S, DH), device=DEVICE, dtype=DTYPE)\n",
    "# igs = (1. + torch.arange((B * NH * S), device=DEVICE, dtype=DTYPE)).reshape(B, NH, S) / 10.\n",
    "# igs = torch.zeros((B, NH, S), device=DEVICE, dtype=DTYPE) #/ 10.\n",
    "igs = torch.randn((B, NH, S), device=DEVICE, dtype=DTYPE) #/ 10.\n",
    "# fgs = torch.ones((B, NH, S), device=DEVICE, dtype=DTYPE)\n",
    "fgs = torch.randn((B, NH, S), device=DEVICE, dtype=DTYPE)\n",
    "\n",
    "dH = torch.randn((B, NH, S, DH), device=DEVICE, dtype=DTYPE)\n",
    "\n",
    "vM = torch.randn((B, NH, S), device=DEVICE, dtype=DTYPE)\n",
    "vN = torch.randn((B, NH, S), device=DEVICE, dtype=DTYPE)"
   ]
  },
  {
   "cell_type": "code",
   "execution_count": 4,
   "metadata": {},
   "outputs": [],
   "source": [
    "h_r, m_r, n_r, lfg_r = mlstm_fw(qs, ks, vs, igs, fgs)"
   ]
  },
  {
   "cell_type": "code",
   "execution_count": 5,
   "metadata": {},
   "outputs": [],
   "source": [
    "h_l, m_l, n_l, lfg_l = mlstm_fw_legacy(qs, ks, vs, igs.unsqueeze(-1), fgs.unsqueeze(-1))"
   ]
  },
  {
   "cell_type": "code",
   "execution_count": 6,
   "metadata": {},
   "outputs": [
    {
     "data": {
      "text/plain": [
       "tensor([[[[ 0.0000e+00,  0.0000e+00,  0.0000e+00,  0.0000e+00,  0.0000e+00,  0.0000e+00,  0.0000e+00,  0.0000e+00],\n",
       "          [ 0.0000e+00,  0.0000e+00,  0.0000e+00,  0.0000e+00,  0.0000e+00,  0.0000e+00,  0.0000e+00,  0.0000e+00],\n",
       "          [-2.7756e-17,  2.7756e-17,  5.5511e-17, -5.5511e-17, -1.1102e-16,  5.5511e-17, -1.1102e-16, -2.7756e-17],\n",
       "          [ 2.2204e-16, -1.1102e-16, -5.5511e-17,  2.0817e-17,  2.2204e-16, -1.1102e-16, -2.7756e-17, -2.2204e-16],\n",
       "          [ 0.0000e+00,  2.7756e-17,  1.7347e-18,  0.0000e+00,  0.0000e+00,  2.7756e-17,  0.0000e+00,  0.0000e+00],\n",
       "          [-1.1102e-16,  2.2204e-16, -2.7756e-17, -2.2204e-16, -8.3267e-17,  3.4694e-17, -2.2204e-16,  1.1102e-16]]]], device='cuda:0', dtype=torch.float64)"
      ]
     },
     "execution_count": 6,
     "metadata": {},
     "output_type": "execute_result"
    }
   ],
   "source": [
    "h_r - h_l"
   ]
  },
  {
   "cell_type": "code",
   "execution_count": 7,
   "metadata": {},
   "outputs": [
    {
     "data": {
      "text/plain": [
       "tensor([[[0., 0., 0., 0., 0., 0.]]], device='cuda:0', dtype=torch.float64)"
      ]
     },
     "execution_count": 7,
     "metadata": {},
     "output_type": "execute_result"
    }
   ],
   "source": [
    "m_r - m_l.squeeze(-1)"
   ]
  },
  {
   "cell_type": "code",
   "execution_count": 8,
   "metadata": {},
   "outputs": [
    {
     "data": {
      "text/plain": [
       "tensor([[[-2.2204e-16,  2.2204e-16,  0.0000e+00,  0.0000e+00,  0.0000e+00, -5.5511e-17]]], device='cuda:0', dtype=torch.float64)"
      ]
     },
     "execution_count": 8,
     "metadata": {},
     "output_type": "execute_result"
    }
   ],
   "source": [
    "n_r - n_l.squeeze(-1)"
   ]
  },
  {
   "cell_type": "code",
   "execution_count": 9,
   "metadata": {},
   "outputs": [
    {
     "data": {
      "text/plain": [
       "tensor([[[[0., nan, nan, nan, nan, nan],\n",
       "          [0., 0., nan, nan, nan, nan],\n",
       "          [0., 0., 0., nan, nan, nan],\n",
       "          [0., 0., 0., 0., nan, nan],\n",
       "          [0., 0., 0., 0., 0., nan],\n",
       "          [0., 0., 0., 0., 0., 0.]]]], device='cuda:0', dtype=torch.float64)"
      ]
     },
     "execution_count": 9,
     "metadata": {},
     "output_type": "execute_result"
    }
   ],
   "source": [
    "lfg_r - lfg_l"
   ]
  },
  {
   "cell_type": "code",
   "execution_count": 10,
   "metadata": {},
   "outputs": [
    {
     "data": {
      "text/plain": [
       "tensor([[[[ 0.0000,    -inf,    -inf,    -inf,    -inf,    -inf],\n",
       "          [-1.1650,  0.0000,    -inf,    -inf,    -inf,    -inf],\n",
       "          [-3.2819, -2.1168,  0.0000,    -inf,    -inf,    -inf],\n",
       "          [-4.6425, -3.4775, -1.3607,  0.0000,    -inf,    -inf],\n",
       "          [-6.5368, -5.3718, -3.2550, -1.8943,  0.0000,    -inf],\n",
       "          [-7.1744, -6.0094, -3.8925, -2.5319, -0.6376,  0.0000]]]], device='cuda:0', dtype=torch.float64)"
      ]
     },
     "execution_count": 10,
     "metadata": {},
     "output_type": "execute_result"
    }
   ],
   "source": [
    "lfg_r"
   ]
  },
  {
   "cell_type": "code",
   "execution_count": 11,
   "metadata": {},
   "outputs": [
    {
     "data": {
      "text/plain": [
       "tensor([[[[ 0.0000,    -inf,    -inf,    -inf,    -inf,    -inf],\n",
       "          [-1.1650,  0.0000,    -inf,    -inf,    -inf,    -inf],\n",
       "          [-3.2819, -2.1168,  0.0000,    -inf,    -inf,    -inf],\n",
       "          [-4.6425, -3.4775, -1.3607,  0.0000,    -inf,    -inf],\n",
       "          [-6.5368, -5.3718, -3.2550, -1.8943,  0.0000,    -inf],\n",
       "          [-7.1744, -6.0094, -3.8925, -2.5319, -0.6376,  0.0000]]]], device='cuda:0', dtype=torch.float64)"
      ]
     },
     "execution_count": 11,
     "metadata": {},
     "output_type": "execute_result"
    }
   ],
   "source": [
    "lfg_l"
   ]
  },
  {
   "cell_type": "code",
   "execution_count": 12,
   "metadata": {},
   "outputs": [],
   "source": [
    "dq_r, dk_r, dv_r, di_r, df_r, dc_r, dd_r, d_r, c_r = mlstm_bw(dH, qs, ks, vs, igs, fgs, vM, vN)"
   ]
  },
  {
   "cell_type": "code",
   "execution_count": 13,
   "metadata": {},
   "outputs": [],
   "source": [
    "dq_l, dk_l, dv_l, di_l, df_l, dc_l, dd_l, d_l, c_l = mlstm_bw_legacy(dH, qs, ks, vs, igs.unsqueeze(-1), fgs.unsqueeze(-1), vM.unsqueeze(-1), vN.unsqueeze(-1))"
   ]
  },
  {
   "cell_type": "code",
   "execution_count": 14,
   "metadata": {},
   "outputs": [
    {
     "data": {
      "text/plain": [
       "tensor([[[[0., 0., 0., 0., 0., 0.],\n",
       "          [0., 0., 0., 0., 0., 0.],\n",
       "          [0., 0., 0., 0., 0., 0.],\n",
       "          [0., 0., 0., 0., 0., 0.],\n",
       "          [0., 0., 0., 0., 0., 0.],\n",
       "          [0., 0., 0., 0., 0., 0.]]]], device='cuda:0', dtype=torch.float64)"
      ]
     },
     "execution_count": 14,
     "metadata": {},
     "output_type": "execute_result"
    }
   ],
   "source": [
    "dc_r - dc_l"
   ]
  },
  {
   "cell_type": "code",
   "execution_count": 15,
   "metadata": {},
   "outputs": [
    {
     "data": {
      "text/plain": [
       "tensor([[[[-1.7764e-15,  0.0000e+00,  0.0000e+00,  0.0000e+00,  0.0000e+00,  0.0000e+00],\n",
       "          [-4.4409e-16,  0.0000e+00,  0.0000e+00,  0.0000e+00,  0.0000e+00,  0.0000e+00],\n",
       "          [ 5.5511e-17, -2.2204e-16,  2.2204e-16,  0.0000e+00,  0.0000e+00,  0.0000e+00],\n",
       "          [ 2.7756e-17,  2.7756e-17,  4.4409e-16,  8.8818e-16,  0.0000e+00,  0.0000e+00],\n",
       "          [ 4.3368e-19, -1.3878e-17, -1.7347e-18,  1.6653e-16,  0.0000e+00,  0.0000e+00],\n",
       "          [ 8.6736e-19,  0.0000e+00,  0.0000e+00,  0.0000e+00, -1.4211e-14, -7.1054e-15]]]], device='cuda:0', dtype=torch.float64)"
      ]
     },
     "execution_count": 15,
     "metadata": {},
     "output_type": "execute_result"
    }
   ],
   "source": [
    "dd_r - dd_l"
   ]
  },
  {
   "cell_type": "code",
   "execution_count": 16,
   "metadata": {},
   "outputs": [
    {
     "data": {
      "text/plain": [
       "tensor([[[[0., 0., 0., 0., 0., 0.],\n",
       "          [0., 0., 0., 0., 0., 0.],\n",
       "          [0., 0., 0., 0., 0., 0.],\n",
       "          [0., 0., 0., 0., 0., 0.],\n",
       "          [0., 0., 0., 0., 0., 0.],\n",
       "          [0., 0., 0., 0., 0., 0.]]]], device='cuda:0', dtype=torch.float64)"
      ]
     },
     "execution_count": 16,
     "metadata": {},
     "output_type": "execute_result"
    }
   ],
   "source": [
    "d_r - d_l"
   ]
  },
  {
   "cell_type": "code",
   "execution_count": 17,
   "metadata": {},
   "outputs": [
    {
     "data": {
      "text/plain": [
       "tensor([[[[-3.3307e-16,  0.0000e+00,  0.0000e+00,  0.0000e+00,  0.0000e+00,  0.0000e+00],\n",
       "          [ 2.2204e-16, -3.5527e-15,  0.0000e+00,  0.0000e+00,  0.0000e+00,  0.0000e+00],\n",
       "          [ 1.3878e-17, -5.5511e-17,  2.2204e-16,  0.0000e+00,  0.0000e+00,  0.0000e+00],\n",
       "          [ 6.9389e-18,  2.2204e-16, -2.2204e-16, -8.8818e-16,  0.0000e+00,  0.0000e+00],\n",
       "          [ 5.4210e-20, -1.3010e-18, -6.9389e-18,  4.1633e-17,  0.0000e+00,  0.0000e+00],\n",
       "          [ 2.7105e-20,  0.0000e+00,  0.0000e+00,  4.3368e-19, -1.1102e-16,  2.7756e-17]]]], device='cuda:0', dtype=torch.float64)"
      ]
     },
     "execution_count": 17,
     "metadata": {},
     "output_type": "execute_result"
    }
   ],
   "source": [
    "c_r - c_l"
   ]
  },
  {
   "cell_type": "code",
   "execution_count": 18,
   "metadata": {},
   "outputs": [
    {
     "data": {
      "text/plain": [
       "tensor([[[[ 0.0000e+00,  0.0000e+00,  4.4409e-16,  0.0000e+00,  0.0000e+00, -8.8818e-16, -2.2204e-16,  0.0000e+00],\n",
       "          [ 0.0000e+00,  0.0000e+00,  1.7764e-15,  0.0000e+00, -7.1054e-15,  0.0000e+00, -1.7764e-15,  0.0000e+00],\n",
       "          [-5.5511e-17, -5.5511e-17, -6.9389e-17,  0.0000e+00,  5.5511e-17, -1.1102e-16,  0.0000e+00,  6.9389e-18],\n",
       "          [ 0.0000e+00,  0.0000e+00,  0.0000e+00,  4.1633e-17,  4.1633e-17, -2.2204e-16,  4.4409e-16,  0.0000e+00],\n",
       "          [ 0.0000e+00,  2.7756e-17,  0.0000e+00,  2.2204e-16,  1.1102e-16,  0.0000e+00,  2.2204e-16, -4.4409e-16],\n",
       "          [-1.4211e-14,  8.8818e-16,  2.6645e-15, -3.5527e-15,  0.0000e+00, -7.1054e-15,  7.1054e-15,  0.0000e+00]]]], device='cuda:0', dtype=torch.float64)"
      ]
     },
     "execution_count": 18,
     "metadata": {},
     "output_type": "execute_result"
    }
   ],
   "source": [
    "dq_r - dq_l"
   ]
  },
  {
   "cell_type": "code",
   "execution_count": 19,
   "metadata": {},
   "outputs": [
    {
     "data": {
      "text/plain": [
       "tensor([[[[ 0.0000e+00,  1.1102e-16,  2.2204e-16,  1.7764e-15,  0.0000e+00,  2.2204e-16,  4.4409e-16,  1.1102e-16],\n",
       "          [ 8.8818e-16, -1.7764e-15,  3.5527e-15,  3.5527e-15,  1.4211e-14,  0.0000e+00, -3.5527e-15,  0.0000e+00],\n",
       "          [ 0.0000e+00,  0.0000e+00,  0.0000e+00,  0.0000e+00, -1.1102e-16,  1.3878e-17, -2.7756e-17,  5.5511e-17],\n",
       "          [ 0.0000e+00,  1.1102e-16,  2.2204e-16,  4.4409e-16,  0.0000e+00,  1.1102e-16,  0.0000e+00, -5.5511e-17],\n",
       "          [ 0.0000e+00, -1.7764e-15,  0.0000e+00,  0.0000e+00, -8.8818e-16,  2.2204e-16, -1.7764e-15, -8.8818e-16],\n",
       "          [ 0.0000e+00,  7.1054e-15,  1.4211e-14,  0.0000e+00,  3.5527e-15, -8.8818e-16,  0.0000e+00,  0.0000e+00]]]], device='cuda:0', dtype=torch.float64)"
      ]
     },
     "execution_count": 19,
     "metadata": {},
     "output_type": "execute_result"
    }
   ],
   "source": [
    "dk_r - dk_l"
   ]
  },
  {
   "cell_type": "code",
   "execution_count": 20,
   "metadata": {},
   "outputs": [
    {
     "data": {
      "text/plain": [
       "tensor([[[[-4.4409e-16,  1.9429e-16,  5.5511e-16, -6.1062e-16,  0.0000e+00,  8.8818e-16,  0.0000e+00,  4.4409e-16],\n",
       "          [-4.4409e-16, -1.7764e-15, -1.7764e-15,  3.5527e-15, -8.8818e-16,  3.5527e-15,  3.5527e-15, -7.1054e-15],\n",
       "          [ 3.1919e-16,  1.1102e-16, -2.2204e-16,  0.0000e+00, -2.2204e-16, -1.1102e-16, -4.4409e-16,  8.8818e-16],\n",
       "          [-4.4409e-16,  4.4409e-16, -4.4409e-16, -4.4409e-16,  0.0000e+00,  4.4409e-16, -4.4409e-16,  0.0000e+00],\n",
       "          [-1.3323e-15, -8.8818e-16,  1.7764e-15,  3.5527e-15, -3.5527e-15,  3.5527e-15, -1.0658e-14,  7.1054e-15],\n",
       "          [ 4.4409e-16,  4.4409e-16, -4.4409e-16, -8.8818e-16,  8.8818e-16,  0.0000e+00,  3.5527e-15,  0.0000e+00]]]], device='cuda:0', dtype=torch.float64)"
      ]
     },
     "execution_count": 20,
     "metadata": {},
     "output_type": "execute_result"
    }
   ],
   "source": [
    "dv_r - dv_l"
   ]
  },
  {
   "cell_type": "code",
   "execution_count": 21,
   "metadata": {},
   "outputs": [
    {
     "data": {
      "text/plain": [
       "tensor([[[-1.7764e-15,  0.0000e+00,  8.8818e-16,  8.8818e-16, -1.4211e-14, -7.1054e-15]]], device='cuda:0', dtype=torch.float64)"
      ]
     },
     "execution_count": 21,
     "metadata": {},
     "output_type": "execute_result"
    }
   ],
   "source": [
    "di_r - di_l.squeeze(-1)"
   ]
  },
  {
   "cell_type": "code",
   "execution_count": 22,
   "metadata": {},
   "outputs": [
    {
     "data": {
      "text/plain": [
       "tensor([[[-1.8269e-14, -2.0872e-14, -1.2490e-14, -1.0214e-14, -1.2101e-14, -7.1054e-15]]], device='cuda:0', dtype=torch.float64)"
      ]
     },
     "execution_count": 22,
     "metadata": {},
     "output_type": "execute_result"
    }
   ],
   "source": [
    "df_r - df_l.squeeze(-1)"
   ]
  },
  {
   "cell_type": "code",
   "execution_count": null,
   "metadata": {},
   "outputs": [],
   "source": []
  }
 ],
 "metadata": {
  "kernelspec": {
   "display_name": "xlstmpt240cu121",
   "language": "python",
   "name": "python3"
  },
  "language_info": {
   "codemirror_mode": {
    "name": "ipython",
    "version": 3
   },
   "file_extension": ".py",
   "mimetype": "text/x-python",
   "name": "python",
   "nbconvert_exporter": "python",
   "pygments_lexer": "ipython3",
   "version": "3.11.9"
  }
 },
 "nbformat": 4,
 "nbformat_minor": 2
}
