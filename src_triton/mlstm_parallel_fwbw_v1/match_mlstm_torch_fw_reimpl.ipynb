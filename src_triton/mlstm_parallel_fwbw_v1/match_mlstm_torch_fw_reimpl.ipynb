{
 "cells": [
  {
   "cell_type": "code",
   "execution_count": 1,
   "metadata": {},
   "outputs": [],
   "source": [
    "import sys\n",
    "\n",
    "\n",
    "import torch\n",
    "torch.set_printoptions(linewidth=200, threshold=100000)\n",
    "import math\n",
    "from mlstm_parallel.torch_fwbw import mlstm_fw, mlstm_fw_legacy"
   ]
  },
  {
   "cell_type": "code",
   "execution_count": 2,
   "metadata": {},
   "outputs": [],
   "source": [
    "S = 6 #32 #32 #16 #8 # seq len\n",
    "B = 1 # batch size\n",
    "NH = 1 # num heads\n",
    "DH = 8 # dim per head\n",
    "DTYPE = torch.float64\n",
    "DEVICE = torch.device(\"cuda:0\")\n",
    "BLOCK_Q = 16\n",
    "BLOCK_KV = 16"
   ]
  },
  {
   "cell_type": "code",
   "execution_count": 3,
   "metadata": {},
   "outputs": [],
   "source": [
    "# create qkv, inputgates, forgetgates \n",
    "torch.manual_seed(0)\n",
    "# fixed:\n",
    "# qs = torch.arange((B*NH*S*DH), device=DEVICE, dtype=DTYPE).reshape((B, NH, S, DH)) / 10.\n",
    "# qs = torch.ones((B, NH, S, DH), device=DEVICE, dtype=DTYPE) / 100.\n",
    "# ks = torch.ones((B, NH, S, DH), device=DEVICE, dtype=DTYPE) / 100.\n",
    "# # vs = torch.ones((B, NH, S, DH), device=DEVICE, dtype=DTYPE) / 100.\n",
    "# vs = torch.arange((B*NH*S*DH), device=DEVICE, dtype=DTYPE).reshape((B, NH, S, DH)) / 100.\n",
    "# # vs = torch.zeros((B, NH, S, DH), device=DEVICE, dtype=DTYPE)\n",
    "# vs[:,:,1,0] = 7.\n",
    "# qs[:,:,1,0] = 1.\n",
    "\n",
    "# vs[:,:,1,16] = 8.\n",
    "# qs[:,:,1,16] = 1.\n",
    "# random: \n",
    "qs = torch.randn((B, NH, S, DH), device=DEVICE, dtype=DTYPE)\n",
    "ks = torch.randn((B, NH, S, DH), device=DEVICE, dtype=DTYPE)\n",
    "vs = torch.randn((B, NH, S, DH), device=DEVICE, dtype=DTYPE)\n",
    "# igs = (1. + torch.arange((B * NH * S), device=DEVICE, dtype=DTYPE)).reshape(B, NH, S) / 10.\n",
    "# igs = torch.zeros((B, NH, S), device=DEVICE, dtype=DTYPE) #/ 10.\n",
    "igs = torch.randn((B, NH, S), device=DEVICE, dtype=DTYPE) #/ 10.\n",
    "# fgs = torch.ones((B, NH, S), device=DEVICE, dtype=DTYPE)\n",
    "fgs = torch.randn((B, NH, S), device=DEVICE, dtype=DTYPE)\n",
    "\n",
    "dHs = torch.randn((B, NH, S, DH), device=DEVICE, dtype=DTYPE)"
   ]
  },
  {
   "cell_type": "code",
   "execution_count": 4,
   "metadata": {},
   "outputs": [],
   "source": [
    "h_r, m_r, n_r, lfg_r = mlstm_fw(qs, ks, vs, igs, fgs)"
   ]
  },
  {
   "cell_type": "code",
   "execution_count": 5,
   "metadata": {},
   "outputs": [],
   "source": [
    "h_l, m_l, n_l, lfg_l = mlstm_fw_legacy(qs, ks, vs, igs.unsqueeze(-1), fgs.unsqueeze(-1))"
   ]
  },
  {
   "cell_type": "code",
   "execution_count": 6,
   "metadata": {},
   "outputs": [
    {
     "data": {
      "text/plain": [
       "tensor([[[[ 0.0000e+00,  0.0000e+00,  0.0000e+00,  0.0000e+00,  0.0000e+00,  0.0000e+00,  0.0000e+00,  0.0000e+00],\n",
       "          [ 0.0000e+00,  0.0000e+00,  0.0000e+00,  0.0000e+00,  0.0000e+00,  0.0000e+00,  0.0000e+00,  0.0000e+00],\n",
       "          [-2.7756e-17,  2.7756e-17,  5.5511e-17, -5.5511e-17, -1.1102e-16,  5.5511e-17, -1.1102e-16, -2.7756e-17],\n",
       "          [ 2.2204e-16, -1.1102e-16, -5.5511e-17,  2.0817e-17,  2.2204e-16, -1.1102e-16, -2.7756e-17, -2.2204e-16],\n",
       "          [ 0.0000e+00,  2.7756e-17,  1.7347e-18,  0.0000e+00,  0.0000e+00,  2.7756e-17,  0.0000e+00,  0.0000e+00],\n",
       "          [-1.1102e-16,  2.2204e-16, -2.7756e-17, -2.2204e-16, -8.3267e-17,  3.4694e-17, -2.2204e-16,  1.1102e-16]]]], device='cuda:0', dtype=torch.float64)"
      ]
     },
     "execution_count": 6,
     "metadata": {},
     "output_type": "execute_result"
    }
   ],
   "source": [
    "h_r - h_l"
   ]
  },
  {
   "cell_type": "code",
   "execution_count": 7,
   "metadata": {},
   "outputs": [
    {
     "data": {
      "text/plain": [
       "tensor([[[0., 0., 0., 0., 0., 0.]]], device='cuda:0', dtype=torch.float64)"
      ]
     },
     "execution_count": 7,
     "metadata": {},
     "output_type": "execute_result"
    }
   ],
   "source": [
    "m_r - m_l.squeeze(-1)"
   ]
  },
  {
   "cell_type": "code",
   "execution_count": 8,
   "metadata": {},
   "outputs": [
    {
     "data": {
      "text/plain": [
       "tensor([[[-2.2204e-16,  2.2204e-16,  0.0000e+00,  0.0000e+00,  0.0000e+00, -5.5511e-17]]], device='cuda:0', dtype=torch.float64)"
      ]
     },
     "execution_count": 8,
     "metadata": {},
     "output_type": "execute_result"
    }
   ],
   "source": [
    "n_r - n_l.squeeze(-1)"
   ]
  },
  {
   "cell_type": "code",
   "execution_count": 9,
   "metadata": {},
   "outputs": [
    {
     "data": {
      "text/plain": [
       "tensor([[[[0., nan, nan, nan, nan, nan],\n",
       "          [0., 0., nan, nan, nan, nan],\n",
       "          [0., 0., 0., nan, nan, nan],\n",
       "          [0., 0., 0., 0., nan, nan],\n",
       "          [0., 0., 0., 0., 0., nan],\n",
       "          [0., 0., 0., 0., 0., 0.]]]], device='cuda:0', dtype=torch.float64)"
      ]
     },
     "execution_count": 9,
     "metadata": {},
     "output_type": "execute_result"
    }
   ],
   "source": [
    "lfg_r - lfg_l"
   ]
  },
  {
   "cell_type": "code",
   "execution_count": 10,
   "metadata": {},
   "outputs": [
    {
     "data": {
      "text/plain": [
       "tensor([[[[ 0.0000,    -inf,    -inf,    -inf,    -inf,    -inf],\n",
       "          [-1.1650,  0.0000,    -inf,    -inf,    -inf,    -inf],\n",
       "          [-3.2819, -2.1168,  0.0000,    -inf,    -inf,    -inf],\n",
       "          [-4.6425, -3.4775, -1.3607,  0.0000,    -inf,    -inf],\n",
       "          [-6.5368, -5.3718, -3.2550, -1.8943,  0.0000,    -inf],\n",
       "          [-7.1744, -6.0094, -3.8925, -2.5319, -0.6376,  0.0000]]]], device='cuda:0', dtype=torch.float64)"
      ]
     },
     "execution_count": 10,
     "metadata": {},
     "output_type": "execute_result"
    }
   ],
   "source": [
    "lfg_r"
   ]
  },
  {
   "cell_type": "code",
   "execution_count": 11,
   "metadata": {},
   "outputs": [
    {
     "data": {
      "text/plain": [
       "tensor([[[[ 0.0000,    -inf,    -inf,    -inf,    -inf,    -inf],\n",
       "          [-1.1650,  0.0000,    -inf,    -inf,    -inf,    -inf],\n",
       "          [-3.2819, -2.1168,  0.0000,    -inf,    -inf,    -inf],\n",
       "          [-4.6425, -3.4775, -1.3607,  0.0000,    -inf,    -inf],\n",
       "          [-6.5368, -5.3718, -3.2550, -1.8943,  0.0000,    -inf],\n",
       "          [-7.1744, -6.0094, -3.8925, -2.5319, -0.6376,  0.0000]]]], device='cuda:0', dtype=torch.float64)"
      ]
     },
     "execution_count": 11,
     "metadata": {},
     "output_type": "execute_result"
    }
   ],
   "source": [
    "lfg_l"
   ]
  },
  {
   "cell_type": "code",
   "execution_count": null,
   "metadata": {},
   "outputs": [],
   "source": []
  }
 ],
 "metadata": {
  "kernelspec": {
   "display_name": "xlstmpt240cu121",
   "language": "python",
   "name": "python3"
  },
  "language_info": {
   "codemirror_mode": {
    "name": "ipython",
    "version": 3
   },
   "file_extension": ".py",
   "mimetype": "text/x-python",
   "name": "python",
   "nbconvert_exporter": "python",
   "pygments_lexer": "ipython3",
   "version": "3.11.9"
  }
 },
 "nbformat": 4,
 "nbformat_minor": 2
}
