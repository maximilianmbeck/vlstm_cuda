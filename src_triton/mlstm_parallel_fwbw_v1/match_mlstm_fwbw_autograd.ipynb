{
 "cells": [
  {
   "cell_type": "code",
   "execution_count": 1,
   "metadata": {},
   "outputs": [],
   "source": [
    "import torch\n",
    "torch.set_printoptions(linewidth=200, threshold=100000)\n"
   ]
  },
  {
   "cell_type": "code",
   "execution_count": 2,
   "metadata": {},
   "outputs": [],
   "source": [
    "from ln import MultiHeadLayerNorm\n",
    "\n",
    "from mlstm_parallel import mlstm_torch_autograd, mlstm_torch_ownbw, mlstm_triton"
   ]
  },
  {
   "cell_type": "code",
   "execution_count": null,
   "metadata": {},
   "outputs": [],
   "source": []
  },
  {
   "cell_type": "code",
   "execution_count": 3,
   "metadata": {},
   "outputs": [],
   "source": [
    "# params\n",
    "S = 32 # seq len\n",
    "B = 1 # batch size\n",
    "NH = 1 # num heads\n",
    "DH = 64 # dim per head\n",
    "DTYPE = torch.float16\n",
    "DEVICE = torch.device(\"cuda:0\")\n",
    "EPS = 0.0"
   ]
  },
  {
   "cell_type": "code",
   "execution_count": 4,
   "metadata": {},
   "outputs": [
    {
     "data": {
      "text/plain": [
       "(torch.Size([1, 1, 8, 4]), torch.Size([1, 1, 8]))"
      ]
     },
     "execution_count": 4,
     "metadata": {},
     "output_type": "execute_result"
    }
   ],
   "source": [
    "# create qkv, inputgates, forgetgates \n",
    "torch.manual_seed(1)\n",
    "qs = torch.randn((B, NH, S, DH), device=DEVICE, dtype=DTYPE)\n",
    "ks = torch.randn((B, NH, S, DH), device=DEVICE, dtype=DTYPE)\n",
    "vs = torch.randn((B, NH, S, DH), device=DEVICE, dtype=DTYPE)\n",
    "igs = torch.rand((B, NH, S), device=DEVICE, dtype=DTYPE)\n",
    "igs2 = (1. + torch.arange((B * NH * S), device=DEVICE, dtype=DTYPE)).reshape(B, NH, S)\n",
    "fgs = torch.rand((B, NH, S), device=DEVICE, dtype=DTYPE)\n",
    "qs.shape, fgs.shape"
   ]
  },
  {
   "cell_type": "code",
   "execution_count": 5,
   "metadata": {},
   "outputs": [],
   "source": [
    "offset = 3.* torch.randn((B, NH, S, DH), device=DEVICE, dtype=DTYPE)"
   ]
  },
  {
   "cell_type": "code",
   "execution_count": 6,
   "metadata": {},
   "outputs": [
    {
     "data": {
      "text/plain": [
       "(Parameter containing:\n",
       " tensor([0., 0., 0., 0.], device='cuda:0', dtype=torch.float64, requires_grad=True),\n",
       " None)"
      ]
     },
     "execution_count": 6,
     "metadata": {},
     "output_type": "execute_result"
    }
   ],
   "source": [
    "mh_layernorm = MultiHeadLayerNorm(NH*DH, eps=1e-6).to(device=DEVICE, dtype=DTYPE)\n",
    "mh_layernorm.weight, mh_layernorm.bias"
   ]
  },
  {
   "cell_type": "markdown",
   "metadata": {},
   "source": [
    "## pytorch"
   ]
  },
  {
   "cell_type": "code",
   "execution_count": 7,
   "metadata": {},
   "outputs": [],
   "source": [
    "fgs_pt = fgs.clone().detach().requires_grad_(True)\n",
    "igs_pt = igs.clone().detach().requires_grad_(True)\n",
    "qs_pt = qs.clone().detach().requires_grad_(True)\n",
    "ks_pt = ks.clone().detach().requires_grad_(True)\n",
    "vs_pt = vs.clone().detach().requires_grad_(True)"
   ]
  },
  {
   "cell_type": "code",
   "execution_count": 8,
   "metadata": {},
   "outputs": [],
   "source": [
    "qs_pt.grad"
   ]
  },
  {
   "cell_type": "code",
   "execution_count": 9,
   "metadata": {},
   "outputs": [
    {
     "data": {
      "text/plain": [
       "(tensor([[[[-0.2841,  1.3220,  0.3847, -1.4225],\n",
       "           [ 0.7400,  1.0432, -0.2694, -1.5138],\n",
       "           [ 0.4508,  1.3221, -1.3749, -0.3980],\n",
       "           [ 1.3565, -0.7354, -1.1550,  0.5340],\n",
       "           [ 1.5541, -0.6481, -1.0672,  0.1612],\n",
       "           [ 1.1217, -1.5834,  0.4839, -0.0223],\n",
       "           [ 0.5463, -1.4683,  1.2095, -0.2875],\n",
       "           [ 1.6076, -0.0882, -1.1156, -0.4038]]]], device='cuda:0', dtype=torch.float64, grad_fn=<TransposeBackward0>),\n",
       " torch.Size([1, 1, 8, 4]))"
      ]
     },
     "execution_count": 9,
     "metadata": {},
     "output_type": "execute_result"
    }
   ],
   "source": [
    "hs_pt, _, _ = mlstm_torch_autograd(qs_pt, ks_pt, vs_pt, igs_pt, fgs_pt)\n",
    "hs_pt_scaled = mh_layernorm(hs_pt)\n",
    "hs_pt_scaled, hs_pt_scaled.shape"
   ]
  },
  {
   "cell_type": "code",
   "execution_count": 10,
   "metadata": {},
   "outputs": [],
   "source": [
    "((hs_pt_scaled+offset)**2).sum().backward()"
   ]
  },
  {
   "cell_type": "markdown",
   "metadata": {},
   "source": [
    "## own backward torch"
   ]
  },
  {
   "cell_type": "code",
   "execution_count": 11,
   "metadata": {},
   "outputs": [],
   "source": [
    "fgs_obw = fgs.clone().detach().requires_grad_(True)\n",
    "igs_obw = igs.clone().detach().requires_grad_(True)\n",
    "qs_obw = qs.clone().detach().requires_grad_(True)\n",
    "ks_obw = ks.clone().detach().requires_grad_(True)\n",
    "vs_obw = vs.clone().detach().requires_grad_(True)"
   ]
  },
  {
   "cell_type": "code",
   "execution_count": 12,
   "metadata": {},
   "outputs": [
    {
     "data": {
      "text/plain": [
       "(tensor([[[[-0.2841,  1.3220,  0.3847, -1.4225],\n",
       "           [ 0.7400,  1.0432, -0.2694, -1.5138],\n",
       "           [ 0.4508,  1.3221, -1.3749, -0.3980],\n",
       "           [ 1.3565, -0.7354, -1.1550,  0.5340],\n",
       "           [ 1.5541, -0.6481, -1.0672,  0.1612],\n",
       "           [ 1.1217, -1.5834,  0.4839, -0.0223],\n",
       "           [ 0.5463, -1.4683,  1.2095, -0.2875],\n",
       "           [ 1.6076, -0.0882, -1.1156, -0.4038]]]], device='cuda:0', dtype=torch.float64, grad_fn=<TransposeBackward0>),\n",
       " torch.Size([1, 1, 8, 4]))"
      ]
     },
     "execution_count": 12,
     "metadata": {},
     "output_type": "execute_result"
    }
   ],
   "source": [
    "hs_obw = mlstm_torch_ownbw(qs_obw, ks_obw, vs_obw, igs_obw, fgs_obw)\n",
    "hs_obw_scaled = mh_layernorm(hs_obw)\n",
    "hs_obw_scaled, hs_obw_scaled.shape"
   ]
  },
  {
   "cell_type": "code",
   "execution_count": 13,
   "metadata": {},
   "outputs": [],
   "source": [
    "((hs_obw_scaled+offset)**2).sum().backward()"
   ]
  },
  {
   "cell_type": "code",
   "execution_count": 14,
   "metadata": {},
   "outputs": [
    {
     "data": {
      "text/plain": [
       "tensor([[[[0., 0., 0., 0.],\n",
       "          [0., 0., 0., 0.],\n",
       "          [0., 0., 0., 0.],\n",
       "          [0., 0., 0., 0.],\n",
       "          [0., 0., 0., 0.],\n",
       "          [0., 0., 0., 0.],\n",
       "          [0., 0., 0., 0.],\n",
       "          [0., 0., 0., 0.]]]], device='cuda:0', dtype=torch.float64, grad_fn=<SubBackward0>)"
      ]
     },
     "execution_count": 14,
     "metadata": {},
     "output_type": "execute_result"
    }
   ],
   "source": [
    "hs_pt_scaled - hs_obw_scaled"
   ]
  },
  {
   "cell_type": "code",
   "execution_count": 15,
   "metadata": {},
   "outputs": [
    {
     "data": {
      "text/plain": [
       "tensor([[[[ 0.0000e+00,  0.0000e+00,  0.0000e+00,  0.0000e+00],\n",
       "          [ 0.0000e+00,  0.0000e+00,  0.0000e+00,  0.0000e+00],\n",
       "          [-1.5314e-06,  1.1898e-06, -4.0425e-06, -1.1652e-05],\n",
       "          [ 0.0000e+00,  0.0000e+00,  0.0000e+00,  0.0000e+00],\n",
       "          [ 6.4882e-06, -1.3727e-05,  6.1535e-06, -1.6513e-05],\n",
       "          [ 3.1307e-05, -1.2041e-05,  1.1293e-05,  1.6676e-06],\n",
       "          [ 2.7022e-06, -1.6586e-06,  1.1334e-05, -1.3535e-06],\n",
       "          [ 0.0000e+00,  0.0000e+00,  0.0000e+00,  0.0000e+00]]]], device='cuda:0', dtype=torch.float64)"
      ]
     },
     "execution_count": 15,
     "metadata": {},
     "output_type": "execute_result"
    }
   ],
   "source": [
    "qs_pt.grad - qs_obw.grad"
   ]
  },
  {
   "cell_type": "code",
   "execution_count": 16,
   "metadata": {},
   "outputs": [
    {
     "data": {
      "text/plain": [
       "tensor([[[[ 1.6914e-06,  8.2518e-07,  1.4939e-06,  1.6078e-06],\n",
       "          [ 5.2692e-06,  2.5707e-06,  4.6539e-06,  5.0088e-06],\n",
       "          [ 6.8855e-06,  3.3593e-06,  6.0815e-06,  6.5453e-06],\n",
       "          [ 5.3227e-07,  1.3101e-05,  4.5358e-06,  8.8716e-07],\n",
       "          [ 8.7948e-07,  2.1647e-05,  7.4946e-06,  1.4659e-06],\n",
       "          [-1.2351e-05,  9.8664e-06,  5.1246e-06, -8.8751e-06],\n",
       "          [-6.2944e-06,  5.1208e-06, -7.5627e-06, -1.0601e-05],\n",
       "          [ 0.0000e+00,  0.0000e+00,  0.0000e+00,  0.0000e+00]]]], device='cuda:0', dtype=torch.float64)"
      ]
     },
     "execution_count": 16,
     "metadata": {},
     "output_type": "execute_result"
    }
   ],
   "source": [
    "ks_pt.grad - ks_obw.grad"
   ]
  },
  {
   "cell_type": "code",
   "execution_count": 17,
   "metadata": {},
   "outputs": [
    {
     "data": {
      "text/plain": [
       "tensor([[[[ 0.0000e+00,  0.0000e+00,  1.3878e-16,  0.0000e+00],\n",
       "          [-4.4409e-16,  3.3307e-16,  0.0000e+00,  0.0000e+00],\n",
       "          [ 4.4409e-16,  0.0000e+00,  0.0000e+00,  0.0000e+00],\n",
       "          [-8.8818e-16,  2.2204e-16,  0.0000e+00, -8.8818e-16],\n",
       "          [ 0.0000e+00,  0.0000e+00,  4.4409e-16, -4.4409e-16],\n",
       "          [ 0.0000e+00,  0.0000e+00, -1.7764e-15,  1.7764e-15],\n",
       "          [ 0.0000e+00,  0.0000e+00, -5.5511e-17,  0.0000e+00],\n",
       "          [-1.1102e-16,  0.0000e+00,  0.0000e+00, -4.4409e-16]]]], device='cuda:0', dtype=torch.float64)"
      ]
     },
     "execution_count": 17,
     "metadata": {},
     "output_type": "execute_result"
    }
   ],
   "source": [
    "vs_pt.grad - vs_obw.grad"
   ]
  },
  {
   "cell_type": "code",
   "execution_count": 18,
   "metadata": {},
   "outputs": [
    {
     "data": {
      "text/plain": [
       "tensor([[[-7.6044e-07,  2.4240e-06, -2.0677e-05, -3.6671e-05,  8.3042e-06, -3.4175e-05,  2.4096e-06,  0.0000e+00]]], device='cuda:0', dtype=torch.float64)"
      ]
     },
     "execution_count": 18,
     "metadata": {},
     "output_type": "execute_result"
    }
   ],
   "source": [
    "igs_pt.grad - igs_obw.grad"
   ]
  },
  {
   "cell_type": "code",
   "execution_count": 19,
   "metadata": {},
   "outputs": [
    {
     "data": {
      "text/plain": [
       "tensor([[[-1.5099e-16, -2.7182e-07,  7.4923e-07, -5.8534e-07, -1.2563e-05, -7.5150e-07, -5.3494e-06, -8.0863e-11]]], device='cuda:0', dtype=torch.float64)"
      ]
     },
     "execution_count": 19,
     "metadata": {},
     "output_type": "execute_result"
    }
   ],
   "source": [
    "fgs_pt.grad - fgs_obw.grad"
   ]
  },
  {
   "cell_type": "markdown",
   "metadata": {},
   "source": [
    "## triton"
   ]
  },
  {
   "cell_type": "code",
   "execution_count": null,
   "metadata": {},
   "outputs": [],
   "source": [
    "fgs_tr = fgs.clone().detach().requires_grad_(True)\n",
    "igs_tr = igs.clone().detach().requires_grad_(True)\n",
    "qs_tr = qs.clone().detach().requires_grad_(True)\n",
    "ks_tr = ks.clone().detach().requires_grad_(True)\n",
    "vs_tr = vs.clone().detach().requires_grad_(True)"
   ]
  },
  {
   "cell_type": "code",
   "execution_count": null,
   "metadata": {},
   "outputs": [],
   "source": []
  }
 ],
 "metadata": {
  "kernelspec": {
   "display_name": "xlstmpt240cu121",
   "language": "python",
   "name": "python3"
  },
  "language_info": {
   "codemirror_mode": {
    "name": "ipython",
    "version": 3
   },
   "file_extension": ".py",
   "mimetype": "text/x-python",
   "name": "python",
   "nbconvert_exporter": "python",
   "pygments_lexer": "ipython3",
   "version": "3.11.9"
  }
 },
 "nbformat": 4,
 "nbformat_minor": 2
}
