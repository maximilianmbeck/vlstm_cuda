{
 "cells": [
  {
   "cell_type": "code",
   "execution_count": 1,
   "metadata": {},
   "outputs": [],
   "source": [
    "%load_ext autoreload\n",
    "%autoreload 2\n",
    "\n",
    "import torch \n",
    "torch.set_printoptions(linewidth=200, threshold=100000)\n",
    "\n",
    "\n",
    "from mlstm_parallel import mlstm_torch_autograd\n",
    "from mlstm_chunkwise._torch_fw_legacy import mlstm_chunkwise_parallel_legacy\n",
    "from mlstm_chunkwise.torch_fw import mlstm_chunkwise_parallel_fw_looped\n"
   ]
  },
  {
   "cell_type": "markdown",
   "metadata": {},
   "source": [
    "# Match vLSTM chunkwise parallel to parallel\n"
   ]
  },
  {
   "cell_type": "code",
   "execution_count": 2,
   "metadata": {},
   "outputs": [],
   "source": [
    "# params\n",
    "S = 12 # seq len\n",
    "B = 1 # batch size\n",
    "NH = 1 # num heads\n",
    "DH = 6 # dim per head\n",
    "\n",
    "DTYPE = torch.float32\n",
    "DEVICE = torch.device(\"cuda:0\")\n",
    "EPS = 0.0"
   ]
  },
  {
   "cell_type": "code",
   "execution_count": 3,
   "metadata": {},
   "outputs": [],
   "source": [
    "torch.manual_seed(0)\n",
    "matQ = torch.randn((B, NH, S, DH), dtype=DTYPE, device=DEVICE)\n",
    "matK = torch.randn((B, NH, S, DH), dtype=DTYPE, device=DEVICE)\n",
    "matV = torch.randn((B, NH, S, DH), dtype=DTYPE, device=DEVICE)\n",
    "vecI = torch.randn((B, NH, S), dtype=DTYPE, device=DEVICE)\n",
    "vecF = torch.randn((B, NH, S), dtype=DTYPE, device=DEVICE)"
   ]
  },
  {
   "cell_type": "code",
   "execution_count": 4,
   "metadata": {},
   "outputs": [],
   "source": [
    "matH_p = mlstm_torch_autograd(matQ, matK, matV, vecI, vecF, EPS)"
   ]
  },
  {
   "cell_type": "markdown",
   "metadata": {},
   "source": [
    "### chunkwise legacy version."
   ]
  },
  {
   "cell_type": "code",
   "execution_count": 5,
   "metadata": {},
   "outputs": [
    {
     "data": {
      "text/plain": [
       "tensor([[[[-2.5441,  0.7163,  0.4934, -0.1267, -0.1014,  0.4035],\n",
       "          [-0.9682,  0.2628,  0.1925, -0.0491, -0.0478,  0.1514],\n",
       "          [ 0.8653, -0.1537,  0.2109, -0.3454,  0.1031, -0.0583],\n",
       "          [-1.1542,  0.5936,  0.6027,  0.0523, -0.9670,  0.7676],\n",
       "          [ 0.2532, -0.1195,  0.0188,  0.0912,  0.0605, -0.0186],\n",
       "          [-0.0608,  0.1141, -0.1181,  0.0315,  0.1147,  0.0054],\n",
       "          [ 0.7045, -3.0562, -2.1854,  0.2068, -0.0699, -1.0153],\n",
       "          [-0.2197, -1.3752, -1.6874,  0.2571, -0.3313, -0.6734],\n",
       "          [ 0.3718, -0.9543, -0.7833,  0.5497,  1.5527, -1.3676],\n",
       "          [-0.5933,  0.0954, -0.4657,  0.1006, -1.0383,  0.6899],\n",
       "          [ 0.3316, -0.1104, -0.1473,  0.2832,  0.3755, -0.6177],\n",
       "          [ 3.8387, -0.8141, -0.0150,  0.6760,  0.5455,  0.1670]]]], device='cuda:0')"
      ]
     },
     "execution_count": 5,
     "metadata": {},
     "output_type": "execute_result"
    }
   ],
   "source": [
    "matH_cpl = mlstm_chunkwise_parallel_legacy(matQ, matK, matV, vecI.unsqueeze(-1), vecF.unsqueeze(-1), chunk_size=4)\n",
    "matH_cpl"
   ]
  },
  {
   "cell_type": "code",
   "execution_count": 6,
   "metadata": {},
   "outputs": [
    {
     "data": {
      "text/plain": [
       "tensor([[[[ 0.0000e+00,  0.0000e+00,  0.0000e+00,  0.0000e+00,  0.0000e+00, -2.9802e-08],\n",
       "          [ 4.1723e-07, -1.1921e-07, -7.4506e-08,  2.2352e-08,  7.4506e-09, -4.4703e-08],\n",
       "          [ 0.0000e+00, -2.9802e-08, -7.4506e-08,  1.1921e-07, -7.4506e-09, -1.1176e-08],\n",
       "          [ 1.1921e-07, -5.9605e-08,  0.0000e+00, -3.3528e-08,  5.9605e-08,  0.0000e+00],\n",
       "          [-1.1921e-07,  6.7055e-08, -2.2352e-08,  2.2352e-08, -4.0978e-08,  2.6077e-08],\n",
       "          [ 1.6764e-07, -6.0350e-07, -4.0978e-07,  1.0431e-07, -2.2352e-08, -5.9558e-07],\n",
       "          [-5.9605e-08,  2.3842e-07,  2.3842e-07, -5.9605e-08,  0.0000e+00,  3.5763e-07],\n",
       "          [-4.4703e-08,  5.9605e-07,  4.7684e-07, -8.9407e-08,  0.0000e+00,  4.1723e-07],\n",
       "          [ 5.9605e-08, -5.9605e-08, -5.9605e-08,  0.0000e+00,  0.0000e+00, -1.1921e-07],\n",
       "          [ 5.9605e-08, -1.4901e-08,  2.9802e-08, -1.4901e-08,  2.3842e-07,  0.0000e+00],\n",
       "          [ 0.0000e+00, -1.2666e-07, -4.4703e-08,  2.9802e-08,  5.9605e-08, -1.1921e-07],\n",
       "          [ 0.0000e+00, -5.9605e-08, -2.0489e-08,  0.0000e+00, -1.7881e-07, -5.9605e-08]]]], device='cuda:0')"
      ]
     },
     "execution_count": 6,
     "metadata": {},
     "output_type": "execute_result"
    }
   ],
   "source": [
    "matH_p - matH_cpl"
   ]
  },
  {
   "cell_type": "code",
   "execution_count": 7,
   "metadata": {},
   "outputs": [
    {
     "data": {
      "text/plain": [
       "tensor(6.0350e-07, device='cuda:0')"
      ]
     },
     "execution_count": 7,
     "metadata": {},
     "output_type": "execute_result"
    }
   ],
   "source": [
    "(matH_p - matH_cpl).abs().max()"
   ]
  },
  {
   "cell_type": "markdown",
   "metadata": {},
   "source": [
    "### chunkwise looped version."
   ]
  },
  {
   "cell_type": "code",
   "execution_count": 8,
   "metadata": {},
   "outputs": [],
   "source": [
    "matH_cplo = mlstm_chunkwise_parallel_fw_looped(matQ, matK, matV, vecI, vecF, seq_chunk_size=4)"
   ]
  },
  {
   "cell_type": "code",
   "execution_count": 9,
   "metadata": {},
   "outputs": [
    {
     "data": {
      "text/plain": [
       "tensor([[[[ 0.0000e+00,  0.0000e+00,  0.0000e+00,  0.0000e+00,  0.0000e+00, -2.9802e-08],\n",
       "          [ 4.1723e-07, -1.1921e-07, -7.4506e-08,  2.2352e-08,  7.4506e-09, -4.4703e-08],\n",
       "          [ 0.0000e+00, -2.9802e-08, -7.4506e-08,  1.1921e-07, -7.4506e-09, -1.1176e-08],\n",
       "          [ 1.1921e-07, -5.9605e-08,  0.0000e+00, -3.3528e-08,  5.9605e-08,  0.0000e+00],\n",
       "          [-1.1921e-07,  6.7055e-08, -2.2352e-08,  2.2352e-08, -4.0978e-08,  2.6077e-08],\n",
       "          [ 1.6764e-07, -6.0350e-07, -4.0978e-07,  1.0431e-07, -2.2352e-08, -5.9558e-07],\n",
       "          [-5.9605e-08,  2.3842e-07,  2.3842e-07, -5.9605e-08,  0.0000e+00,  3.5763e-07],\n",
       "          [-4.4703e-08,  5.9605e-07,  4.7684e-07, -8.9407e-08,  0.0000e+00,  4.1723e-07],\n",
       "          [ 5.9605e-08, -5.9605e-08, -5.9605e-08,  0.0000e+00,  0.0000e+00, -1.1921e-07],\n",
       "          [ 5.9605e-08, -1.4901e-08,  2.9802e-08, -1.4901e-08,  2.3842e-07,  0.0000e+00],\n",
       "          [ 0.0000e+00, -1.2666e-07, -4.4703e-08,  2.9802e-08,  5.9605e-08, -1.1921e-07],\n",
       "          [ 0.0000e+00, -5.9605e-08, -2.0489e-08,  0.0000e+00, -1.7881e-07, -5.9605e-08]]]], device='cuda:0')"
      ]
     },
     "execution_count": 9,
     "metadata": {},
     "output_type": "execute_result"
    }
   ],
   "source": [
    "matH_p - matH_cplo"
   ]
  },
  {
   "cell_type": "code",
   "execution_count": 10,
   "metadata": {},
   "outputs": [
    {
     "data": {
      "text/plain": [
       "tensor(6.0350e-07, device='cuda:0')"
      ]
     },
     "execution_count": 10,
     "metadata": {},
     "output_type": "execute_result"
    }
   ],
   "source": [
    "(matH_p - matH_cplo).abs().max()"
   ]
  }
 ],
 "metadata": {
  "kernelspec": {
   "display_name": "xlstmpt220cu121",
   "language": "python",
   "name": "python3"
  },
  "language_info": {
   "codemirror_mode": {
    "name": "ipython",
    "version": 3
   },
   "file_extension": ".py",
   "mimetype": "text/x-python",
   "name": "python",
   "nbconvert_exporter": "python",
   "pygments_lexer": "ipython3",
   "version": "3.11.9"
  }
 },
 "nbformat": 4,
 "nbformat_minor": 2
}
