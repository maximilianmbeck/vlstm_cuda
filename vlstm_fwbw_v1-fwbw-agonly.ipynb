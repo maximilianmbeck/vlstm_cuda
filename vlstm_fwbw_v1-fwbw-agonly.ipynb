{
 "cells": [
  {
   "cell_type": "code",
   "execution_count": 1,
   "metadata": {
    "notebookRunGroups": {
     "groupValue": "1"
    }
   },
   "outputs": [
    {
     "data": {
      "text/plain": [
       "True"
      ]
     },
     "execution_count": 1,
     "metadata": {},
     "output_type": "execute_result"
    }
   ],
   "source": [
    "import sys\n",
    "import os\n",
    "\n",
    "os.environ[\"CUDA_VISIBLE_DEVICES\"] = \"0\"\n",
    "sys.path.append(\".\")\n",
    "# os.environ[\"MAX_JOBS\"] = \"100\"\n",
    "\n",
    "import torch\n",
    "torch.set_printoptions(linewidth=200, threshold=100000)\n",
    "torch.cuda.is_available()"
   ]
  },
  {
   "cell_type": "code",
   "execution_count": 2,
   "metadata": {
    "notebookRunGroups": {
     "groupValue": "1"
    }
   },
   "outputs": [
    {
     "name": "stdout",
     "output_type": "stream",
     "text": [
      "INCLUDE: ['/home/max/miniconda3/envs/xlstmpt220cu121/lib/python3.11/site-packages/torch/include', '/home/max/miniconda3/envs/xlstmpt220cu121/lib/python3.11/site-packages/torch/include/torch/csrc/api/include', '/home/max/miniconda3/envs/xlstmpt220cu121/lib/python3.11/site-packages/torch/include/TH', '/home/max/miniconda3/envs/xlstmpt220cu121/lib/python3.11/site-packages/torch/include/THC', '/home/max/miniconda3/envs/xlstmpt220cu121/include']\n",
      "/home/max/myrepos/vlstm_cuda/src\n",
      "/home/max/cpplibs/libtorch/lib:/usr/local/cuda-12.3/lib64:\n",
      "/home/max/miniconda3/envs/xlstmpt220cu121/lib\n"
     ]
    },
    {
     "name": "stderr",
     "output_type": "stream",
     "text": [
      "Using /home/max/.cache/torch_extensions/py311_cu121 as PyTorch extensions root...\n",
      "Detected CUDA files, patching ldflags\n",
      "Emitting ninja build file /home/max/.cache/torch_extensions/py311_cu121/vlstm_fwbw_v1/build.ninja...\n",
      "Building extension module vlstm_fwbw_v1...\n",
      "Allowing ninja to set a default number of workers... (overridable by setting the environment variable MAX_JOBS=N)\n"
     ]
    },
    {
     "name": "stdout",
     "output_type": "stream",
     "text": [
      "ninja: no work to do.\n"
     ]
    },
    {
     "name": "stderr",
     "output_type": "stream",
     "text": [
      "Loading extension module vlstm_fwbw_v1...\n"
     ]
    }
   ],
   "source": [
    "from src.vlstm_fwbw_v1.interface import vlstm_fwbw_torch_obw, vlstm_fwbw_cuda\n",
    "from src.vlstm_fwbw_v1.interface import vlstm_fwbw_torch_autogradbw"
   ]
  },
  {
   "cell_type": "markdown",
   "metadata": {},
   "source": [
    "## CUDA vLSTM forward backward"
   ]
  },
  {
   "cell_type": "code",
   "execution_count": 3,
   "metadata": {
    "notebookRunGroups": {
     "groupValue": "1"
    }
   },
   "outputs": [],
   "source": [
    "S = 8 #32 #16 #8 # seq len\n",
    "B = 1 # batch size\n",
    "NH = 1 # num heads\n",
    "DH = 8 # dim per head\n",
    "DTYPE = torch.float32 #bfloat16 #float32\n",
    "DEVICE = torch.device(\"cuda:0\")"
   ]
  },
  {
   "cell_type": "code",
   "execution_count": 4,
   "metadata": {
    "notebookRunGroups": {
     "groupValue": "1"
    }
   },
   "outputs": [],
   "source": [
    "# create qkv, inputgates, forgetgates \n",
    "torch.manual_seed(0)\n",
    "# fixed:\n",
    "# qs = torch.arange((B*NH*S*DH), device=DEVICE, dtype=DTYPE).reshape((B, NH, S, DH)) / 10.\n",
    "# ks = torch.ones((B, NH, S, DH), device=DEVICE, dtype=DTYPE) / 100.\n",
    "# vs = torch.ones((B, NH, S, DH), device=DEVICE, dtype=DTYPE) / 100.\n",
    "\n",
    "# random: \n",
    "qs = torch.randn((B, NH, S, DH), device=DEVICE, dtype=DTYPE)\n",
    "ks = torch.randn((B, NH, S, DH), device=DEVICE, dtype=DTYPE)\n",
    "vs = torch.randn((B, NH, S, DH), device=DEVICE, dtype=DTYPE)\n",
    "# igs = (1. + torch.arange((B * NH * S), device=DEVICE, dtype=DTYPE)).reshape(B, NH, S, 1) / 10.\n",
    "# igs = torch.zeros((B, NH, S, 1), device=DEVICE, dtype=DTYPE) #/ 10.\n",
    "igs = torch.randn((B, NH, S, 1), device=DEVICE, dtype=DTYPE) #/ 10.\n",
    "# fgs = torch.ones((B, NH, S, 1), device=DEVICE, dtype=DTYPE)\n",
    "fgs = torch.randn((B, NH, S, 1), device=DEVICE, dtype=DTYPE)\n",
    "\n",
    "# dHs = torch.randn((B, NH, S, DH), device=DEVICE, dtype=DTYPE)"
   ]
  },
  {
   "cell_type": "markdown",
   "metadata": {},
   "source": [
    "### match through autograd"
   ]
  },
  {
   "cell_type": "code",
   "execution_count": 5,
   "metadata": {},
   "outputs": [
    {
     "data": {
      "text/plain": [
       "(Parameter containing:\n",
       " tensor([0., 0., 0., 0., 0., 0., 0., 0.], device='cuda:0', requires_grad=True),\n",
       " None)"
      ]
     },
     "execution_count": 5,
     "metadata": {},
     "output_type": "execute_result"
    }
   ],
   "source": [
    "# now we need to apply the groupnorm directly afterwards\n",
    "from vlstm_formulations.ln import MultiHeadLayerNorm\n",
    "\n",
    "mh_layernorm = MultiHeadLayerNorm(ndim=NH*DH, eps=1e-6).to(device=DEVICE, dtype=DTYPE)\n",
    "mh_layernorm.weight, mh_layernorm.bias"
   ]
  },
  {
   "cell_type": "code",
   "execution_count": 6,
   "metadata": {},
   "outputs": [],
   "source": [
    "offset = 3.* torch.randn((B, NH, S, DH), device=DEVICE, dtype=DTYPE)"
   ]
  },
  {
   "cell_type": "code",
   "execution_count": 7,
   "metadata": {},
   "outputs": [],
   "source": [
    "fgs_pt_ag = fgs.clone().detach().requires_grad_(True)\n",
    "igs_pt_ag = igs.clone().detach().requires_grad_(True)\n",
    "qs_pt_ag = qs.clone().detach().requires_grad_(True)\n",
    "ks_pt_ag = ks.clone().detach().requires_grad_(True)\n",
    "vs_pt_ag = vs.clone().detach().requires_grad_(True)"
   ]
  },
  {
   "cell_type": "code",
   "execution_count": 8,
   "metadata": {},
   "outputs": [],
   "source": [
    "# pytorch obw\n",
    "hs_pt_ag, n_pt_ag, m_pt_ag = vlstm_fwbw_torch_obw( #vlstm_fwbw_torch_autogradbw( #vlstm_fwbw_torch_obw(\n",
    "    queries=qs_pt_ag,\n",
    "    keys=ks_pt_ag,\n",
    "    values=vs_pt_ag,\n",
    "    igate_preact=igs_pt_ag,\n",
    "    fgate_preact=fgs_pt_ag,\n",
    ")\n",
    "hs_pt_ag_scaled = mh_layernorm(hs_pt_ag)\n",
    "# hs_pt_ag_scaled.sum().backward()\n",
    "((hs_pt_ag_scaled+offset)**2).sum().backward()"
   ]
  },
  {
   "cell_type": "code",
   "execution_count": 9,
   "metadata": {},
   "outputs": [],
   "source": [
    "fgs_cu_ag = fgs.clone().detach().requires_grad_(True)\n",
    "igs_cu_ag = igs.clone().detach().requires_grad_(True)\n",
    "qs_cu_ag = qs.clone().detach().requires_grad_(True)\n",
    "ks_cu_ag = ks.clone().detach().requires_grad_(True)\n",
    "vs_cu_ag = vs.clone().detach().requires_grad_(True)"
   ]
  },
  {
   "cell_type": "code",
   "execution_count": 10,
   "metadata": {},
   "outputs": [],
   "source": [
    "# pytorch autograd\n",
    "# hs_cu_ag, n_cu_ag, m_cu_ag = vlstm_fwbw_torch_autogradbw(\n",
    "#     queries=qs_cu_ag,\n",
    "#     keys=ks_cu_ag,\n",
    "#     values=vs_cu_ag,\n",
    "#     igate_preact=igs_cu_ag,\n",
    "#     fgate_preact=fgs_cu_ag,\n",
    "# )\n",
    "# hs_cu_ag_scaled = mh_layernorm(hs_cu_ag)\n",
    "# hs_cu_ag_scaled.sum().backward()"
   ]
  },
  {
   "cell_type": "code",
   "execution_count": 11,
   "metadata": {},
   "outputs": [
    {
     "name": "stdout",
     "output_type": "stream",
     "text": [
      "before kernel dispatch - float32!\n",
      "B: 1, NH: 1, S: 8, DH: 8\n",
      "blocksxy: 1-1, threadsxy: 4-4, shared_mem in bytes: 5664\n",
      "In FW-Kernel: gdim.x: 1, gdim.y: 1, gdim.z: 1, bdim.x: 4, bdim.y: 4\n",
      "In FW-Kernel: QtileDim: 8, KVtileDim: 8, TblockDim:4\n",
      "before kernel dispatch - float32!\n",
      "B: 1, NH: 1, S: 8, DH: 8\n",
      "blocksxy: 1-2, threadsxy: 4-4, shared_mem in bytes: 7648\n",
      "In BW-Kernel: gdim.x: 1, gdim.y: 2, gdim.z: 1, bdim.x: 4, bdim.y: 4\n",
      "In BW-Kernel: QtileDim: 8, KVtileDim: 8, TblockDim:4\n"
     ]
    }
   ],
   "source": [
    "# cuda kernel\n",
    "hs_cu_ag, n_cu_ag, m_cu_ag, matD_cu_ag = vlstm_fwbw_cuda(\n",
    "    mat_Q=qs_cu_ag,\n",
    "    mat_K=ks_cu_ag,\n",
    "    mat_V=vs_cu_ag,\n",
    "    vec_igp=igs_cu_ag,\n",
    "    vec_fgp=fgs_cu_ag,\n",
    ")\n",
    "hs_cu_ag_scaled = mh_layernorm(hs_cu_ag)\n",
    "# hs_cu_ag_scaled.sum().backward()\n",
    "((hs_cu_ag_scaled+offset)**2).sum().backward()"
   ]
  },
  {
   "cell_type": "code",
   "execution_count": 12,
   "metadata": {},
   "outputs": [
    {
     "name": "stdout",
     "output_type": "stream",
     "text": [
      "fw hs match: True\n",
      "fw hs scaled match: True\n",
      "fw n match: True\n",
      "fw m match: True\n",
      "delta Q match: True\n",
      "delta K match: True\n",
      "delta V match: True\n",
      "delta Igate match: True\n",
      "delta Fgate match: True\n"
     ]
    }
   ],
   "source": [
    "FW_RTOL = 1e-10\n",
    "FW_ATOL = 1e-4\n",
    "BW_RTOL = FW_ATOL\n",
    "BW_ATOL = FW_ATOL\n",
    "print(f\"fw hs match: {torch.allclose(hs_cu_ag, hs_pt_ag, rtol=FW_RTOL, atol=FW_ATOL)}\")\n",
    "print(f\"fw hs scaled match: {torch.allclose(hs_cu_ag_scaled, hs_pt_ag_scaled, rtol=FW_RTOL, atol=FW_ATOL)}\")\n",
    "print(f\"fw n match: {torch.allclose(n_cu_ag, n_pt_ag, rtol=FW_RTOL, atol=FW_ATOL)}\")\n",
    "print(f\"fw m match: {torch.allclose(m_cu_ag, m_pt_ag, rtol=FW_RTOL, atol=FW_ATOL)}\")\n",
    "# print(f\"fw D match: {torch.allclose((matD_cu_ag - matD_pt_ag).tril(), torch.zeros_like((matD_cu)), rtol=FW_RTOL, atol=FW_ATOL)}\")\n",
    "\n",
    "print(f\"delta Q match: {torch.allclose(qs_cu_ag.grad, qs_pt_ag.grad, rtol=BW_RTOL, atol=BW_ATOL)}\")\n",
    "print(f\"delta K match: {torch.allclose(ks_cu_ag.grad, ks_pt_ag.grad, rtol=BW_RTOL, atol=BW_ATOL)}\")\n",
    "print(f\"delta V match: {torch.allclose(vs_cu_ag.grad, vs_pt_ag.grad, rtol=BW_RTOL, atol=BW_ATOL)}\")\n",
    "print(f\"delta Igate match: {torch.allclose(igs_cu_ag.grad, igs_pt_ag.grad, rtol=BW_RTOL, atol=BW_ATOL)}\")\n",
    "print(f\"delta Fgate match: {torch.allclose(fgs_cu_ag.grad, fgs_pt_ag.grad, rtol=BW_RTOL, atol=BW_ATOL)}\")"
   ]
  },
  {
   "cell_type": "code",
   "execution_count": 13,
   "metadata": {},
   "outputs": [
    {
     "data": {
      "text/plain": [
       "(tensor([[[[ 0.3516],\n",
       "           [-0.0763],\n",
       "           [-0.5240],\n",
       "           [ 0.3096],\n",
       "           [-0.3649],\n",
       "           [ 0.7268],\n",
       "           [ 0.1638],\n",
       "           [ 0.4116]]]], device='cuda:0', grad_fn=<vLSTMParallelFwBwCudaBackward>),\n",
       " tensor([[[[ 0.3516],\n",
       "           [-0.0763],\n",
       "           [-0.5240],\n",
       "           [ 0.3096],\n",
       "           [-0.3649],\n",
       "           [ 0.7268],\n",
       "           [ 0.1638],\n",
       "           [ 0.4116]]]], device='cuda:0', grad_fn=<vLSTMParallelFwBwWithGroupNormBackward>))"
      ]
     },
     "execution_count": 13,
     "metadata": {},
     "output_type": "execute_result"
    }
   ],
   "source": [
    "m_cu_ag, m_pt_ag"
   ]
  },
  {
   "cell_type": "code",
   "execution_count": 14,
   "metadata": {},
   "outputs": [
    {
     "data": {
      "text/plain": [
       "tensor([[[[ 2.8096e-07, -8.5808e-07,  1.4354e-06, -1.1420e-06,  2.1442e-06,  1.3481e-06,  2.0145e-07, -1.4615e-06],\n",
       "          [ 1.7881e-07, -3.5763e-07,  7.1526e-07, -6.1840e-07,  1.0654e-06,  6.8545e-07,  5.9605e-08, -7.3016e-07],\n",
       "          [ 1.1921e-07,  9.5367e-07, -9.5367e-07,  2.3842e-07,  9.5367e-07, -4.7684e-07,  2.3842e-07, -4.7684e-07],\n",
       "          [-2.3842e-07, -2.3842e-07,  5.9605e-07,  0.0000e+00,  2.3842e-07,  2.3842e-07,  1.3113e-06,  3.5763e-07],\n",
       "          [ 3.9637e-06,  7.6294e-06, -1.2875e-05,  6.6757e-06, -8.5831e-06, -5.7220e-06, -2.1458e-05, -3.3379e-06],\n",
       "          [-1.6689e-06, -1.4007e-06,  9.5367e-07, -1.4603e-06,  7.6294e-06,  7.1526e-07,  1.0878e-06,  1.4305e-06],\n",
       "          [ 0.0000e+00,  1.1921e-07, -1.1921e-07,  2.9802e-08,  4.7684e-07, -4.7684e-07, -8.9407e-08,  1.1921e-07],\n",
       "          [ 7.6294e-06,  1.9073e-06, -7.6294e-06,  4.7684e-07,  7.6294e-06, -5.7220e-06, -7.6294e-06,  0.0000e+00]]]], device='cuda:0')"
      ]
     },
     "execution_count": 14,
     "metadata": {},
     "output_type": "execute_result"
    }
   ],
   "source": [
    "qs_cu_ag.grad - qs_pt_ag.grad"
   ]
  },
  {
   "cell_type": "code",
   "execution_count": 15,
   "metadata": {},
   "outputs": [
    {
     "data": {
      "text/plain": [
       "tensor(2.1458e-05, device='cuda:0')"
      ]
     },
     "execution_count": 15,
     "metadata": {},
     "output_type": "execute_result"
    }
   ],
   "source": [
    "torch.abs(qs_cu_ag.grad - qs_pt_ag.grad).max()"
   ]
  },
  {
   "cell_type": "code",
   "execution_count": 16,
   "metadata": {},
   "outputs": [
    {
     "data": {
      "text/plain": [
       "tensor(1.6212e-05, device='cuda:0')"
      ]
     },
     "execution_count": 16,
     "metadata": {},
     "output_type": "execute_result"
    }
   ],
   "source": [
    "torch.abs(ks_cu_ag.grad - ks_pt_ag.grad).max()"
   ]
  },
  {
   "cell_type": "code",
   "execution_count": 17,
   "metadata": {},
   "outputs": [
    {
     "data": {
      "text/plain": [
       "tensor(1.6212e-05, device='cuda:0')"
      ]
     },
     "execution_count": 17,
     "metadata": {},
     "output_type": "execute_result"
    }
   ],
   "source": [
    "torch.abs(ks_cu_ag.grad - ks_pt_ag.grad).max()"
   ]
  },
  {
   "cell_type": "code",
   "execution_count": 18,
   "metadata": {},
   "outputs": [
    {
     "data": {
      "text/plain": [
       "tensor(4.7684e-06, device='cuda:0')"
      ]
     },
     "execution_count": 18,
     "metadata": {},
     "output_type": "execute_result"
    }
   ],
   "source": [
    "torch.abs(vs_cu_ag.grad - vs_pt_ag.grad).max()"
   ]
  },
  {
   "cell_type": "code",
   "execution_count": null,
   "metadata": {},
   "outputs": [],
   "source": []
  }
 ],
 "metadata": {
  "kernelspec": {
   "display_name": "xlstmpt21cu121",
   "language": "python",
   "name": "python3"
  },
  "language_info": {
   "codemirror_mode": {
    "name": "ipython",
    "version": 3
   },
   "file_extension": ".py",
   "mimetype": "text/x-python",
   "name": "python",
   "nbconvert_exporter": "python",
   "pygments_lexer": "ipython3",
   "version": "3.11.7"
  }
 },
 "nbformat": 4,
 "nbformat_minor": 2
}
