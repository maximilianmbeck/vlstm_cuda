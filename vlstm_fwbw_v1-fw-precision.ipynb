{
 "cells": [
  {
   "cell_type": "code",
   "execution_count": 1,
   "metadata": {
    "notebookRunGroups": {
     "groupValue": "1"
    }
   },
   "outputs": [],
   "source": [
    "import sys\n",
    "import os\n",
    "\n",
    "os.environ[\"CUDA_VISIBLE_DEVICES\"] = \"0\"\n",
    "sys.path.append(\".\")\n",
    "# os.environ[\"MAX_JOBS\"] = \"100\"\n",
    "\n",
    "import torch\n",
    "torch.set_printoptions(linewidth=200, threshold=100000)\n",
    "torch.cuda.is_available()\n",
    "\n",
    "from tqdm import tqdm\n",
    "import matplotlib.pyplot as plt"
   ]
  },
  {
   "cell_type": "code",
   "execution_count": 2,
   "metadata": {
    "notebookRunGroups": {
     "groupValue": "1"
    }
   },
   "outputs": [
    {
     "name": "stdout",
     "output_type": "stream",
     "text": [
      "INCLUDE: ['/home/max/miniconda3/envs/xlstmpt220cu121/lib/python3.11/site-packages/torch/include', '/home/max/miniconda3/envs/xlstmpt220cu121/lib/python3.11/site-packages/torch/include/torch/csrc/api/include', '/home/max/miniconda3/envs/xlstmpt220cu121/lib/python3.11/site-packages/torch/include/TH', '/home/max/miniconda3/envs/xlstmpt220cu121/lib/python3.11/site-packages/torch/include/THC', '/home/max/miniconda3/envs/xlstmpt220cu121/include']\n",
      "/home/max/myrepos/vlstm_cuda/src\n",
      "/home/max/cpplibs/libtorch/lib:/usr/local/cuda-12.3/lib64:\n",
      "/home/max/miniconda3/envs/xlstmpt220cu121/lib\n"
     ]
    },
    {
     "name": "stderr",
     "output_type": "stream",
     "text": [
      "Using /home/max/.cache/torch_extensions/py311_cu121 as PyTorch extensions root...\n",
      "Detected CUDA files, patching ldflags\n",
      "Emitting ninja build file /home/max/.cache/torch_extensions/py311_cu121/vlstm_fwbw_v1/build.ninja...\n",
      "Building extension module vlstm_fwbw_v1...\n",
      "Allowing ninja to set a default number of workers... (overridable by setting the environment variable MAX_JOBS=N)\n"
     ]
    },
    {
     "name": "stdout",
     "output_type": "stream",
     "text": [
      "ninja: no work to do.\n"
     ]
    },
    {
     "name": "stderr",
     "output_type": "stream",
     "text": [
      "Loading extension module vlstm_fwbw_v1...\n"
     ]
    }
   ],
   "source": [
    "from src.vlstm_fwbw_v1.interface import vlstm_fwbw_torch_autogradbw\n",
    "from src.vlstm_fwbw_v1.interface import vlstm_fw_torch, vlstm_fw_cuda\n",
    "from src.vlstm_fwbw_v1.interface import vlstm_bw_torch_obw, vlstm_bw_cuda"
   ]
  },
  {
   "cell_type": "markdown",
   "metadata": {},
   "source": [
    "## CUDA vLSTM forward"
   ]
  },
  {
   "cell_type": "code",
   "execution_count": 3,
   "metadata": {
    "notebookRunGroups": {
     "groupValue": "1"
    }
   },
   "outputs": [],
   "source": [
    "S = 32 #32 #16 #8 # seq len\n",
    "B = 1 # batch size\n",
    "NH = 1 # num heads\n",
    "DH = 8 # dim per head\n",
    "DTYPE = torch.float32\n",
    "DEVICE = torch.device(\"cuda:0\")"
   ]
  },
  {
   "cell_type": "code",
   "execution_count": 4,
   "metadata": {
    "notebookRunGroups": {
     "groupValue": "1"
    }
   },
   "outputs": [],
   "source": [
    "# create qkv, inputgates, forgetgates \n",
    "torch.manual_seed(0)\n",
    "# fixed:\n",
    "# qs = torch.arange((B*NH*S*DH), device=DEVICE, dtype=DTYPE).reshape((B, NH, S, DH)) / 10.\n",
    "# ks = torch.ones((B, NH, S, DH), device=DEVICE, dtype=DTYPE) / 100.\n",
    "# vs = torch.ones((B, NH, S, DH), device=DEVICE, dtype=DTYPE) / 100.\n",
    "\n",
    "# random: \n",
    "qs = torch.randn((B, NH, S, DH), device=DEVICE, dtype=DTYPE)\n",
    "ks = torch.randn((B, NH, S, DH), device=DEVICE, dtype=DTYPE)\n",
    "vs = torch.randn((B, NH, S, DH), device=DEVICE, dtype=DTYPE)\n",
    "# igs = (1. + torch.arange((B * NH * S), device=DEVICE, dtype=DTYPE)).reshape(B, NH, S, 1) / 10.\n",
    "# igs = torch.zeros((B, NH, S, 1), device=DEVICE, dtype=DTYPE) #/ 10.\n",
    "igs = torch.randn((B, NH, S, 1), device=DEVICE, dtype=DTYPE) #/ 10.\n",
    "# fgs = torch.ones((B, NH, S, 1), device=DEVICE, dtype=DTYPE)\n",
    "fgs = torch.randn((B, NH, S, 1), device=DEVICE, dtype=DTYPE)\n",
    "\n",
    "dHs = torch.randn((B, NH, S, DH), device=DEVICE, dtype=DTYPE)"
   ]
  },
  {
   "cell_type": "code",
   "execution_count": 5,
   "metadata": {},
   "outputs": [],
   "source": [
    "# inputs float16\n",
    "dtype_fp16 = torch.float16\n",
    "qs_half = qs.to(dtype=dtype_fp16)\n",
    "ks_half = ks.to(dtype=dtype_fp16)\n",
    "vs_half = vs.to(dtype=dtype_fp16)\n",
    "igs_half = igs.to(dtype=dtype_fp16)\n",
    "fgs_half = fgs.to(dtype=dtype_fp16)\n",
    "dHs_half = dHs.to(dtype=dtype_fp16)"
   ]
  },
  {
   "cell_type": "code",
   "execution_count": 6,
   "metadata": {},
   "outputs": [],
   "source": [
    "# inputs bfloat16\n",
    "dtype_bf16 = torch.bfloat16\n",
    "qs_bf16 = qs.to(dtype=dtype_bf16)\n",
    "ks_bf16 = ks.to(dtype=dtype_bf16)\n",
    "vs_bf16 = vs.to(dtype=dtype_bf16)\n",
    "igs_bf16 = igs.to(dtype=dtype_bf16)\n",
    "fgs_bf16 = fgs.to(dtype=dtype_bf16)\n",
    "dHs_bf16 = dHs.to(dtype=dtype_bf16)"
   ]
  },
  {
   "cell_type": "markdown",
   "metadata": {},
   "source": [
    "### compare errors pure pytorch"
   ]
  },
  {
   "cell_type": "code",
   "execution_count": 7,
   "metadata": {},
   "outputs": [],
   "source": [
    "hs_pt, n_pt, m_pt, _, matD_pt = vlstm_fw_torch(queries=qs, keys=ks, values=vs, igate_preact=igs, fgate_preact=fgs)"
   ]
  },
  {
   "cell_type": "code",
   "execution_count": 8,
   "metadata": {},
   "outputs": [
    {
     "data": {
      "text/plain": [
       "torch.float16"
      ]
     },
     "execution_count": 8,
     "metadata": {},
     "output_type": "execute_result"
    }
   ],
   "source": [
    "hs_pt_half, n_pt_half, m_pt_half, _, matD_pt_half = vlstm_fw_torch(queries=qs_half, keys=ks_half, values=vs_half, igate_preact=igs_half, fgate_preact=fgs_half)\n",
    "hs_pt_half.dtype"
   ]
  },
  {
   "cell_type": "code",
   "execution_count": 9,
   "metadata": {},
   "outputs": [
    {
     "data": {
      "text/plain": [
       "torch.bfloat16"
      ]
     },
     "execution_count": 9,
     "metadata": {},
     "output_type": "execute_result"
    }
   ],
   "source": [
    "hs_pt_bf16, n_pt_bf16, m_pt_bf16, _, matD_pt_bf16 = vlstm_fw_torch(queries=qs_bf16, keys=ks_bf16, values=vs_bf16, igate_preact=igs_bf16, fgate_preact=fgs_bf16)\n",
    "hs_pt_bf16.dtype"
   ]
  },
  {
   "cell_type": "code",
   "execution_count": 10,
   "metadata": {},
   "outputs": [
    {
     "name": "stdout",
     "output_type": "stream",
     "text": [
      "====== Full -> Half ======\n",
      "fw hs match: False, max diff: 0.02645564079284668\n",
      "fw n match: False, max diff: 0.010812759399414062\n",
      "fw m match: False, max diff: 0.006419777870178223\n",
      "fw D match: False, max diff: 0.012081146240234375\n",
      "====== Full -> bfloat16 ======\n",
      "fw hs match: False, max diff: 0.15340876579284668\n",
      "fw n match: False, max diff: 0.09692215919494629\n",
      "fw m match: False, max diff: 0.05207604169845581\n",
      "fw D match: False, max diff: 0.15224838256835938\n"
     ]
    }
   ],
   "source": [
    "FW_RTOL = 1e-10\n",
    "FW_ATOL = 1e-4\n",
    "BW_RTOL = FW_ATOL\n",
    "BW_ATOL = FW_ATOL\n",
    "print(f\"====== Full -> Half ======\")\n",
    "print(f\"fw hs match: {torch.allclose(hs_pt_half.float(), hs_pt, rtol=FW_RTOL, atol=FW_ATOL)}, max diff: {torch.max(torch.abs(hs_pt_half - hs_pt))}\")\n",
    "print(f\"fw n match: {torch.allclose(n_pt_half.float(), n_pt, rtol=FW_RTOL, atol=FW_ATOL)}, max diff: {torch.max(torch.abs(n_pt_half - n_pt))}\")\n",
    "print(f\"fw m match: {torch.allclose(m_pt_half.float(), m_pt, rtol=FW_RTOL, atol=FW_ATOL)}, max diff: {torch.max(torch.abs(m_pt_half - m_pt))}\")\n",
    "print(f\"fw D match: {torch.allclose((matD_pt_half.float() - matD_pt).tril(), torch.zeros_like((matD_pt)), rtol=FW_RTOL, atol=FW_ATOL)}, max diff: {torch.max((matD_pt_half.float() - matD_pt).tril())}\")\n",
    "print(f\"====== Full -> bfloat16 ======\")\n",
    "print(f\"fw hs match: {torch.allclose(hs_pt_bf16.float(), hs_pt, rtol=FW_RTOL, atol=FW_ATOL)}, max diff: {torch.max(torch.abs(hs_pt_bf16 - hs_pt))}\")\n",
    "print(f\"fw n match: {torch.allclose(n_pt_bf16.float(), n_pt, rtol=FW_RTOL, atol=FW_ATOL)}, max diff: {torch.max(torch.abs(n_pt_bf16 - n_pt))}\")\n",
    "print(f\"fw m match: {torch.allclose(m_pt_bf16.float(), m_pt, rtol=FW_RTOL, atol=FW_ATOL)}, max diff: {torch.max(torch.abs(m_pt_bf16 - m_pt))}\")\n",
    "print(f\"fw D match: {torch.allclose((matD_pt_bf16.float() - matD_pt).tril(), torch.zeros_like((matD_pt)), rtol=FW_RTOL, atol=FW_ATOL)}, max diff: {torch.max((matD_pt_bf16.float() - matD_pt).tril())}\")"
   ]
  },
  {
   "cell_type": "code",
   "execution_count": 11,
   "metadata": {},
   "outputs": [
    {
     "data": {
      "text/plain": [
       "tensor([[[[-8.2469e-04, -4.0293e-05,  3.9279e-05,  1.5646e-06, -2.2829e-05,  3.1918e-05, -8.4996e-05, -1.2887e-04],\n",
       "          [ 1.0188e-03, -2.9069e-04, -3.5086e-04,  2.2091e-05,  3.9682e-05, -1.6275e-04, -1.6958e-04,  2.7680e-04],\n",
       "          [-8.3047e-04,  4.6849e-05, -9.2024e-04,  2.5344e-04,  6.2296e-04,  8.5697e-05, -1.1201e-03,  1.1749e-03],\n",
       "          [ 1.9765e-04,  3.4308e-04, -1.2231e-04,  1.2952e-04,  1.2159e-04,  2.1517e-05,  9.5367e-06,  1.0679e-03],\n",
       "          [-5.8177e-04, -9.0837e-05,  2.7262e-04, -6.2329e-04,  7.4536e-05,  2.2885e-04, -1.9744e-04,  3.6255e-04],\n",
       "          [ 2.5011e-04,  5.6922e-05,  2.8580e-04,  1.9385e-04,  2.0182e-04, -1.9410e-04,  3.6433e-04,  8.1182e-05],\n",
       "          [ 3.7201e-04, -6.1180e-04, -5.3038e-04,  8.7488e-04,  3.0231e-03, -1.9970e-03, -3.1338e-04, -2.7442e-04],\n",
       "          [-1.7107e-04,  3.5208e-04, -3.2121e-04,  1.9132e-04,  1.7822e-05, -2.6332e-04, -1.1712e-04, -2.6174e-04],\n",
       "          [-3.2991e-04, -2.0562e-04, -8.4484e-04,  9.0355e-04, -2.1640e-05, -1.4679e-03, -5.0913e-04, -1.0607e-03],\n",
       "          [-3.8493e-04, -7.4869e-04, -2.7113e-03,  6.4641e-04, -8.7926e-04, -1.3690e-03, -1.0230e-03, -1.0423e-03],\n",
       "          [-3.3200e-04,  2.9653e-04, -9.6217e-05,  9.7036e-05, -1.9062e-04,  1.4224e-04,  3.1590e-05, -1.3477e-04],\n",
       "          [-6.6245e-04,  1.8837e-03, -1.2650e-03, -1.1313e-04, -1.5694e-04,  3.1012e-04,  4.9173e-04,  8.6731e-04],\n",
       "          [-1.6987e-06, -9.8113e-05, -1.6637e-05,  1.0663e-04, -2.5869e-05, -1.2490e-05, -6.2343e-06, -2.2886e-05],\n",
       "          [-3.5995e-04,  5.0318e-04, -3.7849e-04,  7.9155e-05, -2.9683e-05,  2.5741e-04,  8.9586e-05,  1.6639e-04],\n",
       "          [ 7.9647e-06,  5.7006e-04, -1.2089e-03, -1.0281e-03,  8.1316e-04,  2.8980e-04,  4.1243e-04, -8.8930e-05],\n",
       "          [-1.6760e-03,  2.6190e-04,  2.3926e-03,  4.5164e-03,  1.9877e-03, -2.4581e-04,  1.4480e-03, -6.4047e-04],\n",
       "          [ 1.8358e-04,  1.7447e-03,  3.3590e-04,  2.7678e-03,  1.1196e-03, -4.5595e-04,  2.6476e-04, -2.3239e-03],\n",
       "          [-1.3034e-03, -2.5058e-04, -6.9141e-05, -2.2739e-03, -2.0590e-03,  6.8955e-04,  2.0784e-04,  3.2060e-03],\n",
       "          [ 1.4843e-03, -7.6741e-04, -1.4899e-03,  2.0813e-03,  2.5638e-03, -5.6420e-04, -2.2244e-04, -2.6336e-03],\n",
       "          [-1.6601e-03, -9.5928e-04, -2.2029e-03, -4.1463e-03, -2.9815e-03,  1.7289e-03, -1.1574e-03,  6.3925e-03],\n",
       "          [-1.0218e-03,  2.5512e-03,  2.0443e-03, -2.0976e-03, -8.2399e-04, -3.9141e-03,  4.8231e-04,  4.2558e-05],\n",
       "          [ 1.0595e-05, -7.6580e-04, -2.1446e-04,  2.9206e-05, -1.5140e-05,  6.3443e-04,  5.1963e-04,  2.9564e-05],\n",
       "          [ 3.8910e-04, -2.2511e-03, -8.7976e-05, -3.1024e-04, -5.6867e-04,  7.2370e-04,  1.7052e-03, -2.0066e-04],\n",
       "          [-4.0630e-03,  1.1664e-02, -7.8135e-03, -8.5503e-03,  1.7958e-03, -2.5849e-03, -9.8163e-03,  5.8590e-03],\n",
       "          [-1.0724e-03,  1.6996e-03, -1.5142e-03, -1.8315e-03, -7.7896e-05, -1.3037e-04, -1.6944e-03,  1.2965e-03],\n",
       "          [-3.1197e-04, -1.5973e-03,  2.7210e-05,  8.8692e-05, -7.0453e-04, -2.6107e-05, -6.1031e-04, -3.4446e-04],\n",
       "          [ 1.2496e-03, -6.9979e-03,  1.8541e-03,  4.5286e-03, -3.2120e-03,  1.5337e-03,  1.2025e-05, -2.6412e-03],\n",
       "          [-3.0379e-04,  1.9540e-03, -9.0384e-04, -1.1816e-03,  1.1175e-03, -9.1374e-04,  2.6524e-06,  7.7406e-04],\n",
       "          [ 1.3876e-04,  8.2731e-05,  5.1260e-06,  2.3259e-04, -1.2441e-03,  2.2310e-04, -1.7297e-04, -6.8367e-05],\n",
       "          [ 5.3996e-03, -6.8027e-03, -3.2185e-03, -1.1020e-03,  2.6456e-02,  4.0878e-03,  5.0555e-03,  4.2668e-03],\n",
       "          [ 3.4767e-04,  2.0641e-03, -6.4668e-04, -5.1798e-05, -1.5691e-03, -1.3647e-03, -6.4576e-04,  1.2629e-03],\n",
       "          [ 2.8214e-04,  2.7418e-05, -3.2991e-05, -5.2559e-04, -2.7032e-04, -3.6895e-05, -1.9461e-05,  5.3024e-04]]]], device='cuda:0')"
      ]
     },
     "execution_count": 11,
     "metadata": {},
     "output_type": "execute_result"
    }
   ],
   "source": [
    "(hs_pt_half.float() - hs_pt) #> 4.5e-3"
   ]
  },
  {
   "cell_type": "code",
   "execution_count": 12,
   "metadata": {},
   "outputs": [
    {
     "data": {
      "text/plain": [
       "tensor([[[[-2.7778e-03, -1.5051e-03,  7.7170e-04, -2.4258e-04, -2.0593e-04,  7.6434e-04, -8.4996e-05,  1.3360e-03],\n",
       "          [-1.0700e-02,  1.9759e-04, -1.0672e-04, -5.2723e-04, -1.4342e-04,  2.2787e-03, -5.0524e-03,  2.7182e-03],\n",
       "          [ 2.5875e-03, -1.4180e-03, -4.3195e-04,  4.9758e-04,  1.1112e-03,  1.4673e-04,  8.3303e-04,  3.6163e-03],\n",
       "          [ 1.1742e-03,  1.3196e-03, -2.5637e-03, -1.3353e-03,  6.0987e-04,  1.9746e-03, -4.7874e-04, -1.2604e-02],\n",
       "          [ 3.3245e-03, -9.0837e-05, -9.3594e-05, -4.5295e-03,  1.3563e-03, -2.5943e-04,  3.7088e-03,  3.0481e-03],\n",
       "          [-6.6542e-04,  5.4520e-04,  2.8580e-04,  2.5488e-04, -2.7279e-03,  5.0038e-05, -2.3212e-03, -2.8503e-04],\n",
       "          [-2.3834e-04,  3.2945e-03,  4.7186e-03,  2.3397e-03,  1.0836e-02,  4.8389e-03,  2.8604e-03, -7.6270e-04],\n",
       "          [-7.9836e-03,  9.6294e-03,  6.2706e-03, -3.9286e-03, -9.2595e-03,  9.1361e-03,  5.7423e-03,  3.4614e-03],\n",
       "          [ 6.0177e-03, -2.0367e-03,  2.0849e-03, -4.4675e-03, -9.6957e-03,  8.2977e-03, -1.9740e-03,  8.7049e-03],\n",
       "          [-3.8029e-03, -1.2370e-03, -1.0524e-02,  3.0878e-03,  5.8559e-04, -8.2049e-03,  2.8222e-03, -1.5306e-03],\n",
       "          [ 3.4209e-05, -4.0980e-03, -6.8101e-03,  8.2946e-04,  4.0818e-03,  3.1024e-03,  1.0082e-03, -2.5762e-03],\n",
       "          [-6.6245e-04, -2.0225e-03,  8.5006e-03, -3.0428e-03, -2.1101e-03, -7.5024e-03, -1.7966e-04, -4.5038e-03],\n",
       "          [-1.1614e-03,  2.4348e-03, -2.5191e-03,  1.6935e-03,  1.1146e-04,  1.4485e-03,  4.6679e-04,  1.4267e-03],\n",
       "          [ 1.5932e-03,  1.4797e-03,  3.6498e-03, -8.9741e-04, -2.4711e-03, -1.7567e-03, -2.3518e-03, -1.9088e-03],\n",
       "          [-3.5825e-04,  5.9106e-03, -5.6034e-03, -1.3723e-02, -3.3372e-03,  7.3699e-03,  5.2952e-03,  1.0653e-02],\n",
       "          [-4.3615e-03,  1.9793e-02, -4.4433e-03,  7.2019e-03,  8.8236e-03,  3.6604e-03,  6.3308e-03, -3.0115e-05],\n",
       "          [-3.0470e-04,  3.5688e-05, -2.1055e-03, -7.4861e-03, -9.6226e-03,  7.6476e-04, -3.6415e-03, -3.7074e-04],\n",
       "          [ 1.1380e-03, -2.5058e-04,  5.3020e-03,  2.8530e-03,  2.5797e-03, -1.5077e-03,  4.1141e-03, -2.8856e-05],\n",
       "          [-1.4454e-03, -5.1619e-03,  1.4135e-02,  4.5227e-03, -9.1521e-04, -2.7004e-03,  3.6838e-03, -1.1423e-02],\n",
       "          [ 2.5684e-02, -6.3304e-03, -2.4974e-04,  9.0373e-03,  3.8034e-02, -7.5485e-03,  8.3641e-03, -2.6811e-02],\n",
       "          [-2.2994e-02,  5.1379e-02,  3.2318e-02, -5.6785e-02, -2.8534e-02, -6.4461e-02,  1.0004e-02,  2.9722e-03],\n",
       "          [ 2.7572e-03, -1.0531e-02, -4.1207e-03,  7.8417e-03,  1.6938e-03, -1.4991e-02, -1.2176e-02, -2.9001e-03],\n",
       "          [ 7.2250e-03, -1.4458e-02,  1.4560e-02,  1.1897e-02, -2.0946e-03,  1.4561e-03,  1.3424e-02, -1.1675e-02],\n",
       "          [ 4.8482e-03, -1.2750e-02,  1.1229e-02,  5.6098e-03, -3.5753e-03,  3.7627e-03,  1.0692e-02, -7.8129e-03],\n",
       "          [ 3.4442e-03, -2.3691e-02,  1.0449e-02,  1.3183e-02, -4.8997e-03,  2.6086e-03,  1.2832e-02, -1.3108e-02],\n",
       "          [ 2.6177e-03, -1.4293e-02,  4.1776e-03,  7.9012e-03, -2.6577e-03,  1.9270e-03,  1.5015e-02, -5.7155e-03],\n",
       "          [ 5.5221e-03, -4.1178e-02,  8.4459e-03,  2.9431e-02, -2.3720e-02,  8.7358e-03, -1.2683e-02, -1.4848e-02],\n",
       "          [-2.6231e-03,  1.6114e-02, -8.7163e-03, -8.8110e-03,  1.3813e-02, -7.2614e-03,  1.5896e-03,  6.1451e-03],\n",
       "          [-8.3780e-04,  1.0593e-03, -2.8025e-03,  3.5466e-04,  7.0906e-04, -2.7066e-03, -2.6144e-03,  1.3965e-03],\n",
       "          [ 3.6161e-02, -4.4400e-02, -1.7867e-02, -7.8769e-03,  1.5341e-01,  2.0201e-02,  2.9470e-02,  3.2496e-02],\n",
       "          [ 1.3242e-03,  7.1910e-03, -1.2570e-03, -6.0219e-06, -7.4285e-03, -9.3603e-03, -3.8196e-03,  6.1457e-03],\n",
       "          [ 5.2628e-04,  4.1778e-03, -2.4744e-03, -4.4318e-03, -3.9239e-04,  9.3967e-04,  4.6882e-04,  1.5068e-03]]]], device='cuda:0')"
      ]
     },
     "execution_count": 12,
     "metadata": {},
     "output_type": "execute_result"
    }
   ],
   "source": [
    "(hs_pt_bf16.float() - hs_pt) #> 0.018"
   ]
  },
  {
   "cell_type": "code",
   "execution_count": 13,
   "metadata": {},
   "outputs": [
    {
     "data": {
      "text/plain": [
       "(tensor(0.1534, device='cuda:0'), tensor(0.0073, device='cuda:0'))"
      ]
     },
     "execution_count": 13,
     "metadata": {},
     "output_type": "execute_result"
    }
   ],
   "source": [
    "torch.abs(hs_pt_bf16.float() - hs_pt).max(), torch.abs(hs_pt_bf16.float() - hs_pt).mean() #> 1e-2"
   ]
  },
  {
   "cell_type": "markdown",
   "metadata": {},
   "source": [
    "### match directly"
   ]
  },
  {
   "cell_type": "code",
   "execution_count": 14,
   "metadata": {
    "notebookRunGroups": {
     "groupValue": "1"
    }
   },
   "outputs": [
    {
     "name": "stdout",
     "output_type": "stream",
     "text": [
      "before kernel dispatch - float32!\n",
      "B: 1, NH: 1, S: 32, DH: 8\n",
      "blocksxy: 1-2, threadsxy: 4-4, shared_mem in bytes: 5664\n",
      "In FW-Kernel: gdim.x: 1, gdim.y: 2, gdim.z: 1, bdim.x: 4, bdim.y: 4\n",
      "In FW-Kernel: QtileDim: 8, KVtileDim: 8, TblockDim:4\n"
     ]
    }
   ],
   "source": [
    "# cuda kernel float32\n",
    "hs_cu, n_cu, m_cu, matD_cu = vlstm_fw_cuda(mat_Q=qs, mat_K=ks, mat_V=vs, vec_igp=igs, vec_fgp=fgs)"
   ]
  },
  {
   "cell_type": "code",
   "execution_count": 15,
   "metadata": {},
   "outputs": [
    {
     "name": "stdout",
     "output_type": "stream",
     "text": [
      "before kernel dispatch - float16!\n",
      "B: 1, NH: 1, S: 32, DH: 8\n",
      "blocksxy: 1-2, threadsxy: 4-4, shared_mem in bytes: 2976\n",
      "In FW-Kernel: gdim.x: 1, gdim.y: 2, gdim.z: 1, bdim.x: 4, bdim.y: 4\n",
      "In FW-Kernel: QtileDim: 8, KVtileDim: 8, TblockDim:4\n"
     ]
    }
   ],
   "source": [
    "# cuda kernel float16\n",
    "hs_cu_half, n_cu_half, m_cu_half, matD_cu_half = vlstm_fw_cuda(mat_Q=qs_half, mat_K=ks_half, mat_V=vs_half, vec_igp=igs_half, vec_fgp=fgs_half)"
   ]
  },
  {
   "cell_type": "code",
   "execution_count": 16,
   "metadata": {},
   "outputs": [
    {
     "name": "stdout",
     "output_type": "stream",
     "text": [
      "before kernel dispatch - bfloat16!\n",
      "B: 1, NH: 1, S: 32, DH: 8\n",
      "blocksxy: 1-2, threadsxy: 4-4, shared_mem in bytes: 2976\n",
      "In FW-Kernel: gdim.x: 1, gdim.y: 2, gdim.z: 1, bdim.x: 4, bdim.y: 4\n",
      "In FW-Kernel: QtileDim: 8, KVtileDim: 8, TblockDim:4\n"
     ]
    }
   ],
   "source": [
    "# cuda kernel bfloat16\n",
    "hs_cu_bf16, n_cu_bf16, m_cu_bf16, matD_cu_bf16 = vlstm_fw_cuda(mat_Q=qs_bf16, mat_K=ks_bf16, mat_V=vs_bf16, vec_igp=igs_bf16, vec_fgp=fgs_bf16)"
   ]
  },
  {
   "cell_type": "code",
   "execution_count": 17,
   "metadata": {},
   "outputs": [
    {
     "name": "stdout",
     "output_type": "stream",
     "text": [
      "Match against pt float32:\n",
      "====== Full ======\n",
      "fw hs match: True, max diff: 5.7220458984375e-06\n",
      "fw n match: True, max diff: 7.152557373046875e-06\n",
      "fw m match: True, max diff: 3.6954879760742188e-06\n",
      "fw D match: True, max diff: 4.291534423828125e-06\n",
      "====== Half ======\n",
      "fw hs match: False, max diff: 3.483307361602783\n",
      "fw n match: False, max diff: 0.985108494758606\n",
      "fw m match: False, max diff: 1.3403302431106567\n",
      "fw D match: False, max diff: 13.343843460083008\n",
      "====== bfloat16 ======\n",
      "fw hs match: False, max diff: 0.02412557601928711\n",
      "fw n match: False, max diff: 0.010062456130981445\n",
      "fw m match: False, max diff: 0.0052010416984558105\n",
      "fw D match: False, max diff: 0.03386878967285156\n"
     ]
    }
   ],
   "source": [
    "FW_RTOL = 1e-10\n",
    "FW_ATOL = 1e-4\n",
    "BW_RTOL = FW_ATOL\n",
    "BW_ATOL = FW_ATOL\n",
    "print(f\"Match against pt float32:\")\n",
    "print(f\"====== Full ======\")\n",
    "print(f\"fw hs match: {torch.allclose(hs_cu, hs_pt, rtol=FW_RTOL, atol=FW_ATOL)}, max diff: {torch.max(torch.abs(hs_cu - hs_pt))}\")\n",
    "print(f\"fw n match: {torch.allclose(n_cu, n_pt, rtol=FW_RTOL, atol=FW_ATOL)}, max diff: {torch.max(torch.abs(n_cu - n_pt))}\")\n",
    "print(f\"fw m match: {torch.allclose(m_cu, m_pt, rtol=FW_RTOL, atol=FW_ATOL)}, max diff: {torch.max(torch.abs(m_cu - m_pt))}\")\n",
    "print(f\"fw D match: {torch.allclose((matD_cu - matD_pt).tril(), torch.zeros_like((matD_cu)), rtol=FW_RTOL, atol=FW_ATOL)}, max diff: {torch.max((matD_cu - matD_pt).tril())}\")\n",
    "print(f\"====== Half ======\")\n",
    "print(f\"fw hs match: {torch.allclose(hs_cu_half.float(), hs_pt, rtol=FW_RTOL, atol=FW_ATOL)}, max diff: {torch.max(torch.abs(hs_cu_half - hs_pt))}\")\n",
    "print(f\"fw n match: {torch.allclose(n_cu_half.float(), n_pt, rtol=FW_RTOL, atol=FW_ATOL)}, max diff: {torch.max(torch.abs(n_cu_half - n_pt))}\")\n",
    "print(f\"fw m match: {torch.allclose(m_cu_half.float(), m_pt, rtol=FW_RTOL, atol=FW_ATOL)}, max diff: {torch.max(torch.abs(m_cu_half - m_pt))}\")\n",
    "print(f\"fw D match: {torch.allclose((matD_cu_half.float() - matD_pt).tril(), torch.zeros_like((matD_pt)), rtol=FW_RTOL, atol=FW_ATOL)}, max diff: {torch.max((matD_cu_half - matD_pt).tril())}\")\n",
    "print(f\"====== bfloat16 ======\")\n",
    "print(f\"fw hs match: {torch.allclose(hs_cu_bf16.float(), hs_pt, rtol=FW_RTOL, atol=FW_ATOL)}, max diff: {torch.max(torch.abs(hs_cu_bf16 - hs_pt))}\")\n",
    "print(f\"fw n match: {torch.allclose(n_cu_bf16.float(), n_pt, rtol=FW_RTOL, atol=FW_ATOL)}, max diff: {torch.max(torch.abs(n_cu_bf16 - n_pt))}\")\n",
    "print(f\"fw m match: {torch.allclose(m_cu_bf16.float(), m_pt, rtol=FW_RTOL, atol=FW_ATOL)}, max diff: {torch.max(torch.abs(m_cu_bf16 - m_pt))}\")\n",
    "print(f\"fw D match: {torch.allclose((matD_cu_bf16.float() - matD_pt).tril(), torch.zeros_like((matD_pt)), rtol=FW_RTOL, atol=FW_ATOL)}, max diff: {torch.max((matD_cu_bf16 - matD_pt).tril())}\")\n",
    "\n"
   ]
  },
  {
   "cell_type": "code",
   "execution_count": 28,
   "metadata": {},
   "outputs": [
    {
     "name": "stdout",
     "output_type": "stream",
     "text": [
      "float32, bfloat16, float16 hs diff:\n"
     ]
    },
    {
     "data": {
      "text/plain": [
       "<matplotlib.colorbar.Colorbar at 0x78af30da8150>"
      ]
     },
     "execution_count": 28,
     "metadata": {},
     "output_type": "execute_result"
    },
    {
     "data": {
      "image/png": "[encoded data removed]",
      "text/plain": [
       "<Figure size 1000x600 with 6 Axes>"
      ]
     },
     "metadata": {},
     "output_type": "display_data"
    }
   ],
   "source": [
    "print(f\"float32, bfloat16, float16 hs diff:\")\n",
    "vmin=0.0\n",
    "vmax=1e-2\n",
    "fig, (ax1, ax2, ax3) = plt.subplots(figsize=(10, 6), ncols=3)\n",
    "pos1 = ax1.imshow(((hs_cu - hs_pt).abs()).squeeze().cpu().numpy(), vmin=vmin, vmax=vmax)\n",
    "ax1.set_title(\"float32\")\n",
    "fig.colorbar(pos1, ax=ax1)\n",
    "pos2 = ax2.imshow(((hs_cu_bf16 - hs_pt).abs()).squeeze().cpu().numpy(), vmin=vmin, vmax=vmax)\n",
    "ax2.set_title(\"bfloat16\")\n",
    "fig.colorbar(pos2, ax=ax2)\n",
    "pos3 = ax3.imshow(((hs_cu_half - hs_pt).abs()).squeeze().cpu().numpy(), vmin=vmin, vmax=vmax)\n",
    "ax3.set_title(\"float16\")\n",
    "fig.colorbar(pos3, ax=ax3)"
   ]
  },
  {
   "cell_type": "code",
   "execution_count": 20,
   "metadata": {},
   "outputs": [
    {
     "name": "stdout",
     "output_type": "stream",
     "text": [
      "float32 hs diff:\n"
     ]
    },
    {
     "data": {
      "text/plain": [
       "(tensor([[[[-2.5441e+00,  7.1635e-01,  4.9337e-01, -1.2671e-01, -1.0136e-01,  4.0353e-01, -9.0226e-01, -8.0993e-01],\n",
       "           [-2.2862e+00,  6.4824e-01,  3.7120e-01, -1.2398e-01, -6.3333e-02,  3.7858e-01, -9.9495e-01, -6.0037e-01],\n",
       "           [-6.0024e-01,  2.7681e-01, -4.9371e-01,  3.6669e-01,  4.5201e-01,  1.0728e-01, -1.0555e+00,  5.2373e-01],\n",
       "           [ 1.4676e+00, -1.2904e+00,  8.6194e-01, -6.4320e-01,  9.3298e-01, -6.3869e-01, -7.2218e-01,  2.2001e+00],\n",
       "           [ 3.8925e-01, -2.7335e-01,  2.3252e-01,  4.0492e-01,  1.2218e-01, -2.6341e-01, -3.4160e-01,  2.5086e-01],\n",
       "           [ 1.0809e-01, -5.8648e-01, -7.0732e-01, -1.0621e-01, -1.0207e+00,  1.7768e-01, -3.6291e-01, -1.5304e-01],\n",
       "           [ 2.2973e-01, -2.3181e-01, -1.1165e-01,  9.3125e-01,  2.7548e+00, -1.9033e+00, -6.4628e-02, -6.6721e-01],\n",
       "           [-5.9358e-01,  7.6381e-01,  1.4412e-01,  5.0315e-02, -7.0168e-01,  1.3540e-01,  2.9504e-01, -6.2543e-02],\n",
       "           [ 8.9242e-01, -1.6984e-01,  1.1698e+00, -9.5256e-01, -4.9875e-02,  1.7573e+00,  1.6311e-01,  1.0772e+00],\n",
       "           [ 6.2490e-01,  5.1296e-01,  1.6355e+00, -5.4996e-01,  4.9356e-01,  9.6133e-01,  1.1876e-01,  6.4997e-01],\n",
       "           [-5.7896e-02,  5.3535e-01, -1.6311e-01,  3.3315e-01, -1.7205e-01, -5.4128e-02, -4.4241e-01, -6.2242e-01],\n",
       "           [ 1.6569e+00, -2.2324e+00,  3.3821e+00, -1.4501e+00, -3.7289e-01, -9.1828e-01, -7.5016e-02, -5.7753e-01],\n",
       "           [-9.5030e-02,  1.6974e-02, -1.1076e-01,  1.3503e-01,  1.6891e-03, -2.7532e-03, -1.7557e-02,  1.1330e-02],\n",
       "           [ 8.4997e-01, -1.3765e+00, -2.0189e-01, -1.8741e+00,  5.3763e-01, -4.6095e-02,  3.0899e-01,  2.4410e-01],\n",
       "           [-9.8275e-02, -2.9714e-02,  5.4467e-01,  1.1465e+00,  3.1974e-01, -4.5854e-01, -4.1936e-01, -7.6065e-01],\n",
       "           [ 1.3229e-01, -1.5120e+00,  1.2388e+00,  3.3655e-01,  1.3584e+00, -2.9858e-01,  8.9211e-01, -1.4352e-01],\n",
       "           [ 8.7140e-01,  2.4508e-01,  4.3765e-01,  9.6452e-01,  1.7440e+00, -4.1483e-01,  7.4974e-01, -1.9606e+00],\n",
       "           [ 5.0277e-01, -1.2576e+00, -6.6546e-01,  3.2723e-01,  4.9156e-01, -1.4107e-01, -9.2599e-01,  8.9384e-02],\n",
       "           [-3.4426e-01,  8.4110e-01,  1.2437e+00,  2.8845e-01,  7.3181e-02, -7.5913e-02,  1.1057e+00, -7.3467e-01],\n",
       "           [-9.7490e-01,  6.4696e-01, -1.2107e+00, -3.7818e-01,  3.3697e-01,  6.3645e-01,  4.5453e-01,  2.1049e+00],\n",
       "           [ 2.1342e-01, -1.3639e+00, -1.0948e+00,  2.1349e+00,  1.6330e-01,  3.4551e+00,  1.7652e-01,  1.0517e+00],\n",
       "           [ 6.3161e-02, -1.1848e+00, -1.2615e+00, -1.4688e+00, -4.9779e-01,  1.2650e+00,  1.0512e+00,  1.0967e+00],\n",
       "           [ 2.5840e-01, -6.9257e-01,  5.8700e-01,  5.9748e-01, -1.0240e-01,  8.6435e-02,  6.9361e-01, -4.9223e-01],\n",
       "           [ 2.4710e-01, -1.6435e+00,  7.4658e-01,  8.7720e-01, -3.6947e-01,  3.2827e-01,  1.0596e+00, -7.4609e-01],\n",
       "           [ 1.0984e-01, -4.6850e-01,  1.4092e-01,  2.3193e-01, -1.1082e-01, -6.1639e-03,  1.9127e-01, -2.0174e-01],\n",
       "           [ 2.5324e-01, -1.8998e+00,  4.7238e-01,  1.2265e+00, -9.2312e-01,  3.7698e-01, -1.4880e-01, -7.4819e-01],\n",
       "           [-1.3443e-01,  1.1037e+00, -2.6431e-01, -6.9740e-01,  5.3153e-01, -2.1577e-01,  6.3465e-02,  4.1915e-01],\n",
       "           [-1.3995e-01,  6.7920e-01, -7.4128e-01, -8.4451e-02,  8.4947e-01, -5.3180e-01, -1.5393e-01,  9.9324e-02],\n",
       "           [-8.1947e-01,  1.1708e+00,  1.5222e-01,  5.5554e-02, -2.8757e+00, -6.4964e-01, -6.3410e-01, -5.7171e-01],\n",
       "           [ 5.1462e-01, -6.1576e-01, -6.8135e-01, -1.1615e-01,  3.8310e+00,  9.9542e-01,  1.0174e+00, -3.7104e-02],\n",
       "           [-8.4898e-01, -1.8493e-01,  1.8290e-01,  3.0524e-02, -6.5273e-01,  1.1581e-01, -1.9247e-01, -8.0302e-01],\n",
       "           [-4.6537e-01,  2.8293e-01,  3.7943e-01,  1.2701e+00,  1.6641e-01, -5.0485e-01, -3.4031e-01, -9.3119e-01]]]], device='cuda:0'),\n",
       " tensor([[[[-2.5441e+00,  7.1635e-01,  4.9337e-01, -1.2671e-01, -1.0136e-01,  4.0353e-01, -9.0226e-01, -8.0993e-01],\n",
       "           [-2.2862e+00,  6.4824e-01,  3.7120e-01, -1.2398e-01, -6.3333e-02,  3.7858e-01, -9.9495e-01, -6.0037e-01],\n",
       "           [-6.0024e-01,  2.7681e-01, -4.9371e-01,  3.6669e-01,  4.5201e-01,  1.0728e-01, -1.0555e+00,  5.2373e-01],\n",
       "           [ 1.4676e+00, -1.2904e+00,  8.6194e-01, -6.4320e-01,  9.3298e-01, -6.3869e-01, -7.2218e-01,  2.2001e+00],\n",
       "           [ 3.8925e-01, -2.7335e-01,  2.3252e-01,  4.0492e-01,  1.2218e-01, -2.6341e-01, -3.4160e-01,  2.5086e-01],\n",
       "           [ 1.0809e-01, -5.8648e-01, -7.0732e-01, -1.0621e-01, -1.0207e+00,  1.7768e-01, -3.6291e-01, -1.5304e-01],\n",
       "           [ 2.2973e-01, -2.3181e-01, -1.1165e-01,  9.3125e-01,  2.7548e+00, -1.9033e+00, -6.4628e-02, -6.6721e-01],\n",
       "           [-5.9358e-01,  7.6381e-01,  1.4412e-01,  5.0315e-02, -7.0168e-01,  1.3540e-01,  2.9504e-01, -6.2543e-02],\n",
       "           [ 8.9242e-01, -1.6984e-01,  1.1698e+00, -9.5256e-01, -4.9875e-02,  1.7573e+00,  1.6311e-01,  1.0772e+00],\n",
       "           [ 6.2490e-01,  5.1296e-01,  1.6355e+00, -5.4996e-01,  4.9355e-01,  9.6133e-01,  1.1876e-01,  6.4997e-01],\n",
       "           [-5.7895e-02,  5.3535e-01, -1.6311e-01,  3.3315e-01, -1.7205e-01, -5.4128e-02, -4.4241e-01, -6.2242e-01],\n",
       "           [ 1.6569e+00, -2.2324e+00,  3.3821e+00, -1.4501e+00, -3.7289e-01, -9.1828e-01, -7.5016e-02, -5.7753e-01],\n",
       "           [-9.5030e-02,  1.6974e-02, -1.1076e-01,  1.3503e-01,  1.6891e-03, -2.7532e-03, -1.7557e-02,  1.1330e-02],\n",
       "           [ 8.4997e-01, -1.3765e+00, -2.0189e-01, -1.8741e+00,  5.3763e-01, -4.6095e-02,  3.0899e-01,  2.4410e-01],\n",
       "           [-9.8275e-02, -2.9714e-02,  5.4467e-01,  1.1465e+00,  3.1974e-01, -4.5854e-01, -4.1936e-01, -7.6065e-01],\n",
       "           [ 1.3229e-01, -1.5120e+00,  1.2388e+00,  3.3655e-01,  1.3584e+00, -2.9858e-01,  8.9211e-01, -1.4352e-01],\n",
       "           [ 8.7140e-01,  2.4508e-01,  4.3765e-01,  9.6452e-01,  1.7440e+00, -4.1483e-01,  7.4974e-01, -1.9606e+00],\n",
       "           [ 5.0277e-01, -1.2576e+00, -6.6546e-01,  3.2722e-01,  4.9156e-01, -1.4107e-01, -9.2599e-01,  8.9385e-02],\n",
       "           [-3.4426e-01,  8.4110e-01,  1.2437e+00,  2.8845e-01,  7.3181e-02, -7.5913e-02,  1.1057e+00, -7.3467e-01],\n",
       "           [-9.7490e-01,  6.4696e-01, -1.2107e+00, -3.7818e-01,  3.3697e-01,  6.3646e-01,  4.5453e-01,  2.1049e+00],\n",
       "           [ 2.1343e-01, -1.3639e+00, -1.0948e+00,  2.1349e+00,  1.6330e-01,  3.4551e+00,  1.7652e-01,  1.0517e+00],\n",
       "           [ 6.3161e-02, -1.1848e+00, -1.2615e+00, -1.4688e+00, -4.9779e-01,  1.2650e+00,  1.0512e+00,  1.0967e+00],\n",
       "           [ 2.5840e-01, -6.9257e-01,  5.8700e-01,  5.9748e-01, -1.0240e-01,  8.6434e-02,  6.9361e-01, -4.9223e-01],\n",
       "           [ 2.4711e-01, -1.6435e+00,  7.4659e-01,  8.7721e-01, -3.6947e-01,  3.2827e-01,  1.0596e+00, -7.4610e-01],\n",
       "           [ 1.0984e-01, -4.6850e-01,  1.4092e-01,  2.3193e-01, -1.1082e-01, -6.1636e-03,  1.9127e-01, -2.0174e-01],\n",
       "           [ 2.5324e-01, -1.8998e+00,  4.7238e-01,  1.2265e+00, -9.2312e-01,  3.7698e-01, -1.4880e-01, -7.4819e-01],\n",
       "           [-1.3443e-01,  1.1037e+00, -2.6431e-01, -6.9740e-01,  5.3153e-01, -2.1577e-01,  6.3464e-02,  4.1915e-01],\n",
       "           [-1.3995e-01,  6.7920e-01, -7.4128e-01, -8.4451e-02,  8.4947e-01, -5.3180e-01, -1.5393e-01,  9.9323e-02],\n",
       "           [-8.1947e-01,  1.1708e+00,  1.5222e-01,  5.5553e-02, -2.8757e+00, -6.4964e-01, -6.3410e-01, -5.7171e-01],\n",
       "           [ 5.1462e-01, -6.1575e-01, -6.8135e-01, -1.1615e-01,  3.8310e+00,  9.9542e-01,  1.0174e+00, -3.7104e-02],\n",
       "           [-8.4898e-01, -1.8493e-01,  1.8290e-01,  3.0524e-02, -6.5273e-01,  1.1581e-01, -1.9247e-01, -8.0302e-01],\n",
       "           [-4.6537e-01,  2.8293e-01,  3.7943e-01,  1.2701e+00,  1.6641e-01, -5.0484e-01, -3.4031e-01, -9.3119e-01]]]], device='cuda:0'),\n",
       " tensor([[[[ 0.0000e+00,  0.0000e+00,  0.0000e+00,  0.0000e+00,  0.0000e+00,  0.0000e+00,  0.0000e+00,  0.0000e+00],\n",
       "           [-2.3842e-07,  5.9605e-08,  5.9605e-08, -1.4901e-08, -7.4506e-09,  5.9605e-08, -1.1921e-07, -1.1921e-07],\n",
       "           [ 0.0000e+00,  0.0000e+00,  8.9407e-08, -2.9802e-08, -5.9605e-08, -7.4506e-09,  1.1921e-07, -1.1921e-07],\n",
       "           [ 0.0000e+00,  0.0000e+00,  0.0000e+00,  0.0000e+00, -5.9605e-08,  0.0000e+00,  0.0000e+00,  0.0000e+00],\n",
       "           [-5.9605e-08, -2.9802e-08,  7.4506e-08, -1.4901e-07,  5.2154e-08,  2.9802e-08,  0.0000e+00,  8.9407e-08],\n",
       "           [ 7.4506e-09,  5.9605e-08,  5.9605e-08,  4.4703e-08,  1.1921e-07, -1.4901e-08,  5.9605e-08, -1.4901e-08],\n",
       "           [-5.9605e-08,  1.1921e-07,  1.1921e-07,  0.0000e+00,  2.3842e-07,  0.0000e+00,  1.1921e-07,  0.0000e+00],\n",
       "           [ 1.1921e-07, -1.7881e-07, -5.9605e-08,  0.0000e+00,  2.3842e-07, -8.9407e-08, -8.9407e-08,  7.4506e-09],\n",
       "           [-3.5763e-07,  1.0431e-07, -4.7684e-07,  3.5763e-07, -2.4587e-07, -5.9605e-07, -7.4506e-08, -3.5763e-07],\n",
       "           [-3.5763e-07, -2.3842e-07, -1.0729e-06,  2.3842e-07, -1.4901e-07, -4.7684e-07, -5.2154e-08, -3.5763e-07],\n",
       "           [ 1.1176e-07, -4.1723e-07,  2.2352e-07, -2.0862e-07,  5.9605e-08, -7.4506e-09,  3.5763e-07,  3.5763e-07],\n",
       "           [-3.5763e-07,  2.3842e-07, -7.1526e-07,  3.5763e-07,  1.1921e-07,  0.0000e+00, -8.9407e-08, -1.1921e-07],\n",
       "           [ 5.2154e-08, -2.7940e-08,  6.7055e-08, -8.9407e-08,  0.0000e+00, -1.6298e-09,  7.4506e-09, -9.3132e-09],\n",
       "           [ 0.0000e+00,  0.0000e+00, -2.9802e-08,  0.0000e+00,  0.0000e+00,  7.4506e-09,  0.0000e+00,  0.0000e+00],\n",
       "           [-9.6858e-08,  6.5193e-08, -5.9605e-08,  1.1921e-07, -2.9802e-08,  5.9605e-08,  0.0000e+00,  5.9605e-08],\n",
       "           [ 2.5332e-07, -1.1921e-07, -3.5763e-07, -6.8545e-07, -3.5763e-07,  2.9802e-08, -2.9802e-07,  7.4506e-08],\n",
       "           [ 1.1921e-07, -4.1723e-07,  2.9802e-08, -4.1723e-07,  1.1921e-07,  2.9802e-08,  1.7881e-07,  3.5763e-07],\n",
       "           [-8.3447e-07,  3.5763e-07,  3.5763e-07, -5.0664e-07, -8.9407e-07,  2.9802e-07,  3.5763e-07,  1.0654e-06],\n",
       "           [ 2.9802e-08,  1.7881e-07, -1.0729e-06, -2.3842e-07,  2.0117e-07,  2.2352e-07, -2.3842e-07,  7.7486e-07],\n",
       "           [-1.6689e-06,  9.5367e-07, -1.5497e-06, -7.7486e-07, -4.7684e-07,  1.1921e-06,  1.7881e-07,  4.0531e-06],\n",
       "           [ 1.7583e-06, -3.0994e-06, -1.7881e-06,  3.3379e-06,  1.8030e-06,  3.0994e-06, -8.4937e-07, -7.1526e-07],\n",
       "           [-6.7055e-08,  2.3842e-07,  1.1921e-07,  2.3842e-07, -8.9407e-08,  2.3842e-07,  1.1921e-07, -1.1921e-07],\n",
       "           [-2.9802e-08,  2.3842e-07,  1.1921e-07,  1.1921e-07,  6.7055e-08, -1.4156e-07, -1.1921e-07, -8.9407e-08],\n",
       "           [ 1.8924e-06, -5.7220e-06,  3.6359e-06,  3.7551e-06, -9.5367e-07,  1.1623e-06,  4.8876e-06, -2.9206e-06],\n",
       "           [ 1.4901e-07, -1.7583e-06,  6.7055e-07,  8.6427e-07, -3.7253e-07,  2.6822e-07,  8.6427e-07, -8.1956e-07],\n",
       "           [ 2.9802e-08,  0.0000e+00,  8.9407e-08, -1.1921e-07,  1.1921e-07,  0.0000e+00,  2.5332e-07,  0.0000e+00],\n",
       "           [-1.0431e-07,  5.9605e-07, -2.0862e-07, -4.1723e-07,  2.9802e-07, -1.3411e-07, -4.4703e-08,  2.3842e-07],\n",
       "           [ 4.4703e-08, -2.9802e-07,  1.1921e-07,  1.6391e-07, -1.7881e-07,  5.9605e-08,  1.4901e-08, -1.1921e-07],\n",
       "           [-1.1921e-07,  4.7684e-07, -1.3411e-07, -1.4529e-07,  0.0000e+00, -2.3842e-07, -5.9605e-08,  0.0000e+00],\n",
       "           [-7.7486e-07,  9.5367e-07,  2.9802e-07,  2.3097e-07, -3.3379e-06, -6.5565e-07, -5.9605e-07, -7.3016e-07],\n",
       "           [-1.7881e-07, -2.0266e-06,  5.5134e-07, -1.1176e-08,  1.3709e-06,  4.0978e-07, -8.9407e-08,  1.1921e-07],\n",
       "           [-3.2783e-07,  6.8545e-07, -7.7486e-07, -1.4305e-06, -4.4703e-07,  1.0729e-06,  8.0466e-07, -2.9802e-07]]]], device='cuda:0'))"
      ]
     },
     "execution_count": 20,
     "metadata": {},
     "output_type": "execute_result"
    },
    {
     "data": {
      "image/png": "[encoded data removed]",
      "text/plain": [
       "<Figure size 640x480 with 2 Axes>"
      ]
     },
     "metadata": {},
     "output_type": "display_data"
    }
   ],
   "source": [
    "print(f\"float32 hs diff:\")\n",
    "fig = plt.imshow(((hs_cu - hs_pt).abs()).squeeze().cpu().numpy())\n",
    "plt.colorbar(fig)\n",
    "hs_pt, hs_cu, (hs_cu - hs_pt)"
   ]
  },
  {
   "cell_type": "code",
   "execution_count": 18,
   "metadata": {},
   "outputs": [
    {
     "name": "stdout",
     "output_type": "stream",
     "text": [
      "float16 hs diff:\n"
     ]
    },
    {
     "data": {
      "text/plain": [
       "(tensor([[[[-2.5441e+00,  7.1635e-01,  4.9337e-01, -1.2671e-01, -1.0136e-01,  4.0353e-01, -9.0226e-01, -8.0993e-01],\n",
       "           [-2.2862e+00,  6.4824e-01,  3.7120e-01, -1.2398e-01, -6.3333e-02,  3.7858e-01, -9.9495e-01, -6.0037e-01],\n",
       "           [-6.0024e-01,  2.7681e-01, -4.9371e-01,  3.6669e-01,  4.5201e-01,  1.0728e-01, -1.0555e+00,  5.2373e-01],\n",
       "           [ 1.4676e+00, -1.2904e+00,  8.6194e-01, -6.4320e-01,  9.3298e-01, -6.3869e-01, -7.2218e-01,  2.2001e+00],\n",
       "           [ 3.8925e-01, -2.7335e-01,  2.3252e-01,  4.0492e-01,  1.2218e-01, -2.6341e-01, -3.4160e-01,  2.5086e-01],\n",
       "           [ 1.0809e-01, -5.8648e-01, -7.0732e-01, -1.0621e-01, -1.0207e+00,  1.7768e-01, -3.6291e-01, -1.5304e-01],\n",
       "           [ 2.2973e-01, -2.3181e-01, -1.1165e-01,  9.3125e-01,  2.7548e+00, -1.9033e+00, -6.4628e-02, -6.6721e-01],\n",
       "           [-5.9358e-01,  7.6381e-01,  1.4412e-01,  5.0315e-02, -7.0168e-01,  1.3540e-01,  2.9504e-01, -6.2543e-02],\n",
       "           [ 8.9242e-01, -1.6984e-01,  1.1698e+00, -9.5256e-01, -4.9875e-02,  1.7573e+00,  1.6311e-01,  1.0772e+00],\n",
       "           [ 6.2490e-01,  5.1296e-01,  1.6355e+00, -5.4996e-01,  4.9356e-01,  9.6133e-01,  1.1876e-01,  6.4997e-01],\n",
       "           [-5.7896e-02,  5.3535e-01, -1.6311e-01,  3.3315e-01, -1.7205e-01, -5.4128e-02, -4.4241e-01, -6.2242e-01],\n",
       "           [ 1.6569e+00, -2.2324e+00,  3.3821e+00, -1.4501e+00, -3.7289e-01, -9.1828e-01, -7.5016e-02, -5.7753e-01],\n",
       "           [-9.5030e-02,  1.6974e-02, -1.1076e-01,  1.3503e-01,  1.6891e-03, -2.7532e-03, -1.7557e-02,  1.1330e-02],\n",
       "           [ 8.4997e-01, -1.3765e+00, -2.0189e-01, -1.8741e+00,  5.3763e-01, -4.6095e-02,  3.0899e-01,  2.4410e-01],\n",
       "           [-9.8275e-02, -2.9714e-02,  5.4467e-01,  1.1465e+00,  3.1974e-01, -4.5854e-01, -4.1936e-01, -7.6065e-01],\n",
       "           [ 1.3229e-01, -1.5120e+00,  1.2388e+00,  3.3655e-01,  1.3584e+00, -2.9858e-01,  8.9211e-01, -1.4352e-01],\n",
       "           [ 8.7140e-01,  2.4508e-01,  4.3765e-01,  9.6452e-01,  1.7440e+00, -4.1483e-01,  7.4974e-01, -1.9606e+00],\n",
       "           [ 5.0277e-01, -1.2576e+00, -6.6546e-01,  3.2723e-01,  4.9156e-01, -1.4107e-01, -9.2599e-01,  8.9384e-02],\n",
       "           [-3.4426e-01,  8.4110e-01,  1.2437e+00,  2.8845e-01,  7.3181e-02, -7.5913e-02,  1.1057e+00, -7.3467e-01],\n",
       "           [-9.7490e-01,  6.4696e-01, -1.2107e+00, -3.7818e-01,  3.3697e-01,  6.3645e-01,  4.5453e-01,  2.1049e+00],\n",
       "           [ 2.1342e-01, -1.3639e+00, -1.0948e+00,  2.1349e+00,  1.6330e-01,  3.4551e+00,  1.7652e-01,  1.0517e+00],\n",
       "           [ 6.3161e-02, -1.1848e+00, -1.2615e+00, -1.4688e+00, -4.9779e-01,  1.2650e+00,  1.0512e+00,  1.0967e+00],\n",
       "           [ 2.5840e-01, -6.9257e-01,  5.8700e-01,  5.9748e-01, -1.0240e-01,  8.6435e-02,  6.9361e-01, -4.9223e-01],\n",
       "           [ 2.4710e-01, -1.6435e+00,  7.4658e-01,  8.7720e-01, -3.6947e-01,  3.2827e-01,  1.0596e+00, -7.4609e-01],\n",
       "           [ 1.0984e-01, -4.6850e-01,  1.4092e-01,  2.3193e-01, -1.1082e-01, -6.1639e-03,  1.9127e-01, -2.0174e-01],\n",
       "           [ 2.5324e-01, -1.8998e+00,  4.7238e-01,  1.2265e+00, -9.2312e-01,  3.7698e-01, -1.4880e-01, -7.4819e-01],\n",
       "           [-1.3443e-01,  1.1037e+00, -2.6431e-01, -6.9740e-01,  5.3153e-01, -2.1577e-01,  6.3465e-02,  4.1915e-01],\n",
       "           [-1.3995e-01,  6.7920e-01, -7.4128e-01, -8.4451e-02,  8.4947e-01, -5.3180e-01, -1.5393e-01,  9.9324e-02],\n",
       "           [-8.1947e-01,  1.1708e+00,  1.5222e-01,  5.5554e-02, -2.8757e+00, -6.4964e-01, -6.3410e-01, -5.7171e-01],\n",
       "           [ 5.1462e-01, -6.1576e-01, -6.8135e-01, -1.1615e-01,  3.8310e+00,  9.9542e-01,  1.0174e+00, -3.7104e-02],\n",
       "           [-8.4898e-01, -1.8493e-01,  1.8290e-01,  3.0524e-02, -6.5273e-01,  1.1581e-01, -1.9247e-01, -8.0302e-01],\n",
       "           [-4.6537e-01,  2.8293e-01,  3.7943e-01,  1.2701e+00,  1.6641e-01, -5.0485e-01, -3.4031e-01, -9.3119e-01]]]], device='cuda:0'),\n",
       " tensor([[[[-2.5449,  0.7163,  0.4934, -0.1267, -0.1014,  0.4036, -0.9023, -0.8101],\n",
       "           [-2.3730,  0.6709,  0.4114, -0.1249, -0.0759,  0.3870, -0.9648, -0.6699],\n",
       "           [-1.2783,  0.4695, -0.3911,  0.3284,  0.4358,  0.2213, -1.3701,  0.3589],\n",
       "           [ 1.7764, -1.3115,  0.6470, -0.5835,  0.9170, -0.6440, -0.7144,  2.3105],\n",
       "           [-1.4951,  0.0626,  0.9272,  0.0807,  0.1277, -0.0411, -1.1445, -0.1114],\n",
       "           [ 0.4854, -0.5420, -0.9790,  0.0402, -1.1572,  0.1871, -0.0351, -0.3247],\n",
       "           [ 0.2133,  0.5151,  0.6338,  1.2891,  4.0039, -2.1523,  0.3232, -0.5063],\n",
       "           [-0.6660,  1.1221,  0.4048, -0.1847, -0.6475,  0.4519,  0.4941,  0.2739],\n",
       "           [ 1.6426, -0.8208,  1.1367, -1.2842, -0.9077,  2.1172, -0.0072,  1.7549],\n",
       "           [ 0.8809,  0.3979,  1.4717, -0.3826,  0.7949,  0.6152,  0.4600,  0.8613],\n",
       "           [-1.0684,  0.7119, -0.5161,  0.2688, -0.3457, -0.4336, -0.4143, -1.1025],\n",
       "           [ 2.0391, -1.3398,  4.0391, -1.5293, -0.8447,  0.4648,  0.3398,  1.0400],\n",
       "           [-0.1509, -0.0284, -0.3142,  0.2209,  0.2207, -0.1672, -0.0139, -0.0095],\n",
       "           [ 0.7632, -1.0371, -0.3000, -1.7725,  0.6538,  0.0707,  0.4033,  0.2744],\n",
       "           [ 0.2805, -1.3232,  0.9229,  1.0830,  0.2371, -1.1963, -1.0068, -1.1514],\n",
       "           [ 0.2952, -3.2617,  1.3770,  0.4102,  1.1582, -0.6709,  0.8442, -0.1069],\n",
       "           [ 1.0293, -0.1309,  0.3093,  0.3989,  1.7266, -0.2306,  1.0098, -1.7617],\n",
       "           [ 0.3323, -1.1963, -0.6099,  0.5557,  0.5957, -0.1686, -0.8799,  0.1694],\n",
       "           [-0.2090,  0.6162,  1.0801,  0.3203,  0.4165, -0.0388,  1.1182, -0.6572],\n",
       "           [-3.9102,  3.1211,  0.4590,  2.7637, -0.4668,  1.4990,  1.3047,  4.8242],\n",
       "           [ 1.0664, -3.6777, -4.5781,  4.7969,  1.7012,  4.2383, -1.0410, -0.4028],\n",
       "           [ 0.3596, -1.0469, -1.3477, -1.9766, -0.7583,  1.4297,  1.2891,  0.7378],\n",
       "           [ 0.2878, -0.6406,  0.6562,  0.5830, -0.0891,  0.0733,  0.7837, -0.5508],\n",
       "           [ 0.4785, -2.2090,  1.0283,  1.2383, -0.4287,  0.4460,  1.4951, -1.0684],\n",
       "           [ 0.2773, -1.0039,  0.2228,  0.4897, -0.1252,  0.0197,  0.3535, -0.4531],\n",
       "           [ 0.3240, -2.0742,  0.5273,  1.1875, -0.8164,  0.4001,  0.2096, -0.7964],\n",
       "           [-0.2852,  2.0781, -0.5200, -1.0732,  0.8027, -0.3877, -0.3198,  0.7485],\n",
       "           [-0.0339,  0.1382, -0.4065,  0.1768,  0.5103, -0.3120,  0.0215, -0.0914],\n",
       "           [-1.1611,  1.8457, -0.0146, -0.1566, -3.3516, -0.8892, -0.9087, -0.5391],\n",
       "           [ 1.2227, -1.8359, -1.1455,  0.0540,  6.6680,  1.4531,  1.2305,  0.3672],\n",
       "           [-0.5317,  0.2209,  0.0461,  0.1300, -0.8799, -0.1571, -0.0514, -0.6284],\n",
       "           [-0.1396, -0.1743,  0.5400,  1.5605,  0.2793, -0.9155, -0.9521, -0.3755]]]], device='cuda:0', dtype=torch.float16),\n",
       " tensor([[[[-8.2469e-04, -4.0293e-05,  3.9279e-05,  1.5646e-06, -2.2829e-05,  3.1918e-05, -8.4996e-05, -1.2887e-04],\n",
       "           [-8.6872e-02,  2.2659e-02,  4.0176e-02, -9.5447e-04, -1.2595e-02,  8.3822e-03,  3.0104e-02, -6.9547e-02],\n",
       "           [-6.7808e-01,  1.9267e-01,  1.0260e-01, -3.8321e-02, -1.6223e-02,  1.1404e-01, -3.1460e-01, -1.6484e-01],\n",
       "           [ 3.0879e-01, -2.1141e-02, -2.1497e-01,  5.9700e-02, -1.5992e-02, -5.3496e-03,  7.8220e-03,  1.1044e-01],\n",
       "           [-1.8844e+00,  3.3597e-01,  6.9473e-01, -3.2423e-01,  5.5067e-03,  2.2231e-01, -8.0293e-01, -3.6225e-01],\n",
       "           [ 3.7726e-01,  4.4491e-02, -2.7169e-01,  1.4643e-01, -1.3652e-01,  9.4495e-03,  3.2782e-01, -1.7167e-01],\n",
       "           [-1.6474e-02,  7.4695e-01,  7.4544e-01,  3.5781e-01,  1.2491e+00, -2.4907e-01,  3.8787e-01,  1.6086e-01],\n",
       "           [-7.2437e-02,  3.5826e-01,  2.6067e-01, -2.3501e-01,  5.4217e-02,  3.1651e-01,  1.9910e-01,  3.3647e-01],\n",
       "           [ 7.5016e-01, -6.5096e-01, -3.3071e-02, -3.3162e-01, -8.5784e-01,  3.5986e-01, -1.7033e-01,  6.7765e-01],\n",
       "           [ 2.5596e-01, -1.1501e-01, -1.6384e-01,  1.6739e-01,  3.0137e-01, -3.4610e-01,  3.4120e-01,  2.1136e-01],\n",
       "           [-1.0105e+00,  1.7657e-01, -3.5300e-01, -6.4356e-02, -1.7365e-01, -3.7947e-01,  2.8108e-02, -4.8012e-01],\n",
       "           [ 3.8215e-01,  8.9251e-01,  6.5694e-01, -7.9215e-02, -4.7184e-01,  1.3831e+00,  4.1486e-01,  1.6176e+00],\n",
       "           [-5.5849e-02, -4.5340e-02, -2.0345e-01,  8.5922e-02,  2.1901e-01, -1.6448e-01,  3.6711e-03, -2.0851e-02],\n",
       "           [-8.6786e-02,  3.3937e-01, -9.8157e-02,  1.0164e-01,  1.1618e-01,  1.1683e-01,  9.4328e-02,  3.0318e-02],\n",
       "           [ 3.7879e-01, -1.2935e+00,  3.7819e-01, -6.3528e-02, -8.2683e-02, -7.3775e-01, -5.8748e-01, -3.9071e-01],\n",
       "           [ 1.6287e-01, -1.7497e+00,  1.3813e-01,  7.3608e-02, -2.0016e-01, -3.7232e-01, -4.7868e-02,  3.6652e-02],\n",
       "           [ 1.5790e-01, -3.7594e-01, -1.2833e-01, -5.6559e-01, -1.7435e-02,  1.8424e-01,  2.6003e-01,  1.9885e-01],\n",
       "           [-1.7049e-01,  6.1273e-02,  5.5595e-02,  2.2844e-01,  1.0414e-01, -2.7509e-02,  4.6106e-02,  8.0049e-02],\n",
       "           [ 1.3527e-01, -2.2489e-01, -1.6360e-01,  3.1866e-02,  3.4332e-01,  3.7094e-02,  1.2473e-02,  7.7444e-02],\n",
       "           [-2.9353e+00,  2.4741e+00,  1.6697e+00,  3.1418e+00, -8.0376e-01,  8.6257e-01,  8.5016e-01,  2.7193e+00],\n",
       "           [ 8.5298e-01, -2.3139e+00, -3.4833e+00,  2.6620e+00,  1.5379e+00,  7.8320e-01, -1.2175e+00, -1.4545e+00],\n",
       "           [ 2.9646e-01,  1.3791e-01, -8.6152e-02, -5.0778e-01, -2.6051e-01,  1.6470e-01,  2.3782e-01, -3.5886e-01],\n",
       "           [ 2.9442e-02,  5.1948e-02,  6.9248e-02, -1.4470e-02,  1.3286e-02, -1.3131e-02,  9.0084e-02, -5.8550e-02],\n",
       "           [ 2.3141e-01, -5.6548e-01,  2.8174e-01,  3.6108e-01, -5.9239e-02,  1.1778e-01,  4.3550e-01, -3.2227e-01],\n",
       "           [ 1.6751e-01, -5.3541e-01,  8.1860e-02,  2.5781e-01, -1.4421e-02,  2.5878e-02,  1.6225e-01, -2.5139e-01],\n",
       "           [ 7.0733e-02, -1.7445e-01,  5.4959e-02, -3.8974e-02,  1.0672e-01,  2.3167e-02,  3.5840e-01, -4.8196e-02],\n",
       "           [-1.5073e-01,  9.7445e-01, -2.5571e-01, -3.7584e-01,  2.7120e-01, -1.7193e-01, -3.8329e-01,  3.2939e-01],\n",
       "           [ 1.0602e-01, -5.4101e-01,  3.3479e-01,  2.6121e-01, -3.3921e-01,  2.1979e-01,  1.7542e-01, -1.9075e-01],\n",
       "           [-3.4166e-01,  6.7489e-01, -1.6680e-01, -2.1217e-01, -4.7585e-01, -2.3952e-01, -2.7459e-01,  3.2646e-02],\n",
       "           [ 7.0804e-01, -1.2202e+00, -4.6416e-01,  1.7010e-01,  2.8370e+00,  4.5770e-01,  2.1306e-01,  4.0429e-01],\n",
       "           [ 3.1724e-01,  4.0587e-01, -1.3682e-01,  9.9481e-02, -2.2716e-01, -2.7291e-01,  1.4108e-01,  1.7460e-01],\n",
       "           [ 3.2572e-01, -4.5725e-01,  1.6061e-01,  2.9049e-01,  1.1289e-01, -4.1068e-01, -6.1184e-01,  5.5571e-01]]]], device='cuda:0'))"
      ]
     },
     "execution_count": 18,
     "metadata": {},
     "output_type": "execute_result"
    },
    {
     "data": {
      "image/png": "[encoded data removed]",
      "text/plain": [
       "<Figure size 640x480 with 2 Axes>"
      ]
     },
     "metadata": {},
     "output_type": "display_data"
    }
   ],
   "source": [
    "print(f\"float16 hs diff:\")\n",
    "fig = plt.imshow(((hs_cu_half - hs_pt).abs()).squeeze().cpu().numpy())\n",
    "plt.colorbar(fig)\n",
    "hs_pt, hs_cu_half, (hs_cu_half - hs_pt)"
   ]
  },
  {
   "cell_type": "code",
   "execution_count": 19,
   "metadata": {},
   "outputs": [
    {
     "name": "stdout",
     "output_type": "stream",
     "text": [
      "bfloat16 hs diff:\n"
     ]
    },
    {
     "data": {
      "text/plain": [
       "(tensor([[[[-2.5441e+00,  7.1635e-01,  4.9337e-01, -1.2671e-01, -1.0136e-01,  4.0353e-01, -9.0226e-01, -8.0993e-01],\n",
       "           [-2.2862e+00,  6.4824e-01,  3.7120e-01, -1.2398e-01, -6.3333e-02,  3.7858e-01, -9.9495e-01, -6.0037e-01],\n",
       "           [-6.0024e-01,  2.7681e-01, -4.9371e-01,  3.6669e-01,  4.5201e-01,  1.0728e-01, -1.0555e+00,  5.2373e-01],\n",
       "           [ 1.4676e+00, -1.2904e+00,  8.6194e-01, -6.4320e-01,  9.3298e-01, -6.3869e-01, -7.2218e-01,  2.2001e+00],\n",
       "           [ 3.8925e-01, -2.7335e-01,  2.3252e-01,  4.0492e-01,  1.2218e-01, -2.6341e-01, -3.4160e-01,  2.5086e-01],\n",
       "           [ 1.0809e-01, -5.8648e-01, -7.0732e-01, -1.0621e-01, -1.0207e+00,  1.7768e-01, -3.6291e-01, -1.5304e-01],\n",
       "           [ 2.2973e-01, -2.3181e-01, -1.1165e-01,  9.3125e-01,  2.7548e+00, -1.9033e+00, -6.4628e-02, -6.6721e-01],\n",
       "           [-5.9358e-01,  7.6381e-01,  1.4412e-01,  5.0315e-02, -7.0168e-01,  1.3540e-01,  2.9504e-01, -6.2543e-02],\n",
       "           [ 8.9242e-01, -1.6984e-01,  1.1698e+00, -9.5256e-01, -4.9875e-02,  1.7573e+00,  1.6311e-01,  1.0772e+00],\n",
       "           [ 6.2490e-01,  5.1296e-01,  1.6355e+00, -5.4996e-01,  4.9356e-01,  9.6133e-01,  1.1876e-01,  6.4997e-01],\n",
       "           [-5.7896e-02,  5.3535e-01, -1.6311e-01,  3.3315e-01, -1.7205e-01, -5.4128e-02, -4.4241e-01, -6.2242e-01],\n",
       "           [ 1.6569e+00, -2.2324e+00,  3.3821e+00, -1.4501e+00, -3.7289e-01, -9.1828e-01, -7.5016e-02, -5.7753e-01],\n",
       "           [-9.5030e-02,  1.6974e-02, -1.1076e-01,  1.3503e-01,  1.6891e-03, -2.7532e-03, -1.7557e-02,  1.1330e-02],\n",
       "           [ 8.4997e-01, -1.3765e+00, -2.0189e-01, -1.8741e+00,  5.3763e-01, -4.6095e-02,  3.0899e-01,  2.4410e-01],\n",
       "           [-9.8275e-02, -2.9714e-02,  5.4467e-01,  1.1465e+00,  3.1974e-01, -4.5854e-01, -4.1936e-01, -7.6065e-01],\n",
       "           [ 1.3229e-01, -1.5120e+00,  1.2388e+00,  3.3655e-01,  1.3584e+00, -2.9858e-01,  8.9211e-01, -1.4352e-01],\n",
       "           [ 8.7140e-01,  2.4508e-01,  4.3765e-01,  9.6452e-01,  1.7440e+00, -4.1483e-01,  7.4974e-01, -1.9606e+00],\n",
       "           [ 5.0277e-01, -1.2576e+00, -6.6546e-01,  3.2723e-01,  4.9156e-01, -1.4107e-01, -9.2599e-01,  8.9384e-02],\n",
       "           [-3.4426e-01,  8.4110e-01,  1.2437e+00,  2.8845e-01,  7.3181e-02, -7.5913e-02,  1.1057e+00, -7.3467e-01],\n",
       "           [-9.7490e-01,  6.4696e-01, -1.2107e+00, -3.7818e-01,  3.3697e-01,  6.3645e-01,  4.5453e-01,  2.1049e+00],\n",
       "           [ 2.1342e-01, -1.3639e+00, -1.0948e+00,  2.1349e+00,  1.6330e-01,  3.4551e+00,  1.7652e-01,  1.0517e+00],\n",
       "           [ 6.3161e-02, -1.1848e+00, -1.2615e+00, -1.4688e+00, -4.9779e-01,  1.2650e+00,  1.0512e+00,  1.0967e+00],\n",
       "           [ 2.5840e-01, -6.9257e-01,  5.8700e-01,  5.9748e-01, -1.0240e-01,  8.6435e-02,  6.9361e-01, -4.9223e-01],\n",
       "           [ 2.4710e-01, -1.6435e+00,  7.4658e-01,  8.7720e-01, -3.6947e-01,  3.2827e-01,  1.0596e+00, -7.4609e-01],\n",
       "           [ 1.0984e-01, -4.6850e-01,  1.4092e-01,  2.3193e-01, -1.1082e-01, -6.1639e-03,  1.9127e-01, -2.0174e-01],\n",
       "           [ 2.5324e-01, -1.8998e+00,  4.7238e-01,  1.2265e+00, -9.2312e-01,  3.7698e-01, -1.4880e-01, -7.4819e-01],\n",
       "           [-1.3443e-01,  1.1037e+00, -2.6431e-01, -6.9740e-01,  5.3153e-01, -2.1577e-01,  6.3465e-02,  4.1915e-01],\n",
       "           [-1.3995e-01,  6.7920e-01, -7.4128e-01, -8.4451e-02,  8.4947e-01, -5.3180e-01, -1.5393e-01,  9.9324e-02],\n",
       "           [-8.1947e-01,  1.1708e+00,  1.5222e-01,  5.5554e-02, -2.8757e+00, -6.4964e-01, -6.3410e-01, -5.7171e-01],\n",
       "           [ 5.1462e-01, -6.1576e-01, -6.8135e-01, -1.1615e-01,  3.8310e+00,  9.9542e-01,  1.0174e+00, -3.7104e-02],\n",
       "           [-8.4898e-01, -1.8493e-01,  1.8290e-01,  3.0524e-02, -6.5273e-01,  1.1581e-01, -1.9247e-01, -8.0302e-01],\n",
       "           [-4.6537e-01,  2.8293e-01,  3.7943e-01,  1.2701e+00,  1.6641e-01, -5.0485e-01, -3.4031e-01, -9.3119e-01]]]], device='cuda:0'),\n",
       " tensor([[[[-2.5469e+00,  7.1484e-01,  4.9414e-01, -1.2695e-01, -1.0156e-01,  4.0430e-01, -9.0234e-01, -8.0859e-01],\n",
       "           [-2.2812e+00,  6.4844e-01,  3.7305e-01, -1.2451e-01, -6.3965e-02,  3.8086e-01, -9.9609e-01, -6.0156e-01],\n",
       "           [-6.0156e-01,  2.7539e-01, -4.9023e-01,  3.6328e-01,  4.5117e-01,  1.0742e-01, -1.0469e+00,  5.1953e-01],\n",
       "           [ 1.4766e+00, -1.2891e+00,  8.5938e-01, -6.4453e-01,  9.3359e-01, -6.4062e-01, -7.2266e-01,  2.2031e+00],\n",
       "           [ 3.7500e-01, -2.6758e-01,  2.3242e-01,  4.0625e-01,  1.2061e-01, -2.6172e-01, -3.4375e-01,  2.4609e-01],\n",
       "           [ 1.1230e-01, -5.8984e-01, -7.0703e-01, -1.0547e-01, -1.0234e+00,  1.7578e-01, -3.6523e-01, -1.4941e-01],\n",
       "           [ 2.2656e-01, -2.1875e-01, -9.7656e-02,  9.2578e-01,  2.7500e+00, -1.8906e+00, -5.6152e-02, -6.6016e-01],\n",
       "           [-5.9766e-01,  7.6562e-01,  1.4258e-01,  4.9072e-02, -7.0703e-01,  1.3574e-01,  2.9492e-01, -6.3477e-02],\n",
       "           [ 8.9453e-01, -1.7578e-01,  1.1641e+00, -9.4922e-01, -4.4922e-02,  1.7500e+00,  1.6113e-01,  1.0781e+00],\n",
       "           [ 6.2500e-01,  5.0781e-01,  1.6328e+00, -5.4688e-01,  4.9414e-01,  9.5312e-01,  1.2012e-01,  6.4844e-01],\n",
       "           [-5.2734e-02,  5.3125e-01, -1.5625e-01,  3.3008e-01, -1.7090e-01, -4.6875e-02, -4.3945e-01, -6.1719e-01],\n",
       "           [ 1.6562e+00, -2.2344e+00,  3.4062e+00, -1.4531e+00, -3.7500e-01, -9.2188e-01, -7.5684e-02, -5.8203e-01],\n",
       "           [-9.6191e-02,  1.8433e-02, -1.1182e-01,  1.3770e-01,  1.2207e-03, -1.5259e-03, -1.7334e-02,  1.2329e-02],\n",
       "           [ 8.5938e-01, -1.3906e+00, -2.0410e-01, -1.8906e+00,  5.4297e-01, -4.6387e-02,  3.1055e-01,  2.4414e-01],\n",
       "           [-1.0449e-01, -2.2095e-02,  5.4688e-01,  1.1562e+00,  3.1445e-01, -4.5898e-01, -4.1992e-01, -7.6172e-01],\n",
       "           [ 1.3379e-01, -1.5078e+00,  1.2422e+00,  3.3203e-01,  1.3594e+00, -2.9883e-01,  8.9453e-01, -1.4258e-01],\n",
       "           [ 8.6719e-01,  2.4414e-01,  4.3555e-01,  9.6094e-01,  1.7422e+00, -4.1406e-01,  7.5000e-01, -1.9609e+00],\n",
       "           [ 5.0391e-01, -1.2578e+00, -6.6016e-01,  3.3008e-01,  4.9219e-01, -1.4258e-01, -9.2578e-01,  8.8867e-02],\n",
       "           [-3.4766e-01,  8.3984e-01,  1.2344e+00,  2.8516e-01,  6.5430e-02, -7.4219e-02,  1.1016e+00, -7.2656e-01],\n",
       "           [-9.7656e-01,  6.5625e-01, -1.2031e+00, -3.7109e-01,  3.3984e-01,  6.4062e-01,  4.6094e-01,  2.1094e+00],\n",
       "           [ 2.1582e-01, -1.3672e+00, -1.0938e+00,  2.1406e+00,  1.6211e-01,  3.4688e+00,  1.7871e-01,  1.0469e+00],\n",
       "           [ 6.6406e-02, -1.1875e+00, -1.2578e+00, -1.4609e+00, -4.9219e-01,  1.2500e+00,  1.0469e+00,  1.0859e+00],\n",
       "           [ 2.6562e-01, -7.1094e-01,  5.9766e-01,  6.1328e-01, -1.0693e-01,  9.2285e-02,  7.1094e-01, -5.0391e-01],\n",
       "           [ 2.4707e-01, -1.6484e+00,  7.4609e-01,  8.7109e-01, -3.7109e-01,  3.2812e-01,  1.0625e+00, -7.4609e-01],\n",
       "           [ 1.0938e-01, -4.6680e-01,  1.4160e-01,  2.3145e-01, -1.1035e-01, -5.6152e-03,  1.9238e-01, -2.0117e-01],\n",
       "           [ 2.5391e-01, -1.8984e+00,  4.7266e-01,  1.2266e+00, -9.2578e-01,  3.7500e-01, -1.4941e-01, -7.5000e-01],\n",
       "           [-1.3281e-01,  1.0938e+00, -2.6172e-01, -6.8750e-01,  5.2734e-01, -2.1289e-01,  6.2012e-02,  4.1406e-01],\n",
       "           [-1.3965e-01,  6.7578e-01, -7.4219e-01, -8.5938e-02,  8.4766e-01, -5.3125e-01, -1.5234e-01,  9.9609e-02],\n",
       "           [-8.2031e-01,  1.1641e+00,  1.5234e-01,  5.5664e-02, -2.8750e+00, -6.4844e-01, -6.3281e-01, -5.7031e-01],\n",
       "           [ 5.1562e-01, -6.2891e-01, -6.7578e-01, -1.1523e-01,  3.8281e+00,  9.9219e-01,  1.0156e+00, -3.7109e-02],\n",
       "           [-8.4375e-01, -1.8555e-01,  1.8359e-01,  3.0273e-02, -6.4844e-01,  1.1719e-01, -1.9141e-01, -8.0078e-01],\n",
       "           [-4.6484e-01,  2.8320e-01,  3.7695e-01,  1.2734e+00,  1.6602e-01, -5.0391e-01, -3.3984e-01, -9.2969e-01]]]], device='cuda:0', dtype=torch.bfloat16),\n",
       " tensor([[[[-2.7778e-03, -1.5051e-03,  7.7170e-04, -2.4258e-04, -2.0593e-04,  7.6434e-04, -8.4996e-05,  1.3360e-03],\n",
       "           [ 4.9250e-03,  1.9759e-04,  1.8464e-03, -5.2723e-04, -6.3170e-04,  2.2787e-03, -1.1461e-03, -1.1880e-03],\n",
       "           [-1.3188e-03, -1.4180e-03,  3.4743e-03, -3.4087e-03, -8.4189e-04,  1.4673e-04,  8.6455e-03, -4.1962e-03],\n",
       "           [ 8.9867e-03,  1.3196e-03, -2.5637e-03, -1.3353e-03,  6.0987e-04, -1.9316e-03, -4.7874e-04,  3.0210e-03],\n",
       "           [-1.4254e-02,  5.7685e-03, -9.3594e-05,  1.3298e-03, -1.5734e-03,  1.6937e-03, -2.1506e-03, -4.7644e-03],\n",
       "           [ 4.2174e-03, -3.3610e-03,  2.8580e-04,  7.4317e-04, -2.7279e-03, -1.9031e-03, -2.3212e-03,  3.6212e-03],\n",
       "           [-3.1680e-03,  1.3060e-02,  1.3996e-02, -5.4728e-03, -4.7894e-03,  1.2651e-02,  8.4757e-03,  7.0498e-03],\n",
       "           [-4.0773e-03,  1.8169e-03, -1.5419e-03, -1.2430e-03, -5.3533e-03,  3.4703e-04, -1.1712e-04, -9.3313e-04],\n",
       "           [ 2.1115e-03, -5.9429e-03, -5.7276e-03,  3.3450e-03,  4.9527e-03, -7.3273e-03, -1.9740e-03,  8.9240e-04],\n",
       "           [ 1.0335e-04, -5.1432e-03, -2.7113e-03,  3.0878e-03,  5.8559e-04, -8.2049e-03,  1.3574e-03, -1.5306e-03],\n",
       "           [ 5.1612e-03, -4.0980e-03,  6.8618e-03, -3.0768e-03,  1.1522e-03,  7.2528e-03,  2.9613e-03,  5.2363e-03],\n",
       "           [-6.6245e-04, -2.0225e-03,  2.4126e-02, -3.0428e-03, -2.1101e-03, -3.5961e-03, -6.6794e-04, -4.5038e-03],\n",
       "           [-1.1614e-03,  1.4583e-03, -1.0542e-03,  2.6701e-03, -4.6837e-04,  1.2273e-03,  2.2265e-04,  9.9945e-04],\n",
       "           [ 9.4057e-03, -1.4145e-02, -2.2095e-03, -1.6522e-02,  5.3414e-03, -2.9190e-04,  1.5544e-03,  4.4316e-05],\n",
       "           [-6.2176e-03,  7.6196e-03,  2.2091e-03,  9.7141e-03, -5.2904e-03, -4.4262e-04, -5.6413e-04, -1.0655e-03],\n",
       "           [ 1.4979e-03,  4.1682e-03,  3.3692e-03, -4.5168e-03,  1.0111e-03, -2.4581e-04,  2.4246e-03,  9.4645e-04],\n",
       "           [-4.2109e-03, -9.4087e-04, -2.1055e-03, -3.5799e-03, -1.8101e-03,  7.6476e-04,  2.6476e-04, -3.7074e-04],\n",
       "           [ 1.1380e-03, -2.5058e-04,  5.3020e-03,  2.8530e-03,  6.2659e-04, -1.5077e-03,  2.0784e-04, -5.1714e-04],\n",
       "           [-3.3985e-03, -1.2557e-03, -9.3024e-03, -3.2898e-03, -7.7511e-03,  1.6941e-03, -4.1287e-03,  8.1086e-03],\n",
       "           [-1.6601e-03,  9.2946e-03,  7.5628e-03,  7.0841e-03,  2.8779e-03,  4.1703e-03,  6.4110e-03,  4.4394e-03],\n",
       "           [ 2.3962e-03, -3.3082e-03,  1.0678e-03,  5.7149e-03, -1.1902e-03,  1.3664e-02,  2.1913e-03, -4.8403e-03],\n",
       "           [ 3.2455e-03, -2.7189e-03,  3.6918e-03,  7.8417e-03,  5.6001e-03, -1.4991e-02, -4.3632e-03, -1.0713e-02],\n",
       "           [ 7.2250e-03, -1.8364e-02,  1.0654e-02,  1.5803e-02, -4.5360e-03,  5.8507e-03,  1.7330e-02, -1.1675e-02],\n",
       "           [-3.4645e-05, -4.9375e-03, -4.8929e-04, -6.1089e-03, -1.6221e-03, -1.4353e-04,  2.8790e-03, -4.1723e-07],\n",
       "           [-4.6209e-04,  1.6996e-03,  6.8307e-04, -4.8877e-04,  4.7142e-04,  5.4864e-04,  1.1133e-03,  5.6405e-04],\n",
       "           [ 6.6459e-04,  1.3324e-03,  2.7135e-04,  8.8692e-05, -2.6577e-03, -1.9792e-03, -6.1031e-04, -1.8093e-03],\n",
       "           [ 1.6158e-03, -9.9276e-03,  2.5865e-03,  9.8997e-03, -4.1886e-03,  2.8764e-03, -1.4528e-03, -5.0826e-03],\n",
       "           [ 3.0656e-04, -3.4171e-03, -9.0384e-04, -1.4868e-03, -1.8122e-03,  5.5110e-04,  1.5896e-03,  2.8577e-04],\n",
       "           [-8.3780e-04, -6.7532e-03,  1.2720e-04,  1.1052e-04,  7.0906e-04,  1.1997e-03,  1.2919e-03,  1.3965e-03],\n",
       "           [ 1.0051e-03, -1.3150e-02,  5.5705e-03,  9.1211e-04, -2.8412e-03, -3.2364e-03, -1.7804e-03, -5.6289e-06],\n",
       "           [ 5.2305e-03, -6.2147e-04,  6.9609e-04, -2.5016e-04,  4.2903e-03,  1.3819e-03,  1.0632e-03,  2.2395e-03],\n",
       "           [ 5.2628e-04,  2.7156e-04, -2.4744e-03,  3.3807e-03, -3.9239e-04,  9.3967e-04,  4.6882e-04,  1.5068e-03]]]], device='cuda:0'))"
      ]
     },
     "execution_count": 19,
     "metadata": {},
     "output_type": "execute_result"
    },
    {
     "data": {
      "image/png": "[encoded data removed]",
      "text/plain": [
       "<Figure size 640x480 with 2 Axes>"
      ]
     },
     "metadata": {},
     "output_type": "display_data"
    }
   ],
   "source": [
    "print(f\"bfloat16 hs diff:\")\n",
    "fig = plt.imshow(((hs_cu_bf16 - hs_pt).abs()).squeeze().cpu().numpy())\n",
    "plt.colorbar(fig)\n",
    "hs_pt, hs_cu_bf16, (hs_cu_bf16 - hs_pt)"
   ]
  },
  {
   "cell_type": "code",
   "execution_count": null,
   "metadata": {},
   "outputs": [],
   "source": []
  },
  {
   "cell_type": "code",
   "execution_count": null,
   "metadata": {},
   "outputs": [],
   "source": []
  }
 ],
 "metadata": {
  "kernelspec": {
   "display_name": "xlstmpt21cu121",
   "language": "python",
   "name": "python3"
  },
  "language_info": {
   "codemirror_mode": {
    "name": "ipython",
    "version": 3
   },
   "file_extension": ".py",
   "mimetype": "text/x-python",
   "name": "python",
   "nbconvert_exporter": "python",
   "pygments_lexer": "ipython3",
   "version": "3.11.7"
  }
 },
 "nbformat": 4,
 "nbformat_minor": 2
}
