{
 "cells": [
  {
   "cell_type": "code",
   "execution_count": 1,
   "metadata": {
    "notebookRunGroups": {
     "groupValue": "1"
    }
   },
   "outputs": [
    {
     "data": {
      "text/plain": [
       "True"
      ]
     },
     "execution_count": 1,
     "metadata": {},
     "output_type": "execute_result"
    }
   ],
   "source": [
    "import sys\n",
    "import os\n",
    "\n",
    "os.environ[\"CUDA_VISIBLE_DEVICES\"] = \"0\"\n",
    "sys.path.append(\".\")\n",
    "# os.environ[\"MAX_JOBS\"] = \"100\"\n",
    "\n",
    "import torch\n",
    "torch.set_printoptions(linewidth=200)\n",
    "torch.cuda.is_available()"
   ]
  },
  {
   "cell_type": "code",
   "execution_count": 2,
   "metadata": {
    "notebookRunGroups": {
     "groupValue": "1"
    }
   },
   "outputs": [
    {
     "name": "stdout",
     "output_type": "stream",
     "text": [
      "INCLUDE: ['/home/max/miniconda3/envs/xlstmpt220cu121/lib/python3.11/site-packages/torch/include', '/home/max/miniconda3/envs/xlstmpt220cu121/lib/python3.11/site-packages/torch/include/torch/csrc/api/include', '/home/max/miniconda3/envs/xlstmpt220cu121/lib/python3.11/site-packages/torch/include/TH', '/home/max/miniconda3/envs/xlstmpt220cu121/lib/python3.11/site-packages/torch/include/THC', '/home/max/miniconda3/envs/xlstmpt220cu121/include']\n",
      "/home/max/myrepos/vlstm_cuda/src\n",
      "/home/max/cpplibs/libtorch/lib:/usr/local/cuda-12.3/lib64:\n",
      "/home/max/miniconda3/envs/xlstmpt220cu121/lib\n"
     ]
    },
    {
     "name": "stderr",
     "output_type": "stream",
     "text": [
      "Using /home/max/.cache/torch_extensions/py311_cu121 as PyTorch extensions root...\n",
      "Detected CUDA files, patching ldflags\n",
      "Emitting ninja build file /home/max/.cache/torch_extensions/py311_cu121/vlstm_fw_v0/build.ninja...\n",
      "Building extension module vlstm_fw_v0...\n",
      "Allowing ninja to set a default number of workers... (overridable by setting the environment variable MAX_JOBS=N)\n"
     ]
    },
    {
     "name": "stdout",
     "output_type": "stream",
     "text": [
      "[1/2] /home/max/miniconda3/envs/xlstmpt220cu121/bin/nvcc --generate-dependencies-with-compile --dependency-output kernels.cuda.o.d -ccbin /home/max/miniconda3/envs/xlstmpt220cu121/bin/x86_64-conda-linux-gnu-cc -DTORCH_EXTENSION_NAME=vlstm_fw_v0 -DTORCH_API_INCLUDE_EXTENSION_H -DPYBIND11_COMPILER_TYPE=\\\"_gcc\\\" -DPYBIND11_STDLIB=\\\"_libstdcpp\\\" -DPYBIND11_BUILD_ABI=\\\"_cxxabi1011\\\" -isystem /home/max/miniconda3/envs/xlstmpt220cu121/lib/python3.11/site-packages/torch/include -isystem /home/max/miniconda3/envs/xlstmpt220cu121/lib/python3.11/site-packages/torch/include/torch/csrc/api/include -isystem /home/max/miniconda3/envs/xlstmpt220cu121/lib/python3.11/site-packages/torch/include/TH -isystem /home/max/miniconda3/envs/xlstmpt220cu121/lib/python3.11/site-packages/torch/include/THC -isystem /home/max/miniconda3/envs/xlstmpt220cu121/include -isystem /home/max/miniconda3/envs/xlstmpt220cu121/include/python3.11 -D_GLIBCXX_USE_CXX11_ABI=0 -D__CUDA_NO_HALF_OPERATORS__ -D__CUDA_NO_HALF_CONVERSIONS__ -D__CUDA_NO_BFLOAT16_CONVERSIONS__ -D__CUDA_NO_HALF2_OPERATORS__ --expt-relaxed-constexpr -gencode=arch=compute_89,code=compute_89 -gencode=arch=compute_89,code=sm_89 --compiler-options '-fPIC' -gencode arch=compute_80,code=compute_80 -res-usage --use_fast_math -O3 -Xptxas -O3 --extra-device-vectorization -DTmax=13407807929942597099574024998205846127479365820592393377723561443721764030073546976801874298166903427690031858186486050853753882811946569946433649006084096 -std=c++17 -c /home/max/myrepos/vlstm_cuda/src/vlstm_fw_v1/kernels.cu -o kernels.cuda.o \n",
      "/home/max/myrepos/vlstm_cuda/src/vlstm_fw_v1/../util/inline_ops.cuh(255): remark #20200-D: #pragma message: \"/home/max/myrepos/vlstm_cuda/src/vlstm_fw_v1/../util/inline_ops.cuh:255 CUDART_VERSION: 12010, arch: 890\"\n",
      "  #pragma message(\"/home/max/myrepos/vlstm_cuda/src/vlstm_fw_v1/../util/inline_ops.cuh\" \":\" \"255\" \" CUDART_VERSION: \" \"12010\" \", arch: \" \"890\")\n",
      "                                                                                                                                               ^\n",
      "\n",
      "/home/max/myrepos/vlstm_cuda/src/vlstm_fw_v1/../util/inline_ops.cuh(260): remark #20200-D: #pragma message: \"INCLUDING FP16\"\n",
      "  #pragma message(\"INCLUDING FP16\")\n",
      "                                   ^\n",
      "\n",
      "/home/max/myrepos/vlstm_cuda/src/vlstm_fw_v1/../util/inline_ops_fp16.cuh(29): remark #20200-D: #pragma message: \"/home/max/myrepos/vlstm_cuda/src/vlstm_fw_v1/../util/inline_ops_fp16.cuh:29 CUDART_VERSION with FP16: 12010, CUDA_ARCH: 890\"\n",
      "  #pragma message(\"/home/max/myrepos/vlstm_cuda/src/vlstm_fw_v1/../util/inline_ops_fp16.cuh\" \":\" \"29\" \" CUDART_VERSION with FP16: \" \"12010\" \", CUDA_ARCH: \" \"890\")\n",
      "                                                                                                                                                                  ^\n",
      "\n",
      "/home/max/myrepos/vlstm_cuda/src/vlstm_fw_v1/../util/inline_ops_2fp16.cuh(29): remark #20200-D: #pragma message: \"/home/max/myrepos/vlstm_cuda/src/vlstm_fw_v1/../util/inline_ops_2fp16.cuh:29 CUDART_VERSION with FP16: 12010, CUDA_ARCH: 890\"\n",
      "  #pragma message(\"/home/max/myrepos/vlstm_cuda/src/vlstm_fw_v1/../util/inline_ops_2fp16.cuh\" \":\" \"29\" \" CUDART_VERSION with FP16: \" \"12010\" \", CUDA_ARCH: \" \"890\")\n",
      "                                                                                                                                                                   ^\n",
      "\n",
      "/home/max/myrepos/vlstm_cuda/src/vlstm_fw_v1/../util/inline_ops.cuh(273): remark #20200-D: #pragma message: \"INCLUDING BF16\"\n",
      "  #pragma message(\"INCLUDING BF16\")\n",
      "                                   ^\n",
      "\n",
      "/home/max/myrepos/vlstm_cuda/src/vlstm_fw_v1/../util/inline_ops_bf16.cuh(29): remark #20200-D: #pragma message: \"/home/max/myrepos/vlstm_cuda/src/vlstm_fw_v1/../util/inline_ops_bf16.cuh:29 CUDART_VERSION with BF16: 12010, CUDA_ARCH: 890\"\n",
      "  #pragma message(\"/home/max/myrepos/vlstm_cuda/src/vlstm_fw_v1/../util/inline_ops_bf16.cuh\" \":\" \"29\" \" CUDART_VERSION with BF16: \" \"12010\" \", CUDA_ARCH: \" \"890\")\n",
      "                                                                                                                                                                  ^\n",
      "\n",
      "/home/max/myrepos/vlstm_cuda/src/vlstm_fw_v1/../util/inline_ops_2bf16.cuh(29): remark #20200-D: #pragma message: \"/home/max/myrepos/vlstm_cuda/src/vlstm_fw_v1/../util/inline_ops_2bf16.cuh:29 CUDART_VERSION with FP16: 12010, CUDA_ARCH: 890\"\n",
      "  #pragma message(\"/home/max/myrepos/vlstm_cuda/src/vlstm_fw_v1/../util/inline_ops_2bf16.cuh\" \":\" \"29\" \" CUDART_VERSION with FP16: \" \"12010\" \", CUDA_ARCH: \" \"890\")\n",
      "                                                                                                                                                                   ^\n",
      "\n",
      "ptxas info    : 144 bytes gmem\n",
      "ptxas info    : Compiling entry function '_ZN5vlstm7kernels8vlstm_fwIfLi4ELi8ELi8EEEvPT_S3_S3_S3_iiii' for 'sm_89'\n",
      "ptxas info    : Function properties for _ZN5vlstm7kernels8vlstm_fwIfLi4ELi8ELi8EEEvPT_S3_S3_S3_iiii\n",
      "    24 bytes stack frame, 0 bytes spill stores, 0 bytes spill loads\n",
      "ptxas info    : Used 56 registers, 400 bytes cmem[0]\n",
      "ptxas info    : Compiling entry function '_ZN5vlstm7kernels8vlstm_fwI6__halfLi4ELi8ELi8EEEvPT_S4_S4_S4_iiii' for 'sm_89'\n",
      "ptxas info    : Function properties for _ZN5vlstm7kernels8vlstm_fwI6__halfLi4ELi8ELi8EEEvPT_S4_S4_S4_iiii\n",
      "    24 bytes stack frame, 0 bytes spill stores, 0 bytes spill loads\n",
      "ptxas info    : Used 48 registers, 400 bytes cmem[0]\n",
      "ptxas info    : Compiling entry function '_ZN5vlstm7kernels8vlstm_fwI13__nv_bfloat16Li4ELi8ELi8EEEvPT_S4_S4_S4_iiii' for 'sm_89'\n",
      "ptxas info    : Function properties for _ZN5vlstm7kernels8vlstm_fwI13__nv_bfloat16Li4ELi8ELi8EEEvPT_S4_S4_S4_iiii\n",
      "    24 bytes stack frame, 0 bytes spill stores, 0 bytes spill loads\n",
      "ptxas info    : Used 48 registers, 400 bytes cmem[0]\n",
      "/home/max/myrepos/vlstm_cuda/src/vlstm_fw_v1/../util/inline_ops.cuh(255): remark #20200-D: #pragma message: \"/home/max/myrepos/vlstm_cuda/src/vlstm_fw_v1/../util/inline_ops.cuh:255 CUDART_VERSION: 12010, arch: 800\"\n",
      "  #pragma message(\"/home/max/myrepos/vlstm_cuda/src/vlstm_fw_v1/../util/inline_ops.cuh\" \":\" \"255\" \" CUDART_VERSION: \" \"12010\" \", arch: \" \"800\")\n",
      "                                                                                                                                               ^\n",
      "\n",
      "/home/max/myrepos/vlstm_cuda/src/vlstm_fw_v1/../util/inline_ops.cuh(260): remark #20200-D: #pragma message: \"INCLUDING FP16\"\n",
      "  #pragma message(\"INCLUDING FP16\")\n",
      "                                   ^\n",
      "\n",
      "/home/max/myrepos/vlstm_cuda/src/vlstm_fw_v1/../util/inline_ops_fp16.cuh(29): remark #20200-D: #pragma message: \"/home/max/myrepos/vlstm_cuda/src/vlstm_fw_v1/../util/inline_ops_fp16.cuh:29 CUDART_VERSION with FP16: 12010, CUDA_ARCH: 800\"\n",
      "  #pragma message(\"/home/max/myrepos/vlstm_cuda/src/vlstm_fw_v1/../util/inline_ops_fp16.cuh\" \":\" \"29\" \" CUDART_VERSION with FP16: \" \"12010\" \", CUDA_ARCH: \" \"800\")\n",
      "                                                                                                                                                                  ^\n",
      "\n",
      "/home/max/myrepos/vlstm_cuda/src/vlstm_fw_v1/../util/inline_ops_2fp16.cuh(29): remark #20200-D: #pragma message: \"/home/max/myrepos/vlstm_cuda/src/vlstm_fw_v1/../util/inline_ops_2fp16.cuh:29 CUDART_VERSION with FP16: 12010, CUDA_ARCH: 800\"\n",
      "  #pragma message(\"/home/max/myrepos/vlstm_cuda/src/vlstm_fw_v1/../util/inline_ops_2fp16.cuh\" \":\" \"29\" \" CUDART_VERSION with FP16: \" \"12010\" \", CUDA_ARCH: \" \"800\")\n",
      "                                                                                                                                                                   ^\n",
      "\n",
      "/home/max/myrepos/vlstm_cuda/src/vlstm_fw_v1/../util/inline_ops.cuh(273): remark #20200-D: #pragma message: \"INCLUDING BF16\"\n",
      "  #pragma message(\"INCLUDING BF16\")\n",
      "                                   ^\n",
      "\n",
      "/home/max/myrepos/vlstm_cuda/src/vlstm_fw_v1/../util/inline_ops_bf16.cuh(29): remark #20200-D: #pragma message: \"/home/max/myrepos/vlstm_cuda/src/vlstm_fw_v1/../util/inline_ops_bf16.cuh:29 CUDART_VERSION with BF16: 12010, CUDA_ARCH: 800\"\n",
      "  #pragma message(\"/home/max/myrepos/vlstm_cuda/src/vlstm_fw_v1/../util/inline_ops_bf16.cuh\" \":\" \"29\" \" CUDART_VERSION with BF16: \" \"12010\" \", CUDA_ARCH: \" \"800\")\n",
      "                                                                                                                                                                  ^\n",
      "\n",
      "/home/max/myrepos/vlstm_cuda/src/vlstm_fw_v1/../util/inline_ops_2bf16.cuh(29): remark #20200-D: #pragma message: \"/home/max/myrepos/vlstm_cuda/src/vlstm_fw_v1/../util/inline_ops_2bf16.cuh:29 CUDART_VERSION with FP16: 12010, CUDA_ARCH: 800\"\n",
      "  #pragma message(\"/home/max/myrepos/vlstm_cuda/src/vlstm_fw_v1/../util/inline_ops_2bf16.cuh\" \":\" \"29\" \" CUDART_VERSION with FP16: \" \"12010\" \", CUDA_ARCH: \" \"800\")\n",
      "                                                                                                                                                                   ^\n",
      "\n",
      "/home/max/myrepos/vlstm_cuda/src/vlstm_fw_v1/../util/inline_ops.cuh:255:136: note: '#pragma message: /home/max/myrepos/vlstm_cuda/src/vlstm_fw_v1/../util/inline_ops.cuh:255 CUDART_VERSION: 12010, arch: __CUDA_ARCH__'\n",
      "  255 | #pragma message(AT \" CUDART_VERSION: \" TOSTRING(                               \\\n",
      "      |                                                                                                                                        ^\n",
      "/home/max/myrepos/vlstm_cuda/src/vlstm_fw_v1/../util/inline_ops.cuh:267:90: note: '#pragma message: SKIPPING FP16, because of CUDART_VERSION: 12010, arch: __CUDA_ARCH__'\n",
      "  267 | #pragma message(\"SKIPPING FP16, because of CUDART_VERSION: \" TOSTRING(         \\\n",
      "      |                                                                                          ^\n",
      "/home/max/myrepos/vlstm_cuda/src/vlstm_fw_v1/../util/inline_ops.cuh:280:90: note: '#pragma message: SKIPPING BF16, because of CUDART_VERSION: 12010, arch: __CUDA_ARCH__'\n",
      "  280 | #pragma message(\"SKIPPING BF16, because of CUDART_VERSION: \" TOSTRING(         \\\n",
      "      |                                                                                          ^\n",
      "[2/2] /home/max/miniconda3/envs/xlstmpt220cu121/bin/x86_64-conda-linux-gnu-c++ interface.o kernels.cuda.o -shared -L/home/max/miniconda3/envs/xlstmpt220cu121/lib -lcublas -L/home/max/miniconda3/envs/xlstmpt220cu121/lib/python3.11/site-packages/torch/lib -lc10 -lc10_cuda -ltorch_cpu -ltorch_cuda -ltorch -ltorch_python -L/home/max/miniconda3/envs/xlstmpt220cu121/lib -lcudart -o vlstm_fw_v0.so\n"
     ]
    },
    {
     "name": "stderr",
     "output_type": "stream",
     "text": [
      "Loading extension module vlstm_fw_v0...\n"
     ]
    }
   ],
   "source": [
    "from src.vlstm_fw_v1.interface import vlstm_fw_torch\n",
    "from src.vlstm_fw_v1.interface import vlstm_fw_cuda\n",
    "\n",
    "# Commit: 59a91237f7e6733247aa5d2b3da8a66970e7bf54\n",
    "# ptxas info    : 343 bytes gmem\n",
    "# ptxas info    : Compiling entry function '_ZN5vlstm7kernels8vlstm_fwIfLi4ELi8ELi8EEEvPT_S3_S3_S3_iiii' for 'sm_89'\n",
    "# ptxas info    : Function properties for _ZN5vlstm7kernels8vlstm_fwIfLi4ELi8ELi8EEEvPT_S3_S3_S3_iiii\n",
    "#     24 bytes stack frame, 0 bytes spill stores, 0 bytes spill loads\n",
    "# ptxas info    : Used 66 registers, 400 bytes cmem[0]\n",
    "# ptxas info    : Compiling entry function '_ZN5vlstm7kernels8vlstm_fwI6__halfLi4ELi8ELi8EEEvPT_S4_S4_S4_iiii' for 'sm_89'\n",
    "# ptxas info    : Function properties for _ZN5vlstm7kernels8vlstm_fwI6__halfLi4ELi8ELi8EEEvPT_S4_S4_S4_iiii\n",
    "#     24 bytes stack frame, 0 bytes spill stores, 0 bytes spill loads\n",
    "# ptxas info    : Used 72 registers, 400 bytes cmem[0]\n",
    "# ptxas info    : Compiling entry function '_ZN5vlstm7kernels8vlstm_fwI13__nv_bfloat16Li4ELi8ELi8EEEvPT_S4_S4_S4_iiii' for 'sm_89'\n",
    "# ptxas info    : Function properties for _ZN5vlstm7kernels8vlstm_fwI13__nv_bfloat16Li4ELi8ELi8EEEvPT_S4_S4_S4_iiii\n",
    "#     24 bytes stack frame, 0 bytes spill stores, 0 bytes spill loads\n",
    "# ptxas info    : Used 63 registers, 400 bytes cmem[0]"
   ]
  },
  {
   "cell_type": "markdown",
   "metadata": {},
   "source": [
    "## CUDA vLSTM forward"
   ]
  },
  {
   "cell_type": "code",
   "execution_count": 3,
   "metadata": {
    "notebookRunGroups": {
     "groupValue": "1"
    }
   },
   "outputs": [],
   "source": [
    "S = 32 #16 #8 # seq len\n",
    "B = 1 # batch size\n",
    "NH = 1 # num heads\n",
    "DH = 8 # dim per head\n",
    "DTYPE = torch.float32\n",
    "DEVICE = torch.device(\"cuda:0\")"
   ]
  },
  {
   "cell_type": "code",
   "execution_count": 4,
   "metadata": {
    "notebookRunGroups": {
     "groupValue": "1"
    }
   },
   "outputs": [
    {
     "data": {
      "text/plain": [
       "(tensor([[[[ 0.0000,  0.1000,  0.2000,  0.3000,  0.4000,  0.5000,  0.6000,  0.7000],\n",
       "           [ 0.8000,  0.9000,  1.0000,  1.1000,  1.2000,  1.3000,  1.4000,  1.5000],\n",
       "           [ 1.6000,  1.7000,  1.8000,  1.9000,  2.0000,  2.1000,  2.2000,  2.3000],\n",
       "           [ 2.4000,  2.5000,  2.6000,  2.7000,  2.8000,  2.9000,  3.0000,  3.1000],\n",
       "           [ 3.2000,  3.3000,  3.4000,  3.5000,  3.6000,  3.7000,  3.8000,  3.9000],\n",
       "           [ 4.0000,  4.1000,  4.2000,  4.3000,  4.4000,  4.5000,  4.6000,  4.7000],\n",
       "           [ 4.8000,  4.9000,  5.0000,  5.1000,  5.2000,  5.3000,  5.4000,  5.5000],\n",
       "           [ 5.6000,  5.7000,  5.8000,  5.9000,  6.0000,  6.1000,  6.2000,  6.3000],\n",
       "           [ 6.4000,  6.5000,  6.6000,  6.7000,  6.8000,  6.9000,  7.0000,  7.1000],\n",
       "           [ 7.2000,  7.3000,  7.4000,  7.5000,  7.6000,  7.7000,  7.8000,  7.9000],\n",
       "           [ 8.0000,  8.1000,  8.2000,  8.3000,  8.4000,  8.5000,  8.6000,  8.7000],\n",
       "           [ 8.8000,  8.9000,  9.0000,  9.1000,  9.2000,  9.3000,  9.4000,  9.5000],\n",
       "           [ 9.6000,  9.7000,  9.8000,  9.9000, 10.0000, 10.1000, 10.2000, 10.3000],\n",
       "           [10.4000, 10.5000, 10.6000, 10.7000, 10.8000, 10.9000, 11.0000, 11.1000],\n",
       "           [11.2000, 11.3000, 11.4000, 11.5000, 11.6000, 11.7000, 11.8000, 11.9000],\n",
       "           [12.0000, 12.1000, 12.2000, 12.3000, 12.4000, 12.5000, 12.6000, 12.7000],\n",
       "           [12.8000, 12.9000, 13.0000, 13.1000, 13.2000, 13.3000, 13.4000, 13.5000],\n",
       "           [13.6000, 13.7000, 13.8000, 13.9000, 14.0000, 14.1000, 14.2000, 14.3000],\n",
       "           [14.4000, 14.5000, 14.6000, 14.7000, 14.8000, 14.9000, 15.0000, 15.1000],\n",
       "           [15.2000, 15.3000, 15.4000, 15.5000, 15.6000, 15.7000, 15.8000, 15.9000],\n",
       "           [16.0000, 16.1000, 16.2000, 16.3000, 16.4000, 16.5000, 16.6000, 16.7000],\n",
       "           [16.8000, 16.9000, 17.0000, 17.1000, 17.2000, 17.3000, 17.4000, 17.5000],\n",
       "           [17.6000, 17.7000, 17.8000, 17.9000, 18.0000, 18.1000, 18.2000, 18.3000],\n",
       "           [18.4000, 18.5000, 18.6000, 18.7000, 18.8000, 18.9000, 19.0000, 19.1000],\n",
       "           [19.2000, 19.3000, 19.4000, 19.5000, 19.6000, 19.7000, 19.8000, 19.9000],\n",
       "           [20.0000, 20.1000, 20.2000, 20.3000, 20.4000, 20.5000, 20.6000, 20.7000],\n",
       "           [20.8000, 20.9000, 21.0000, 21.1000, 21.2000, 21.3000, 21.4000, 21.5000],\n",
       "           [21.6000, 21.7000, 21.8000, 21.9000, 22.0000, 22.1000, 22.2000, 22.3000],\n",
       "           [22.4000, 22.5000, 22.6000, 22.7000, 22.8000, 22.9000, 23.0000, 23.1000],\n",
       "           [23.2000, 23.3000, 23.4000, 23.5000, 23.6000, 23.7000, 23.8000, 23.9000],\n",
       "           [24.0000, 24.1000, 24.2000, 24.3000, 24.4000, 24.5000, 24.6000, 24.7000],\n",
       "           [24.8000, 24.9000, 25.0000, 25.1000, 25.2000, 25.3000, 25.4000, 25.5000]]]], device='cuda:0'),\n",
       " torch.Size([1, 1, 32, 8]),\n",
       " 256)"
      ]
     },
     "execution_count": 4,
     "metadata": {},
     "output_type": "execute_result"
    }
   ],
   "source": [
    "# create qkv, inputgates, forgetgates \n",
    "torch.manual_seed(0)\n",
    "qs = torch.arange((B*NH*S*DH), device=DEVICE, dtype=DTYPE).reshape((B, NH, S, DH)) / 10.\n",
    "ks = torch.ones((B, NH, S, DH), device=DEVICE, dtype=DTYPE) / 100.\n",
    "vs = torch.ones((B, NH, S, DH), device=DEVICE, dtype=DTYPE) / 100.\n",
    "# igs = (1. + torch.arange((B * NH * S), device=DEVICE, dtype=DTYPE)).reshape(B, NH, S, 1) / 100.\n",
    "igs = torch.ones((B, NH, S, 1), device=DEVICE, dtype=DTYPE) #/ 10.\n",
    "fgs = 0.01 * torch.ones((B, NH, S, 1), device=DEVICE, dtype=DTYPE)\n",
    "qs, qs.shape, len(qs.view(-1))"
   ]
  },
  {
   "cell_type": "code",
   "execution_count": 5,
   "metadata": {
    "notebookRunGroups": {
     "groupValue": "1"
    }
   },
   "outputs": [
    {
     "data": {
      "text/plain": [
       "(tensor([[[[0.0003, 0.0003, 0.0003, 0.0003, 0.0003, 0.0003, 0.0003, 0.0003],\n",
       "           [0.0013, 0.0013, 0.0013, 0.0013, 0.0013, 0.0013, 0.0013, 0.0013],\n",
       "           [0.0026, 0.0026, 0.0026, 0.0026, 0.0026, 0.0026, 0.0026, 0.0026],\n",
       "           [0.0040, 0.0040, 0.0040, 0.0040, 0.0040, 0.0040, 0.0040, 0.0040],\n",
       "           [0.0053, 0.0053, 0.0053, 0.0053, 0.0053, 0.0053, 0.0053, 0.0053],\n",
       "           [0.0066, 0.0066, 0.0066, 0.0066, 0.0066, 0.0066, 0.0066, 0.0066],\n",
       "           [0.0079, 0.0079, 0.0079, 0.0079, 0.0079, 0.0079, 0.0079, 0.0079],\n",
       "           [0.0092, 0.0092, 0.0092, 0.0092, 0.0092, 0.0092, 0.0092, 0.0092],\n",
       "           [0.0100, 0.0100, 0.0100, 0.0100, 0.0100, 0.0100, 0.0100, 0.0100],\n",
       "           [0.0100, 0.0100, 0.0100, 0.0100, 0.0100, 0.0100, 0.0100, 0.0100],\n",
       "           [0.0100, 0.0100, 0.0100, 0.0100, 0.0100, 0.0100, 0.0100, 0.0100],\n",
       "           [0.0100, 0.0100, 0.0100, 0.0100, 0.0100, 0.0100, 0.0100, 0.0100],\n",
       "           [0.0100, 0.0100, 0.0100, 0.0100, 0.0100, 0.0100, 0.0100, 0.0100],\n",
       "           [0.0100, 0.0100, 0.0100, 0.0100, 0.0100, 0.0100, 0.0100, 0.0100],\n",
       "           [0.0100, 0.0100, 0.0100, 0.0100, 0.0100, 0.0100, 0.0100, 0.0100],\n",
       "           [0.0100, 0.0100, 0.0100, 0.0100, 0.0100, 0.0100, 0.0100, 0.0100],\n",
       "           [0.0100, 0.0100, 0.0100, 0.0100, 0.0100, 0.0100, 0.0100, 0.0100],\n",
       "           [0.0100, 0.0100, 0.0100, 0.0100, 0.0100, 0.0100, 0.0100, 0.0100],\n",
       "           [0.0100, 0.0100, 0.0100, 0.0100, 0.0100, 0.0100, 0.0100, 0.0100],\n",
       "           [0.0100, 0.0100, 0.0100, 0.0100, 0.0100, 0.0100, 0.0100, 0.0100],\n",
       "           [0.0100, 0.0100, 0.0100, 0.0100, 0.0100, 0.0100, 0.0100, 0.0100],\n",
       "           [0.0100, 0.0100, 0.0100, 0.0100, 0.0100, 0.0100, 0.0100, 0.0100],\n",
       "           [0.0100, 0.0100, 0.0100, 0.0100, 0.0100, 0.0100, 0.0100, 0.0100],\n",
       "           [0.0100, 0.0100, 0.0100, 0.0100, 0.0100, 0.0100, 0.0100, 0.0100],\n",
       "           [0.0100, 0.0100, 0.0100, 0.0100, 0.0100, 0.0100, 0.0100, 0.0100],\n",
       "           [0.0100, 0.0100, 0.0100, 0.0100, 0.0100, 0.0100, 0.0100, 0.0100],\n",
       "           [0.0100, 0.0100, 0.0100, 0.0100, 0.0100, 0.0100, 0.0100, 0.0100],\n",
       "           [0.0100, 0.0100, 0.0100, 0.0100, 0.0100, 0.0100, 0.0100, 0.0100],\n",
       "           [0.0100, 0.0100, 0.0100, 0.0100, 0.0100, 0.0100, 0.0100, 0.0100],\n",
       "           [0.0100, 0.0100, 0.0100, 0.0100, 0.0100, 0.0100, 0.0100, 0.0100],\n",
       "           [0.0100, 0.0100, 0.0100, 0.0100, 0.0100, 0.0100, 0.0100, 0.0100],\n",
       "           [0.0100, 0.0100, 0.0100, 0.0100, 0.0100, 0.0100, 0.0100, 0.0100]]]], device='cuda:0'),\n",
       " torch.Size([1, 1, 32, 8]))"
      ]
     },
     "execution_count": 5,
     "metadata": {},
     "output_type": "execute_result"
    }
   ],
   "source": [
    "# pytorch version\n",
    "rs, log_fgm, igm = vlstm_fw_torch(\n",
    "    queries=qs,\n",
    "    keys=ks,\n",
    "    values=vs,\n",
    "    igate_preact=igs,\n",
    "    fgate_preact=fgs,\n",
    ")\n",
    "rs, rs.shape"
   ]
  },
  {
   "cell_type": "code",
   "execution_count": 6,
   "metadata": {},
   "outputs": [
    {
     "data": {
      "text/plain": [
       "(tensor([[[[0.0090, 0.0090, 0.0090, 0.0090, 0.0090, 0.0090, 0.0090, 0.0090],\n",
       "           [0.0294, 0.0294, 0.0294, 0.0294, 0.0294, 0.0294, 0.0294, 0.0294],\n",
       "           [0.0499, 0.0499, 0.0499, 0.0499, 0.0499, 0.0499, 0.0499, 0.0499],\n",
       "           [0.0704, 0.0704, 0.0704, 0.0704, 0.0704, 0.0704, 0.0704, 0.0704],\n",
       "           [0.0909, 0.0909, 0.0909, 0.0909, 0.0909, 0.0909, 0.0909, 0.0909],\n",
       "           [0.1114, 0.1114, 0.1114, 0.1114, 0.1114, 0.1114, 0.1114, 0.1114],\n",
       "           [0.1318, 0.1318, 0.1318, 0.1318, 0.1318, 0.1318, 0.1318, 0.1318],\n",
       "           [0.1523, 0.1523, 0.1523, 0.1523, 0.1523, 0.1523, 0.1523, 0.1523],\n",
       "           [0.1728, 0.1728, 0.1728, 0.1728, 0.1728, 0.1728, 0.1728, 0.1728],\n",
       "           [0.1933, 0.1933, 0.1933, 0.1933, 0.1933, 0.1933, 0.1933, 0.1933],\n",
       "           [0.2138, 0.2138, 0.2138, 0.2138, 0.2138, 0.2138, 0.2138, 0.2138],\n",
       "           [0.2342, 0.2342, 0.2342, 0.2342, 0.2342, 0.2342, 0.2342, 0.2342],\n",
       "           [0.2547, 0.2547, 0.2547, 0.2547, 0.2547, 0.2547, 0.2547, 0.2547],\n",
       "           [0.2752, 0.2752, 0.2752, 0.2752, 0.2752, 0.2752, 0.2752, 0.2752],\n",
       "           [0.2957, 0.2957, 0.2957, 0.2957, 0.2957, 0.2957, 0.2957, 0.2957],\n",
       "           [0.3162, 0.3162, 0.3162, 0.3162, 0.3162, 0.3162, 0.3162, 0.3162],\n",
       "           [0.3366, 0.3366, 0.3366, 0.3366, 0.3366, 0.3366, 0.3366, 0.3366],\n",
       "           [0.3571, 0.3571, 0.3571, 0.3571, 0.3571, 0.3571, 0.3571, 0.3571],\n",
       "           [0.3776, 0.3776, 0.3776, 0.3776, 0.3776, 0.3776, 0.3776, 0.3776],\n",
       "           [0.3981, 0.3981, 0.3981, 0.3981, 0.3981, 0.3981, 0.3981, 0.3981],\n",
       "           [0.4186, 0.4186, 0.4186, 0.4186, 0.4186, 0.4186, 0.4186, 0.4186],\n",
       "           [0.4390, 0.4390, 0.4390, 0.4390, 0.4390, 0.4390, 0.4390, 0.4390],\n",
       "           [0.4595, 0.4595, 0.4595, 0.4595, 0.4595, 0.4595, 0.4595, 0.4595],\n",
       "           [0.4800, 0.4800, 0.4800, 0.4800, 0.4800, 0.4800, 0.4800, 0.4800],\n",
       "           [0.5005, 0.5005, 0.5005, 0.5005, 0.5005, 0.5005, 0.5005, 0.5005],\n",
       "           [0.5210, 0.5210, 0.5210, 0.5210, 0.5210, 0.5210, 0.5210, 0.5210],\n",
       "           [0.5414, 0.5414, 0.5414, 0.5414, 0.5414, 0.5414, 0.5414, 0.5414],\n",
       "           [0.5619, 0.5619, 0.5619, 0.5619, 0.5619, 0.5619, 0.5619, 0.5619],\n",
       "           [0.5824, 0.5824, 0.5824, 0.5824, 0.5824, 0.5824, 0.5824, 0.5824],\n",
       "           [0.6029, 0.6029, 0.6029, 0.6029, 0.6029, 0.6029, 0.6029, 0.6029],\n",
       "           [0.6234, 0.6234, 0.6234, 0.6234, 0.6234, 0.6234, 0.6234, 0.6234],\n",
       "           [0.6438, 0.6438, 0.6438, 0.6438, 0.6438, 0.6438, 0.6438, 0.6438]]]], device='cuda:0'),\n",
       " torch.Size([1, 1, 32, 8]))"
      ]
     },
     "execution_count": 6,
     "metadata": {},
     "output_type": "execute_result"
    }
   ],
   "source": [
    "# pytorch version QKV product (To test if this is still correct after changes to the code.)\n",
    "# at some point we have to compare to the vlstm_fw_torch version.\n",
    "rs = qs @ ks.transpose(-1, -2) @ vs\n",
    "rs, rs.shape"
   ]
  },
  {
   "cell_type": "code",
   "execution_count": 7,
   "metadata": {},
   "outputs": [
    {
     "data": {
      "text/plain": [
       "(tensor([[[[2.8000e-04, 2.8000e-04, 2.8000e-04, 2.8000e-04, 2.8000e-04, 2.8000e-04, 2.8000e-04, 2.8000e-04],\n",
       "           [1.8400e-03, 1.8400e-03, 1.8400e-03, 1.8400e-03, 1.8400e-03, 1.8400e-03, 1.8400e-03, 1.8400e-03],\n",
       "           [4.6800e-03, 4.6800e-03, 4.6800e-03, 4.6800e-03, 4.6800e-03, 4.6800e-03, 4.6800e-03, 4.6800e-03],\n",
       "           [8.8000e-03, 8.8000e-03, 8.8000e-03, 8.8000e-03, 8.8000e-03, 8.8000e-03, 8.8000e-03, 8.8000e-03],\n",
       "           [1.4200e-02, 1.4200e-02, 1.4200e-02, 1.4200e-02, 1.4200e-02, 1.4200e-02, 1.4200e-02, 1.4200e-02],\n",
       "           [2.0880e-02, 2.0880e-02, 2.0880e-02, 2.0880e-02, 2.0880e-02, 2.0880e-02, 2.0880e-02, 2.0880e-02],\n",
       "           [2.8840e-02, 2.8840e-02, 2.8840e-02, 2.8840e-02, 2.8840e-02, 2.8840e-02, 2.8840e-02, 2.8840e-02],\n",
       "           [3.8080e-02, 3.8080e-02, 3.8080e-02, 3.8080e-02, 3.8080e-02, 3.8080e-02, 3.8080e-02, 3.8080e-02],\n",
       "           [4.8600e-02, 4.8600e-02, 4.8600e-02, 4.8600e-02, 4.8600e-02, 4.8600e-02, 4.8600e-02, 4.8600e-02],\n",
       "           [6.0400e-02, 6.0400e-02, 6.0400e-02, 6.0400e-02, 6.0400e-02, 6.0400e-02, 6.0400e-02, 6.0400e-02],\n",
       "           [7.3480e-02, 7.3480e-02, 7.3480e-02, 7.3480e-02, 7.3480e-02, 7.3480e-02, 7.3480e-02, 7.3480e-02],\n",
       "           [8.7840e-02, 8.7840e-02, 8.7840e-02, 8.7840e-02, 8.7840e-02, 8.7840e-02, 8.7840e-02, 8.7840e-02],\n",
       "           [1.0348e-01, 1.0348e-01, 1.0348e-01, 1.0348e-01, 1.0348e-01, 1.0348e-01, 1.0348e-01, 1.0348e-01],\n",
       "           [1.2040e-01, 1.2040e-01, 1.2040e-01, 1.2040e-01, 1.2040e-01, 1.2040e-01, 1.2040e-01, 1.2040e-01],\n",
       "           [1.3860e-01, 1.3860e-01, 1.3860e-01, 1.3860e-01, 1.3860e-01, 1.3860e-01, 1.3860e-01, 1.3860e-01],\n",
       "           [1.5808e-01, 1.5808e-01, 1.5808e-01, 1.5808e-01, 1.5808e-01, 1.5808e-01, 1.5808e-01, 1.5808e-01],\n",
       "           [1.7884e-01, 1.7884e-01, 1.7884e-01, 1.7884e-01, 1.7884e-01, 1.7884e-01, 1.7884e-01, 1.7884e-01],\n",
       "           [2.0088e-01, 2.0088e-01, 2.0088e-01, 2.0088e-01, 2.0088e-01, 2.0088e-01, 2.0088e-01, 2.0088e-01],\n",
       "           [2.2420e-01, 2.2420e-01, 2.2420e-01, 2.2420e-01, 2.2420e-01, 2.2420e-01, 2.2420e-01, 2.2420e-01],\n",
       "           [2.4880e-01, 2.4880e-01, 2.4880e-01, 2.4880e-01, 2.4880e-01, 2.4880e-01, 2.4880e-01, 2.4880e-01],\n",
       "           [2.7468e-01, 2.7468e-01, 2.7468e-01, 2.7468e-01, 2.7468e-01, 2.7468e-01, 2.7468e-01, 2.7468e-01],\n",
       "           [3.0184e-01, 3.0184e-01, 3.0184e-01, 3.0184e-01, 3.0184e-01, 3.0184e-01, 3.0184e-01, 3.0184e-01],\n",
       "           [3.3028e-01, 3.3028e-01, 3.3028e-01, 3.3028e-01, 3.3028e-01, 3.3028e-01, 3.3028e-01, 3.3028e-01],\n",
       "           [3.6000e-01, 3.6000e-01, 3.6000e-01, 3.6000e-01, 3.6000e-01, 3.6000e-01, 3.6000e-01, 3.6000e-01],\n",
       "           [3.9100e-01, 3.9100e-01, 3.9100e-01, 3.9100e-01, 3.9100e-01, 3.9100e-01, 3.9100e-01, 3.9100e-01],\n",
       "           [4.2328e-01, 4.2328e-01, 4.2328e-01, 4.2328e-01, 4.2328e-01, 4.2328e-01, 4.2328e-01, 4.2328e-01],\n",
       "           [4.5684e-01, 4.5684e-01, 4.5684e-01, 4.5684e-01, 4.5684e-01, 4.5684e-01, 4.5684e-01, 4.5684e-01],\n",
       "           [4.9168e-01, 4.9168e-01, 4.9168e-01, 4.9168e-01, 4.9168e-01, 4.9168e-01, 4.9168e-01, 4.9168e-01],\n",
       "           [5.2780e-01, 5.2780e-01, 5.2780e-01, 5.2780e-01, 5.2780e-01, 5.2780e-01, 5.2780e-01, 5.2780e-01],\n",
       "           [5.6520e-01, 5.6520e-01, 5.6520e-01, 5.6520e-01, 5.6520e-01, 5.6520e-01, 5.6520e-01, 5.6520e-01],\n",
       "           [6.0388e-01, 6.0388e-01, 6.0388e-01, 6.0388e-01, 6.0388e-01, 6.0388e-01, 6.0388e-01, 6.0388e-01],\n",
       "           [6.4384e-01, 6.4384e-01, 6.4384e-01, 6.4384e-01, 6.4384e-01, 6.4384e-01, 6.4384e-01, 6.4384e-01]]]], device='cuda:0'),\n",
       " torch.Size([1, 1, 32, 8]))"
      ]
     },
     "execution_count": 7,
     "metadata": {},
     "output_type": "execute_result"
    }
   ],
   "source": [
    "rs_torch = (qs @ ks.transpose(-1, -2) * torch.tril(torch.ones((B, NH, S, S))).to(device=DEVICE, dtype=DTYPE)) @ vs\n",
    "rs_torch, rs_torch.shape"
   ]
  },
  {
   "cell_type": "code",
   "execution_count": 8,
   "metadata": {
    "notebookRunGroups": {
     "groupValue": "1"
    }
   },
   "outputs": [
    {
     "name": "stdout",
     "output_type": "stream",
     "text": [
      "before kernel dispatch - float32!\n",
      "B: 1, NH: 1, S: 32, DH: 8\n",
      "blocksxy: 1-2, threadsxy: 4-4, shared_mem in bytes: 3972\n",
      "In Kernel: gdim.x: 1, gdim.y: 2, gdim.z: 1, bdim.x: 4, bdim.y: 4\n",
      "In Kernel: QtileDim: 8, KVtileDim: 8, TblockDim:4\n"
     ]
    },
    {
     "data": {
      "text/plain": [
       "(tensor([[[[2.8000e-04, 2.8000e-04, 2.8000e-04, 2.8000e-04, 2.8000e-04, 2.8000e-04, 2.8000e-04, 2.8000e-04],\n",
       "           [1.8400e-03, 1.8400e-03, 1.8400e-03, 1.8400e-03, 1.8400e-03, 1.8400e-03, 1.8400e-03, 1.8400e-03],\n",
       "           [4.6800e-03, 4.6800e-03, 4.6800e-03, 4.6800e-03, 4.6800e-03, 4.6800e-03, 4.6800e-03, 4.6800e-03],\n",
       "           [8.8000e-03, 8.8000e-03, 8.8000e-03, 8.8000e-03, 8.8000e-03, 8.8000e-03, 8.8000e-03, 8.8000e-03],\n",
       "           [1.4200e-02, 1.4200e-02, 1.4200e-02, 1.4200e-02, 1.4200e-02, 1.4200e-02, 1.4200e-02, 1.4200e-02],\n",
       "           [2.0880e-02, 2.0880e-02, 2.0880e-02, 2.0880e-02, 2.0880e-02, 2.0880e-02, 2.0880e-02, 2.0880e-02],\n",
       "           [2.8840e-02, 2.8840e-02, 2.8840e-02, 2.8840e-02, 2.8840e-02, 2.8840e-02, 2.8840e-02, 2.8840e-02],\n",
       "           [3.8080e-02, 3.8080e-02, 3.8080e-02, 3.8080e-02, 3.8080e-02, 3.8080e-02, 3.8080e-02, 3.8080e-02],\n",
       "           [4.8600e-02, 4.8600e-02, 4.8600e-02, 4.8600e-02, 4.8600e-02, 4.8600e-02, 4.8600e-02, 4.8600e-02],\n",
       "           [6.0400e-02, 6.0400e-02, 6.0400e-02, 6.0400e-02, 6.0400e-02, 6.0400e-02, 6.0400e-02, 6.0400e-02],\n",
       "           [7.3480e-02, 7.3480e-02, 7.3480e-02, 7.3480e-02, 7.3480e-02, 7.3480e-02, 7.3480e-02, 7.3480e-02],\n",
       "           [8.7840e-02, 8.7840e-02, 8.7840e-02, 8.7840e-02, 8.7840e-02, 8.7840e-02, 8.7840e-02, 8.7840e-02],\n",
       "           [1.0348e-01, 1.0348e-01, 1.0348e-01, 1.0348e-01, 1.0348e-01, 1.0348e-01, 1.0348e-01, 1.0348e-01],\n",
       "           [1.2040e-01, 1.2040e-01, 1.2040e-01, 1.2040e-01, 1.2040e-01, 1.2040e-01, 1.2040e-01, 1.2040e-01],\n",
       "           [1.3860e-01, 1.3860e-01, 1.3860e-01, 1.3860e-01, 1.3860e-01, 1.3860e-01, 1.3860e-01, 1.3860e-01],\n",
       "           [1.5808e-01, 1.5808e-01, 1.5808e-01, 1.5808e-01, 1.5808e-01, 1.5808e-01, 1.5808e-01, 1.5808e-01],\n",
       "           [1.7884e-01, 1.7884e-01, 1.7884e-01, 1.7884e-01, 1.7884e-01, 1.7884e-01, 1.7884e-01, 1.7884e-01],\n",
       "           [2.0088e-01, 2.0088e-01, 2.0088e-01, 2.0088e-01, 2.0088e-01, 2.0088e-01, 2.0088e-01, 2.0088e-01],\n",
       "           [2.2420e-01, 2.2420e-01, 2.2420e-01, 2.2420e-01, 2.2420e-01, 2.2420e-01, 2.2420e-01, 2.2420e-01],\n",
       "           [2.4880e-01, 2.4880e-01, 2.4880e-01, 2.4880e-01, 2.4880e-01, 2.4880e-01, 2.4880e-01, 2.4880e-01],\n",
       "           [2.7468e-01, 2.7468e-01, 2.7468e-01, 2.7468e-01, 2.7468e-01, 2.7468e-01, 2.7468e-01, 2.7468e-01],\n",
       "           [3.0184e-01, 3.0184e-01, 3.0184e-01, 3.0184e-01, 3.0184e-01, 3.0184e-01, 3.0184e-01, 3.0184e-01],\n",
       "           [3.3028e-01, 3.3028e-01, 3.3028e-01, 3.3028e-01, 3.3028e-01, 3.3028e-01, 3.3028e-01, 3.3028e-01],\n",
       "           [3.6000e-01, 3.6000e-01, 3.6000e-01, 3.6000e-01, 3.6000e-01, 3.6000e-01, 3.6000e-01, 3.6000e-01],\n",
       "           [3.9100e-01, 3.9100e-01, 3.9100e-01, 3.9100e-01, 3.9100e-01, 3.9100e-01, 3.9100e-01, 3.9100e-01],\n",
       "           [4.2328e-01, 4.2328e-01, 4.2328e-01, 4.2328e-01, 4.2328e-01, 4.2328e-01, 4.2328e-01, 4.2328e-01],\n",
       "           [4.5684e-01, 4.5684e-01, 4.5684e-01, 4.5684e-01, 4.5684e-01, 4.5684e-01, 4.5684e-01, 4.5684e-01],\n",
       "           [4.9168e-01, 4.9168e-01, 4.9168e-01, 4.9168e-01, 4.9168e-01, 4.9168e-01, 4.9168e-01, 4.9168e-01],\n",
       "           [5.2780e-01, 5.2780e-01, 5.2780e-01, 5.2780e-01, 5.2780e-01, 5.2780e-01, 5.2780e-01, 5.2780e-01],\n",
       "           [5.6520e-01, 5.6520e-01, 5.6520e-01, 5.6520e-01, 5.6520e-01, 5.6520e-01, 5.6520e-01, 5.6520e-01],\n",
       "           [6.0388e-01, 6.0388e-01, 6.0388e-01, 6.0388e-01, 6.0388e-01, 6.0388e-01, 6.0388e-01, 6.0388e-01],\n",
       "           [6.4384e-01, 6.4384e-01, 6.4384e-01, 6.4384e-01, 6.4384e-01, 6.4384e-01, 6.4384e-01, 6.4384e-01]]]], device='cuda:0'),\n",
       " torch.Size([1, 1, 32, 8]))"
      ]
     },
     "execution_count": 8,
     "metadata": {},
     "output_type": "execute_result"
    }
   ],
   "source": [
    "# cuda kernel\n",
    "rs_cuda = vlstm_fw_cuda(mat_Q=qs, mat_K=ks, mat_V=vs)\n",
    "rs_cuda, rs_cuda.shape"
   ]
  },
  {
   "cell_type": "code",
   "execution_count": 11,
   "metadata": {},
   "outputs": [
    {
     "data": {
      "text/plain": [
       "tensor([[[[ 0.0000e+00,  0.0000e+00,  0.0000e+00,  0.0000e+00,  0.0000e+00,  0.0000e+00,  0.0000e+00,  0.0000e+00],\n",
       "          [ 0.0000e+00,  0.0000e+00,  0.0000e+00,  0.0000e+00,  0.0000e+00,  0.0000e+00,  0.0000e+00,  0.0000e+00],\n",
       "          [ 0.0000e+00,  0.0000e+00,  0.0000e+00,  0.0000e+00,  0.0000e+00,  0.0000e+00,  0.0000e+00,  0.0000e+00],\n",
       "          [ 0.0000e+00,  0.0000e+00,  0.0000e+00,  0.0000e+00,  0.0000e+00,  0.0000e+00,  0.0000e+00,  0.0000e+00],\n",
       "          [ 0.0000e+00,  0.0000e+00,  0.0000e+00,  0.0000e+00,  0.0000e+00,  0.0000e+00,  0.0000e+00,  0.0000e+00],\n",
       "          [ 0.0000e+00,  0.0000e+00,  0.0000e+00,  0.0000e+00,  0.0000e+00,  0.0000e+00,  0.0000e+00,  0.0000e+00],\n",
       "          [ 0.0000e+00,  0.0000e+00,  0.0000e+00,  0.0000e+00,  0.0000e+00,  0.0000e+00,  0.0000e+00,  0.0000e+00],\n",
       "          [ 0.0000e+00,  0.0000e+00,  0.0000e+00,  0.0000e+00,  0.0000e+00,  0.0000e+00,  0.0000e+00,  0.0000e+00],\n",
       "          [ 0.0000e+00,  0.0000e+00,  0.0000e+00,  0.0000e+00,  0.0000e+00,  0.0000e+00,  0.0000e+00,  0.0000e+00],\n",
       "          [ 0.0000e+00,  0.0000e+00,  0.0000e+00,  0.0000e+00,  0.0000e+00,  0.0000e+00,  0.0000e+00,  0.0000e+00],\n",
       "          [-7.4506e-09, -7.4506e-09, -7.4506e-09, -7.4506e-09, -7.4506e-09, -7.4506e-09, -7.4506e-09, -7.4506e-09],\n",
       "          [ 7.4506e-09,  7.4506e-09,  7.4506e-09,  7.4506e-09,  7.4506e-09,  7.4506e-09,  7.4506e-09,  7.4506e-09],\n",
       "          [ 0.0000e+00,  0.0000e+00,  0.0000e+00,  0.0000e+00,  0.0000e+00,  0.0000e+00,  0.0000e+00,  0.0000e+00],\n",
       "          [-2.2352e-08, -2.2352e-08, -2.2352e-08, -2.2352e-08, -2.2352e-08, -2.2352e-08, -2.2352e-08, -2.2352e-08],\n",
       "          [ 1.4901e-08,  1.4901e-08,  1.4901e-08,  1.4901e-08,  1.4901e-08,  1.4901e-08,  1.4901e-08,  1.4901e-08],\n",
       "          [ 1.4901e-08,  1.4901e-08,  1.4901e-08,  1.4901e-08,  1.4901e-08,  1.4901e-08,  1.4901e-08,  1.4901e-08],\n",
       "          [-1.4901e-08, -1.4901e-08, -1.4901e-08, -1.4901e-08, -1.4901e-08, -1.4901e-08, -1.4901e-08, -1.4901e-08],\n",
       "          [ 1.4901e-08,  1.4901e-08,  1.4901e-08,  1.4901e-08,  1.4901e-08,  1.4901e-08,  1.4901e-08,  1.4901e-08],\n",
       "          [ 4.4703e-08,  4.4703e-08,  4.4703e-08,  4.4703e-08,  4.4703e-08,  4.4703e-08,  4.4703e-08,  4.4703e-08],\n",
       "          [-4.4703e-08, -4.4703e-08, -4.4703e-08, -4.4703e-08, -4.4703e-08, -4.4703e-08, -4.4703e-08, -4.4703e-08],\n",
       "          [ 0.0000e+00,  0.0000e+00,  0.0000e+00,  0.0000e+00,  0.0000e+00,  0.0000e+00,  0.0000e+00,  0.0000e+00],\n",
       "          [ 8.9407e-08,  8.9407e-08,  8.9407e-08,  8.9407e-08,  8.9407e-08,  8.9407e-08,  8.9407e-08,  8.9407e-08],\n",
       "          [ 0.0000e+00,  0.0000e+00,  0.0000e+00,  0.0000e+00,  0.0000e+00,  0.0000e+00,  0.0000e+00,  0.0000e+00],\n",
       "          [-5.9605e-08, -5.9605e-08, -5.9605e-08, -5.9605e-08, -5.9605e-08, -5.9605e-08, -5.9605e-08, -5.9605e-08],\n",
       "          [ 0.0000e+00,  0.0000e+00,  0.0000e+00,  0.0000e+00,  0.0000e+00,  0.0000e+00,  0.0000e+00,  0.0000e+00],\n",
       "          [-5.9605e-08, -5.9605e-08, -5.9605e-08, -5.9605e-08, -5.9605e-08, -5.9605e-08, -5.9605e-08, -5.9605e-08],\n",
       "          [ 0.0000e+00,  0.0000e+00,  0.0000e+00,  0.0000e+00,  0.0000e+00,  0.0000e+00,  0.0000e+00,  0.0000e+00],\n",
       "          [ 8.9407e-08,  8.9407e-08,  8.9407e-08,  8.9407e-08,  8.9407e-08,  8.9407e-08,  8.9407e-08,  8.9407e-08],\n",
       "          [ 1.1921e-07,  1.1921e-07,  1.1921e-07,  1.1921e-07,  1.1921e-07,  1.1921e-07,  1.1921e-07,  1.1921e-07],\n",
       "          [-5.9605e-08, -5.9605e-08, -5.9605e-08, -5.9605e-08, -5.9605e-08, -5.9605e-08, -5.9605e-08, -5.9605e-08],\n",
       "          [-1.7881e-07, -1.7881e-07, -1.7881e-07, -1.7881e-07, -1.7881e-07, -1.7881e-07, -1.7881e-07, -1.7881e-07],\n",
       "          [ 1.7881e-07,  1.7881e-07,  1.7881e-07,  1.7881e-07,  1.7881e-07,  1.7881e-07,  1.7881e-07,  1.7881e-07]]]], device='cuda:0')"
      ]
     },
     "execution_count": 11,
     "metadata": {},
     "output_type": "execute_result"
    }
   ],
   "source": [
    "rs_torch - rs_cuda"
   ]
  },
  {
   "cell_type": "code",
   "execution_count": null,
   "metadata": {},
   "outputs": [],
   "source": []
  },
  {
   "cell_type": "code",
   "execution_count": null,
   "metadata": {},
   "outputs": [],
   "source": []
  }
 ],
 "metadata": {
  "kernelspec": {
   "display_name": "xlstmpt21cu121",
   "language": "python",
   "name": "python3"
  },
  "language_info": {
   "codemirror_mode": {
    "name": "ipython",
    "version": 3
   },
   "file_extension": ".py",
   "mimetype": "text/x-python",
   "name": "python",
   "nbconvert_exporter": "python",
   "pygments_lexer": "ipython3",
   "version": "3.11.7"
  }
 },
 "nbformat": 4,
 "nbformat_minor": 2
}
