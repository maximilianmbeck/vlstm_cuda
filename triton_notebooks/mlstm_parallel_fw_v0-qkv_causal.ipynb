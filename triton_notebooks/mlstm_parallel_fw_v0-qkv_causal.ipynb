{
 "cells": [
  {
   "cell_type": "code",
   "execution_count": 1,
   "metadata": {},
   "outputs": [],
   "source": [
    "import sys\n",
    "\n",
    "sys.path.append('/home/max/myrepos/vlstm_cuda/')\n",
    "\n",
    "import torch\n",
    "torch.set_printoptions(linewidth=200, threshold=100000)\n",
    "import triton\n",
    "import triton.language as tl\n",
    "import math"
   ]
  },
  {
   "cell_type": "code",
   "execution_count": 2,
   "metadata": {},
   "outputs": [
    {
     "data": {
      "text/plain": [
       "GPUTarget(backend='cuda', arch=89, warp_size=32)"
      ]
     },
     "execution_count": 2,
     "metadata": {},
     "output_type": "execute_result"
    }
   ],
   "source": [
    "triton.runtime.driver.active.get_current_target()"
   ]
  },
  {
   "cell_type": "code",
   "execution_count": 3,
   "metadata": {},
   "outputs": [],
   "source": [
    "from src_triton.mlstm_parallel_fw_v0.qkv_causal import qkv_fw\n",
    "from src_triton.utils import lower_triangular_block_matrix"
   ]
  },
  {
   "cell_type": "code",
   "execution_count": 4,
   "metadata": {},
   "outputs": [
    {
     "data": {
      "text/plain": [
       "[]"
      ]
     },
     "execution_count": 4,
     "metadata": {},
     "output_type": "execute_result"
    }
   ],
   "source": [
    "list(range(0,0*8,4))"
   ]
  },
  {
   "cell_type": "code",
   "execution_count": 5,
   "metadata": {},
   "outputs": [],
   "source": [
    "S = 128 #32 #32 #16 #8 # seq len\n",
    "B = 1 # batch size\n",
    "NH = 1 # num heads\n",
    "DH = 32 # dim per head\n",
    "DTYPE = torch.float32\n",
    "DEVICE = torch.device(\"cuda:0\")"
   ]
  },
  {
   "cell_type": "code",
   "execution_count": 6,
   "metadata": {},
   "outputs": [],
   "source": [
    "# create qkv, inputgates, forgetgates \n",
    "torch.manual_seed(1) #TODO from here: with seed=0 even the pytorch version alone breaks for float16 and bfloat16\n",
    "# fixed:\n",
    "# qs = torch.arange((B*NH*S*DH), device=DEVICE, dtype=DTYPE).reshape((B, NH, S, DH)) / 10.\n",
    "# qs = torch.ones((B, NH, S, DH), device=DEVICE, dtype=DTYPE) / 100.\n",
    "# ks = torch.ones((B, NH, S, DH), device=DEVICE, dtype=DTYPE) / 100.\n",
    "# # vs = torch.ones((B, NH, S, DH), device=DEVICE, dtype=DTYPE) / 100.\n",
    "# vs = torch.arange((B*NH*S*DH), device=DEVICE, dtype=DTYPE).reshape((B, NH, S, DH)) / 100.\n",
    "# # vs = torch.zeros((B, NH, S, DH), device=DEVICE, dtype=DTYPE)\n",
    "# vs[:,:,1,0] = 7.\n",
    "# qs[:,:,1,0] = 1.\n",
    "\n",
    "# vs[:,:,1,16] = 8.\n",
    "# qs[:,:,1,16] = 1.\n",
    "# random: \n",
    "qs = torch.randn((B, NH, S, DH), device=DEVICE, dtype=DTYPE)\n",
    "ks = torch.randn((B, NH, S, DH), device=DEVICE, dtype=DTYPE)\n",
    "vs = torch.randn((B, NH, S, DH), device=DEVICE, dtype=DTYPE)\n",
    "# igs = (1. + torch.arange((B * NH * S), device=DEVICE, dtype=DTYPE)).reshape(B, NH, S, 1) / 10.\n",
    "# igs = torch.zeros((B, NH, S, 1), device=DEVICE, dtype=DTYPE) #/ 10.\n",
    "igs = torch.randn((B, NH, S, 1), device=DEVICE, dtype=DTYPE) #/ 10.\n",
    "# fgs = torch.ones((B, NH, S, 1), device=DEVICE, dtype=DTYPE)\n",
    "fgs = torch.randn((B, NH, S, 1), device=DEVICE, dtype=DTYPE)\n",
    "\n",
    "dHs = torch.randn((B, NH, S, DH), device=DEVICE, dtype=DTYPE)"
   ]
  },
  {
   "cell_type": "code",
   "execution_count": 7,
   "metadata": {},
   "outputs": [],
   "source": [
    "# inputs float16\n",
    "dtype_fp16 = torch.float16\n",
    "qs_half = qs.to(dtype=dtype_fp16)\n",
    "ks_half = ks.to(dtype=dtype_fp16)\n",
    "vs_half = vs.to(dtype=dtype_fp16)\n",
    "igs_half = igs.to(dtype=dtype_fp16)\n",
    "fgs_half = fgs.to(dtype=dtype_fp16)\n",
    "dHs_half = dHs.to(dtype=dtype_fp16)"
   ]
  },
  {
   "cell_type": "code",
   "execution_count": 8,
   "metadata": {},
   "outputs": [],
   "source": [
    "# inputs bfloat16\n",
    "dtype_bf16 = torch.bfloat16\n",
    "qs_bf16 = qs.to(dtype=dtype_bf16)\n",
    "ks_bf16 = ks.to(dtype=dtype_bf16)\n",
    "vs_bf16 = vs.to(dtype=dtype_bf16)\n",
    "igs_bf16 = igs.to(dtype=dtype_bf16)\n",
    "fgs_bf16 = fgs.to(dtype=dtype_bf16)\n",
    "dHs_bf16 = dHs.to(dtype=dtype_bf16)"
   ]
  },
  {
   "cell_type": "code",
   "execution_count": 9,
   "metadata": {},
   "outputs": [
    {
     "name": "stdout",
     "output_type": "stream",
     "text": [
      "Triton grid: (2, 1, 1), BLOCK_Q: 64, BLOCK_KV: 32\n"
     ]
    },
    {
     "name": "stderr",
     "output_type": "stream",
     "text": [
      "loc(\"/home/max/myrepos/vlstm_cuda/src_triton/mlstm_parallel_fw_v0/qkv_causal.py\":142:11): error: operation scheduled before its operands\n"
     ]
    }
   ],
   "source": [
    "hs_half, m_half, n_half = qkv_fw(matQ=qs_half, matK=ks_half, matV=vs_half)"
   ]
  },
  {
   "cell_type": "code",
   "execution_count": 10,
   "metadata": {},
   "outputs": [],
   "source": [
    "ltr_bm = lower_triangular_block_matrix(S, 64, DEVICE, dtype=dtype_fp16)"
   ]
  },
  {
   "cell_type": "code",
   "execution_count": 21,
   "metadata": {},
   "outputs": [],
   "source": [
    "qkv_ltr_bm_half = (((qs_half @ ks_half.transpose(-2, -1))/math.sqrt(DH)) * ltr_bm) @ vs_half\n",
    "qkv_ltr_half = (((qs_half @ ks_half.transpose(-2, -1))/math.sqrt(DH)).tril()) @ vs_half"
   ]
  },
  {
   "cell_type": "code",
   "execution_count": 12,
   "metadata": {},
   "outputs": [
    {
     "data": {
      "text/plain": [
       "tensor([[[[ 0.0556,  0.0978, -0.0798, -0.0310, -0.0456, -0.0714,  0.0558, -0.1772, -0.0195, -0.0232],\n",
       "          [ 0.4043, -0.4331,  2.3691, -0.4629, -0.8281,  0.6704, -1.7412,  0.5815, -0.9185,  1.2676],\n",
       "          [-0.3669,  0.0252, -1.2998,  2.0898,  2.5176, -0.6919,  0.1941, -0.1479,  1.1895, -0.7510],\n",
       "          [-1.5811, -3.2598, -1.6387, -0.6538,  0.8394,  2.1777,  1.9600,  5.5820,  1.7295, -0.9033],\n",
       "          [ 2.1289,  4.9453,  3.5410, -1.0029, -1.8477, -0.9902, -2.0371, -5.7070, -0.3657,  1.8633],\n",
       "          [-0.6030, -0.3259, -0.2749, -1.3096,  1.0742,  3.0039,  1.0791,  2.6875,  1.7773,  0.4509],\n",
       "          [ 0.0750, -4.1094, -0.3271,  0.9980,  1.9805, -0.9873, -0.7314,  5.1094,  2.4902, -1.1396],\n",
       "          [-3.4785, -8.0625, -3.8281, -4.5938, -3.9336, -2.2715,  1.2090,  1.7812, -4.9805, -4.3516],\n",
       "          [-2.4160,  3.4512, -3.9473,  2.7832,  4.2344, -1.8193,  1.7090,  1.1094,  1.1631, -4.5156],\n",
       "          [ 0.6387, -5.1914,  2.9902, -2.9297,  0.0646,  2.2695, -1.5391,  0.6274, -0.8716,  4.0938]]]], device='cuda:0', dtype=torch.float16)"
      ]
     },
     "execution_count": 12,
     "metadata": {},
     "output_type": "execute_result"
    }
   ],
   "source": [
    "hs_half[:, :, :10, :10]"
   ]
  },
  {
   "cell_type": "code",
   "execution_count": 22,
   "metadata": {},
   "outputs": [
    {
     "data": {
      "text/plain": [
       "tensor([[[[ 0.0556,  0.0978, -0.0797, -0.0310, -0.0456, -0.0714,  0.0558, -0.1771, -0.0195, -0.0231],\n",
       "          [ 0.4043, -0.4331,  2.3691, -0.4629, -0.8281,  0.6704, -1.7412,  0.5815, -0.9185,  1.2676],\n",
       "          [-0.3669,  0.0252, -1.2998,  2.0898,  2.5176, -0.6919,  0.1941, -0.1479,  1.1895, -0.7510],\n",
       "          [-1.5811, -3.2598, -1.6367, -0.6533,  0.8394,  2.1777,  1.9590,  5.5859,  1.7295, -0.9028],\n",
       "          [ 2.1289,  4.9453,  3.5410, -1.0029, -1.8477, -0.9902, -2.0371, -5.7070, -0.3657,  1.8633],\n",
       "          [-0.6030, -0.3262, -0.2751, -1.3096,  1.0752,  3.0039,  1.0791,  2.6875,  1.7773,  0.4509],\n",
       "          [ 0.0748, -4.1094, -0.3269,  0.9980,  1.9805, -0.9868, -0.7319,  5.1094,  2.4902, -1.1396],\n",
       "          [-3.4785, -8.0625, -3.8281, -4.5938, -3.9336, -2.2715,  1.2100,  1.7822, -4.9805, -4.3516],\n",
       "          [-2.4160,  3.4512, -3.9453,  2.7812,  4.2344, -1.8193,  1.7070,  1.1094,  1.1621, -4.5156],\n",
       "          [ 0.6382, -5.1875,  2.9922, -2.9297,  0.0643,  2.2695, -1.5391,  0.6270, -0.8726,  4.0938]]]], device='cuda:0', dtype=torch.float16)"
      ]
     },
     "execution_count": 22,
     "metadata": {},
     "output_type": "execute_result"
    }
   ],
   "source": [
    "qkv_ltr_half[:, :, :10, :10]"
   ]
  },
  {
   "cell_type": "code",
   "execution_count": 23,
   "metadata": {},
   "outputs": [],
   "source": [
    "res_diff = hs_half - qkv_ltr_half"
   ]
  },
  {
   "cell_type": "code",
   "execution_count": 25,
   "metadata": {},
   "outputs": [
    {
     "data": {
      "text/plain": [
       "(tensor([[[[ 3.0518e-05,  6.1035e-05, -6.1035e-05, -1.5259e-05, -3.0518e-05, -6.1035e-05,  3.0518e-05, -1.2207e-04, -1.5259e-05, -1.5259e-05],\n",
       "           [ 0.0000e+00,  0.0000e+00,  0.0000e+00,  0.0000e+00,  0.0000e+00,  0.0000e+00,  0.0000e+00,  0.0000e+00,  0.0000e+00,  0.0000e+00],\n",
       "           [ 0.0000e+00,  0.0000e+00,  0.0000e+00,  0.0000e+00,  0.0000e+00,  0.0000e+00,  0.0000e+00,  0.0000e+00,  0.0000e+00,  0.0000e+00],\n",
       "           [ 0.0000e+00,  0.0000e+00, -1.9531e-03, -4.8828e-04,  0.0000e+00,  0.0000e+00,  9.7656e-04, -3.9062e-03,  0.0000e+00, -4.8828e-04],\n",
       "           [ 0.0000e+00,  0.0000e+00,  0.0000e+00,  0.0000e+00,  0.0000e+00,  0.0000e+00,  0.0000e+00,  0.0000e+00,  0.0000e+00,  0.0000e+00],\n",
       "           [ 0.0000e+00,  2.4414e-04,  2.4414e-04,  0.0000e+00, -9.7656e-04,  0.0000e+00,  0.0000e+00,  0.0000e+00,  0.0000e+00,  0.0000e+00],\n",
       "           [ 1.2207e-04,  0.0000e+00, -2.4414e-04,  0.0000e+00,  0.0000e+00, -4.8828e-04,  4.8828e-04,  0.0000e+00,  0.0000e+00,  0.0000e+00],\n",
       "           [ 0.0000e+00,  0.0000e+00,  0.0000e+00,  0.0000e+00,  0.0000e+00,  0.0000e+00, -9.7656e-04, -9.7656e-04,  0.0000e+00,  0.0000e+00],\n",
       "           [ 0.0000e+00,  0.0000e+00, -1.9531e-03,  1.9531e-03,  0.0000e+00,  0.0000e+00,  1.9531e-03,  0.0000e+00,  9.7656e-04,  0.0000e+00],\n",
       "           [ 4.8828e-04, -3.9062e-03, -1.9531e-03,  0.0000e+00,  3.0518e-04,  0.0000e+00,  0.0000e+00,  4.8828e-04,  9.7656e-04,  0.0000e+00]]]], device='cuda:0', dtype=torch.float16),\n",
       " torch.Size([1, 1, 128, 32]))"
      ]
     },
     "execution_count": 25,
     "metadata": {},
     "output_type": "execute_result"
    }
   ],
   "source": [
    "res_diff[:, :, :10, :10], res_diff.shape"
   ]
  },
  {
   "cell_type": "code",
   "execution_count": 16,
   "metadata": {},
   "outputs": [
    {
     "data": {
      "text/plain": [
       "tensor(30.5000, device='cuda:0', dtype=torch.float16)"
      ]
     },
     "execution_count": 16,
     "metadata": {},
     "output_type": "execute_result"
    }
   ],
   "source": [
    "torch.max(torch.abs(res_diff))"
   ]
  },
  {
   "cell_type": "code",
   "execution_count": 17,
   "metadata": {},
   "outputs": [
    {
     "data": {
      "text/plain": [
       "(4096, 4096, 32, 1)"
      ]
     },
     "execution_count": 17,
     "metadata": {},
     "output_type": "execute_result"
    }
   ],
   "source": [
    "qs_half.stride(0), qs_half.stride(1), qs_half.stride(2), qs_half.stride(3)"
   ]
  },
  {
   "cell_type": "code",
   "execution_count": 18,
   "metadata": {},
   "outputs": [
    {
     "data": {
      "text/plain": [
       "1"
      ]
     },
     "execution_count": 18,
     "metadata": {},
     "output_type": "execute_result"
    }
   ],
   "source": [
    "3 & 1"
   ]
  },
  {
   "cell_type": "code",
   "execution_count": 19,
   "metadata": {},
   "outputs": [
    {
     "data": {
      "text/plain": [
       "True"
      ]
     },
     "execution_count": 19,
     "metadata": {},
     "output_type": "execute_result"
    }
   ],
   "source": [
    "bool(3 & 2)"
   ]
  },
  {
   "cell_type": "code",
   "execution_count": null,
   "metadata": {},
   "outputs": [],
   "source": []
  }
 ],
 "metadata": {
  "kernelspec": {
   "display_name": "xlstmpt240cu121",
   "language": "python",
   "name": "python3"
  },
  "language_info": {
   "codemirror_mode": {
    "name": "ipython",
    "version": 3
   },
   "file_extension": ".py",
   "mimetype": "text/x-python",
   "name": "python",
   "nbconvert_exporter": "python",
   "pygments_lexer": "ipython3",
   "version": "3.11.9"
  }
 },
 "nbformat": 4,
 "nbformat_minor": 2
}
