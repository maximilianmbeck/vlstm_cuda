{
 "cells": [
  {
   "cell_type": "code",
   "execution_count": 1,
   "metadata": {},
   "outputs": [],
   "source": [
    "import torch"
   ]
  },
  {
   "cell_type": "markdown",
   "metadata": {},
   "source": [
    "# Shared Memory computation"
   ]
  },
  {
   "cell_type": "markdown",
   "metadata": {},
   "source": [
    "## forward pass"
   ]
  },
  {
   "cell_type": "code",
   "execution_count": 2,
   "metadata": {},
   "outputs": [],
   "source": [
    "# forward pass\n",
    "\n",
    "\n",
    "def forward_shared_mem_in_bytes(\n",
    "    q_tile_dim: int,\n",
    "    kv_tile_dim: int,\n",
    "    head_dim: int,\n",
    "    shared_mem_padding_tile: int,\n",
    "    shared_mem_padding_chunk: int,\n",
    "    sof_bf16_bytes: int = 2,\n",
    "    sof_fp32_bytes: int = 4,\n",
    "    c_tile_dtype: str = \"bf16\",\n",
    "    d_tile_dtype: str = \"bf16\",\n",
    ") -> int:\n",
    "\n",
    "    # 1. q_tile\n",
    "    q_tile_size = sof_bf16_bytes * q_tile_dim * (head_dim + shared_mem_padding_tile)\n",
    "\n",
    "    # 2. kv_tile\n",
    "    kv_tile_size = sof_bf16_bytes * kv_tile_dim * (head_dim + shared_mem_padding_tile)\n",
    "\n",
    "    # 3. d_tile\n",
    "    d_tile_size_bf16 = sof_bf16_bytes * q_tile_dim * (kv_tile_dim + shared_mem_padding_tile)\n",
    "    d_tile_size_fp32 = sof_fp32_bytes * q_tile_dim * (kv_tile_dim + shared_mem_padding_tile)\n",
    "\n",
    "    # 4. c_tile\n",
    "    n_col_c_tile = max(kv_tile_dim, head_dim)\n",
    "    c_tile_size_bf16 = sof_bf16_bytes * q_tile_dim * (n_col_c_tile + shared_mem_padding_tile)\n",
    "    c_tile_size_fp32 = sof_fp32_bytes * q_tile_dim * (n_col_c_tile + shared_mem_padding_tile)\n",
    "    \n",
    "    # 4. i_chunk\n",
    "    i_chunk_size = sof_bf16_bytes * kv_tile_dim * (1 + shared_mem_padding_chunk)\n",
    "\n",
    "    # 5. f_chunk\n",
    "    f_chunk_size = sof_bf16_bytes * q_tile_dim * (1 + shared_mem_padding_chunk)\n",
    "    f_tilecol_chunk_size = sof_fp32_bytes * q_tile_dim * (1 + shared_mem_padding_chunk)\n",
    "\n",
    "    # 6. mnl_chunk\n",
    "    mnl_chunk_size = sof_bf16_bytes * q_tile_dim * (1 + shared_mem_padding_chunk)\n",
    "\n",
    "    total_bytes = 2 * q_tile_size + 1 * kv_tile_size + 1 * i_chunk_size + 1 * f_chunk_size + 1 * f_tilecol_chunk_size + 6 * mnl_chunk_size\n",
    "    if c_tile_dtype == \"fp32\":\n",
    "        total_bytes += c_tile_size_fp32\n",
    "    else:\n",
    "        total_bytes += c_tile_size_bf16\n",
    "    if d_tile_dtype == \"fp32\":\n",
    "        total_bytes += d_tile_size_fp32\n",
    "    else:\n",
    "        total_bytes += d_tile_size_bf16\n",
    "    return total_bytes"
   ]
  },
  {
   "cell_type": "code",
   "execution_count": 3,
   "metadata": {},
   "outputs": [],
   "source": [
    "Q_TILE_DIMS = [64, 128]\n",
    "KV_TILE_DIMS = [64, 128]\n",
    "\n",
    "Q_KV_TILE_DIM_TUPLES = [(64, 64), (128, 64), (128, 128)]\n",
    "\n",
    "HEAD_DIMS = [64, 96, 128, 160, 192, 224, 256]\n",
    "\n",
    "SHMEM_PADDING_TILE = 16\n",
    "SHMEM_PADDING_CHUNK = 4"
   ]
  },
  {
   "cell_type": "code",
   "execution_count": 4,
   "metadata": {},
   "outputs": [
    {
     "name": "stdout",
     "output_type": "stream",
     "text": [
      "cdTile(bf16, bf16): q_tile_dim=64, kv_tile_dim=64, head_dim=64, shmem_bytes=57600\n",
      "cdTile(bf16, bf16): q_tile_dim=64, kv_tile_dim=64, head_dim=96, shmem_bytes=73984\n",
      "cdTile(bf16, bf16): q_tile_dim=64, kv_tile_dim=64, head_dim=128, shmem_bytes=90368\n",
      "cdTile(bf16, bf16): q_tile_dim=64, kv_tile_dim=64, head_dim=160, shmem_bytes=106752\n",
      "cdTile(bf16, bf16): q_tile_dim=64, kv_tile_dim=64, head_dim=192, shmem_bytes=123136\n",
      "cdTile(bf16, bf16): q_tile_dim=64, kv_tile_dim=64, head_dim=224, shmem_bytes=139520\n",
      "cdTile(bf16, bf16): q_tile_dim=64, kv_tile_dim=64, head_dim=256, shmem_bytes=155904\n",
      "cdTile(bf16, bf16): q_tile_dim=128, kv_tile_dim=64, head_dim=64, shmem_bytes=104320\n",
      "cdTile(bf16, bf16): q_tile_dim=128, kv_tile_dim=64, head_dim=96, shmem_bytes=132992\n",
      "cdTile(bf16, bf16): q_tile_dim=128, kv_tile_dim=64, head_dim=128, shmem_bytes=161664\n",
      "cdTile(bf16, bf16): q_tile_dim=128, kv_tile_dim=64, head_dim=160, shmem_bytes=190336\n",
      "cdTile(bf16, bf16): q_tile_dim=128, kv_tile_dim=64, head_dim=192, shmem_bytes=219008\n",
      "cdTile(bf16, bf16): q_tile_dim=128, kv_tile_dim=64, head_dim=224, shmem_bytes=247680\n",
      "cdTile(bf16, bf16): q_tile_dim=128, kv_tile_dim=64, head_dim=256, shmem_bytes=276352\n",
      "cdTile(bf16, bf16): q_tile_dim=128, kv_tile_dim=128, head_dim=64, shmem_bytes=147968\n",
      "cdTile(bf16, bf16): q_tile_dim=128, kv_tile_dim=128, head_dim=96, shmem_bytes=172544\n",
      "cdTile(bf16, bf16): q_tile_dim=128, kv_tile_dim=128, head_dim=128, shmem_bytes=197120\n",
      "cdTile(bf16, bf16): q_tile_dim=128, kv_tile_dim=128, head_dim=160, shmem_bytes=229888\n",
      "cdTile(bf16, bf16): q_tile_dim=128, kv_tile_dim=128, head_dim=192, shmem_bytes=262656\n",
      "cdTile(bf16, bf16): q_tile_dim=128, kv_tile_dim=128, head_dim=224, shmem_bytes=295424\n",
      "cdTile(bf16, bf16): q_tile_dim=128, kv_tile_dim=128, head_dim=256, shmem_bytes=328192\n"
     ]
    }
   ],
   "source": [
    "for q_tile_dim, kv_tile_dim in Q_KV_TILE_DIM_TUPLES:\n",
    "    for head_dim in HEAD_DIMS:\n",
    "        shmem_bytes = forward_shared_mem_in_bytes(\n",
    "            q_tile_dim=q_tile_dim,\n",
    "            kv_tile_dim=kv_tile_dim,\n",
    "            head_dim=head_dim,\n",
    "            shared_mem_padding_tile=SHMEM_PADDING_TILE,\n",
    "            shared_mem_padding_chunk=SHMEM_PADDING_CHUNK,\n",
    "            c_tile_dtype=\"bf16\",\n",
    "            d_tile_dtype=\"bf16\",\n",
    "        )\n",
    "        print(f\"cdTile(bf16, bf16): q_tile_dim={q_tile_dim}, kv_tile_dim={kv_tile_dim}, head_dim={head_dim}, shmem_bytes={shmem_bytes}\")"
   ]
  },
  {
   "cell_type": "code",
   "execution_count": 5,
   "metadata": {},
   "outputs": [
    {
     "name": "stdout",
     "output_type": "stream",
     "text": [
      "cdTile(fp32, bf16): q_tile_dim=64, kv_tile_dim=64, head_dim=64, shmem_bytes=67840\n",
      "cdTile(fp32, bf16): q_tile_dim=64, kv_tile_dim=64, head_dim=96, shmem_bytes=88320\n",
      "cdTile(fp32, bf16): q_tile_dim=64, kv_tile_dim=64, head_dim=128, shmem_bytes=108800\n",
      "cdTile(fp32, bf16): q_tile_dim=64, kv_tile_dim=64, head_dim=160, shmem_bytes=129280\n",
      "cdTile(fp32, bf16): q_tile_dim=64, kv_tile_dim=64, head_dim=192, shmem_bytes=149760\n",
      "cdTile(fp32, bf16): q_tile_dim=64, kv_tile_dim=64, head_dim=224, shmem_bytes=170240\n",
      "cdTile(fp32, bf16): q_tile_dim=64, kv_tile_dim=64, head_dim=256, shmem_bytes=190720\n",
      "cdTile(fp32, bf16): q_tile_dim=128, kv_tile_dim=64, head_dim=64, shmem_bytes=124800\n",
      "cdTile(fp32, bf16): q_tile_dim=128, kv_tile_dim=64, head_dim=96, shmem_bytes=161664\n",
      "cdTile(fp32, bf16): q_tile_dim=128, kv_tile_dim=64, head_dim=128, shmem_bytes=198528\n",
      "cdTile(fp32, bf16): q_tile_dim=128, kv_tile_dim=64, head_dim=160, shmem_bytes=235392\n",
      "cdTile(fp32, bf16): q_tile_dim=128, kv_tile_dim=64, head_dim=192, shmem_bytes=272256\n",
      "cdTile(fp32, bf16): q_tile_dim=128, kv_tile_dim=64, head_dim=224, shmem_bytes=309120\n",
      "cdTile(fp32, bf16): q_tile_dim=128, kv_tile_dim=64, head_dim=256, shmem_bytes=345984\n",
      "cdTile(fp32, bf16): q_tile_dim=128, kv_tile_dim=128, head_dim=64, shmem_bytes=184832\n",
      "cdTile(fp32, bf16): q_tile_dim=128, kv_tile_dim=128, head_dim=96, shmem_bytes=209408\n",
      "cdTile(fp32, bf16): q_tile_dim=128, kv_tile_dim=128, head_dim=128, shmem_bytes=233984\n",
      "cdTile(fp32, bf16): q_tile_dim=128, kv_tile_dim=128, head_dim=160, shmem_bytes=274944\n",
      "cdTile(fp32, bf16): q_tile_dim=128, kv_tile_dim=128, head_dim=192, shmem_bytes=315904\n",
      "cdTile(fp32, bf16): q_tile_dim=128, kv_tile_dim=128, head_dim=224, shmem_bytes=356864\n",
      "cdTile(fp32, bf16): q_tile_dim=128, kv_tile_dim=128, head_dim=256, shmem_bytes=397824\n"
     ]
    }
   ],
   "source": [
    "for q_tile_dim, kv_tile_dim in Q_KV_TILE_DIM_TUPLES:\n",
    "    for head_dim in HEAD_DIMS:\n",
    "        shmem_bytes = forward_shared_mem_in_bytes(\n",
    "            q_tile_dim=q_tile_dim,\n",
    "            kv_tile_dim=kv_tile_dim,\n",
    "            head_dim=head_dim,\n",
    "            shared_mem_padding_tile=SHMEM_PADDING_TILE,\n",
    "            shared_mem_padding_chunk=SHMEM_PADDING_CHUNK,\n",
    "            c_tile_dtype=\"fp32\",\n",
    "            d_tile_dtype=\"bf16\",\n",
    "        )\n",
    "        print(f\"cdTile(fp32, bf16): q_tile_dim={q_tile_dim}, kv_tile_dim={kv_tile_dim}, head_dim={head_dim}, shmem_bytes={shmem_bytes}\")"
   ]
  },
  {
   "cell_type": "code",
   "execution_count": 6,
   "metadata": {},
   "outputs": [
    {
     "name": "stdout",
     "output_type": "stream",
     "text": [
      "cdTile(fp32, fp32): q_tile_dim=64, kv_tile_dim=64, head_dim=64, shmem_bytes=78080\n",
      "cdTile(fp32, fp32): q_tile_dim=64, kv_tile_dim=64, head_dim=96, shmem_bytes=98560\n",
      "cdTile(fp32, fp32): q_tile_dim=64, kv_tile_dim=64, head_dim=128, shmem_bytes=119040\n",
      "cdTile(fp32, fp32): q_tile_dim=64, kv_tile_dim=64, head_dim=160, shmem_bytes=139520\n",
      "cdTile(fp32, fp32): q_tile_dim=64, kv_tile_dim=64, head_dim=192, shmem_bytes=160000\n",
      "cdTile(fp32, fp32): q_tile_dim=64, kv_tile_dim=64, head_dim=224, shmem_bytes=180480\n",
      "cdTile(fp32, fp32): q_tile_dim=64, kv_tile_dim=64, head_dim=256, shmem_bytes=200960\n",
      "cdTile(fp32, fp32): q_tile_dim=128, kv_tile_dim=64, head_dim=64, shmem_bytes=145280\n",
      "cdTile(fp32, fp32): q_tile_dim=128, kv_tile_dim=64, head_dim=96, shmem_bytes=182144\n",
      "cdTile(fp32, fp32): q_tile_dim=128, kv_tile_dim=64, head_dim=128, shmem_bytes=219008\n",
      "cdTile(fp32, fp32): q_tile_dim=128, kv_tile_dim=64, head_dim=160, shmem_bytes=255872\n",
      "cdTile(fp32, fp32): q_tile_dim=128, kv_tile_dim=64, head_dim=192, shmem_bytes=292736\n",
      "cdTile(fp32, fp32): q_tile_dim=128, kv_tile_dim=64, head_dim=224, shmem_bytes=329600\n",
      "cdTile(fp32, fp32): q_tile_dim=128, kv_tile_dim=64, head_dim=256, shmem_bytes=366464\n",
      "cdTile(fp32, fp32): q_tile_dim=128, kv_tile_dim=128, head_dim=64, shmem_bytes=221696\n",
      "cdTile(fp32, fp32): q_tile_dim=128, kv_tile_dim=128, head_dim=96, shmem_bytes=246272\n",
      "cdTile(fp32, fp32): q_tile_dim=128, kv_tile_dim=128, head_dim=128, shmem_bytes=270848\n",
      "cdTile(fp32, fp32): q_tile_dim=128, kv_tile_dim=128, head_dim=160, shmem_bytes=311808\n",
      "cdTile(fp32, fp32): q_tile_dim=128, kv_tile_dim=128, head_dim=192, shmem_bytes=352768\n",
      "cdTile(fp32, fp32): q_tile_dim=128, kv_tile_dim=128, head_dim=224, shmem_bytes=393728\n",
      "cdTile(fp32, fp32): q_tile_dim=128, kv_tile_dim=128, head_dim=256, shmem_bytes=434688\n"
     ]
    }
   ],
   "source": [
    "for q_tile_dim, kv_tile_dim in Q_KV_TILE_DIM_TUPLES:\n",
    "    for head_dim in HEAD_DIMS:\n",
    "        shmem_bytes = forward_shared_mem_in_bytes(\n",
    "            q_tile_dim=q_tile_dim,\n",
    "            kv_tile_dim=kv_tile_dim,\n",
    "            head_dim=head_dim,\n",
    "            shared_mem_padding_tile=SHMEM_PADDING_TILE,\n",
    "            shared_mem_padding_chunk=SHMEM_PADDING_CHUNK,\n",
    "            c_tile_dtype=\"fp32\",\n",
    "            d_tile_dtype=\"fp32\",\n",
    "        )\n",
    "        print(f\"cdTile(fp32, fp32): q_tile_dim={q_tile_dim}, kv_tile_dim={kv_tile_dim}, head_dim={head_dim}, shmem_bytes={shmem_bytes}\")"
   ]
  }
 ],
 "metadata": {
  "kernelspec": {
   "display_name": "xlstmpt220cu121",
   "language": "python",
   "name": "python3"
  },
  "language_info": {
   "codemirror_mode": {
    "name": "ipython",
    "version": 3
   },
   "file_extension": ".py",
   "mimetype": "text/x-python",
   "name": "python",
   "nbconvert_exporter": "python",
   "pygments_lexer": "ipython3",
   "version": "3.11.7"
  }
 },
 "nbformat": 4,
 "nbformat_minor": 2
}
