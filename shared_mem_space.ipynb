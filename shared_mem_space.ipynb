{
 "cells": [
  {
   "cell_type": "code",
   "execution_count": 1,
   "metadata": {},
   "outputs": [],
   "source": [
    "import torch"
   ]
  },
  {
   "cell_type": "markdown",
   "metadata": {},
   "source": [
    "# Shared Memory computation"
   ]
  },
  {
   "cell_type": "markdown",
   "metadata": {},
   "source": [
    "## forward pass"
   ]
  },
  {
   "cell_type": "code",
   "execution_count": 9,
   "metadata": {},
   "outputs": [],
   "source": [
    "# forward pass\n",
    "\n",
    "\n",
    "def forward_shared_mem_in_bytes(\n",
    "    q_tile_dim: int,\n",
    "    kv_tile_dim: int,\n",
    "    head_dim: int,\n",
    "    shared_mem_padding_tile: int,\n",
    "    shared_mem_padding_chunk: int,\n",
    "    sof_bf16_bytes: int = 2,\n",
    "    sof_fp32_bytes: int = 4,\n",
    ") -> int:\n",
    "\n",
    "    # 1. q_tile\n",
    "    q_tile_size = sof_bf16_bytes * q_tile_dim * (head_dim + shared_mem_padding_tile)\n",
    "\n",
    "    # 2. kv_tile\n",
    "    kv_tile_size = sof_bf16_bytes * kv_tile_dim * (head_dim + shared_mem_padding_tile)\n",
    "\n",
    "    # 3. cd_tile\n",
    "    cd_tile_size = sof_bf16_bytes * q_tile_dim * (kv_tile_dim + shared_mem_padding_tile)\n",
    "\n",
    "    # 4. i_chunk\n",
    "    i_chunk_size = sof_bf16_bytes * kv_tile_dim * (1 + shared_mem_padding_chunk)\n",
    "\n",
    "    # 5. f_chunk\n",
    "    f_chunk_size = sof_bf16_bytes * q_tile_dim * (1 + shared_mem_padding_chunk)\n",
    "    f_tilecol_chunk_size = sof_fp32_bytes * q_tile_dim * (1 + shared_mem_padding_chunk)\n",
    "\n",
    "    # 6. mnl_chunk\n",
    "    mnl_chunk_size = sof_bf16_bytes * q_tile_dim * (1 + shared_mem_padding_chunk)\n",
    "\n",
    "    total_bytes = 2 * q_tile_size + 1 * kv_tile_size + 2 * cd_tile_size + 1 * i_chunk_size + 1 * f_chunk_size + 1 * f_tilecol_chunk_size + 6 * mnl_chunk_size\n",
    "\n",
    "    return total_bytes"
   ]
  },
  {
   "cell_type": "code",
   "execution_count": 10,
   "metadata": {},
   "outputs": [
    {
     "name": "stdout",
     "output_type": "stream",
     "text": [
      "q_tile_dim=64, kv_tile_dim=64, head_dim=64, shmem_bytes=49920\n",
      "q_tile_dim=64, kv_tile_dim=64, head_dim=96, shmem_bytes=62208\n",
      "q_tile_dim=64, kv_tile_dim=64, head_dim=128, shmem_bytes=74496\n",
      "q_tile_dim=64, kv_tile_dim=64, head_dim=160, shmem_bytes=86784\n",
      "q_tile_dim=64, kv_tile_dim=64, head_dim=192, shmem_bytes=99072\n",
      "q_tile_dim=64, kv_tile_dim=64, head_dim=224, shmem_bytes=111360\n",
      "q_tile_dim=64, kv_tile_dim=64, head_dim=256, shmem_bytes=123648\n",
      "q_tile_dim=128, kv_tile_dim=64, head_dim=64, shmem_bytes=90496\n",
      "q_tile_dim=128, kv_tile_dim=64, head_dim=96, shmem_bytes=110976\n",
      "q_tile_dim=128, kv_tile_dim=64, head_dim=128, shmem_bytes=131456\n",
      "q_tile_dim=128, kv_tile_dim=64, head_dim=160, shmem_bytes=151936\n",
      "q_tile_dim=128, kv_tile_dim=64, head_dim=192, shmem_bytes=172416\n",
      "q_tile_dim=128, kv_tile_dim=64, head_dim=224, shmem_bytes=192896\n",
      "q_tile_dim=128, kv_tile_dim=64, head_dim=256, shmem_bytes=213376\n",
      "q_tile_dim=128, kv_tile_dim=128, head_dim=64, shmem_bytes=132608\n",
      "q_tile_dim=128, kv_tile_dim=128, head_dim=96, shmem_bytes=157184\n",
      "q_tile_dim=128, kv_tile_dim=128, head_dim=128, shmem_bytes=181760\n",
      "q_tile_dim=128, kv_tile_dim=128, head_dim=160, shmem_bytes=206336\n",
      "q_tile_dim=128, kv_tile_dim=128, head_dim=192, shmem_bytes=230912\n",
      "q_tile_dim=128, kv_tile_dim=128, head_dim=224, shmem_bytes=255488\n",
      "q_tile_dim=128, kv_tile_dim=128, head_dim=256, shmem_bytes=280064\n"
     ]
    }
   ],
   "source": [
    "Q_TILE_DIMS = [64, 128]\n",
    "KV_TILE_DIMS = [64, 128]\n",
    "\n",
    "Q_KV_TILE_DIM_TUPLES = [(64, 64), (128, 64), (128, 128)]\n",
    "\n",
    "HEAD_DIMS = [64, 96, 128, 160, 192, 224, 256]\n",
    "\n",
    "SHMEM_PADDING_TILE = 4\n",
    "SHMEM_PADDING_CHUNK = 4\n",
    "\n",
    "for q_tile_dim, kv_tile_dim in Q_KV_TILE_DIM_TUPLES:\n",
    "    for head_dim in HEAD_DIMS:\n",
    "        shmem_bytes = forward_shared_mem_in_bytes(\n",
    "            q_tile_dim=q_tile_dim,\n",
    "            kv_tile_dim=kv_tile_dim,\n",
    "            head_dim=head_dim,\n",
    "            shared_mem_padding_tile=SHMEM_PADDING_TILE,\n",
    "            shared_mem_padding_chunk=SHMEM_PADDING_CHUNK,\n",
    "        )\n",
    "        print(f\"q_tile_dim={q_tile_dim}, kv_tile_dim={kv_tile_dim}, head_dim={head_dim}, shmem_bytes={shmem_bytes}\")"
   ]
  },
  {
   "cell_type": "code",
   "execution_count": null,
   "metadata": {},
   "outputs": [],
   "source": []
  }
 ],
 "metadata": {
  "kernelspec": {
   "display_name": "xlstmpt220cu121",
   "language": "python",
   "name": "python3"
  },
  "language_info": {
   "codemirror_mode": {
    "name": "ipython",
    "version": 3
   },
   "file_extension": ".py",
   "mimetype": "text/x-python",
   "name": "python",
   "nbconvert_exporter": "python",
   "pygments_lexer": "ipython3",
   "version": "3.11.7"
  }
 },
 "nbformat": 4,
 "nbformat_minor": 2
}
