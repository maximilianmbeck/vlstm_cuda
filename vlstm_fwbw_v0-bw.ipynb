{
 "cells": [
  {
   "cell_type": "code",
   "execution_count": 1,
   "metadata": {
    "notebookRunGroups": {
     "groupValue": "1"
    }
   },
   "outputs": [
    {
     "data": {
      "text/plain": [
       "True"
      ]
     },
     "execution_count": 1,
     "metadata": {},
     "output_type": "execute_result"
    }
   ],
   "source": [
    "import sys\n",
    "import os\n",
    "\n",
    "os.environ[\"CUDA_VISIBLE_DEVICES\"] = \"0\"\n",
    "sys.path.append(\".\")\n",
    "# os.environ[\"MAX_JOBS\"] = \"100\"\n",
    "\n",
    "import torch\n",
    "torch.set_printoptions(linewidth=200)\n",
    "torch.cuda.is_available()"
   ]
  },
  {
   "cell_type": "code",
   "execution_count": 2,
   "metadata": {
    "notebookRunGroups": {
     "groupValue": "1"
    }
   },
   "outputs": [
    {
     "name": "stdout",
     "output_type": "stream",
     "text": [
      "INCLUDE: ['/home/max/miniconda3/envs/xlstmpt220cu121/lib/python3.11/site-packages/torch/include', '/home/max/miniconda3/envs/xlstmpt220cu121/lib/python3.11/site-packages/torch/include/torch/csrc/api/include', '/home/max/miniconda3/envs/xlstmpt220cu121/lib/python3.11/site-packages/torch/include/TH', '/home/max/miniconda3/envs/xlstmpt220cu121/lib/python3.11/site-packages/torch/include/THC', '/home/max/miniconda3/envs/xlstmpt220cu121/include']\n",
      "/home/max/myrepos/vlstm_cuda/src\n",
      "/home/max/cpplibs/libtorch/lib:/usr/local/cuda-12.3/lib64:\n",
      "/home/max/miniconda3/envs/xlstmpt220cu121/lib\n"
     ]
    },
    {
     "name": "stderr",
     "output_type": "stream",
     "text": [
      "Using /home/max/.cache/torch_extensions/py311_cu121 as PyTorch extensions root...\n",
      "Detected CUDA files, patching ldflags\n",
      "Emitting ninja build file /home/max/.cache/torch_extensions/py311_cu121/vlstm_fwbw_v0/build.ninja...\n",
      "Building extension module vlstm_fwbw_v0...\n",
      "Allowing ninja to set a default number of workers... (overridable by setting the environment variable MAX_JOBS=N)\n"
     ]
    },
    {
     "name": "stdout",
     "output_type": "stream",
     "text": [
      "[1/2] /home/max/miniconda3/envs/xlstmpt220cu121/bin/nvcc --generate-dependencies-with-compile --dependency-output kernel_bw.cuda.o.d -ccbin /home/max/miniconda3/envs/xlstmpt220cu121/bin/x86_64-conda-linux-gnu-cc -DTORCH_EXTENSION_NAME=vlstm_fwbw_v0 -DTORCH_API_INCLUDE_EXTENSION_H -DPYBIND11_COMPILER_TYPE=\\\"_gcc\\\" -DPYBIND11_STDLIB=\\\"_libstdcpp\\\" -DPYBIND11_BUILD_ABI=\\\"_cxxabi1011\\\" -isystem /home/max/miniconda3/envs/xlstmpt220cu121/lib/python3.11/site-packages/torch/include -isystem /home/max/miniconda3/envs/xlstmpt220cu121/lib/python3.11/site-packages/torch/include/torch/csrc/api/include -isystem /home/max/miniconda3/envs/xlstmpt220cu121/lib/python3.11/site-packages/torch/include/TH -isystem /home/max/miniconda3/envs/xlstmpt220cu121/lib/python3.11/site-packages/torch/include/THC -isystem /home/max/miniconda3/envs/xlstmpt220cu121/include -isystem /home/max/miniconda3/envs/xlstmpt220cu121/include/python3.11 -D_GLIBCXX_USE_CXX11_ABI=0 -D__CUDA_NO_HALF_OPERATORS__ -D__CUDA_NO_HALF_CONVERSIONS__ -D__CUDA_NO_BFLOAT16_CONVERSIONS__ -D__CUDA_NO_HALF2_OPERATORS__ --expt-relaxed-constexpr -gencode=arch=compute_89,code=compute_89 -gencode=arch=compute_89,code=sm_89 --compiler-options '-fPIC' -gencode arch=compute_80,code=compute_80 -res-usage --use_fast_math -O3 -Xptxas -O3 --extra-device-vectorization -DTmax=13407807929942597099574024998205846127479365820592393377723561443721764030073546976801874298166903427690031858186486050853753882811946569946433649006084096 -std=c++17 -c /home/max/myrepos/vlstm_cuda/src/vlstm_fwbw_v0/kernel_bw.cu -o kernel_bw.cuda.o \n",
      "/home/max/myrepos/vlstm_cuda/src/vlstm_fwbw_v0/../util/inline_ops.cuh(264): remark #20200-D: #pragma message: \"/home/max/myrepos/vlstm_cuda/src/vlstm_fwbw_v0/../util/inline_ops.cuh:264 CUDART_VERSION: 12010, arch: 890\"\n",
      "  #pragma message(\"/home/max/myrepos/vlstm_cuda/src/vlstm_fwbw_v0/../util/inline_ops.cuh\" \":\" \"264\" \" CUDART_VERSION: \" \"12010\" \", arch: \" \"890\")\n",
      "                                                                                                                                                 ^\n",
      "\n",
      "/home/max/myrepos/vlstm_cuda/src/vlstm_fwbw_v0/../util/inline_ops.cuh(269): remark #20200-D: #pragma message: \"INCLUDING FP16\"\n",
      "  #pragma message(\"INCLUDING FP16\")\n",
      "                                   ^\n",
      "\n",
      "/home/max/myrepos/vlstm_cuda/src/vlstm_fwbw_v0/../util/inline_ops_fp16.cuh(29): remark #20200-D: #pragma message: \"/home/max/myrepos/vlstm_cuda/src/vlstm_fwbw_v0/../util/inline_ops_fp16.cuh:29 CUDART_VERSION with FP16: 12010, CUDA_ARCH: 890\"\n",
      "  #pragma message(\"/home/max/myrepos/vlstm_cuda/src/vlstm_fwbw_v0/../util/inline_ops_fp16.cuh\" \":\" \"29\" \" CUDART_VERSION with FP16: \" \"12010\" \", CUDA_ARCH: \" \"890\")\n",
      "                                                                                                                                                                    ^\n",
      "\n",
      "/home/max/myrepos/vlstm_cuda/src/vlstm_fwbw_v0/../util/inline_ops_2fp16.cuh(29): remark #20200-D: #pragma message: \"/home/max/myrepos/vlstm_cuda/src/vlstm_fwbw_v0/../util/inline_ops_2fp16.cuh:29 CUDART_VERSION with FP16: 12010, CUDA_ARCH: 890\"\n",
      "  #pragma message(\"/home/max/myrepos/vlstm_cuda/src/vlstm_fwbw_v0/../util/inline_ops_2fp16.cuh\" \":\" \"29\" \" CUDART_VERSION with FP16: \" \"12010\" \", CUDA_ARCH: \" \"890\")\n",
      "                                                                                                                                                                     ^\n",
      "\n",
      "/home/max/myrepos/vlstm_cuda/src/vlstm_fwbw_v0/../util/inline_ops.cuh(282): remark #20200-D: #pragma message: \"INCLUDING BF16\"\n",
      "  #pragma message(\"INCLUDING BF16\")\n",
      "                                   ^\n",
      "\n",
      "/home/max/myrepos/vlstm_cuda/src/vlstm_fwbw_v0/../util/inline_ops_bf16.cuh(29): remark #20200-D: #pragma message: \"/home/max/myrepos/vlstm_cuda/src/vlstm_fwbw_v0/../util/inline_ops_bf16.cuh:29 CUDART_VERSION with BF16: 12010, CUDA_ARCH: 890\"\n",
      "  #pragma message(\"/home/max/myrepos/vlstm_cuda/src/vlstm_fwbw_v0/../util/inline_ops_bf16.cuh\" \":\" \"29\" \" CUDART_VERSION with BF16: \" \"12010\" \", CUDA_ARCH: \" \"890\")\n",
      "                                                                                                                                                                    ^\n",
      "\n",
      "/home/max/myrepos/vlstm_cuda/src/vlstm_fwbw_v0/../util/inline_ops_2bf16.cuh(29): remark #20200-D: #pragma message: \"/home/max/myrepos/vlstm_cuda/src/vlstm_fwbw_v0/../util/inline_ops_2bf16.cuh:29 CUDART_VERSION with FP16: 12010, CUDA_ARCH: 890\"\n",
      "  #pragma message(\"/home/max/myrepos/vlstm_cuda/src/vlstm_fwbw_v0/../util/inline_ops_2bf16.cuh\" \":\" \"29\" \" CUDART_VERSION with FP16: \" \"12010\" \", CUDA_ARCH: \" \"890\")\n",
      "                                                                                                                                                                     ^\n",
      "\n",
      "ptxas info    : 150 bytes gmem\n",
      "ptxas info    : Compiling entry function '_ZN5vlstm7kernels8vlstm_bwIfLi4ELi8ELi8EEEvPT_S3_S3_S3_S3_S3_S3_S3_S3_S3_S3_S3_S3_S3_PfS4_iiii' for 'sm_89'\n",
      "ptxas info    : Function properties for _ZN5vlstm7kernels8vlstm_bwIfLi4ELi8ELi8EEEvPT_S3_S3_S3_S3_S3_S3_S3_S3_S3_S3_S3_S3_S3_PfS4_iiii\n",
      "    24 bytes stack frame, 0 bytes spill stores, 0 bytes spill loads\n",
      "ptxas info    : Used 96 registers, 496 bytes cmem[0], 16 bytes cmem[2]\n",
      "ptxas info    : Compiling entry function '_ZN5vlstm7kernels8vlstm_bwI6__halfLi4ELi8ELi8EEEvPT_S4_S4_S4_S4_S4_S4_S4_S4_S4_S4_S4_S4_S4_PfS5_iiii' for 'sm_89'\n",
      "ptxas info    : Function properties for _ZN5vlstm7kernels8vlstm_bwI6__halfLi4ELi8ELi8EEEvPT_S4_S4_S4_S4_S4_S4_S4_S4_S4_S4_S4_S4_S4_PfS5_iiii\n",
      "    24 bytes stack frame, 0 bytes spill stores, 0 bytes spill loads\n",
      "ptxas info    : Used 96 registers, 496 bytes cmem[0], 8 bytes cmem[2]\n",
      "ptxas info    : Compiling entry function '_ZN5vlstm7kernels8vlstm_bwI13__nv_bfloat16Li4ELi8ELi8EEEvPT_S4_S4_S4_S4_S4_S4_S4_S4_S4_S4_S4_S4_S4_PfS5_iiii' for 'sm_89'\n",
      "ptxas info    : Function properties for _ZN5vlstm7kernels8vlstm_bwI13__nv_bfloat16Li4ELi8ELi8EEEvPT_S4_S4_S4_S4_S4_S4_S4_S4_S4_S4_S4_S4_S4_PfS5_iiii\n",
      "    24 bytes stack frame, 0 bytes spill stores, 0 bytes spill loads\n",
      "ptxas info    : Used 106 registers, 496 bytes cmem[0], 8 bytes cmem[2]\n",
      "/home/max/myrepos/vlstm_cuda/src/vlstm_fwbw_v0/../util/inline_ops.cuh(264): remark #20200-D: #pragma message: \"/home/max/myrepos/vlstm_cuda/src/vlstm_fwbw_v0/../util/inline_ops.cuh:264 CUDART_VERSION: 12010, arch: 800\"\n",
      "  #pragma message(\"/home/max/myrepos/vlstm_cuda/src/vlstm_fwbw_v0/../util/inline_ops.cuh\" \":\" \"264\" \" CUDART_VERSION: \" \"12010\" \", arch: \" \"800\")\n",
      "                                                                                                                                                 ^\n",
      "\n",
      "/home/max/myrepos/vlstm_cuda/src/vlstm_fwbw_v0/../util/inline_ops.cuh(269): remark #20200-D: #pragma message: \"INCLUDING FP16\"\n",
      "  #pragma message(\"INCLUDING FP16\")\n",
      "                                   ^\n",
      "\n",
      "/home/max/myrepos/vlstm_cuda/src/vlstm_fwbw_v0/../util/inline_ops_fp16.cuh(29): remark #20200-D: #pragma message: \"/home/max/myrepos/vlstm_cuda/src/vlstm_fwbw_v0/../util/inline_ops_fp16.cuh:29 CUDART_VERSION with FP16: 12010, CUDA_ARCH: 800\"\n",
      "  #pragma message(\"/home/max/myrepos/vlstm_cuda/src/vlstm_fwbw_v0/../util/inline_ops_fp16.cuh\" \":\" \"29\" \" CUDART_VERSION with FP16: \" \"12010\" \", CUDA_ARCH: \" \"800\")\n",
      "                                                                                                                                                                    ^\n",
      "\n",
      "/home/max/myrepos/vlstm_cuda/src/vlstm_fwbw_v0/../util/inline_ops_2fp16.cuh(29): remark #20200-D: #pragma message: \"/home/max/myrepos/vlstm_cuda/src/vlstm_fwbw_v0/../util/inline_ops_2fp16.cuh:29 CUDART_VERSION with FP16: 12010, CUDA_ARCH: 800\"\n",
      "  #pragma message(\"/home/max/myrepos/vlstm_cuda/src/vlstm_fwbw_v0/../util/inline_ops_2fp16.cuh\" \":\" \"29\" \" CUDART_VERSION with FP16: \" \"12010\" \", CUDA_ARCH: \" \"800\")\n",
      "                                                                                                                                                                     ^\n",
      "\n",
      "/home/max/myrepos/vlstm_cuda/src/vlstm_fwbw_v0/../util/inline_ops.cuh(282): remark #20200-D: #pragma message: \"INCLUDING BF16\"\n",
      "  #pragma message(\"INCLUDING BF16\")\n",
      "                                   ^\n",
      "\n",
      "/home/max/myrepos/vlstm_cuda/src/vlstm_fwbw_v0/../util/inline_ops_bf16.cuh(29): remark #20200-D: #pragma message: \"/home/max/myrepos/vlstm_cuda/src/vlstm_fwbw_v0/../util/inline_ops_bf16.cuh:29 CUDART_VERSION with BF16: 12010, CUDA_ARCH: 800\"\n",
      "  #pragma message(\"/home/max/myrepos/vlstm_cuda/src/vlstm_fwbw_v0/../util/inline_ops_bf16.cuh\" \":\" \"29\" \" CUDART_VERSION with BF16: \" \"12010\" \", CUDA_ARCH: \" \"800\")\n",
      "                                                                                                                                                                    ^\n",
      "\n",
      "/home/max/myrepos/vlstm_cuda/src/vlstm_fwbw_v0/../util/inline_ops_2bf16.cuh(29): remark #20200-D: #pragma message: \"/home/max/myrepos/vlstm_cuda/src/vlstm_fwbw_v0/../util/inline_ops_2bf16.cuh:29 CUDART_VERSION with FP16: 12010, CUDA_ARCH: 800\"\n",
      "  #pragma message(\"/home/max/myrepos/vlstm_cuda/src/vlstm_fwbw_v0/../util/inline_ops_2bf16.cuh\" \":\" \"29\" \" CUDART_VERSION with FP16: \" \"12010\" \", CUDA_ARCH: \" \"800\")\n",
      "                                                                                                                                                                     ^\n",
      "\n",
      "/home/max/myrepos/vlstm_cuda/src/vlstm_fwbw_v0/../util/inline_ops.cuh:264:138: note: '#pragma message: /home/max/myrepos/vlstm_cuda/src/vlstm_fwbw_v0/../util/inline_ops.cuh:264 CUDART_VERSION: 12010, arch: __CUDA_ARCH__'\n",
      "  264 | #pragma message(AT \" CUDART_VERSION: \" TOSTRING(                               \\\n",
      "      |                                                                                                                                          ^\n",
      "/home/max/myrepos/vlstm_cuda/src/vlstm_fwbw_v0/../util/inline_ops.cuh:276:90: note: '#pragma message: SKIPPING FP16, because of CUDART_VERSION: 12010, arch: __CUDA_ARCH__'\n",
      "  276 | #pragma message(\"SKIPPING FP16, because of CUDART_VERSION: \" TOSTRING(         \\\n",
      "      |                                                                                          ^\n",
      "/home/max/myrepos/vlstm_cuda/src/vlstm_fwbw_v0/../util/inline_ops.cuh:289:90: note: '#pragma message: SKIPPING BF16, because of CUDART_VERSION: 12010, arch: __CUDA_ARCH__'\n",
      "  289 | #pragma message(\"SKIPPING BF16, because of CUDART_VERSION: \" TOSTRING(         \\\n",
      "      |                                                                                          ^\n",
      "[2/2] /home/max/miniconda3/envs/xlstmpt220cu121/bin/x86_64-conda-linux-gnu-c++ interface.o kernel_fw.cuda.o kernel_bw.cuda.o -shared -L/home/max/miniconda3/envs/xlstmpt220cu121/lib -lcublas -L/home/max/miniconda3/envs/xlstmpt220cu121/lib/python3.11/site-packages/torch/lib -lc10 -lc10_cuda -ltorch_cpu -ltorch_cuda -ltorch -ltorch_python -L/home/max/miniconda3/envs/xlstmpt220cu121/lib -lcudart -o vlstm_fwbw_v0.so\n"
     ]
    },
    {
     "name": "stderr",
     "output_type": "stream",
     "text": [
      "Loading extension module vlstm_fwbw_v0...\n"
     ]
    }
   ],
   "source": [
    "from src.vlstm_fwbw_v0.interface import vlstm_fwbw_torch_obw, vlstm_fwbw_cuda\n",
    "\n",
    "from src.vlstm_fwbw_v0.interface import vlstm_fw_torch, vlstm_fw_cuda\n",
    "from src.vlstm_fwbw_v0.interface import vlstm_bw_torch_obw, vlstm_bw_cuda\n",
    "from src.vlstm_fwbw_v0.torch_impl import vlstm_fw_tiled_torch"
   ]
  },
  {
   "cell_type": "markdown",
   "metadata": {},
   "source": [
    "## CUDA vLSTM backward"
   ]
  },
  {
   "cell_type": "code",
   "execution_count": 3,
   "metadata": {
    "notebookRunGroups": {
     "groupValue": "1"
    }
   },
   "outputs": [],
   "source": [
    "S = 64 #16 #8 # seq len\n",
    "B = 1 # batch size\n",
    "NH = 1 # num heads\n",
    "DH = 8 # dim per head\n",
    "DTYPE = torch.float32\n",
    "DEVICE = torch.device(\"cuda:0\")"
   ]
  },
  {
   "cell_type": "code",
   "execution_count": 4,
   "metadata": {
    "notebookRunGroups": {
     "groupValue": "1"
    }
   },
   "outputs": [
    {
     "data": {
      "text/plain": [
       "(tensor([[[[-9.2466e-01, -4.2534e-01, -2.6438e+00,  1.4518e-01, -1.2087e-01, -5.7973e-01, -6.2285e-01, -3.2839e-01],\n",
       "           [-1.0745e+00, -3.6314e-01, -1.6711e+00,  2.2655e+00,  3.1168e-01, -1.8419e-01,  1.2866e+00,  1.1820e+00],\n",
       "           [-1.2706e-01,  1.2169e+00,  1.4353e+00,  1.0605e+00, -4.9413e-01, -1.4244e+00, -7.2443e-01, -1.2973e+00],\n",
       "           [ 6.9690e-02, -7.4066e-03,  1.8969e+00,  6.8778e-01, -7.7948e-02, -8.3728e-01,  1.3506e+00, -2.8792e-01],\n",
       "           [-5.9653e-01, -3.2826e-01, -9.0860e-01, -8.0594e-01, -7.4067e-01, -5.0385e-02,  5.4348e-01,  1.5150e+00],\n",
       "           [ 1.4121e-02,  4.5320e-01,  1.6349e+00,  7.1239e-01, -1.8057e-01,  1.0252e+00, -1.4622e+00, -7.5538e-01],\n",
       "           [-1.8364e-01,  3.8239e-01,  3.9177e-01, -8.2991e-02,  8.9712e-01, -1.1123e+00,  1.1165e-01,  4.8628e-01],\n",
       "           [-5.4994e-01, -3.2309e-01, -5.4689e-01,  9.0488e-01,  2.8369e-01,  1.2103e-01,  4.7297e-01, -1.0823e+00],\n",
       "           [-3.3446e-02, -9.7344e-01,  9.5592e-01, -1.1795e+00, -1.0064e+00,  1.1599e-01,  6.8517e-01, -4.1239e-01],\n",
       "           [-6.7381e-01, -5.4044e-01,  6.8985e-01, -1.5517e+00,  3.8053e-01, -4.3581e-02,  3.5974e-01, -5.0426e-01],\n",
       "           [-3.1052e-01,  7.6436e-01, -3.1298e+00,  3.4941e-01, -2.7612e-02,  1.4448e+00, -2.7707e-03,  1.8990e-01],\n",
       "           [ 2.2415e-01, -2.3280e-01,  9.7137e-01,  1.6773e+00,  1.3447e-01,  5.2461e-01,  1.1699e+00, -9.5568e-01],\n",
       "           [-8.5698e-02, -1.4977e+00, -9.0736e-01, -4.5244e-01,  6.6173e-02, -3.8381e-02,  5.8397e-01,  8.8454e-01],\n",
       "           [-1.6148e+00,  4.4849e-01,  7.3407e-01, -8.4570e-01,  6.5872e-01, -3.5541e-01, -1.9107e+00, -1.6850e-01],\n",
       "           [ 1.8969e+00,  5.1329e-01,  1.1002e+00, -1.3909e+00, -2.6249e-01, -1.4429e+00,  1.5446e+00,  1.2185e-02],\n",
       "           [ 2.1437e+00, -9.2642e-01,  1.6909e+00, -2.5508e-01, -9.0211e-01, -2.1282e-01, -3.3148e-01, -2.0226e-01],\n",
       "           [-1.1451e+00, -5.7146e-01, -6.5101e-01,  2.0775e+00, -1.4032e+00,  1.2803e+00, -2.1226e+00, -9.0260e-01],\n",
       "           [ 2.6687e-01, -7.7345e-01, -1.9546e-01, -3.5504e-01,  3.4003e-01, -1.4072e-01,  3.5133e-01, -9.8068e-01],\n",
       "           [-3.9272e-01,  5.6149e-01,  5.0778e-02,  1.5877e+00, -4.0395e-01, -2.2449e-01, -1.7560e-01,  1.5172e-01],\n",
       "           [ 6.1342e-02, -1.3979e+00, -3.4039e-02, -2.4075e-01,  1.0469e+00,  1.2855e+00,  7.5718e-01, -8.3131e-01],\n",
       "           [ 4.0113e-01, -4.8134e-01, -9.8528e-01,  9.3812e-01,  3.6736e-01, -4.6754e-01, -1.5733e+00,  1.0383e+00],\n",
       "           [-5.7326e-01,  2.7507e-01, -2.7541e-01,  1.5937e-01, -2.2566e+00,  5.3861e-01, -1.2314e+00,  1.5438e+00],\n",
       "           [ 1.0489e-01, -4.6263e-01,  4.6437e-01,  1.5002e-01, -1.3809e+00,  1.8847e+00, -1.1002e+00,  2.7608e-01],\n",
       "           [-6.8500e-01,  6.5925e-01, -8.1778e-01, -9.3332e-02,  1.9178e-01,  2.1443e-01, -7.3694e-01, -4.5156e-01],\n",
       "           [-1.3546e-01, -1.3171e+00, -8.7381e-01, -4.0840e-01,  3.7063e-01,  2.3022e-01, -1.3475e+00, -5.0064e-01],\n",
       "           [-4.1215e-01, -1.5055e+00, -1.1229e+00, -2.4949e-01, -6.9668e-01, -2.1947e+00, -4.4546e-01,  5.7513e-02],\n",
       "           [ 2.7088e-01,  1.2292e+00, -1.4770e-02,  3.9272e-01, -1.2490e+00,  1.6065e+00,  5.3124e-01, -1.3232e+00],\n",
       "           [-1.7174e+00,  9.5140e-01, -2.2542e-01, -5.6928e-01,  2.9864e-01, -4.6660e-01,  2.3300e+00,  5.5654e-01],\n",
       "           [ 9.0903e-01,  2.9210e-01, -2.2849e+00,  4.2133e-01,  1.1173e+00,  5.9529e-01,  3.0829e-01,  1.2683e+00],\n",
       "           [ 1.0294e-01, -1.9810e+00,  5.8922e-01,  1.5494e-01,  8.0646e-01,  2.4884e-01, -6.8482e-01, -1.1831e-02],\n",
       "           [-2.3765e+00,  3.3196e-01,  3.3498e-01, -7.6068e-02,  2.2586e-01, -2.4527e+00,  7.3919e-02, -1.9685e+00],\n",
       "           [ 1.1612e+00, -5.3360e-01,  1.3228e+00, -1.7094e+00, -1.1085e+00,  1.3417e+00,  3.3156e+00, -8.4666e-01],\n",
       "           [ 2.3737e-01,  1.0884e+00, -2.4973e-01, -4.9736e-01, -1.1520e+00,  1.4054e+00,  9.1116e-01, -6.0021e-02],\n",
       "           [ 4.0261e-01, -4.6268e-01,  9.3103e-02,  1.0969e+00,  6.7773e-01, -1.9075e-01, -4.7532e-01, -1.7916e+00],\n",
       "           [ 7.3020e-02, -9.7017e-01, -1.5168e-01,  6.4805e-01,  4.0209e-01, -4.5726e-01,  9.1431e-01, -8.0725e-01],\n",
       "           [-3.4651e-02, -1.3154e+00, -6.0735e-01,  1.1249e+00, -7.0437e-01,  1.0772e+00, -6.9448e-01, -1.3563e-01],\n",
       "           [ 6.6971e-01, -6.6631e-01,  1.9095e-01, -1.7596e+00, -5.8540e-01, -6.9613e-01, -1.2390e-01, -6.4585e-01],\n",
       "           [-2.0933e-01,  1.7208e+00,  5.8334e-01, -6.4887e-02,  2.0613e+00, -2.4906e-01, -1.8009e+00, -4.2197e-01],\n",
       "           [-1.1432e+00,  1.2004e+00,  3.4864e-01, -6.8779e-01, -4.3595e-01, -1.0111e+00, -9.2217e-01,  5.7839e-01],\n",
       "           [ 1.2755e+00, -1.8468e+00,  9.6650e-01, -7.2612e-01,  4.2602e-02,  1.9088e+00, -8.1902e-01, -6.7605e-01],\n",
       "           [ 1.4237e+00,  9.2431e-01,  2.1202e-01,  5.9384e-01, -1.5283e-01, -4.1272e-01,  6.0107e-01,  2.0994e+00],\n",
       "           [ 8.8653e-01, -2.3197e-01,  7.4427e-01, -2.7161e-01, -8.9864e-01,  8.8195e-01, -8.0994e-01,  8.7735e-01],\n",
       "           [-1.7651e+00,  6.5314e-01, -6.4112e-02,  6.9343e-01, -1.3255e+00, -4.1441e-01,  6.1583e-01, -3.7169e-01],\n",
       "           [-5.3075e-01,  1.1778e+00, -8.7160e-01, -5.0408e-01,  1.9058e+00,  2.5888e-01, -3.0698e-01, -5.8252e-01],\n",
       "           [-3.0520e-01,  2.3543e-02, -1.0384e+00, -4.5758e-01,  1.3978e+00, -5.1973e-01,  7.4748e-01, -5.4662e-01],\n",
       "           [-8.9798e-02,  1.1101e-02, -3.3736e-01,  3.0677e-01,  3.6878e-01, -2.0521e+00,  8.9447e-01, -4.2086e-01],\n",
       "           [-4.1074e-01,  5.1639e-01, -2.7058e-01,  4.7389e-01, -9.0341e-01,  2.9722e-01, -1.2429e+00, -4.5588e-01],\n",
       "           [-2.6139e-01, -1.1982e+00, -1.5334e+00, -2.7293e-01, -1.0230e+00,  2.4305e-01,  1.7026e-01, -2.1111e-01],\n",
       "           [-1.2461e-01,  1.3310e-01, -8.1351e-01, -7.6410e-01, -4.1469e-01, -3.7722e-01, -9.9624e-01,  7.1201e-01],\n",
       "           [-3.3039e-01,  6.1221e-01, -3.5287e-01,  2.9989e-01,  1.2806e-01,  6.1679e-01, -1.2361e+00, -3.2533e-01],\n",
       "           [ 1.1327e+00,  3.6030e-01,  3.6529e-01, -4.1258e-01,  5.2491e-01,  2.1800e-01, -2.8640e-01, -1.1629e+00],\n",
       "           [ 2.9067e-01,  7.0668e-01, -2.7574e-01,  3.4423e-02, -6.7777e-02, -4.9841e-01,  5.9371e-01, -1.1901e-01],\n",
       "           [-1.4427e-01, -6.7390e-01,  7.4368e-02,  2.2662e-01,  2.7515e-01, -6.7154e-02, -1.0753e+00,  1.8201e+00],\n",
       "           [ 9.4384e-01, -1.8705e+00, -4.3770e-01,  1.4464e-01, -2.3492e+00, -2.5396e-01,  3.3259e-01, -4.3111e-01],\n",
       "           [-6.1056e-01, -1.5461e+00,  1.0681e+00,  1.9983e+00, -3.2179e-01, -1.0682e+00, -7.2873e-01, -1.0579e+00],\n",
       "           [ 2.2124e+00,  1.3819e+00,  9.7209e-01, -9.1230e-01,  3.6113e-01, -5.2619e-01,  7.0983e-01, -3.8259e-02],\n",
       "           [ 1.6536e+00, -1.0162e+00,  7.9535e-01,  1.0513e+00,  3.4926e-01, -5.8930e-01,  1.3733e+00, -7.7249e-01],\n",
       "           [-7.2774e-02, -8.0433e-01, -1.0326e+00,  1.7001e+00,  1.0919e+00,  2.0900e-01,  6.3536e-01, -8.0362e-01],\n",
       "           [-1.3479e-01, -1.2558e+00, -1.9218e-03,  1.3597e-01,  6.8941e-01,  4.3329e-01,  6.1648e-02,  1.4794e+00],\n",
       "           [ 7.3811e-01, -1.5368e+00,  1.6518e+00, -3.2050e-01,  4.7511e-01, -1.3123e+00,  7.1520e-01,  1.0198e+00],\n",
       "           [ 2.9293e-01,  2.9328e-01, -4.7074e-01, -1.8247e+00,  6.5760e-02,  5.0131e-01, -1.3679e+00,  3.5025e-01],\n",
       "           [-9.5196e-01, -6.2318e-01,  5.9263e-01, -2.5676e-02, -1.4770e+00, -7.3015e-01,  1.0717e-01, -4.4032e-01],\n",
       "           [ 8.1423e-03, -3.9180e-01, -1.3857e+00, -7.2642e-01, -1.4890e+00,  9.5093e-03, -6.5785e-01,  7.6095e-01],\n",
       "           [ 3.4210e-01,  7.9231e-01,  1.5966e+00, -3.4822e-01,  1.6972e-01, -3.1882e-01,  1.4025e+00,  6.5594e-01]]]], device='cuda:0'),\n",
       " torch.Size([1, 1, 64, 8]),\n",
       " 512)"
      ]
     },
     "execution_count": 4,
     "metadata": {},
     "output_type": "execute_result"
    }
   ],
   "source": [
    "# create qkv, inputgates, forgetgates \n",
    "torch.manual_seed(0)\n",
    "# fixed:\n",
    "# qs = torch.arange((B*NH*S*DH), device=DEVICE, dtype=DTYPE).reshape((B, NH, S, DH)) / 10.\n",
    "# ks = torch.ones((B, NH, S, DH), device=DEVICE, dtype=DTYPE) / 100.\n",
    "# vs = torch.ones((B, NH, S, DH), device=DEVICE, dtype=DTYPE) / 100.\n",
    "# random:\n",
    "qs = torch.randn((B, NH, S, DH), device=DEVICE, dtype=DTYPE)\n",
    "ks = torch.randn((B, NH, S, DH), device=DEVICE, dtype=DTYPE)\n",
    "vs = torch.randn((B, NH, S, DH), device=DEVICE, dtype=DTYPE)\n",
    "\n",
    "# igs = (1. + torch.arange((B * NH * S), device=DEVICE, dtype=DTYPE)).reshape(B, NH, S, 1) / 10.\n",
    "# igs = torch.zeros((B, NH, S, 1), device=DEVICE, dtype=DTYPE) #/ 10.\n",
    "igs = torch.randn((B, NH, S, 1), device=DEVICE, dtype=DTYPE) #/ 10.\n",
    "fgs = torch.ones((B, NH, S, 1), device=DEVICE, dtype=DTYPE)\n",
    "fgs = torch.randn((B, NH, S, 1), device=DEVICE, dtype=DTYPE)\n",
    "\n",
    "dHs = qs.clone()\n",
    "qs, qs.shape, len(qs.view(-1))"
   ]
  },
  {
   "cell_type": "markdown",
   "metadata": {},
   "source": [
    "### bw kernel match direct call"
   ]
  },
  {
   "cell_type": "code",
   "execution_count": 5,
   "metadata": {},
   "outputs": [],
   "source": [
    "hs_pt, n_pt, m_pt, _, matD_pt = vlstm_fw_torch(queries=qs, keys=ks, values=vs, igate_preact=igs, fgate_preact=fgs)"
   ]
  },
  {
   "cell_type": "code",
   "execution_count": 6,
   "metadata": {},
   "outputs": [],
   "source": [
    "dQs_pt, dKs_pt, dVs_pt, dIgs_pt, dFgs_pt, delta_D_pt, delta_Dtilde_pt, delta_fbar_pt, mat_P_pt, mat_C_pt = vlstm_bw_torch_obw(\n",
    "    delta_Htilde=dHs,\n",
    "    queries=qs,\n",
    "    keys=ks,\n",
    "    values=vs,\n",
    "    igate_preact=igs,\n",
    "    fgate_preact=fgs,\n",
    "    var_n=n_pt,\n",
    "    var_m=m_pt,\n",
    ")"
   ]
  },
  {
   "cell_type": "code",
   "execution_count": 7,
   "metadata": {},
   "outputs": [],
   "source": [
    "def rev_cumsum(x, dim=-1):\n",
    "    return x.flip(dims=(dim,)).cumsum(dim).flip(dims=(dim,))"
   ]
  },
  {
   "cell_type": "code",
   "execution_count": 8,
   "metadata": {},
   "outputs": [],
   "source": [
    "# calculate fgrads trick\n",
    "df = (dQs_pt * qs - dKs_pt * ks).sum(-1, keepdim=True)\n",
    "df = rev_cumsum(df, dim=-2)\n",
    "df_pt = df * torch.nn.functional.sigmoid(-fgs)\n",
    "# df_pt"
   ]
  },
  {
   "cell_type": "code",
   "execution_count": 9,
   "metadata": {},
   "outputs": [],
   "source": [
    "# df_pt - dFgs_pt"
   ]
  },
  {
   "cell_type": "code",
   "execution_count": 10,
   "metadata": {},
   "outputs": [
    {
     "name": "stdout",
     "output_type": "stream",
     "text": [
      "before kernel dispatch - float32!\n",
      "B: 1, NH: 1, S: 64, DH: 8\n",
      "blocksxy: 1-2, threadsxy: 4-4, shared_mem in bytes: 5664\n",
      "In FW-Kernel: gdim.x: 1, gdim.y: 2, gdim.z: 1, bdim.x: 4, bdim.y: 4\n",
      "In FW-Kernel: QtileDim: 8, KVtileDim: 8, TblockDim:4\n",
      "BIdx.y=0, FLTIdx=7: qTileIdx=0, fChunkAccIterIdx=0 (<1), fWCIdx=0, f_acc=-4.715206, fTileColLast=0.000000\n",
      "STR: BIdx.y=1: qTileIdx=0, fWCIdx=0 (<1), flatThreadIdx=7: fT_acc_res=-10.010335, fTileCol_val=-10.010335, fTileColLastVal=0.000000\n",
      "BIdx.y=0, FLTIdx=7: qTileIdx=0, fChunkAccIterIdx=1 (<1), fWCIdx=0, f_acc=-4.715206, fTileColLast=0.000000\n",
      "BIdx.y=0, FLTIdx=7: qTileIdx=1, fChunkAccIterIdx=0 (<3), fWCIdx=0, f_acc=-6.564201, fTileColLast=-10.010335\n",
      "STR: BIdx.y=1: qTileIdx=1, fWCIdx=0 (<1), flatThreadIdx=7: fT_acc_res=-22.164177, fTileCol_val=-22.164177, fTileColLastVal=-10.010335\n",
      "BIdx.y=0, FLTIdx=7: qTileIdx=1, fChunkAccIterIdx=1 (<3), fWCIdx=0, f_acc=-6.564201, fTileColLast=-10.010335\n",
      "BIdx.y=0, FLTIdx=7: qTileIdx=2, fChunkAccIterIdx=0 (<5), fWCIdx=0, f_acc=-7.000814, fTileColLast=-22.164177\n",
      "STR: BIdx.y=1: qTileIdx=2, fWCIdx=0 (<1), flatThreadIdx=7: fT_acc_res=-34.681572, fTileCol_val=-34.681572, fTileColLastVal=-22.164177\n",
      "BIdx.y=0, FLTIdx=7: qTileIdx=2, fChunkAccIterIdx=1 (<5), fWCIdx=0, f_acc=-7.000814, fTileColLast=-22.164177\n",
      "BIdx.y=0, FLTIdx=7: qTileIdx=3, fChunkAccIterIdx=0 (<7), fWCIdx=0, f_acc=-5.133800, fTileColLast=-34.681572\n",
      "STR: BIdx.y=1: qTileIdx=3, fWCIdx=0 (<1), flatThreadIdx=7: fT_acc_res=-45.203156, fTileCol_val=-45.203156, fTileColLastVal=-34.681572\n",
      "BIdx.y=0, FLTIdx=7: qTileIdx=3, fChunkAccIterIdx=1 (<7), fWCIdx=0, f_acc=-5.133800, fTileColLast=-34.681572\n"
     ]
    }
   ],
   "source": [
    "hs_cu, n_cu, m_cu, _ = vlstm_fw_cuda(mat_Q=qs, mat_K=ks, mat_V=vs, igate_preact=igs, fgate_preact=fgs)"
   ]
  },
  {
   "cell_type": "code",
   "execution_count": 11,
   "metadata": {},
   "outputs": [
    {
     "name": "stdout",
     "output_type": "stream",
     "text": [
      "before kernel dispatch - float32!\n",
      "B: 1, NH: 1, S: 64, DH: 8\n",
      "blocksxy: 1-2, threadsxy: 4-4, shared_mem in bytes: 7648\n",
      "In BW-Kernel: gdim.x: 1, gdim.y: 2, gdim.z: 1, bdim.x: 4, bdim.y: 4\n",
      "In BW-Kernel: QtileDim: 8, KVtileDim: 8, TblockDim:4\n"
     ]
    }
   ],
   "source": [
    "dQs_cu, dKs_cu, dVs_cu, dIgs_cu, dFgs_cu, matC_cu, deltaDcsChunkArr_cu, deltaDcsVec_cu = vlstm_bw_cuda(\n",
    "    delta_Htilde=dHs,\n",
    "    mat_Q=qs,\n",
    "    mat_K=ks,\n",
    "    mat_V=vs,\n",
    "    igate_preact=igs,\n",
    "    fgate_preact=fgs,\n",
    "    n=n_pt,\n",
    "    m=m_pt,\n",
    ")"
   ]
  },
  {
   "cell_type": "code",
   "execution_count": 12,
   "metadata": {},
   "outputs": [
    {
     "name": "stdout",
     "output_type": "stream",
     "text": [
      "delta Q match: False\n",
      "delta K match: False\n",
      "delta V match: True\n",
      "delta Igate match: False\n",
      "delta FBar match: False\n"
     ]
    }
   ],
   "source": [
    "RTOL = 1e-10\n",
    "ATOL = 4e-4\n",
    "print(f\"delta Q match: {torch.allclose(dQs_cu, dQs_pt, rtol=RTOL, atol=ATOL)}\")\n",
    "print(f\"delta K match: {torch.allclose(dKs_cu, dKs_pt, rtol=RTOL, atol=ATOL)}\")\n",
    "print(f\"delta V match: {torch.allclose(dVs_cu, dVs_pt, rtol=RTOL, atol=ATOL)}\")\n",
    "print(f\"delta Igate match: {torch.allclose(dIgs_cu.unsqueeze(-1), dIgs_pt, rtol=RTOL, atol=ATOL)}\")\n",
    "print(f\"delta FBar match: {torch.allclose(dFgs_cu.unsqueeze(-1), dFgs_pt, rtol=RTOL, atol=ATOL)}\")"
   ]
  },
  {
   "cell_type": "code",
   "execution_count": 15,
   "metadata": {},
   "outputs": [
    {
     "data": {
      "text/plain": [
       "tensor([[[[ 9.7459e-01],\n",
       "          [-3.9517e-01],\n",
       "          [-6.0807e-01],\n",
       "          [ 9.3234e-01],\n",
       "          [-9.0446e-01],\n",
       "          [ 2.4742e+00],\n",
       "          [ 1.8178e+00],\n",
       "          [ 2.8042e+00],\n",
       "          [-1.5888e+00],\n",
       "          [ 3.0245e+00],\n",
       "          [ 4.1916e-02],\n",
       "          [ 2.0018e+00],\n",
       "          [ 5.2854e-01],\n",
       "          [-1.1220e+00],\n",
       "          [-2.3807e+00],\n",
       "          [ 1.5186e+00],\n",
       "          [-4.4992e+00],\n",
       "          [ 4.1789e+00],\n",
       "          [-5.6274e-01],\n",
       "          [ 8.3611e-01],\n",
       "          [ 2.8455e+00],\n",
       "          [ 1.1612e+00],\n",
       "          [-2.5758e+00],\n",
       "          [ 6.0484e-01],\n",
       "          [ 4.5208e-02],\n",
       "          [ 1.0004e+00],\n",
       "          [ 6.6920e-02],\n",
       "          [ 1.7455e+00],\n",
       "          [ 1.1722e+00],\n",
       "          [-2.4495e+00],\n",
       "          [ 1.6450e+00],\n",
       "          [-1.5648e+00],\n",
       "          [ 2.6714e-01],\n",
       "          [ 4.2885e-01],\n",
       "          [-6.7985e+00],\n",
       "          [ 6.0021e-02],\n",
       "          [ 1.4593e+00],\n",
       "          [ 2.4359e-01],\n",
       "          [ 8.9668e+00],\n",
       "          [ 2.6597e-02],\n",
       "          [-8.9747e-01],\n",
       "          [-2.3725e+00],\n",
       "          [ 1.1983e-02],\n",
       "          [-2.6166e-02],\n",
       "          [ 6.2519e-01],\n",
       "          [ 9.7228e-01],\n",
       "          [ 5.3952e-01],\n",
       "          [-4.1175e-01],\n",
       "          [ 5.1465e-01],\n",
       "          [ 1.5687e+00],\n",
       "          [ 9.0470e-01],\n",
       "          [ 7.8634e-01],\n",
       "          [-1.4702e+01],\n",
       "          [-5.7678e-02],\n",
       "          [-7.8391e-01],\n",
       "          [ 7.4972e-01],\n",
       "          [ 7.5464e-02],\n",
       "          [ 6.7438e-01],\n",
       "          [ 1.1894e+00],\n",
       "          [-9.1543e+00],\n",
       "          [-4.1064e-01],\n",
       "          [ 3.7639e-01],\n",
       "          [ 9.6791e-02],\n",
       "          [ 3.3936e+00]]]], device='cuda:0')"
      ]
     },
     "execution_count": 15,
     "metadata": {},
     "output_type": "execute_result"
    }
   ],
   "source": [
    "dIgs_pt"
   ]
  },
  {
   "cell_type": "code",
   "execution_count": 16,
   "metadata": {},
   "outputs": [
    {
     "data": {
      "text/plain": [
       "tensor([[[[ 7.0965],\n",
       "          [ 0.3369],\n",
       "          [ 1.8443],\n",
       "          [ 3.9973],\n",
       "          [ 1.2252],\n",
       "          [ 3.2439],\n",
       "          [ 9.8813],\n",
       "          [ 3.0702],\n",
       "          [ 1.2788],\n",
       "          [ 1.3242],\n",
       "          [ 0.2532],\n",
       "          [ 3.3631],\n",
       "          [ 0.9532],\n",
       "          [ 6.9670],\n",
       "          [ 2.8065],\n",
       "          [ 2.2283],\n",
       "          [ 8.8502],\n",
       "          [ 3.1991],\n",
       "          [ 3.0062],\n",
       "          [ 0.3232],\n",
       "          [ 3.5420],\n",
       "          [ 2.2286],\n",
       "          [ 2.9991],\n",
       "          [ 0.2655],\n",
       "          [ 0.0453],\n",
       "          [ 4.3692],\n",
       "          [ 0.1816],\n",
       "          [ 2.9634],\n",
       "          [ 6.5503],\n",
       "          [ 4.9255],\n",
       "          [ 2.6721],\n",
       "          [ 6.2247],\n",
       "          [ 3.7660],\n",
       "          [ 1.1211],\n",
       "          [ 5.7228],\n",
       "          [ 0.2817],\n",
       "          [ 6.2512],\n",
       "          [ 0.8477],\n",
       "          [11.7686],\n",
       "          [ 0.2534],\n",
       "          [ 0.6431],\n",
       "          [ 4.8981],\n",
       "          [ 1.1557],\n",
       "          [ 0.2894],\n",
       "          [ 2.4671],\n",
       "          [ 1.0127],\n",
       "          [ 0.4422],\n",
       "          [ 0.5818],\n",
       "          [ 2.7988],\n",
       "          [ 0.9191],\n",
       "          [ 2.3359],\n",
       "          [ 3.3466],\n",
       "          [25.5660],\n",
       "          [ 0.1166],\n",
       "          [ 8.6903],\n",
       "          [ 2.9074],\n",
       "          [ 0.1112],\n",
       "          [ 0.4204],\n",
       "          [ 1.9570],\n",
       "          [10.4410],\n",
       "          [ 3.6864],\n",
       "          [ 1.1575],\n",
       "          [ 0.1214],\n",
       "          [ 1.1939]]]], device='cuda:0')"
      ]
     },
     "execution_count": 16,
     "metadata": {},
     "output_type": "execute_result"
    }
   ],
   "source": [
    "dIgs_cu.unsqueeze(-1)"
   ]
  },
  {
   "cell_type": "code",
   "execution_count": 13,
   "metadata": {},
   "outputs": [
    {
     "data": {
      "text/plain": [
       "tensor([[[[ 6.1219e+00],\n",
       "          [ 7.3210e-01],\n",
       "          [ 2.4523e+00],\n",
       "          [ 3.0649e+00],\n",
       "          [ 2.1296e+00],\n",
       "          [ 7.6970e-01],\n",
       "          [ 8.0635e+00],\n",
       "          [ 2.6605e-01],\n",
       "          [ 2.8676e+00],\n",
       "          [-1.7003e+00],\n",
       "          [ 2.1132e-01],\n",
       "          [ 1.3613e+00],\n",
       "          [ 4.2462e-01],\n",
       "          [ 8.0890e+00],\n",
       "          [ 5.1872e+00],\n",
       "          [ 7.0967e-01],\n",
       "          [ 1.3349e+01],\n",
       "          [-9.7979e-01],\n",
       "          [ 3.5690e+00],\n",
       "          [-5.1287e-01],\n",
       "          [ 6.9646e-01],\n",
       "          [ 1.0673e+00],\n",
       "          [ 5.5749e+00],\n",
       "          [-3.3935e-01],\n",
       "          [ 8.6814e-05],\n",
       "          [ 3.3688e+00],\n",
       "          [ 1.1465e-01],\n",
       "          [ 1.2180e+00],\n",
       "          [ 5.3781e+00],\n",
       "          [ 7.3750e+00],\n",
       "          [ 1.0271e+00],\n",
       "          [ 7.7895e+00],\n",
       "          [ 3.4989e+00],\n",
       "          [ 6.9227e-01],\n",
       "          [ 1.2521e+01],\n",
       "          [ 2.2172e-01],\n",
       "          [ 4.7920e+00],\n",
       "          [ 6.0415e-01],\n",
       "          [ 2.8018e+00],\n",
       "          [ 2.2682e-01],\n",
       "          [ 1.5406e+00],\n",
       "          [ 7.2706e+00],\n",
       "          [ 1.1437e+00],\n",
       "          [ 3.1559e-01],\n",
       "          [ 1.8419e+00],\n",
       "          [ 4.0405e-02],\n",
       "          [-9.7288e-02],\n",
       "          [ 9.9358e-01],\n",
       "          [ 2.2841e+00],\n",
       "          [-6.4965e-01],\n",
       "          [ 1.4312e+00],\n",
       "          [ 2.5603e+00],\n",
       "          [ 4.0268e+01],\n",
       "          [ 1.7432e-01],\n",
       "          [ 9.4742e+00],\n",
       "          [ 2.1577e+00],\n",
       "          [ 3.5761e-02],\n",
       "          [-2.5396e-01],\n",
       "          [ 7.6760e-01],\n",
       "          [ 1.9595e+01],\n",
       "          [ 4.0970e+00],\n",
       "          [ 7.8107e-01],\n",
       "          [ 2.4614e-02],\n",
       "          [-2.1997e+00]]]], device='cuda:0')"
      ]
     },
     "execution_count": 13,
     "metadata": {},
     "output_type": "execute_result"
    }
   ],
   "source": [
    "dIgs_cu.unsqueeze(-1) - dIgs_pt"
   ]
  },
  {
   "cell_type": "code",
   "execution_count": 14,
   "metadata": {},
   "outputs": [
    {
     "data": {
      "text/plain": [
       "tensor([[[[  0.0000],\n",
       "          [ -1.5770],\n",
       "          [ -0.3004],\n",
       "          [ -0.6507],\n",
       "          [ -0.3613],\n",
       "          [ -0.9145],\n",
       "          [ -0.3775],\n",
       "          [ -2.0444],\n",
       "          [ -2.7188],\n",
       "          [ -0.9667],\n",
       "          [ -1.1750],\n",
       "          [ -0.6765],\n",
       "          [ -0.6849],\n",
       "          [ -0.5396],\n",
       "          [ -0.6686],\n",
       "          [ -1.2604],\n",
       "          [ -1.7417],\n",
       "          [ -1.5277],\n",
       "          [ -3.2166],\n",
       "          [ -2.2239],\n",
       "          [ -0.0815],\n",
       "          [ -1.0029],\n",
       "          [ -0.4372],\n",
       "          [ -4.1834],\n",
       "          [ -0.3234],\n",
       "          [ -0.4246],\n",
       "          [ -2.2284],\n",
       "          [ -0.4372],\n",
       "          [ -0.2527],\n",
       "          [  1.0613],\n",
       "          [ -2.1446],\n",
       "          [ -3.2900],\n",
       "          [ -1.3072],\n",
       "          [ -0.4806],\n",
       "          [ -1.0196],\n",
       "          [ -7.3692],\n",
       "          [ -3.1217],\n",
       "          [ -2.4686],\n",
       "          [ -1.1705],\n",
       "          [ -0.3610],\n",
       "          [ -1.0262],\n",
       "          [ -0.3299],\n",
       "          [ -1.2559],\n",
       "          [ -2.3486],\n",
       "          [ -0.5827],\n",
       "          [ -0.4117],\n",
       "          [ -0.6999],\n",
       "          [ -0.0991],\n",
       "          [ -0.3528],\n",
       "          [ -0.4899],\n",
       "          [ -0.8313],\n",
       "          [ -1.0748],\n",
       "          [ -1.7877],\n",
       "          [ -9.6487],\n",
       "          [-15.2171],\n",
       "          [ -3.6067],\n",
       "          [ -1.8103],\n",
       "          [ -0.4715],\n",
       "          [ -1.0664],\n",
       "          [ -0.2334],\n",
       "          [ -7.2468],\n",
       "          [ -3.9683],\n",
       "          [ -1.1716],\n",
       "          [ -3.7149]]]], device='cuda:0')"
      ]
     },
     "execution_count": 14,
     "metadata": {},
     "output_type": "execute_result"
    }
   ],
   "source": [
    "dFgs_pt - dFgs_cu.unsqueeze(-1)"
   ]
  },
  {
   "cell_type": "code",
   "execution_count": 46,
   "metadata": {},
   "outputs": [
    {
     "data": {
      "text/plain": [
       "tensor([[[[ 0.0000],\n",
       "          [ 1.4528],\n",
       "          [ 0.3031],\n",
       "          [ 0.4206],\n",
       "          [ 0.5436],\n",
       "          [ 0.9366],\n",
       "          [ 1.6638],\n",
       "          [ 2.3195],\n",
       "          [ 4.6339],\n",
       "          [ 0.8998],\n",
       "          [ 1.8059],\n",
       "          [ 1.0760],\n",
       "          [ 1.5431],\n",
       "          [ 1.2358],\n",
       "          [ 0.8829],\n",
       "          [ 1.2974],\n",
       "          [ 1.4699],\n",
       "          [ 1.0244],\n",
       "          [ 3.3894],\n",
       "          [ 1.9622],\n",
       "          [ 0.1345],\n",
       "          [ 1.5733],\n",
       "          [ 0.3407],\n",
       "          [ 2.1736],\n",
       "          [ 0.3876],\n",
       "          [ 0.4497],\n",
       "          [ 1.7316],\n",
       "          [ 0.3744],\n",
       "          [ 0.4056],\n",
       "          [ 1.7252],\n",
       "          [ 2.4899],\n",
       "          [ 2.8894],\n",
       "          [ 1.6854],\n",
       "          [ 1.5709],\n",
       "          [ 1.2973],\n",
       "          [ 3.1742],\n",
       "          [ 1.8398],\n",
       "          [ 1.5917],\n",
       "          [ 0.7932],\n",
       "          [ 2.2268],\n",
       "          [ 1.1443],\n",
       "          [ 0.5085],\n",
       "          [ 0.9357],\n",
       "          [ 2.2702],\n",
       "          [ 0.6213],\n",
       "          [ 0.5056],\n",
       "          [ 0.8179],\n",
       "          [ 0.1068],\n",
       "          [ 0.2868],\n",
       "          [ 0.3640],\n",
       "          [ 0.5972],\n",
       "          [ 1.0122],\n",
       "          [ 2.1274],\n",
       "          [ 6.1058],\n",
       "          [11.2631],\n",
       "          [ 6.1318],\n",
       "          [ 2.5528],\n",
       "          [ 0.8538],\n",
       "          [ 0.9090],\n",
       "          [ 0.2526],\n",
       "          [ 4.5265],\n",
       "          [ 2.4561],\n",
       "          [ 0.8288],\n",
       "          [ 2.4190]]]], device='cuda:0')"
      ]
     },
     "execution_count": 46,
     "metadata": {},
     "output_type": "execute_result"
    }
   ],
   "source": [
    "dFgs_cu.unsqueeze(-1)"
   ]
  },
  {
   "cell_type": "code",
   "execution_count": 47,
   "metadata": {},
   "outputs": [
    {
     "data": {
      "text/plain": [
       "tensor([[[[ 0.0000e+00],\n",
       "          [-1.2414e-01],\n",
       "          [ 2.6844e-03],\n",
       "          [-2.3010e-01],\n",
       "          [ 1.8230e-01],\n",
       "          [ 2.2131e-02],\n",
       "          [ 1.2863e+00],\n",
       "          [ 2.7503e-01],\n",
       "          [ 1.9151e+00],\n",
       "          [-6.6840e-02],\n",
       "          [ 6.3091e-01],\n",
       "          [ 3.9952e-01],\n",
       "          [ 8.5826e-01],\n",
       "          [ 6.9611e-01],\n",
       "          [ 2.1424e-01],\n",
       "          [ 3.7011e-02],\n",
       "          [-2.7183e-01],\n",
       "          [-5.0328e-01],\n",
       "          [ 1.7285e-01],\n",
       "          [-2.6171e-01],\n",
       "          [ 5.2954e-02],\n",
       "          [ 5.7039e-01],\n",
       "          [-9.6497e-02],\n",
       "          [-2.0098e+00],\n",
       "          [ 6.4235e-02],\n",
       "          [ 2.5044e-02],\n",
       "          [-4.9683e-01],\n",
       "          [-6.2860e-02],\n",
       "          [ 1.5297e-01],\n",
       "          [ 2.7864e+00],\n",
       "          [ 3.4535e-01],\n",
       "          [-4.0065e-01],\n",
       "          [ 3.7816e-01],\n",
       "          [ 1.0902e+00],\n",
       "          [ 2.7775e-01],\n",
       "          [-4.1950e+00],\n",
       "          [-1.2819e+00],\n",
       "          [-8.7695e-01],\n",
       "          [-3.7726e-01],\n",
       "          [ 1.8658e+00],\n",
       "          [ 1.1813e-01],\n",
       "          [ 1.7859e-01],\n",
       "          [-3.2024e-01],\n",
       "          [-7.8390e-02],\n",
       "          [ 3.8559e-02],\n",
       "          [ 9.3977e-02],\n",
       "          [ 1.1797e-01],\n",
       "          [ 7.7298e-03],\n",
       "          [-6.6005e-02],\n",
       "          [-1.2588e-01],\n",
       "          [-2.3414e-01],\n",
       "          [-6.2511e-02],\n",
       "          [ 3.3971e-01],\n",
       "          [-3.5429e+00],\n",
       "          [-3.9540e+00],\n",
       "          [ 2.5251e+00],\n",
       "          [ 7.4248e-01],\n",
       "          [ 3.8230e-01],\n",
       "          [-1.5744e-01],\n",
       "          [ 1.9187e-02],\n",
       "          [-2.7203e+00],\n",
       "          [-1.5123e+00],\n",
       "          [-3.4274e-01],\n",
       "          [-1.2959e+00]]]], device='cuda:0')"
      ]
     },
     "execution_count": 47,
     "metadata": {},
     "output_type": "execute_result"
    }
   ],
   "source": [
    "dFgs_pt"
   ]
  },
  {
   "cell_type": "code",
   "execution_count": 17,
   "metadata": {},
   "outputs": [
    {
     "data": {
      "text/plain": [
       "tensor([[[[ 0.0000e+00,  0.0000e+00,  0.0000e+00,  0.0000e+00,  0.0000e+00,  0.0000e+00,  0.0000e+00,  0.0000e+00,  0.0000e+00,  0.0000e+00],\n",
       "          [ 0.0000e+00,  0.0000e+00,  0.0000e+00,  0.0000e+00,  0.0000e+00,  0.0000e+00,  0.0000e+00,  0.0000e+00,  0.0000e+00,  0.0000e+00],\n",
       "          [ 0.0000e+00,  0.0000e+00,  0.0000e+00,  0.0000e+00,  0.0000e+00,  0.0000e+00,  0.0000e+00,  0.0000e+00,  0.0000e+00,  0.0000e+00],\n",
       "          [ 0.0000e+00,  0.0000e+00,  0.0000e+00,  0.0000e+00,  0.0000e+00,  0.0000e+00,  0.0000e+00,  0.0000e+00,  0.0000e+00,  0.0000e+00],\n",
       "          [ 0.0000e+00,  0.0000e+00,  0.0000e+00,  0.0000e+00,  0.0000e+00,  0.0000e+00,  0.0000e+00,  0.0000e+00,  0.0000e+00,  0.0000e+00],\n",
       "          [ 0.0000e+00,  0.0000e+00,  0.0000e+00,  0.0000e+00,  0.0000e+00,  0.0000e+00,  0.0000e+00,  0.0000e+00,  0.0000e+00,  0.0000e+00],\n",
       "          [ 0.0000e+00,  0.0000e+00,  0.0000e+00,  0.0000e+00,  0.0000e+00,  0.0000e+00,  0.0000e+00,  0.0000e+00,  0.0000e+00,  0.0000e+00],\n",
       "          [ 0.0000e+00,  0.0000e+00,  0.0000e+00,  0.0000e+00,  0.0000e+00,  0.0000e+00,  0.0000e+00,  0.0000e+00,  0.0000e+00,  0.0000e+00],\n",
       "          [ 0.0000e+00,  0.0000e+00,  0.0000e+00,  0.0000e+00,  0.0000e+00,  0.0000e+00,  0.0000e+00,  0.0000e+00,  0.0000e+00,  0.0000e+00],\n",
       "          [ 0.0000e+00,  0.0000e+00,  0.0000e+00,  0.0000e+00,  0.0000e+00,  0.0000e+00,  0.0000e+00,  0.0000e+00,  0.0000e+00,  0.0000e+00],\n",
       "          [ 0.0000e+00,  0.0000e+00,  0.0000e+00,  0.0000e+00,  0.0000e+00,  0.0000e+00,  0.0000e+00,  0.0000e+00,  0.0000e+00,  0.0000e+00],\n",
       "          [ 0.0000e+00,  0.0000e+00,  0.0000e+00,  0.0000e+00,  0.0000e+00,  0.0000e+00,  0.0000e+00,  0.0000e+00,  0.0000e+00,  0.0000e+00],\n",
       "          [ 0.0000e+00,  0.0000e+00,  0.0000e+00,  0.0000e+00,  0.0000e+00,  0.0000e+00,  0.0000e+00,  0.0000e+00,  0.0000e+00,  0.0000e+00],\n",
       "          [ 0.0000e+00,  0.0000e+00,  0.0000e+00,  0.0000e+00,  0.0000e+00,  0.0000e+00,  0.0000e+00,  0.0000e+00,  0.0000e+00,  0.0000e+00],\n",
       "          [ 0.0000e+00,  0.0000e+00,  0.0000e+00,  0.0000e+00,  0.0000e+00,  0.0000e+00,  0.0000e+00,  0.0000e+00,  0.0000e+00,  0.0000e+00],\n",
       "          [ 0.0000e+00,  0.0000e+00,  0.0000e+00,  0.0000e+00,  0.0000e+00,  0.0000e+00,  0.0000e+00,  0.0000e+00,  0.0000e+00,  0.0000e+00],\n",
       "          [ 0.0000e+00,  0.0000e+00,  0.0000e+00,  0.0000e+00,  0.0000e+00,  0.0000e+00,  0.0000e+00,  0.0000e+00,  0.0000e+00,  0.0000e+00],\n",
       "          [ 0.0000e+00,  0.0000e+00,  0.0000e+00,  0.0000e+00,  0.0000e+00,  0.0000e+00,  0.0000e+00,  0.0000e+00,  0.0000e+00,  0.0000e+00],\n",
       "          [ 0.0000e+00,  0.0000e+00,  0.0000e+00,  0.0000e+00,  0.0000e+00,  0.0000e+00,  0.0000e+00,  0.0000e+00,  0.0000e+00,  0.0000e+00],\n",
       "          [ 0.0000e+00,  0.0000e+00,  0.0000e+00,  0.0000e+00,  0.0000e+00,  0.0000e+00,  0.0000e+00,  0.0000e+00,  0.0000e+00,  0.0000e+00],\n",
       "          [ 0.0000e+00,  0.0000e+00,  0.0000e+00,  0.0000e+00,  0.0000e+00,  0.0000e+00,  0.0000e+00,  0.0000e+00,  0.0000e+00,  0.0000e+00],\n",
       "          [ 0.0000e+00,  0.0000e+00,  0.0000e+00,  0.0000e+00,  0.0000e+00,  0.0000e+00,  0.0000e+00,  0.0000e+00,  0.0000e+00,  0.0000e+00],\n",
       "          [ 0.0000e+00,  0.0000e+00,  0.0000e+00,  0.0000e+00,  0.0000e+00,  0.0000e+00,  0.0000e+00,  0.0000e+00,  0.0000e+00,  0.0000e+00],\n",
       "          [ 0.0000e+00,  0.0000e+00,  0.0000e+00,  0.0000e+00,  0.0000e+00,  0.0000e+00,  0.0000e+00,  0.0000e+00,  0.0000e+00,  0.0000e+00],\n",
       "          [ 0.0000e+00,  0.0000e+00,  0.0000e+00,  0.0000e+00,  0.0000e+00,  0.0000e+00,  0.0000e+00,  0.0000e+00,  0.0000e+00,  0.0000e+00],\n",
       "          [ 0.0000e+00,  0.0000e+00,  0.0000e+00,  0.0000e+00,  0.0000e+00,  0.0000e+00,  0.0000e+00,  0.0000e+00,  0.0000e+00,  0.0000e+00],\n",
       "          [ 0.0000e+00,  0.0000e+00,  0.0000e+00,  0.0000e+00,  0.0000e+00,  0.0000e+00,  0.0000e+00,  0.0000e+00,  0.0000e+00,  0.0000e+00],\n",
       "          [ 0.0000e+00,  0.0000e+00,  0.0000e+00,  0.0000e+00,  0.0000e+00,  0.0000e+00,  0.0000e+00,  0.0000e+00,  0.0000e+00,  0.0000e+00],\n",
       "          [ 0.0000e+00,  0.0000e+00,  0.0000e+00,  0.0000e+00,  0.0000e+00,  0.0000e+00,  0.0000e+00,  0.0000e+00,  0.0000e+00,  0.0000e+00],\n",
       "          [ 0.0000e+00,  0.0000e+00,  0.0000e+00,  0.0000e+00,  0.0000e+00,  0.0000e+00,  0.0000e+00,  0.0000e+00,  0.0000e+00,  0.0000e+00],\n",
       "          [ 0.0000e+00,  0.0000e+00,  0.0000e+00,  0.0000e+00,  0.0000e+00,  0.0000e+00,  0.0000e+00,  0.0000e+00,  0.0000e+00,  0.0000e+00],\n",
       "          [ 0.0000e+00,  0.0000e+00,  0.0000e+00,  0.0000e+00,  0.0000e+00,  0.0000e+00,  0.0000e+00,  0.0000e+00,  0.0000e+00,  0.0000e+00],\n",
       "          [ 0.0000e+00,  0.0000e+00,  0.0000e+00,  0.0000e+00,  0.0000e+00,  0.0000e+00,  0.0000e+00,  0.0000e+00,  0.0000e+00,  0.0000e+00],\n",
       "          [ 0.0000e+00,  0.0000e+00,  0.0000e+00,  0.0000e+00,  0.0000e+00,  0.0000e+00,  0.0000e+00,  0.0000e+00,  0.0000e+00,  0.0000e+00],\n",
       "          [ 0.0000e+00,  0.0000e+00,  0.0000e+00,  0.0000e+00,  0.0000e+00,  0.0000e+00,  0.0000e+00,  0.0000e+00,  0.0000e+00,  0.0000e+00],\n",
       "          [ 0.0000e+00,  0.0000e+00,  0.0000e+00,  0.0000e+00,  0.0000e+00,  0.0000e+00,  0.0000e+00,  0.0000e+00,  0.0000e+00,  0.0000e+00],\n",
       "          [ 0.0000e+00,  0.0000e+00,  0.0000e+00,  0.0000e+00,  0.0000e+00,  0.0000e+00,  0.0000e+00,  0.0000e+00,  0.0000e+00,  0.0000e+00],\n",
       "          [ 0.0000e+00,  0.0000e+00,  0.0000e+00,  0.0000e+00,  0.0000e+00,  0.0000e+00,  0.0000e+00,  0.0000e+00,  0.0000e+00,  0.0000e+00],\n",
       "          [ 0.0000e+00,  0.0000e+00,  0.0000e+00,  0.0000e+00,  0.0000e+00,  0.0000e+00,  0.0000e+00,  0.0000e+00,  0.0000e+00,  0.0000e+00],\n",
       "          [ 0.0000e+00,  0.0000e+00,  0.0000e+00,  0.0000e+00,  0.0000e+00,  0.0000e+00,  0.0000e+00,  0.0000e+00,  0.0000e+00,  0.0000e+00],\n",
       "          [ 0.0000e+00,  0.0000e+00,  0.0000e+00,  0.0000e+00,  0.0000e+00,  0.0000e+00,  0.0000e+00,  0.0000e+00,  0.0000e+00,  0.0000e+00],\n",
       "          [ 0.0000e+00,  0.0000e+00,  0.0000e+00,  0.0000e+00,  0.0000e+00,  0.0000e+00,  0.0000e+00,  0.0000e+00,  0.0000e+00,  0.0000e+00],\n",
       "          [ 0.0000e+00,  0.0000e+00,  0.0000e+00,  0.0000e+00,  0.0000e+00,  0.0000e+00,  0.0000e+00,  0.0000e+00,  0.0000e+00,  0.0000e+00],\n",
       "          [ 0.0000e+00,  0.0000e+00,  0.0000e+00,  0.0000e+00,  0.0000e+00,  0.0000e+00,  0.0000e+00,  0.0000e+00,  0.0000e+00,  0.0000e+00],\n",
       "          [ 0.0000e+00,  0.0000e+00,  0.0000e+00,  0.0000e+00,  0.0000e+00,  0.0000e+00,  0.0000e+00,  0.0000e+00,  0.0000e+00,  0.0000e+00],\n",
       "          [ 0.0000e+00,  0.0000e+00,  0.0000e+00,  0.0000e+00,  0.0000e+00,  0.0000e+00,  0.0000e+00,  0.0000e+00,  0.0000e+00,  0.0000e+00],\n",
       "          [ 0.0000e+00,  0.0000e+00,  0.0000e+00,  0.0000e+00,  0.0000e+00,  0.0000e+00,  0.0000e+00,  0.0000e+00,  0.0000e+00,  0.0000e+00],\n",
       "          [ 0.0000e+00,  0.0000e+00,  0.0000e+00,  0.0000e+00,  0.0000e+00,  0.0000e+00,  0.0000e+00,  0.0000e+00,  0.0000e+00,  0.0000e+00],\n",
       "          [ 0.0000e+00,  0.0000e+00,  0.0000e+00,  0.0000e+00,  0.0000e+00,  0.0000e+00,  0.0000e+00,  0.0000e+00,  0.0000e+00,  0.0000e+00],\n",
       "          [ 0.0000e+00,  0.0000e+00,  0.0000e+00,  0.0000e+00,  0.0000e+00,  0.0000e+00,  0.0000e+00,  0.0000e+00,  0.0000e+00,  0.0000e+00],\n",
       "          [ 0.0000e+00,  0.0000e+00,  0.0000e+00,  0.0000e+00,  0.0000e+00,  0.0000e+00,  0.0000e+00,  0.0000e+00,  0.0000e+00,  0.0000e+00],\n",
       "          [ 0.0000e+00,  0.0000e+00,  0.0000e+00,  0.0000e+00,  0.0000e+00,  0.0000e+00,  0.0000e+00,  0.0000e+00,  0.0000e+00,  0.0000e+00],\n",
       "          [ 0.0000e+00,  0.0000e+00,  0.0000e+00,  0.0000e+00,  0.0000e+00,  0.0000e+00,  0.0000e+00,  0.0000e+00,  0.0000e+00,  0.0000e+00],\n",
       "          [ 0.0000e+00,  0.0000e+00,  0.0000e+00,  0.0000e+00,  0.0000e+00,  0.0000e+00,  0.0000e+00,  0.0000e+00,  0.0000e+00,  0.0000e+00],\n",
       "          [ 0.0000e+00,  0.0000e+00,  0.0000e+00,  0.0000e+00,  0.0000e+00,  0.0000e+00,  0.0000e+00,  0.0000e+00,  0.0000e+00,  0.0000e+00],\n",
       "          [ 2.2049e+00,  0.0000e+00,  0.0000e+00,  0.0000e+00,  0.0000e+00,  0.0000e+00,  0.0000e+00,  0.0000e+00,  0.0000e+00,  0.0000e+00],\n",
       "          [ 3.9755e+00,  4.3753e+00,  0.0000e+00,  0.0000e+00,  0.0000e+00,  0.0000e+00,  0.0000e+00,  0.0000e+00,  0.0000e+00,  0.0000e+00],\n",
       "          [-5.8275e-01,  8.0096e-01,  8.2976e-01,  0.0000e+00,  0.0000e+00,  0.0000e+00,  0.0000e+00,  0.0000e+00,  0.0000e+00,  0.0000e+00],\n",
       "          [ 8.4517e-01,  1.2554e+00,  1.2841e+00,  1.3023e+00,  0.0000e+00,  0.0000e+00,  0.0000e+00,  0.0000e+00,  0.0000e+00,  0.0000e+00],\n",
       "          [ 3.6840e-03,  7.0497e-03,  5.7316e-03,  1.2157e-02,  2.6229e-02,  0.0000e+00,  0.0000e+00,  0.0000e+00,  0.0000e+00,  0.0000e+00],\n",
       "          [ 5.1911e-02,  7.8013e-02,  7.6005e-02,  8.5162e-02,  2.0012e-01, -7.2078e-01,  0.0000e+00,  0.0000e+00,  0.0000e+00,  0.0000e+00],\n",
       "          [ 1.5253e-02,  1.5540e-02,  1.6505e-02,  1.9786e-02,  1.9852e-02,  3.1104e+00,  3.4574e+00,  0.0000e+00,  0.0000e+00,  0.0000e+00],\n",
       "          [ 8.6945e-04,  2.8530e-03,  4.8853e-03,  5.8117e-03,  1.2303e-02,  3.5310e+00,  4.9205e+00,  4.7277e+00,  0.0000e+00,  0.0000e+00],\n",
       "          [ 2.4792e-03,  2.5107e-03,  2.3607e-03,  2.7125e-03,  3.6455e-02,  7.0521e+00,  7.6839e+00,  7.5152e+00,  7.5089e+00,  0.0000e+00]]]], device='cuda:0')"
      ]
     },
     "execution_count": 17,
     "metadata": {},
     "output_type": "execute_result"
    }
   ],
   "source": [
    "(matC_cu - delta_Dtilde_pt.cumsum(-1).tril(-1))[:, :, :, -10:]"
   ]
  },
  {
   "cell_type": "code",
   "execution_count": 49,
   "metadata": {},
   "outputs": [
    {
     "data": {
      "text/plain": [
       "(tensor([[[[-9.8476e-02, -1.0624e+00,  7.3198e-01, -5.7170e-02,  8.7682e-01,  9.3099e-01,  1.6191e+00,  4.4913e-01],\n",
       "           [-1.3787e-01, -6.8026e-01, -7.2337e-02,  4.5806e-01,  4.5209e-03,  3.3707e-01,  1.4630e+00,  1.0128e+00],\n",
       "           [ 3.8917e-01, -8.8906e-01,  1.0923e-01,  5.2035e-01,  2.4678e+00,  5.1549e-01,  1.6201e+00,  2.0529e-01],\n",
       "           [-7.6929e-01, -5.1645e-02,  1.3216e+00, -1.2490e-01, -1.3893e-01, -5.1549e-01,  8.4434e-02, -2.0935e-01],\n",
       "           [ 2.0237e-01,  5.8949e-02,  1.3663e+00,  2.2916e-01, -6.8411e-01,  4.0913e-01, -2.6146e-01,  4.9618e-01],\n",
       "           [-3.4881e-02, -1.2679e-01,  2.7393e-02, -1.1458e-01, -1.3392e+00, -1.1280e-02, -1.5187e+00, -8.1033e-01],\n",
       "           [ 8.4025e-01,  1.0261e+00, -1.3806e-01, -9.7477e-01, -5.3605e+00,  8.6340e-01,  1.4067e+00, -9.8367e-01],\n",
       "           [-1.2164e+00, -7.7948e-01,  2.2202e+00,  4.3661e-01, -1.4633e+00,  1.4385e+00,  2.2941e+00,  1.5258e-01],\n",
       "           [ 1.6697e+00, -1.6604e+00, -5.8886e-01,  5.7453e-01,  3.2665e+00, -8.3248e-01, -3.1175e+00,  1.0643e+00],\n",
       "           [ 5.6330e-01, -2.1579e-01, -8.0372e-01,  1.9234e-01,  1.9533e+00, -1.0322e+00, -5.3051e-01,  1.2836e-01],\n",
       "           [-4.1981e+00,  9.7755e-01,  2.7998e+00,  9.5728e-01, -2.1273e+00,  3.4676e+00,  2.7693e+00, -8.1484e-01],\n",
       "           [ 1.1278e-02, -1.4668e+00,  7.4957e-01, -7.1940e-01, -3.3102e-01, -7.3733e-01, -2.4826e+00,  2.2815e+00],\n",
       "           [ 8.7164e-02, -6.0820e-02, -2.7411e-03,  7.8551e-02, -1.0192e-01,  8.4144e-02, -1.0767e-01,  3.3642e-02],\n",
       "           [-6.4814e-01, -1.6187e+00,  6.8807e-01, -3.4007e-03, -3.9586e-01, -1.0211e+00, -1.5851e+00, -2.9293e-02],\n",
       "           [-9.8567e-02, -1.1423e+00, -1.8607e+00,  1.0888e+00,  2.5035e+00,  6.2584e-01,  2.9607e+00,  2.9784e+00],\n",
       "           [-1.4247e-02, -1.6484e+00, -3.3772e-01, -5.2268e-01,  1.4162e-01, -2.7782e-01,  4.6868e-01,  2.4398e-01],\n",
       "           [ 6.3262e-01,  1.1839e+00,  1.1265e+00, -2.4277e-01, -1.1435e+00,  6.9726e-01,  2.3300e+00, -7.9752e-01],\n",
       "           [ 2.7664e-01, -7.2717e-01,  2.8840e-02,  1.2498e+00, -1.4690e-01,  1.1953e+00,  2.4865e+00,  1.6822e+00],\n",
       "           [ 7.7838e-01,  8.8954e-01,  3.1405e-01, -1.2008e+00,  1.6607e-01, -7.8219e-03,  3.0556e-01, -3.3085e-01],\n",
       "           [ 1.4653e+00,  2.8135e-01, -1.5719e+00, -1.2644e-01, -9.3213e-01,  5.9205e-01,  2.1098e+00,  2.0445e+00],\n",
       "           [-4.0817e-01, -1.1457e-01,  1.3915e-02,  1.6856e+00, -1.6650e+00,  2.1581e+00,  3.4334e+00,  1.3462e+00],\n",
       "           [-4.1938e-01, -1.7164e+00, -1.0339e+00, -4.7981e-01, -1.6130e-01, -6.3174e-01, -9.9361e-01, -1.3894e+00],\n",
       "           [ 2.2403e+00, -1.3651e+00,  2.8062e-01,  4.1405e-01, -2.1274e-01,  1.8096e-01,  3.3724e-01, -8.9751e-01],\n",
       "           [-2.6950e+00, -9.3763e-01, -2.4396e-01, -1.0073e+00, -8.2501e-01, -1.2061e+00, -2.4128e+00,  1.4808e+00],\n",
       "           [-2.4602e-01, -3.2147e-01,  1.3005e-01, -3.5642e-01, -2.4516e-01, -1.4465e-01, -2.2286e-01, -8.3019e-02],\n",
       "           [ 1.3425e+00, -7.8732e-01, -1.3493e+00, -1.8262e-02,  3.2309e-01,  6.0961e-01, -2.1511e+00, -3.7074e-01],\n",
       "           [-3.3907e-01,  1.4139e+00,  5.3388e-01,  6.1927e-01,  3.9278e-02, -3.1365e-01,  5.7154e-01, -3.0092e-01],\n",
       "           [ 1.3446e+00, -1.0572e+00, -3.0626e-01, -1.9343e-01, -9.0589e-02,  7.2058e-01, -1.5207e+00,  1.0691e+00],\n",
       "           [-7.9593e-01, -2.2906e-02, -7.3034e-01,  1.1695e-01,  4.8733e-01,  2.7208e-03,  3.2037e+00,  3.4554e+00],\n",
       "           [-1.8657e+00,  1.8196e+00, -1.3646e+00,  2.6167e+00,  3.0758e+00, -7.4697e+00,  1.3360e+00,  2.4009e+00],\n",
       "           [-1.1371e-02,  1.9881e-01,  1.5065e+00,  1.2113e-01, -7.6572e-01,  1.2547e+00, -8.7523e-01,  3.8134e-01],\n",
       "           [ 2.9378e-02,  9.1280e-01, -1.7820e-02,  9.3308e-01,  2.5220e+00,  3.0197e-01,  4.8436e-01, -3.4076e-01],\n",
       "           [ 9.9399e-01, -3.0051e+00, -1.7925e+00,  3.9107e+00,  1.7113e+00, -3.6006e-01,  5.7461e+00, -1.9528e+00],\n",
       "           [-8.6628e-01,  3.0418e-01,  6.0403e-01, -9.9450e-01, -3.5994e-01, -1.3747e+00, -1.7347e+00,  9.2672e-02],\n",
       "           [ 8.7269e-01,  1.5284e+00, -2.9163e+00, -2.0056e+00,  1.0356e+00, -3.5185e+00,  3.4572e-01,  3.1634e+00],\n",
       "           [-5.4686e-01, -2.4015e+00,  4.9860e+00,  5.9565e-01, -8.8356e-01,  4.9863e+00,  2.5617e-01, -1.2139e+00],\n",
       "           [ 6.5157e-01,  2.9643e+00, -3.9707e+00,  4.8228e-01, -9.9322e-01, -4.5101e+00,  2.3356e+00,  3.1426e+00],\n",
       "           [-2.0695e-01, -3.3925e-01, -1.8031e-01,  2.0558e-01,  1.7081e-01, -4.3969e-03, -2.1729e-01, -3.5575e-01],\n",
       "           [-7.2252e-01, -5.5735e-01,  1.7194e-01, -4.9518e-02,  6.0713e-01,  2.8959e-01, -1.6768e+00,  1.2799e-01],\n",
       "           [-2.4550e+00,  1.4628e+00,  1.9367e-02,  1.1301e+00, -1.4454e+00,  3.6320e-01, -1.4733e+00,  2.9103e-01],\n",
       "           [ 2.2022e+00,  3.5566e-01, -7.9432e-01, -9.4401e-03, -4.9211e-01, -4.0260e-01,  1.0593e+00, -5.8310e-01],\n",
       "           [ 1.0205e+00,  1.5697e-01,  5.6703e-01,  8.2942e-02,  8.7802e-01,  1.3407e+00,  5.6497e-01, -6.5064e-01],\n",
       "           [ 1.6684e-01, -5.6559e-01,  5.1486e-01,  2.4798e-01, -1.7715e-01,  1.1161e+00,  2.3379e-01,  9.6728e-01],\n",
       "           [-5.2336e-01,  7.7379e-02, -3.8589e-01,  1.4147e-01, -7.4923e-01, -7.1979e-01, -4.2762e-01,  3.8801e-01],\n",
       "           [-2.8946e-01, -2.8174e-01, -1.8790e-01,  3.2437e-01, -6.0327e-02, -5.1381e-01, -1.1917e-01, -8.9909e-02],\n",
       "           [ 1.0386e+00, -1.0221e+00,  9.7694e-01, -7.5846e-02,  1.5080e+00,  5.8035e-01,  1.1785e-01,  3.6420e-01],\n",
       "           [-4.1373e-01, -5.5021e-01, -4.8217e-02,  2.1768e-01,  6.1212e-01, -2.9003e-01,  3.8846e-01, -5.5423e-01],\n",
       "           [ 2.6372e-01,  5.0292e-01, -6.6690e-01, -2.9521e-01,  3.6762e-01,  9.5930e-01,  1.2874e-01, -5.1908e-01],\n",
       "           [-3.6009e-01, -4.1123e-02, -1.6148e+00,  1.2345e+00,  7.2421e-01, -1.9493e-01,  1.9737e+00,  3.3680e-01],\n",
       "           [-6.1311e-01, -7.1975e-01,  8.1851e-01,  1.4245e-02,  3.3321e-01,  1.4291e+00,  8.5176e-01, -2.6658e-01],\n",
       "           [ 1.2833e+00, -3.1817e+00,  5.0754e-01,  1.5046e+00, -4.7510e-01,  4.4986e-01,  1.7535e+00,  1.9679e-01],\n",
       "           [ 1.5604e-01,  5.9184e-01, -1.3000e+00, -1.5847e+00,  4.1534e-01,  3.2571e-01, -1.7381e+00,  1.0459e+00],\n",
       "           [ 3.3946e-01, -1.3260e-01, -3.3201e-01, -9.1906e-01,  1.4457e+00,  2.8517e-01, -3.3849e-01,  6.0171e-01],\n",
       "           [ 3.9389e-01,  7.4586e-01,  1.4433e+00,  1.9392e+00, -3.9682e+00, -2.1118e+00,  3.8233e+00, -4.3717e+00],\n",
       "           [ 9.4587e-01,  2.1201e+00,  4.7019e+00,  2.3411e+00, -8.9576e+00, -3.8778e+00,  4.5492e+00, -4.9692e+00],\n",
       "           [-1.1354e+00, -3.7415e-01, -8.7637e-01,  1.3371e+00,  1.4810e+00,  5.2264e-01, -1.2401e+00,  1.4452e+00],\n",
       "           [-5.6136e-01,  1.6879e-01,  3.7851e-01, -7.5302e-01, -7.7577e-01,  2.4033e-01, -7.2383e-01, -1.2400e+00],\n",
       "           [ 1.0496e+00,  1.0492e-01,  3.8351e-01, -2.5313e+00, -2.1801e+00,  1.5812e+00, -4.8773e-01, -1.9430e+00],\n",
       "           [ 3.5113e-01,  1.0174e+00,  1.6376e-01,  2.6173e-01,  1.4775e+00, -3.3224e-01, -6.1577e-01,  3.0722e-01],\n",
       "           [-4.5104e-01,  2.1832e+00,  4.3567e+00,  8.2256e-01,  8.3414e-01, -2.3287e+00, -2.6752e+00, -1.5281e+00],\n",
       "           [-6.9803e-01,  2.9711e+00,  8.8766e+00,  1.1339e+00, -1.4857e+00, -4.5738e+00, -5.2080e+00,  1.3758e+00],\n",
       "           [-3.8156e-01,  8.1025e-01,  4.2965e+00,  2.5095e-01,  3.6381e-01, -2.1027e+00, -2.3601e+00, -3.8801e-01],\n",
       "           [ 5.2004e-02, -1.2590e+00, -1.6516e+00, -5.3153e-01, -9.6390e-01,  1.1087e+00,  1.1141e+00,  2.1761e+00],\n",
       "           [ 8.8732e-01, -1.5920e+00,  4.8306e+00, -2.7330e+00, -9.6378e-01,  2.9114e+00, -3.7483e+00, -3.9214e+00]]]], device='cuda:0'),\n",
       " tensor(8.9576, device='cuda:0'))"
      ]
     },
     "execution_count": 49,
     "metadata": {},
     "output_type": "execute_result"
    }
   ],
   "source": [
    "dQs_cu - dQs_pt, torch.abs(dQs_cu - dQs_pt).max()"
   ]
  },
  {
   "cell_type": "code",
   "execution_count": 50,
   "metadata": {},
   "outputs": [
    {
     "data": {
      "text/plain": [
       "(tensor([[[[ 1.7417e+00,  1.2189e+00,  4.1993e+00, -2.0140e+00, -3.9012e-01, -1.4985e-02, -1.5631e+00, -1.9928e+00],\n",
       "           [ 6.8877e-02, -2.4983e-01, -4.9053e-01, -4.5430e-01,  9.1288e-02,  4.3038e-01, -6.9520e-02,  2.9537e-01],\n",
       "           [-4.0452e-02,  8.6119e-01,  1.3530e+00,  9.0723e-01, -3.0176e-01, -1.1230e+00, -3.0999e-01, -1.0503e+00],\n",
       "           [ 9.0608e-02, -6.0949e-02,  1.6552e+00,  7.4164e-01,  1.1299e-02, -6.6878e-01,  1.2403e+00, -6.0752e-01],\n",
       "           [-4.0974e-01, -3.0396e-01, -4.7284e-01, -7.7436e-01, -5.2021e-01, -1.7552e-01,  4.6398e-01,  1.1254e+00],\n",
       "           [-9.8160e-02, -5.3453e-01, -2.5816e+00, -1.0868e+00,  8.8032e-02, -8.7518e-01,  1.6781e+00,  9.6061e-01],\n",
       "           [-2.7554e-01, -9.4364e-01,  1.3841e-01,  1.7026e-01, -7.0097e-01,  8.1499e-01,  5.5429e-01, -1.3242e+00],\n",
       "           [-5.6900e-01, -6.2272e-01, -1.8921e-01,  8.1786e-01, -9.5378e-03,  1.7053e-01,  7.3405e-01, -1.3253e+00],\n",
       "           [ 4.9877e-01, -2.3665e+00,  6.6398e+00, -2.2178e+00, -8.9650e-01, -2.5236e+00,  7.3986e-01, -8.1650e-01],\n",
       "           [ 6.0891e-02, -1.0049e+00,  3.3954e+00, -1.2328e+00,  2.0016e-01, -1.5122e+00,  2.3373e-01, -3.8793e-01],\n",
       "           [-1.9614e-01,  2.0352e-01, -8.4163e-01, -3.5280e-01, -1.6285e-02,  1.4536e-01, -3.5509e-01,  2.8574e-01],\n",
       "           [-3.2206e-01,  1.6529e-01,  2.4802e-01,  1.3005e+00,  2.3848e-01,  4.9709e-01,  7.7521e-01, -6.3297e-01],\n",
       "           [-7.4329e-01,  6.2677e-02, -1.4544e-01,  6.0165e-01,  5.4951e-02,  5.2520e-01, -8.6228e-01, -2.4237e-01],\n",
       "           [-8.1182e+00,  2.5113e-01, -2.7585e+00,  4.2189e+00,  2.7189e-01,  3.2662e+00, -7.7494e+00,  3.2740e-01],\n",
       "           [ 2.6650e+00,  4.4189e-01,  1.6536e+00, -1.9803e+00, -2.7814e-01, -1.7750e+00,  1.9892e+00,  2.4441e-02],\n",
       "           [ 1.0406e+00, -4.6839e-01,  7.9791e-01,  4.2006e-01, -1.0854e+00, -6.3693e-02, -9.3721e-01,  1.9292e-02],\n",
       "           [-1.9086e+00,  2.1023e+00, -9.8796e-01,  3.9717e+00, -4.5563e+00,  2.7848e-02, -5.1571e+00,  2.3681e+00],\n",
       "           [ 5.2899e-01, -2.7400e+00, -9.8857e-01,  1.0083e+00,  2.2883e+00,  1.2480e+00, -1.2709e-02, -9.6909e-01],\n",
       "           [-6.2931e-02, -7.9827e-01,  4.1185e-01, -7.0777e-01,  6.5289e-01,  1.0797e+00,  1.2193e+00, -1.0712e+00],\n",
       "           [ 4.6953e-02,  3.9820e-01, -3.8419e-01,  4.6438e-01, -6.0109e-01, -5.7412e-01, -1.0660e+00,  9.2166e-01],\n",
       "           [ 4.2079e-01, -2.9971e-01, -5.6400e-01,  4.5900e-01,  1.3036e+00, -8.2622e-01, -2.6062e-01, -2.5447e-02],\n",
       "           [ 2.6336e-01, -2.3192e-01,  1.3113e-01, -6.9428e-02,  8.4643e-01, -2.5645e-03,  3.6027e-01, -6.7875e-01],\n",
       "           [ 1.3299e+00, -5.2665e-01,  1.9164e+00,  4.1249e-01, -8.9125e-01,  5.9359e-01,  1.3983e+00,  8.2578e-01],\n",
       "           [ 1.3392e-01,  8.5134e-01,  5.7944e-01,  2.3695e-01, -1.0575e-01,  1.2052e-01,  7.8495e-01,  2.9137e-01],\n",
       "           [-7.5512e-03, -6.0990e-02, -2.7529e-02, -7.3778e-03, -9.6990e-03, -9.5827e-02, -1.6363e-02,  2.6766e-02],\n",
       "           [ 7.7278e-01,  9.3968e-01,  4.2966e-01,  5.3277e-01, -6.8243e-01,  1.8839e+00, -2.0883e-01, -1.0909e+00],\n",
       "           [ 1.4949e-02,  3.6008e-02,  2.1802e-02,  2.2267e-02, -5.9436e-02,  3.7271e-02, -2.8094e-02, -8.2148e-02],\n",
       "           [ 5.4749e-01,  1.0909e+00, -1.1842e+00,  3.4917e-01, -4.5559e-02, -9.6396e-02, -3.9905e-01,  2.7379e-01],\n",
       "           [-3.5220e+00,  2.2874e+00,  5.5674e+00, -1.4805e+00, -4.3879e+00, -2.5396e+00,  2.6541e-01, -4.3934e+00],\n",
       "           [-5.6281e-01,  5.5962e+00, -1.1990e+00, -1.2500e+00, -3.0566e+00,  2.3060e-02,  3.1751e+00, -7.1887e-01],\n",
       "           [ 4.9040e-01, -1.2958e-02, -3.9244e-02, -5.0963e-02, -1.5123e-01,  5.9698e-01,  1.5880e-01,  3.1816e-01],\n",
       "           [-2.5767e+00, -4.7780e-01, -2.3001e+00,  4.4633e+00,  4.0422e+00, -4.6916e+00, -8.3358e+00,  1.2834e+00],\n",
       "           [-4.8553e-01, -1.1244e+00,  2.4883e-01,  3.4903e-01,  1.1794e+00, -1.5816e+00, -9.8096e-01,  7.8400e-01],\n",
       "           [ 1.6023e-01, -8.7325e-02,  7.0009e-02, -2.0596e-01, -5.2110e-03, -1.4447e-01, -7.5645e-02, -2.6103e-01],\n",
       "           [ 1.2541e+00,  1.5605e+00,  1.7685e+00, -6.0041e+00,  1.6963e+00, -6.3440e+00,  3.6192e+00, -2.2373e+00],\n",
       "           [-6.5530e-03, -6.4272e-02, -1.9503e-02,  6.0938e-02,  1.4795e-03,  7.9141e-02, -7.8926e-02, -3.4654e-02],\n",
       "           [-8.2582e-01,  1.1537e+00, -1.5610e-01,  2.0150e+00,  9.9956e-01,  6.3876e-01, -1.1827e-01,  7.4449e-01],\n",
       "           [-4.5342e-04,  1.9085e-01, -5.9586e-03,  6.2528e-02,  1.8619e-01, -7.0020e-02, -6.2873e-02,  9.4707e-03],\n",
       "           [-3.7776e-01, -5.5855e-01,  6.5739e-01, -9.3289e-01, -2.4120e-01,  5.7759e-01, -1.1522e+00, -6.0176e-01],\n",
       "           [-2.8251e-01,  6.8691e-01, -3.3388e-01,  2.7035e-01,  3.4925e-02, -7.0379e-01,  3.1153e-01,  3.8812e-01],\n",
       "           [-2.1663e+00, -4.1673e-01, -4.6163e-01, -2.0962e-01,  4.8390e-02, -1.9700e-02, -6.9133e-02, -2.2417e+00],\n",
       "           [ 2.1839e+00, -3.4720e-01, -1.2250e+00, -1.4873e+00,  4.7736e+00,  1.9360e-01, -4.4876e-01, -5.3613e-01],\n",
       "           [ 6.9148e-01, -3.1876e-01,  4.4945e-02, -2.4255e-01,  4.4874e-01,  6.3984e-02, -1.4877e-01,  1.5351e-01],\n",
       "           [ 8.1899e-02, -7.8648e-02,  1.8094e-01,  1.2786e-01, -2.4695e-01, -1.7447e-01,  3.9733e-02,  4.8649e-02],\n",
       "           [ 3.0050e-03,  5.2440e-02,  5.2449e-02,  1.5878e-01,  1.6212e-01, -6.4103e-01,  3.1695e-01, -1.2849e-01],\n",
       "           [ 1.0729e-01,  1.1853e-01,  2.2474e-01,  1.3815e-01,  5.8896e-01, -1.2498e+00,  6.6760e-01, -1.2044e-01],\n",
       "           [-3.6649e-02,  1.6388e-01,  1.0984e-01,  3.8158e-02,  3.0187e-02, -1.8198e-02, -1.5905e-01,  5.0723e-02],\n",
       "           [-8.5922e-03, -2.9969e-01, -4.5930e-01, -1.0779e-01, -2.4104e-01,  1.6691e-01,  1.4925e-02, -1.7241e-01],\n",
       "           [-3.5587e-01, -3.0451e-01, -1.4943e-01, -2.2087e-02, -1.4764e-02,  5.7763e-01, -1.6799e+00, -1.8662e-01],\n",
       "           [-1.7306e+00, -1.2785e+00, -4.0190e-01,  4.7955e-01, -1.1590e+00, -8.1084e-01,  1.4290e+00,  2.2132e+00],\n",
       "           [-1.0224e+00, -5.7227e-01,  3.1161e-01,  6.7155e-01,  9.3734e-02, -1.1764e-01, -4.3236e-01,  4.1173e-01],\n",
       "           [ 5.9472e-01,  8.7522e-01,  1.1564e-01, -1.1857e-01,  1.5697e-01, -5.4760e-01,  5.5440e-01, -7.5710e-03],\n",
       "           [ 9.4181e-01, -1.1845e+01,  2.9609e+00,  9.5319e+00, -8.2057e+00, -5.2905e+00, -5.1850e-02, -8.4728e+00],\n",
       "           [ 1.8469e-02,  4.5239e-02, -2.5285e-02, -5.8601e-02,  5.9501e-03,  2.7278e-02,  1.7471e-02,  3.0207e-02],\n",
       "           [ 2.7955e+00,  3.8782e+00, -2.7980e+00, -4.5380e+00,  1.6980e+00,  2.6410e+00,  2.8279e+00,  2.3548e+00],\n",
       "           [ 4.5057e-01, -1.0112e-01, -3.5085e-01,  9.4845e-01,  5.0649e-01, -1.3232e-01,  6.0000e-01, -9.2622e-01],\n",
       "           [-9.7090e-01,  6.9345e-01, -3.4573e-01, -8.6313e-01, -3.3890e-01,  3.3869e-01, -9.1417e-01,  5.9435e-01],\n",
       "           [-1.1489e-02, -1.2989e-01, -1.3637e-01,  2.1483e-01,  1.5695e-01,  4.1577e-02,  7.6745e-02, -6.4976e-02],\n",
       "           [ 3.3769e-02,  2.8752e-01, -4.7969e-02, -9.0485e-02, -1.6450e-01, -7.2189e-02, -8.3035e-02, -3.3003e-01],\n",
       "           [-1.9483e+00,  1.4289e+00, -1.0117e+01,  8.4217e+00, -6.3973e-01,  3.9368e+00, -1.3683e+00, -3.9704e+00],\n",
       "           [-1.1499e-02, -1.6901e-01, -9.0647e-01, -1.2079e+00, -5.3360e-01,  2.9068e-01, -1.2915e+00,  1.9518e-01],\n",
       "           [ 3.8271e-01,  6.7145e-02, -8.3783e-01, -6.3820e-03,  4.7312e-01,  4.2659e-01, -4.6071e-01,  1.6585e-01],\n",
       "           [ 9.2844e-04,  1.6286e-02,  5.3337e-02,  2.3774e-02,  5.1853e-02, -1.4538e-03,  2.7599e-02, -2.3875e-02],\n",
       "           [-5.0351e-01, -1.1661e+00, -2.3499e+00,  5.1251e-01, -2.4980e-01,  4.6924e-01, -2.0642e+00, -9.6542e-01]]]], device='cuda:0'),\n",
       " tensor(11.8452, device='cuda:0'))"
      ]
     },
     "execution_count": 50,
     "metadata": {},
     "output_type": "execute_result"
    }
   ],
   "source": [
    "dKs_cu - dKs_pt, torch.abs(dKs_cu - dKs_pt).max()"
   ]
  },
  {
   "cell_type": "code",
   "execution_count": 51,
   "metadata": {},
   "outputs": [
    {
     "data": {
      "text/plain": [
       "(tensor([[[[ 1.4305e-06,  5.3644e-07,  3.8147e-06, -9.5367e-07,  2.0489e-08,  8.3447e-07, -8.9407e-08, -4.1723e-07],\n",
       "           [ 4.4703e-08, -7.4506e-09, -4.4703e-08, -8.9407e-08,  3.7253e-09,  7.4506e-08, -7.4506e-08, -9.3132e-09],\n",
       "           [-3.7253e-09,  2.3842e-07,  2.9802e-07,  2.3842e-07, -5.9605e-08, -2.9802e-07, -1.1921e-07, -3.5763e-07],\n",
       "           [-8.1956e-08, -2.2352e-07,  9.5367e-07,  1.4901e-07, -8.9407e-08, -8.3447e-07,  1.3113e-06,  1.9372e-07],\n",
       "           [-4.4703e-08, -3.7253e-08,  1.4901e-07, -2.0862e-07, -1.1921e-07, -4.4703e-08,  2.9802e-08,  2.3842e-07],\n",
       "           [-4.4703e-07,  5.9605e-08, -1.5497e-06, -7.7486e-07,  1.6689e-06, -2.5034e-06,  1.6093e-06,  1.3709e-06],\n",
       "           [-1.1921e-07, -1.4305e-06,  2.0862e-07,  1.1921e-07, -1.3113e-06,  1.5497e-06,  7.7486e-07, -1.7881e-06],\n",
       "           [ 1.1921e-07, -5.9605e-07,  1.3113e-06, -1.0729e-06, -3.5763e-07, -1.4901e-07,  2.6822e-07,  1.3411e-07],\n",
       "           [ 8.9407e-08,  1.8440e-07, -2.3842e-07, -1.3411e-07, -2.2352e-08, -2.3842e-07, -3.5763e-07,  3.8743e-07],\n",
       "           [-1.1921e-07,  8.9407e-08, -3.5763e-07, -6.2585e-07, -4.3306e-08, -1.1921e-07, -4.3213e-07,  3.4273e-07],\n",
       "           [-2.2352e-08, -1.4901e-08,  0.0000e+00,  9.6858e-08,  8.3819e-09,  7.4506e-08,  4.6348e-08, -4.6100e-08],\n",
       "           [ 5.9605e-07, -4.6194e-07,  2.0266e-06,  3.2187e-06,  2.2352e-07,  1.0133e-06,  2.3842e-06, -1.9073e-06],\n",
       "           [-2.3842e-07, -4.4703e-08, -8.9407e-08,  1.6391e-07,  2.9802e-08,  1.9372e-07, -2.0862e-07, -4.8429e-08],\n",
       "           [-9.5367e-07,  4.1723e-07,  5.9605e-07, -2.9802e-07,  5.9605e-08, -3.5763e-07, -2.1458e-06,  1.6391e-07],\n",
       "           [ 2.0266e-06,  5.0664e-07,  1.1921e-06, -1.5497e-06, -2.6077e-07, -1.4901e-06,  1.6689e-06, -2.2352e-08],\n",
       "           [ 1.4305e-06, -1.0729e-06,  9.5367e-07, -8.9407e-08, -2.9802e-08,  4.4703e-07,  2.7940e-07, -7.1526e-07],\n",
       "           [-8.3447e-07,  1.3709e-06, -3.5763e-07,  2.3842e-06, -2.1458e-06, -7.1526e-07, -1.9073e-06,  9.8348e-07],\n",
       "           [-8.3447e-07,  1.1921e-06,  1.1921e-06,  2.3842e-07, -1.0133e-06,  1.0133e-06,  1.1325e-06,  1.1921e-07],\n",
       "           [ 1.4901e-08, -1.0133e-06,  1.4901e-07, -4.4703e-07,  7.1526e-07,  1.0729e-06,  9.5367e-07, -7.7486e-07],\n",
       "           [ 6.7055e-08, -3.5763e-07, -1.0803e-07,  4.2841e-08,  2.9802e-07,  2.3842e-07,  2.2352e-08, -1.0431e-07],\n",
       "           [ 1.0729e-06, -1.4305e-06, -3.0994e-06,  2.7418e-06,  5.8860e-07, -1.1921e-06, -5.0068e-06,  3.4571e-06],\n",
       "           [ 7.1526e-07, -3.8743e-07,  4.1723e-07, -1.6391e-07,  2.8610e-06, -4.4703e-07,  1.3113e-06, -1.7881e-06],\n",
       "           [ 7.7486e-07,  5.6624e-07,  5.9605e-07,  1.7881e-07,  1.1623e-06, -1.4305e-06,  2.1458e-06, -2.9802e-08],\n",
       "           [-1.0431e-07, -5.9605e-08, -2.0862e-07, -3.7253e-08,  8.1956e-08, -7.4506e-08, -2.0862e-07, -3.7253e-08],\n",
       "           [ 1.3970e-09,  7.4506e-09,  2.2352e-08,  5.5879e-09,  1.8626e-09,  4.4238e-09,  1.1176e-08,  7.4506e-09],\n",
       "           [ 7.7486e-07,  2.1458e-06,  7.7486e-07,  4.7684e-07, -3.7253e-07,  2.6226e-06,  4.1723e-07, -7.7486e-07],\n",
       "           [ 1.8626e-08,  2.7940e-08, -3.4925e-09, -1.8626e-09, -1.9558e-08, -3.3528e-08, -3.7253e-08, -6.9849e-10],\n",
       "           [ 8.3447e-07,  2.9802e-07,  5.9605e-08,  2.3842e-07, -5.6624e-07,  5.9605e-08, -1.0729e-06, -3.5763e-07],\n",
       "           [-7.0781e-07, -5.4836e-06,  3.3379e-06, -5.2154e-08,  1.3113e-06, -1.4901e-07, -1.9073e-06, -8.9407e-07],\n",
       "           [-8.9407e-07,  2.6226e-06, -8.3447e-07,  1.7881e-07, -9.5367e-07, -7.1526e-07,  3.5763e-07, -4.4703e-07],\n",
       "           [ 4.7684e-07,  4.3213e-07, -1.9372e-07, -1.7881e-07, -5.6624e-07,  1.0729e-06,  4.4703e-07,  3.5763e-07],\n",
       "           [-1.4305e-06,  5.3644e-07, -1.1921e-06,  1.0729e-06,  1.1921e-06, -1.7881e-06, -3.8147e-06,  2.1458e-06],\n",
       "           [-1.1027e-06, -4.5300e-06,  1.0729e-06,  1.9073e-06,  4.7684e-06, -6.0797e-06, -4.1723e-06,  7.7486e-07],\n",
       "           [ 1.5553e-07, -1.3039e-07,  6.1467e-08, -8.3447e-07, -3.8743e-07, -1.8626e-07,  1.4901e-08,  2.0862e-07],\n",
       "           [ 8.9407e-08,  3.5763e-06,  7.1526e-07, -4.2915e-06, -8.6427e-07, -1.5497e-06, -1.3784e-06,  1.4901e-06],\n",
       "           [-9.6858e-08,  0.0000e+00, -4.0978e-08,  2.6822e-07,  4.3772e-08,  1.5646e-07, -2.2352e-08,  3.5390e-08],\n",
       "           [-1.7881e-06,  1.7881e-06, -5.0664e-07,  4.2915e-06,  1.6689e-06,  1.3113e-06,  2.4214e-07,  1.6689e-06],\n",
       "           [-9.6858e-08,  2.0862e-07, -1.1269e-07,  9.3132e-08,  2.9802e-08, -2.0862e-07,  1.1921e-07,  9.8255e-08],\n",
       "           [-1.6689e-06,  1.4305e-06, -5.9605e-07,  2.3842e-07, -2.3842e-07, -1.6689e-06,  1.7881e-07,  1.1921e-07],\n",
       "           [-4.4703e-08,  1.1921e-07, -7.4506e-08,  5.9605e-08,  1.4901e-08, -2.0862e-07,  8.9407e-08,  4.4703e-08],\n",
       "           [-5.9605e-07, -1.6391e-07, -1.4901e-07, -2.9802e-08,  1.9372e-07, -1.0431e-07,  9.6858e-08, -7.1526e-07],\n",
       "           [-3.8743e-07, -1.4901e-08, -7.1526e-07,  5.9605e-08,  2.3842e-06, -9.5367e-07,  9.8348e-07, -8.3447e-07],\n",
       "           [ 6.5565e-07, -2.6822e-07, -8.9407e-08, -2.6822e-07,  6.5565e-07, -2.8173e-07,  1.2666e-07,  3.3528e-08],\n",
       "           [-3.3528e-08,  1.4901e-08, -1.0431e-07,  1.3411e-07,  7.4506e-08, -6.7055e-07,  2.5332e-07, -1.6531e-07],\n",
       "           [-5.4948e-08, -1.5646e-07, -2.9244e-07,  3.2783e-07,  4.4145e-07, -2.2650e-06,  1.1921e-06, -3.6508e-07],\n",
       "           [ 2.5332e-07, -2.7567e-07,  2.9802e-07, -3.5763e-07,  3.5763e-07,  5.9605e-07,  2.9802e-07,  4.1723e-07],\n",
       "           [ 2.9802e-08,  1.4901e-08,  1.1176e-08, -2.2352e-08,  5.9605e-08,  1.4901e-08,  0.0000e+00,  7.4506e-09],\n",
       "           [ 2.2352e-08,  4.4703e-08,  5.9605e-08, -3.7253e-08,  4.4703e-08,  0.0000e+00,  3.3528e-08,  7.4506e-09],\n",
       "           [-5.3644e-07, -2.9802e-08, -1.4305e-06, -1.1921e-06, -8.0466e-07, -7.3388e-07, -1.7881e-06,  1.3709e-06],\n",
       "           [-3.2783e-07,  1.1921e-06, -5.9605e-07,  1.4901e-08,  2.0117e-07,  2.8312e-07, -3.5763e-07,  2.1793e-07],\n",
       "           [ 2.6822e-07,  7.7486e-07,  1.1027e-06, -4.7684e-07,  2.0266e-06,  7.4506e-07, -1.2517e-06, -1.0133e-06],\n",
       "           [ 1.7881e-06,  1.9670e-06,  7.1526e-07,  5.0664e-07,  3.6135e-07, -2.0862e-06,  1.6093e-06, -1.1027e-06],\n",
       "           [ 1.4305e-06, -1.1444e-05,  4.5300e-06,  8.5831e-06, -8.1062e-06, -5.9605e-06, -1.9073e-06, -6.6757e-06],\n",
       "           [ 6.5193e-09,  1.4901e-08, -1.3039e-08, -1.1176e-08,  1.7695e-08,  1.3039e-08,  1.2107e-08,  7.4506e-09],\n",
       "           [ 2.3842e-06,  4.2915e-06, -2.5034e-06, -3.8147e-06,  1.5199e-06,  2.2650e-06,  2.2650e-06,  2.0266e-06],\n",
       "           [-8.3447e-07,  1.1325e-06,  5.0664e-07, -2.0266e-06, -1.1921e-06,  1.7881e-07, -1.3113e-06,  1.2517e-06],\n",
       "           [-3.1432e-09, -9.3132e-08, -4.8429e-08,  1.0803e-07,  8.5682e-08,  1.6764e-08,  4.0047e-08,  7.4506e-09],\n",
       "           [ 4.6566e-09,  7.4506e-09,  2.9802e-08, -8.9407e-08, -7.4506e-08,  3.7253e-09, -4.4703e-08,  7.4506e-08],\n",
       "           [ 8.1956e-08,  7.1526e-07,  1.1176e-08, -2.2352e-07, -3.2783e-07, -8.9407e-08, -9.6858e-08, -7.7486e-07],\n",
       "           [-3.8743e-07,  9.5069e-06,  2.2411e-05, -3.5763e-07,  4.1127e-06, -3.8147e-06,  1.5736e-05,  2.3842e-07],\n",
       "           [ 8.8289e-07,  1.1623e-06, -5.3644e-07, -5.3644e-06,  5.3644e-07,  1.3560e-06, -3.4571e-06,  9.8348e-07],\n",
       "           [ 5.6624e-07,  3.8743e-07, -3.1292e-07,  4.8429e-08,  9.5367e-07,  4.4703e-07, -4.4703e-08,  2.5332e-07],\n",
       "           [-1.1176e-08, -1.8626e-08, -2.2352e-08,  2.2352e-08,  1.7695e-08,  1.1176e-08, -2.9802e-08, -2.9802e-08],\n",
       "           [ 5.0664e-07,  1.0729e-06,  2.1458e-06, -5.0664e-07,  2.3842e-07, -4.4703e-07,  1.9073e-06,  9.5367e-07]]]], device='cuda:0'),\n",
       " tensor(2.2411e-05, device='cuda:0'))"
      ]
     },
     "execution_count": 51,
     "metadata": {},
     "output_type": "execute_result"
    }
   ],
   "source": [
    "dVs_cu - dVs_pt, torch.abs(dVs_cu - dVs_pt).max()"
   ]
  },
  {
   "cell_type": "code",
   "execution_count": 52,
   "metadata": {},
   "outputs": [
    {
     "data": {
      "text/plain": [
       "(tensor([[[ 6.1219e+00,  7.3210e-01,  2.4523e+00,  3.0649e+00,  2.1296e+00,  7.6970e-01,  8.0635e+00,  2.6605e-01,  2.8676e+00, -1.7003e+00,  2.1132e-01,  1.3613e+00,  4.2462e-01,  8.0890e+00,\n",
       "            5.1872e+00,  7.0967e-01,  1.3349e+01, -9.7979e-01,  3.5690e+00, -5.1287e-01,  6.9646e-01,  1.0673e+00,  5.5749e+00, -3.3935e-01,  8.6814e-05,  3.3688e+00,  1.1465e-01,  1.2180e+00,\n",
       "            5.3781e+00,  7.3750e+00,  1.0271e+00,  7.7895e+00,  3.4989e+00,  6.9227e-01,  1.2521e+01,  2.2172e-01,  4.7920e+00,  6.0415e-01,  2.8018e+00,  2.2682e-01,  1.5406e+00,  7.2706e+00,\n",
       "            1.1437e+00,  3.1559e-01,  1.8419e+00,  4.0405e-02, -9.7288e-02,  9.9358e-01,  2.2841e+00, -6.4965e-01,  1.4312e+00,  2.5603e+00,  4.0268e+01,  1.7432e-01,  9.4742e+00,  2.1577e+00,\n",
       "            3.5761e-02, -2.5396e-01,  7.6760e-01,  1.9595e+01,  4.0970e+00,  7.8107e-01,  2.4614e-02, -2.1997e+00]]], device='cuda:0'),\n",
       " torch.Size([1, 1, 64]))"
      ]
     },
     "execution_count": 52,
     "metadata": {},
     "output_type": "execute_result"
    }
   ],
   "source": [
    "dIgs_cu - dIgs_pt.squeeze(-1), dIgs_cu.shape"
   ]
  },
  {
   "cell_type": "code",
   "execution_count": 22,
   "metadata": {},
   "outputs": [
    {
     "data": {
      "text/plain": [
       "tensor([[[ 0.0000e+00, -1.7480e-03, -1.7160e-02, -6.9439e-03, -9.3492e-02, -1.0969e-01, -7.1794e-02, -3.0862e-02, -1.3550e-01, -1.1357e-01, -2.7724e-02, -2.4580e-02, -1.0732e+00, -7.8491e-01,\n",
       "          -2.2732e-01, -5.2500e-01, -6.7238e-01, -9.5194e-01, -3.9267e-01, -2.5783e+00, -2.1379e+00, -1.0131e+00, -9.2257e-01, -5.0708e-01, -2.6059e-01, -2.1348e-01, -5.0075e-01, -1.1851e+00,\n",
       "          -2.4597e+00, -1.8238e+00, -1.2771e+00, -9.5950e-01]]], device='cuda:0')"
      ]
     },
     "execution_count": 22,
     "metadata": {},
     "output_type": "execute_result"
    }
   ],
   "source": [
    "dFgs_cu - delta_fbar_pt.squeeze(-1)"
   ]
  },
  {
   "cell_type": "code",
   "execution_count": 23,
   "metadata": {},
   "outputs": [
    {
     "data": {
      "text/plain": [
       "tensor([[[[0.0000e+00, 0.0000e+00, 0.0000e+00, 0.0000e+00, 0.0000e+00, 0.0000e+00, 0.0000e+00, 0.0000e+00, 0.0000e+00, 0.0000e+00, 0.0000e+00, 0.0000e+00],\n",
       "          [0.0000e+00, 0.0000e+00, 0.0000e+00, 0.0000e+00, 0.0000e+00, 0.0000e+00, 0.0000e+00, 0.0000e+00, 0.0000e+00, 0.0000e+00, 0.0000e+00, 0.0000e+00],\n",
       "          [0.0000e+00, 0.0000e+00, 0.0000e+00, 0.0000e+00, 0.0000e+00, 0.0000e+00, 0.0000e+00, 0.0000e+00, 0.0000e+00, 0.0000e+00, 0.0000e+00, 0.0000e+00],\n",
       "          [0.0000e+00, 0.0000e+00, 0.0000e+00, 0.0000e+00, 0.0000e+00, 0.0000e+00, 0.0000e+00, 0.0000e+00, 0.0000e+00, 0.0000e+00, 0.0000e+00, 0.0000e+00],\n",
       "          [0.0000e+00, 0.0000e+00, 0.0000e+00, 0.0000e+00, 0.0000e+00, 0.0000e+00, 0.0000e+00, 0.0000e+00, 0.0000e+00, 0.0000e+00, 0.0000e+00, 0.0000e+00],\n",
       "          [0.0000e+00, 0.0000e+00, 0.0000e+00, 0.0000e+00, 0.0000e+00, 0.0000e+00, 0.0000e+00, 0.0000e+00, 0.0000e+00, 0.0000e+00, 0.0000e+00, 0.0000e+00],\n",
       "          [6.2363e-02, 0.0000e+00, 0.0000e+00, 0.0000e+00, 0.0000e+00, 0.0000e+00, 0.0000e+00, 0.0000e+00, 0.0000e+00, 0.0000e+00, 0.0000e+00, 0.0000e+00],\n",
       "          [2.3372e-02, 3.5437e-02, 0.0000e+00, 0.0000e+00, 0.0000e+00, 0.0000e+00, 0.0000e+00, 0.0000e+00, 0.0000e+00, 0.0000e+00, 0.0000e+00, 0.0000e+00],\n",
       "          [2.0824e-02, 3.1574e-02, 8.2969e-02, 0.0000e+00, 0.0000e+00, 0.0000e+00, 0.0000e+00, 0.0000e+00, 0.0000e+00, 0.0000e+00, 0.0000e+00, 0.0000e+00],\n",
       "          [1.8426e-02, 2.7937e-02, 7.3413e-02, 1.0456e-01, 0.0000e+00, 0.0000e+00, 0.0000e+00, 0.0000e+00, 0.0000e+00, 0.0000e+00, 0.0000e+00, 0.0000e+00],\n",
       "          [6.0027e-03, 9.1013e-03, 2.3916e-02, 3.4064e-02, 6.3287e-02, 0.0000e+00, 0.0000e+00, 0.0000e+00, 0.0000e+00, 0.0000e+00, 0.0000e+00, 0.0000e+00],\n",
       "          [1.1565e-03, 1.7534e-03, 4.6076e-03, 6.5626e-03, 1.2193e-02, 1.7908e-02, 0.0000e+00, 0.0000e+00, 0.0000e+00, 0.0000e+00, 0.0000e+00, 0.0000e+00],\n",
       "          [1.0297e-03, 1.5613e-03, 4.1026e-03, 5.8433e-03, 1.0856e-02, 1.5946e-02, 6.5177e-01, 0.0000e+00, 0.0000e+00, 0.0000e+00, 0.0000e+00, 0.0000e+00],\n",
       "          [9.4040e-04, 1.4258e-03, 3.7468e-03, 5.3365e-03, 9.9148e-03, 1.4563e-02, 5.9524e-01, 7.2696e-01, 0.0000e+00, 0.0000e+00, 0.0000e+00, 0.0000e+00],\n",
       "          [3.3520e-04, 5.0823e-04, 1.3355e-03, 1.9022e-03, 3.5341e-03, 5.1907e-03, 2.1217e-01, 2.5912e-01, 3.0654e-01, 0.0000e+00, 0.0000e+00, 0.0000e+00],\n",
       "          [1.5649e-04, 2.3726e-04, 6.2348e-04, 8.8801e-04, 1.6499e-03, 2.4233e-03, 9.9049e-02, 1.2097e-01, 1.4311e-01, 4.3136e-01, 0.0000e+00, 0.0000e+00],\n",
       "          [1.2253e-04, 1.8577e-04, 4.8817e-04, 6.9530e-04, 1.2918e-03, 1.8974e-03, 7.7554e-02, 9.4716e-02, 1.1205e-01, 3.3775e-01, 7.7359e-01, 0.0000e+00],\n",
       "          [5.9519e-05, 9.0243e-05, 2.3714e-04, 3.3775e-04, 6.2752e-04, 9.2168e-04, 3.7673e-02, 4.6010e-02, 5.4430e-02, 1.6407e-01, 3.7578e-01, 5.1102e-01],\n",
       "          [1.9370e-05, 2.9368e-05, 7.7174e-05, 1.0992e-04, 2.0422e-04, 2.9995e-04, 1.2260e-02, 1.4973e-02, 1.7714e-02, 5.3394e-02, 1.2229e-01, 1.6631e-01],\n",
       "          [1.3029e-05, 1.9754e-05, 5.1909e-05, 7.3933e-05, 1.3736e-04, 2.0175e-04, 8.2466e-03, 1.0071e-02, 1.1915e-02, 3.5914e-02, 8.2258e-02, 1.1186e-01],\n",
       "          [1.2146e-05, 1.8416e-05, 4.8392e-05, 6.8924e-05, 1.2806e-04, 1.8808e-04, 7.6878e-03, 9.3890e-03, 1.1107e-02, 3.3481e-02, 7.6684e-02, 1.0428e-01],\n",
       "          [1.1373e-05, 1.7244e-05, 4.5312e-05, 6.4538e-05, 1.1991e-04, 1.7611e-04, 7.1986e-03, 8.7915e-03, 1.0400e-02, 3.1350e-02, 7.1804e-02, 9.7647e-02],\n",
       "          [7.4470e-06, 1.1291e-05, 2.9670e-05, 4.2259e-05, 7.8514e-05, 1.1532e-04, 4.7136e-03, 5.7567e-03, 6.8102e-03, 2.0528e-02, 4.7017e-02, 6.3939e-02],\n",
       "          [3.7888e-06, 5.7445e-06, 1.5095e-05, 2.1500e-05, 3.9945e-05, 5.8671e-05, 2.3981e-03, 2.9288e-03, 3.4648e-03, 1.0444e-02, 2.3921e-02, 3.2530e-02],\n",
       "          [1.7755e-06, 2.6920e-06, 7.0740e-06, 1.0075e-05, 1.8719e-05, 2.7495e-05, 1.1238e-03, 1.3725e-03, 1.6237e-03, 4.8943e-03, 1.1210e-02, 1.5244e-02],\n",
       "          [6.0636e-07, 9.1936e-07, 2.4159e-06, 3.4409e-06, 6.3929e-06, 9.3897e-06, 3.8380e-04, 4.6873e-04, 5.5451e-04, 1.6715e-03, 3.8283e-03, 5.2061e-03],\n",
       "          [1.0355e-07, 1.5701e-07, 4.1258e-07, 5.8764e-07, 1.0918e-06, 1.6036e-06, 6.5545e-05, 8.0050e-05, 9.4700e-05, 2.8545e-04, 6.5380e-04, 8.8910e-04],\n",
       "          [6.3453e-08, 9.6208e-08, 2.5281e-07, 3.6008e-07, 6.6900e-07, 9.8260e-07, 4.0163e-05, 4.9051e-05, 5.8028e-05, 1.7491e-04, 4.0062e-04, 5.4480e-04],\n",
       "          [5.1222e-08, 7.7663e-08, 2.0408e-07, 2.9067e-07, 5.4004e-07, 7.9320e-07, 3.2422e-05, 3.9596e-05, 4.6843e-05, 1.4120e-04, 3.2340e-04, 4.3979e-04],\n",
       "          [4.5557e-08, 6.9074e-08, 1.8151e-07, 2.5852e-07, 4.8032e-07, 7.0548e-07, 2.8836e-05, 3.5217e-05, 4.1662e-05, 1.2558e-04, 2.8763e-04, 3.9115e-04],\n",
       "          [1.9207e-08, 2.9122e-08, 7.6526e-08, 1.0899e-07, 2.0250e-07, 2.9743e-07, 1.2157e-05, 1.4848e-05, 1.7565e-05, 5.2946e-05, 1.2127e-04, 1.6491e-04],\n",
       "          [1.6519e-08, 2.5047e-08, 6.5818e-08, 9.3743e-08, 1.7417e-07, 2.5581e-07, 1.0456e-05, 1.2770e-05, 1.5107e-05, 4.5537e-05, 1.0430e-04, 1.4183e-04]]]], device='cuda:0')"
      ]
     },
     "execution_count": 23,
     "metadata": {},
     "output_type": "execute_result"
    }
   ],
   "source": [
    "delta_Dtilde_pt.cumsum(-1).tril(-1)[:, :, :, 5:17]"
   ]
  },
  {
   "cell_type": "code",
   "execution_count": 24,
   "metadata": {},
   "outputs": [
    {
     "data": {
      "text/plain": [
       "(tensor([[[[0.0000e+00],\n",
       "           [0.0000e+00],\n",
       "           [0.0000e+00],\n",
       "           [0.0000e+00],\n",
       "           [0.0000e+00],\n",
       "           [0.0000e+00],\n",
       "           [0.0000e+00],\n",
       "           [0.0000e+00],\n",
       "           [0.0000e+00],\n",
       "           [0.0000e+00],\n",
       "           [0.0000e+00],\n",
       "           [0.0000e+00],\n",
       "           [0.0000e+00],\n",
       "           [0.0000e+00],\n",
       "           [0.0000e+00],\n",
       "           [0.0000e+00],\n",
       "           [7.7359e-01],\n",
       "           [3.7578e-01],\n",
       "           [1.2229e-01],\n",
       "           [8.2258e-02],\n",
       "           [7.6685e-02],\n",
       "           [7.1804e-02],\n",
       "           [4.7018e-02],\n",
       "           [2.3921e-02],\n",
       "           [1.1210e-02],\n",
       "           [3.8283e-03],\n",
       "           [6.5380e-04],\n",
       "           [4.0062e-04],\n",
       "           [3.2340e-04],\n",
       "           [2.8763e-04],\n",
       "           [1.2127e-04],\n",
       "           [1.0430e-04]]]], device='cuda:0'),\n",
       " torch.Size([1, 1, 32]))"
      ]
     },
     "execution_count": 24,
     "metadata": {},
     "output_type": "execute_result"
    }
   ],
   "source": [
    "deltaDcsVec_cu.unsqueeze(-1), deltaDcsVec_cu.shape"
   ]
  },
  {
   "cell_type": "code",
   "execution_count": 25,
   "metadata": {},
   "outputs": [
    {
     "data": {
      "text/plain": [
       "tensor([[[ 0.0000e+00, -1.7480e-03, -1.7160e-02, -6.9439e-03, -9.3492e-02, -1.0969e-01, -7.1794e-02, -3.0862e-02, -1.3550e-01, -1.1357e-01, -2.7724e-02, -2.4580e-02, -1.0732e+00, -7.8491e-01,\n",
       "          -2.2732e-01, -5.2500e-01, -6.7238e-01, -9.5194e-01, -3.9267e-01, -2.5783e+00, -2.1379e+00, -1.0131e+00, -9.2257e-01, -5.0708e-01, -2.6059e-01, -2.1348e-01, -5.0075e-01, -1.1851e+00,\n",
       "          -2.4597e+00, -1.8238e+00, -1.2771e+00, -9.5950e-01]]], device='cuda:0')"
      ]
     },
     "execution_count": 25,
     "metadata": {},
     "output_type": "execute_result"
    }
   ],
   "source": [
    "dFgs_cu - delta_fbar_pt.squeeze(-1)"
   ]
  },
  {
   "cell_type": "code",
   "execution_count": 26,
   "metadata": {},
   "outputs": [
    {
     "data": {
      "text/plain": [
       "(tensor([[[[0.0000e+00, 0.0000e+00, 0.0000e+00, 0.0000e+00, 0.0000e+00, 0.0000e+00, 0.0000e+00, 0.0000e+00, 0.0000e+00, 0.0000e+00, 0.0000e+00, 0.0000e+00, 0.0000e+00, 0.0000e+00, 0.0000e+00,\n",
       "            0.0000e+00],\n",
       "           [0.0000e+00, 0.0000e+00, 0.0000e+00, 0.0000e+00, 0.0000e+00, 0.0000e+00, 0.0000e+00, 0.0000e+00, 0.0000e+00, 0.0000e+00, 0.0000e+00, 0.0000e+00, 0.0000e+00, 0.0000e+00, 0.0000e+00,\n",
       "            0.0000e+00],\n",
       "           [0.0000e+00, 0.0000e+00, 0.0000e+00, 0.0000e+00, 0.0000e+00, 0.0000e+00, 0.0000e+00, 0.0000e+00, 0.0000e+00, 0.0000e+00, 0.0000e+00, 0.0000e+00, 0.0000e+00, 0.0000e+00, 0.0000e+00,\n",
       "            0.0000e+00],\n",
       "           [0.0000e+00, 0.0000e+00, 0.0000e+00, 0.0000e+00, 0.0000e+00, 0.0000e+00, 0.0000e+00, 0.0000e+00, 0.0000e+00, 0.0000e+00, 0.0000e+00, 0.0000e+00, 0.0000e+00, 0.0000e+00, 0.0000e+00,\n",
       "            0.0000e+00],\n",
       "           [0.0000e+00, 0.0000e+00, 0.0000e+00, 0.0000e+00, 0.0000e+00, 0.0000e+00, 0.0000e+00, 0.0000e+00, 0.0000e+00, 0.0000e+00, 0.0000e+00, 0.0000e+00, 0.0000e+00, 0.0000e+00, 0.0000e+00,\n",
       "            0.0000e+00],\n",
       "           [0.0000e+00, 0.0000e+00, 0.0000e+00, 0.0000e+00, 0.0000e+00, 0.0000e+00, 0.0000e+00, 0.0000e+00, 0.0000e+00, 0.0000e+00, 0.0000e+00, 0.0000e+00, 0.0000e+00, 0.0000e+00, 0.0000e+00,\n",
       "            0.0000e+00],\n",
       "           [0.0000e+00, 0.0000e+00, 0.0000e+00, 0.0000e+00, 0.0000e+00, 0.0000e+00, 0.0000e+00, 0.0000e+00, 0.0000e+00, 0.0000e+00, 0.0000e+00, 0.0000e+00, 0.0000e+00, 0.0000e+00, 0.0000e+00,\n",
       "            0.0000e+00],\n",
       "           [0.0000e+00, 0.0000e+00, 0.0000e+00, 0.0000e+00, 0.0000e+00, 0.0000e+00, 0.0000e+00, 0.0000e+00, 0.0000e+00, 0.0000e+00, 0.0000e+00, 0.0000e+00, 0.0000e+00, 0.0000e+00, 0.0000e+00,\n",
       "            0.0000e+00],\n",
       "           [0.0000e+00, 0.0000e+00, 0.0000e+00, 0.0000e+00, 0.0000e+00, 0.0000e+00, 0.0000e+00, 0.0000e+00, 0.0000e+00, 0.0000e+00, 0.0000e+00, 0.0000e+00, 0.0000e+00, 0.0000e+00, 0.0000e+00,\n",
       "            0.0000e+00],\n",
       "           [0.0000e+00, 0.0000e+00, 0.0000e+00, 0.0000e+00, 0.0000e+00, 0.0000e+00, 0.0000e+00, 0.0000e+00, 0.0000e+00, 0.0000e+00, 0.0000e+00, 0.0000e+00, 0.0000e+00, 0.0000e+00, 0.0000e+00,\n",
       "            0.0000e+00],\n",
       "           [0.0000e+00, 0.0000e+00, 0.0000e+00, 0.0000e+00, 0.0000e+00, 0.0000e+00, 0.0000e+00, 0.0000e+00, 0.0000e+00, 0.0000e+00, 0.0000e+00, 0.0000e+00, 0.0000e+00, 0.0000e+00, 0.0000e+00,\n",
       "            0.0000e+00],\n",
       "           [0.0000e+00, 0.0000e+00, 0.0000e+00, 0.0000e+00, 0.0000e+00, 0.0000e+00, 0.0000e+00, 0.0000e+00, 0.0000e+00, 0.0000e+00, 0.0000e+00, 0.0000e+00, 0.0000e+00, 0.0000e+00, 0.0000e+00,\n",
       "            0.0000e+00],\n",
       "           [0.0000e+00, 0.0000e+00, 0.0000e+00, 0.0000e+00, 0.0000e+00, 0.0000e+00, 0.0000e+00, 0.0000e+00, 0.0000e+00, 0.0000e+00, 0.0000e+00, 0.0000e+00, 0.0000e+00, 0.0000e+00, 0.0000e+00,\n",
       "            0.0000e+00],\n",
       "           [0.0000e+00, 0.0000e+00, 0.0000e+00, 0.0000e+00, 0.0000e+00, 0.0000e+00, 0.0000e+00, 0.0000e+00, 0.0000e+00, 0.0000e+00, 0.0000e+00, 0.0000e+00, 0.0000e+00, 0.0000e+00, 0.0000e+00,\n",
       "            0.0000e+00],\n",
       "           [0.0000e+00, 0.0000e+00, 0.0000e+00, 0.0000e+00, 0.0000e+00, 0.0000e+00, 0.0000e+00, 0.0000e+00, 0.0000e+00, 0.0000e+00, 0.0000e+00, 0.0000e+00, 0.0000e+00, 0.0000e+00, 0.0000e+00,\n",
       "            0.0000e+00],\n",
       "           [0.0000e+00, 0.0000e+00, 0.0000e+00, 0.0000e+00, 0.0000e+00, 0.0000e+00, 0.0000e+00, 0.0000e+00, 0.0000e+00, 0.0000e+00, 0.0000e+00, 0.0000e+00, 0.0000e+00, 0.0000e+00, 0.0000e+00,\n",
       "            0.0000e+00],\n",
       "           [0.0000e+00, 0.0000e+00, 0.0000e+00, 0.0000e+00, 0.0000e+00, 0.0000e+00, 0.0000e+00, 0.0000e+00, 0.0000e+00, 0.0000e+00, 0.0000e+00, 0.0000e+00, 0.0000e+00, 0.0000e+00, 0.0000e+00,\n",
       "            0.0000e+00],\n",
       "           [5.1102e-01, 0.0000e+00, 0.0000e+00, 0.0000e+00, 0.0000e+00, 0.0000e+00, 0.0000e+00, 0.0000e+00, 0.0000e+00, 0.0000e+00, 0.0000e+00, 0.0000e+00, 0.0000e+00, 0.0000e+00, 0.0000e+00,\n",
       "            0.0000e+00],\n",
       "           [1.6631e-01, 3.6319e-01, 0.0000e+00, 0.0000e+00, 0.0000e+00, 0.0000e+00, 0.0000e+00, 0.0000e+00, 0.0000e+00, 0.0000e+00, 0.0000e+00, 0.0000e+00, 0.0000e+00, 0.0000e+00, 0.0000e+00,\n",
       "            0.0000e+00],\n",
       "           [1.1186e-01, 2.4429e-01, 7.9370e-01, 0.0000e+00, 0.0000e+00, 0.0000e+00, 0.0000e+00, 0.0000e+00, 0.0000e+00, 0.0000e+00, 0.0000e+00, 0.0000e+00, 0.0000e+00, 0.0000e+00, 0.0000e+00,\n",
       "            0.0000e+00],\n",
       "           [1.0428e-01, 2.2774e-01, 7.3992e-01, 1.1597e+00, 0.0000e+00, 0.0000e+00, 0.0000e+00, 0.0000e+00, 0.0000e+00, 0.0000e+00, 0.0000e+00, 0.0000e+00, 0.0000e+00, 0.0000e+00, 0.0000e+00,\n",
       "            0.0000e+00],\n",
       "           [9.7647e-02, 2.1325e-01, 6.9283e-01, 1.0859e+00, 1.2248e+00, 0.0000e+00, 0.0000e+00, 0.0000e+00, 0.0000e+00, 0.0000e+00, 0.0000e+00, 0.0000e+00, 0.0000e+00, 0.0000e+00, 0.0000e+00,\n",
       "            0.0000e+00],\n",
       "           [6.3939e-02, 1.3963e-01, 4.5367e-01, 7.1105e-01, 8.0197e-01, 8.9838e-01, 0.0000e+00, 0.0000e+00, 0.0000e+00, 0.0000e+00, 0.0000e+00, 0.0000e+00, 0.0000e+00, 0.0000e+00, 0.0000e+00,\n",
       "            0.0000e+00],\n",
       "           [3.2530e-02, 7.1040e-02, 2.3081e-01, 3.6176e-01, 4.0802e-01, 4.5707e-01, 6.3681e-01, 0.0000e+00, 0.0000e+00, 0.0000e+00, 0.0000e+00, 0.0000e+00, 0.0000e+00, 0.0000e+00, 0.0000e+00,\n",
       "            0.0000e+00],\n",
       "           [1.5244e-02, 3.3291e-02, 1.0816e-01, 1.6953e-01, 1.9121e-01, 2.1419e-01, 2.9843e-01, 4.0030e-01, 0.0000e+00, 0.0000e+00, 0.0000e+00, 0.0000e+00, 0.0000e+00, 0.0000e+00, 0.0000e+00,\n",
       "            0.0000e+00],\n",
       "           [5.2061e-03, 1.1369e-02, 3.6939e-02, 5.7896e-02, 6.5299e-02, 7.3150e-02, 1.0192e-01, 1.3671e-01, 4.5337e-01, 0.0000e+00, 0.0000e+00, 0.0000e+00, 0.0000e+00, 0.0000e+00, 0.0000e+00,\n",
       "            0.0000e+00],\n",
       "           [8.8910e-04, 1.9417e-03, 6.3085e-03, 9.8876e-03, 1.1152e-02, 1.2492e-02, 1.7405e-02, 2.3347e-02, 7.7427e-02, 2.3628e-01, 0.0000e+00, 0.0000e+00, 0.0000e+00, 0.0000e+00, 0.0000e+00,\n",
       "            0.0000e+00],\n",
       "           [5.4480e-04, 1.1898e-03, 3.8656e-03, 6.0587e-03, 6.8334e-03, 7.6549e-03, 1.0665e-02, 1.4306e-02, 4.7444e-02, 1.4478e-01, 1.0368e+00, 0.0000e+00, 0.0000e+00, 0.0000e+00, 0.0000e+00,\n",
       "            0.0000e+00],\n",
       "           [4.3979e-04, 9.6043e-04, 3.1204e-03, 4.8908e-03, 5.5162e-03, 6.1793e-03, 8.6094e-03, 1.1548e-02, 3.8299e-02, 1.1687e-01, 8.3694e-01, 1.4175e+00, 0.0000e+00, 0.0000e+00, 0.0000e+00,\n",
       "            0.0000e+00],\n",
       "           [3.9115e-04, 8.5421e-04, 2.7753e-03, 4.3499e-03, 4.9061e-03, 5.4959e-03, 7.6573e-03, 1.0271e-02, 3.4063e-02, 1.0395e-01, 7.4438e-01, 1.2607e+00, 1.6187e+00, 0.0000e+00, 0.0000e+00,\n",
       "            0.0000e+00],\n",
       "           [1.6491e-04, 3.6014e-04, 1.1701e-03, 1.8339e-03, 2.0684e-03, 2.3171e-03, 3.2283e-03, 4.3304e-03, 1.4361e-02, 4.3824e-02, 3.1383e-01, 5.3154e-01, 6.8246e-01, 7.9430e-01, 0.0000e+00,\n",
       "            0.0000e+00],\n",
       "           [1.4183e-04, 3.0975e-04, 1.0064e-03, 1.5773e-03, 1.7790e-03, 1.9929e-03, 2.7766e-03, 3.7244e-03, 1.2352e-02, 3.7692e-02, 2.6992e-01, 4.5716e-01, 5.8696e-01, 6.8315e-01, 1.6754e+00,\n",
       "            0.0000e+00]]]], device='cuda:0'),\n",
       " torch.Size([1, 1, 32, 32]))"
      ]
     },
     "execution_count": 26,
     "metadata": {},
     "output_type": "execute_result"
    }
   ],
   "source": [
    "matC_cu[:, :, :, 16:], matC_cu.shape"
   ]
  },
  {
   "cell_type": "code",
   "execution_count": 25,
   "metadata": {},
   "outputs": [
    {
     "data": {
      "text/plain": [
       "tensor([[[[0.3891, 0.1329, 0.0227, 0.0139, 0.0112, 0.0100, 0.0042, 0.0036],\n",
       "          [0.0000, 0.0000, 0.0000, 0.0000, 0.0000, 0.0000, 0.0000, 0.0000]]]], device='cuda:0')"
      ]
     },
     "execution_count": 25,
     "metadata": {},
     "output_type": "execute_result"
    }
   ],
   "source": [
    "deltaDcsChunkArr_cu"
   ]
  },
  {
   "cell_type": "code",
   "execution_count": 26,
   "metadata": {},
   "outputs": [
    {
     "data": {
      "text/plain": [
       "(tensor([[[0.0000e+00, 0.0000e+00, 0.0000e+00, 0.0000e+00, 0.0000e+00, 0.0000e+00, 0.0000e+00, 0.0000e+00, 0.0000e+00, 0.0000e+00, 0.0000e+00, 0.0000e+00, 0.0000e+00, 0.0000e+00, 0.0000e+00,\n",
       "           0.0000e+00, 7.7359e-01, 3.7578e-01, 1.2229e-01, 8.2258e-02, 7.6685e-02, 7.1804e-02, 4.7018e-02, 2.3921e-02, 1.1210e-02, 3.8283e-03, 6.5380e-04, 4.0062e-04, 3.2340e-04, 2.8763e-04,\n",
       "           1.2127e-04, 1.0430e-04]]], device='cuda:0'),\n",
       " torch.Size([1, 1, 32]))"
      ]
     },
     "execution_count": 26,
     "metadata": {},
     "output_type": "execute_result"
    }
   ],
   "source": [
    "deltaDcsVec_cu, deltaDcsVec_cu.shape"
   ]
  },
  {
   "cell_type": "code",
   "execution_count": 27,
   "metadata": {},
   "outputs": [
    {
     "data": {
      "text/plain": [
       "tensor([[[[0.0000e+00, 0.0000e+00, 0.0000e+00, 0.0000e+00, 0.0000e+00, 0.0000e+00, 0.0000e+00, 0.0000e+00, 0.0000e+00, 0.0000e+00, 0.0000e+00, 0.0000e+00, 0.0000e+00, 0.0000e+00, 0.0000e+00,\n",
       "           0.0000e+00, 0.0000e+00, 0.0000e+00, 0.0000e+00, 0.0000e+00, 0.0000e+00, 0.0000e+00, 0.0000e+00, 0.0000e+00, 0.0000e+00, 0.0000e+00, 0.0000e+00, 0.0000e+00, 0.0000e+00, 0.0000e+00,\n",
       "           0.0000e+00],\n",
       "          [4.3366e-04, 0.0000e+00, 0.0000e+00, 0.0000e+00, 0.0000e+00, 0.0000e+00, 0.0000e+00, 0.0000e+00, 0.0000e+00, 0.0000e+00, 0.0000e+00, 0.0000e+00, 0.0000e+00, 0.0000e+00, 0.0000e+00,\n",
       "           0.0000e+00, 0.0000e+00, 0.0000e+00, 0.0000e+00, 0.0000e+00, 0.0000e+00, 0.0000e+00, 0.0000e+00, 0.0000e+00, 0.0000e+00, 0.0000e+00, 0.0000e+00, 0.0000e+00, 0.0000e+00, 0.0000e+00,\n",
       "           0.0000e+00],\n",
       "          [8.9254e-04, 4.9177e-03, 0.0000e+00, 0.0000e+00, 0.0000e+00, 0.0000e+00, 0.0000e+00, 0.0000e+00, 0.0000e+00, 0.0000e+00, 0.0000e+00, 0.0000e+00, 0.0000e+00, 0.0000e+00, 0.0000e+00,\n",
       "           0.0000e+00, 0.0000e+00, 0.0000e+00, 0.0000e+00, 0.0000e+00, 0.0000e+00, 0.0000e+00, 0.0000e+00, 0.0000e+00, 0.0000e+00, 0.0000e+00, 0.0000e+00, 0.0000e+00, 0.0000e+00, 0.0000e+00,\n",
       "           0.0000e+00],\n",
       "          [5.7532e-04, 3.1699e-03, 3.5641e-03, 0.0000e+00, 0.0000e+00, 0.0000e+00, 0.0000e+00, 0.0000e+00, 0.0000e+00, 0.0000e+00, 0.0000e+00, 0.0000e+00, 0.0000e+00, 0.0000e+00, 0.0000e+00,\n",
       "           0.0000e+00, 0.0000e+00, 0.0000e+00, 0.0000e+00, 0.0000e+00, 0.0000e+00, 0.0000e+00, 0.0000e+00, 0.0000e+00, 0.0000e+00, 0.0000e+00, 0.0000e+00, 0.0000e+00, 0.0000e+00, 0.0000e+00,\n",
       "           0.0000e+00],\n",
       "          [7.6602e-04, 4.2206e-03, 4.7456e-03, 3.1090e-02, 0.0000e+00, 0.0000e+00, 0.0000e+00, 0.0000e+00, 0.0000e+00, 0.0000e+00, 0.0000e+00, 0.0000e+00, 0.0000e+00, 0.0000e+00, 0.0000e+00,\n",
       "           0.0000e+00, 0.0000e+00, 0.0000e+00, 0.0000e+00, 0.0000e+00, 0.0000e+00, 0.0000e+00, 0.0000e+00, 0.0000e+00, 0.0000e+00, 0.0000e+00, 0.0000e+00, 0.0000e+00, 0.0000e+00, 0.0000e+00,\n",
       "           0.0000e+00],\n",
       "          [8.1001e-04, 4.4630e-03, 5.0181e-03, 3.2875e-02, 5.9596e-02, 0.0000e+00, 0.0000e+00, 0.0000e+00, 0.0000e+00, 0.0000e+00, 0.0000e+00, 0.0000e+00, 0.0000e+00, 0.0000e+00, 0.0000e+00,\n",
       "           0.0000e+00, 0.0000e+00, 0.0000e+00, 0.0000e+00, 0.0000e+00, 0.0000e+00, 0.0000e+00, 0.0000e+00, 0.0000e+00, 0.0000e+00, 0.0000e+00, 0.0000e+00, 0.0000e+00, 0.0000e+00, 0.0000e+00,\n",
       "           0.0000e+00],\n",
       "          [6.0442e-04, 3.3302e-03, 3.7444e-03, 2.4531e-02, 4.4470e-02, 6.2363e-02, 0.0000e+00, 0.0000e+00, 0.0000e+00, 0.0000e+00, 0.0000e+00, 0.0000e+00, 0.0000e+00, 0.0000e+00, 0.0000e+00,\n",
       "           0.0000e+00, 0.0000e+00, 0.0000e+00, 0.0000e+00, 0.0000e+00, 0.0000e+00, 0.0000e+00, 0.0000e+00, 0.0000e+00, 0.0000e+00, 0.0000e+00, 0.0000e+00, 0.0000e+00, 0.0000e+00, 0.0000e+00,\n",
       "           0.0000e+00],\n",
       "          [2.2652e-04, 1.2481e-03, 1.4033e-03, 9.1937e-03, 1.6666e-02, 2.3372e-02, 3.5437e-02, 0.0000e+00, 0.0000e+00, 0.0000e+00, 0.0000e+00, 0.0000e+00, 0.0000e+00, 0.0000e+00, 0.0000e+00,\n",
       "           0.0000e+00, 0.0000e+00, 0.0000e+00, 0.0000e+00, 0.0000e+00, 0.0000e+00, 0.0000e+00, 0.0000e+00, 0.0000e+00, 0.0000e+00, 0.0000e+00, 0.0000e+00, 0.0000e+00, 0.0000e+00, 0.0000e+00,\n",
       "           0.0000e+00],\n",
       "          [2.0183e-04, 1.1120e-03, 1.2503e-03, 8.1914e-03, 1.4849e-02, 2.0824e-02, 3.1574e-02, 8.2969e-02, 0.0000e+00, 0.0000e+00, 0.0000e+00, 0.0000e+00, 0.0000e+00, 0.0000e+00, 0.0000e+00,\n",
       "           0.0000e+00, 0.0000e+00, 0.0000e+00, 0.0000e+00, 0.0000e+00, 0.0000e+00, 0.0000e+00, 0.0000e+00, 0.0000e+00, 0.0000e+00, 0.0000e+00, 0.0000e+00, 0.0000e+00, 0.0000e+00, 0.0000e+00,\n",
       "           0.0000e+00],\n",
       "          [1.7858e-04, 9.8395e-04, 1.1063e-03, 7.2480e-03, 1.3139e-02, 1.8426e-02, 2.7937e-02, 7.3413e-02, 1.0456e-01, 0.0000e+00, 0.0000e+00, 0.0000e+00, 0.0000e+00, 0.0000e+00, 0.0000e+00,\n",
       "           0.0000e+00, 0.0000e+00, 0.0000e+00, 0.0000e+00, 0.0000e+00, 0.0000e+00, 0.0000e+00, 0.0000e+00, 0.0000e+00, 0.0000e+00, 0.0000e+00, 0.0000e+00, 0.0000e+00, 0.0000e+00, 0.0000e+00,\n",
       "           0.0000e+00],\n",
       "          [5.8178e-05, 3.2055e-04, 3.6042e-04, 2.3612e-03, 4.2804e-03, 6.0027e-03, 9.1013e-03, 2.3916e-02, 3.4064e-02, 6.3287e-02, 0.0000e+00, 0.0000e+00, 0.0000e+00, 0.0000e+00, 0.0000e+00,\n",
       "           0.0000e+00, 0.0000e+00, 0.0000e+00, 0.0000e+00, 0.0000e+00, 0.0000e+00, 0.0000e+00, 0.0000e+00, 0.0000e+00, 0.0000e+00, 0.0000e+00, 0.0000e+00, 0.0000e+00, 0.0000e+00, 0.0000e+00,\n",
       "           0.0000e+00],\n",
       "          [1.1208e-05, 6.1756e-05, 6.9437e-05, 4.5491e-04, 8.2465e-04, 1.1565e-03, 1.7534e-03, 4.6076e-03, 6.5626e-03, 1.2193e-02, 1.7908e-02, 0.0000e+00, 0.0000e+00, 0.0000e+00, 0.0000e+00,\n",
       "           0.0000e+00, 0.0000e+00, 0.0000e+00, 0.0000e+00, 0.0000e+00, 0.0000e+00, 0.0000e+00, 0.0000e+00, 0.0000e+00, 0.0000e+00, 0.0000e+00, 0.0000e+00, 0.0000e+00, 0.0000e+00, 0.0000e+00,\n",
       "           0.0000e+00],\n",
       "          [9.9800e-06, 5.4988e-05, 6.1827e-05, 4.0505e-04, 7.3427e-04, 1.0297e-03, 1.5613e-03, 4.1026e-03, 5.8433e-03, 1.0856e-02, 1.5946e-02, 6.5177e-01, 0.0000e+00, 0.0000e+00, 0.0000e+00,\n",
       "           0.0000e+00, 0.0000e+00, 0.0000e+00, 0.0000e+00, 0.0000e+00, 0.0000e+00, 0.0000e+00, 0.0000e+00, 0.0000e+00, 0.0000e+00, 0.0000e+00, 0.0000e+00, 0.0000e+00, 0.0000e+00, 0.0000e+00,\n",
       "           0.0000e+00],\n",
       "          [9.1144e-06, 5.0218e-05, 5.6464e-05, 3.6992e-04, 6.7058e-04, 9.4040e-04, 1.4258e-03, 3.7468e-03, 5.3365e-03, 9.9148e-03, 1.4563e-02, 5.9524e-01, 7.2696e-01, 0.0000e+00, 0.0000e+00,\n",
       "           0.0000e+00, 0.0000e+00, 0.0000e+00, 0.0000e+00, 0.0000e+00, 0.0000e+00, 0.0000e+00, 0.0000e+00, 0.0000e+00, 0.0000e+00, 0.0000e+00, 0.0000e+00, 0.0000e+00, 0.0000e+00, 0.0000e+00,\n",
       "           0.0000e+00],\n",
       "          [3.2487e-06, 1.7900e-05, 2.0126e-05, 1.3185e-04, 2.3902e-04, 3.3520e-04, 5.0823e-04, 1.3355e-03, 1.9022e-03, 3.5341e-03, 5.1907e-03, 2.1217e-01, 2.5912e-01, 3.0654e-01, 0.0000e+00,\n",
       "           0.0000e+00, 0.0000e+00, 0.0000e+00, 0.0000e+00, 0.0000e+00, 0.0000e+00, 0.0000e+00, 0.0000e+00, 0.0000e+00, 0.0000e+00, 0.0000e+00, 0.0000e+00, 0.0000e+00, 0.0000e+00, 0.0000e+00,\n",
       "           0.0000e+00],\n",
       "          [1.5167e-06, 8.3565e-06, 9.3958e-06, 6.1555e-05, 1.1159e-04, 1.5649e-04, 2.3726e-04, 6.2348e-04, 8.8801e-04, 1.6499e-03, 2.4233e-03, 9.9049e-02, 1.2097e-01, 1.4311e-01, 4.3136e-01,\n",
       "           0.0000e+00, 0.0000e+00, 0.0000e+00, 0.0000e+00, 0.0000e+00, 0.0000e+00, 0.0000e+00, 0.0000e+00, 0.0000e+00, 0.0000e+00, 0.0000e+00, 0.0000e+00, 0.0000e+00, 0.0000e+00, 0.0000e+00,\n",
       "           0.0000e+00],\n",
       "          [1.1875e-06, 6.5430e-06, 7.3568e-06, 4.8197e-05, 8.7371e-05, 1.2253e-04, 1.8577e-04, 4.8817e-04, 6.9530e-04, 1.2918e-03, 1.8974e-03, 7.7554e-02, 9.4716e-02, 1.1205e-01, 3.3775e-01,\n",
       "           7.7359e-01, 0.0000e+00, 0.0000e+00, 0.0000e+00, 0.0000e+00, 0.0000e+00, 0.0000e+00, 0.0000e+00, 0.0000e+00, 0.0000e+00, 0.0000e+00, 0.0000e+00, 0.0000e+00, 0.0000e+00, 0.0000e+00,\n",
       "           0.0000e+00],\n",
       "          [5.7686e-07, 3.1783e-06, 3.5737e-06, 2.3412e-05, 4.2442e-05, 5.9519e-05, 9.0243e-05, 2.3714e-04, 3.3775e-04, 6.2752e-04, 9.2168e-04, 3.7673e-02, 4.6010e-02, 5.4430e-02, 1.6407e-01,\n",
       "           3.7578e-01, 5.1102e-01, 0.0000e+00, 0.0000e+00, 0.0000e+00, 0.0000e+00, 0.0000e+00, 0.0000e+00, 0.0000e+00, 0.0000e+00, 0.0000e+00, 0.0000e+00, 0.0000e+00, 0.0000e+00, 0.0000e+00,\n",
       "           0.0000e+00],\n",
       "          [1.8773e-07, 1.0344e-06, 1.1630e-06, 7.6192e-06, 1.3812e-05, 1.9370e-05, 2.9368e-05, 7.7174e-05, 1.0992e-04, 2.0422e-04, 2.9995e-04, 1.2260e-02, 1.4973e-02, 1.7714e-02, 5.3394e-02,\n",
       "           1.2229e-01, 1.6631e-01, 3.6319e-01, 0.0000e+00, 0.0000e+00, 0.0000e+00, 0.0000e+00, 0.0000e+00, 0.0000e+00, 0.0000e+00, 0.0000e+00, 0.0000e+00, 0.0000e+00, 0.0000e+00, 0.0000e+00,\n",
       "           0.0000e+00],\n",
       "          [1.2627e-07, 6.9573e-07, 7.8227e-07, 5.1249e-06, 9.2904e-06, 1.3029e-05, 1.9754e-05, 5.1909e-05, 7.3933e-05, 1.3736e-04, 2.0175e-04, 8.2466e-03, 1.0071e-02, 1.1915e-02, 3.5914e-02,\n",
       "           8.2258e-02, 1.1186e-01, 2.4429e-01, 7.9370e-01, 0.0000e+00, 0.0000e+00, 0.0000e+00, 0.0000e+00, 0.0000e+00, 0.0000e+00, 0.0000e+00, 0.0000e+00, 0.0000e+00, 0.0000e+00, 0.0000e+00,\n",
       "           0.0000e+00],\n",
       "          [1.1772e-07, 6.4859e-07, 7.2926e-07, 4.7777e-06, 8.6609e-06, 1.2146e-05, 1.8416e-05, 4.8392e-05, 6.8924e-05, 1.2806e-04, 1.8808e-04, 7.6878e-03, 9.3890e-03, 1.1107e-02, 3.3481e-02,\n",
       "           7.6684e-02, 1.0428e-01, 2.2774e-01, 7.3992e-01, 1.1597e+00, 0.0000e+00, 0.0000e+00, 0.0000e+00, 0.0000e+00, 0.0000e+00, 0.0000e+00, 0.0000e+00, 0.0000e+00, 0.0000e+00, 0.0000e+00,\n",
       "           0.0000e+00],\n",
       "          [1.1023e-07, 6.0732e-07, 6.8285e-07, 4.4736e-06, 8.1098e-06, 1.1373e-05, 1.7244e-05, 4.5312e-05, 6.4538e-05, 1.1991e-04, 1.7611e-04, 7.1986e-03, 8.7915e-03, 1.0400e-02, 3.1350e-02,\n",
       "           7.1804e-02, 9.7647e-02, 2.1325e-01, 6.9283e-01, 1.0859e+00, 1.2248e+00, 0.0000e+00, 0.0000e+00, 0.0000e+00, 0.0000e+00, 0.0000e+00, 0.0000e+00, 0.0000e+00, 0.0000e+00, 0.0000e+00,\n",
       "           0.0000e+00],\n",
       "          [7.2176e-08, 3.9767e-07, 4.4713e-07, 2.9293e-06, 5.3103e-06, 7.4470e-06, 1.1291e-05, 2.9670e-05, 4.2259e-05, 7.8514e-05, 1.1532e-04, 4.7136e-03, 5.7567e-03, 6.8102e-03, 2.0528e-02,\n",
       "           4.7017e-02, 6.3939e-02, 1.3963e-01, 4.5367e-01, 7.1105e-01, 8.0197e-01, 8.9838e-01, 0.0000e+00, 0.0000e+00, 0.0000e+00, 0.0000e+00, 0.0000e+00, 0.0000e+00, 0.0000e+00, 0.0000e+00,\n",
       "           0.0000e+00],\n",
       "          [3.6721e-08, 2.0232e-07, 2.2749e-07, 1.4903e-06, 2.7017e-06, 3.7888e-06, 5.7445e-06, 1.5095e-05, 2.1500e-05, 3.9945e-05, 5.8671e-05, 2.3981e-03, 2.9288e-03, 3.4648e-03, 1.0444e-02,\n",
       "           2.3921e-02, 3.2530e-02, 7.1040e-02, 2.3081e-01, 3.6176e-01, 4.0802e-01, 4.5707e-01, 6.3681e-01, 0.0000e+00, 0.0000e+00, 0.0000e+00, 0.0000e+00, 0.0000e+00, 0.0000e+00, 0.0000e+00,\n",
       "           0.0000e+00],\n",
       "          [1.7208e-08, 9.4813e-08, 1.0661e-07, 6.9841e-07, 1.2661e-06, 1.7755e-06, 2.6920e-06, 7.0740e-06, 1.0075e-05, 1.8719e-05, 2.7495e-05, 1.1238e-03, 1.3725e-03, 1.6237e-03, 4.8943e-03,\n",
       "           1.1210e-02, 1.5244e-02, 3.3291e-02, 1.0816e-01, 1.6953e-01, 1.9121e-01, 2.1419e-01, 2.9843e-01, 4.0030e-01, 0.0000e+00, 0.0000e+00, 0.0000e+00, 0.0000e+00, 0.0000e+00, 0.0000e+00,\n",
       "           0.0000e+00],\n",
       "          [5.8768e-09, 3.2380e-08, 3.6407e-08, 2.3852e-07, 4.3238e-07, 6.0636e-07, 9.1936e-07, 2.4159e-06, 3.4409e-06, 6.3929e-06, 9.3897e-06, 3.8380e-04, 4.6873e-04, 5.5451e-04, 1.6715e-03,\n",
       "           3.8283e-03, 5.2061e-03, 1.1369e-02, 3.6939e-02, 5.7896e-02, 6.5299e-02, 7.3150e-02, 1.0192e-01, 1.3671e-01, 4.5337e-01, 0.0000e+00, 0.0000e+00, 0.0000e+00, 0.0000e+00, 0.0000e+00,\n",
       "           0.0000e+00],\n",
       "          [1.0036e-09, 5.5298e-09, 6.2176e-09, 4.0734e-08, 7.3842e-08, 1.0355e-07, 1.5701e-07, 4.1258e-07, 5.8764e-07, 1.0918e-06, 1.6036e-06, 6.5545e-05, 8.0050e-05, 9.4700e-05, 2.8545e-04,\n",
       "           6.5380e-04, 8.8910e-04, 1.9417e-03, 6.3085e-03, 9.8875e-03, 1.1152e-02, 1.2492e-02, 1.7405e-02, 2.3347e-02, 7.7427e-02, 2.3628e-01, 0.0000e+00, 0.0000e+00, 0.0000e+00, 0.0000e+00,\n",
       "           0.0000e+00],\n",
       "          [6.1499e-10, 3.3884e-09, 3.8099e-09, 2.4960e-08, 4.5247e-08, 6.3453e-08, 9.6208e-08, 2.5281e-07, 3.6008e-07, 6.6900e-07, 9.8260e-07, 4.0163e-05, 4.9051e-05, 5.8028e-05, 1.7491e-04,\n",
       "           4.0062e-04, 5.4480e-04, 1.1898e-03, 3.8656e-03, 6.0587e-03, 6.8334e-03, 7.6548e-03, 1.0665e-02, 1.4306e-02, 4.7444e-02, 1.4478e-01, 1.0368e+00, 0.0000e+00, 0.0000e+00, 0.0000e+00,\n",
       "           0.0000e+00],\n",
       "          [4.9645e-10, 2.7353e-09, 3.0755e-09, 2.0149e-08, 3.6525e-08, 5.1222e-08, 7.7663e-08, 2.0408e-07, 2.9067e-07, 5.4004e-07, 7.9320e-07, 3.2422e-05, 3.9596e-05, 4.6843e-05, 1.4120e-04,\n",
       "           3.2340e-04, 4.3979e-04, 9.6043e-04, 3.1204e-03, 4.8908e-03, 5.5162e-03, 6.1793e-03, 8.6094e-03, 1.1548e-02, 3.8299e-02, 1.1687e-01, 8.3694e-01, 1.4175e+00, 0.0000e+00, 0.0000e+00,\n",
       "           0.0000e+00],\n",
       "          [4.4154e-10, 2.4328e-09, 2.7354e-09, 1.7920e-08, 3.2486e-08, 4.5557e-08, 6.9074e-08, 1.8151e-07, 2.5852e-07, 4.8032e-07, 7.0548e-07, 2.8836e-05, 3.5217e-05, 4.1662e-05, 1.2558e-04,\n",
       "           2.8763e-04, 3.9115e-04, 8.5421e-04, 2.7753e-03, 4.3499e-03, 4.9061e-03, 5.4959e-03, 7.6573e-03, 1.0271e-02, 3.4063e-02, 1.0395e-01, 7.4438e-01, 1.2607e+00, 1.6187e+00, 0.0000e+00,\n",
       "           0.0000e+00],\n",
       "          [1.8615e-10, 1.0257e-09, 1.1532e-09, 7.5553e-09, 1.3696e-08, 1.9207e-08, 2.9122e-08, 7.6526e-08, 1.0899e-07, 2.0250e-07, 2.9743e-07, 1.2157e-05, 1.4848e-05, 1.7565e-05, 5.2946e-05,\n",
       "           1.2127e-04, 1.6491e-04, 3.6014e-04, 1.1701e-03, 1.8339e-03, 2.0684e-03, 2.3171e-03, 3.2283e-03, 4.3304e-03, 1.4361e-02, 4.3824e-02, 3.1383e-01, 5.3154e-01, 6.8246e-01, 7.9430e-01,\n",
       "           0.0000e+00],\n",
       "          [1.6011e-10, 8.8215e-10, 9.9187e-10, 6.4981e-09, 1.1780e-08, 1.6519e-08, 2.5047e-08, 6.5818e-08, 9.3743e-08, 1.7417e-07, 2.5581e-07, 1.0456e-05, 1.2770e-05, 1.5107e-05, 4.5537e-05,\n",
       "           1.0430e-04, 1.4183e-04, 3.0975e-04, 1.0064e-03, 1.5773e-03, 1.7790e-03, 1.9929e-03, 2.7766e-03, 3.7244e-03, 1.2352e-02, 3.7692e-02, 2.6992e-01, 4.5716e-01, 5.8696e-01, 6.8315e-01,\n",
       "           1.6754e+00]]]], device='cuda:0')"
      ]
     },
     "execution_count": 27,
     "metadata": {},
     "output_type": "execute_result"
    }
   ],
   "source": [
    "delta_Dtilde_pt.cumsum(-1).tril(-1)[:, :, :, :-1]"
   ]
  },
  {
   "cell_type": "code",
   "execution_count": 28,
   "metadata": {},
   "outputs": [],
   "source": [
    "# matC_cu - mat_P_pt\n",
    "# matC_cu - mat_C_pt"
   ]
  },
  {
   "cell_type": "code",
   "execution_count": 29,
   "metadata": {},
   "outputs": [
    {
     "data": {
      "text/plain": [
       "tensor([[[[0.0000e+00, 0.0000e+00, 0.0000e+00, 0.0000e+00, 0.0000e+00, 0.0000e+00, 0.0000e+00, 0.0000e+00, 0.0000e+00, 0.0000e+00, 0.0000e+00, 0.0000e+00, 0.0000e+00, 0.0000e+00, 0.0000e+00,\n",
       "           0.0000e+00, 0.0000e+00, 0.0000e+00, 0.0000e+00, 0.0000e+00, 0.0000e+00, 0.0000e+00, 0.0000e+00, 0.0000e+00, 0.0000e+00, 0.0000e+00, 0.0000e+00, 0.0000e+00, 0.0000e+00, 0.0000e+00,\n",
       "           0.0000e+00],\n",
       "          [4.3366e-04, 0.0000e+00, 0.0000e+00, 0.0000e+00, 0.0000e+00, 0.0000e+00, 0.0000e+00, 0.0000e+00, 0.0000e+00, 0.0000e+00, 0.0000e+00, 0.0000e+00, 0.0000e+00, 0.0000e+00, 0.0000e+00,\n",
       "           0.0000e+00, 0.0000e+00, 0.0000e+00, 0.0000e+00, 0.0000e+00, 0.0000e+00, 0.0000e+00, 0.0000e+00, 0.0000e+00, 0.0000e+00, 0.0000e+00, 0.0000e+00, 0.0000e+00, 0.0000e+00, 0.0000e+00,\n",
       "           0.0000e+00],\n",
       "          [8.9254e-04, 4.9177e-03, 0.0000e+00, 0.0000e+00, 0.0000e+00, 0.0000e+00, 0.0000e+00, 0.0000e+00, 0.0000e+00, 0.0000e+00, 0.0000e+00, 0.0000e+00, 0.0000e+00, 0.0000e+00, 0.0000e+00,\n",
       "           0.0000e+00, 0.0000e+00, 0.0000e+00, 0.0000e+00, 0.0000e+00, 0.0000e+00, 0.0000e+00, 0.0000e+00, 0.0000e+00, 0.0000e+00, 0.0000e+00, 0.0000e+00, 0.0000e+00, 0.0000e+00, 0.0000e+00,\n",
       "           0.0000e+00],\n",
       "          [5.7532e-04, 3.1699e-03, 3.5641e-03, 0.0000e+00, 0.0000e+00, 0.0000e+00, 0.0000e+00, 0.0000e+00, 0.0000e+00, 0.0000e+00, 0.0000e+00, 0.0000e+00, 0.0000e+00, 0.0000e+00, 0.0000e+00,\n",
       "           0.0000e+00, 0.0000e+00, 0.0000e+00, 0.0000e+00, 0.0000e+00, 0.0000e+00, 0.0000e+00, 0.0000e+00, 0.0000e+00, 0.0000e+00, 0.0000e+00, 0.0000e+00, 0.0000e+00, 0.0000e+00, 0.0000e+00,\n",
       "           0.0000e+00],\n",
       "          [7.6602e-04, 4.2206e-03, 4.7456e-03, 3.1090e-02, 0.0000e+00, 0.0000e+00, 0.0000e+00, 0.0000e+00, 0.0000e+00, 0.0000e+00, 0.0000e+00, 0.0000e+00, 0.0000e+00, 0.0000e+00, 0.0000e+00,\n",
       "           0.0000e+00, 0.0000e+00, 0.0000e+00, 0.0000e+00, 0.0000e+00, 0.0000e+00, 0.0000e+00, 0.0000e+00, 0.0000e+00, 0.0000e+00, 0.0000e+00, 0.0000e+00, 0.0000e+00, 0.0000e+00, 0.0000e+00,\n",
       "           0.0000e+00],\n",
       "          [8.1001e-04, 4.4630e-03, 5.0181e-03, 3.2875e-02, 5.9596e-02, 0.0000e+00, 0.0000e+00, 0.0000e+00, 0.0000e+00, 0.0000e+00, 0.0000e+00, 0.0000e+00, 0.0000e+00, 0.0000e+00, 0.0000e+00,\n",
       "           0.0000e+00, 0.0000e+00, 0.0000e+00, 0.0000e+00, 0.0000e+00, 0.0000e+00, 0.0000e+00, 0.0000e+00, 0.0000e+00, 0.0000e+00, 0.0000e+00, 0.0000e+00, 0.0000e+00, 0.0000e+00, 0.0000e+00,\n",
       "           0.0000e+00],\n",
       "          [6.0442e-04, 3.3302e-03, 3.7444e-03, 2.4531e-02, 4.4470e-02, 6.2363e-02, 0.0000e+00, 0.0000e+00, 0.0000e+00, 0.0000e+00, 0.0000e+00, 0.0000e+00, 0.0000e+00, 0.0000e+00, 0.0000e+00,\n",
       "           0.0000e+00, 0.0000e+00, 0.0000e+00, 0.0000e+00, 0.0000e+00, 0.0000e+00, 0.0000e+00, 0.0000e+00, 0.0000e+00, 0.0000e+00, 0.0000e+00, 0.0000e+00, 0.0000e+00, 0.0000e+00, 0.0000e+00,\n",
       "           0.0000e+00],\n",
       "          [2.2652e-04, 1.2481e-03, 1.4033e-03, 9.1937e-03, 1.6666e-02, 2.3372e-02, 3.5437e-02, 0.0000e+00, 0.0000e+00, 0.0000e+00, 0.0000e+00, 0.0000e+00, 0.0000e+00, 0.0000e+00, 0.0000e+00,\n",
       "           0.0000e+00, 0.0000e+00, 0.0000e+00, 0.0000e+00, 0.0000e+00, 0.0000e+00, 0.0000e+00, 0.0000e+00, 0.0000e+00, 0.0000e+00, 0.0000e+00, 0.0000e+00, 0.0000e+00, 0.0000e+00, 0.0000e+00,\n",
       "           0.0000e+00],\n",
       "          [2.0183e-04, 1.1120e-03, 1.2503e-03, 8.1914e-03, 1.4849e-02, 2.0824e-02, 3.1574e-02, 8.2969e-02, 0.0000e+00, 0.0000e+00, 0.0000e+00, 0.0000e+00, 0.0000e+00, 0.0000e+00, 0.0000e+00,\n",
       "           0.0000e+00, 0.0000e+00, 0.0000e+00, 0.0000e+00, 0.0000e+00, 0.0000e+00, 0.0000e+00, 0.0000e+00, 0.0000e+00, 0.0000e+00, 0.0000e+00, 0.0000e+00, 0.0000e+00, 0.0000e+00, 0.0000e+00,\n",
       "           0.0000e+00],\n",
       "          [1.7858e-04, 9.8395e-04, 1.1063e-03, 7.2480e-03, 1.3139e-02, 1.8426e-02, 2.7937e-02, 7.3413e-02, 1.0456e-01, 0.0000e+00, 0.0000e+00, 0.0000e+00, 0.0000e+00, 0.0000e+00, 0.0000e+00,\n",
       "           0.0000e+00, 0.0000e+00, 0.0000e+00, 0.0000e+00, 0.0000e+00, 0.0000e+00, 0.0000e+00, 0.0000e+00, 0.0000e+00, 0.0000e+00, 0.0000e+00, 0.0000e+00, 0.0000e+00, 0.0000e+00, 0.0000e+00,\n",
       "           0.0000e+00],\n",
       "          [5.8178e-05, 3.2055e-04, 3.6042e-04, 2.3612e-03, 4.2804e-03, 6.0027e-03, 9.1013e-03, 2.3916e-02, 3.4064e-02, 6.3287e-02, 0.0000e+00, 0.0000e+00, 0.0000e+00, 0.0000e+00, 0.0000e+00,\n",
       "           0.0000e+00, 0.0000e+00, 0.0000e+00, 0.0000e+00, 0.0000e+00, 0.0000e+00, 0.0000e+00, 0.0000e+00, 0.0000e+00, 0.0000e+00, 0.0000e+00, 0.0000e+00, 0.0000e+00, 0.0000e+00, 0.0000e+00,\n",
       "           0.0000e+00],\n",
       "          [1.1208e-05, 6.1756e-05, 6.9437e-05, 4.5491e-04, 8.2465e-04, 1.1565e-03, 1.7534e-03, 4.6077e-03, 6.5626e-03, 1.2193e-02, 1.7909e-02, 0.0000e+00, 0.0000e+00, 0.0000e+00, 0.0000e+00,\n",
       "           0.0000e+00, 0.0000e+00, 0.0000e+00, 0.0000e+00, 0.0000e+00, 0.0000e+00, 0.0000e+00, 0.0000e+00, 0.0000e+00, 0.0000e+00, 0.0000e+00, 0.0000e+00, 0.0000e+00, 0.0000e+00, 0.0000e+00,\n",
       "           0.0000e+00],\n",
       "          [9.9800e-06, 5.4988e-05, 6.1827e-05, 4.0505e-04, 7.3427e-04, 1.0297e-03, 1.5613e-03, 4.1027e-03, 5.8434e-03, 1.0857e-02, 1.5946e-02, 6.5177e-01, 0.0000e+00, 0.0000e+00, 0.0000e+00,\n",
       "           0.0000e+00, 0.0000e+00, 0.0000e+00, 0.0000e+00, 0.0000e+00, 0.0000e+00, 0.0000e+00, 0.0000e+00, 0.0000e+00, 0.0000e+00, 0.0000e+00, 0.0000e+00, 0.0000e+00, 0.0000e+00, 0.0000e+00,\n",
       "           0.0000e+00],\n",
       "          [9.1144e-06, 5.0218e-05, 5.6464e-05, 3.6992e-04, 6.7058e-04, 9.4041e-04, 1.4258e-03, 3.7468e-03, 5.3365e-03, 9.9148e-03, 1.4563e-02, 5.9524e-01, 7.2696e-01, 0.0000e+00, 0.0000e+00,\n",
       "           0.0000e+00, 0.0000e+00, 0.0000e+00, 0.0000e+00, 0.0000e+00, 0.0000e+00, 0.0000e+00, 0.0000e+00, 0.0000e+00, 0.0000e+00, 0.0000e+00, 0.0000e+00, 0.0000e+00, 0.0000e+00, 0.0000e+00,\n",
       "           0.0000e+00],\n",
       "          [3.2487e-06, 1.7900e-05, 2.0126e-05, 1.3185e-04, 2.3902e-04, 3.3520e-04, 5.0823e-04, 1.3355e-03, 1.9022e-03, 3.5341e-03, 5.1907e-03, 2.1217e-01, 2.5912e-01, 3.0654e-01, 0.0000e+00,\n",
       "           0.0000e+00, 0.0000e+00, 0.0000e+00, 0.0000e+00, 0.0000e+00, 0.0000e+00, 0.0000e+00, 0.0000e+00, 0.0000e+00, 0.0000e+00, 0.0000e+00, 0.0000e+00, 0.0000e+00, 0.0000e+00, 0.0000e+00,\n",
       "           0.0000e+00],\n",
       "          [1.5167e-06, 8.3565e-06, 9.3958e-06, 6.1555e-05, 1.1159e-04, 1.5649e-04, 2.3726e-04, 6.2348e-04, 8.8801e-04, 1.6499e-03, 2.4233e-03, 9.9050e-02, 1.2097e-01, 1.4311e-01, 4.3136e-01,\n",
       "           0.0000e+00, 0.0000e+00, 0.0000e+00, 0.0000e+00, 0.0000e+00, 0.0000e+00, 0.0000e+00, 0.0000e+00, 0.0000e+00, 0.0000e+00, 0.0000e+00, 0.0000e+00, 0.0000e+00, 0.0000e+00, 0.0000e+00,\n",
       "           0.0000e+00],\n",
       "          [1.1875e-06, 6.5430e-06, 7.3568e-06, 4.8197e-05, 8.7371e-05, 1.2253e-04, 1.8577e-04, 4.8817e-04, 6.9530e-04, 1.2918e-03, 1.8974e-03, 7.7554e-02, 9.4716e-02, 1.1205e-01, 3.3775e-01,\n",
       "           7.7359e-01, 0.0000e+00, 0.0000e+00, 0.0000e+00, 0.0000e+00, 0.0000e+00, 0.0000e+00, 0.0000e+00, 0.0000e+00, 0.0000e+00, 0.0000e+00, 0.0000e+00, 0.0000e+00, 0.0000e+00, 0.0000e+00,\n",
       "           0.0000e+00],\n",
       "          [5.7686e-07, 3.1783e-06, 3.5737e-06, 2.3412e-05, 4.2442e-05, 5.9519e-05, 9.0243e-05, 2.3714e-04, 3.3775e-04, 6.2752e-04, 9.2168e-04, 3.7673e-02, 4.6010e-02, 5.4430e-02, 1.6407e-01,\n",
       "           3.7578e-01, 5.1102e-01, 0.0000e+00, 0.0000e+00, 0.0000e+00, 0.0000e+00, 0.0000e+00, 0.0000e+00, 0.0000e+00, 0.0000e+00, 0.0000e+00, 0.0000e+00, 0.0000e+00, 0.0000e+00, 0.0000e+00,\n",
       "           0.0000e+00],\n",
       "          [1.8773e-07, 1.0344e-06, 1.1630e-06, 7.6192e-06, 1.3812e-05, 1.9370e-05, 2.9368e-05, 7.7174e-05, 1.0992e-04, 2.0422e-04, 2.9995e-04, 1.2260e-02, 1.4973e-02, 1.7714e-02, 5.3394e-02,\n",
       "           1.2229e-01, 1.6631e-01, 3.6319e-01, 0.0000e+00, 0.0000e+00, 0.0000e+00, 0.0000e+00, 0.0000e+00, 0.0000e+00, 0.0000e+00, 0.0000e+00, 0.0000e+00, 0.0000e+00, 0.0000e+00, 0.0000e+00,\n",
       "           0.0000e+00],\n",
       "          [1.2627e-07, 6.9574e-07, 7.8227e-07, 5.1249e-06, 9.2904e-06, 1.3029e-05, 1.9754e-05, 5.1909e-05, 7.3933e-05, 1.3736e-04, 2.0175e-04, 8.2466e-03, 1.0071e-02, 1.1915e-02, 3.5914e-02,\n",
       "           8.2258e-02, 1.1186e-01, 2.4429e-01, 7.9370e-01, 0.0000e+00, 0.0000e+00, 0.0000e+00, 0.0000e+00, 0.0000e+00, 0.0000e+00, 0.0000e+00, 0.0000e+00, 0.0000e+00, 0.0000e+00, 0.0000e+00,\n",
       "           0.0000e+00],\n",
       "          [1.1772e-07, 6.4859e-07, 7.2926e-07, 4.7777e-06, 8.6609e-06, 1.2146e-05, 1.8416e-05, 4.8392e-05, 6.8924e-05, 1.2806e-04, 1.8808e-04, 7.6878e-03, 9.3890e-03, 1.1107e-02, 3.3481e-02,\n",
       "           7.6685e-02, 1.0428e-01, 2.2774e-01, 7.3992e-01, 1.1597e+00, 0.0000e+00, 0.0000e+00, 0.0000e+00, 0.0000e+00, 0.0000e+00, 0.0000e+00, 0.0000e+00, 0.0000e+00, 0.0000e+00, 0.0000e+00,\n",
       "           0.0000e+00],\n",
       "          [1.1023e-07, 6.0732e-07, 6.8286e-07, 4.4736e-06, 8.1098e-06, 1.1373e-05, 1.7244e-05, 4.5312e-05, 6.4538e-05, 1.1991e-04, 1.7611e-04, 7.1986e-03, 8.7915e-03, 1.0400e-02, 3.1350e-02,\n",
       "           7.1804e-02, 9.7647e-02, 2.1325e-01, 6.9283e-01, 1.0859e+00, 1.2248e+00, 0.0000e+00, 0.0000e+00, 0.0000e+00, 0.0000e+00, 0.0000e+00, 0.0000e+00, 0.0000e+00, 0.0000e+00, 0.0000e+00,\n",
       "           0.0000e+00],\n",
       "          [7.2176e-08, 3.9767e-07, 4.4713e-07, 2.9293e-06, 5.3103e-06, 7.4470e-06, 1.1291e-05, 2.9670e-05, 4.2259e-05, 7.8514e-05, 1.1532e-04, 4.7136e-03, 5.7567e-03, 6.8102e-03, 2.0528e-02,\n",
       "           4.7018e-02, 6.3939e-02, 1.3963e-01, 4.5367e-01, 7.1105e-01, 8.0197e-01, 8.9838e-01, 0.0000e+00, 0.0000e+00, 0.0000e+00, 0.0000e+00, 0.0000e+00, 0.0000e+00, 0.0000e+00, 0.0000e+00,\n",
       "           0.0000e+00],\n",
       "          [3.6720e-08, 2.0232e-07, 2.2749e-07, 1.4903e-06, 2.7017e-06, 3.7887e-06, 5.7445e-06, 1.5095e-05, 2.1500e-05, 3.9945e-05, 5.8671e-05, 2.3981e-03, 2.9288e-03, 3.4648e-03, 1.0444e-02,\n",
       "           2.3921e-02, 3.2530e-02, 7.1040e-02, 2.3081e-01, 3.6176e-01, 4.0802e-01, 4.5707e-01, 6.3681e-01, 0.0000e+00, 0.0000e+00, 0.0000e+00, 0.0000e+00, 0.0000e+00, 0.0000e+00, 0.0000e+00,\n",
       "           0.0000e+00],\n",
       "          [1.7208e-08, 9.4813e-08, 1.0661e-07, 6.9841e-07, 1.2661e-06, 1.7755e-06, 2.6920e-06, 7.0740e-06, 1.0075e-05, 1.8719e-05, 2.7494e-05, 1.1238e-03, 1.3725e-03, 1.6237e-03, 4.8943e-03,\n",
       "           1.1210e-02, 1.5244e-02, 3.3291e-02, 1.0816e-01, 1.6953e-01, 1.9121e-01, 2.1419e-01, 2.9843e-01, 4.0030e-01, 0.0000e+00, 0.0000e+00, 0.0000e+00, 0.0000e+00, 0.0000e+00, 0.0000e+00,\n",
       "           0.0000e+00],\n",
       "          [5.8768e-09, 3.2380e-08, 3.6407e-08, 2.3852e-07, 4.3238e-07, 6.0636e-07, 9.1936e-07, 2.4159e-06, 3.4409e-06, 6.3929e-06, 9.3897e-06, 3.8380e-04, 4.6873e-04, 5.5451e-04, 1.6715e-03,\n",
       "           3.8283e-03, 5.2061e-03, 1.1369e-02, 3.6939e-02, 5.7896e-02, 6.5299e-02, 7.3150e-02, 1.0192e-01, 1.3671e-01, 4.5337e-01, 0.0000e+00, 0.0000e+00, 0.0000e+00, 0.0000e+00, 0.0000e+00,\n",
       "           0.0000e+00],\n",
       "          [1.0036e-09, 5.5298e-09, 6.2176e-09, 4.0734e-08, 7.3842e-08, 1.0355e-07, 1.5701e-07, 4.1258e-07, 5.8764e-07, 1.0918e-06, 1.6036e-06, 6.5545e-05, 8.0050e-05, 9.4700e-05, 2.8545e-04,\n",
       "           6.5380e-04, 8.8910e-04, 1.9417e-03, 6.3085e-03, 9.8876e-03, 1.1152e-02, 1.2492e-02, 1.7405e-02, 2.3347e-02, 7.7427e-02, 2.3628e-01, 0.0000e+00, 0.0000e+00, 0.0000e+00, 0.0000e+00,\n",
       "           0.0000e+00],\n",
       "          [6.1499e-10, 3.3884e-09, 3.8099e-09, 2.4960e-08, 4.5247e-08, 6.3453e-08, 9.6208e-08, 2.5281e-07, 3.6008e-07, 6.6900e-07, 9.8260e-07, 4.0163e-05, 4.9051e-05, 5.8028e-05, 1.7491e-04,\n",
       "           4.0062e-04, 5.4480e-04, 1.1898e-03, 3.8656e-03, 6.0587e-03, 6.8334e-03, 7.6549e-03, 1.0665e-02, 1.4306e-02, 4.7444e-02, 1.4478e-01, 1.0368e+00, 0.0000e+00, 0.0000e+00, 0.0000e+00,\n",
       "           0.0000e+00],\n",
       "          [4.9644e-10, 2.7353e-09, 3.0755e-09, 2.0149e-08, 3.6525e-08, 5.1222e-08, 7.7663e-08, 2.0408e-07, 2.9067e-07, 5.4004e-07, 7.9320e-07, 3.2422e-05, 3.9596e-05, 4.6843e-05, 1.4120e-04,\n",
       "           3.2340e-04, 4.3979e-04, 9.6043e-04, 3.1204e-03, 4.8908e-03, 5.5162e-03, 6.1793e-03, 8.6094e-03, 1.1548e-02, 3.8299e-02, 1.1687e-01, 8.3694e-01, 1.4175e+00, 0.0000e+00, 0.0000e+00,\n",
       "           0.0000e+00],\n",
       "          [4.4154e-10, 2.4328e-09, 2.7354e-09, 1.7920e-08, 3.2486e-08, 4.5557e-08, 6.9074e-08, 1.8151e-07, 2.5852e-07, 4.8032e-07, 7.0548e-07, 2.8836e-05, 3.5217e-05, 4.1662e-05, 1.2558e-04,\n",
       "           2.8763e-04, 3.9115e-04, 8.5421e-04, 2.7753e-03, 4.3499e-03, 4.9061e-03, 5.4959e-03, 7.6573e-03, 1.0271e-02, 3.4063e-02, 1.0395e-01, 7.4438e-01, 1.2607e+00, 1.6187e+00, 0.0000e+00,\n",
       "           0.0000e+00],\n",
       "          [1.8615e-10, 1.0257e-09, 1.1532e-09, 7.5553e-09, 1.3696e-08, 1.9207e-08, 2.9122e-08, 7.6526e-08, 1.0899e-07, 2.0250e-07, 2.9743e-07, 1.2157e-05, 1.4848e-05, 1.7565e-05, 5.2946e-05,\n",
       "           1.2127e-04, 1.6491e-04, 3.6014e-04, 1.1701e-03, 1.8339e-03, 2.0684e-03, 2.3171e-03, 3.2283e-03, 4.3304e-03, 1.4361e-02, 4.3824e-02, 3.1383e-01, 5.3154e-01, 6.8246e-01, 7.9430e-01,\n",
       "           0.0000e+00],\n",
       "          [1.6011e-10, 8.8215e-10, 9.9187e-10, 6.4981e-09, 1.1780e-08, 1.6519e-08, 2.5047e-08, 6.5818e-08, 9.3743e-08, 1.7417e-07, 2.5581e-07, 1.0456e-05, 1.2770e-05, 1.5107e-05, 4.5537e-05,\n",
       "           1.0430e-04, 1.4183e-04, 3.0975e-04, 1.0064e-03, 1.5773e-03, 1.7790e-03, 1.9929e-03, 2.7766e-03, 3.7244e-03, 1.2352e-02, 3.7692e-02, 2.6992e-01, 4.5716e-01, 5.8696e-01, 6.8315e-01,\n",
       "           1.6754e+00]]]], device='cuda:0')"
      ]
     },
     "execution_count": 29,
     "metadata": {},
     "output_type": "execute_result"
    }
   ],
   "source": [
    "matC_cu[:, :, :, :-1]"
   ]
  },
  {
   "cell_type": "code",
   "execution_count": 30,
   "metadata": {},
   "outputs": [
    {
     "data": {
      "text/plain": [
       "tensor([[[[0.0000e+00, 0.0000e+00, 0.0000e+00, 0.0000e+00, 0.0000e+00, 0.0000e+00, 0.0000e+00, 0.0000e+00, 0.0000e+00, 0.0000e+00, 0.0000e+00, 0.0000e+00, 0.0000e+00, 0.0000e+00, 0.0000e+00,\n",
       "           0.0000e+00, 0.0000e+00, 0.0000e+00, 0.0000e+00, 0.0000e+00, 0.0000e+00, 0.0000e+00, 0.0000e+00, 0.0000e+00, 0.0000e+00, 0.0000e+00, 0.0000e+00, 0.0000e+00, 0.0000e+00, 0.0000e+00,\n",
       "           0.0000e+00],\n",
       "          [4.3366e-04, 0.0000e+00, 0.0000e+00, 0.0000e+00, 0.0000e+00, 0.0000e+00, 0.0000e+00, 0.0000e+00, 0.0000e+00, 0.0000e+00, 0.0000e+00, 0.0000e+00, 0.0000e+00, 0.0000e+00, 0.0000e+00,\n",
       "           0.0000e+00, 0.0000e+00, 0.0000e+00, 0.0000e+00, 0.0000e+00, 0.0000e+00, 0.0000e+00, 0.0000e+00, 0.0000e+00, 0.0000e+00, 0.0000e+00, 0.0000e+00, 0.0000e+00, 0.0000e+00, 0.0000e+00,\n",
       "           0.0000e+00],\n",
       "          [8.9254e-04, 4.9177e-03, 0.0000e+00, 0.0000e+00, 0.0000e+00, 0.0000e+00, 0.0000e+00, 0.0000e+00, 0.0000e+00, 0.0000e+00, 0.0000e+00, 0.0000e+00, 0.0000e+00, 0.0000e+00, 0.0000e+00,\n",
       "           0.0000e+00, 0.0000e+00, 0.0000e+00, 0.0000e+00, 0.0000e+00, 0.0000e+00, 0.0000e+00, 0.0000e+00, 0.0000e+00, 0.0000e+00, 0.0000e+00, 0.0000e+00, 0.0000e+00, 0.0000e+00, 0.0000e+00,\n",
       "           0.0000e+00],\n",
       "          [5.7532e-04, 3.1699e-03, 3.5641e-03, 0.0000e+00, 0.0000e+00, 0.0000e+00, 0.0000e+00, 0.0000e+00, 0.0000e+00, 0.0000e+00, 0.0000e+00, 0.0000e+00, 0.0000e+00, 0.0000e+00, 0.0000e+00,\n",
       "           0.0000e+00, 0.0000e+00, 0.0000e+00, 0.0000e+00, 0.0000e+00, 0.0000e+00, 0.0000e+00, 0.0000e+00, 0.0000e+00, 0.0000e+00, 0.0000e+00, 0.0000e+00, 0.0000e+00, 0.0000e+00, 0.0000e+00,\n",
       "           0.0000e+00],\n",
       "          [7.6602e-04, 4.2206e-03, 4.7456e-03, 3.1090e-02, 0.0000e+00, 0.0000e+00, 0.0000e+00, 0.0000e+00, 0.0000e+00, 0.0000e+00, 0.0000e+00, 0.0000e+00, 0.0000e+00, 0.0000e+00, 0.0000e+00,\n",
       "           0.0000e+00, 0.0000e+00, 0.0000e+00, 0.0000e+00, 0.0000e+00, 0.0000e+00, 0.0000e+00, 0.0000e+00, 0.0000e+00, 0.0000e+00, 0.0000e+00, 0.0000e+00, 0.0000e+00, 0.0000e+00, 0.0000e+00,\n",
       "           0.0000e+00],\n",
       "          [8.1001e-04, 4.4630e-03, 5.0181e-03, 3.2875e-02, 5.9596e-02, 0.0000e+00, 0.0000e+00, 0.0000e+00, 0.0000e+00, 0.0000e+00, 0.0000e+00, 0.0000e+00, 0.0000e+00, 0.0000e+00, 0.0000e+00,\n",
       "           0.0000e+00, 0.0000e+00, 0.0000e+00, 0.0000e+00, 0.0000e+00, 0.0000e+00, 0.0000e+00, 0.0000e+00, 0.0000e+00, 0.0000e+00, 0.0000e+00, 0.0000e+00, 0.0000e+00, 0.0000e+00, 0.0000e+00,\n",
       "           0.0000e+00],\n",
       "          [6.0442e-04, 3.3302e-03, 3.7444e-03, 2.4531e-02, 4.4470e-02, 6.2363e-02, 0.0000e+00, 0.0000e+00, 0.0000e+00, 0.0000e+00, 0.0000e+00, 0.0000e+00, 0.0000e+00, 0.0000e+00, 0.0000e+00,\n",
       "           0.0000e+00, 0.0000e+00, 0.0000e+00, 0.0000e+00, 0.0000e+00, 0.0000e+00, 0.0000e+00, 0.0000e+00, 0.0000e+00, 0.0000e+00, 0.0000e+00, 0.0000e+00, 0.0000e+00, 0.0000e+00, 0.0000e+00,\n",
       "           0.0000e+00],\n",
       "          [2.2652e-04, 1.2481e-03, 1.4033e-03, 9.1937e-03, 1.6666e-02, 2.3372e-02, 3.5437e-02, 0.0000e+00, 0.0000e+00, 0.0000e+00, 0.0000e+00, 0.0000e+00, 0.0000e+00, 0.0000e+00, 0.0000e+00,\n",
       "           0.0000e+00, 0.0000e+00, 0.0000e+00, 0.0000e+00, 0.0000e+00, 0.0000e+00, 0.0000e+00, 0.0000e+00, 0.0000e+00, 0.0000e+00, 0.0000e+00, 0.0000e+00, 0.0000e+00, 0.0000e+00, 0.0000e+00,\n",
       "           0.0000e+00],\n",
       "          [2.0183e-04, 1.1120e-03, 1.2503e-03, 8.1914e-03, 1.4849e-02, 2.0824e-02, 3.1574e-02, 8.2969e-02, 0.0000e+00, 0.0000e+00, 0.0000e+00, 0.0000e+00, 0.0000e+00, 0.0000e+00, 0.0000e+00,\n",
       "           0.0000e+00, 0.0000e+00, 0.0000e+00, 0.0000e+00, 0.0000e+00, 0.0000e+00, 0.0000e+00, 0.0000e+00, 0.0000e+00, 0.0000e+00, 0.0000e+00, 0.0000e+00, 0.0000e+00, 0.0000e+00, 0.0000e+00,\n",
       "           0.0000e+00],\n",
       "          [1.7858e-04, 9.8395e-04, 1.1063e-03, 7.2480e-03, 1.3139e-02, 1.8426e-02, 2.7937e-02, 7.3413e-02, 1.0456e-01, 0.0000e+00, 0.0000e+00, 0.0000e+00, 0.0000e+00, 0.0000e+00, 0.0000e+00,\n",
       "           0.0000e+00, 0.0000e+00, 0.0000e+00, 0.0000e+00, 0.0000e+00, 0.0000e+00, 0.0000e+00, 0.0000e+00, 0.0000e+00, 0.0000e+00, 0.0000e+00, 0.0000e+00, 0.0000e+00, 0.0000e+00, 0.0000e+00,\n",
       "           0.0000e+00],\n",
       "          [5.8178e-05, 3.2055e-04, 3.6042e-04, 2.3612e-03, 4.2804e-03, 6.0027e-03, 9.1013e-03, 2.3916e-02, 3.4064e-02, 6.3287e-02, 0.0000e+00, 0.0000e+00, 0.0000e+00, 0.0000e+00, 0.0000e+00,\n",
       "           0.0000e+00, 0.0000e+00, 0.0000e+00, 0.0000e+00, 0.0000e+00, 0.0000e+00, 0.0000e+00, 0.0000e+00, 0.0000e+00, 0.0000e+00, 0.0000e+00, 0.0000e+00, 0.0000e+00, 0.0000e+00, 0.0000e+00,\n",
       "           0.0000e+00],\n",
       "          [1.1208e-05, 6.1756e-05, 6.9437e-05, 4.5491e-04, 8.2465e-04, 1.1565e-03, 1.7534e-03, 4.6076e-03, 6.5626e-03, 1.2193e-02, 1.7908e-02, 0.0000e+00, 0.0000e+00, 0.0000e+00, 0.0000e+00,\n",
       "           0.0000e+00, 0.0000e+00, 0.0000e+00, 0.0000e+00, 0.0000e+00, 0.0000e+00, 0.0000e+00, 0.0000e+00, 0.0000e+00, 0.0000e+00, 0.0000e+00, 0.0000e+00, 0.0000e+00, 0.0000e+00, 0.0000e+00,\n",
       "           0.0000e+00],\n",
       "          [9.9800e-06, 5.4988e-05, 6.1827e-05, 4.0505e-04, 7.3427e-04, 1.0297e-03, 1.5613e-03, 4.1026e-03, 5.8433e-03, 1.0856e-02, 1.5946e-02, 6.5177e-01, 0.0000e+00, 0.0000e+00, 0.0000e+00,\n",
       "           0.0000e+00, 0.0000e+00, 0.0000e+00, 0.0000e+00, 0.0000e+00, 0.0000e+00, 0.0000e+00, 0.0000e+00, 0.0000e+00, 0.0000e+00, 0.0000e+00, 0.0000e+00, 0.0000e+00, 0.0000e+00, 0.0000e+00,\n",
       "           0.0000e+00],\n",
       "          [9.1144e-06, 5.0218e-05, 5.6464e-05, 3.6992e-04, 6.7058e-04, 9.4040e-04, 1.4258e-03, 3.7468e-03, 5.3365e-03, 9.9148e-03, 1.4563e-02, 5.9524e-01, 7.2696e-01, 0.0000e+00, 0.0000e+00,\n",
       "           0.0000e+00, 0.0000e+00, 0.0000e+00, 0.0000e+00, 0.0000e+00, 0.0000e+00, 0.0000e+00, 0.0000e+00, 0.0000e+00, 0.0000e+00, 0.0000e+00, 0.0000e+00, 0.0000e+00, 0.0000e+00, 0.0000e+00,\n",
       "           0.0000e+00],\n",
       "          [3.2487e-06, 1.7900e-05, 2.0126e-05, 1.3185e-04, 2.3902e-04, 3.3520e-04, 5.0823e-04, 1.3355e-03, 1.9022e-03, 3.5341e-03, 5.1907e-03, 2.1217e-01, 2.5912e-01, 3.0654e-01, 0.0000e+00,\n",
       "           0.0000e+00, 0.0000e+00, 0.0000e+00, 0.0000e+00, 0.0000e+00, 0.0000e+00, 0.0000e+00, 0.0000e+00, 0.0000e+00, 0.0000e+00, 0.0000e+00, 0.0000e+00, 0.0000e+00, 0.0000e+00, 0.0000e+00,\n",
       "           0.0000e+00],\n",
       "          [1.5167e-06, 8.3565e-06, 9.3958e-06, 6.1555e-05, 1.1159e-04, 1.5649e-04, 2.3726e-04, 6.2348e-04, 8.8801e-04, 1.6499e-03, 2.4233e-03, 9.9049e-02, 1.2097e-01, 1.4311e-01, 4.3136e-01,\n",
       "           0.0000e+00, 0.0000e+00, 0.0000e+00, 0.0000e+00, 0.0000e+00, 0.0000e+00, 0.0000e+00, 0.0000e+00, 0.0000e+00, 0.0000e+00, 0.0000e+00, 0.0000e+00, 0.0000e+00, 0.0000e+00, 0.0000e+00,\n",
       "           0.0000e+00],\n",
       "          [1.1875e-06, 6.5430e-06, 7.3568e-06, 4.8197e-05, 8.7371e-05, 1.2253e-04, 1.8577e-04, 4.8817e-04, 6.9530e-04, 1.2918e-03, 1.8974e-03, 7.7554e-02, 9.4716e-02, 1.1205e-01, 3.3775e-01,\n",
       "           7.7359e-01, 0.0000e+00, 0.0000e+00, 0.0000e+00, 0.0000e+00, 0.0000e+00, 0.0000e+00, 0.0000e+00, 0.0000e+00, 0.0000e+00, 0.0000e+00, 0.0000e+00, 0.0000e+00, 0.0000e+00, 0.0000e+00,\n",
       "           0.0000e+00],\n",
       "          [5.7686e-07, 3.1783e-06, 3.5737e-06, 2.3412e-05, 4.2442e-05, 5.9519e-05, 9.0243e-05, 2.3714e-04, 3.3775e-04, 6.2752e-04, 9.2168e-04, 3.7673e-02, 4.6010e-02, 5.4430e-02, 1.6407e-01,\n",
       "           3.7578e-01, 5.1102e-01, 0.0000e+00, 0.0000e+00, 0.0000e+00, 0.0000e+00, 0.0000e+00, 0.0000e+00, 0.0000e+00, 0.0000e+00, 0.0000e+00, 0.0000e+00, 0.0000e+00, 0.0000e+00, 0.0000e+00,\n",
       "           0.0000e+00],\n",
       "          [1.8773e-07, 1.0344e-06, 1.1630e-06, 7.6192e-06, 1.3812e-05, 1.9370e-05, 2.9368e-05, 7.7174e-05, 1.0992e-04, 2.0422e-04, 2.9995e-04, 1.2260e-02, 1.4973e-02, 1.7714e-02, 5.3394e-02,\n",
       "           1.2229e-01, 1.6631e-01, 3.6319e-01, 0.0000e+00, 0.0000e+00, 0.0000e+00, 0.0000e+00, 0.0000e+00, 0.0000e+00, 0.0000e+00, 0.0000e+00, 0.0000e+00, 0.0000e+00, 0.0000e+00, 0.0000e+00,\n",
       "           0.0000e+00],\n",
       "          [1.2627e-07, 6.9573e-07, 7.8227e-07, 5.1249e-06, 9.2904e-06, 1.3029e-05, 1.9754e-05, 5.1909e-05, 7.3933e-05, 1.3736e-04, 2.0175e-04, 8.2466e-03, 1.0071e-02, 1.1915e-02, 3.5914e-02,\n",
       "           8.2258e-02, 1.1186e-01, 2.4429e-01, 7.9370e-01, 0.0000e+00, 0.0000e+00, 0.0000e+00, 0.0000e+00, 0.0000e+00, 0.0000e+00, 0.0000e+00, 0.0000e+00, 0.0000e+00, 0.0000e+00, 0.0000e+00,\n",
       "           0.0000e+00],\n",
       "          [1.1772e-07, 6.4859e-07, 7.2926e-07, 4.7777e-06, 8.6609e-06, 1.2146e-05, 1.8416e-05, 4.8392e-05, 6.8924e-05, 1.2806e-04, 1.8808e-04, 7.6878e-03, 9.3890e-03, 1.1107e-02, 3.3481e-02,\n",
       "           7.6684e-02, 1.0428e-01, 2.2774e-01, 7.3992e-01, 1.1597e+00, 0.0000e+00, 0.0000e+00, 0.0000e+00, 0.0000e+00, 0.0000e+00, 0.0000e+00, 0.0000e+00, 0.0000e+00, 0.0000e+00, 0.0000e+00,\n",
       "           0.0000e+00],\n",
       "          [1.1023e-07, 6.0732e-07, 6.8285e-07, 4.4736e-06, 8.1098e-06, 1.1373e-05, 1.7244e-05, 4.5312e-05, 6.4538e-05, 1.1991e-04, 1.7611e-04, 7.1986e-03, 8.7915e-03, 1.0400e-02, 3.1350e-02,\n",
       "           7.1804e-02, 9.7647e-02, 2.1325e-01, 6.9283e-01, 1.0859e+00, 1.2248e+00, 0.0000e+00, 0.0000e+00, 0.0000e+00, 0.0000e+00, 0.0000e+00, 0.0000e+00, 0.0000e+00, 0.0000e+00, 0.0000e+00,\n",
       "           0.0000e+00],\n",
       "          [7.2176e-08, 3.9767e-07, 4.4713e-07, 2.9293e-06, 5.3103e-06, 7.4470e-06, 1.1291e-05, 2.9670e-05, 4.2259e-05, 7.8514e-05, 1.1532e-04, 4.7136e-03, 5.7567e-03, 6.8102e-03, 2.0528e-02,\n",
       "           4.7017e-02, 6.3939e-02, 1.3963e-01, 4.5367e-01, 7.1105e-01, 8.0197e-01, 8.9838e-01, 0.0000e+00, 0.0000e+00, 0.0000e+00, 0.0000e+00, 0.0000e+00, 0.0000e+00, 0.0000e+00, 0.0000e+00,\n",
       "           0.0000e+00],\n",
       "          [3.6721e-08, 2.0232e-07, 2.2749e-07, 1.4903e-06, 2.7017e-06, 3.7888e-06, 5.7445e-06, 1.5095e-05, 2.1500e-05, 3.9945e-05, 5.8671e-05, 2.3981e-03, 2.9288e-03, 3.4648e-03, 1.0444e-02,\n",
       "           2.3921e-02, 3.2530e-02, 7.1040e-02, 2.3081e-01, 3.6176e-01, 4.0802e-01, 4.5707e-01, 6.3681e-01, 0.0000e+00, 0.0000e+00, 0.0000e+00, 0.0000e+00, 0.0000e+00, 0.0000e+00, 0.0000e+00,\n",
       "           0.0000e+00],\n",
       "          [1.7208e-08, 9.4813e-08, 1.0661e-07, 6.9841e-07, 1.2661e-06, 1.7755e-06, 2.6920e-06, 7.0740e-06, 1.0075e-05, 1.8719e-05, 2.7495e-05, 1.1238e-03, 1.3725e-03, 1.6237e-03, 4.8943e-03,\n",
       "           1.1210e-02, 1.5244e-02, 3.3291e-02, 1.0816e-01, 1.6953e-01, 1.9121e-01, 2.1419e-01, 2.9843e-01, 4.0030e-01, 0.0000e+00, 0.0000e+00, 0.0000e+00, 0.0000e+00, 0.0000e+00, 0.0000e+00,\n",
       "           0.0000e+00],\n",
       "          [5.8768e-09, 3.2380e-08, 3.6407e-08, 2.3852e-07, 4.3238e-07, 6.0636e-07, 9.1936e-07, 2.4159e-06, 3.4409e-06, 6.3929e-06, 9.3897e-06, 3.8380e-04, 4.6873e-04, 5.5451e-04, 1.6715e-03,\n",
       "           3.8283e-03, 5.2061e-03, 1.1369e-02, 3.6939e-02, 5.7896e-02, 6.5299e-02, 7.3150e-02, 1.0192e-01, 1.3671e-01, 4.5337e-01, 0.0000e+00, 0.0000e+00, 0.0000e+00, 0.0000e+00, 0.0000e+00,\n",
       "           0.0000e+00],\n",
       "          [1.0036e-09, 5.5298e-09, 6.2176e-09, 4.0734e-08, 7.3842e-08, 1.0355e-07, 1.5701e-07, 4.1258e-07, 5.8764e-07, 1.0918e-06, 1.6036e-06, 6.5545e-05, 8.0050e-05, 9.4700e-05, 2.8545e-04,\n",
       "           6.5380e-04, 8.8910e-04, 1.9417e-03, 6.3085e-03, 9.8875e-03, 1.1152e-02, 1.2492e-02, 1.7405e-02, 2.3347e-02, 7.7427e-02, 2.3628e-01, 0.0000e+00, 0.0000e+00, 0.0000e+00, 0.0000e+00,\n",
       "           0.0000e+00],\n",
       "          [6.1499e-10, 3.3884e-09, 3.8099e-09, 2.4960e-08, 4.5247e-08, 6.3453e-08, 9.6208e-08, 2.5281e-07, 3.6008e-07, 6.6900e-07, 9.8260e-07, 4.0163e-05, 4.9051e-05, 5.8028e-05, 1.7491e-04,\n",
       "           4.0062e-04, 5.4480e-04, 1.1898e-03, 3.8656e-03, 6.0587e-03, 6.8334e-03, 7.6548e-03, 1.0665e-02, 1.4306e-02, 4.7444e-02, 1.4478e-01, 1.0368e+00, 0.0000e+00, 0.0000e+00, 0.0000e+00,\n",
       "           0.0000e+00],\n",
       "          [4.9645e-10, 2.7353e-09, 3.0755e-09, 2.0149e-08, 3.6525e-08, 5.1222e-08, 7.7663e-08, 2.0408e-07, 2.9067e-07, 5.4004e-07, 7.9320e-07, 3.2422e-05, 3.9596e-05, 4.6843e-05, 1.4120e-04,\n",
       "           3.2340e-04, 4.3979e-04, 9.6043e-04, 3.1204e-03, 4.8908e-03, 5.5162e-03, 6.1793e-03, 8.6094e-03, 1.1548e-02, 3.8299e-02, 1.1687e-01, 8.3694e-01, 1.4175e+00, 0.0000e+00, 0.0000e+00,\n",
       "           0.0000e+00],\n",
       "          [4.4154e-10, 2.4328e-09, 2.7354e-09, 1.7920e-08, 3.2486e-08, 4.5557e-08, 6.9074e-08, 1.8151e-07, 2.5852e-07, 4.8032e-07, 7.0548e-07, 2.8836e-05, 3.5217e-05, 4.1662e-05, 1.2558e-04,\n",
       "           2.8763e-04, 3.9115e-04, 8.5421e-04, 2.7753e-03, 4.3499e-03, 4.9061e-03, 5.4959e-03, 7.6573e-03, 1.0271e-02, 3.4063e-02, 1.0395e-01, 7.4438e-01, 1.2607e+00, 1.6187e+00, 0.0000e+00,\n",
       "           0.0000e+00],\n",
       "          [1.8615e-10, 1.0257e-09, 1.1532e-09, 7.5553e-09, 1.3696e-08, 1.9207e-08, 2.9122e-08, 7.6526e-08, 1.0899e-07, 2.0250e-07, 2.9743e-07, 1.2157e-05, 1.4848e-05, 1.7565e-05, 5.2946e-05,\n",
       "           1.2127e-04, 1.6491e-04, 3.6014e-04, 1.1701e-03, 1.8339e-03, 2.0684e-03, 2.3171e-03, 3.2283e-03, 4.3304e-03, 1.4361e-02, 4.3824e-02, 3.1383e-01, 5.3154e-01, 6.8246e-01, 7.9430e-01,\n",
       "           0.0000e+00],\n",
       "          [1.6011e-10, 8.8215e-10, 9.9187e-10, 6.4981e-09, 1.1780e-08, 1.6519e-08, 2.5047e-08, 6.5818e-08, 9.3743e-08, 1.7417e-07, 2.5581e-07, 1.0456e-05, 1.2770e-05, 1.5107e-05, 4.5537e-05,\n",
       "           1.0430e-04, 1.4183e-04, 3.0975e-04, 1.0064e-03, 1.5773e-03, 1.7790e-03, 1.9929e-03, 2.7766e-03, 3.7244e-03, 1.2352e-02, 3.7692e-02, 2.6992e-01, 4.5716e-01, 5.8696e-01, 6.8315e-01,\n",
       "           1.6754e+00]]]], device='cuda:0')"
      ]
     },
     "execution_count": 30,
     "metadata": {},
     "output_type": "execute_result"
    }
   ],
   "source": [
    "delta_Dtilde_pt.cumsum(-1).tril(-1)[:, :, :, :-1]"
   ]
  },
  {
   "cell_type": "code",
   "execution_count": 31,
   "metadata": {},
   "outputs": [
    {
     "data": {
      "text/plain": [
       "tensor([[[[ 0.0000e+00,  0.0000e+00,  0.0000e+00,  0.0000e+00,  0.0000e+00,  0.0000e+00,  0.0000e+00,  0.0000e+00,  0.0000e+00,  0.0000e+00,  0.0000e+00,  0.0000e+00,  0.0000e+00,  0.0000e+00,\n",
       "            0.0000e+00,  0.0000e+00,  0.0000e+00,  0.0000e+00,  0.0000e+00,  0.0000e+00,  0.0000e+00,  0.0000e+00,  0.0000e+00,  0.0000e+00,  0.0000e+00,  0.0000e+00,  0.0000e+00,  0.0000e+00,\n",
       "            0.0000e+00,  0.0000e+00],\n",
       "          [-2.0373e-10,  0.0000e+00,  0.0000e+00,  0.0000e+00,  0.0000e+00,  0.0000e+00,  0.0000e+00,  0.0000e+00,  0.0000e+00,  0.0000e+00,  0.0000e+00,  0.0000e+00,  0.0000e+00,  0.0000e+00,\n",
       "            0.0000e+00,  0.0000e+00,  0.0000e+00,  0.0000e+00,  0.0000e+00,  0.0000e+00,  0.0000e+00,  0.0000e+00,  0.0000e+00,  0.0000e+00,  0.0000e+00,  0.0000e+00,  0.0000e+00,  0.0000e+00,\n",
       "            0.0000e+00,  0.0000e+00],\n",
       "          [-2.3283e-10, -1.8626e-09,  0.0000e+00,  0.0000e+00,  0.0000e+00,  0.0000e+00,  0.0000e+00,  0.0000e+00,  0.0000e+00,  0.0000e+00,  0.0000e+00,  0.0000e+00,  0.0000e+00,  0.0000e+00,\n",
       "            0.0000e+00,  0.0000e+00,  0.0000e+00,  0.0000e+00,  0.0000e+00,  0.0000e+00,  0.0000e+00,  0.0000e+00,  0.0000e+00,  0.0000e+00,  0.0000e+00,  0.0000e+00,  0.0000e+00,  0.0000e+00,\n",
       "            0.0000e+00,  0.0000e+00],\n",
       "          [-5.8208e-10, -3.9581e-09, -4.4238e-09,  0.0000e+00,  0.0000e+00,  0.0000e+00,  0.0000e+00,  0.0000e+00,  0.0000e+00,  0.0000e+00,  0.0000e+00,  0.0000e+00,  0.0000e+00,  0.0000e+00,\n",
       "            0.0000e+00,  0.0000e+00,  0.0000e+00,  0.0000e+00,  0.0000e+00,  0.0000e+00,  0.0000e+00,  0.0000e+00,  0.0000e+00,  0.0000e+00,  0.0000e+00,  0.0000e+00,  0.0000e+00,  0.0000e+00,\n",
       "            0.0000e+00,  0.0000e+00],\n",
       "          [-4.0745e-10, -2.7940e-09, -3.2596e-09, -2.4214e-08,  0.0000e+00,  0.0000e+00,  0.0000e+00,  0.0000e+00,  0.0000e+00,  0.0000e+00,  0.0000e+00,  0.0000e+00,  0.0000e+00,  0.0000e+00,\n",
       "            0.0000e+00,  0.0000e+00,  0.0000e+00,  0.0000e+00,  0.0000e+00,  0.0000e+00,  0.0000e+00,  0.0000e+00,  0.0000e+00,  0.0000e+00,  0.0000e+00,  0.0000e+00,  0.0000e+00,  0.0000e+00,\n",
       "            0.0000e+00,  0.0000e+00],\n",
       "          [-3.4925e-10, -2.7940e-09, -3.2596e-09, -2.2352e-08, -3.7253e-08,  0.0000e+00,  0.0000e+00,  0.0000e+00,  0.0000e+00,  0.0000e+00,  0.0000e+00,  0.0000e+00,  0.0000e+00,  0.0000e+00,\n",
       "            0.0000e+00,  0.0000e+00,  0.0000e+00,  0.0000e+00,  0.0000e+00,  0.0000e+00,  0.0000e+00,  0.0000e+00,  0.0000e+00,  0.0000e+00,  0.0000e+00,  0.0000e+00,  0.0000e+00,  0.0000e+00,\n",
       "            0.0000e+00,  0.0000e+00],\n",
       "          [-4.6566e-10, -2.3283e-09, -2.3283e-09, -1.3039e-08, -2.2352e-08, -3.3528e-08,  0.0000e+00,  0.0000e+00,  0.0000e+00,  0.0000e+00,  0.0000e+00,  0.0000e+00,  0.0000e+00,  0.0000e+00,\n",
       "            0.0000e+00,  0.0000e+00,  0.0000e+00,  0.0000e+00,  0.0000e+00,  0.0000e+00,  0.0000e+00,  0.0000e+00,  0.0000e+00,  0.0000e+00,  0.0000e+00,  0.0000e+00,  0.0000e+00,  0.0000e+00,\n",
       "            0.0000e+00,  0.0000e+00],\n",
       "          [-1.1642e-10, -6.9849e-10, -9.3132e-10, -4.6566e-09, -9.3132e-09, -1.4901e-08, -1.8626e-08,  0.0000e+00,  0.0000e+00,  0.0000e+00,  0.0000e+00,  0.0000e+00,  0.0000e+00,  0.0000e+00,\n",
       "            0.0000e+00,  0.0000e+00,  0.0000e+00,  0.0000e+00,  0.0000e+00,  0.0000e+00,  0.0000e+00,  0.0000e+00,  0.0000e+00,  0.0000e+00,  0.0000e+00,  0.0000e+00,  0.0000e+00,  0.0000e+00,\n",
       "            0.0000e+00,  0.0000e+00],\n",
       "          [-7.2760e-11, -4.6566e-10, -6.9849e-10, -3.7253e-09, -5.5879e-09, -7.4506e-09, -7.4506e-09, -2.2352e-08,  0.0000e+00,  0.0000e+00,  0.0000e+00,  0.0000e+00,  0.0000e+00,  0.0000e+00,\n",
       "            0.0000e+00,  0.0000e+00,  0.0000e+00,  0.0000e+00,  0.0000e+00,  0.0000e+00,  0.0000e+00,  0.0000e+00,  0.0000e+00,  0.0000e+00,  0.0000e+00,  0.0000e+00,  0.0000e+00,  0.0000e+00,\n",
       "            0.0000e+00,  0.0000e+00],\n",
       "          [-8.7311e-11, -1.2806e-09, -1.3970e-09, -3.7253e-09, -5.5879e-09, -9.3132e-09, -1.1176e-08, -2.2352e-08, -2.9802e-08,  0.0000e+00,  0.0000e+00,  0.0000e+00,  0.0000e+00,  0.0000e+00,\n",
       "            0.0000e+00,  0.0000e+00,  0.0000e+00,  0.0000e+00,  0.0000e+00,  0.0000e+00,  0.0000e+00,  0.0000e+00,  0.0000e+00,  0.0000e+00,  0.0000e+00,  0.0000e+00,  0.0000e+00,  0.0000e+00,\n",
       "            0.0000e+00,  0.0000e+00],\n",
       "          [-2.9104e-11, -3.2014e-10, -3.7835e-10, -9.3132e-10, -1.3970e-09, -2.3283e-09, -2.7940e-09, -5.5879e-09, -7.4506e-09, -2.9802e-08,  0.0000e+00,  0.0000e+00,  0.0000e+00,  0.0000e+00,\n",
       "            0.0000e+00,  0.0000e+00,  0.0000e+00,  0.0000e+00,  0.0000e+00,  0.0000e+00,  0.0000e+00,  0.0000e+00,  0.0000e+00,  0.0000e+00,  0.0000e+00,  0.0000e+00,  0.0000e+00,  0.0000e+00,\n",
       "            0.0000e+00,  0.0000e+00],\n",
       "          [-4.0927e-11, -2.9104e-10, -3.2742e-10, -1.8626e-09, -3.1432e-09, -4.3074e-09, -6.5193e-09, -1.6764e-08, -2.5146e-08, -4.5635e-08, -6.7055e-08,  0.0000e+00,  0.0000e+00,  0.0000e+00,\n",
       "            0.0000e+00,  0.0000e+00,  0.0000e+00,  0.0000e+00,  0.0000e+00,  0.0000e+00,  0.0000e+00,  0.0000e+00,  0.0000e+00,  0.0000e+00,  0.0000e+00,  0.0000e+00,  0.0000e+00,  0.0000e+00,\n",
       "            0.0000e+00,  0.0000e+00],\n",
       "          [-2.7285e-11, -2.3647e-10, -2.6193e-10, -1.3097e-09, -2.4447e-09, -3.4925e-09, -5.3551e-09, -1.3504e-08, -1.9558e-08, -3.7253e-08, -5.4017e-08, -2.0266e-06,  0.0000e+00,  0.0000e+00,\n",
       "            0.0000e+00,  0.0000e+00,  0.0000e+00,  0.0000e+00,  0.0000e+00,  0.0000e+00,  0.0000e+00,  0.0000e+00,  0.0000e+00,  0.0000e+00,  0.0000e+00,  0.0000e+00,  0.0000e+00,  0.0000e+00,\n",
       "            0.0000e+00,  0.0000e+00],\n",
       "          [-2.0009e-11, -1.6371e-10, -1.8190e-10, -9.8953e-10, -1.6298e-09, -2.2701e-09, -3.4925e-09, -8.3819e-09, -1.3039e-08, -2.2352e-08, -3.3528e-08, -1.3709e-06, -1.5497e-06,  0.0000e+00,\n",
       "            0.0000e+00,  0.0000e+00,  0.0000e+00,  0.0000e+00,  0.0000e+00,  0.0000e+00,  0.0000e+00,  0.0000e+00,  0.0000e+00,  0.0000e+00,  0.0000e+00,  0.0000e+00,  0.0000e+00,  0.0000e+00,\n",
       "            0.0000e+00,  0.0000e+00],\n",
       "          [-2.7285e-12, -3.0923e-11, -3.6380e-11, -1.4552e-10, -3.4925e-10, -5.2387e-10, -7.5670e-10, -1.6298e-09, -2.4447e-09, -4.8894e-09, -6.9849e-09, -2.9802e-07, -3.2783e-07, -3.8743e-07,\n",
       "            0.0000e+00,  0.0000e+00,  0.0000e+00,  0.0000e+00,  0.0000e+00,  0.0000e+00,  0.0000e+00,  0.0000e+00,  0.0000e+00,  0.0000e+00,  0.0000e+00,  0.0000e+00,  0.0000e+00,  0.0000e+00,\n",
       "            0.0000e+00,  0.0000e+00],\n",
       "          [-1.5916e-12, -1.0914e-11, -1.2733e-11, -9.4587e-11, -1.8190e-10, -2.4738e-10, -3.7835e-10, -5.8208e-10, -9.3132e-10, -1.1642e-09, -2.0955e-09, -8.1956e-08, -9.6858e-08, -1.1921e-07,\n",
       "           -5.6624e-07,  0.0000e+00,  0.0000e+00,  0.0000e+00,  0.0000e+00,  0.0000e+00,  0.0000e+00,  0.0000e+00,  0.0000e+00,  0.0000e+00,  0.0000e+00,  0.0000e+00,  0.0000e+00,  0.0000e+00,\n",
       "            0.0000e+00,  0.0000e+00],\n",
       "          [-9.0949e-13, -1.4097e-11, -1.4552e-11, -6.5484e-11, -1.0914e-10, -1.6007e-10, -2.3283e-10, -4.9477e-10, -6.9849e-10, -1.3970e-09, -1.8626e-09, -7.4506e-08, -8.1956e-08, -9.6858e-08,\n",
       "           -4.1723e-07, -1.0729e-06,  0.0000e+00,  0.0000e+00,  0.0000e+00,  0.0000e+00,  0.0000e+00,  0.0000e+00,  0.0000e+00,  0.0000e+00,  0.0000e+00,  0.0000e+00,  0.0000e+00,  0.0000e+00,\n",
       "            0.0000e+00,  0.0000e+00],\n",
       "          [-1.7053e-13, -5.4570e-12, -6.1391e-12, -4.1837e-11, -8.7311e-11, -1.2005e-10, -1.6007e-10, -4.0745e-10, -5.8208e-10, -1.0477e-09, -1.3970e-09, -5.2154e-08, -6.3330e-08, -7.4506e-08,\n",
       "           -2.9802e-07, -7.1526e-07, -8.9407e-07,  0.0000e+00,  0.0000e+00,  0.0000e+00,  0.0000e+00,  0.0000e+00,  0.0000e+00,  0.0000e+00,  0.0000e+00,  0.0000e+00,  0.0000e+00,  0.0000e+00,\n",
       "            0.0000e+00,  0.0000e+00],\n",
       "          [-7.1054e-14, -1.9327e-12, -2.2737e-12, -1.4097e-11, -2.8194e-11, -3.6380e-11, -5.2751e-11, -7.2760e-11, -9.4587e-11, -1.7462e-10, -3.4925e-10, -1.5832e-08, -1.8626e-08, -2.2352e-08,\n",
       "           -7.4506e-08, -1.8626e-07, -2.2352e-07, -4.7684e-07,  0.0000e+00,  0.0000e+00,  0.0000e+00,  0.0000e+00,  0.0000e+00,  0.0000e+00,  0.0000e+00,  0.0000e+00,  0.0000e+00,  0.0000e+00,\n",
       "            0.0000e+00,  0.0000e+00],\n",
       "          [ 2.8422e-14, -9.0949e-13, -1.0800e-12, -5.9117e-12, -1.2733e-11, -1.6371e-11, -2.3647e-11, -1.8190e-11, -2.1828e-11, -2.9104e-11, -1.4552e-11,  0.0000e+00,  9.3132e-10,  9.3132e-10,\n",
       "           -2.2352e-08, -6.7055e-08, -8.1956e-08, -1.3411e-07, -6.5565e-07,  0.0000e+00,  0.0000e+00,  0.0000e+00,  0.0000e+00,  0.0000e+00,  0.0000e+00,  0.0000e+00,  0.0000e+00,  0.0000e+00,\n",
       "            0.0000e+00,  0.0000e+00],\n",
       "          [ 4.9738e-14, -6.8212e-13, -7.9581e-13, -4.0927e-12, -9.0949e-12, -1.0914e-11, -1.6371e-11, -3.6380e-12,  0.0000e+00,  0.0000e+00,  0.0000e+00, -2.7940e-09, -2.7940e-09, -3.7253e-09,\n",
       "           -3.3528e-08, -7.4506e-08, -1.0431e-07, -1.7881e-07, -6.5565e-07, -1.0729e-06,  0.0000e+00,  0.0000e+00,  0.0000e+00,  0.0000e+00,  0.0000e+00,  0.0000e+00,  0.0000e+00,  0.0000e+00,\n",
       "            0.0000e+00,  0.0000e+00],\n",
       "          [ 6.3949e-14, -5.6843e-13, -6.8212e-13, -3.6380e-12, -1.0914e-11, -1.2733e-11, -1.6371e-11, -2.9104e-11, -3.6380e-11, -8.0036e-11, -1.0186e-10, -4.6566e-09, -5.5879e-09, -6.5193e-09,\n",
       "           -3.3528e-08, -7.4506e-08, -9.6858e-08, -1.4901e-07, -7.1526e-07, -1.3113e-06, -1.4305e-06,  0.0000e+00,  0.0000e+00,  0.0000e+00,  0.0000e+00,  0.0000e+00,  0.0000e+00,  0.0000e+00,\n",
       "            0.0000e+00,  0.0000e+00],\n",
       "          [-2.8422e-14, -7.3896e-13, -7.3896e-13, -1.8190e-12, -3.6380e-12, -4.5475e-12, -6.3665e-12, -1.8190e-12,  0.0000e+00, -7.2760e-12, -4.3656e-11, -2.3283e-09, -1.8626e-09, -2.7940e-09,\n",
       "           -1.8626e-08, -4.0978e-08, -5.2154e-08, -8.9407e-08, -4.1723e-07, -6.5565e-07, -6.5565e-07, -7.7486e-07,  0.0000e+00,  0.0000e+00,  0.0000e+00,  0.0000e+00,  0.0000e+00,  0.0000e+00,\n",
       "            0.0000e+00,  0.0000e+00],\n",
       "          [ 8.5265e-14, -4.2633e-14, -4.2633e-14,  1.3642e-12,  2.2737e-12,  3.4106e-12,  5.4570e-12,  2.0009e-11,  2.9104e-11,  4.0018e-11,  5.0932e-11,  2.0955e-09,  2.7940e-09,  3.0268e-09,\n",
       "            7.4506e-09,  9.3132e-09,  2.2352e-08,  4.4703e-08,  1.1921e-07,  1.4901e-07,  1.7881e-07,  2.3842e-07,  4.1723e-07,  0.0000e+00,  0.0000e+00,  0.0000e+00,  0.0000e+00,  0.0000e+00,\n",
       "            0.0000e+00,  0.0000e+00],\n",
       "          [ 7.1054e-15,  7.8160e-14,  8.5265e-14,  1.7053e-13,  7.9581e-13,  1.1369e-12,  1.1369e-12,  7.2760e-12,  1.1823e-11,  1.4552e-11,  2.3647e-11,  1.1642e-09,  1.3970e-09,  1.6298e-09,\n",
       "            3.7253e-09,  4.6566e-09,  8.3819e-09,  2.2352e-08,  5.9605e-08,  4.4703e-08,  5.9605e-08,  8.9407e-08,  1.7881e-07,  1.4901e-07,  0.0000e+00,  0.0000e+00,  0.0000e+00,  0.0000e+00,\n",
       "            0.0000e+00,  0.0000e+00],\n",
       "          [ 9.3259e-15,  2.4869e-14,  2.8422e-14,  5.6843e-14,  2.8422e-14,  1.1369e-13,  2.2737e-13,  2.5011e-12,  4.0927e-12,  5.0022e-12,  4.5475e-12,  5.8208e-11,  2.9104e-11,  1.1642e-10,\n",
       "            0.0000e+00,  4.6566e-10,  4.6566e-10,  9.3132e-10,  7.4506e-09, -7.4506e-09, -7.4506e-09, -7.4506e-09,  7.4506e-09, -2.9802e-08, -4.7684e-07,  0.0000e+00,  0.0000e+00,  0.0000e+00,\n",
       "            0.0000e+00,  0.0000e+00],\n",
       "          [ 0.0000e+00,  2.6645e-15,  2.6645e-15,  3.5527e-15,  3.5527e-14,  4.2633e-14, -7.1054e-14, -1.1369e-13, -1.7053e-13, -7.9581e-13, -1.1369e-12, -3.6380e-11, -4.3656e-11, -5.0932e-11,\n",
       "           -1.7462e-10, -7.5670e-10, -1.1642e-09, -2.5611e-09, -6.5193e-09, -1.3970e-08, -1.5832e-08, -1.6764e-08, -2.0489e-08, -3.1665e-08, -1.5646e-07, -4.3213e-07,  0.0000e+00,  0.0000e+00,\n",
       "            0.0000e+00,  0.0000e+00],\n",
       "          [ 3.3307e-16,  3.7748e-15,  4.4409e-15, -1.0658e-14, -3.1974e-14, -3.5527e-14, -6.3949e-14,  0.0000e+00,  5.6843e-14, -1.1369e-13, -4.5475e-13, -4.7294e-11, -5.8208e-11, -6.9122e-11,\n",
       "           -1.8917e-10, -3.7835e-10, -6.4028e-10, -1.5134e-09, -3.9581e-09, -8.8476e-09, -9.7789e-09, -1.0245e-08, -1.1176e-08, -2.0489e-08, -1.1921e-07, -2.9802e-07, -1.6689e-06,  0.0000e+00,\n",
       "            0.0000e+00,  0.0000e+00],\n",
       "          [ 4.4409e-16,  3.9968e-15,  4.2188e-15,  1.7764e-15, -1.0658e-14, -7.1054e-15,  1.4211e-14,  1.4211e-13,  2.2737e-13,  1.1369e-13,  2.8422e-13,  1.8190e-11,  2.1828e-11,  2.5466e-11,\n",
       "            1.0186e-10,  2.3283e-10,  1.7462e-10,  1.1642e-10, -1.1642e-09, -3.2596e-09, -3.2596e-09, -3.2596e-09, -2.7940e-09, -3.7253e-09, -5.2154e-08, -1.1921e-07, -5.9605e-07, -4.7684e-07,\n",
       "            0.0000e+00,  0.0000e+00],\n",
       "          [ 4.4409e-16,  3.5527e-15,  3.7748e-15,  1.7764e-15, -7.1054e-15, -7.1054e-15,  1.4211e-14,  1.1369e-13,  1.7053e-13,  1.7053e-13,  2.8422e-13,  1.6371e-11,  2.1828e-11,  2.1828e-11,\n",
       "            1.0186e-10,  2.0373e-10,  1.7462e-10,  5.8208e-11,  2.3283e-10, -9.3132e-10, -9.3132e-10, -4.6566e-10,  1.3970e-09,  0.0000e+00, -3.3528e-08, -5.9605e-08, -2.9802e-07,  1.1921e-07,\n",
       "            1.1921e-07,  0.0000e+00],\n",
       "          [ 2.2204e-16,  5.5511e-16,  6.6613e-16, -7.9936e-15, -1.1546e-14, -1.7764e-14, -1.0658e-14,  2.1316e-14,  4.2633e-14, -8.5265e-14, -5.6843e-14, -8.1855e-12, -7.2760e-12, -9.0949e-12,\n",
       "            2.9104e-11, -3.6380e-11, -7.2760e-11, -1.7462e-10,  2.3283e-10, -2.3283e-10,  2.3283e-10,  6.9849e-10,  1.3970e-09,  9.3132e-10, -1.2107e-08, -2.9802e-08, -5.9605e-08,  5.9605e-08,\n",
       "            1.1921e-07,  0.0000e+00],\n",
       "          [ 2.3592e-16,  6.6613e-16,  8.8818e-16, -5.3291e-15, -7.1054e-15, -1.0658e-14,  0.0000e+00,  3.5527e-14,  6.3949e-14, -1.4211e-14,  2.8422e-14, -2.7285e-12, -1.8190e-12, -1.8190e-12,\n",
       "            4.3656e-11,  0.0000e+00, -1.4552e-11, -2.9104e-11,  6.9849e-10,  4.6566e-10,  6.9849e-10,  1.1642e-09,  2.0955e-09,  1.8626e-09, -9.3132e-09, -2.2352e-08, -8.9407e-08,  5.9605e-08,\n",
       "            5.9605e-08,  5.9605e-08]]]], device='cuda:0')"
      ]
     },
     "execution_count": 31,
     "metadata": {},
     "output_type": "execute_result"
    }
   ],
   "source": [
    "(delta_Dtilde_pt.cumsum(-1).tril(-1) - matC_cu)[:,:,:,:-2]"
   ]
  },
  {
   "cell_type": "code",
   "execution_count": 32,
   "metadata": {},
   "outputs": [
    {
     "data": {
      "text/plain": [
       "(tensor([[[ 0.0000,  0.0000, -0.5523,  0.9238, -0.7350,  1.3800,  0.8676,  0.1297,  0.0000,  0.0000,  0.8821, -1.0133, -0.3634,  0.5101,  0.4179, -0.6888,  0.0000,  0.0000,  1.7916, -0.8479,  1.6484,\n",
       "            0.3976, -0.5237,  0.1986,  0.0000,  0.0000, -0.7760,  1.0086, -0.5316,  0.7116,  0.5386,  1.8525]]], device='cuda:0'),\n",
       " tensor([[[0.0000, 0.0048, 0.0240, 0.0214, 0.1170, 0.1558, 0.1349, 0.1099, 0.1957, 0.1606, 0.1041, 0.0599, 1.7177, 1.3017, 0.6800, 1.1257, 1.5903, 1.1106, 1.3094, 3.0743, 3.5745, 2.7235, 1.6789,\n",
       "           1.0875, 0.6045, 0.6773, 0.6834, 3.2018, 3.6670, 2.8881, 1.4775, 1.6754]]], device='cuda:0'))"
      ]
     },
     "execution_count": 32,
     "metadata": {},
     "output_type": "execute_result"
    }
   ],
   "source": [
    "dFgs_cu, delta_fbar_pt.squeeze(-1)"
   ]
  },
  {
   "cell_type": "code",
   "execution_count": 33,
   "metadata": {},
   "outputs": [
    {
     "data": {
      "text/plain": [
       "tensor([[[ 0.0000, -0.0048, -0.5762,  0.9024, -0.8520,  1.2242,  0.7328,  0.0197, -0.1957, -0.1606,  0.7780, -1.0732, -2.0810, -0.7917, -0.2621, -1.8145, -1.5903, -1.1106,  0.4822, -3.9221, -1.9261,\n",
       "          -2.3259, -2.2026, -0.8889, -0.6045, -0.6773, -1.4594, -2.1932, -4.1986, -2.1765, -0.9389,  0.1771]]], device='cuda:0')"
      ]
     },
     "execution_count": 33,
     "metadata": {},
     "output_type": "execute_result"
    }
   ],
   "source": [
    "dFgs_cu - delta_fbar_pt.squeeze(-1)"
   ]
  },
  {
   "cell_type": "code",
   "execution_count": 34,
   "metadata": {},
   "outputs": [
    {
     "data": {
      "text/plain": [
       "(tensor([[[0.0000e+00, 0.0000e+00, 0.0000e+00, 0.0000e+00, 0.0000e+00, 0.0000e+00, 0.0000e+00, 0.0000e+00, 0.0000e+00, 0.0000e+00, 0.0000e+00, 0.0000e+00, 0.0000e+00, 0.0000e+00, 0.0000e+00,\n",
       "           0.0000e+00, 7.7359e-01, 3.7578e-01, 1.2229e-01, 8.2258e-02, 7.6685e-02, 7.1804e-02, 4.7018e-02, 2.3921e-02, 1.1210e-02, 3.8283e-03, 6.5380e-04, 4.0062e-04, 3.2340e-04, 2.8763e-04,\n",
       "           1.2127e-04, 1.0430e-04]]], device='cuda:0'),\n",
       " torch.Size([1, 1, 32]))"
      ]
     },
     "execution_count": 34,
     "metadata": {},
     "output_type": "execute_result"
    }
   ],
   "source": [
    "deltaDcsVec_cu, deltaDcsVec_cu.shape"
   ]
  },
  {
   "cell_type": "markdown",
   "metadata": {},
   "source": [
    "### bw kernel match through autograd"
   ]
  },
  {
   "cell_type": "code",
   "execution_count": 35,
   "metadata": {},
   "outputs": [],
   "source": [
    "fgs_pt = fgs.clone().detach().requires_grad_(True)\n",
    "igs_pt = igs.clone().detach().requires_grad_(True)\n",
    "qs_pt = qs.clone().detach().requires_grad_(True)\n",
    "ks_pt = ks.clone().detach().requires_grad_(True)\n",
    "vs_pt = vs.clone().detach().requires_grad_(True)"
   ]
  },
  {
   "cell_type": "code",
   "execution_count": 36,
   "metadata": {},
   "outputs": [],
   "source": [
    "# pytorch version QKV product (To test if this is still correct after changes to the code.)\n",
    "# at some point we have to compare to the vlstm_fw_torch version.\n",
    "# rs = qs @ ks.transpose(-1, -2) @ vs\n",
    "# rs, rs.shape"
   ]
  },
  {
   "cell_type": "code",
   "execution_count": 37,
   "metadata": {},
   "outputs": [],
   "source": [
    "# rs_torch = (qs @ ks.transpose(-1, -2) * torch.tril(torch.ones((B, NH, S, S))).to(device=DEVICE, dtype=DTYPE)) @ vs\n",
    "# rs_torch, rs_torch.shape"
   ]
  },
  {
   "cell_type": "code",
   "execution_count": 38,
   "metadata": {},
   "outputs": [
    {
     "data": {
      "text/plain": [
       "(tensor([[[[3.9268e-05, 3.9268e-05, 3.9268e-05, 3.9268e-05, 3.9268e-05, 3.9268e-05, 3.9268e-05, 3.9268e-05],\n",
       "           [2.5971e-04, 2.5971e-04, 2.5971e-04, 2.5971e-04, 2.5971e-04, 2.5971e-04, 2.5971e-04, 2.5971e-04],\n",
       "           [3.5444e-04, 3.5444e-04, 3.5444e-04, 3.5444e-04, 3.5444e-04, 3.5444e-04, 3.5444e-04, 3.5444e-04],\n",
       "           [1.0614e-03, 1.0614e-03, 1.0614e-03, 1.0614e-03, 1.0614e-03, 1.0614e-03, 1.0614e-03, 1.0614e-03],\n",
       "           [1.9845e-03, 1.9845e-03, 1.9845e-03, 1.9845e-03, 1.9845e-03, 1.9845e-03, 1.9845e-03, 1.9845e-03],\n",
       "           [2.4016e-03, 2.4016e-03, 2.4016e-03, 2.4016e-03, 2.4016e-03, 2.4016e-03, 2.4016e-03, 2.4016e-03],\n",
       "           [2.2950e-03, 2.2950e-03, 2.2950e-03, 2.2950e-03, 2.2950e-03, 2.2950e-03, 2.2950e-03, 2.2950e-03],\n",
       "           [1.9563e-03, 1.9563e-03, 1.9563e-03, 1.9563e-03, 1.9563e-03, 1.9563e-03, 1.9563e-03, 1.9563e-03],\n",
       "           [2.1884e-03, 2.1884e-03, 2.1884e-03, 2.1884e-03, 2.1884e-03, 2.1884e-03, 2.1884e-03, 2.1884e-03],\n",
       "           [3.2163e-03, 3.2163e-03, 3.2163e-03, 3.2163e-03, 3.2163e-03, 3.2163e-03, 3.2163e-03, 3.2163e-03],\n",
       "           [1.3915e-03, 1.3915e-03, 1.3915e-03, 1.3915e-03, 1.3915e-03, 1.3915e-03, 1.3915e-03, 1.3915e-03],\n",
       "           [1.0000e-02, 1.0000e-02, 1.0000e-02, 1.0000e-02, 1.0000e-02, 1.0000e-02, 1.0000e-02, 1.0000e-02],\n",
       "           [1.0000e-02, 1.0000e-02, 1.0000e-02, 1.0000e-02, 1.0000e-02, 1.0000e-02, 1.0000e-02, 1.0000e-02],\n",
       "           [1.0000e-02, 1.0000e-02, 1.0000e-02, 1.0000e-02, 1.0000e-02, 1.0000e-02, 1.0000e-02, 1.0000e-02],\n",
       "           [1.0000e-02, 1.0000e-02, 1.0000e-02, 1.0000e-02, 1.0000e-02, 1.0000e-02, 1.0000e-02, 1.0000e-02],\n",
       "           [1.0000e-02, 1.0000e-02, 1.0000e-02, 1.0000e-02, 1.0000e-02, 1.0000e-02, 1.0000e-02, 1.0000e-02],\n",
       "           [1.0000e-02, 1.0000e-02, 1.0000e-02, 1.0000e-02, 1.0000e-02, 1.0000e-02, 1.0000e-02, 1.0000e-02],\n",
       "           [1.0000e-02, 1.0000e-02, 1.0000e-02, 1.0000e-02, 1.0000e-02, 1.0000e-02, 1.0000e-02, 1.0000e-02],\n",
       "           [1.0000e-02, 1.0000e-02, 1.0000e-02, 1.0000e-02, 1.0000e-02, 1.0000e-02, 1.0000e-02, 1.0000e-02],\n",
       "           [1.0000e-02, 1.0000e-02, 1.0000e-02, 1.0000e-02, 1.0000e-02, 1.0000e-02, 1.0000e-02, 1.0000e-02],\n",
       "           [1.0000e-02, 1.0000e-02, 1.0000e-02, 1.0000e-02, 1.0000e-02, 1.0000e-02, 1.0000e-02, 1.0000e-02],\n",
       "           [1.0000e-02, 1.0000e-02, 1.0000e-02, 1.0000e-02, 1.0000e-02, 1.0000e-02, 1.0000e-02, 1.0000e-02],\n",
       "           [8.7165e-03, 8.7165e-03, 8.7165e-03, 8.7165e-03, 8.7165e-03, 8.7165e-03, 8.7165e-03, 8.7165e-03],\n",
       "           [5.6947e-03, 5.6947e-03, 5.6947e-03, 5.6947e-03, 5.6947e-03, 5.6947e-03, 5.6947e-03, 5.6947e-03],\n",
       "           [8.4881e-03, 8.4881e-03, 8.4881e-03, 8.4881e-03, 8.4881e-03, 8.4881e-03, 8.4881e-03, 8.4881e-03],\n",
       "           [8.4982e-03, 8.4982e-03, 8.4982e-03, 8.4982e-03, 8.4982e-03, 8.4982e-03, 8.4982e-03, 8.4982e-03],\n",
       "           [1.0000e-02, 1.0000e-02, 1.0000e-02, 1.0000e-02, 1.0000e-02, 1.0000e-02, 1.0000e-02, 1.0000e-02],\n",
       "           [1.0000e-02, 1.0000e-02, 1.0000e-02, 1.0000e-02, 1.0000e-02, 1.0000e-02, 1.0000e-02, 1.0000e-02],\n",
       "           [1.0000e-02, 1.0000e-02, 1.0000e-02, 1.0000e-02, 1.0000e-02, 1.0000e-02, 1.0000e-02, 1.0000e-02],\n",
       "           [1.0000e-02, 1.0000e-02, 1.0000e-02, 1.0000e-02, 1.0000e-02, 1.0000e-02, 1.0000e-02, 1.0000e-02],\n",
       "           [1.0000e-02, 1.0000e-02, 1.0000e-02, 1.0000e-02, 1.0000e-02, 1.0000e-02, 1.0000e-02, 1.0000e-02],\n",
       "           [1.0000e-02, 1.0000e-02, 1.0000e-02, 1.0000e-02, 1.0000e-02, 1.0000e-02, 1.0000e-02, 1.0000e-02]]]], device='cuda:0', grad_fn=<vLSTMParallelFwBwWithGroupNormBackward>),\n",
       " torch.Size([1, 1, 32, 8]))"
      ]
     },
     "execution_count": 38,
     "metadata": {},
     "output_type": "execute_result"
    }
   ],
   "source": [
    "# pytorch version\n",
    "hs_pt, n_pt, m_pt = vlstm_fwbw_torch_obw(\n",
    "    queries=qs_pt,\n",
    "    keys=ks_pt,\n",
    "    values=vs_pt,\n",
    "    igate_preact=igs_pt,\n",
    "    fgate_preact=fgs_pt,\n",
    ")\n",
    "hs_pt, hs_pt.shape"
   ]
  },
  {
   "cell_type": "code",
   "execution_count": 39,
   "metadata": {},
   "outputs": [],
   "source": [
    "fgs_cu = fgs.clone().detach().requires_grad_(True)\n",
    "igs_cu = igs.clone().detach().requires_grad_(True)\n",
    "qs_cu = qs.clone().detach().requires_grad_(True)\n",
    "ks_cu = ks.clone().detach().requires_grad_(True)\n",
    "vs_cu = vs.clone().detach().requires_grad_(True)"
   ]
  },
  {
   "cell_type": "code",
   "execution_count": 40,
   "metadata": {
    "notebookRunGroups": {
     "groupValue": "1"
    }
   },
   "outputs": [
    {
     "name": "stdout",
     "output_type": "stream",
     "text": [
      "before kernel dispatch - float32!\n",
      "B: 1, NH: 1, S: 32, DH: 8\n",
      "blocksxy: 1-2, threadsxy: 4-4, shared_mem in bytes: 5664\n",
      "In FW-Kernel: gdim.x: 1, gdim.y: 2, gdim.z: 1, bdim.x: 4, bdim.y: 4\n",
      "In FW-Kernel: QtileDim: 8, KVtileDim: 8, TblockDim:4\n",
      "BIdx.y=0, FLTIdx=7: qTileIdx=0, fChunkAccIterIdx=0 (<1), fWCIdx=0, f_acc=-4.943604, fTileColLast=0.000000\n",
      "STR: BIdx.y=1: qTileIdx=0, fWCIdx=0 (<1), flatThreadIdx=7: fT_acc_res=-10.706538, fTileCol_val=-10.706538, fTileColLastVal=0.000000\n",
      "BIdx.y=0, FLTIdx=7: qTileIdx=0, fChunkAccIterIdx=1 (<1), fWCIdx=0, f_acc=-4.943604, fTileColLast=0.000000\n",
      "BIdx.y=0, FLTIdx=7: qTileIdx=1, fChunkAccIterIdx=0 (<3), fWCIdx=0, f_acc=-5.259939, fTileColLast=-10.706538\n",
      "STR: BIdx.y=1: qTileIdx=1, fWCIdx=0 (<1), flatThreadIdx=7: fT_acc_res=-20.829517, fTileCol_val=-20.829517, fTileColLastVal=-10.706538\n",
      "BIdx.y=0, FLTIdx=7: qTileIdx=1, fChunkAccIterIdx=1 (<3), fWCIdx=0, f_acc=-5.259939, fTileColLast=-10.706538\n"
     ]
    },
    {
     "data": {
      "text/plain": [
       "(tensor([[[[3.9268e-05, 3.9268e-05, 3.9268e-05, 3.9268e-05, 3.9268e-05, 3.9268e-05, 3.9268e-05, 3.9268e-05],\n",
       "           [2.5972e-04, 2.5972e-04, 2.5972e-04, 2.5972e-04, 2.5972e-04, 2.5972e-04, 2.5972e-04, 2.5972e-04],\n",
       "           [3.5444e-04, 3.5444e-04, 3.5444e-04, 3.5444e-04, 3.5444e-04, 3.5444e-04, 3.5444e-04, 3.5444e-04],\n",
       "           [1.0614e-03, 1.0614e-03, 1.0614e-03, 1.0614e-03, 1.0614e-03, 1.0614e-03, 1.0614e-03, 1.0614e-03],\n",
       "           [1.9845e-03, 1.9845e-03, 1.9845e-03, 1.9845e-03, 1.9845e-03, 1.9845e-03, 1.9845e-03, 1.9845e-03],\n",
       "           [2.4016e-03, 2.4016e-03, 2.4016e-03, 2.4016e-03, 2.4016e-03, 2.4016e-03, 2.4016e-03, 2.4016e-03],\n",
       "           [2.2950e-03, 2.2950e-03, 2.2950e-03, 2.2950e-03, 2.2950e-03, 2.2950e-03, 2.2950e-03, 2.2950e-03],\n",
       "           [1.9563e-03, 1.9563e-03, 1.9563e-03, 1.9563e-03, 1.9563e-03, 1.9563e-03, 1.9563e-03, 1.9563e-03],\n",
       "           [2.1884e-03, 2.1884e-03, 2.1884e-03, 2.1884e-03, 2.1884e-03, 2.1884e-03, 2.1884e-03, 2.1884e-03],\n",
       "           [3.2163e-03, 3.2163e-03, 3.2163e-03, 3.2163e-03, 3.2163e-03, 3.2163e-03, 3.2163e-03, 3.2163e-03],\n",
       "           [1.3915e-03, 1.3915e-03, 1.3915e-03, 1.3915e-03, 1.3915e-03, 1.3915e-03, 1.3915e-03, 1.3915e-03],\n",
       "           [1.0000e-02, 1.0000e-02, 1.0000e-02, 1.0000e-02, 1.0000e-02, 1.0000e-02, 1.0000e-02, 1.0000e-02],\n",
       "           [1.0000e-02, 1.0000e-02, 1.0000e-02, 1.0000e-02, 1.0000e-02, 1.0000e-02, 1.0000e-02, 1.0000e-02],\n",
       "           [1.0000e-02, 1.0000e-02, 1.0000e-02, 1.0000e-02, 1.0000e-02, 1.0000e-02, 1.0000e-02, 1.0000e-02],\n",
       "           [1.0000e-02, 1.0000e-02, 1.0000e-02, 1.0000e-02, 1.0000e-02, 1.0000e-02, 1.0000e-02, 1.0000e-02],\n",
       "           [1.0000e-02, 1.0000e-02, 1.0000e-02, 1.0000e-02, 1.0000e-02, 1.0000e-02, 1.0000e-02, 1.0000e-02],\n",
       "           [1.0000e-02, 1.0000e-02, 1.0000e-02, 1.0000e-02, 1.0000e-02, 1.0000e-02, 1.0000e-02, 1.0000e-02],\n",
       "           [1.0000e-02, 1.0000e-02, 1.0000e-02, 1.0000e-02, 1.0000e-02, 1.0000e-02, 1.0000e-02, 1.0000e-02],\n",
       "           [1.0000e-02, 1.0000e-02, 1.0000e-02, 1.0000e-02, 1.0000e-02, 1.0000e-02, 1.0000e-02, 1.0000e-02],\n",
       "           [1.0000e-02, 1.0000e-02, 1.0000e-02, 1.0000e-02, 1.0000e-02, 1.0000e-02, 1.0000e-02, 1.0000e-02],\n",
       "           [1.0000e-02, 1.0000e-02, 1.0000e-02, 1.0000e-02, 1.0000e-02, 1.0000e-02, 1.0000e-02, 1.0000e-02],\n",
       "           [1.0000e-02, 1.0000e-02, 1.0000e-02, 1.0000e-02, 1.0000e-02, 1.0000e-02, 1.0000e-02, 1.0000e-02],\n",
       "           [8.7165e-03, 8.7165e-03, 8.7165e-03, 8.7165e-03, 8.7165e-03, 8.7165e-03, 8.7165e-03, 8.7165e-03],\n",
       "           [5.6947e-03, 5.6947e-03, 5.6947e-03, 5.6947e-03, 5.6947e-03, 5.6947e-03, 5.6947e-03, 5.6947e-03],\n",
       "           [8.4881e-03, 8.4881e-03, 8.4881e-03, 8.4881e-03, 8.4881e-03, 8.4881e-03, 8.4881e-03, 8.4881e-03],\n",
       "           [8.4982e-03, 8.4982e-03, 8.4982e-03, 8.4982e-03, 8.4982e-03, 8.4982e-03, 8.4982e-03, 8.4982e-03],\n",
       "           [1.0000e-02, 1.0000e-02, 1.0000e-02, 1.0000e-02, 1.0000e-02, 1.0000e-02, 1.0000e-02, 1.0000e-02],\n",
       "           [1.0000e-02, 1.0000e-02, 1.0000e-02, 1.0000e-02, 1.0000e-02, 1.0000e-02, 1.0000e-02, 1.0000e-02],\n",
       "           [1.0000e-02, 1.0000e-02, 1.0000e-02, 1.0000e-02, 1.0000e-02, 1.0000e-02, 1.0000e-02, 1.0000e-02],\n",
       "           [1.0000e-02, 1.0000e-02, 1.0000e-02, 1.0000e-02, 1.0000e-02, 1.0000e-02, 1.0000e-02, 1.0000e-02],\n",
       "           [1.0000e-02, 1.0000e-02, 1.0000e-02, 1.0000e-02, 1.0000e-02, 1.0000e-02, 1.0000e-02, 1.0000e-02],\n",
       "           [1.0000e-02, 1.0000e-02, 1.0000e-02, 1.0000e-02, 1.0000e-02, 1.0000e-02, 1.0000e-02, 1.0000e-02]]]], device='cuda:0', grad_fn=<vLSTMParallelFwBwCudaBackward>),\n",
       " torch.Size([1, 1, 32, 8]))"
      ]
     },
     "execution_count": 40,
     "metadata": {},
     "output_type": "execute_result"
    }
   ],
   "source": [
    "# cuda kernel\n",
    "hs_cu, n_cu, m_cu, matD_cu = vlstm_fwbw_cuda(mat_Q=qs_cu, mat_K=ks_cu, mat_V=vs_cu, igate_preact=igs_cu.squeeze(-1), fgate_preact=fgs_cu.squeeze(-1))\n",
    "hs_cu, hs_cu.shape"
   ]
  },
  {
   "cell_type": "code",
   "execution_count": 41,
   "metadata": {},
   "outputs": [
    {
     "data": {
      "text/plain": [
       "tensor([[[[-1.4552e-11, -1.4552e-11, -1.4552e-11, -1.4552e-11, -1.4552e-11, -1.4552e-11, -1.4552e-11, -1.4552e-11],\n",
       "          [-1.4552e-10, -1.4552e-10, -1.4552e-10, -1.4552e-10, -1.4552e-10, -1.4552e-10, -1.4552e-10, -1.4552e-10],\n",
       "          [-1.1642e-10, -1.1642e-10, -1.1642e-10, -1.1642e-10, -1.1642e-10, -1.1642e-10, -1.1642e-10, -1.1642e-10],\n",
       "          [-1.1642e-09, -1.1642e-09, -1.1642e-09, -1.1642e-09, -1.1642e-09, -1.1642e-09, -1.1642e-09, -1.1642e-09],\n",
       "          [-1.6298e-09, -1.6298e-09, -1.6298e-09, -1.6298e-09, -1.6298e-09, -1.6298e-09, -1.6298e-09, -1.6298e-09],\n",
       "          [-9.3132e-10, -9.3132e-10, -9.3132e-10, -9.3132e-10, -9.3132e-10, -9.3132e-10, -9.3132e-10, -9.3132e-10],\n",
       "          [-9.3132e-10, -9.3132e-10, -9.3132e-10, -9.3132e-10, -9.3132e-10, -9.3132e-10, -9.3132e-10, -9.3132e-10],\n",
       "          [-1.1642e-09, -1.1642e-09, -1.1642e-09, -1.1642e-09, -1.1642e-09, -1.1642e-09, -1.1642e-09, -1.1642e-09],\n",
       "          [-2.3283e-10, -2.3283e-10, -2.3283e-10, -2.3283e-10, -2.3283e-10, -2.3283e-10, -2.3283e-10, -2.3283e-10],\n",
       "          [-1.8626e-09, -1.8626e-09, -1.8626e-09, -1.8626e-09, -1.8626e-09, -1.8626e-09, -1.8626e-09, -1.8626e-09],\n",
       "          [-4.6566e-10, -4.6566e-10, -4.6566e-10, -4.6566e-10, -4.6566e-10, -4.6566e-10, -4.6566e-10, -4.6566e-10],\n",
       "          [-3.8184e-08, -3.8184e-08, -3.8184e-08, -3.8184e-08, -3.8184e-08, -3.8184e-08, -3.8184e-08, -3.8184e-08],\n",
       "          [-2.9802e-08, -2.9802e-08, -2.9802e-08, -2.9802e-08, -2.9802e-08, -2.9802e-08, -2.9802e-08, -2.9802e-08],\n",
       "          [-2.1420e-08, -2.1420e-08, -2.1420e-08, -2.1420e-08, -2.1420e-08, -2.1420e-08, -2.1420e-08, -2.1420e-08],\n",
       "          [-2.2352e-08, -2.2352e-08, -2.2352e-08, -2.2352e-08, -2.2352e-08, -2.2352e-08, -2.2352e-08, -2.2352e-08],\n",
       "          [-1.6764e-08, -1.6764e-08, -1.6764e-08, -1.6764e-08, -1.6764e-08, -1.6764e-08, -1.6764e-08, -1.6764e-08],\n",
       "          [-1.1176e-08, -1.1176e-08, -1.1176e-08, -1.1176e-08, -1.1176e-08, -1.1176e-08, -1.1176e-08, -1.1176e-08],\n",
       "          [-1.5832e-08, -1.5832e-08, -1.5832e-08, -1.5832e-08, -1.5832e-08, -1.5832e-08, -1.5832e-08, -1.5832e-08],\n",
       "          [-1.4901e-08, -1.4901e-08, -1.4901e-08, -1.4901e-08, -1.4901e-08, -1.4901e-08, -1.4901e-08, -1.4901e-08],\n",
       "          [-9.3132e-09, -9.3132e-09, -9.3132e-09, -9.3132e-09, -9.3132e-09, -9.3132e-09, -9.3132e-09, -9.3132e-09],\n",
       "          [-8.3819e-09, -8.3819e-09, -8.3819e-09, -8.3819e-09, -8.3819e-09, -8.3819e-09, -8.3819e-09, -8.3819e-09],\n",
       "          [-5.5879e-09, -5.5879e-09, -5.5879e-09, -5.5879e-09, -5.5879e-09, -5.5879e-09, -5.5879e-09, -5.5879e-09],\n",
       "          [ 1.8626e-09,  1.8626e-09,  1.8626e-09,  1.8626e-09,  1.8626e-09,  1.8626e-09,  1.8626e-09,  1.8626e-09],\n",
       "          [ 2.3283e-09,  2.3283e-09,  2.3283e-09,  2.3283e-09,  2.3283e-09,  2.3283e-09,  2.3283e-09,  2.3283e-09],\n",
       "          [-3.7253e-09, -3.7253e-09, -3.7253e-09, -3.7253e-09, -3.7253e-09, -3.7253e-09, -3.7253e-09, -3.7253e-09],\n",
       "          [-7.4506e-09, -7.4506e-09, -7.4506e-09, -7.4506e-09, -7.4506e-09, -7.4506e-09, -7.4506e-09, -7.4506e-09],\n",
       "          [-1.3970e-08, -1.3970e-08, -1.3970e-08, -1.3970e-08, -1.3970e-08, -1.3970e-08, -1.3970e-08, -1.3970e-08],\n",
       "          [-7.4506e-09, -7.4506e-09, -7.4506e-09, -7.4506e-09, -7.4506e-09, -7.4506e-09, -7.4506e-09, -7.4506e-09],\n",
       "          [-4.6566e-09, -4.6566e-09, -4.6566e-09, -4.6566e-09, -4.6566e-09, -4.6566e-09, -4.6566e-09, -4.6566e-09],\n",
       "          [-5.5879e-09, -5.5879e-09, -5.5879e-09, -5.5879e-09, -5.5879e-09, -5.5879e-09, -5.5879e-09, -5.5879e-09],\n",
       "          [-7.4506e-09, -7.4506e-09, -7.4506e-09, -7.4506e-09, -7.4506e-09, -7.4506e-09, -7.4506e-09, -7.4506e-09],\n",
       "          [-7.4506e-09, -7.4506e-09, -7.4506e-09, -7.4506e-09, -7.4506e-09, -7.4506e-09, -7.4506e-09, -7.4506e-09]]]], device='cuda:0', grad_fn=<SubBackward0>)"
      ]
     },
     "execution_count": 41,
     "metadata": {},
     "output_type": "execute_result"
    }
   ],
   "source": [
    "# forward match\n",
    "hs_pt - hs_cu"
   ]
  },
  {
   "cell_type": "code",
   "execution_count": 42,
   "metadata": {},
   "outputs": [
    {
     "ename": "ValueError",
     "evalue": "too many values to unpack (expected 5)",
     "output_type": "error",
     "traceback": [
      "\u001b[0;31m---------------------------------------------------------------------------\u001b[0m",
      "\u001b[0;31mValueError\u001b[0m                                Traceback (most recent call last)",
      "Cell \u001b[0;32mIn[42], line 1\u001b[0m\n\u001b[0;32m----> 1\u001b[0m \u001b[43mhs_pt\u001b[49m\u001b[38;5;241;43m.\u001b[39;49m\u001b[43msum\u001b[49m\u001b[43m(\u001b[49m\u001b[43m)\u001b[49m\u001b[38;5;241;43m.\u001b[39;49m\u001b[43mbackward\u001b[49m\u001b[43m(\u001b[49m\u001b[43m)\u001b[49m\n",
      "File \u001b[0;32m~/miniconda3/envs/xlstmpt220cu121/lib/python3.11/site-packages/torch/_tensor.py:522\u001b[0m, in \u001b[0;36mTensor.backward\u001b[0;34m(self, gradient, retain_graph, create_graph, inputs)\u001b[0m\n\u001b[1;32m    512\u001b[0m \u001b[38;5;28;01mif\u001b[39;00m has_torch_function_unary(\u001b[38;5;28mself\u001b[39m):\n\u001b[1;32m    513\u001b[0m     \u001b[38;5;28;01mreturn\u001b[39;00m handle_torch_function(\n\u001b[1;32m    514\u001b[0m         Tensor\u001b[38;5;241m.\u001b[39mbackward,\n\u001b[1;32m    515\u001b[0m         (\u001b[38;5;28mself\u001b[39m,),\n\u001b[0;32m   (...)\u001b[0m\n\u001b[1;32m    520\u001b[0m         inputs\u001b[38;5;241m=\u001b[39minputs,\n\u001b[1;32m    521\u001b[0m     )\n\u001b[0;32m--> 522\u001b[0m \u001b[43mtorch\u001b[49m\u001b[38;5;241;43m.\u001b[39;49m\u001b[43mautograd\u001b[49m\u001b[38;5;241;43m.\u001b[39;49m\u001b[43mbackward\u001b[49m\u001b[43m(\u001b[49m\n\u001b[1;32m    523\u001b[0m \u001b[43m    \u001b[49m\u001b[38;5;28;43mself\u001b[39;49m\u001b[43m,\u001b[49m\u001b[43m \u001b[49m\u001b[43mgradient\u001b[49m\u001b[43m,\u001b[49m\u001b[43m \u001b[49m\u001b[43mretain_graph\u001b[49m\u001b[43m,\u001b[49m\u001b[43m \u001b[49m\u001b[43mcreate_graph\u001b[49m\u001b[43m,\u001b[49m\u001b[43m \u001b[49m\u001b[43minputs\u001b[49m\u001b[38;5;241;43m=\u001b[39;49m\u001b[43minputs\u001b[49m\n\u001b[1;32m    524\u001b[0m \u001b[43m\u001b[49m\u001b[43m)\u001b[49m\n",
      "File \u001b[0;32m~/miniconda3/envs/xlstmpt220cu121/lib/python3.11/site-packages/torch/autograd/__init__.py:266\u001b[0m, in \u001b[0;36mbackward\u001b[0;34m(tensors, grad_tensors, retain_graph, create_graph, grad_variables, inputs)\u001b[0m\n\u001b[1;32m    261\u001b[0m     retain_graph \u001b[38;5;241m=\u001b[39m create_graph\n\u001b[1;32m    263\u001b[0m \u001b[38;5;66;03m# The reason we repeat the same comment below is that\u001b[39;00m\n\u001b[1;32m    264\u001b[0m \u001b[38;5;66;03m# some Python versions print out the first line of a multi-line function\u001b[39;00m\n\u001b[1;32m    265\u001b[0m \u001b[38;5;66;03m# calls in the traceback and some print out the last line\u001b[39;00m\n\u001b[0;32m--> 266\u001b[0m \u001b[43mVariable\u001b[49m\u001b[38;5;241;43m.\u001b[39;49m\u001b[43m_execution_engine\u001b[49m\u001b[38;5;241;43m.\u001b[39;49m\u001b[43mrun_backward\u001b[49m\u001b[43m(\u001b[49m\u001b[43m  \u001b[49m\u001b[38;5;66;43;03m# Calls into the C++ engine to run the backward pass\u001b[39;49;00m\n\u001b[1;32m    267\u001b[0m \u001b[43m    \u001b[49m\u001b[43mtensors\u001b[49m\u001b[43m,\u001b[49m\n\u001b[1;32m    268\u001b[0m \u001b[43m    \u001b[49m\u001b[43mgrad_tensors_\u001b[49m\u001b[43m,\u001b[49m\n\u001b[1;32m    269\u001b[0m \u001b[43m    \u001b[49m\u001b[43mretain_graph\u001b[49m\u001b[43m,\u001b[49m\n\u001b[1;32m    270\u001b[0m \u001b[43m    \u001b[49m\u001b[43mcreate_graph\u001b[49m\u001b[43m,\u001b[49m\n\u001b[1;32m    271\u001b[0m \u001b[43m    \u001b[49m\u001b[43minputs\u001b[49m\u001b[43m,\u001b[49m\n\u001b[1;32m    272\u001b[0m \u001b[43m    \u001b[49m\u001b[43mallow_unreachable\u001b[49m\u001b[38;5;241;43m=\u001b[39;49m\u001b[38;5;28;43;01mTrue\u001b[39;49;00m\u001b[43m,\u001b[49m\n\u001b[1;32m    273\u001b[0m \u001b[43m    \u001b[49m\u001b[43maccumulate_grad\u001b[49m\u001b[38;5;241;43m=\u001b[39;49m\u001b[38;5;28;43;01mTrue\u001b[39;49;00m\u001b[43m,\u001b[49m\n\u001b[1;32m    274\u001b[0m \u001b[43m\u001b[49m\u001b[43m)\u001b[49m\n",
      "File \u001b[0;32m~/miniconda3/envs/xlstmpt220cu121/lib/python3.11/site-packages/torch/autograd/function.py:289\u001b[0m, in \u001b[0;36mBackwardCFunction.apply\u001b[0;34m(self, *args)\u001b[0m\n\u001b[1;32m    283\u001b[0m     \u001b[38;5;28;01mraise\u001b[39;00m \u001b[38;5;167;01mRuntimeError\u001b[39;00m(\n\u001b[1;32m    284\u001b[0m         \u001b[38;5;124m\"\u001b[39m\u001b[38;5;124mImplementing both \u001b[39m\u001b[38;5;124m'\u001b[39m\u001b[38;5;124mbackward\u001b[39m\u001b[38;5;124m'\u001b[39m\u001b[38;5;124m and \u001b[39m\u001b[38;5;124m'\u001b[39m\u001b[38;5;124mvjp\u001b[39m\u001b[38;5;124m'\u001b[39m\u001b[38;5;124m for a custom \u001b[39m\u001b[38;5;124m\"\u001b[39m\n\u001b[1;32m    285\u001b[0m         \u001b[38;5;124m\"\u001b[39m\u001b[38;5;124mFunction is not allowed. You should only implement one \u001b[39m\u001b[38;5;124m\"\u001b[39m\n\u001b[1;32m    286\u001b[0m         \u001b[38;5;124m\"\u001b[39m\u001b[38;5;124mof them.\u001b[39m\u001b[38;5;124m\"\u001b[39m\n\u001b[1;32m    287\u001b[0m     )\n\u001b[1;32m    288\u001b[0m user_fn \u001b[38;5;241m=\u001b[39m vjp_fn \u001b[38;5;28;01mif\u001b[39;00m vjp_fn \u001b[38;5;129;01mis\u001b[39;00m \u001b[38;5;129;01mnot\u001b[39;00m Function\u001b[38;5;241m.\u001b[39mvjp \u001b[38;5;28;01melse\u001b[39;00m backward_fn\n\u001b[0;32m--> 289\u001b[0m \u001b[38;5;28;01mreturn\u001b[39;00m \u001b[43muser_fn\u001b[49m\u001b[43m(\u001b[49m\u001b[38;5;28;43mself\u001b[39;49m\u001b[43m,\u001b[49m\u001b[43m \u001b[49m\u001b[38;5;241;43m*\u001b[39;49m\u001b[43margs\u001b[49m\u001b[43m)\u001b[49m\n",
      "File \u001b[0;32m~/myrepos/vlstm_cuda/src/vlstm_fwbw_v0/torch_impl.py:470\u001b[0m, in \u001b[0;36mvLSTMParallelFwBwWithGroupNorm.backward\u001b[0;34m(ctx, delta_Htilde, grad_var_n_unused, grad_var_m_unused)\u001b[0m\n\u001b[1;32m    460\u001b[0m \u001b[38;5;129m@staticmethod\u001b[39m\n\u001b[1;32m    461\u001b[0m \u001b[38;5;28;01mdef\u001b[39;00m \u001b[38;5;21mbackward\u001b[39m(\n\u001b[1;32m    462\u001b[0m     ctx,\n\u001b[0;32m   (...)\u001b[0m\n\u001b[1;32m    465\u001b[0m     grad_var_m_unused: torch\u001b[38;5;241m.\u001b[39mTensor,\n\u001b[1;32m    466\u001b[0m ) \u001b[38;5;241m-\u001b[39m\u001b[38;5;241m>\u001b[39m \u001b[38;5;28mtuple\u001b[39m[torch\u001b[38;5;241m.\u001b[39mTensor, \u001b[38;5;241m.\u001b[39m\u001b[38;5;241m.\u001b[39m\u001b[38;5;241m.\u001b[39m]:\n\u001b[1;32m    467\u001b[0m     (queries, keys, values, igate_preact, fgate_preact, var_n, var_m) \u001b[38;5;241m=\u001b[39m (\n\u001b[1;32m    468\u001b[0m         ctx\u001b[38;5;241m.\u001b[39msaved_tensors\n\u001b[1;32m    469\u001b[0m     )\n\u001b[0;32m--> 470\u001b[0m     delta_Q, delta_K, delta_V, delta_i, delta_f \u001b[38;5;241m=\u001b[39m (\n\u001b[1;32m    471\u001b[0m         vlstm_parallel_bw_torch_w_groupnorm(\n\u001b[1;32m    472\u001b[0m             delta_Htilde\u001b[38;5;241m=\u001b[39mdelta_Htilde,\n\u001b[1;32m    473\u001b[0m             queries\u001b[38;5;241m=\u001b[39mqueries,\n\u001b[1;32m    474\u001b[0m             keys\u001b[38;5;241m=\u001b[39mkeys,\n\u001b[1;32m    475\u001b[0m             values\u001b[38;5;241m=\u001b[39mvalues,\n\u001b[1;32m    476\u001b[0m             igate_preact\u001b[38;5;241m=\u001b[39migate_preact,\n\u001b[1;32m    477\u001b[0m             fgate_preact\u001b[38;5;241m=\u001b[39mfgate_preact,\n\u001b[1;32m    478\u001b[0m             var_n\u001b[38;5;241m=\u001b[39mvar_n,\n\u001b[1;32m    479\u001b[0m             var_m\u001b[38;5;241m=\u001b[39mvar_m,\n\u001b[1;32m    480\u001b[0m         )\n\u001b[1;32m    481\u001b[0m     )\n\u001b[1;32m    482\u001b[0m     \u001b[38;5;28;01mreturn\u001b[39;00m delta_Q, delta_K, delta_V, delta_i, delta_f, \u001b[38;5;28;01mNone\u001b[39;00m\n",
      "\u001b[0;31mValueError\u001b[0m: too many values to unpack (expected 5)"
     ]
    }
   ],
   "source": [
    "hs_pt.sum().backward()"
   ]
  },
  {
   "cell_type": "code",
   "execution_count": null,
   "metadata": {},
   "outputs": [
    {
     "data": {
      "text/plain": [
       "(tensor([[[[0.0001, 0.0001, 0.0001, 0.0001, 0.0001, 0.0001, 0.0001, 0.0001],\n",
       "           [0.0002, 0.0002, 0.0002, 0.0002, 0.0002, 0.0002, 0.0002, 0.0002],\n",
       "           [0.0002, 0.0002, 0.0002, 0.0002, 0.0002, 0.0002, 0.0002, 0.0002],\n",
       "           [0.0004, 0.0004, 0.0004, 0.0004, 0.0004, 0.0004, 0.0004, 0.0004],\n",
       "           [0.0006, 0.0006, 0.0006, 0.0006, 0.0006, 0.0006, 0.0006, 0.0006],\n",
       "           [0.0006, 0.0006, 0.0006, 0.0006, 0.0006, 0.0006, 0.0006, 0.0006],\n",
       "           [0.0004, 0.0004, 0.0004, 0.0004, 0.0004, 0.0004, 0.0004, 0.0004],\n",
       "           [0.0003, 0.0003, 0.0003, 0.0003, 0.0003, 0.0003, 0.0003, 0.0003],\n",
       "           [0.0003, 0.0003, 0.0003, 0.0003, 0.0003, 0.0003, 0.0003, 0.0003],\n",
       "           [0.0004, 0.0004, 0.0004, 0.0004, 0.0004, 0.0004, 0.0004, 0.0004],\n",
       "           [0.0002, 0.0002, 0.0002, 0.0002, 0.0002, 0.0002, 0.0002, 0.0002],\n",
       "           [0.0011, 0.0011, 0.0011, 0.0011, 0.0011, 0.0011, 0.0011, 0.0011],\n",
       "           [0.0010, 0.0010, 0.0010, 0.0010, 0.0010, 0.0010, 0.0010, 0.0010],\n",
       "           [0.0009, 0.0009, 0.0009, 0.0009, 0.0009, 0.0009, 0.0009, 0.0009],\n",
       "           [0.0009, 0.0009, 0.0009, 0.0009, 0.0009, 0.0009, 0.0009, 0.0009],\n",
       "           [0.0008, 0.0008, 0.0008, 0.0008, 0.0008, 0.0008, 0.0008, 0.0008]]]], device='cuda:0'),\n",
       " tensor([[[[0.0174, 0.0195, 0.0216, 0.0237, 0.0258, 0.0279, 0.0300, 0.0321],\n",
       "           [0.0785, 0.0829, 0.0873, 0.0917, 0.0961, 0.1005, 0.1049, 0.1093],\n",
       "           [0.0097, 0.0101, 0.0105, 0.0108, 0.0112, 0.0116, 0.0120, 0.0124],\n",
       "           [0.3243, 0.3337, 0.3430, 0.3524, 0.3618, 0.3711, 0.3805, 0.3898],\n",
       "           [0.2358, 0.2417, 0.2475, 0.2533, 0.2592, 0.2650, 0.2708, 0.2767],\n",
       "           [0.1397, 0.1426, 0.1456, 0.1486, 0.1516, 0.1546, 0.1576, 0.1606],\n",
       "           [0.1373, 0.1398, 0.1423, 0.1448, 0.1474, 0.1499, 0.1524, 0.1549],\n",
       "           [0.3080, 0.3129, 0.3177, 0.3225, 0.3273, 0.3321, 0.3370, 0.3418],\n",
       "           [0.1329, 0.1348, 0.1367, 0.1386, 0.1405, 0.1424, 0.1443, 0.1462],\n",
       "           [0.2046, 0.2073, 0.2101, 0.2128, 0.2155, 0.2182, 0.2209, 0.2236],\n",
       "           [0.0640, 0.0647, 0.0655, 0.0662, 0.0670, 0.0677, 0.0685, 0.0692],\n",
       "           [2.6744, 2.7021, 2.7298, 2.7575, 2.7852, 2.8129, 2.8406, 2.8683],\n",
       "           [0.3938, 0.3977, 0.4015, 0.4054, 0.4093, 0.4131, 0.4170, 0.4209],\n",
       "           [0.2212, 0.2233, 0.2253, 0.2274, 0.2295, 0.2315, 0.2336, 0.2357],\n",
       "           [0.9315, 0.9396, 0.9478, 0.9559, 0.9641, 0.9722, 0.9804, 0.9885],\n",
       "           [0.5474, 0.5520, 0.5566, 0.5611, 0.5657, 0.5702, 0.5748, 0.5794]]]], device='cuda:0'),\n",
       " tensor([[[[0.0247, 0.0247, 0.0247, 0.0247, 0.0247, 0.0247, 0.0247, 0.0247],\n",
       "           [0.0939, 0.0939, 0.0939, 0.0939, 0.0939, 0.0939, 0.0939, 0.0939],\n",
       "           [0.0110, 0.0110, 0.0110, 0.0110, 0.0110, 0.0110, 0.0110, 0.0110],\n",
       "           [0.3571, 0.3571, 0.3571, 0.3571, 0.3571, 0.3571, 0.3571, 0.3571],\n",
       "           [0.2562, 0.2562, 0.2562, 0.2562, 0.2562, 0.2562, 0.2562, 0.2562],\n",
       "           [0.1501, 0.1501, 0.1501, 0.1501, 0.1501, 0.1501, 0.1501, 0.1501],\n",
       "           [0.1461, 0.1461, 0.1461, 0.1461, 0.1461, 0.1461, 0.1461, 0.1461],\n",
       "           [0.3249, 0.3249, 0.3249, 0.3249, 0.3249, 0.3249, 0.3249, 0.3249],\n",
       "           [0.1395, 0.1395, 0.1395, 0.1395, 0.1395, 0.1395, 0.1395, 0.1395],\n",
       "           [0.2141, 0.2141, 0.2141, 0.2141, 0.2141, 0.2141, 0.2141, 0.2141],\n",
       "           [0.0666, 0.0666, 0.0666, 0.0666, 0.0666, 0.0666, 0.0666, 0.0666],\n",
       "           [2.7713, 2.7713, 2.7713, 2.7713, 2.7713, 2.7713, 2.7713, 2.7713],\n",
       "           [0.4073, 0.4073, 0.4073, 0.4073, 0.4073, 0.4073, 0.4073, 0.4073],\n",
       "           [0.2284, 0.2284, 0.2284, 0.2284, 0.2284, 0.2284, 0.2284, 0.2284],\n",
       "           [0.9600, 0.9600, 0.9600, 0.9600, 0.9600, 0.9600, 0.9600, 0.9600],\n",
       "           [0.5634, 0.5634, 0.5634, 0.5634, 0.5634, 0.5634, 0.5634, 0.5634]]]], device='cuda:0'),\n",
       " tensor([[[[0.0020],\n",
       "           [0.0075],\n",
       "           [0.0009],\n",
       "           [0.0286],\n",
       "           [0.0205],\n",
       "           [0.0120],\n",
       "           [0.0117],\n",
       "           [0.0260],\n",
       "           [0.0112],\n",
       "           [0.0171],\n",
       "           [0.0053],\n",
       "           [0.2217],\n",
       "           [0.0326],\n",
       "           [0.0183],\n",
       "           [0.0768],\n",
       "           [0.0451]]]], device='cuda:0'),\n",
       " tensor([[[[0.0000],\n",
       "           [0.0011],\n",
       "           [0.0020],\n",
       "           [0.0035],\n",
       "           [0.0051],\n",
       "           [0.0088],\n",
       "           [0.0106],\n",
       "           [0.0115],\n",
       "           [0.0081],\n",
       "           [0.0058],\n",
       "           [0.0083],\n",
       "           [0.0033],\n",
       "           [0.0553],\n",
       "           [0.0396],\n",
       "           [0.0254],\n",
       "           [0.0186]]]], device='cuda:0'))"
      ]
     },
     "execution_count": 20,
     "metadata": {},
     "output_type": "execute_result"
    }
   ],
   "source": [
    "qs_pt.grad, ks_pt.grad, vs_pt.grad, igs_pt.grad, fgs_pt.grad"
   ]
  },
  {
   "cell_type": "code",
   "execution_count": null,
   "metadata": {},
   "outputs": [
    {
     "name": "stdout",
     "output_type": "stream",
     "text": [
      "before kernel dispatch - float32!\n",
      "B: 1, NH: 1, S: 16, DH: 8\n",
      "blocksxy: 1-2, threadsxy: 4-4, shared_mem in bytes: 7136\n",
      "In BW-Kernel: gdim.x: 1, gdim.y: 2, gdim.z: 1, bdim.x: 4, bdim.y: 4\n",
      "In BW-Kernel: QtileDim: 8, KVtileDim: 8, TblockDim:4\n"
     ]
    }
   ],
   "source": [
    "hs_cu.sum().backward()"
   ]
  },
  {
   "cell_type": "code",
   "execution_count": null,
   "metadata": {},
   "outputs": [
    {
     "data": {
      "text/plain": [
       "(tensor([[[[0., 0., 0., 0., 0., 0., 0., 0.],\n",
       "           [0., 0., 0., 0., 0., 0., 0., 0.],\n",
       "           [0., 0., 0., 0., 0., 0., 0., 0.],\n",
       "           [0., 0., 0., 0., 0., 0., 0., 0.],\n",
       "           [0., 0., 0., 0., 0., 0., 0., 0.],\n",
       "           [0., 0., 0., 0., 0., 0., 0., 0.],\n",
       "           [0., 0., 0., 0., 0., 0., 0., 0.],\n",
       "           [0., 0., 0., 0., 0., 0., 0., 0.],\n",
       "           [0., 0., 0., 0., 0., 0., 0., 0.],\n",
       "           [0., 0., 0., 0., 0., 0., 0., 0.],\n",
       "           [0., 0., 0., 0., 0., 0., 0., 0.],\n",
       "           [0., 0., 0., 0., 0., 0., 0., 0.],\n",
       "           [0., 0., 0., 0., 0., 0., 0., 0.],\n",
       "           [0., 0., 0., 0., 0., 0., 0., 0.],\n",
       "           [0., 0., 0., 0., 0., 0., 0., 0.],\n",
       "           [0., 0., 0., 0., 0., 0., 0., 0.]]]], device='cuda:0'),\n",
       " tensor([[[[0., 0., 0., 0., 0., 0., 0., 0.],\n",
       "           [0., 0., 0., 0., 0., 0., 0., 0.],\n",
       "           [0., 0., 0., 0., 0., 0., 0., 0.],\n",
       "           [0., 0., 0., 0., 0., 0., 0., 0.],\n",
       "           [0., 0., 0., 0., 0., 0., 0., 0.],\n",
       "           [0., 0., 0., 0., 0., 0., 0., 0.],\n",
       "           [0., 0., 0., 0., 0., 0., 0., 0.],\n",
       "           [0., 0., 0., 0., 0., 0., 0., 0.],\n",
       "           [0., 0., 0., 0., 0., 0., 0., 0.],\n",
       "           [0., 0., 0., 0., 0., 0., 0., 0.],\n",
       "           [0., 0., 0., 0., 0., 0., 0., 0.],\n",
       "           [0., 0., 0., 0., 0., 0., 0., 0.],\n",
       "           [0., 0., 0., 0., 0., 0., 0., 0.],\n",
       "           [0., 0., 0., 0., 0., 0., 0., 0.],\n",
       "           [0., 0., 0., 0., 0., 0., 0., 0.],\n",
       "           [0., 0., 0., 0., 0., 0., 0., 0.]]]], device='cuda:0'),\n",
       " tensor([[[[0., 0., 0., 0., 0., 0., 0., 0.],\n",
       "           [0., 0., 0., 0., 0., 0., 0., 0.],\n",
       "           [0., 0., 0., 0., 0., 0., 0., 0.],\n",
       "           [0., 0., 0., 0., 0., 0., 0., 0.],\n",
       "           [0., 0., 0., 0., 0., 0., 0., 0.],\n",
       "           [0., 0., 0., 0., 0., 0., 0., 0.],\n",
       "           [0., 0., 0., 0., 0., 0., 0., 0.],\n",
       "           [0., 0., 0., 0., 0., 0., 0., 0.],\n",
       "           [0., 0., 0., 0., 0., 0., 0., 0.],\n",
       "           [0., 0., 0., 0., 0., 0., 0., 0.],\n",
       "           [0., 0., 0., 0., 0., 0., 0., 0.],\n",
       "           [0., 0., 0., 0., 0., 0., 0., 0.],\n",
       "           [0., 0., 0., 0., 0., 0., 0., 0.],\n",
       "           [0., 0., 0., 0., 0., 0., 0., 0.],\n",
       "           [0., 0., 0., 0., 0., 0., 0., 0.],\n",
       "           [0., 0., 0., 0., 0., 0., 0., 0.]]]], device='cuda:0'),\n",
       " tensor([[[[0.],\n",
       "           [0.],\n",
       "           [0.],\n",
       "           [0.],\n",
       "           [0.],\n",
       "           [0.],\n",
       "           [0.],\n",
       "           [0.],\n",
       "           [0.],\n",
       "           [0.],\n",
       "           [0.],\n",
       "           [0.],\n",
       "           [0.],\n",
       "           [0.],\n",
       "           [0.],\n",
       "           [0.]]]], device='cuda:0'),\n",
       " tensor([[[[0.],\n",
       "           [0.],\n",
       "           [0.],\n",
       "           [0.],\n",
       "           [0.],\n",
       "           [0.],\n",
       "           [0.],\n",
       "           [0.],\n",
       "           [0.],\n",
       "           [0.],\n",
       "           [0.],\n",
       "           [0.],\n",
       "           [0.],\n",
       "           [0.],\n",
       "           [0.],\n",
       "           [0.]]]], device='cuda:0'))"
      ]
     },
     "execution_count": 22,
     "metadata": {},
     "output_type": "execute_result"
    }
   ],
   "source": [
    "qs_cu.grad, ks_cu.grad, vs_cu.grad, igs_cu.grad, fgs_cu.grad"
   ]
  },
  {
   "cell_type": "code",
   "execution_count": null,
   "metadata": {},
   "outputs": [],
   "source": []
  }
 ],
 "metadata": {
  "kernelspec": {
   "display_name": "xlstmpt21cu121",
   "language": "python",
   "name": "python3"
  },
  "language_info": {
   "codemirror_mode": {
    "name": "ipython",
    "version": 3
   },
   "file_extension": ".py",
   "mimetype": "text/x-python",
   "name": "python",
   "nbconvert_exporter": "python",
   "pygments_lexer": "ipython3",
   "version": "3.11.7"
  }
 },
 "nbformat": 4,
 "nbformat_minor": 2
}
