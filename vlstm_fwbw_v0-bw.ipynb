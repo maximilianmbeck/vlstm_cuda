{
 "cells": [
  {
   "cell_type": "code",
   "execution_count": 1,
   "metadata": {
    "notebookRunGroups": {
     "groupValue": "1"
    }
   },
   "outputs": [
    {
     "data": {
      "text/plain": [
       "True"
      ]
     },
     "execution_count": 1,
     "metadata": {},
     "output_type": "execute_result"
    }
   ],
   "source": [
    "import sys\n",
    "import os\n",
    "\n",
    "os.environ[\"CUDA_VISIBLE_DEVICES\"] = \"0\"\n",
    "sys.path.append(\".\")\n",
    "# os.environ[\"MAX_JOBS\"] = \"100\"\n",
    "\n",
    "import torch\n",
    "torch.set_printoptions(linewidth=200)\n",
    "torch.cuda.is_available()"
   ]
  },
  {
   "cell_type": "code",
   "execution_count": 2,
   "metadata": {
    "notebookRunGroups": {
     "groupValue": "1"
    }
   },
   "outputs": [
    {
     "name": "stdout",
     "output_type": "stream",
     "text": [
      "INCLUDE: ['/home/max/miniconda3/envs/xlstmpt220cu121/lib/python3.11/site-packages/torch/include', '/home/max/miniconda3/envs/xlstmpt220cu121/lib/python3.11/site-packages/torch/include/torch/csrc/api/include', '/home/max/miniconda3/envs/xlstmpt220cu121/lib/python3.11/site-packages/torch/include/TH', '/home/max/miniconda3/envs/xlstmpt220cu121/lib/python3.11/site-packages/torch/include/THC', '/home/max/miniconda3/envs/xlstmpt220cu121/include']\n",
      "/home/max/myrepos/vlstm_cuda/src\n",
      "/home/max/cpplibs/libtorch/lib:/usr/local/cuda-12.3/lib64:\n",
      "/home/max/miniconda3/envs/xlstmpt220cu121/lib\n"
     ]
    },
    {
     "name": "stderr",
     "output_type": "stream",
     "text": [
      "Using /home/max/.cache/torch_extensions/py311_cu121 as PyTorch extensions root...\n",
      "Detected CUDA files, patching ldflags\n",
      "Emitting ninja build file /home/max/.cache/torch_extensions/py311_cu121/vlstm_fwbw_v0/build.ninja...\n",
      "Building extension module vlstm_fwbw_v0...\n",
      "Allowing ninja to set a default number of workers... (overridable by setting the environment variable MAX_JOBS=N)\n"
     ]
    },
    {
     "name": "stdout",
     "output_type": "stream",
     "text": [
      "[1/2] /home/max/miniconda3/envs/xlstmpt220cu121/bin/nvcc --generate-dependencies-with-compile --dependency-output kernel_bw.cuda.o.d -ccbin /home/max/miniconda3/envs/xlstmpt220cu121/bin/x86_64-conda-linux-gnu-cc -DTORCH_EXTENSION_NAME=vlstm_fwbw_v0 -DTORCH_API_INCLUDE_EXTENSION_H -DPYBIND11_COMPILER_TYPE=\\\"_gcc\\\" -DPYBIND11_STDLIB=\\\"_libstdcpp\\\" -DPYBIND11_BUILD_ABI=\\\"_cxxabi1011\\\" -isystem /home/max/miniconda3/envs/xlstmpt220cu121/lib/python3.11/site-packages/torch/include -isystem /home/max/miniconda3/envs/xlstmpt220cu121/lib/python3.11/site-packages/torch/include/torch/csrc/api/include -isystem /home/max/miniconda3/envs/xlstmpt220cu121/lib/python3.11/site-packages/torch/include/TH -isystem /home/max/miniconda3/envs/xlstmpt220cu121/lib/python3.11/site-packages/torch/include/THC -isystem /home/max/miniconda3/envs/xlstmpt220cu121/include -isystem /home/max/miniconda3/envs/xlstmpt220cu121/include/python3.11 -D_GLIBCXX_USE_CXX11_ABI=0 -D__CUDA_NO_HALF_OPERATORS__ -D__CUDA_NO_HALF_CONVERSIONS__ -D__CUDA_NO_BFLOAT16_CONVERSIONS__ -D__CUDA_NO_HALF2_OPERATORS__ --expt-relaxed-constexpr -gencode=arch=compute_89,code=compute_89 -gencode=arch=compute_89,code=sm_89 --compiler-options '-fPIC' -gencode arch=compute_80,code=compute_80 -res-usage --use_fast_math -O3 -Xptxas -O3 --extra-device-vectorization -DTmax=13407807929942597099574024998205846127479365820592393377723561443721764030073546976801874298166903427690031858186486050853753882811946569946433649006084096 -std=c++17 -c /home/max/myrepos/vlstm_cuda/src/vlstm_fwbw_v0/kernel_bw.cu -o kernel_bw.cuda.o \n",
      "/home/max/myrepos/vlstm_cuda/src/vlstm_fwbw_v0/../util/inline_ops.cuh(264): remark #20200-D: #pragma message: \"/home/max/myrepos/vlstm_cuda/src/vlstm_fwbw_v0/../util/inline_ops.cuh:264 CUDART_VERSION: 12010, arch: 890\"\n",
      "  #pragma message(\"/home/max/myrepos/vlstm_cuda/src/vlstm_fwbw_v0/../util/inline_ops.cuh\" \":\" \"264\" \" CUDART_VERSION: \" \"12010\" \", arch: \" \"890\")\n",
      "                                                                                                                                                 ^\n",
      "\n",
      "/home/max/myrepos/vlstm_cuda/src/vlstm_fwbw_v0/../util/inline_ops.cuh(269): remark #20200-D: #pragma message: \"INCLUDING FP16\"\n",
      "  #pragma message(\"INCLUDING FP16\")\n",
      "                                   ^\n",
      "\n",
      "/home/max/myrepos/vlstm_cuda/src/vlstm_fwbw_v0/../util/inline_ops_fp16.cuh(29): remark #20200-D: #pragma message: \"/home/max/myrepos/vlstm_cuda/src/vlstm_fwbw_v0/../util/inline_ops_fp16.cuh:29 CUDART_VERSION with FP16: 12010, CUDA_ARCH: 890\"\n",
      "  #pragma message(\"/home/max/myrepos/vlstm_cuda/src/vlstm_fwbw_v0/../util/inline_ops_fp16.cuh\" \":\" \"29\" \" CUDART_VERSION with FP16: \" \"12010\" \", CUDA_ARCH: \" \"890\")\n",
      "                                                                                                                                                                    ^\n",
      "\n",
      "/home/max/myrepos/vlstm_cuda/src/vlstm_fwbw_v0/../util/inline_ops_2fp16.cuh(29): remark #20200-D: #pragma message: \"/home/max/myrepos/vlstm_cuda/src/vlstm_fwbw_v0/../util/inline_ops_2fp16.cuh:29 CUDART_VERSION with FP16: 12010, CUDA_ARCH: 890\"\n",
      "  #pragma message(\"/home/max/myrepos/vlstm_cuda/src/vlstm_fwbw_v0/../util/inline_ops_2fp16.cuh\" \":\" \"29\" \" CUDART_VERSION with FP16: \" \"12010\" \", CUDA_ARCH: \" \"890\")\n",
      "                                                                                                                                                                     ^\n",
      "\n",
      "/home/max/myrepos/vlstm_cuda/src/vlstm_fwbw_v0/../util/inline_ops.cuh(282): remark #20200-D: #pragma message: \"INCLUDING BF16\"\n",
      "  #pragma message(\"INCLUDING BF16\")\n",
      "                                   ^\n",
      "\n",
      "/home/max/myrepos/vlstm_cuda/src/vlstm_fwbw_v0/../util/inline_ops_bf16.cuh(29): remark #20200-D: #pragma message: \"/home/max/myrepos/vlstm_cuda/src/vlstm_fwbw_v0/../util/inline_ops_bf16.cuh:29 CUDART_VERSION with BF16: 12010, CUDA_ARCH: 890\"\n",
      "  #pragma message(\"/home/max/myrepos/vlstm_cuda/src/vlstm_fwbw_v0/../util/inline_ops_bf16.cuh\" \":\" \"29\" \" CUDART_VERSION with BF16: \" \"12010\" \", CUDA_ARCH: \" \"890\")\n",
      "                                                                                                                                                                    ^\n",
      "\n",
      "/home/max/myrepos/vlstm_cuda/src/vlstm_fwbw_v0/../util/inline_ops_2bf16.cuh(29): remark #20200-D: #pragma message: \"/home/max/myrepos/vlstm_cuda/src/vlstm_fwbw_v0/../util/inline_ops_2bf16.cuh:29 CUDART_VERSION with FP16: 12010, CUDA_ARCH: 890\"\n",
      "  #pragma message(\"/home/max/myrepos/vlstm_cuda/src/vlstm_fwbw_v0/../util/inline_ops_2bf16.cuh\" \":\" \"29\" \" CUDART_VERSION with FP16: \" \"12010\" \", CUDA_ARCH: \" \"890\")\n",
      "                                                                                                                                                                     ^\n",
      "\n",
      "ptxas info    : 150 bytes gmem\n",
      "ptxas info    : Compiling entry function '_ZN5vlstm7kernels8vlstm_bwIfLi4ELi8ELi8EEEvPT_S3_S3_S3_S3_S3_S3_S3_S3_S3_S3_S3_S3_S3_PfS4_iiii' for 'sm_89'\n",
      "ptxas info    : Function properties for _ZN5vlstm7kernels8vlstm_bwIfLi4ELi8ELi8EEEvPT_S3_S3_S3_S3_S3_S3_S3_S3_S3_S3_S3_S3_S3_PfS4_iiii\n",
      "    24 bytes stack frame, 0 bytes spill stores, 0 bytes spill loads\n",
      "ptxas info    : Used 96 registers, 496 bytes cmem[0], 16 bytes cmem[2]\n",
      "ptxas info    : Compiling entry function '_ZN5vlstm7kernels8vlstm_bwI6__halfLi4ELi8ELi8EEEvPT_S4_S4_S4_S4_S4_S4_S4_S4_S4_S4_S4_S4_S4_PfS5_iiii' for 'sm_89'\n",
      "ptxas info    : Function properties for _ZN5vlstm7kernels8vlstm_bwI6__halfLi4ELi8ELi8EEEvPT_S4_S4_S4_S4_S4_S4_S4_S4_S4_S4_S4_S4_S4_PfS5_iiii\n",
      "    24 bytes stack frame, 0 bytes spill stores, 0 bytes spill loads\n",
      "ptxas info    : Used 96 registers, 496 bytes cmem[0], 8 bytes cmem[2]\n",
      "ptxas info    : Compiling entry function '_ZN5vlstm7kernels8vlstm_bwI13__nv_bfloat16Li4ELi8ELi8EEEvPT_S4_S4_S4_S4_S4_S4_S4_S4_S4_S4_S4_S4_S4_PfS5_iiii' for 'sm_89'\n",
      "ptxas info    : Function properties for _ZN5vlstm7kernels8vlstm_bwI13__nv_bfloat16Li4ELi8ELi8EEEvPT_S4_S4_S4_S4_S4_S4_S4_S4_S4_S4_S4_S4_S4_PfS5_iiii\n",
      "    24 bytes stack frame, 0 bytes spill stores, 0 bytes spill loads\n",
      "ptxas info    : Used 106 registers, 496 bytes cmem[0], 8 bytes cmem[2]\n",
      "/home/max/myrepos/vlstm_cuda/src/vlstm_fwbw_v0/../util/inline_ops.cuh(264): remark #20200-D: #pragma message: \"/home/max/myrepos/vlstm_cuda/src/vlstm_fwbw_v0/../util/inline_ops.cuh:264 CUDART_VERSION: 12010, arch: 800\"\n",
      "  #pragma message(\"/home/max/myrepos/vlstm_cuda/src/vlstm_fwbw_v0/../util/inline_ops.cuh\" \":\" \"264\" \" CUDART_VERSION: \" \"12010\" \", arch: \" \"800\")\n",
      "                                                                                                                                                 ^\n",
      "\n",
      "/home/max/myrepos/vlstm_cuda/src/vlstm_fwbw_v0/../util/inline_ops.cuh(269): remark #20200-D: #pragma message: \"INCLUDING FP16\"\n",
      "  #pragma message(\"INCLUDING FP16\")\n",
      "                                   ^\n",
      "\n",
      "/home/max/myrepos/vlstm_cuda/src/vlstm_fwbw_v0/../util/inline_ops_fp16.cuh(29): remark #20200-D: #pragma message: \"/home/max/myrepos/vlstm_cuda/src/vlstm_fwbw_v0/../util/inline_ops_fp16.cuh:29 CUDART_VERSION with FP16: 12010, CUDA_ARCH: 800\"\n",
      "  #pragma message(\"/home/max/myrepos/vlstm_cuda/src/vlstm_fwbw_v0/../util/inline_ops_fp16.cuh\" \":\" \"29\" \" CUDART_VERSION with FP16: \" \"12010\" \", CUDA_ARCH: \" \"800\")\n",
      "                                                                                                                                                                    ^\n",
      "\n",
      "/home/max/myrepos/vlstm_cuda/src/vlstm_fwbw_v0/../util/inline_ops_2fp16.cuh(29): remark #20200-D: #pragma message: \"/home/max/myrepos/vlstm_cuda/src/vlstm_fwbw_v0/../util/inline_ops_2fp16.cuh:29 CUDART_VERSION with FP16: 12010, CUDA_ARCH: 800\"\n",
      "  #pragma message(\"/home/max/myrepos/vlstm_cuda/src/vlstm_fwbw_v0/../util/inline_ops_2fp16.cuh\" \":\" \"29\" \" CUDART_VERSION with FP16: \" \"12010\" \", CUDA_ARCH: \" \"800\")\n",
      "                                                                                                                                                                     ^\n",
      "\n",
      "/home/max/myrepos/vlstm_cuda/src/vlstm_fwbw_v0/../util/inline_ops.cuh(282): remark #20200-D: #pragma message: \"INCLUDING BF16\"\n",
      "  #pragma message(\"INCLUDING BF16\")\n",
      "                                   ^\n",
      "\n",
      "/home/max/myrepos/vlstm_cuda/src/vlstm_fwbw_v0/../util/inline_ops_bf16.cuh(29): remark #20200-D: #pragma message: \"/home/max/myrepos/vlstm_cuda/src/vlstm_fwbw_v0/../util/inline_ops_bf16.cuh:29 CUDART_VERSION with BF16: 12010, CUDA_ARCH: 800\"\n",
      "  #pragma message(\"/home/max/myrepos/vlstm_cuda/src/vlstm_fwbw_v0/../util/inline_ops_bf16.cuh\" \":\" \"29\" \" CUDART_VERSION with BF16: \" \"12010\" \", CUDA_ARCH: \" \"800\")\n",
      "                                                                                                                                                                    ^\n",
      "\n",
      "/home/max/myrepos/vlstm_cuda/src/vlstm_fwbw_v0/../util/inline_ops_2bf16.cuh(29): remark #20200-D: #pragma message: \"/home/max/myrepos/vlstm_cuda/src/vlstm_fwbw_v0/../util/inline_ops_2bf16.cuh:29 CUDART_VERSION with FP16: 12010, CUDA_ARCH: 800\"\n",
      "  #pragma message(\"/home/max/myrepos/vlstm_cuda/src/vlstm_fwbw_v0/../util/inline_ops_2bf16.cuh\" \":\" \"29\" \" CUDART_VERSION with FP16: \" \"12010\" \", CUDA_ARCH: \" \"800\")\n",
      "                                                                                                                                                                     ^\n",
      "\n",
      "/home/max/myrepos/vlstm_cuda/src/vlstm_fwbw_v0/../util/inline_ops.cuh:264:138: note: '#pragma message: /home/max/myrepos/vlstm_cuda/src/vlstm_fwbw_v0/../util/inline_ops.cuh:264 CUDART_VERSION: 12010, arch: __CUDA_ARCH__'\n",
      "  264 | #pragma message(AT \" CUDART_VERSION: \" TOSTRING(                               \\\n",
      "      |                                                                                                                                          ^\n",
      "/home/max/myrepos/vlstm_cuda/src/vlstm_fwbw_v0/../util/inline_ops.cuh:276:90: note: '#pragma message: SKIPPING FP16, because of CUDART_VERSION: 12010, arch: __CUDA_ARCH__'\n",
      "  276 | #pragma message(\"SKIPPING FP16, because of CUDART_VERSION: \" TOSTRING(         \\\n",
      "      |                                                                                          ^\n",
      "/home/max/myrepos/vlstm_cuda/src/vlstm_fwbw_v0/../util/inline_ops.cuh:289:90: note: '#pragma message: SKIPPING BF16, because of CUDART_VERSION: 12010, arch: __CUDA_ARCH__'\n",
      "  289 | #pragma message(\"SKIPPING BF16, because of CUDART_VERSION: \" TOSTRING(         \\\n",
      "      |                                                                                          ^\n",
      "[2/2] /home/max/miniconda3/envs/xlstmpt220cu121/bin/x86_64-conda-linux-gnu-c++ interface.o kernel_fw.cuda.o kernel_bw.cuda.o -shared -L/home/max/miniconda3/envs/xlstmpt220cu121/lib -lcublas -L/home/max/miniconda3/envs/xlstmpt220cu121/lib/python3.11/site-packages/torch/lib -lc10 -lc10_cuda -ltorch_cpu -ltorch_cuda -ltorch -ltorch_python -L/home/max/miniconda3/envs/xlstmpt220cu121/lib -lcudart -o vlstm_fwbw_v0.so\n"
     ]
    },
    {
     "name": "stderr",
     "output_type": "stream",
     "text": [
      "Loading extension module vlstm_fwbw_v0...\n"
     ]
    }
   ],
   "source": [
    "from src.vlstm_fwbw_v0.interface import vlstm_fwbw_torch_obw, vlstm_fwbw_cuda\n",
    "\n",
    "from src.vlstm_fwbw_v0.interface import vlstm_fw_torch, vlstm_fw_cuda\n",
    "from src.vlstm_fwbw_v0.interface import vlstm_bw_torch_obw, vlstm_bw_cuda\n",
    "from src.vlstm_fwbw_v0.torch_impl import vlstm_fw_tiled_torch"
   ]
  },
  {
   "cell_type": "markdown",
   "metadata": {},
   "source": [
    "## CUDA vLSTM backward"
   ]
  },
  {
   "cell_type": "code",
   "execution_count": 3,
   "metadata": {
    "notebookRunGroups": {
     "groupValue": "1"
    }
   },
   "outputs": [],
   "source": [
    "S = 16 #16 #8 # seq len\n",
    "B = 1 # batch size\n",
    "NH = 1 # num heads\n",
    "DH = 8 # dim per head\n",
    "DTYPE = torch.float32\n",
    "DEVICE = torch.device(\"cuda:0\")"
   ]
  },
  {
   "cell_type": "code",
   "execution_count": 4,
   "metadata": {
    "notebookRunGroups": {
     "groupValue": "1"
    }
   },
   "outputs": [
    {
     "data": {
      "text/plain": [
       "(tensor([[[[-9.2466e-01, -4.2534e-01, -2.6438e+00,  1.4518e-01, -1.2087e-01, -5.7973e-01, -6.2285e-01, -3.2839e-01],\n",
       "           [-1.0745e+00, -3.6314e-01, -1.6711e+00,  2.2655e+00,  3.1168e-01, -1.8419e-01,  1.2866e+00,  1.1820e+00],\n",
       "           [-1.2706e-01,  1.2169e+00,  1.4353e+00,  1.0605e+00, -4.9413e-01, -1.4244e+00, -7.2443e-01, -1.2973e+00],\n",
       "           [ 6.9690e-02, -7.4066e-03,  1.8969e+00,  6.8778e-01, -7.7948e-02, -8.3728e-01,  1.3506e+00, -2.8792e-01],\n",
       "           [-5.9653e-01, -3.2826e-01, -9.0860e-01, -8.0594e-01, -7.4067e-01, -5.0385e-02,  5.4348e-01,  1.5150e+00],\n",
       "           [ 1.4121e-02,  4.5320e-01,  1.6349e+00,  7.1239e-01, -1.8057e-01,  1.0252e+00, -1.4622e+00, -7.5538e-01],\n",
       "           [-1.8364e-01,  3.8239e-01,  3.9177e-01, -8.2991e-02,  8.9712e-01, -1.1123e+00,  1.1165e-01,  4.8628e-01],\n",
       "           [-5.4994e-01, -3.2309e-01, -5.4689e-01,  9.0488e-01,  2.8369e-01,  1.2103e-01,  4.7297e-01, -1.0823e+00],\n",
       "           [-3.3446e-02, -9.7344e-01,  9.5592e-01, -1.1795e+00, -1.0064e+00,  1.1599e-01,  6.8517e-01, -4.1239e-01],\n",
       "           [-6.7381e-01, -5.4044e-01,  6.8985e-01, -1.5517e+00,  3.8053e-01, -4.3581e-02,  3.5974e-01, -5.0426e-01],\n",
       "           [-3.1052e-01,  7.6436e-01, -3.1298e+00,  3.4941e-01, -2.7612e-02,  1.4448e+00, -2.7707e-03,  1.8990e-01],\n",
       "           [ 2.2415e-01, -2.3280e-01,  9.7137e-01,  1.6773e+00,  1.3447e-01,  5.2461e-01,  1.1699e+00, -9.5568e-01],\n",
       "           [-8.5698e-02, -1.4977e+00, -9.0736e-01, -4.5244e-01,  6.6173e-02, -3.8381e-02,  5.8397e-01,  8.8454e-01],\n",
       "           [-1.6148e+00,  4.4849e-01,  7.3407e-01, -8.4570e-01,  6.5872e-01, -3.5541e-01, -1.9107e+00, -1.6850e-01],\n",
       "           [ 1.8969e+00,  5.1329e-01,  1.1002e+00, -1.3909e+00, -2.6249e-01, -1.4429e+00,  1.5446e+00,  1.2185e-02],\n",
       "           [ 2.1437e+00, -9.2642e-01,  1.6909e+00, -2.5508e-01, -9.0211e-01, -2.1282e-01, -3.3148e-01, -2.0226e-01]]]], device='cuda:0'),\n",
       " torch.Size([1, 1, 16, 8]),\n",
       " 128)"
      ]
     },
     "execution_count": 4,
     "metadata": {},
     "output_type": "execute_result"
    }
   ],
   "source": [
    "# create qkv, inputgates, forgetgates \n",
    "torch.manual_seed(0)\n",
    "# fixed:\n",
    "# qs = torch.arange((B*NH*S*DH), device=DEVICE, dtype=DTYPE).reshape((B, NH, S, DH)) / 10.\n",
    "# ks = torch.ones((B, NH, S, DH), device=DEVICE, dtype=DTYPE) / 100.\n",
    "# vs = torch.ones((B, NH, S, DH), device=DEVICE, dtype=DTYPE) / 100.\n",
    "# random:\n",
    "qs = torch.randn((B, NH, S, DH), device=DEVICE, dtype=DTYPE)\n",
    "ks = torch.randn((B, NH, S, DH), device=DEVICE, dtype=DTYPE)\n",
    "vs = torch.randn((B, NH, S, DH), device=DEVICE, dtype=DTYPE)\n",
    "\n",
    "# igs = (1. + torch.arange((B * NH * S), device=DEVICE, dtype=DTYPE)).reshape(B, NH, S, 1) / 10.\n",
    "# igs = torch.zeros((B, NH, S, 1), device=DEVICE, dtype=DTYPE) #/ 10.\n",
    "igs = torch.randn((B, NH, S, 1), device=DEVICE, dtype=DTYPE) #/ 10.\n",
    "fgs = torch.ones((B, NH, S, 1), device=DEVICE, dtype=DTYPE)\n",
    "fgs = torch.randn((B, NH, S, 1), device=DEVICE, dtype=DTYPE)\n",
    "\n",
    "dHs = qs.clone()\n",
    "qs, qs.shape, len(qs.view(-1))"
   ]
  },
  {
   "cell_type": "markdown",
   "metadata": {},
   "source": [
    "### bw kernel match direct call"
   ]
  },
  {
   "cell_type": "code",
   "execution_count": 5,
   "metadata": {},
   "outputs": [],
   "source": [
    "hs_pt, n_pt, m_pt, _, matD_pt = vlstm_fw_torch(queries=qs, keys=ks, values=vs, igate_preact=igs, fgate_preact=fgs)"
   ]
  },
  {
   "cell_type": "code",
   "execution_count": 6,
   "metadata": {},
   "outputs": [],
   "source": [
    "dQs_pt, dKs_pt, dVs_pt, dIgs_pt, dFgs_pt, delta_D_pt, delta_Dtilde_pt, delta_fbar_pt, mat_P_pt, mat_C_pt = vlstm_bw_torch_obw(\n",
    "    delta_Htilde=dHs,\n",
    "    queries=qs,\n",
    "    keys=ks,\n",
    "    values=vs,\n",
    "    igate_preact=igs,\n",
    "    fgate_preact=fgs,\n",
    "    var_n=n_pt,\n",
    "    var_m=m_pt,\n",
    ")"
   ]
  },
  {
   "cell_type": "code",
   "execution_count": 7,
   "metadata": {},
   "outputs": [],
   "source": [
    "def rev_cumsum(x, dim=-1):\n",
    "    return x.flip(dims=(dim,)).cumsum(dim).flip(dims=(dim,))"
   ]
  },
  {
   "cell_type": "code",
   "execution_count": 8,
   "metadata": {},
   "outputs": [],
   "source": [
    "# calculate fgrads trick\n",
    "df = (dQs_pt * qs - dKs_pt * ks).sum(-1, keepdim=True)\n",
    "df = rev_cumsum(df, dim=-2)\n",
    "df_pt = df * torch.nn.functional.sigmoid(-fgs)\n",
    "# df_pt"
   ]
  },
  {
   "cell_type": "code",
   "execution_count": 9,
   "metadata": {},
   "outputs": [],
   "source": [
    "# df_pt - dFgs_pt"
   ]
  },
  {
   "cell_type": "code",
   "execution_count": 10,
   "metadata": {},
   "outputs": [
    {
     "name": "stdout",
     "output_type": "stream",
     "text": [
      "before kernel dispatch - float32!\n",
      "B: 1, NH: 1, S: 16, DH: 8\n",
      "blocksxy: 1-2, threadsxy: 4-4, shared_mem in bytes: 5664\n",
      "In FW-Kernel: gdim.x: 1, gdim.y: 2, gdim.z: 1, bdim.x: 4, bdim.y: 4\n",
      "In FW-Kernel: QtileDim: 8, KVtileDim: 8, TblockDim:4\n"
     ]
    }
   ],
   "source": [
    "hs_cu, n_cu, m_cu, _ = vlstm_fw_cuda(mat_Q=qs, mat_K=ks, mat_V=vs, igate_preact=igs, fgate_preact=fgs)"
   ]
  },
  {
   "cell_type": "code",
   "execution_count": 11,
   "metadata": {},
   "outputs": [
    {
     "name": "stdout",
     "output_type": "stream",
     "text": [
      "before kernel dispatch - float32!\n",
      "B: 1, NH: 1, S: 16, DH: 8\n",
      "blocksxy: 1-1, threadsxy: 4-4, shared_mem in bytes: 7648\n",
      "In BW-Kernel: gdim.x: 1, gdim.y: 1, gdim.z: 1, bdim.x: 4, bdim.y: 4\n",
      "In BW-Kernel: QtileDim: 8, KVtileDim: 8, TblockDim:4\n"
     ]
    }
   ],
   "source": [
    "dQs_cu, dKs_cu, dVs_cu, dIgs_cu, dFgs_cu, matC_cu, deltaDcsChunkArr_cu, deltaDcsVec_cu = vlstm_bw_cuda(\n",
    "    delta_Htilde=dHs,\n",
    "    mat_Q=qs,\n",
    "    mat_K=ks,\n",
    "    mat_V=vs,\n",
    "    igate_preact=igs,\n",
    "    fgate_preact=fgs,\n",
    "    n=n_pt,\n",
    "    m=m_pt,\n",
    ")"
   ]
  },
  {
   "cell_type": "code",
   "execution_count": 15,
   "metadata": {},
   "outputs": [
    {
     "name": "stdout",
     "output_type": "stream",
     "text": [
      "delta Q match: True\n",
      "delta K match: False\n",
      "delta V match: False\n",
      "delta Igate match: True\n",
      "delta Fgate match: True\n"
     ]
    }
   ],
   "source": [
    "RTOL = 1e-10\n",
    "ATOL = 4e-4\n",
    "print(f\"delta Q match: {torch.allclose(dQs_cu, dQs_pt, rtol=RTOL, atol=ATOL)}\")\n",
    "print(f\"delta K match: {torch.allclose(dKs_cu, dKs_pt, rtol=RTOL, atol=ATOL)}\")\n",
    "print(f\"delta V match: {torch.allclose(dVs_cu, dVs_pt, rtol=RTOL, atol=ATOL)}\")\n",
    "print(f\"delta Igate match: {torch.allclose(dIgs_cu.unsqueeze(-1), dIgs_pt, rtol=RTOL, atol=ATOL)}\")\n",
    "print(f\"delta Fgate match: {torch.allclose(dFgs_cu.unsqueeze(-1), dFgs_pt, rtol=RTOL, atol=ATOL)}\")"
   ]
  },
  {
   "cell_type": "code",
   "execution_count": 13,
   "metadata": {},
   "outputs": [
    {
     "data": {
      "text/plain": [
       "tensor(1.0967e-05, device='cuda:0')"
      ]
     },
     "execution_count": 13,
     "metadata": {},
     "output_type": "execute_result"
    }
   ],
   "source": [
    "torch.abs(matC_cu - mat_P_pt).max()"
   ]
  },
  {
   "cell_type": "code",
   "execution_count": 14,
   "metadata": {},
   "outputs": [
    {
     "data": {
      "text/plain": [
       "tensor([[[[-1.2881e+00, -0.0000e+00,  0.0000e+00, -0.0000e+00,  0.0000e+00, -0.0000e+00, -0.0000e+00, -0.0000e+00,  0.0000e+00,  0.0000e+00, -0.0000e+00, -0.0000e+00,  0.0000e+00, -0.0000e+00,\n",
       "            0.0000e+00, -0.0000e+00],\n",
       "          [ 5.7866e-01, -7.4848e-02,  0.0000e+00, -0.0000e+00,  0.0000e+00,  0.0000e+00, -0.0000e+00, -0.0000e+00,  0.0000e+00,  0.0000e+00,  0.0000e+00, -0.0000e+00, -0.0000e+00, -0.0000e+00,\n",
       "            0.0000e+00,  0.0000e+00],\n",
       "          [-1.7459e+00,  4.6757e-01, -5.1388e-01, -0.0000e+00,  0.0000e+00,  0.0000e+00, -0.0000e+00, -0.0000e+00, -0.0000e+00, -0.0000e+00,  0.0000e+00,  0.0000e+00, -0.0000e+00, -0.0000e+00,\n",
       "            0.0000e+00,  0.0000e+00],\n",
       "          [ 9.8656e-02,  2.1464e-01, -4.3427e-01,  3.4224e-01,  0.0000e+00,  0.0000e+00,  0.0000e+00, -0.0000e+00, -0.0000e+00, -0.0000e+00,  0.0000e+00,  0.0000e+00, -0.0000e+00, -0.0000e+00,\n",
       "            0.0000e+00,  0.0000e+00],\n",
       "          [ 9.4020e-02, -6.7717e-02,  6.0971e-02,  1.0002e+00, -1.1657e+00, -0.0000e+00,  0.0000e+00, -0.0000e+00,  0.0000e+00, -0.0000e+00, -0.0000e+00, -0.0000e+00,  0.0000e+00,  0.0000e+00,\n",
       "           -0.0000e+00, -0.0000e+00],\n",
       "          [-1.1468e-01,  1.2826e-03,  4.5196e-03, -1.6160e-01,  1.4526e-01,  1.8767e+00,  0.0000e+00,  0.0000e+00, -0.0000e+00,  0.0000e+00,  0.0000e+00,  0.0000e+00, -0.0000e+00, -0.0000e+00,\n",
       "            0.0000e+00,  0.0000e+00],\n",
       "          [ 1.7340e-03, -1.5759e-03,  1.1539e-02,  2.2410e-01, -5.9189e-03,  3.1594e+00, -9.0589e-01, -0.0000e+00, -0.0000e+00, -0.0000e+00, -0.0000e+00,  0.0000e+00,  0.0000e+00,  0.0000e+00,\n",
       "            0.0000e+00,  0.0000e+00],\n",
       "          [-1.5955e-02,  8.9107e-03, -3.2147e-03, -2.6065e-01,  4.7532e-02,  3.1621e-01, -7.0519e-01, -3.8525e+00,  0.0000e+00,  0.0000e+00,  0.0000e+00, -0.0000e+00, -0.0000e+00, -0.0000e+00,\n",
       "            0.0000e+00,  0.0000e+00],\n",
       "          [ 7.3804e-04,  5.0396e-03, -1.9416e-02,  1.7745e-02, -5.3945e-02, -6.0240e-01,  3.7586e-01,  9.5723e-01, -2.9501e+00, -0.0000e+00,  0.0000e+00,  0.0000e+00, -0.0000e+00,  0.0000e+00,\n",
       "           -0.0000e+00, -0.0000e+00],\n",
       "          [-8.9472e-03,  3.0706e-03, -9.2328e-03,  1.3900e-02, -6.8492e-02,  1.9121e-01,  7.8582e-02,  9.8084e-01, -1.4328e+00, -1.1621e+00, -0.0000e+00,  0.0000e+00,  0.0000e+00,  0.0000e+00,\n",
       "           -0.0000e+00,  0.0000e+00],\n",
       "          [-5.0965e-04, -2.4458e-03,  8.3061e-03, -7.6148e-02, -2.4202e-03, -4.2881e-01,  7.0493e-03, -7.4463e-01,  4.2509e+00,  3.7087e+00, -1.3816e-01, -0.0000e+00,  0.0000e+00, -0.0000e+00,\n",
       "            0.0000e+00, -0.0000e+00],\n",
       "          [ 6.6607e-04,  1.5826e-03, -2.2167e-03, -1.6469e-02,  1.1497e-02,  1.7324e-01,  2.8569e-02, -2.2490e-03, -2.9111e-01, -4.5126e-01,  8.1118e-01,  1.3857e+00, -0.0000e+00, -0.0000e+00,\n",
       "            0.0000e+00,  0.0000e+00],\n",
       "          [ 5.0470e-04, -8.1664e-05,  5.6750e-05,  2.9658e-03, -5.5647e-04, -2.9625e-02, -1.1756e-02,  3.2373e-02,  1.1067e-01, -3.5643e-02, -1.4333e-02,  1.7550e-01,  4.0059e-01,  0.0000e+00,\n",
       "           -0.0000e+00, -0.0000e+00],\n",
       "          [-2.0881e-04, -1.6647e-05,  5.5143e-05,  4.6915e-05, -3.3500e-04,  2.2594e-03, -4.2534e-04, -3.2159e-03, -8.3962e-03,  1.3049e-02, -2.4891e-02,  3.9356e-02, -7.3070e-02, -4.6971e-01,\n",
       "            0.0000e+00, -0.0000e+00],\n",
       "          [ 5.1743e-04,  7.5376e-05, -3.4427e-04,  1.7062e-03, -1.4251e-04,  1.0230e-02,  2.6462e-03,  2.4744e-02, -8.7587e-02, -9.0166e-02,  1.5734e-02,  8.5528e-01,  5.8969e-01,  7.1985e+00,\n",
       "           -1.4745e+00,  0.0000e+00],\n",
       "          [ 1.7006e-04,  1.5755e-06, -8.7047e-05,  9.3403e-04,  3.4420e-04, -3.7790e-03,  2.6844e-04,  1.5762e-02, -4.1959e-02, -3.3256e-02,  2.1304e-02,  4.8470e-01, -5.5746e-01,  2.3562e+00,\n",
       "           -4.6620e-01,  9.0351e-02]]]], device='cuda:0')"
      ]
     },
     "execution_count": 14,
     "metadata": {},
     "output_type": "execute_result"
    }
   ],
   "source": [
    "mat_P_pt"
   ]
  },
  {
   "cell_type": "code",
   "execution_count": 13,
   "metadata": {},
   "outputs": [
    {
     "data": {
      "text/plain": [
       "tensor([[[[0.0049],\n",
       "          [0.0216],\n",
       "          [0.0030],\n",
       "          [0.1189],\n",
       "          [0.0950],\n",
       "          [0.0626],\n",
       "          [0.0695],\n",
       "          [0.1783],\n",
       "          [0.0826],\n",
       "          [0.1365],\n",
       "          [0.0476],\n",
       "          [2.2342],\n",
       "          [0.3448],\n",
       "          [0.2026],\n",
       "          [0.9057],\n",
       "          [0.5566]]]], device='cuda:0')"
      ]
     },
     "execution_count": 13,
     "metadata": {},
     "output_type": "execute_result"
    }
   ],
   "source": [
    "dIgs_pt"
   ]
  },
  {
   "cell_type": "code",
   "execution_count": 51,
   "metadata": {},
   "outputs": [
    {
     "data": {
      "text/plain": [
       "tensor([[[[0.0049],\n",
       "          [0.0216],\n",
       "          [0.0030],\n",
       "          [0.1189],\n",
       "          [0.0950],\n",
       "          [0.0626],\n",
       "          [0.0695],\n",
       "          [0.1783],\n",
       "          [0.0826],\n",
       "          [0.1365],\n",
       "          [0.0476],\n",
       "          [2.2342],\n",
       "          [0.3448],\n",
       "          [0.2026],\n",
       "          [0.9057],\n",
       "          [0.5566]]]], device='cuda:0')"
      ]
     },
     "execution_count": 51,
     "metadata": {},
     "output_type": "execute_result"
    }
   ],
   "source": [
    "dIgs_cu.unsqueeze(-1)"
   ]
  },
  {
   "cell_type": "code",
   "execution_count": 52,
   "metadata": {},
   "outputs": [
    {
     "data": {
      "text/plain": [
       "tensor([[[[2.3283e-09],\n",
       "          [1.1176e-08],\n",
       "          [1.8626e-09],\n",
       "          [8.9407e-08],\n",
       "          [4.4703e-08],\n",
       "          [2.9802e-08],\n",
       "          [1.4901e-08],\n",
       "          [5.9605e-08],\n",
       "          [3.7253e-08],\n",
       "          [1.0431e-07],\n",
       "          [5.2154e-08],\n",
       "          [6.4373e-06],\n",
       "          [6.2585e-07],\n",
       "          [3.8743e-07],\n",
       "          [1.6689e-06],\n",
       "          [7.7486e-07]]]], device='cuda:0')"
      ]
     },
     "execution_count": 52,
     "metadata": {},
     "output_type": "execute_result"
    }
   ],
   "source": [
    "dIgs_cu.unsqueeze(-1) - dIgs_pt"
   ]
  },
  {
   "cell_type": "code",
   "execution_count": 53,
   "metadata": {},
   "outputs": [
    {
     "data": {
      "text/plain": [
       "tensor([[[[ 0.0000e+00],\n",
       "          [-1.6298e-09],\n",
       "          [-3.7253e-09],\n",
       "          [-1.3970e-08],\n",
       "          [-1.4901e-08],\n",
       "          [-2.2352e-08],\n",
       "          [-2.9802e-08],\n",
       "          [-3.7253e-08],\n",
       "          [-2.2352e-08],\n",
       "          [-2.9802e-08],\n",
       "          [-9.6858e-08],\n",
       "          [-9.6858e-08],\n",
       "          [-1.3709e-06],\n",
       "          [-7.7486e-07],\n",
       "          [-3.5763e-07],\n",
       "          [-2.8312e-07]]]], device='cuda:0')"
      ]
     },
     "execution_count": 53,
     "metadata": {},
     "output_type": "execute_result"
    }
   ],
   "source": [
    "dFgs_pt - dFgs_cu.unsqueeze(-1)"
   ]
  },
  {
   "cell_type": "code",
   "execution_count": 54,
   "metadata": {},
   "outputs": [
    {
     "data": {
      "text/plain": [
       "tensor([[[[0.0000],\n",
       "          [0.0030],\n",
       "          [0.0068],\n",
       "          [0.0145],\n",
       "          [0.0235],\n",
       "          [0.0460],\n",
       "          [0.0629],\n",
       "          [0.0788],\n",
       "          [0.0599],\n",
       "          [0.0466],\n",
       "          [0.0744],\n",
       "          [0.0331],\n",
       "          [0.5846],\n",
       "          [0.4395],\n",
       "          [0.2993],\n",
       "          [0.2302]]]], device='cuda:0')"
      ]
     },
     "execution_count": 54,
     "metadata": {},
     "output_type": "execute_result"
    }
   ],
   "source": [
    "dFgs_cu.unsqueeze(-1)"
   ]
  },
  {
   "cell_type": "code",
   "execution_count": 55,
   "metadata": {},
   "outputs": [
    {
     "data": {
      "text/plain": [
       "tensor([[[[0.0000],\n",
       "          [0.0030],\n",
       "          [0.0068],\n",
       "          [0.0145],\n",
       "          [0.0235],\n",
       "          [0.0460],\n",
       "          [0.0629],\n",
       "          [0.0788],\n",
       "          [0.0599],\n",
       "          [0.0466],\n",
       "          [0.0744],\n",
       "          [0.0330],\n",
       "          [0.5846],\n",
       "          [0.4395],\n",
       "          [0.2993],\n",
       "          [0.2302]]]], device='cuda:0')"
      ]
     },
     "execution_count": 55,
     "metadata": {},
     "output_type": "execute_result"
    }
   ],
   "source": [
    "dFgs_pt"
   ]
  },
  {
   "cell_type": "code",
   "execution_count": 56,
   "metadata": {},
   "outputs": [
    {
     "data": {
      "text/plain": [
       "tensor([[[[0.0000e+00, 0.0000e+00, 0.0000e+00, 0.0000e+00, 0.0000e+00, 0.0000e+00, 0.0000e+00, 0.0000e+00, 0.0000e+00, 0.0000e+00],\n",
       "          [0.0000e+00, 0.0000e+00, 0.0000e+00, 0.0000e+00, 0.0000e+00, 0.0000e+00, 0.0000e+00, 0.0000e+00, 0.0000e+00, 0.0000e+00],\n",
       "          [0.0000e+00, 0.0000e+00, 0.0000e+00, 0.0000e+00, 0.0000e+00, 0.0000e+00, 0.0000e+00, 0.0000e+00, 0.0000e+00, 0.0000e+00],\n",
       "          [0.0000e+00, 0.0000e+00, 0.0000e+00, 0.0000e+00, 0.0000e+00, 0.0000e+00, 0.0000e+00, 0.0000e+00, 0.0000e+00, 0.0000e+00],\n",
       "          [0.0000e+00, 0.0000e+00, 0.0000e+00, 0.0000e+00, 0.0000e+00, 0.0000e+00, 0.0000e+00, 0.0000e+00, 0.0000e+00, 0.0000e+00],\n",
       "          [0.0000e+00, 0.0000e+00, 0.0000e+00, 0.0000e+00, 0.0000e+00, 0.0000e+00, 0.0000e+00, 0.0000e+00, 0.0000e+00, 0.0000e+00],\n",
       "          [0.0000e+00, 0.0000e+00, 0.0000e+00, 0.0000e+00, 0.0000e+00, 0.0000e+00, 0.0000e+00, 0.0000e+00, 0.0000e+00, 0.0000e+00],\n",
       "          [1.8626e-08, 0.0000e+00, 0.0000e+00, 0.0000e+00, 0.0000e+00, 0.0000e+00, 0.0000e+00, 0.0000e+00, 0.0000e+00, 0.0000e+00],\n",
       "          [3.7253e-09, 1.4901e-08, 0.0000e+00, 0.0000e+00, 0.0000e+00, 0.0000e+00, 0.0000e+00, 0.0000e+00, 0.0000e+00, 0.0000e+00],\n",
       "          [5.5879e-09, 1.4901e-08, 2.2352e-08, 0.0000e+00, 0.0000e+00, 0.0000e+00, 0.0000e+00, 0.0000e+00, 0.0000e+00, 0.0000e+00],\n",
       "          [2.7940e-09, 5.5879e-09, 7.4506e-09, 2.9802e-08, 0.0000e+00, 0.0000e+00, 0.0000e+00, 0.0000e+00, 0.0000e+00, 0.0000e+00],\n",
       "          [6.5193e-09, 1.6298e-08, 2.4680e-08, 4.4703e-08, 6.5193e-08, 0.0000e+00, 0.0000e+00, 0.0000e+00, 0.0000e+00, 0.0000e+00],\n",
       "          [5.4715e-09, 1.3504e-08, 1.9558e-08, 3.7253e-08, 5.4017e-08, 2.0862e-06, 0.0000e+00, 0.0000e+00, 0.0000e+00, 0.0000e+00],\n",
       "          [3.4925e-09, 8.3819e-09, 1.3039e-08, 2.2352e-08, 3.3528e-08, 1.3709e-06, 1.5497e-06, 0.0000e+00, 0.0000e+00, 0.0000e+00],\n",
       "          [7.5670e-10, 1.6298e-09, 2.5611e-09, 5.1223e-09, 7.4506e-09, 3.2783e-07, 3.5763e-07, 4.1723e-07, 0.0000e+00, 0.0000e+00],\n",
       "          [3.7835e-10, 5.8208e-10, 9.3132e-10, 1.1642e-09, 2.0955e-09, 8.1956e-08, 9.6858e-08, 1.1921e-07, 5.6624e-07, 0.0000e+00]]]], device='cuda:0')"
      ]
     },
     "execution_count": 56,
     "metadata": {},
     "output_type": "execute_result"
    }
   ],
   "source": [
    "(matC_cu - delta_Dtilde_pt.cumsum(-1).tril(-1))[:, :, :, -10:]"
   ]
  },
  {
   "cell_type": "code",
   "execution_count": 18,
   "metadata": {},
   "outputs": [
    {
     "data": {
      "text/plain": [
       "(tensor([[[[-5.9605e-08,  1.7881e-07, -2.9802e-07,  2.6822e-07, -5.3644e-07, -2.9802e-07, -4.0978e-08,  2.9802e-07],\n",
       "           [ 1.3970e-08, -8.9407e-08,  1.3411e-07, -1.0431e-07,  1.7881e-07,  1.0431e-07,  1.8626e-08, -1.1921e-07],\n",
       "           [ 1.4901e-08,  0.0000e+00, -1.1921e-07,  4.4703e-08, -2.9802e-07, -1.4901e-07, -8.9407e-08,  1.7881e-07],\n",
       "           [ 5.2154e-08, -2.0862e-07,  1.1921e-07, -2.0862e-07,  5.2154e-08,  1.1921e-07,  5.9605e-08,  5.5879e-09],\n",
       "           [-3.5390e-08, -7.0781e-08, -4.1723e-07, -1.0431e-07,  2.9802e-07,  1.6391e-07,  5.9605e-08, -3.5763e-07],\n",
       "           [-8.0466e-07, -7.4506e-08,  1.5646e-07, -2.6822e-07,  3.0994e-06, -6.6357e-09, -7.2643e-08,  8.0466e-07],\n",
       "           [-3.5018e-07,  2.2352e-08, -5.9605e-07, -5.6624e-07,  4.5300e-06, -7.7486e-07, -1.6391e-07,  1.3113e-06],\n",
       "           [ 2.1458e-06,  8.9407e-07, -3.0994e-06,  2.9802e-07,  2.2650e-06, -2.5034e-06, -1.6689e-06,  2.8871e-08],\n",
       "           [-1.9073e-06,  8.3447e-07,  5.9605e-07,  2.0862e-07, -1.1921e-06,  8.3447e-07,  1.3113e-06, -7.7486e-07],\n",
       "           [-7.1526e-07,  8.9407e-08,  4.7684e-07,  1.4901e-07, -4.1723e-07,  7.1526e-07,  4.1723e-07, -7.4506e-08],\n",
       "           [ 1.6689e-06, -2.3842e-07, -7.1526e-07, -3.5763e-07,  3.5763e-07, -1.4305e-06, -9.5367e-07,  3.5763e-07],\n",
       "           [-7.4506e-07,  8.9407e-07,  3.8743e-07,  8.1956e-08,  8.3447e-07,  9.5367e-07,  1.6689e-06, -3.5763e-07],\n",
       "           [-1.1176e-08, -2.2352e-08,  0.0000e+00,  7.4506e-09, -7.4506e-09,  0.0000e+00, -4.4703e-08,  0.0000e+00],\n",
       "           [ 5.2154e-08, -3.9116e-08, -7.4506e-08,  3.7253e-08,  8.9407e-08,  8.9407e-08,  1.7881e-07,  6.7055e-08],\n",
       "           [-8.3447e-07,  1.3113e-06,  2.2650e-06,  1.5646e-07, -3.8147e-06, -2.0266e-06, -5.0068e-06, -2.6226e-06],\n",
       "           [ 3.7253e-08, -2.9802e-08,  0.0000e+00,  2.3842e-07, -2.9802e-07,  5.9605e-08, -3.5763e-07, -1.4901e-07]]]], device='cuda:0'),\n",
       " tensor(5.0068e-06, device='cuda:0'))"
      ]
     },
     "execution_count": 18,
     "metadata": {},
     "output_type": "execute_result"
    }
   ],
   "source": [
    "dQs_cu - dQs_pt, torch.abs(dQs_cu - dQs_pt).max()"
   ]
  },
  {
   "cell_type": "code",
   "execution_count": 19,
   "metadata": {},
   "outputs": [
    {
     "data": {
      "text/plain": [
       "(tensor([[[[ 1.7881e-07, -2.9802e-07, -8.3489e-01, -1.1921e-07,  1.7881e-07,  3.5763e-07,  8.3447e-07,  7.1526e-07],\n",
       "           [ 1.3039e-08,  7.4506e-08,  2.0862e-07,  4.4703e-08, -8.1536e-01, -8.9407e-08, -1.1176e-08, -1.1921e-07],\n",
       "           [-5.9081e-09, -1.0431e-07, -3.5763e-07, -1.4901e-07,  5.2154e-08,  1.4901e-07, -4.4421e-01,  2.3842e-07],\n",
       "           [-7.4506e-08, -9.6858e-08, -3.8184e-08, -5.3644e-07, -1.0431e-07, -4.4703e-07,  2.9802e-07,  7.1526e-07],\n",
       "           [ 1.1921e-07, -4.2789e-01,  3.2783e-07,  3.5763e-07,  1.7881e-07,  1.0431e-07, -2.0862e-07, -3.5763e-07],\n",
       "           [-3.7253e-07,  1.3709e-06,  3.2187e-06, -8.4603e-01,  1.4305e-06, -2.3842e-07, -1.9073e-06, -5.5134e-07],\n",
       "           [ 2.5332e-07, -1.7881e-07,  2.2352e-07, -4.7684e-07, -5.9605e-07, -1.3354e+00, -9.6858e-08,  1.3039e-07],\n",
       "           [ 9.5367e-07,  2.0862e-07,  1.6689e-06, -2.3842e-06, -7.1526e-07, -2.9802e-07, -5.9605e-07, -4.2066e-01],\n",
       "           [-7.4506e-08,  1.4305e-06, -3.8147e-06,  9.5367e-07,  8.3447e-07,  9.5367e-07, -9.5367e-07,  8.3447e-07],\n",
       "           [-8.9407e-08,  5.9605e-07, -1.9073e-06, -5.9605e-08, -1.3411e-07,  3.5763e-07, -4.7684e-07,  4.7684e-07],\n",
       "           [ 1.2666e-07, -1.4156e-07,  5.9605e-07,  8.3447e-07,  6.7055e-08,  2.1607e-07,  5.6624e-07, -4.7684e-07],\n",
       "           [ 2.3842e-07, -2.9802e-08,  8.3447e-07,  1.2517e-06,  1.4901e-07,  2.8312e-07,  1.2517e-06, -8.3447e-07],\n",
       "           [ 4.2655e-07,  5.2154e-08,  2.3842e-07, -3.2783e-07, -8.1956e-08, -2.9802e-07,  4.1723e-07,  1.4901e-08],\n",
       "           [ 7.6294e-06,  1.6987e-06,  3.8147e-06, -4.7684e-06, -1.1921e-06, -5.2452e-06,  5.7220e-06,  2.9802e-08],\n",
       "           [-2.0266e-06, -3.4273e-07, -1.1921e-06,  1.3113e-06,  3.2783e-07,  1.3709e-06, -1.3709e-06,  1.1176e-08],\n",
       "           [ 5.9605e-08, -2.9802e-08,  4.8429e-08, -7.4506e-09, -2.6077e-08, -6.5193e-09, -1.0245e-08, -5.5879e-09]]]], device='cuda:0'),\n",
       " tensor(1.3354, device='cuda:0'))"
      ]
     },
     "execution_count": 19,
     "metadata": {},
     "output_type": "execute_result"
    }
   ],
   "source": [
    "dKs_cu - dKs_pt, torch.abs(dKs_cu - dKs_pt).max()"
   ]
  },
  {
   "cell_type": "code",
   "execution_count": 20,
   "metadata": {},
   "outputs": [
    {
     "data": {
      "text/plain": [
       "(tensor([[[[       -inf,  4.7684e-07,  2.8610e-06, -9.5367e-07,  2.0489e-08,  9.5367e-07, -2.3842e-07, -5.3644e-07],\n",
       "           [ 5.9605e-08,  3.7253e-09,        -inf, -1.1921e-07,  0.0000e+00,  4.4703e-08, -8.9407e-08, -2.4214e-08],\n",
       "           [-7.4506e-09,  2.3842e-07,  2.3842e-07,  2.3842e-07,        -inf, -2.3842e-07, -1.1921e-07, -3.5763e-07],\n",
       "           [-5.9605e-08, -2.3842e-07,  1.0729e-06,  1.4901e-07, -1.1921e-07, -9.5367e-07,        -inf,  1.2666e-07],\n",
       "           [-4.4703e-08, -3.7253e-08,  1.6764e-07, -1.7881e-07, -1.0431e-07, -4.4703e-08,  0.0000e+00,  1.7881e-07],\n",
       "           [-4.7684e-07, -7.6306e-02, -1.6689e-06, -8.0466e-07,  1.6689e-06, -2.7418e-06,  1.7285e-06,  1.4901e-06],\n",
       "           [-1.2666e-07, -1.3113e-06,  2.9802e-08,  3.0957e-01, -1.3113e-06,  1.5497e-06,  7.1526e-07, -1.6689e-06],\n",
       "           [ 1.1176e-07, -6.5565e-07,  1.3113e-06, -1.1921e-06, -4.1723e-07,  7.2678e-01,  2.6822e-07,  1.1921e-07],\n",
       "           [ 5.9605e-08,  1.5087e-07, -2.3842e-07, -1.3411e-07, -4.4703e-08, -2.3842e-07, -3.5763e-07,  3.5763e-07],\n",
       "           [-1.1921e-07,  8.9407e-08, -3.5763e-07, -6.2585e-07, -4.1211e-08, -1.4901e-07, -4.1723e-07,  3.5763e-07],\n",
       "           [-2.2352e-08, -7.4506e-09,  0.0000e+00,  8.1956e-08,  7.4506e-09,  5.9605e-08,  3.5390e-08, -3.8184e-08],\n",
       "           [ 5.9605e-07, -4.6194e-07,  2.0266e-06,  3.2187e-06,  2.6077e-07,  9.2387e-07,  2.5034e-06, -1.7881e-06],\n",
       "           [-2.3842e-07, -1.4901e-08, -5.9605e-08,  1.6391e-07,  2.9802e-08,  1.4901e-07, -2.3842e-07, -3.3528e-08],\n",
       "           [-1.0133e-06,  1.4901e-08,  4.7684e-07, -2.3842e-07,  3.7253e-07,  5.9605e-08, -1.6689e-06, -1.4901e-07],\n",
       "           [ 2.0266e-06,  4.7684e-07,  1.1325e-06, -1.4305e-06, -2.6822e-07, -1.4901e-06,  1.5497e-06,  9.3132e-09],\n",
       "           [ 1.3113e-06, -4.7684e-07,  8.3447e-07, -1.3411e-07, -4.7684e-07, -1.0431e-07, -1.7881e-07, -1.0431e-07]]]], device='cuda:0'),\n",
       " tensor(inf, device='cuda:0'))"
      ]
     },
     "execution_count": 20,
     "metadata": {},
     "output_type": "execute_result"
    }
   ],
   "source": [
    "dVs_cu - dVs_pt, torch.abs(dVs_cu - dVs_pt).max()"
   ]
  },
  {
   "cell_type": "code",
   "execution_count": 52,
   "metadata": {},
   "outputs": [
    {
     "data": {
      "text/plain": [
       "(tensor([[[ 6.1219e+00,  7.3210e-01,  2.4523e+00,  3.0649e+00,  2.1296e+00,  7.6970e-01,  8.0635e+00,  2.6605e-01,  2.8676e+00, -1.7003e+00,  2.1132e-01,  1.3613e+00,  4.2462e-01,  8.0890e+00,\n",
       "            5.1872e+00,  7.0967e-01,  1.3349e+01, -9.7979e-01,  3.5690e+00, -5.1287e-01,  6.9646e-01,  1.0673e+00,  5.5749e+00, -3.3935e-01,  8.6814e-05,  3.3688e+00,  1.1465e-01,  1.2180e+00,\n",
       "            5.3781e+00,  7.3750e+00,  1.0271e+00,  7.7895e+00,  3.4989e+00,  6.9227e-01,  1.2521e+01,  2.2172e-01,  4.7920e+00,  6.0415e-01,  2.8018e+00,  2.2682e-01,  1.5406e+00,  7.2706e+00,\n",
       "            1.1437e+00,  3.1559e-01,  1.8419e+00,  4.0405e-02, -9.7288e-02,  9.9358e-01,  2.2841e+00, -6.4965e-01,  1.4312e+00,  2.5603e+00,  4.0268e+01,  1.7432e-01,  9.4742e+00,  2.1577e+00,\n",
       "            3.5761e-02, -2.5396e-01,  7.6760e-01,  1.9595e+01,  4.0970e+00,  7.8107e-01,  2.4614e-02, -2.1997e+00]]], device='cuda:0'),\n",
       " torch.Size([1, 1, 64]))"
      ]
     },
     "execution_count": 52,
     "metadata": {},
     "output_type": "execute_result"
    }
   ],
   "source": [
    "dIgs_cu - dIgs_pt.squeeze(-1), dIgs_cu.shape"
   ]
  },
  {
   "cell_type": "code",
   "execution_count": 22,
   "metadata": {},
   "outputs": [
    {
     "data": {
      "text/plain": [
       "tensor([[[ 0.0000e+00, -1.7480e-03, -1.7160e-02, -6.9439e-03, -9.3492e-02, -1.0969e-01, -7.1794e-02, -3.0862e-02, -1.3550e-01, -1.1357e-01, -2.7724e-02, -2.4580e-02, -1.0732e+00, -7.8491e-01,\n",
       "          -2.2732e-01, -5.2500e-01, -6.7238e-01, -9.5194e-01, -3.9267e-01, -2.5783e+00, -2.1379e+00, -1.0131e+00, -9.2257e-01, -5.0708e-01, -2.6059e-01, -2.1348e-01, -5.0075e-01, -1.1851e+00,\n",
       "          -2.4597e+00, -1.8238e+00, -1.2771e+00, -9.5950e-01]]], device='cuda:0')"
      ]
     },
     "execution_count": 22,
     "metadata": {},
     "output_type": "execute_result"
    }
   ],
   "source": [
    "dFgs_cu - delta_fbar_pt.squeeze(-1)"
   ]
  },
  {
   "cell_type": "code",
   "execution_count": 23,
   "metadata": {},
   "outputs": [
    {
     "data": {
      "text/plain": [
       "tensor([[[[0.0000e+00, 0.0000e+00, 0.0000e+00, 0.0000e+00, 0.0000e+00, 0.0000e+00, 0.0000e+00, 0.0000e+00, 0.0000e+00, 0.0000e+00, 0.0000e+00, 0.0000e+00],\n",
       "          [0.0000e+00, 0.0000e+00, 0.0000e+00, 0.0000e+00, 0.0000e+00, 0.0000e+00, 0.0000e+00, 0.0000e+00, 0.0000e+00, 0.0000e+00, 0.0000e+00, 0.0000e+00],\n",
       "          [0.0000e+00, 0.0000e+00, 0.0000e+00, 0.0000e+00, 0.0000e+00, 0.0000e+00, 0.0000e+00, 0.0000e+00, 0.0000e+00, 0.0000e+00, 0.0000e+00, 0.0000e+00],\n",
       "          [0.0000e+00, 0.0000e+00, 0.0000e+00, 0.0000e+00, 0.0000e+00, 0.0000e+00, 0.0000e+00, 0.0000e+00, 0.0000e+00, 0.0000e+00, 0.0000e+00, 0.0000e+00],\n",
       "          [0.0000e+00, 0.0000e+00, 0.0000e+00, 0.0000e+00, 0.0000e+00, 0.0000e+00, 0.0000e+00, 0.0000e+00, 0.0000e+00, 0.0000e+00, 0.0000e+00, 0.0000e+00],\n",
       "          [0.0000e+00, 0.0000e+00, 0.0000e+00, 0.0000e+00, 0.0000e+00, 0.0000e+00, 0.0000e+00, 0.0000e+00, 0.0000e+00, 0.0000e+00, 0.0000e+00, 0.0000e+00],\n",
       "          [6.2363e-02, 0.0000e+00, 0.0000e+00, 0.0000e+00, 0.0000e+00, 0.0000e+00, 0.0000e+00, 0.0000e+00, 0.0000e+00, 0.0000e+00, 0.0000e+00, 0.0000e+00],\n",
       "          [2.3372e-02, 3.5437e-02, 0.0000e+00, 0.0000e+00, 0.0000e+00, 0.0000e+00, 0.0000e+00, 0.0000e+00, 0.0000e+00, 0.0000e+00, 0.0000e+00, 0.0000e+00],\n",
       "          [2.0824e-02, 3.1574e-02, 8.2969e-02, 0.0000e+00, 0.0000e+00, 0.0000e+00, 0.0000e+00, 0.0000e+00, 0.0000e+00, 0.0000e+00, 0.0000e+00, 0.0000e+00],\n",
       "          [1.8426e-02, 2.7937e-02, 7.3413e-02, 1.0456e-01, 0.0000e+00, 0.0000e+00, 0.0000e+00, 0.0000e+00, 0.0000e+00, 0.0000e+00, 0.0000e+00, 0.0000e+00],\n",
       "          [6.0027e-03, 9.1013e-03, 2.3916e-02, 3.4064e-02, 6.3287e-02, 0.0000e+00, 0.0000e+00, 0.0000e+00, 0.0000e+00, 0.0000e+00, 0.0000e+00, 0.0000e+00],\n",
       "          [1.1565e-03, 1.7534e-03, 4.6076e-03, 6.5626e-03, 1.2193e-02, 1.7908e-02, 0.0000e+00, 0.0000e+00, 0.0000e+00, 0.0000e+00, 0.0000e+00, 0.0000e+00],\n",
       "          [1.0297e-03, 1.5613e-03, 4.1026e-03, 5.8433e-03, 1.0856e-02, 1.5946e-02, 6.5177e-01, 0.0000e+00, 0.0000e+00, 0.0000e+00, 0.0000e+00, 0.0000e+00],\n",
       "          [9.4040e-04, 1.4258e-03, 3.7468e-03, 5.3365e-03, 9.9148e-03, 1.4563e-02, 5.9524e-01, 7.2696e-01, 0.0000e+00, 0.0000e+00, 0.0000e+00, 0.0000e+00],\n",
       "          [3.3520e-04, 5.0823e-04, 1.3355e-03, 1.9022e-03, 3.5341e-03, 5.1907e-03, 2.1217e-01, 2.5912e-01, 3.0654e-01, 0.0000e+00, 0.0000e+00, 0.0000e+00],\n",
       "          [1.5649e-04, 2.3726e-04, 6.2348e-04, 8.8801e-04, 1.6499e-03, 2.4233e-03, 9.9049e-02, 1.2097e-01, 1.4311e-01, 4.3136e-01, 0.0000e+00, 0.0000e+00],\n",
       "          [1.2253e-04, 1.8577e-04, 4.8817e-04, 6.9530e-04, 1.2918e-03, 1.8974e-03, 7.7554e-02, 9.4716e-02, 1.1205e-01, 3.3775e-01, 7.7359e-01, 0.0000e+00],\n",
       "          [5.9519e-05, 9.0243e-05, 2.3714e-04, 3.3775e-04, 6.2752e-04, 9.2168e-04, 3.7673e-02, 4.6010e-02, 5.4430e-02, 1.6407e-01, 3.7578e-01, 5.1102e-01],\n",
       "          [1.9370e-05, 2.9368e-05, 7.7174e-05, 1.0992e-04, 2.0422e-04, 2.9995e-04, 1.2260e-02, 1.4973e-02, 1.7714e-02, 5.3394e-02, 1.2229e-01, 1.6631e-01],\n",
       "          [1.3029e-05, 1.9754e-05, 5.1909e-05, 7.3933e-05, 1.3736e-04, 2.0175e-04, 8.2466e-03, 1.0071e-02, 1.1915e-02, 3.5914e-02, 8.2258e-02, 1.1186e-01],\n",
       "          [1.2146e-05, 1.8416e-05, 4.8392e-05, 6.8924e-05, 1.2806e-04, 1.8808e-04, 7.6878e-03, 9.3890e-03, 1.1107e-02, 3.3481e-02, 7.6684e-02, 1.0428e-01],\n",
       "          [1.1373e-05, 1.7244e-05, 4.5312e-05, 6.4538e-05, 1.1991e-04, 1.7611e-04, 7.1986e-03, 8.7915e-03, 1.0400e-02, 3.1350e-02, 7.1804e-02, 9.7647e-02],\n",
       "          [7.4470e-06, 1.1291e-05, 2.9670e-05, 4.2259e-05, 7.8514e-05, 1.1532e-04, 4.7136e-03, 5.7567e-03, 6.8102e-03, 2.0528e-02, 4.7017e-02, 6.3939e-02],\n",
       "          [3.7888e-06, 5.7445e-06, 1.5095e-05, 2.1500e-05, 3.9945e-05, 5.8671e-05, 2.3981e-03, 2.9288e-03, 3.4648e-03, 1.0444e-02, 2.3921e-02, 3.2530e-02],\n",
       "          [1.7755e-06, 2.6920e-06, 7.0740e-06, 1.0075e-05, 1.8719e-05, 2.7495e-05, 1.1238e-03, 1.3725e-03, 1.6237e-03, 4.8943e-03, 1.1210e-02, 1.5244e-02],\n",
       "          [6.0636e-07, 9.1936e-07, 2.4159e-06, 3.4409e-06, 6.3929e-06, 9.3897e-06, 3.8380e-04, 4.6873e-04, 5.5451e-04, 1.6715e-03, 3.8283e-03, 5.2061e-03],\n",
       "          [1.0355e-07, 1.5701e-07, 4.1258e-07, 5.8764e-07, 1.0918e-06, 1.6036e-06, 6.5545e-05, 8.0050e-05, 9.4700e-05, 2.8545e-04, 6.5380e-04, 8.8910e-04],\n",
       "          [6.3453e-08, 9.6208e-08, 2.5281e-07, 3.6008e-07, 6.6900e-07, 9.8260e-07, 4.0163e-05, 4.9051e-05, 5.8028e-05, 1.7491e-04, 4.0062e-04, 5.4480e-04],\n",
       "          [5.1222e-08, 7.7663e-08, 2.0408e-07, 2.9067e-07, 5.4004e-07, 7.9320e-07, 3.2422e-05, 3.9596e-05, 4.6843e-05, 1.4120e-04, 3.2340e-04, 4.3979e-04],\n",
       "          [4.5557e-08, 6.9074e-08, 1.8151e-07, 2.5852e-07, 4.8032e-07, 7.0548e-07, 2.8836e-05, 3.5217e-05, 4.1662e-05, 1.2558e-04, 2.8763e-04, 3.9115e-04],\n",
       "          [1.9207e-08, 2.9122e-08, 7.6526e-08, 1.0899e-07, 2.0250e-07, 2.9743e-07, 1.2157e-05, 1.4848e-05, 1.7565e-05, 5.2946e-05, 1.2127e-04, 1.6491e-04],\n",
       "          [1.6519e-08, 2.5047e-08, 6.5818e-08, 9.3743e-08, 1.7417e-07, 2.5581e-07, 1.0456e-05, 1.2770e-05, 1.5107e-05, 4.5537e-05, 1.0430e-04, 1.4183e-04]]]], device='cuda:0')"
      ]
     },
     "execution_count": 23,
     "metadata": {},
     "output_type": "execute_result"
    }
   ],
   "source": [
    "delta_Dtilde_pt.cumsum(-1).tril(-1)[:, :, :, 5:17]"
   ]
  },
  {
   "cell_type": "code",
   "execution_count": 24,
   "metadata": {},
   "outputs": [
    {
     "data": {
      "text/plain": [
       "(tensor([[[[0.0000e+00],\n",
       "           [0.0000e+00],\n",
       "           [0.0000e+00],\n",
       "           [0.0000e+00],\n",
       "           [0.0000e+00],\n",
       "           [0.0000e+00],\n",
       "           [0.0000e+00],\n",
       "           [0.0000e+00],\n",
       "           [0.0000e+00],\n",
       "           [0.0000e+00],\n",
       "           [0.0000e+00],\n",
       "           [0.0000e+00],\n",
       "           [0.0000e+00],\n",
       "           [0.0000e+00],\n",
       "           [0.0000e+00],\n",
       "           [0.0000e+00],\n",
       "           [7.7359e-01],\n",
       "           [3.7578e-01],\n",
       "           [1.2229e-01],\n",
       "           [8.2258e-02],\n",
       "           [7.6685e-02],\n",
       "           [7.1804e-02],\n",
       "           [4.7018e-02],\n",
       "           [2.3921e-02],\n",
       "           [1.1210e-02],\n",
       "           [3.8283e-03],\n",
       "           [6.5380e-04],\n",
       "           [4.0062e-04],\n",
       "           [3.2340e-04],\n",
       "           [2.8763e-04],\n",
       "           [1.2127e-04],\n",
       "           [1.0430e-04]]]], device='cuda:0'),\n",
       " torch.Size([1, 1, 32]))"
      ]
     },
     "execution_count": 24,
     "metadata": {},
     "output_type": "execute_result"
    }
   ],
   "source": [
    "deltaDcsVec_cu.unsqueeze(-1), deltaDcsVec_cu.shape"
   ]
  },
  {
   "cell_type": "code",
   "execution_count": 25,
   "metadata": {},
   "outputs": [
    {
     "data": {
      "text/plain": [
       "tensor([[[ 0.0000e+00, -1.7480e-03, -1.7160e-02, -6.9439e-03, -9.3492e-02, -1.0969e-01, -7.1794e-02, -3.0862e-02, -1.3550e-01, -1.1357e-01, -2.7724e-02, -2.4580e-02, -1.0732e+00, -7.8491e-01,\n",
       "          -2.2732e-01, -5.2500e-01, -6.7238e-01, -9.5194e-01, -3.9267e-01, -2.5783e+00, -2.1379e+00, -1.0131e+00, -9.2257e-01, -5.0708e-01, -2.6059e-01, -2.1348e-01, -5.0075e-01, -1.1851e+00,\n",
       "          -2.4597e+00, -1.8238e+00, -1.2771e+00, -9.5950e-01]]], device='cuda:0')"
      ]
     },
     "execution_count": 25,
     "metadata": {},
     "output_type": "execute_result"
    }
   ],
   "source": [
    "dFgs_cu - delta_fbar_pt.squeeze(-1)"
   ]
  },
  {
   "cell_type": "code",
   "execution_count": 26,
   "metadata": {},
   "outputs": [
    {
     "data": {
      "text/plain": [
       "(tensor([[[[0.0000e+00, 0.0000e+00, 0.0000e+00, 0.0000e+00, 0.0000e+00, 0.0000e+00, 0.0000e+00, 0.0000e+00, 0.0000e+00, 0.0000e+00, 0.0000e+00, 0.0000e+00, 0.0000e+00, 0.0000e+00, 0.0000e+00,\n",
       "            0.0000e+00],\n",
       "           [0.0000e+00, 0.0000e+00, 0.0000e+00, 0.0000e+00, 0.0000e+00, 0.0000e+00, 0.0000e+00, 0.0000e+00, 0.0000e+00, 0.0000e+00, 0.0000e+00, 0.0000e+00, 0.0000e+00, 0.0000e+00, 0.0000e+00,\n",
       "            0.0000e+00],\n",
       "           [0.0000e+00, 0.0000e+00, 0.0000e+00, 0.0000e+00, 0.0000e+00, 0.0000e+00, 0.0000e+00, 0.0000e+00, 0.0000e+00, 0.0000e+00, 0.0000e+00, 0.0000e+00, 0.0000e+00, 0.0000e+00, 0.0000e+00,\n",
       "            0.0000e+00],\n",
       "           [0.0000e+00, 0.0000e+00, 0.0000e+00, 0.0000e+00, 0.0000e+00, 0.0000e+00, 0.0000e+00, 0.0000e+00, 0.0000e+00, 0.0000e+00, 0.0000e+00, 0.0000e+00, 0.0000e+00, 0.0000e+00, 0.0000e+00,\n",
       "            0.0000e+00],\n",
       "           [0.0000e+00, 0.0000e+00, 0.0000e+00, 0.0000e+00, 0.0000e+00, 0.0000e+00, 0.0000e+00, 0.0000e+00, 0.0000e+00, 0.0000e+00, 0.0000e+00, 0.0000e+00, 0.0000e+00, 0.0000e+00, 0.0000e+00,\n",
       "            0.0000e+00],\n",
       "           [0.0000e+00, 0.0000e+00, 0.0000e+00, 0.0000e+00, 0.0000e+00, 0.0000e+00, 0.0000e+00, 0.0000e+00, 0.0000e+00, 0.0000e+00, 0.0000e+00, 0.0000e+00, 0.0000e+00, 0.0000e+00, 0.0000e+00,\n",
       "            0.0000e+00],\n",
       "           [0.0000e+00, 0.0000e+00, 0.0000e+00, 0.0000e+00, 0.0000e+00, 0.0000e+00, 0.0000e+00, 0.0000e+00, 0.0000e+00, 0.0000e+00, 0.0000e+00, 0.0000e+00, 0.0000e+00, 0.0000e+00, 0.0000e+00,\n",
       "            0.0000e+00],\n",
       "           [0.0000e+00, 0.0000e+00, 0.0000e+00, 0.0000e+00, 0.0000e+00, 0.0000e+00, 0.0000e+00, 0.0000e+00, 0.0000e+00, 0.0000e+00, 0.0000e+00, 0.0000e+00, 0.0000e+00, 0.0000e+00, 0.0000e+00,\n",
       "            0.0000e+00],\n",
       "           [0.0000e+00, 0.0000e+00, 0.0000e+00, 0.0000e+00, 0.0000e+00, 0.0000e+00, 0.0000e+00, 0.0000e+00, 0.0000e+00, 0.0000e+00, 0.0000e+00, 0.0000e+00, 0.0000e+00, 0.0000e+00, 0.0000e+00,\n",
       "            0.0000e+00],\n",
       "           [0.0000e+00, 0.0000e+00, 0.0000e+00, 0.0000e+00, 0.0000e+00, 0.0000e+00, 0.0000e+00, 0.0000e+00, 0.0000e+00, 0.0000e+00, 0.0000e+00, 0.0000e+00, 0.0000e+00, 0.0000e+00, 0.0000e+00,\n",
       "            0.0000e+00],\n",
       "           [0.0000e+00, 0.0000e+00, 0.0000e+00, 0.0000e+00, 0.0000e+00, 0.0000e+00, 0.0000e+00, 0.0000e+00, 0.0000e+00, 0.0000e+00, 0.0000e+00, 0.0000e+00, 0.0000e+00, 0.0000e+00, 0.0000e+00,\n",
       "            0.0000e+00],\n",
       "           [0.0000e+00, 0.0000e+00, 0.0000e+00, 0.0000e+00, 0.0000e+00, 0.0000e+00, 0.0000e+00, 0.0000e+00, 0.0000e+00, 0.0000e+00, 0.0000e+00, 0.0000e+00, 0.0000e+00, 0.0000e+00, 0.0000e+00,\n",
       "            0.0000e+00],\n",
       "           [0.0000e+00, 0.0000e+00, 0.0000e+00, 0.0000e+00, 0.0000e+00, 0.0000e+00, 0.0000e+00, 0.0000e+00, 0.0000e+00, 0.0000e+00, 0.0000e+00, 0.0000e+00, 0.0000e+00, 0.0000e+00, 0.0000e+00,\n",
       "            0.0000e+00],\n",
       "           [0.0000e+00, 0.0000e+00, 0.0000e+00, 0.0000e+00, 0.0000e+00, 0.0000e+00, 0.0000e+00, 0.0000e+00, 0.0000e+00, 0.0000e+00, 0.0000e+00, 0.0000e+00, 0.0000e+00, 0.0000e+00, 0.0000e+00,\n",
       "            0.0000e+00],\n",
       "           [0.0000e+00, 0.0000e+00, 0.0000e+00, 0.0000e+00, 0.0000e+00, 0.0000e+00, 0.0000e+00, 0.0000e+00, 0.0000e+00, 0.0000e+00, 0.0000e+00, 0.0000e+00, 0.0000e+00, 0.0000e+00, 0.0000e+00,\n",
       "            0.0000e+00],\n",
       "           [0.0000e+00, 0.0000e+00, 0.0000e+00, 0.0000e+00, 0.0000e+00, 0.0000e+00, 0.0000e+00, 0.0000e+00, 0.0000e+00, 0.0000e+00, 0.0000e+00, 0.0000e+00, 0.0000e+00, 0.0000e+00, 0.0000e+00,\n",
       "            0.0000e+00],\n",
       "           [0.0000e+00, 0.0000e+00, 0.0000e+00, 0.0000e+00, 0.0000e+00, 0.0000e+00, 0.0000e+00, 0.0000e+00, 0.0000e+00, 0.0000e+00, 0.0000e+00, 0.0000e+00, 0.0000e+00, 0.0000e+00, 0.0000e+00,\n",
       "            0.0000e+00],\n",
       "           [5.1102e-01, 0.0000e+00, 0.0000e+00, 0.0000e+00, 0.0000e+00, 0.0000e+00, 0.0000e+00, 0.0000e+00, 0.0000e+00, 0.0000e+00, 0.0000e+00, 0.0000e+00, 0.0000e+00, 0.0000e+00, 0.0000e+00,\n",
       "            0.0000e+00],\n",
       "           [1.6631e-01, 3.6319e-01, 0.0000e+00, 0.0000e+00, 0.0000e+00, 0.0000e+00, 0.0000e+00, 0.0000e+00, 0.0000e+00, 0.0000e+00, 0.0000e+00, 0.0000e+00, 0.0000e+00, 0.0000e+00, 0.0000e+00,\n",
       "            0.0000e+00],\n",
       "           [1.1186e-01, 2.4429e-01, 7.9370e-01, 0.0000e+00, 0.0000e+00, 0.0000e+00, 0.0000e+00, 0.0000e+00, 0.0000e+00, 0.0000e+00, 0.0000e+00, 0.0000e+00, 0.0000e+00, 0.0000e+00, 0.0000e+00,\n",
       "            0.0000e+00],\n",
       "           [1.0428e-01, 2.2774e-01, 7.3992e-01, 1.1597e+00, 0.0000e+00, 0.0000e+00, 0.0000e+00, 0.0000e+00, 0.0000e+00, 0.0000e+00, 0.0000e+00, 0.0000e+00, 0.0000e+00, 0.0000e+00, 0.0000e+00,\n",
       "            0.0000e+00],\n",
       "           [9.7647e-02, 2.1325e-01, 6.9283e-01, 1.0859e+00, 1.2248e+00, 0.0000e+00, 0.0000e+00, 0.0000e+00, 0.0000e+00, 0.0000e+00, 0.0000e+00, 0.0000e+00, 0.0000e+00, 0.0000e+00, 0.0000e+00,\n",
       "            0.0000e+00],\n",
       "           [6.3939e-02, 1.3963e-01, 4.5367e-01, 7.1105e-01, 8.0197e-01, 8.9838e-01, 0.0000e+00, 0.0000e+00, 0.0000e+00, 0.0000e+00, 0.0000e+00, 0.0000e+00, 0.0000e+00, 0.0000e+00, 0.0000e+00,\n",
       "            0.0000e+00],\n",
       "           [3.2530e-02, 7.1040e-02, 2.3081e-01, 3.6176e-01, 4.0802e-01, 4.5707e-01, 6.3681e-01, 0.0000e+00, 0.0000e+00, 0.0000e+00, 0.0000e+00, 0.0000e+00, 0.0000e+00, 0.0000e+00, 0.0000e+00,\n",
       "            0.0000e+00],\n",
       "           [1.5244e-02, 3.3291e-02, 1.0816e-01, 1.6953e-01, 1.9121e-01, 2.1419e-01, 2.9843e-01, 4.0030e-01, 0.0000e+00, 0.0000e+00, 0.0000e+00, 0.0000e+00, 0.0000e+00, 0.0000e+00, 0.0000e+00,\n",
       "            0.0000e+00],\n",
       "           [5.2061e-03, 1.1369e-02, 3.6939e-02, 5.7896e-02, 6.5299e-02, 7.3150e-02, 1.0192e-01, 1.3671e-01, 4.5337e-01, 0.0000e+00, 0.0000e+00, 0.0000e+00, 0.0000e+00, 0.0000e+00, 0.0000e+00,\n",
       "            0.0000e+00],\n",
       "           [8.8910e-04, 1.9417e-03, 6.3085e-03, 9.8876e-03, 1.1152e-02, 1.2492e-02, 1.7405e-02, 2.3347e-02, 7.7427e-02, 2.3628e-01, 0.0000e+00, 0.0000e+00, 0.0000e+00, 0.0000e+00, 0.0000e+00,\n",
       "            0.0000e+00],\n",
       "           [5.4480e-04, 1.1898e-03, 3.8656e-03, 6.0587e-03, 6.8334e-03, 7.6549e-03, 1.0665e-02, 1.4306e-02, 4.7444e-02, 1.4478e-01, 1.0368e+00, 0.0000e+00, 0.0000e+00, 0.0000e+00, 0.0000e+00,\n",
       "            0.0000e+00],\n",
       "           [4.3979e-04, 9.6043e-04, 3.1204e-03, 4.8908e-03, 5.5162e-03, 6.1793e-03, 8.6094e-03, 1.1548e-02, 3.8299e-02, 1.1687e-01, 8.3694e-01, 1.4175e+00, 0.0000e+00, 0.0000e+00, 0.0000e+00,\n",
       "            0.0000e+00],\n",
       "           [3.9115e-04, 8.5421e-04, 2.7753e-03, 4.3499e-03, 4.9061e-03, 5.4959e-03, 7.6573e-03, 1.0271e-02, 3.4063e-02, 1.0395e-01, 7.4438e-01, 1.2607e+00, 1.6187e+00, 0.0000e+00, 0.0000e+00,\n",
       "            0.0000e+00],\n",
       "           [1.6491e-04, 3.6014e-04, 1.1701e-03, 1.8339e-03, 2.0684e-03, 2.3171e-03, 3.2283e-03, 4.3304e-03, 1.4361e-02, 4.3824e-02, 3.1383e-01, 5.3154e-01, 6.8246e-01, 7.9430e-01, 0.0000e+00,\n",
       "            0.0000e+00],\n",
       "           [1.4183e-04, 3.0975e-04, 1.0064e-03, 1.5773e-03, 1.7790e-03, 1.9929e-03, 2.7766e-03, 3.7244e-03, 1.2352e-02, 3.7692e-02, 2.6992e-01, 4.5716e-01, 5.8696e-01, 6.8315e-01, 1.6754e+00,\n",
       "            0.0000e+00]]]], device='cuda:0'),\n",
       " torch.Size([1, 1, 32, 32]))"
      ]
     },
     "execution_count": 26,
     "metadata": {},
     "output_type": "execute_result"
    }
   ],
   "source": [
    "matC_cu[:, :, :, 16:], matC_cu.shape"
   ]
  },
  {
   "cell_type": "code",
   "execution_count": 25,
   "metadata": {},
   "outputs": [
    {
     "data": {
      "text/plain": [
       "tensor([[[[0.3891, 0.1329, 0.0227, 0.0139, 0.0112, 0.0100, 0.0042, 0.0036],\n",
       "          [0.0000, 0.0000, 0.0000, 0.0000, 0.0000, 0.0000, 0.0000, 0.0000]]]], device='cuda:0')"
      ]
     },
     "execution_count": 25,
     "metadata": {},
     "output_type": "execute_result"
    }
   ],
   "source": [
    "deltaDcsChunkArr_cu"
   ]
  },
  {
   "cell_type": "code",
   "execution_count": 26,
   "metadata": {},
   "outputs": [
    {
     "data": {
      "text/plain": [
       "(tensor([[[0.0000e+00, 0.0000e+00, 0.0000e+00, 0.0000e+00, 0.0000e+00, 0.0000e+00, 0.0000e+00, 0.0000e+00, 0.0000e+00, 0.0000e+00, 0.0000e+00, 0.0000e+00, 0.0000e+00, 0.0000e+00, 0.0000e+00,\n",
       "           0.0000e+00, 7.7359e-01, 3.7578e-01, 1.2229e-01, 8.2258e-02, 7.6685e-02, 7.1804e-02, 4.7018e-02, 2.3921e-02, 1.1210e-02, 3.8283e-03, 6.5380e-04, 4.0062e-04, 3.2340e-04, 2.8763e-04,\n",
       "           1.2127e-04, 1.0430e-04]]], device='cuda:0'),\n",
       " torch.Size([1, 1, 32]))"
      ]
     },
     "execution_count": 26,
     "metadata": {},
     "output_type": "execute_result"
    }
   ],
   "source": [
    "deltaDcsVec_cu, deltaDcsVec_cu.shape"
   ]
  },
  {
   "cell_type": "code",
   "execution_count": 27,
   "metadata": {},
   "outputs": [
    {
     "data": {
      "text/plain": [
       "tensor([[[[0.0000e+00, 0.0000e+00, 0.0000e+00, 0.0000e+00, 0.0000e+00, 0.0000e+00, 0.0000e+00, 0.0000e+00, 0.0000e+00, 0.0000e+00, 0.0000e+00, 0.0000e+00, 0.0000e+00, 0.0000e+00, 0.0000e+00,\n",
       "           0.0000e+00, 0.0000e+00, 0.0000e+00, 0.0000e+00, 0.0000e+00, 0.0000e+00, 0.0000e+00, 0.0000e+00, 0.0000e+00, 0.0000e+00, 0.0000e+00, 0.0000e+00, 0.0000e+00, 0.0000e+00, 0.0000e+00,\n",
       "           0.0000e+00],\n",
       "          [4.3366e-04, 0.0000e+00, 0.0000e+00, 0.0000e+00, 0.0000e+00, 0.0000e+00, 0.0000e+00, 0.0000e+00, 0.0000e+00, 0.0000e+00, 0.0000e+00, 0.0000e+00, 0.0000e+00, 0.0000e+00, 0.0000e+00,\n",
       "           0.0000e+00, 0.0000e+00, 0.0000e+00, 0.0000e+00, 0.0000e+00, 0.0000e+00, 0.0000e+00, 0.0000e+00, 0.0000e+00, 0.0000e+00, 0.0000e+00, 0.0000e+00, 0.0000e+00, 0.0000e+00, 0.0000e+00,\n",
       "           0.0000e+00],\n",
       "          [8.9254e-04, 4.9177e-03, 0.0000e+00, 0.0000e+00, 0.0000e+00, 0.0000e+00, 0.0000e+00, 0.0000e+00, 0.0000e+00, 0.0000e+00, 0.0000e+00, 0.0000e+00, 0.0000e+00, 0.0000e+00, 0.0000e+00,\n",
       "           0.0000e+00, 0.0000e+00, 0.0000e+00, 0.0000e+00, 0.0000e+00, 0.0000e+00, 0.0000e+00, 0.0000e+00, 0.0000e+00, 0.0000e+00, 0.0000e+00, 0.0000e+00, 0.0000e+00, 0.0000e+00, 0.0000e+00,\n",
       "           0.0000e+00],\n",
       "          [5.7532e-04, 3.1699e-03, 3.5641e-03, 0.0000e+00, 0.0000e+00, 0.0000e+00, 0.0000e+00, 0.0000e+00, 0.0000e+00, 0.0000e+00, 0.0000e+00, 0.0000e+00, 0.0000e+00, 0.0000e+00, 0.0000e+00,\n",
       "           0.0000e+00, 0.0000e+00, 0.0000e+00, 0.0000e+00, 0.0000e+00, 0.0000e+00, 0.0000e+00, 0.0000e+00, 0.0000e+00, 0.0000e+00, 0.0000e+00, 0.0000e+00, 0.0000e+00, 0.0000e+00, 0.0000e+00,\n",
       "           0.0000e+00],\n",
       "          [7.6602e-04, 4.2206e-03, 4.7456e-03, 3.1090e-02, 0.0000e+00, 0.0000e+00, 0.0000e+00, 0.0000e+00, 0.0000e+00, 0.0000e+00, 0.0000e+00, 0.0000e+00, 0.0000e+00, 0.0000e+00, 0.0000e+00,\n",
       "           0.0000e+00, 0.0000e+00, 0.0000e+00, 0.0000e+00, 0.0000e+00, 0.0000e+00, 0.0000e+00, 0.0000e+00, 0.0000e+00, 0.0000e+00, 0.0000e+00, 0.0000e+00, 0.0000e+00, 0.0000e+00, 0.0000e+00,\n",
       "           0.0000e+00],\n",
       "          [8.1001e-04, 4.4630e-03, 5.0181e-03, 3.2875e-02, 5.9596e-02, 0.0000e+00, 0.0000e+00, 0.0000e+00, 0.0000e+00, 0.0000e+00, 0.0000e+00, 0.0000e+00, 0.0000e+00, 0.0000e+00, 0.0000e+00,\n",
       "           0.0000e+00, 0.0000e+00, 0.0000e+00, 0.0000e+00, 0.0000e+00, 0.0000e+00, 0.0000e+00, 0.0000e+00, 0.0000e+00, 0.0000e+00, 0.0000e+00, 0.0000e+00, 0.0000e+00, 0.0000e+00, 0.0000e+00,\n",
       "           0.0000e+00],\n",
       "          [6.0442e-04, 3.3302e-03, 3.7444e-03, 2.4531e-02, 4.4470e-02, 6.2363e-02, 0.0000e+00, 0.0000e+00, 0.0000e+00, 0.0000e+00, 0.0000e+00, 0.0000e+00, 0.0000e+00, 0.0000e+00, 0.0000e+00,\n",
       "           0.0000e+00, 0.0000e+00, 0.0000e+00, 0.0000e+00, 0.0000e+00, 0.0000e+00, 0.0000e+00, 0.0000e+00, 0.0000e+00, 0.0000e+00, 0.0000e+00, 0.0000e+00, 0.0000e+00, 0.0000e+00, 0.0000e+00,\n",
       "           0.0000e+00],\n",
       "          [2.2652e-04, 1.2481e-03, 1.4033e-03, 9.1937e-03, 1.6666e-02, 2.3372e-02, 3.5437e-02, 0.0000e+00, 0.0000e+00, 0.0000e+00, 0.0000e+00, 0.0000e+00, 0.0000e+00, 0.0000e+00, 0.0000e+00,\n",
       "           0.0000e+00, 0.0000e+00, 0.0000e+00, 0.0000e+00, 0.0000e+00, 0.0000e+00, 0.0000e+00, 0.0000e+00, 0.0000e+00, 0.0000e+00, 0.0000e+00, 0.0000e+00, 0.0000e+00, 0.0000e+00, 0.0000e+00,\n",
       "           0.0000e+00],\n",
       "          [2.0183e-04, 1.1120e-03, 1.2503e-03, 8.1914e-03, 1.4849e-02, 2.0824e-02, 3.1574e-02, 8.2969e-02, 0.0000e+00, 0.0000e+00, 0.0000e+00, 0.0000e+00, 0.0000e+00, 0.0000e+00, 0.0000e+00,\n",
       "           0.0000e+00, 0.0000e+00, 0.0000e+00, 0.0000e+00, 0.0000e+00, 0.0000e+00, 0.0000e+00, 0.0000e+00, 0.0000e+00, 0.0000e+00, 0.0000e+00, 0.0000e+00, 0.0000e+00, 0.0000e+00, 0.0000e+00,\n",
       "           0.0000e+00],\n",
       "          [1.7858e-04, 9.8395e-04, 1.1063e-03, 7.2480e-03, 1.3139e-02, 1.8426e-02, 2.7937e-02, 7.3413e-02, 1.0456e-01, 0.0000e+00, 0.0000e+00, 0.0000e+00, 0.0000e+00, 0.0000e+00, 0.0000e+00,\n",
       "           0.0000e+00, 0.0000e+00, 0.0000e+00, 0.0000e+00, 0.0000e+00, 0.0000e+00, 0.0000e+00, 0.0000e+00, 0.0000e+00, 0.0000e+00, 0.0000e+00, 0.0000e+00, 0.0000e+00, 0.0000e+00, 0.0000e+00,\n",
       "           0.0000e+00],\n",
       "          [5.8178e-05, 3.2055e-04, 3.6042e-04, 2.3612e-03, 4.2804e-03, 6.0027e-03, 9.1013e-03, 2.3916e-02, 3.4064e-02, 6.3287e-02, 0.0000e+00, 0.0000e+00, 0.0000e+00, 0.0000e+00, 0.0000e+00,\n",
       "           0.0000e+00, 0.0000e+00, 0.0000e+00, 0.0000e+00, 0.0000e+00, 0.0000e+00, 0.0000e+00, 0.0000e+00, 0.0000e+00, 0.0000e+00, 0.0000e+00, 0.0000e+00, 0.0000e+00, 0.0000e+00, 0.0000e+00,\n",
       "           0.0000e+00],\n",
       "          [1.1208e-05, 6.1756e-05, 6.9437e-05, 4.5491e-04, 8.2465e-04, 1.1565e-03, 1.7534e-03, 4.6076e-03, 6.5626e-03, 1.2193e-02, 1.7908e-02, 0.0000e+00, 0.0000e+00, 0.0000e+00, 0.0000e+00,\n",
       "           0.0000e+00, 0.0000e+00, 0.0000e+00, 0.0000e+00, 0.0000e+00, 0.0000e+00, 0.0000e+00, 0.0000e+00, 0.0000e+00, 0.0000e+00, 0.0000e+00, 0.0000e+00, 0.0000e+00, 0.0000e+00, 0.0000e+00,\n",
       "           0.0000e+00],\n",
       "          [9.9800e-06, 5.4988e-05, 6.1827e-05, 4.0505e-04, 7.3427e-04, 1.0297e-03, 1.5613e-03, 4.1026e-03, 5.8433e-03, 1.0856e-02, 1.5946e-02, 6.5177e-01, 0.0000e+00, 0.0000e+00, 0.0000e+00,\n",
       "           0.0000e+00, 0.0000e+00, 0.0000e+00, 0.0000e+00, 0.0000e+00, 0.0000e+00, 0.0000e+00, 0.0000e+00, 0.0000e+00, 0.0000e+00, 0.0000e+00, 0.0000e+00, 0.0000e+00, 0.0000e+00, 0.0000e+00,\n",
       "           0.0000e+00],\n",
       "          [9.1144e-06, 5.0218e-05, 5.6464e-05, 3.6992e-04, 6.7058e-04, 9.4040e-04, 1.4258e-03, 3.7468e-03, 5.3365e-03, 9.9148e-03, 1.4563e-02, 5.9524e-01, 7.2696e-01, 0.0000e+00, 0.0000e+00,\n",
       "           0.0000e+00, 0.0000e+00, 0.0000e+00, 0.0000e+00, 0.0000e+00, 0.0000e+00, 0.0000e+00, 0.0000e+00, 0.0000e+00, 0.0000e+00, 0.0000e+00, 0.0000e+00, 0.0000e+00, 0.0000e+00, 0.0000e+00,\n",
       "           0.0000e+00],\n",
       "          [3.2487e-06, 1.7900e-05, 2.0126e-05, 1.3185e-04, 2.3902e-04, 3.3520e-04, 5.0823e-04, 1.3355e-03, 1.9022e-03, 3.5341e-03, 5.1907e-03, 2.1217e-01, 2.5912e-01, 3.0654e-01, 0.0000e+00,\n",
       "           0.0000e+00, 0.0000e+00, 0.0000e+00, 0.0000e+00, 0.0000e+00, 0.0000e+00, 0.0000e+00, 0.0000e+00, 0.0000e+00, 0.0000e+00, 0.0000e+00, 0.0000e+00, 0.0000e+00, 0.0000e+00, 0.0000e+00,\n",
       "           0.0000e+00],\n",
       "          [1.5167e-06, 8.3565e-06, 9.3958e-06, 6.1555e-05, 1.1159e-04, 1.5649e-04, 2.3726e-04, 6.2348e-04, 8.8801e-04, 1.6499e-03, 2.4233e-03, 9.9049e-02, 1.2097e-01, 1.4311e-01, 4.3136e-01,\n",
       "           0.0000e+00, 0.0000e+00, 0.0000e+00, 0.0000e+00, 0.0000e+00, 0.0000e+00, 0.0000e+00, 0.0000e+00, 0.0000e+00, 0.0000e+00, 0.0000e+00, 0.0000e+00, 0.0000e+00, 0.0000e+00, 0.0000e+00,\n",
       "           0.0000e+00],\n",
       "          [1.1875e-06, 6.5430e-06, 7.3568e-06, 4.8197e-05, 8.7371e-05, 1.2253e-04, 1.8577e-04, 4.8817e-04, 6.9530e-04, 1.2918e-03, 1.8974e-03, 7.7554e-02, 9.4716e-02, 1.1205e-01, 3.3775e-01,\n",
       "           7.7359e-01, 0.0000e+00, 0.0000e+00, 0.0000e+00, 0.0000e+00, 0.0000e+00, 0.0000e+00, 0.0000e+00, 0.0000e+00, 0.0000e+00, 0.0000e+00, 0.0000e+00, 0.0000e+00, 0.0000e+00, 0.0000e+00,\n",
       "           0.0000e+00],\n",
       "          [5.7686e-07, 3.1783e-06, 3.5737e-06, 2.3412e-05, 4.2442e-05, 5.9519e-05, 9.0243e-05, 2.3714e-04, 3.3775e-04, 6.2752e-04, 9.2168e-04, 3.7673e-02, 4.6010e-02, 5.4430e-02, 1.6407e-01,\n",
       "           3.7578e-01, 5.1102e-01, 0.0000e+00, 0.0000e+00, 0.0000e+00, 0.0000e+00, 0.0000e+00, 0.0000e+00, 0.0000e+00, 0.0000e+00, 0.0000e+00, 0.0000e+00, 0.0000e+00, 0.0000e+00, 0.0000e+00,\n",
       "           0.0000e+00],\n",
       "          [1.8773e-07, 1.0344e-06, 1.1630e-06, 7.6192e-06, 1.3812e-05, 1.9370e-05, 2.9368e-05, 7.7174e-05, 1.0992e-04, 2.0422e-04, 2.9995e-04, 1.2260e-02, 1.4973e-02, 1.7714e-02, 5.3394e-02,\n",
       "           1.2229e-01, 1.6631e-01, 3.6319e-01, 0.0000e+00, 0.0000e+00, 0.0000e+00, 0.0000e+00, 0.0000e+00, 0.0000e+00, 0.0000e+00, 0.0000e+00, 0.0000e+00, 0.0000e+00, 0.0000e+00, 0.0000e+00,\n",
       "           0.0000e+00],\n",
       "          [1.2627e-07, 6.9573e-07, 7.8227e-07, 5.1249e-06, 9.2904e-06, 1.3029e-05, 1.9754e-05, 5.1909e-05, 7.3933e-05, 1.3736e-04, 2.0175e-04, 8.2466e-03, 1.0071e-02, 1.1915e-02, 3.5914e-02,\n",
       "           8.2258e-02, 1.1186e-01, 2.4429e-01, 7.9370e-01, 0.0000e+00, 0.0000e+00, 0.0000e+00, 0.0000e+00, 0.0000e+00, 0.0000e+00, 0.0000e+00, 0.0000e+00, 0.0000e+00, 0.0000e+00, 0.0000e+00,\n",
       "           0.0000e+00],\n",
       "          [1.1772e-07, 6.4859e-07, 7.2926e-07, 4.7777e-06, 8.6609e-06, 1.2146e-05, 1.8416e-05, 4.8392e-05, 6.8924e-05, 1.2806e-04, 1.8808e-04, 7.6878e-03, 9.3890e-03, 1.1107e-02, 3.3481e-02,\n",
       "           7.6684e-02, 1.0428e-01, 2.2774e-01, 7.3992e-01, 1.1597e+00, 0.0000e+00, 0.0000e+00, 0.0000e+00, 0.0000e+00, 0.0000e+00, 0.0000e+00, 0.0000e+00, 0.0000e+00, 0.0000e+00, 0.0000e+00,\n",
       "           0.0000e+00],\n",
       "          [1.1023e-07, 6.0732e-07, 6.8285e-07, 4.4736e-06, 8.1098e-06, 1.1373e-05, 1.7244e-05, 4.5312e-05, 6.4538e-05, 1.1991e-04, 1.7611e-04, 7.1986e-03, 8.7915e-03, 1.0400e-02, 3.1350e-02,\n",
       "           7.1804e-02, 9.7647e-02, 2.1325e-01, 6.9283e-01, 1.0859e+00, 1.2248e+00, 0.0000e+00, 0.0000e+00, 0.0000e+00, 0.0000e+00, 0.0000e+00, 0.0000e+00, 0.0000e+00, 0.0000e+00, 0.0000e+00,\n",
       "           0.0000e+00],\n",
       "          [7.2176e-08, 3.9767e-07, 4.4713e-07, 2.9293e-06, 5.3103e-06, 7.4470e-06, 1.1291e-05, 2.9670e-05, 4.2259e-05, 7.8514e-05, 1.1532e-04, 4.7136e-03, 5.7567e-03, 6.8102e-03, 2.0528e-02,\n",
       "           4.7017e-02, 6.3939e-02, 1.3963e-01, 4.5367e-01, 7.1105e-01, 8.0197e-01, 8.9838e-01, 0.0000e+00, 0.0000e+00, 0.0000e+00, 0.0000e+00, 0.0000e+00, 0.0000e+00, 0.0000e+00, 0.0000e+00,\n",
       "           0.0000e+00],\n",
       "          [3.6721e-08, 2.0232e-07, 2.2749e-07, 1.4903e-06, 2.7017e-06, 3.7888e-06, 5.7445e-06, 1.5095e-05, 2.1500e-05, 3.9945e-05, 5.8671e-05, 2.3981e-03, 2.9288e-03, 3.4648e-03, 1.0444e-02,\n",
       "           2.3921e-02, 3.2530e-02, 7.1040e-02, 2.3081e-01, 3.6176e-01, 4.0802e-01, 4.5707e-01, 6.3681e-01, 0.0000e+00, 0.0000e+00, 0.0000e+00, 0.0000e+00, 0.0000e+00, 0.0000e+00, 0.0000e+00,\n",
       "           0.0000e+00],\n",
       "          [1.7208e-08, 9.4813e-08, 1.0661e-07, 6.9841e-07, 1.2661e-06, 1.7755e-06, 2.6920e-06, 7.0740e-06, 1.0075e-05, 1.8719e-05, 2.7495e-05, 1.1238e-03, 1.3725e-03, 1.6237e-03, 4.8943e-03,\n",
       "           1.1210e-02, 1.5244e-02, 3.3291e-02, 1.0816e-01, 1.6953e-01, 1.9121e-01, 2.1419e-01, 2.9843e-01, 4.0030e-01, 0.0000e+00, 0.0000e+00, 0.0000e+00, 0.0000e+00, 0.0000e+00, 0.0000e+00,\n",
       "           0.0000e+00],\n",
       "          [5.8768e-09, 3.2380e-08, 3.6407e-08, 2.3852e-07, 4.3238e-07, 6.0636e-07, 9.1936e-07, 2.4159e-06, 3.4409e-06, 6.3929e-06, 9.3897e-06, 3.8380e-04, 4.6873e-04, 5.5451e-04, 1.6715e-03,\n",
       "           3.8283e-03, 5.2061e-03, 1.1369e-02, 3.6939e-02, 5.7896e-02, 6.5299e-02, 7.3150e-02, 1.0192e-01, 1.3671e-01, 4.5337e-01, 0.0000e+00, 0.0000e+00, 0.0000e+00, 0.0000e+00, 0.0000e+00,\n",
       "           0.0000e+00],\n",
       "          [1.0036e-09, 5.5298e-09, 6.2176e-09, 4.0734e-08, 7.3842e-08, 1.0355e-07, 1.5701e-07, 4.1258e-07, 5.8764e-07, 1.0918e-06, 1.6036e-06, 6.5545e-05, 8.0050e-05, 9.4700e-05, 2.8545e-04,\n",
       "           6.5380e-04, 8.8910e-04, 1.9417e-03, 6.3085e-03, 9.8875e-03, 1.1152e-02, 1.2492e-02, 1.7405e-02, 2.3347e-02, 7.7427e-02, 2.3628e-01, 0.0000e+00, 0.0000e+00, 0.0000e+00, 0.0000e+00,\n",
       "           0.0000e+00],\n",
       "          [6.1499e-10, 3.3884e-09, 3.8099e-09, 2.4960e-08, 4.5247e-08, 6.3453e-08, 9.6208e-08, 2.5281e-07, 3.6008e-07, 6.6900e-07, 9.8260e-07, 4.0163e-05, 4.9051e-05, 5.8028e-05, 1.7491e-04,\n",
       "           4.0062e-04, 5.4480e-04, 1.1898e-03, 3.8656e-03, 6.0587e-03, 6.8334e-03, 7.6548e-03, 1.0665e-02, 1.4306e-02, 4.7444e-02, 1.4478e-01, 1.0368e+00, 0.0000e+00, 0.0000e+00, 0.0000e+00,\n",
       "           0.0000e+00],\n",
       "          [4.9645e-10, 2.7353e-09, 3.0755e-09, 2.0149e-08, 3.6525e-08, 5.1222e-08, 7.7663e-08, 2.0408e-07, 2.9067e-07, 5.4004e-07, 7.9320e-07, 3.2422e-05, 3.9596e-05, 4.6843e-05, 1.4120e-04,\n",
       "           3.2340e-04, 4.3979e-04, 9.6043e-04, 3.1204e-03, 4.8908e-03, 5.5162e-03, 6.1793e-03, 8.6094e-03, 1.1548e-02, 3.8299e-02, 1.1687e-01, 8.3694e-01, 1.4175e+00, 0.0000e+00, 0.0000e+00,\n",
       "           0.0000e+00],\n",
       "          [4.4154e-10, 2.4328e-09, 2.7354e-09, 1.7920e-08, 3.2486e-08, 4.5557e-08, 6.9074e-08, 1.8151e-07, 2.5852e-07, 4.8032e-07, 7.0548e-07, 2.8836e-05, 3.5217e-05, 4.1662e-05, 1.2558e-04,\n",
       "           2.8763e-04, 3.9115e-04, 8.5421e-04, 2.7753e-03, 4.3499e-03, 4.9061e-03, 5.4959e-03, 7.6573e-03, 1.0271e-02, 3.4063e-02, 1.0395e-01, 7.4438e-01, 1.2607e+00, 1.6187e+00, 0.0000e+00,\n",
       "           0.0000e+00],\n",
       "          [1.8615e-10, 1.0257e-09, 1.1532e-09, 7.5553e-09, 1.3696e-08, 1.9207e-08, 2.9122e-08, 7.6526e-08, 1.0899e-07, 2.0250e-07, 2.9743e-07, 1.2157e-05, 1.4848e-05, 1.7565e-05, 5.2946e-05,\n",
       "           1.2127e-04, 1.6491e-04, 3.6014e-04, 1.1701e-03, 1.8339e-03, 2.0684e-03, 2.3171e-03, 3.2283e-03, 4.3304e-03, 1.4361e-02, 4.3824e-02, 3.1383e-01, 5.3154e-01, 6.8246e-01, 7.9430e-01,\n",
       "           0.0000e+00],\n",
       "          [1.6011e-10, 8.8215e-10, 9.9187e-10, 6.4981e-09, 1.1780e-08, 1.6519e-08, 2.5047e-08, 6.5818e-08, 9.3743e-08, 1.7417e-07, 2.5581e-07, 1.0456e-05, 1.2770e-05, 1.5107e-05, 4.5537e-05,\n",
       "           1.0430e-04, 1.4183e-04, 3.0975e-04, 1.0064e-03, 1.5773e-03, 1.7790e-03, 1.9929e-03, 2.7766e-03, 3.7244e-03, 1.2352e-02, 3.7692e-02, 2.6992e-01, 4.5716e-01, 5.8696e-01, 6.8315e-01,\n",
       "           1.6754e+00]]]], device='cuda:0')"
      ]
     },
     "execution_count": 27,
     "metadata": {},
     "output_type": "execute_result"
    }
   ],
   "source": [
    "delta_Dtilde_pt.cumsum(-1).tril(-1)[:, :, :, :-1]"
   ]
  },
  {
   "cell_type": "code",
   "execution_count": 28,
   "metadata": {},
   "outputs": [],
   "source": [
    "# matC_cu - mat_P_pt\n",
    "# matC_cu - mat_C_pt"
   ]
  },
  {
   "cell_type": "code",
   "execution_count": 29,
   "metadata": {},
   "outputs": [
    {
     "data": {
      "text/plain": [
       "tensor([[[[0.0000e+00, 0.0000e+00, 0.0000e+00, 0.0000e+00, 0.0000e+00, 0.0000e+00, 0.0000e+00, 0.0000e+00, 0.0000e+00, 0.0000e+00, 0.0000e+00, 0.0000e+00, 0.0000e+00, 0.0000e+00, 0.0000e+00,\n",
       "           0.0000e+00, 0.0000e+00, 0.0000e+00, 0.0000e+00, 0.0000e+00, 0.0000e+00, 0.0000e+00, 0.0000e+00, 0.0000e+00, 0.0000e+00, 0.0000e+00, 0.0000e+00, 0.0000e+00, 0.0000e+00, 0.0000e+00,\n",
       "           0.0000e+00],\n",
       "          [4.3366e-04, 0.0000e+00, 0.0000e+00, 0.0000e+00, 0.0000e+00, 0.0000e+00, 0.0000e+00, 0.0000e+00, 0.0000e+00, 0.0000e+00, 0.0000e+00, 0.0000e+00, 0.0000e+00, 0.0000e+00, 0.0000e+00,\n",
       "           0.0000e+00, 0.0000e+00, 0.0000e+00, 0.0000e+00, 0.0000e+00, 0.0000e+00, 0.0000e+00, 0.0000e+00, 0.0000e+00, 0.0000e+00, 0.0000e+00, 0.0000e+00, 0.0000e+00, 0.0000e+00, 0.0000e+00,\n",
       "           0.0000e+00],\n",
       "          [8.9254e-04, 4.9177e-03, 0.0000e+00, 0.0000e+00, 0.0000e+00, 0.0000e+00, 0.0000e+00, 0.0000e+00, 0.0000e+00, 0.0000e+00, 0.0000e+00, 0.0000e+00, 0.0000e+00, 0.0000e+00, 0.0000e+00,\n",
       "           0.0000e+00, 0.0000e+00, 0.0000e+00, 0.0000e+00, 0.0000e+00, 0.0000e+00, 0.0000e+00, 0.0000e+00, 0.0000e+00, 0.0000e+00, 0.0000e+00, 0.0000e+00, 0.0000e+00, 0.0000e+00, 0.0000e+00,\n",
       "           0.0000e+00],\n",
       "          [5.7532e-04, 3.1699e-03, 3.5641e-03, 0.0000e+00, 0.0000e+00, 0.0000e+00, 0.0000e+00, 0.0000e+00, 0.0000e+00, 0.0000e+00, 0.0000e+00, 0.0000e+00, 0.0000e+00, 0.0000e+00, 0.0000e+00,\n",
       "           0.0000e+00, 0.0000e+00, 0.0000e+00, 0.0000e+00, 0.0000e+00, 0.0000e+00, 0.0000e+00, 0.0000e+00, 0.0000e+00, 0.0000e+00, 0.0000e+00, 0.0000e+00, 0.0000e+00, 0.0000e+00, 0.0000e+00,\n",
       "           0.0000e+00],\n",
       "          [7.6602e-04, 4.2206e-03, 4.7456e-03, 3.1090e-02, 0.0000e+00, 0.0000e+00, 0.0000e+00, 0.0000e+00, 0.0000e+00, 0.0000e+00, 0.0000e+00, 0.0000e+00, 0.0000e+00, 0.0000e+00, 0.0000e+00,\n",
       "           0.0000e+00, 0.0000e+00, 0.0000e+00, 0.0000e+00, 0.0000e+00, 0.0000e+00, 0.0000e+00, 0.0000e+00, 0.0000e+00, 0.0000e+00, 0.0000e+00, 0.0000e+00, 0.0000e+00, 0.0000e+00, 0.0000e+00,\n",
       "           0.0000e+00],\n",
       "          [8.1001e-04, 4.4630e-03, 5.0181e-03, 3.2875e-02, 5.9596e-02, 0.0000e+00, 0.0000e+00, 0.0000e+00, 0.0000e+00, 0.0000e+00, 0.0000e+00, 0.0000e+00, 0.0000e+00, 0.0000e+00, 0.0000e+00,\n",
       "           0.0000e+00, 0.0000e+00, 0.0000e+00, 0.0000e+00, 0.0000e+00, 0.0000e+00, 0.0000e+00, 0.0000e+00, 0.0000e+00, 0.0000e+00, 0.0000e+00, 0.0000e+00, 0.0000e+00, 0.0000e+00, 0.0000e+00,\n",
       "           0.0000e+00],\n",
       "          [6.0442e-04, 3.3302e-03, 3.7444e-03, 2.4531e-02, 4.4470e-02, 6.2363e-02, 0.0000e+00, 0.0000e+00, 0.0000e+00, 0.0000e+00, 0.0000e+00, 0.0000e+00, 0.0000e+00, 0.0000e+00, 0.0000e+00,\n",
       "           0.0000e+00, 0.0000e+00, 0.0000e+00, 0.0000e+00, 0.0000e+00, 0.0000e+00, 0.0000e+00, 0.0000e+00, 0.0000e+00, 0.0000e+00, 0.0000e+00, 0.0000e+00, 0.0000e+00, 0.0000e+00, 0.0000e+00,\n",
       "           0.0000e+00],\n",
       "          [2.2652e-04, 1.2481e-03, 1.4033e-03, 9.1937e-03, 1.6666e-02, 2.3372e-02, 3.5437e-02, 0.0000e+00, 0.0000e+00, 0.0000e+00, 0.0000e+00, 0.0000e+00, 0.0000e+00, 0.0000e+00, 0.0000e+00,\n",
       "           0.0000e+00, 0.0000e+00, 0.0000e+00, 0.0000e+00, 0.0000e+00, 0.0000e+00, 0.0000e+00, 0.0000e+00, 0.0000e+00, 0.0000e+00, 0.0000e+00, 0.0000e+00, 0.0000e+00, 0.0000e+00, 0.0000e+00,\n",
       "           0.0000e+00],\n",
       "          [2.0183e-04, 1.1120e-03, 1.2503e-03, 8.1914e-03, 1.4849e-02, 2.0824e-02, 3.1574e-02, 8.2969e-02, 0.0000e+00, 0.0000e+00, 0.0000e+00, 0.0000e+00, 0.0000e+00, 0.0000e+00, 0.0000e+00,\n",
       "           0.0000e+00, 0.0000e+00, 0.0000e+00, 0.0000e+00, 0.0000e+00, 0.0000e+00, 0.0000e+00, 0.0000e+00, 0.0000e+00, 0.0000e+00, 0.0000e+00, 0.0000e+00, 0.0000e+00, 0.0000e+00, 0.0000e+00,\n",
       "           0.0000e+00],\n",
       "          [1.7858e-04, 9.8395e-04, 1.1063e-03, 7.2480e-03, 1.3139e-02, 1.8426e-02, 2.7937e-02, 7.3413e-02, 1.0456e-01, 0.0000e+00, 0.0000e+00, 0.0000e+00, 0.0000e+00, 0.0000e+00, 0.0000e+00,\n",
       "           0.0000e+00, 0.0000e+00, 0.0000e+00, 0.0000e+00, 0.0000e+00, 0.0000e+00, 0.0000e+00, 0.0000e+00, 0.0000e+00, 0.0000e+00, 0.0000e+00, 0.0000e+00, 0.0000e+00, 0.0000e+00, 0.0000e+00,\n",
       "           0.0000e+00],\n",
       "          [5.8178e-05, 3.2055e-04, 3.6042e-04, 2.3612e-03, 4.2804e-03, 6.0027e-03, 9.1013e-03, 2.3916e-02, 3.4064e-02, 6.3287e-02, 0.0000e+00, 0.0000e+00, 0.0000e+00, 0.0000e+00, 0.0000e+00,\n",
       "           0.0000e+00, 0.0000e+00, 0.0000e+00, 0.0000e+00, 0.0000e+00, 0.0000e+00, 0.0000e+00, 0.0000e+00, 0.0000e+00, 0.0000e+00, 0.0000e+00, 0.0000e+00, 0.0000e+00, 0.0000e+00, 0.0000e+00,\n",
       "           0.0000e+00],\n",
       "          [1.1208e-05, 6.1756e-05, 6.9437e-05, 4.5491e-04, 8.2465e-04, 1.1565e-03, 1.7534e-03, 4.6077e-03, 6.5626e-03, 1.2193e-02, 1.7909e-02, 0.0000e+00, 0.0000e+00, 0.0000e+00, 0.0000e+00,\n",
       "           0.0000e+00, 0.0000e+00, 0.0000e+00, 0.0000e+00, 0.0000e+00, 0.0000e+00, 0.0000e+00, 0.0000e+00, 0.0000e+00, 0.0000e+00, 0.0000e+00, 0.0000e+00, 0.0000e+00, 0.0000e+00, 0.0000e+00,\n",
       "           0.0000e+00],\n",
       "          [9.9800e-06, 5.4988e-05, 6.1827e-05, 4.0505e-04, 7.3427e-04, 1.0297e-03, 1.5613e-03, 4.1027e-03, 5.8434e-03, 1.0857e-02, 1.5946e-02, 6.5177e-01, 0.0000e+00, 0.0000e+00, 0.0000e+00,\n",
       "           0.0000e+00, 0.0000e+00, 0.0000e+00, 0.0000e+00, 0.0000e+00, 0.0000e+00, 0.0000e+00, 0.0000e+00, 0.0000e+00, 0.0000e+00, 0.0000e+00, 0.0000e+00, 0.0000e+00, 0.0000e+00, 0.0000e+00,\n",
       "           0.0000e+00],\n",
       "          [9.1144e-06, 5.0218e-05, 5.6464e-05, 3.6992e-04, 6.7058e-04, 9.4041e-04, 1.4258e-03, 3.7468e-03, 5.3365e-03, 9.9148e-03, 1.4563e-02, 5.9524e-01, 7.2696e-01, 0.0000e+00, 0.0000e+00,\n",
       "           0.0000e+00, 0.0000e+00, 0.0000e+00, 0.0000e+00, 0.0000e+00, 0.0000e+00, 0.0000e+00, 0.0000e+00, 0.0000e+00, 0.0000e+00, 0.0000e+00, 0.0000e+00, 0.0000e+00, 0.0000e+00, 0.0000e+00,\n",
       "           0.0000e+00],\n",
       "          [3.2487e-06, 1.7900e-05, 2.0126e-05, 1.3185e-04, 2.3902e-04, 3.3520e-04, 5.0823e-04, 1.3355e-03, 1.9022e-03, 3.5341e-03, 5.1907e-03, 2.1217e-01, 2.5912e-01, 3.0654e-01, 0.0000e+00,\n",
       "           0.0000e+00, 0.0000e+00, 0.0000e+00, 0.0000e+00, 0.0000e+00, 0.0000e+00, 0.0000e+00, 0.0000e+00, 0.0000e+00, 0.0000e+00, 0.0000e+00, 0.0000e+00, 0.0000e+00, 0.0000e+00, 0.0000e+00,\n",
       "           0.0000e+00],\n",
       "          [1.5167e-06, 8.3565e-06, 9.3958e-06, 6.1555e-05, 1.1159e-04, 1.5649e-04, 2.3726e-04, 6.2348e-04, 8.8801e-04, 1.6499e-03, 2.4233e-03, 9.9050e-02, 1.2097e-01, 1.4311e-01, 4.3136e-01,\n",
       "           0.0000e+00, 0.0000e+00, 0.0000e+00, 0.0000e+00, 0.0000e+00, 0.0000e+00, 0.0000e+00, 0.0000e+00, 0.0000e+00, 0.0000e+00, 0.0000e+00, 0.0000e+00, 0.0000e+00, 0.0000e+00, 0.0000e+00,\n",
       "           0.0000e+00],\n",
       "          [1.1875e-06, 6.5430e-06, 7.3568e-06, 4.8197e-05, 8.7371e-05, 1.2253e-04, 1.8577e-04, 4.8817e-04, 6.9530e-04, 1.2918e-03, 1.8974e-03, 7.7554e-02, 9.4716e-02, 1.1205e-01, 3.3775e-01,\n",
       "           7.7359e-01, 0.0000e+00, 0.0000e+00, 0.0000e+00, 0.0000e+00, 0.0000e+00, 0.0000e+00, 0.0000e+00, 0.0000e+00, 0.0000e+00, 0.0000e+00, 0.0000e+00, 0.0000e+00, 0.0000e+00, 0.0000e+00,\n",
       "           0.0000e+00],\n",
       "          [5.7686e-07, 3.1783e-06, 3.5737e-06, 2.3412e-05, 4.2442e-05, 5.9519e-05, 9.0243e-05, 2.3714e-04, 3.3775e-04, 6.2752e-04, 9.2168e-04, 3.7673e-02, 4.6010e-02, 5.4430e-02, 1.6407e-01,\n",
       "           3.7578e-01, 5.1102e-01, 0.0000e+00, 0.0000e+00, 0.0000e+00, 0.0000e+00, 0.0000e+00, 0.0000e+00, 0.0000e+00, 0.0000e+00, 0.0000e+00, 0.0000e+00, 0.0000e+00, 0.0000e+00, 0.0000e+00,\n",
       "           0.0000e+00],\n",
       "          [1.8773e-07, 1.0344e-06, 1.1630e-06, 7.6192e-06, 1.3812e-05, 1.9370e-05, 2.9368e-05, 7.7174e-05, 1.0992e-04, 2.0422e-04, 2.9995e-04, 1.2260e-02, 1.4973e-02, 1.7714e-02, 5.3394e-02,\n",
       "           1.2229e-01, 1.6631e-01, 3.6319e-01, 0.0000e+00, 0.0000e+00, 0.0000e+00, 0.0000e+00, 0.0000e+00, 0.0000e+00, 0.0000e+00, 0.0000e+00, 0.0000e+00, 0.0000e+00, 0.0000e+00, 0.0000e+00,\n",
       "           0.0000e+00],\n",
       "          [1.2627e-07, 6.9574e-07, 7.8227e-07, 5.1249e-06, 9.2904e-06, 1.3029e-05, 1.9754e-05, 5.1909e-05, 7.3933e-05, 1.3736e-04, 2.0175e-04, 8.2466e-03, 1.0071e-02, 1.1915e-02, 3.5914e-02,\n",
       "           8.2258e-02, 1.1186e-01, 2.4429e-01, 7.9370e-01, 0.0000e+00, 0.0000e+00, 0.0000e+00, 0.0000e+00, 0.0000e+00, 0.0000e+00, 0.0000e+00, 0.0000e+00, 0.0000e+00, 0.0000e+00, 0.0000e+00,\n",
       "           0.0000e+00],\n",
       "          [1.1772e-07, 6.4859e-07, 7.2926e-07, 4.7777e-06, 8.6609e-06, 1.2146e-05, 1.8416e-05, 4.8392e-05, 6.8924e-05, 1.2806e-04, 1.8808e-04, 7.6878e-03, 9.3890e-03, 1.1107e-02, 3.3481e-02,\n",
       "           7.6685e-02, 1.0428e-01, 2.2774e-01, 7.3992e-01, 1.1597e+00, 0.0000e+00, 0.0000e+00, 0.0000e+00, 0.0000e+00, 0.0000e+00, 0.0000e+00, 0.0000e+00, 0.0000e+00, 0.0000e+00, 0.0000e+00,\n",
       "           0.0000e+00],\n",
       "          [1.1023e-07, 6.0732e-07, 6.8286e-07, 4.4736e-06, 8.1098e-06, 1.1373e-05, 1.7244e-05, 4.5312e-05, 6.4538e-05, 1.1991e-04, 1.7611e-04, 7.1986e-03, 8.7915e-03, 1.0400e-02, 3.1350e-02,\n",
       "           7.1804e-02, 9.7647e-02, 2.1325e-01, 6.9283e-01, 1.0859e+00, 1.2248e+00, 0.0000e+00, 0.0000e+00, 0.0000e+00, 0.0000e+00, 0.0000e+00, 0.0000e+00, 0.0000e+00, 0.0000e+00, 0.0000e+00,\n",
       "           0.0000e+00],\n",
       "          [7.2176e-08, 3.9767e-07, 4.4713e-07, 2.9293e-06, 5.3103e-06, 7.4470e-06, 1.1291e-05, 2.9670e-05, 4.2259e-05, 7.8514e-05, 1.1532e-04, 4.7136e-03, 5.7567e-03, 6.8102e-03, 2.0528e-02,\n",
       "           4.7018e-02, 6.3939e-02, 1.3963e-01, 4.5367e-01, 7.1105e-01, 8.0197e-01, 8.9838e-01, 0.0000e+00, 0.0000e+00, 0.0000e+00, 0.0000e+00, 0.0000e+00, 0.0000e+00, 0.0000e+00, 0.0000e+00,\n",
       "           0.0000e+00],\n",
       "          [3.6720e-08, 2.0232e-07, 2.2749e-07, 1.4903e-06, 2.7017e-06, 3.7887e-06, 5.7445e-06, 1.5095e-05, 2.1500e-05, 3.9945e-05, 5.8671e-05, 2.3981e-03, 2.9288e-03, 3.4648e-03, 1.0444e-02,\n",
       "           2.3921e-02, 3.2530e-02, 7.1040e-02, 2.3081e-01, 3.6176e-01, 4.0802e-01, 4.5707e-01, 6.3681e-01, 0.0000e+00, 0.0000e+00, 0.0000e+00, 0.0000e+00, 0.0000e+00, 0.0000e+00, 0.0000e+00,\n",
       "           0.0000e+00],\n",
       "          [1.7208e-08, 9.4813e-08, 1.0661e-07, 6.9841e-07, 1.2661e-06, 1.7755e-06, 2.6920e-06, 7.0740e-06, 1.0075e-05, 1.8719e-05, 2.7494e-05, 1.1238e-03, 1.3725e-03, 1.6237e-03, 4.8943e-03,\n",
       "           1.1210e-02, 1.5244e-02, 3.3291e-02, 1.0816e-01, 1.6953e-01, 1.9121e-01, 2.1419e-01, 2.9843e-01, 4.0030e-01, 0.0000e+00, 0.0000e+00, 0.0000e+00, 0.0000e+00, 0.0000e+00, 0.0000e+00,\n",
       "           0.0000e+00],\n",
       "          [5.8768e-09, 3.2380e-08, 3.6407e-08, 2.3852e-07, 4.3238e-07, 6.0636e-07, 9.1936e-07, 2.4159e-06, 3.4409e-06, 6.3929e-06, 9.3897e-06, 3.8380e-04, 4.6873e-04, 5.5451e-04, 1.6715e-03,\n",
       "           3.8283e-03, 5.2061e-03, 1.1369e-02, 3.6939e-02, 5.7896e-02, 6.5299e-02, 7.3150e-02, 1.0192e-01, 1.3671e-01, 4.5337e-01, 0.0000e+00, 0.0000e+00, 0.0000e+00, 0.0000e+00, 0.0000e+00,\n",
       "           0.0000e+00],\n",
       "          [1.0036e-09, 5.5298e-09, 6.2176e-09, 4.0734e-08, 7.3842e-08, 1.0355e-07, 1.5701e-07, 4.1258e-07, 5.8764e-07, 1.0918e-06, 1.6036e-06, 6.5545e-05, 8.0050e-05, 9.4700e-05, 2.8545e-04,\n",
       "           6.5380e-04, 8.8910e-04, 1.9417e-03, 6.3085e-03, 9.8876e-03, 1.1152e-02, 1.2492e-02, 1.7405e-02, 2.3347e-02, 7.7427e-02, 2.3628e-01, 0.0000e+00, 0.0000e+00, 0.0000e+00, 0.0000e+00,\n",
       "           0.0000e+00],\n",
       "          [6.1499e-10, 3.3884e-09, 3.8099e-09, 2.4960e-08, 4.5247e-08, 6.3453e-08, 9.6208e-08, 2.5281e-07, 3.6008e-07, 6.6900e-07, 9.8260e-07, 4.0163e-05, 4.9051e-05, 5.8028e-05, 1.7491e-04,\n",
       "           4.0062e-04, 5.4480e-04, 1.1898e-03, 3.8656e-03, 6.0587e-03, 6.8334e-03, 7.6549e-03, 1.0665e-02, 1.4306e-02, 4.7444e-02, 1.4478e-01, 1.0368e+00, 0.0000e+00, 0.0000e+00, 0.0000e+00,\n",
       "           0.0000e+00],\n",
       "          [4.9644e-10, 2.7353e-09, 3.0755e-09, 2.0149e-08, 3.6525e-08, 5.1222e-08, 7.7663e-08, 2.0408e-07, 2.9067e-07, 5.4004e-07, 7.9320e-07, 3.2422e-05, 3.9596e-05, 4.6843e-05, 1.4120e-04,\n",
       "           3.2340e-04, 4.3979e-04, 9.6043e-04, 3.1204e-03, 4.8908e-03, 5.5162e-03, 6.1793e-03, 8.6094e-03, 1.1548e-02, 3.8299e-02, 1.1687e-01, 8.3694e-01, 1.4175e+00, 0.0000e+00, 0.0000e+00,\n",
       "           0.0000e+00],\n",
       "          [4.4154e-10, 2.4328e-09, 2.7354e-09, 1.7920e-08, 3.2486e-08, 4.5557e-08, 6.9074e-08, 1.8151e-07, 2.5852e-07, 4.8032e-07, 7.0548e-07, 2.8836e-05, 3.5217e-05, 4.1662e-05, 1.2558e-04,\n",
       "           2.8763e-04, 3.9115e-04, 8.5421e-04, 2.7753e-03, 4.3499e-03, 4.9061e-03, 5.4959e-03, 7.6573e-03, 1.0271e-02, 3.4063e-02, 1.0395e-01, 7.4438e-01, 1.2607e+00, 1.6187e+00, 0.0000e+00,\n",
       "           0.0000e+00],\n",
       "          [1.8615e-10, 1.0257e-09, 1.1532e-09, 7.5553e-09, 1.3696e-08, 1.9207e-08, 2.9122e-08, 7.6526e-08, 1.0899e-07, 2.0250e-07, 2.9743e-07, 1.2157e-05, 1.4848e-05, 1.7565e-05, 5.2946e-05,\n",
       "           1.2127e-04, 1.6491e-04, 3.6014e-04, 1.1701e-03, 1.8339e-03, 2.0684e-03, 2.3171e-03, 3.2283e-03, 4.3304e-03, 1.4361e-02, 4.3824e-02, 3.1383e-01, 5.3154e-01, 6.8246e-01, 7.9430e-01,\n",
       "           0.0000e+00],\n",
       "          [1.6011e-10, 8.8215e-10, 9.9187e-10, 6.4981e-09, 1.1780e-08, 1.6519e-08, 2.5047e-08, 6.5818e-08, 9.3743e-08, 1.7417e-07, 2.5581e-07, 1.0456e-05, 1.2770e-05, 1.5107e-05, 4.5537e-05,\n",
       "           1.0430e-04, 1.4183e-04, 3.0975e-04, 1.0064e-03, 1.5773e-03, 1.7790e-03, 1.9929e-03, 2.7766e-03, 3.7244e-03, 1.2352e-02, 3.7692e-02, 2.6992e-01, 4.5716e-01, 5.8696e-01, 6.8315e-01,\n",
       "           1.6754e+00]]]], device='cuda:0')"
      ]
     },
     "execution_count": 29,
     "metadata": {},
     "output_type": "execute_result"
    }
   ],
   "source": [
    "matC_cu[:, :, :, :-1]"
   ]
  },
  {
   "cell_type": "code",
   "execution_count": 30,
   "metadata": {},
   "outputs": [
    {
     "data": {
      "text/plain": [
       "tensor([[[[0.0000e+00, 0.0000e+00, 0.0000e+00, 0.0000e+00, 0.0000e+00, 0.0000e+00, 0.0000e+00, 0.0000e+00, 0.0000e+00, 0.0000e+00, 0.0000e+00, 0.0000e+00, 0.0000e+00, 0.0000e+00, 0.0000e+00,\n",
       "           0.0000e+00, 0.0000e+00, 0.0000e+00, 0.0000e+00, 0.0000e+00, 0.0000e+00, 0.0000e+00, 0.0000e+00, 0.0000e+00, 0.0000e+00, 0.0000e+00, 0.0000e+00, 0.0000e+00, 0.0000e+00, 0.0000e+00,\n",
       "           0.0000e+00],\n",
       "          [4.3366e-04, 0.0000e+00, 0.0000e+00, 0.0000e+00, 0.0000e+00, 0.0000e+00, 0.0000e+00, 0.0000e+00, 0.0000e+00, 0.0000e+00, 0.0000e+00, 0.0000e+00, 0.0000e+00, 0.0000e+00, 0.0000e+00,\n",
       "           0.0000e+00, 0.0000e+00, 0.0000e+00, 0.0000e+00, 0.0000e+00, 0.0000e+00, 0.0000e+00, 0.0000e+00, 0.0000e+00, 0.0000e+00, 0.0000e+00, 0.0000e+00, 0.0000e+00, 0.0000e+00, 0.0000e+00,\n",
       "           0.0000e+00],\n",
       "          [8.9254e-04, 4.9177e-03, 0.0000e+00, 0.0000e+00, 0.0000e+00, 0.0000e+00, 0.0000e+00, 0.0000e+00, 0.0000e+00, 0.0000e+00, 0.0000e+00, 0.0000e+00, 0.0000e+00, 0.0000e+00, 0.0000e+00,\n",
       "           0.0000e+00, 0.0000e+00, 0.0000e+00, 0.0000e+00, 0.0000e+00, 0.0000e+00, 0.0000e+00, 0.0000e+00, 0.0000e+00, 0.0000e+00, 0.0000e+00, 0.0000e+00, 0.0000e+00, 0.0000e+00, 0.0000e+00,\n",
       "           0.0000e+00],\n",
       "          [5.7532e-04, 3.1699e-03, 3.5641e-03, 0.0000e+00, 0.0000e+00, 0.0000e+00, 0.0000e+00, 0.0000e+00, 0.0000e+00, 0.0000e+00, 0.0000e+00, 0.0000e+00, 0.0000e+00, 0.0000e+00, 0.0000e+00,\n",
       "           0.0000e+00, 0.0000e+00, 0.0000e+00, 0.0000e+00, 0.0000e+00, 0.0000e+00, 0.0000e+00, 0.0000e+00, 0.0000e+00, 0.0000e+00, 0.0000e+00, 0.0000e+00, 0.0000e+00, 0.0000e+00, 0.0000e+00,\n",
       "           0.0000e+00],\n",
       "          [7.6602e-04, 4.2206e-03, 4.7456e-03, 3.1090e-02, 0.0000e+00, 0.0000e+00, 0.0000e+00, 0.0000e+00, 0.0000e+00, 0.0000e+00, 0.0000e+00, 0.0000e+00, 0.0000e+00, 0.0000e+00, 0.0000e+00,\n",
       "           0.0000e+00, 0.0000e+00, 0.0000e+00, 0.0000e+00, 0.0000e+00, 0.0000e+00, 0.0000e+00, 0.0000e+00, 0.0000e+00, 0.0000e+00, 0.0000e+00, 0.0000e+00, 0.0000e+00, 0.0000e+00, 0.0000e+00,\n",
       "           0.0000e+00],\n",
       "          [8.1001e-04, 4.4630e-03, 5.0181e-03, 3.2875e-02, 5.9596e-02, 0.0000e+00, 0.0000e+00, 0.0000e+00, 0.0000e+00, 0.0000e+00, 0.0000e+00, 0.0000e+00, 0.0000e+00, 0.0000e+00, 0.0000e+00,\n",
       "           0.0000e+00, 0.0000e+00, 0.0000e+00, 0.0000e+00, 0.0000e+00, 0.0000e+00, 0.0000e+00, 0.0000e+00, 0.0000e+00, 0.0000e+00, 0.0000e+00, 0.0000e+00, 0.0000e+00, 0.0000e+00, 0.0000e+00,\n",
       "           0.0000e+00],\n",
       "          [6.0442e-04, 3.3302e-03, 3.7444e-03, 2.4531e-02, 4.4470e-02, 6.2363e-02, 0.0000e+00, 0.0000e+00, 0.0000e+00, 0.0000e+00, 0.0000e+00, 0.0000e+00, 0.0000e+00, 0.0000e+00, 0.0000e+00,\n",
       "           0.0000e+00, 0.0000e+00, 0.0000e+00, 0.0000e+00, 0.0000e+00, 0.0000e+00, 0.0000e+00, 0.0000e+00, 0.0000e+00, 0.0000e+00, 0.0000e+00, 0.0000e+00, 0.0000e+00, 0.0000e+00, 0.0000e+00,\n",
       "           0.0000e+00],\n",
       "          [2.2652e-04, 1.2481e-03, 1.4033e-03, 9.1937e-03, 1.6666e-02, 2.3372e-02, 3.5437e-02, 0.0000e+00, 0.0000e+00, 0.0000e+00, 0.0000e+00, 0.0000e+00, 0.0000e+00, 0.0000e+00, 0.0000e+00,\n",
       "           0.0000e+00, 0.0000e+00, 0.0000e+00, 0.0000e+00, 0.0000e+00, 0.0000e+00, 0.0000e+00, 0.0000e+00, 0.0000e+00, 0.0000e+00, 0.0000e+00, 0.0000e+00, 0.0000e+00, 0.0000e+00, 0.0000e+00,\n",
       "           0.0000e+00],\n",
       "          [2.0183e-04, 1.1120e-03, 1.2503e-03, 8.1914e-03, 1.4849e-02, 2.0824e-02, 3.1574e-02, 8.2969e-02, 0.0000e+00, 0.0000e+00, 0.0000e+00, 0.0000e+00, 0.0000e+00, 0.0000e+00, 0.0000e+00,\n",
       "           0.0000e+00, 0.0000e+00, 0.0000e+00, 0.0000e+00, 0.0000e+00, 0.0000e+00, 0.0000e+00, 0.0000e+00, 0.0000e+00, 0.0000e+00, 0.0000e+00, 0.0000e+00, 0.0000e+00, 0.0000e+00, 0.0000e+00,\n",
       "           0.0000e+00],\n",
       "          [1.7858e-04, 9.8395e-04, 1.1063e-03, 7.2480e-03, 1.3139e-02, 1.8426e-02, 2.7937e-02, 7.3413e-02, 1.0456e-01, 0.0000e+00, 0.0000e+00, 0.0000e+00, 0.0000e+00, 0.0000e+00, 0.0000e+00,\n",
       "           0.0000e+00, 0.0000e+00, 0.0000e+00, 0.0000e+00, 0.0000e+00, 0.0000e+00, 0.0000e+00, 0.0000e+00, 0.0000e+00, 0.0000e+00, 0.0000e+00, 0.0000e+00, 0.0000e+00, 0.0000e+00, 0.0000e+00,\n",
       "           0.0000e+00],\n",
       "          [5.8178e-05, 3.2055e-04, 3.6042e-04, 2.3612e-03, 4.2804e-03, 6.0027e-03, 9.1013e-03, 2.3916e-02, 3.4064e-02, 6.3287e-02, 0.0000e+00, 0.0000e+00, 0.0000e+00, 0.0000e+00, 0.0000e+00,\n",
       "           0.0000e+00, 0.0000e+00, 0.0000e+00, 0.0000e+00, 0.0000e+00, 0.0000e+00, 0.0000e+00, 0.0000e+00, 0.0000e+00, 0.0000e+00, 0.0000e+00, 0.0000e+00, 0.0000e+00, 0.0000e+00, 0.0000e+00,\n",
       "           0.0000e+00],\n",
       "          [1.1208e-05, 6.1756e-05, 6.9437e-05, 4.5491e-04, 8.2465e-04, 1.1565e-03, 1.7534e-03, 4.6076e-03, 6.5626e-03, 1.2193e-02, 1.7908e-02, 0.0000e+00, 0.0000e+00, 0.0000e+00, 0.0000e+00,\n",
       "           0.0000e+00, 0.0000e+00, 0.0000e+00, 0.0000e+00, 0.0000e+00, 0.0000e+00, 0.0000e+00, 0.0000e+00, 0.0000e+00, 0.0000e+00, 0.0000e+00, 0.0000e+00, 0.0000e+00, 0.0000e+00, 0.0000e+00,\n",
       "           0.0000e+00],\n",
       "          [9.9800e-06, 5.4988e-05, 6.1827e-05, 4.0505e-04, 7.3427e-04, 1.0297e-03, 1.5613e-03, 4.1026e-03, 5.8433e-03, 1.0856e-02, 1.5946e-02, 6.5177e-01, 0.0000e+00, 0.0000e+00, 0.0000e+00,\n",
       "           0.0000e+00, 0.0000e+00, 0.0000e+00, 0.0000e+00, 0.0000e+00, 0.0000e+00, 0.0000e+00, 0.0000e+00, 0.0000e+00, 0.0000e+00, 0.0000e+00, 0.0000e+00, 0.0000e+00, 0.0000e+00, 0.0000e+00,\n",
       "           0.0000e+00],\n",
       "          [9.1144e-06, 5.0218e-05, 5.6464e-05, 3.6992e-04, 6.7058e-04, 9.4040e-04, 1.4258e-03, 3.7468e-03, 5.3365e-03, 9.9148e-03, 1.4563e-02, 5.9524e-01, 7.2696e-01, 0.0000e+00, 0.0000e+00,\n",
       "           0.0000e+00, 0.0000e+00, 0.0000e+00, 0.0000e+00, 0.0000e+00, 0.0000e+00, 0.0000e+00, 0.0000e+00, 0.0000e+00, 0.0000e+00, 0.0000e+00, 0.0000e+00, 0.0000e+00, 0.0000e+00, 0.0000e+00,\n",
       "           0.0000e+00],\n",
       "          [3.2487e-06, 1.7900e-05, 2.0126e-05, 1.3185e-04, 2.3902e-04, 3.3520e-04, 5.0823e-04, 1.3355e-03, 1.9022e-03, 3.5341e-03, 5.1907e-03, 2.1217e-01, 2.5912e-01, 3.0654e-01, 0.0000e+00,\n",
       "           0.0000e+00, 0.0000e+00, 0.0000e+00, 0.0000e+00, 0.0000e+00, 0.0000e+00, 0.0000e+00, 0.0000e+00, 0.0000e+00, 0.0000e+00, 0.0000e+00, 0.0000e+00, 0.0000e+00, 0.0000e+00, 0.0000e+00,\n",
       "           0.0000e+00],\n",
       "          [1.5167e-06, 8.3565e-06, 9.3958e-06, 6.1555e-05, 1.1159e-04, 1.5649e-04, 2.3726e-04, 6.2348e-04, 8.8801e-04, 1.6499e-03, 2.4233e-03, 9.9049e-02, 1.2097e-01, 1.4311e-01, 4.3136e-01,\n",
       "           0.0000e+00, 0.0000e+00, 0.0000e+00, 0.0000e+00, 0.0000e+00, 0.0000e+00, 0.0000e+00, 0.0000e+00, 0.0000e+00, 0.0000e+00, 0.0000e+00, 0.0000e+00, 0.0000e+00, 0.0000e+00, 0.0000e+00,\n",
       "           0.0000e+00],\n",
       "          [1.1875e-06, 6.5430e-06, 7.3568e-06, 4.8197e-05, 8.7371e-05, 1.2253e-04, 1.8577e-04, 4.8817e-04, 6.9530e-04, 1.2918e-03, 1.8974e-03, 7.7554e-02, 9.4716e-02, 1.1205e-01, 3.3775e-01,\n",
       "           7.7359e-01, 0.0000e+00, 0.0000e+00, 0.0000e+00, 0.0000e+00, 0.0000e+00, 0.0000e+00, 0.0000e+00, 0.0000e+00, 0.0000e+00, 0.0000e+00, 0.0000e+00, 0.0000e+00, 0.0000e+00, 0.0000e+00,\n",
       "           0.0000e+00],\n",
       "          [5.7686e-07, 3.1783e-06, 3.5737e-06, 2.3412e-05, 4.2442e-05, 5.9519e-05, 9.0243e-05, 2.3714e-04, 3.3775e-04, 6.2752e-04, 9.2168e-04, 3.7673e-02, 4.6010e-02, 5.4430e-02, 1.6407e-01,\n",
       "           3.7578e-01, 5.1102e-01, 0.0000e+00, 0.0000e+00, 0.0000e+00, 0.0000e+00, 0.0000e+00, 0.0000e+00, 0.0000e+00, 0.0000e+00, 0.0000e+00, 0.0000e+00, 0.0000e+00, 0.0000e+00, 0.0000e+00,\n",
       "           0.0000e+00],\n",
       "          [1.8773e-07, 1.0344e-06, 1.1630e-06, 7.6192e-06, 1.3812e-05, 1.9370e-05, 2.9368e-05, 7.7174e-05, 1.0992e-04, 2.0422e-04, 2.9995e-04, 1.2260e-02, 1.4973e-02, 1.7714e-02, 5.3394e-02,\n",
       "           1.2229e-01, 1.6631e-01, 3.6319e-01, 0.0000e+00, 0.0000e+00, 0.0000e+00, 0.0000e+00, 0.0000e+00, 0.0000e+00, 0.0000e+00, 0.0000e+00, 0.0000e+00, 0.0000e+00, 0.0000e+00, 0.0000e+00,\n",
       "           0.0000e+00],\n",
       "          [1.2627e-07, 6.9573e-07, 7.8227e-07, 5.1249e-06, 9.2904e-06, 1.3029e-05, 1.9754e-05, 5.1909e-05, 7.3933e-05, 1.3736e-04, 2.0175e-04, 8.2466e-03, 1.0071e-02, 1.1915e-02, 3.5914e-02,\n",
       "           8.2258e-02, 1.1186e-01, 2.4429e-01, 7.9370e-01, 0.0000e+00, 0.0000e+00, 0.0000e+00, 0.0000e+00, 0.0000e+00, 0.0000e+00, 0.0000e+00, 0.0000e+00, 0.0000e+00, 0.0000e+00, 0.0000e+00,\n",
       "           0.0000e+00],\n",
       "          [1.1772e-07, 6.4859e-07, 7.2926e-07, 4.7777e-06, 8.6609e-06, 1.2146e-05, 1.8416e-05, 4.8392e-05, 6.8924e-05, 1.2806e-04, 1.8808e-04, 7.6878e-03, 9.3890e-03, 1.1107e-02, 3.3481e-02,\n",
       "           7.6684e-02, 1.0428e-01, 2.2774e-01, 7.3992e-01, 1.1597e+00, 0.0000e+00, 0.0000e+00, 0.0000e+00, 0.0000e+00, 0.0000e+00, 0.0000e+00, 0.0000e+00, 0.0000e+00, 0.0000e+00, 0.0000e+00,\n",
       "           0.0000e+00],\n",
       "          [1.1023e-07, 6.0732e-07, 6.8285e-07, 4.4736e-06, 8.1098e-06, 1.1373e-05, 1.7244e-05, 4.5312e-05, 6.4538e-05, 1.1991e-04, 1.7611e-04, 7.1986e-03, 8.7915e-03, 1.0400e-02, 3.1350e-02,\n",
       "           7.1804e-02, 9.7647e-02, 2.1325e-01, 6.9283e-01, 1.0859e+00, 1.2248e+00, 0.0000e+00, 0.0000e+00, 0.0000e+00, 0.0000e+00, 0.0000e+00, 0.0000e+00, 0.0000e+00, 0.0000e+00, 0.0000e+00,\n",
       "           0.0000e+00],\n",
       "          [7.2176e-08, 3.9767e-07, 4.4713e-07, 2.9293e-06, 5.3103e-06, 7.4470e-06, 1.1291e-05, 2.9670e-05, 4.2259e-05, 7.8514e-05, 1.1532e-04, 4.7136e-03, 5.7567e-03, 6.8102e-03, 2.0528e-02,\n",
       "           4.7017e-02, 6.3939e-02, 1.3963e-01, 4.5367e-01, 7.1105e-01, 8.0197e-01, 8.9838e-01, 0.0000e+00, 0.0000e+00, 0.0000e+00, 0.0000e+00, 0.0000e+00, 0.0000e+00, 0.0000e+00, 0.0000e+00,\n",
       "           0.0000e+00],\n",
       "          [3.6721e-08, 2.0232e-07, 2.2749e-07, 1.4903e-06, 2.7017e-06, 3.7888e-06, 5.7445e-06, 1.5095e-05, 2.1500e-05, 3.9945e-05, 5.8671e-05, 2.3981e-03, 2.9288e-03, 3.4648e-03, 1.0444e-02,\n",
       "           2.3921e-02, 3.2530e-02, 7.1040e-02, 2.3081e-01, 3.6176e-01, 4.0802e-01, 4.5707e-01, 6.3681e-01, 0.0000e+00, 0.0000e+00, 0.0000e+00, 0.0000e+00, 0.0000e+00, 0.0000e+00, 0.0000e+00,\n",
       "           0.0000e+00],\n",
       "          [1.7208e-08, 9.4813e-08, 1.0661e-07, 6.9841e-07, 1.2661e-06, 1.7755e-06, 2.6920e-06, 7.0740e-06, 1.0075e-05, 1.8719e-05, 2.7495e-05, 1.1238e-03, 1.3725e-03, 1.6237e-03, 4.8943e-03,\n",
       "           1.1210e-02, 1.5244e-02, 3.3291e-02, 1.0816e-01, 1.6953e-01, 1.9121e-01, 2.1419e-01, 2.9843e-01, 4.0030e-01, 0.0000e+00, 0.0000e+00, 0.0000e+00, 0.0000e+00, 0.0000e+00, 0.0000e+00,\n",
       "           0.0000e+00],\n",
       "          [5.8768e-09, 3.2380e-08, 3.6407e-08, 2.3852e-07, 4.3238e-07, 6.0636e-07, 9.1936e-07, 2.4159e-06, 3.4409e-06, 6.3929e-06, 9.3897e-06, 3.8380e-04, 4.6873e-04, 5.5451e-04, 1.6715e-03,\n",
       "           3.8283e-03, 5.2061e-03, 1.1369e-02, 3.6939e-02, 5.7896e-02, 6.5299e-02, 7.3150e-02, 1.0192e-01, 1.3671e-01, 4.5337e-01, 0.0000e+00, 0.0000e+00, 0.0000e+00, 0.0000e+00, 0.0000e+00,\n",
       "           0.0000e+00],\n",
       "          [1.0036e-09, 5.5298e-09, 6.2176e-09, 4.0734e-08, 7.3842e-08, 1.0355e-07, 1.5701e-07, 4.1258e-07, 5.8764e-07, 1.0918e-06, 1.6036e-06, 6.5545e-05, 8.0050e-05, 9.4700e-05, 2.8545e-04,\n",
       "           6.5380e-04, 8.8910e-04, 1.9417e-03, 6.3085e-03, 9.8875e-03, 1.1152e-02, 1.2492e-02, 1.7405e-02, 2.3347e-02, 7.7427e-02, 2.3628e-01, 0.0000e+00, 0.0000e+00, 0.0000e+00, 0.0000e+00,\n",
       "           0.0000e+00],\n",
       "          [6.1499e-10, 3.3884e-09, 3.8099e-09, 2.4960e-08, 4.5247e-08, 6.3453e-08, 9.6208e-08, 2.5281e-07, 3.6008e-07, 6.6900e-07, 9.8260e-07, 4.0163e-05, 4.9051e-05, 5.8028e-05, 1.7491e-04,\n",
       "           4.0062e-04, 5.4480e-04, 1.1898e-03, 3.8656e-03, 6.0587e-03, 6.8334e-03, 7.6548e-03, 1.0665e-02, 1.4306e-02, 4.7444e-02, 1.4478e-01, 1.0368e+00, 0.0000e+00, 0.0000e+00, 0.0000e+00,\n",
       "           0.0000e+00],\n",
       "          [4.9645e-10, 2.7353e-09, 3.0755e-09, 2.0149e-08, 3.6525e-08, 5.1222e-08, 7.7663e-08, 2.0408e-07, 2.9067e-07, 5.4004e-07, 7.9320e-07, 3.2422e-05, 3.9596e-05, 4.6843e-05, 1.4120e-04,\n",
       "           3.2340e-04, 4.3979e-04, 9.6043e-04, 3.1204e-03, 4.8908e-03, 5.5162e-03, 6.1793e-03, 8.6094e-03, 1.1548e-02, 3.8299e-02, 1.1687e-01, 8.3694e-01, 1.4175e+00, 0.0000e+00, 0.0000e+00,\n",
       "           0.0000e+00],\n",
       "          [4.4154e-10, 2.4328e-09, 2.7354e-09, 1.7920e-08, 3.2486e-08, 4.5557e-08, 6.9074e-08, 1.8151e-07, 2.5852e-07, 4.8032e-07, 7.0548e-07, 2.8836e-05, 3.5217e-05, 4.1662e-05, 1.2558e-04,\n",
       "           2.8763e-04, 3.9115e-04, 8.5421e-04, 2.7753e-03, 4.3499e-03, 4.9061e-03, 5.4959e-03, 7.6573e-03, 1.0271e-02, 3.4063e-02, 1.0395e-01, 7.4438e-01, 1.2607e+00, 1.6187e+00, 0.0000e+00,\n",
       "           0.0000e+00],\n",
       "          [1.8615e-10, 1.0257e-09, 1.1532e-09, 7.5553e-09, 1.3696e-08, 1.9207e-08, 2.9122e-08, 7.6526e-08, 1.0899e-07, 2.0250e-07, 2.9743e-07, 1.2157e-05, 1.4848e-05, 1.7565e-05, 5.2946e-05,\n",
       "           1.2127e-04, 1.6491e-04, 3.6014e-04, 1.1701e-03, 1.8339e-03, 2.0684e-03, 2.3171e-03, 3.2283e-03, 4.3304e-03, 1.4361e-02, 4.3824e-02, 3.1383e-01, 5.3154e-01, 6.8246e-01, 7.9430e-01,\n",
       "           0.0000e+00],\n",
       "          [1.6011e-10, 8.8215e-10, 9.9187e-10, 6.4981e-09, 1.1780e-08, 1.6519e-08, 2.5047e-08, 6.5818e-08, 9.3743e-08, 1.7417e-07, 2.5581e-07, 1.0456e-05, 1.2770e-05, 1.5107e-05, 4.5537e-05,\n",
       "           1.0430e-04, 1.4183e-04, 3.0975e-04, 1.0064e-03, 1.5773e-03, 1.7790e-03, 1.9929e-03, 2.7766e-03, 3.7244e-03, 1.2352e-02, 3.7692e-02, 2.6992e-01, 4.5716e-01, 5.8696e-01, 6.8315e-01,\n",
       "           1.6754e+00]]]], device='cuda:0')"
      ]
     },
     "execution_count": 30,
     "metadata": {},
     "output_type": "execute_result"
    }
   ],
   "source": [
    "delta_Dtilde_pt.cumsum(-1).tril(-1)[:, :, :, :-1]"
   ]
  },
  {
   "cell_type": "code",
   "execution_count": 31,
   "metadata": {},
   "outputs": [
    {
     "data": {
      "text/plain": [
       "tensor([[[[ 0.0000e+00,  0.0000e+00,  0.0000e+00,  0.0000e+00,  0.0000e+00,  0.0000e+00,  0.0000e+00,  0.0000e+00,  0.0000e+00,  0.0000e+00,  0.0000e+00,  0.0000e+00,  0.0000e+00,  0.0000e+00,\n",
       "            0.0000e+00,  0.0000e+00,  0.0000e+00,  0.0000e+00,  0.0000e+00,  0.0000e+00,  0.0000e+00,  0.0000e+00,  0.0000e+00,  0.0000e+00,  0.0000e+00,  0.0000e+00,  0.0000e+00,  0.0000e+00,\n",
       "            0.0000e+00,  0.0000e+00],\n",
       "          [-2.0373e-10,  0.0000e+00,  0.0000e+00,  0.0000e+00,  0.0000e+00,  0.0000e+00,  0.0000e+00,  0.0000e+00,  0.0000e+00,  0.0000e+00,  0.0000e+00,  0.0000e+00,  0.0000e+00,  0.0000e+00,\n",
       "            0.0000e+00,  0.0000e+00,  0.0000e+00,  0.0000e+00,  0.0000e+00,  0.0000e+00,  0.0000e+00,  0.0000e+00,  0.0000e+00,  0.0000e+00,  0.0000e+00,  0.0000e+00,  0.0000e+00,  0.0000e+00,\n",
       "            0.0000e+00,  0.0000e+00],\n",
       "          [-2.3283e-10, -1.8626e-09,  0.0000e+00,  0.0000e+00,  0.0000e+00,  0.0000e+00,  0.0000e+00,  0.0000e+00,  0.0000e+00,  0.0000e+00,  0.0000e+00,  0.0000e+00,  0.0000e+00,  0.0000e+00,\n",
       "            0.0000e+00,  0.0000e+00,  0.0000e+00,  0.0000e+00,  0.0000e+00,  0.0000e+00,  0.0000e+00,  0.0000e+00,  0.0000e+00,  0.0000e+00,  0.0000e+00,  0.0000e+00,  0.0000e+00,  0.0000e+00,\n",
       "            0.0000e+00,  0.0000e+00],\n",
       "          [-5.8208e-10, -3.9581e-09, -4.4238e-09,  0.0000e+00,  0.0000e+00,  0.0000e+00,  0.0000e+00,  0.0000e+00,  0.0000e+00,  0.0000e+00,  0.0000e+00,  0.0000e+00,  0.0000e+00,  0.0000e+00,\n",
       "            0.0000e+00,  0.0000e+00,  0.0000e+00,  0.0000e+00,  0.0000e+00,  0.0000e+00,  0.0000e+00,  0.0000e+00,  0.0000e+00,  0.0000e+00,  0.0000e+00,  0.0000e+00,  0.0000e+00,  0.0000e+00,\n",
       "            0.0000e+00,  0.0000e+00],\n",
       "          [-4.0745e-10, -2.7940e-09, -3.2596e-09, -2.4214e-08,  0.0000e+00,  0.0000e+00,  0.0000e+00,  0.0000e+00,  0.0000e+00,  0.0000e+00,  0.0000e+00,  0.0000e+00,  0.0000e+00,  0.0000e+00,\n",
       "            0.0000e+00,  0.0000e+00,  0.0000e+00,  0.0000e+00,  0.0000e+00,  0.0000e+00,  0.0000e+00,  0.0000e+00,  0.0000e+00,  0.0000e+00,  0.0000e+00,  0.0000e+00,  0.0000e+00,  0.0000e+00,\n",
       "            0.0000e+00,  0.0000e+00],\n",
       "          [-3.4925e-10, -2.7940e-09, -3.2596e-09, -2.2352e-08, -3.7253e-08,  0.0000e+00,  0.0000e+00,  0.0000e+00,  0.0000e+00,  0.0000e+00,  0.0000e+00,  0.0000e+00,  0.0000e+00,  0.0000e+00,\n",
       "            0.0000e+00,  0.0000e+00,  0.0000e+00,  0.0000e+00,  0.0000e+00,  0.0000e+00,  0.0000e+00,  0.0000e+00,  0.0000e+00,  0.0000e+00,  0.0000e+00,  0.0000e+00,  0.0000e+00,  0.0000e+00,\n",
       "            0.0000e+00,  0.0000e+00],\n",
       "          [-4.6566e-10, -2.3283e-09, -2.3283e-09, -1.3039e-08, -2.2352e-08, -3.3528e-08,  0.0000e+00,  0.0000e+00,  0.0000e+00,  0.0000e+00,  0.0000e+00,  0.0000e+00,  0.0000e+00,  0.0000e+00,\n",
       "            0.0000e+00,  0.0000e+00,  0.0000e+00,  0.0000e+00,  0.0000e+00,  0.0000e+00,  0.0000e+00,  0.0000e+00,  0.0000e+00,  0.0000e+00,  0.0000e+00,  0.0000e+00,  0.0000e+00,  0.0000e+00,\n",
       "            0.0000e+00,  0.0000e+00],\n",
       "          [-1.1642e-10, -6.9849e-10, -9.3132e-10, -4.6566e-09, -9.3132e-09, -1.4901e-08, -1.8626e-08,  0.0000e+00,  0.0000e+00,  0.0000e+00,  0.0000e+00,  0.0000e+00,  0.0000e+00,  0.0000e+00,\n",
       "            0.0000e+00,  0.0000e+00,  0.0000e+00,  0.0000e+00,  0.0000e+00,  0.0000e+00,  0.0000e+00,  0.0000e+00,  0.0000e+00,  0.0000e+00,  0.0000e+00,  0.0000e+00,  0.0000e+00,  0.0000e+00,\n",
       "            0.0000e+00,  0.0000e+00],\n",
       "          [-7.2760e-11, -4.6566e-10, -6.9849e-10, -3.7253e-09, -5.5879e-09, -7.4506e-09, -7.4506e-09, -2.2352e-08,  0.0000e+00,  0.0000e+00,  0.0000e+00,  0.0000e+00,  0.0000e+00,  0.0000e+00,\n",
       "            0.0000e+00,  0.0000e+00,  0.0000e+00,  0.0000e+00,  0.0000e+00,  0.0000e+00,  0.0000e+00,  0.0000e+00,  0.0000e+00,  0.0000e+00,  0.0000e+00,  0.0000e+00,  0.0000e+00,  0.0000e+00,\n",
       "            0.0000e+00,  0.0000e+00],\n",
       "          [-8.7311e-11, -1.2806e-09, -1.3970e-09, -3.7253e-09, -5.5879e-09, -9.3132e-09, -1.1176e-08, -2.2352e-08, -2.9802e-08,  0.0000e+00,  0.0000e+00,  0.0000e+00,  0.0000e+00,  0.0000e+00,\n",
       "            0.0000e+00,  0.0000e+00,  0.0000e+00,  0.0000e+00,  0.0000e+00,  0.0000e+00,  0.0000e+00,  0.0000e+00,  0.0000e+00,  0.0000e+00,  0.0000e+00,  0.0000e+00,  0.0000e+00,  0.0000e+00,\n",
       "            0.0000e+00,  0.0000e+00],\n",
       "          [-2.9104e-11, -3.2014e-10, -3.7835e-10, -9.3132e-10, -1.3970e-09, -2.3283e-09, -2.7940e-09, -5.5879e-09, -7.4506e-09, -2.9802e-08,  0.0000e+00,  0.0000e+00,  0.0000e+00,  0.0000e+00,\n",
       "            0.0000e+00,  0.0000e+00,  0.0000e+00,  0.0000e+00,  0.0000e+00,  0.0000e+00,  0.0000e+00,  0.0000e+00,  0.0000e+00,  0.0000e+00,  0.0000e+00,  0.0000e+00,  0.0000e+00,  0.0000e+00,\n",
       "            0.0000e+00,  0.0000e+00],\n",
       "          [-4.0927e-11, -2.9104e-10, -3.2742e-10, -1.8626e-09, -3.1432e-09, -4.3074e-09, -6.5193e-09, -1.6764e-08, -2.5146e-08, -4.5635e-08, -6.7055e-08,  0.0000e+00,  0.0000e+00,  0.0000e+00,\n",
       "            0.0000e+00,  0.0000e+00,  0.0000e+00,  0.0000e+00,  0.0000e+00,  0.0000e+00,  0.0000e+00,  0.0000e+00,  0.0000e+00,  0.0000e+00,  0.0000e+00,  0.0000e+00,  0.0000e+00,  0.0000e+00,\n",
       "            0.0000e+00,  0.0000e+00],\n",
       "          [-2.7285e-11, -2.3647e-10, -2.6193e-10, -1.3097e-09, -2.4447e-09, -3.4925e-09, -5.3551e-09, -1.3504e-08, -1.9558e-08, -3.7253e-08, -5.4017e-08, -2.0266e-06,  0.0000e+00,  0.0000e+00,\n",
       "            0.0000e+00,  0.0000e+00,  0.0000e+00,  0.0000e+00,  0.0000e+00,  0.0000e+00,  0.0000e+00,  0.0000e+00,  0.0000e+00,  0.0000e+00,  0.0000e+00,  0.0000e+00,  0.0000e+00,  0.0000e+00,\n",
       "            0.0000e+00,  0.0000e+00],\n",
       "          [-2.0009e-11, -1.6371e-10, -1.8190e-10, -9.8953e-10, -1.6298e-09, -2.2701e-09, -3.4925e-09, -8.3819e-09, -1.3039e-08, -2.2352e-08, -3.3528e-08, -1.3709e-06, -1.5497e-06,  0.0000e+00,\n",
       "            0.0000e+00,  0.0000e+00,  0.0000e+00,  0.0000e+00,  0.0000e+00,  0.0000e+00,  0.0000e+00,  0.0000e+00,  0.0000e+00,  0.0000e+00,  0.0000e+00,  0.0000e+00,  0.0000e+00,  0.0000e+00,\n",
       "            0.0000e+00,  0.0000e+00],\n",
       "          [-2.7285e-12, -3.0923e-11, -3.6380e-11, -1.4552e-10, -3.4925e-10, -5.2387e-10, -7.5670e-10, -1.6298e-09, -2.4447e-09, -4.8894e-09, -6.9849e-09, -2.9802e-07, -3.2783e-07, -3.8743e-07,\n",
       "            0.0000e+00,  0.0000e+00,  0.0000e+00,  0.0000e+00,  0.0000e+00,  0.0000e+00,  0.0000e+00,  0.0000e+00,  0.0000e+00,  0.0000e+00,  0.0000e+00,  0.0000e+00,  0.0000e+00,  0.0000e+00,\n",
       "            0.0000e+00,  0.0000e+00],\n",
       "          [-1.5916e-12, -1.0914e-11, -1.2733e-11, -9.4587e-11, -1.8190e-10, -2.4738e-10, -3.7835e-10, -5.8208e-10, -9.3132e-10, -1.1642e-09, -2.0955e-09, -8.1956e-08, -9.6858e-08, -1.1921e-07,\n",
       "           -5.6624e-07,  0.0000e+00,  0.0000e+00,  0.0000e+00,  0.0000e+00,  0.0000e+00,  0.0000e+00,  0.0000e+00,  0.0000e+00,  0.0000e+00,  0.0000e+00,  0.0000e+00,  0.0000e+00,  0.0000e+00,\n",
       "            0.0000e+00,  0.0000e+00],\n",
       "          [-9.0949e-13, -1.4097e-11, -1.4552e-11, -6.5484e-11, -1.0914e-10, -1.6007e-10, -2.3283e-10, -4.9477e-10, -6.9849e-10, -1.3970e-09, -1.8626e-09, -7.4506e-08, -8.1956e-08, -9.6858e-08,\n",
       "           -4.1723e-07, -1.0729e-06,  0.0000e+00,  0.0000e+00,  0.0000e+00,  0.0000e+00,  0.0000e+00,  0.0000e+00,  0.0000e+00,  0.0000e+00,  0.0000e+00,  0.0000e+00,  0.0000e+00,  0.0000e+00,\n",
       "            0.0000e+00,  0.0000e+00],\n",
       "          [-1.7053e-13, -5.4570e-12, -6.1391e-12, -4.1837e-11, -8.7311e-11, -1.2005e-10, -1.6007e-10, -4.0745e-10, -5.8208e-10, -1.0477e-09, -1.3970e-09, -5.2154e-08, -6.3330e-08, -7.4506e-08,\n",
       "           -2.9802e-07, -7.1526e-07, -8.9407e-07,  0.0000e+00,  0.0000e+00,  0.0000e+00,  0.0000e+00,  0.0000e+00,  0.0000e+00,  0.0000e+00,  0.0000e+00,  0.0000e+00,  0.0000e+00,  0.0000e+00,\n",
       "            0.0000e+00,  0.0000e+00],\n",
       "          [-7.1054e-14, -1.9327e-12, -2.2737e-12, -1.4097e-11, -2.8194e-11, -3.6380e-11, -5.2751e-11, -7.2760e-11, -9.4587e-11, -1.7462e-10, -3.4925e-10, -1.5832e-08, -1.8626e-08, -2.2352e-08,\n",
       "           -7.4506e-08, -1.8626e-07, -2.2352e-07, -4.7684e-07,  0.0000e+00,  0.0000e+00,  0.0000e+00,  0.0000e+00,  0.0000e+00,  0.0000e+00,  0.0000e+00,  0.0000e+00,  0.0000e+00,  0.0000e+00,\n",
       "            0.0000e+00,  0.0000e+00],\n",
       "          [ 2.8422e-14, -9.0949e-13, -1.0800e-12, -5.9117e-12, -1.2733e-11, -1.6371e-11, -2.3647e-11, -1.8190e-11, -2.1828e-11, -2.9104e-11, -1.4552e-11,  0.0000e+00,  9.3132e-10,  9.3132e-10,\n",
       "           -2.2352e-08, -6.7055e-08, -8.1956e-08, -1.3411e-07, -6.5565e-07,  0.0000e+00,  0.0000e+00,  0.0000e+00,  0.0000e+00,  0.0000e+00,  0.0000e+00,  0.0000e+00,  0.0000e+00,  0.0000e+00,\n",
       "            0.0000e+00,  0.0000e+00],\n",
       "          [ 4.9738e-14, -6.8212e-13, -7.9581e-13, -4.0927e-12, -9.0949e-12, -1.0914e-11, -1.6371e-11, -3.6380e-12,  0.0000e+00,  0.0000e+00,  0.0000e+00, -2.7940e-09, -2.7940e-09, -3.7253e-09,\n",
       "           -3.3528e-08, -7.4506e-08, -1.0431e-07, -1.7881e-07, -6.5565e-07, -1.0729e-06,  0.0000e+00,  0.0000e+00,  0.0000e+00,  0.0000e+00,  0.0000e+00,  0.0000e+00,  0.0000e+00,  0.0000e+00,\n",
       "            0.0000e+00,  0.0000e+00],\n",
       "          [ 6.3949e-14, -5.6843e-13, -6.8212e-13, -3.6380e-12, -1.0914e-11, -1.2733e-11, -1.6371e-11, -2.9104e-11, -3.6380e-11, -8.0036e-11, -1.0186e-10, -4.6566e-09, -5.5879e-09, -6.5193e-09,\n",
       "           -3.3528e-08, -7.4506e-08, -9.6858e-08, -1.4901e-07, -7.1526e-07, -1.3113e-06, -1.4305e-06,  0.0000e+00,  0.0000e+00,  0.0000e+00,  0.0000e+00,  0.0000e+00,  0.0000e+00,  0.0000e+00,\n",
       "            0.0000e+00,  0.0000e+00],\n",
       "          [-2.8422e-14, -7.3896e-13, -7.3896e-13, -1.8190e-12, -3.6380e-12, -4.5475e-12, -6.3665e-12, -1.8190e-12,  0.0000e+00, -7.2760e-12, -4.3656e-11, -2.3283e-09, -1.8626e-09, -2.7940e-09,\n",
       "           -1.8626e-08, -4.0978e-08, -5.2154e-08, -8.9407e-08, -4.1723e-07, -6.5565e-07, -6.5565e-07, -7.7486e-07,  0.0000e+00,  0.0000e+00,  0.0000e+00,  0.0000e+00,  0.0000e+00,  0.0000e+00,\n",
       "            0.0000e+00,  0.0000e+00],\n",
       "          [ 8.5265e-14, -4.2633e-14, -4.2633e-14,  1.3642e-12,  2.2737e-12,  3.4106e-12,  5.4570e-12,  2.0009e-11,  2.9104e-11,  4.0018e-11,  5.0932e-11,  2.0955e-09,  2.7940e-09,  3.0268e-09,\n",
       "            7.4506e-09,  9.3132e-09,  2.2352e-08,  4.4703e-08,  1.1921e-07,  1.4901e-07,  1.7881e-07,  2.3842e-07,  4.1723e-07,  0.0000e+00,  0.0000e+00,  0.0000e+00,  0.0000e+00,  0.0000e+00,\n",
       "            0.0000e+00,  0.0000e+00],\n",
       "          [ 7.1054e-15,  7.8160e-14,  8.5265e-14,  1.7053e-13,  7.9581e-13,  1.1369e-12,  1.1369e-12,  7.2760e-12,  1.1823e-11,  1.4552e-11,  2.3647e-11,  1.1642e-09,  1.3970e-09,  1.6298e-09,\n",
       "            3.7253e-09,  4.6566e-09,  8.3819e-09,  2.2352e-08,  5.9605e-08,  4.4703e-08,  5.9605e-08,  8.9407e-08,  1.7881e-07,  1.4901e-07,  0.0000e+00,  0.0000e+00,  0.0000e+00,  0.0000e+00,\n",
       "            0.0000e+00,  0.0000e+00],\n",
       "          [ 9.3259e-15,  2.4869e-14,  2.8422e-14,  5.6843e-14,  2.8422e-14,  1.1369e-13,  2.2737e-13,  2.5011e-12,  4.0927e-12,  5.0022e-12,  4.5475e-12,  5.8208e-11,  2.9104e-11,  1.1642e-10,\n",
       "            0.0000e+00,  4.6566e-10,  4.6566e-10,  9.3132e-10,  7.4506e-09, -7.4506e-09, -7.4506e-09, -7.4506e-09,  7.4506e-09, -2.9802e-08, -4.7684e-07,  0.0000e+00,  0.0000e+00,  0.0000e+00,\n",
       "            0.0000e+00,  0.0000e+00],\n",
       "          [ 0.0000e+00,  2.6645e-15,  2.6645e-15,  3.5527e-15,  3.5527e-14,  4.2633e-14, -7.1054e-14, -1.1369e-13, -1.7053e-13, -7.9581e-13, -1.1369e-12, -3.6380e-11, -4.3656e-11, -5.0932e-11,\n",
       "           -1.7462e-10, -7.5670e-10, -1.1642e-09, -2.5611e-09, -6.5193e-09, -1.3970e-08, -1.5832e-08, -1.6764e-08, -2.0489e-08, -3.1665e-08, -1.5646e-07, -4.3213e-07,  0.0000e+00,  0.0000e+00,\n",
       "            0.0000e+00,  0.0000e+00],\n",
       "          [ 3.3307e-16,  3.7748e-15,  4.4409e-15, -1.0658e-14, -3.1974e-14, -3.5527e-14, -6.3949e-14,  0.0000e+00,  5.6843e-14, -1.1369e-13, -4.5475e-13, -4.7294e-11, -5.8208e-11, -6.9122e-11,\n",
       "           -1.8917e-10, -3.7835e-10, -6.4028e-10, -1.5134e-09, -3.9581e-09, -8.8476e-09, -9.7789e-09, -1.0245e-08, -1.1176e-08, -2.0489e-08, -1.1921e-07, -2.9802e-07, -1.6689e-06,  0.0000e+00,\n",
       "            0.0000e+00,  0.0000e+00],\n",
       "          [ 4.4409e-16,  3.9968e-15,  4.2188e-15,  1.7764e-15, -1.0658e-14, -7.1054e-15,  1.4211e-14,  1.4211e-13,  2.2737e-13,  1.1369e-13,  2.8422e-13,  1.8190e-11,  2.1828e-11,  2.5466e-11,\n",
       "            1.0186e-10,  2.3283e-10,  1.7462e-10,  1.1642e-10, -1.1642e-09, -3.2596e-09, -3.2596e-09, -3.2596e-09, -2.7940e-09, -3.7253e-09, -5.2154e-08, -1.1921e-07, -5.9605e-07, -4.7684e-07,\n",
       "            0.0000e+00,  0.0000e+00],\n",
       "          [ 4.4409e-16,  3.5527e-15,  3.7748e-15,  1.7764e-15, -7.1054e-15, -7.1054e-15,  1.4211e-14,  1.1369e-13,  1.7053e-13,  1.7053e-13,  2.8422e-13,  1.6371e-11,  2.1828e-11,  2.1828e-11,\n",
       "            1.0186e-10,  2.0373e-10,  1.7462e-10,  5.8208e-11,  2.3283e-10, -9.3132e-10, -9.3132e-10, -4.6566e-10,  1.3970e-09,  0.0000e+00, -3.3528e-08, -5.9605e-08, -2.9802e-07,  1.1921e-07,\n",
       "            1.1921e-07,  0.0000e+00],\n",
       "          [ 2.2204e-16,  5.5511e-16,  6.6613e-16, -7.9936e-15, -1.1546e-14, -1.7764e-14, -1.0658e-14,  2.1316e-14,  4.2633e-14, -8.5265e-14, -5.6843e-14, -8.1855e-12, -7.2760e-12, -9.0949e-12,\n",
       "            2.9104e-11, -3.6380e-11, -7.2760e-11, -1.7462e-10,  2.3283e-10, -2.3283e-10,  2.3283e-10,  6.9849e-10,  1.3970e-09,  9.3132e-10, -1.2107e-08, -2.9802e-08, -5.9605e-08,  5.9605e-08,\n",
       "            1.1921e-07,  0.0000e+00],\n",
       "          [ 2.3592e-16,  6.6613e-16,  8.8818e-16, -5.3291e-15, -7.1054e-15, -1.0658e-14,  0.0000e+00,  3.5527e-14,  6.3949e-14, -1.4211e-14,  2.8422e-14, -2.7285e-12, -1.8190e-12, -1.8190e-12,\n",
       "            4.3656e-11,  0.0000e+00, -1.4552e-11, -2.9104e-11,  6.9849e-10,  4.6566e-10,  6.9849e-10,  1.1642e-09,  2.0955e-09,  1.8626e-09, -9.3132e-09, -2.2352e-08, -8.9407e-08,  5.9605e-08,\n",
       "            5.9605e-08,  5.9605e-08]]]], device='cuda:0')"
      ]
     },
     "execution_count": 31,
     "metadata": {},
     "output_type": "execute_result"
    }
   ],
   "source": [
    "(delta_Dtilde_pt.cumsum(-1).tril(-1) - matC_cu)[:,:,:,:-2]"
   ]
  },
  {
   "cell_type": "code",
   "execution_count": 32,
   "metadata": {},
   "outputs": [
    {
     "data": {
      "text/plain": [
       "(tensor([[[ 0.0000,  0.0000, -0.5523,  0.9238, -0.7350,  1.3800,  0.8676,  0.1297,  0.0000,  0.0000,  0.8821, -1.0133, -0.3634,  0.5101,  0.4179, -0.6888,  0.0000,  0.0000,  1.7916, -0.8479,  1.6484,\n",
       "            0.3976, -0.5237,  0.1986,  0.0000,  0.0000, -0.7760,  1.0086, -0.5316,  0.7116,  0.5386,  1.8525]]], device='cuda:0'),\n",
       " tensor([[[0.0000, 0.0048, 0.0240, 0.0214, 0.1170, 0.1558, 0.1349, 0.1099, 0.1957, 0.1606, 0.1041, 0.0599, 1.7177, 1.3017, 0.6800, 1.1257, 1.5903, 1.1106, 1.3094, 3.0743, 3.5745, 2.7235, 1.6789,\n",
       "           1.0875, 0.6045, 0.6773, 0.6834, 3.2018, 3.6670, 2.8881, 1.4775, 1.6754]]], device='cuda:0'))"
      ]
     },
     "execution_count": 32,
     "metadata": {},
     "output_type": "execute_result"
    }
   ],
   "source": [
    "dFgs_cu, delta_fbar_pt.squeeze(-1)"
   ]
  },
  {
   "cell_type": "code",
   "execution_count": 33,
   "metadata": {},
   "outputs": [
    {
     "data": {
      "text/plain": [
       "tensor([[[ 0.0000, -0.0048, -0.5762,  0.9024, -0.8520,  1.2242,  0.7328,  0.0197, -0.1957, -0.1606,  0.7780, -1.0732, -2.0810, -0.7917, -0.2621, -1.8145, -1.5903, -1.1106,  0.4822, -3.9221, -1.9261,\n",
       "          -2.3259, -2.2026, -0.8889, -0.6045, -0.6773, -1.4594, -2.1932, -4.1986, -2.1765, -0.9389,  0.1771]]], device='cuda:0')"
      ]
     },
     "execution_count": 33,
     "metadata": {},
     "output_type": "execute_result"
    }
   ],
   "source": [
    "dFgs_cu - delta_fbar_pt.squeeze(-1)"
   ]
  },
  {
   "cell_type": "code",
   "execution_count": 34,
   "metadata": {},
   "outputs": [
    {
     "data": {
      "text/plain": [
       "(tensor([[[0.0000e+00, 0.0000e+00, 0.0000e+00, 0.0000e+00, 0.0000e+00, 0.0000e+00, 0.0000e+00, 0.0000e+00, 0.0000e+00, 0.0000e+00, 0.0000e+00, 0.0000e+00, 0.0000e+00, 0.0000e+00, 0.0000e+00,\n",
       "           0.0000e+00, 7.7359e-01, 3.7578e-01, 1.2229e-01, 8.2258e-02, 7.6685e-02, 7.1804e-02, 4.7018e-02, 2.3921e-02, 1.1210e-02, 3.8283e-03, 6.5380e-04, 4.0062e-04, 3.2340e-04, 2.8763e-04,\n",
       "           1.2127e-04, 1.0430e-04]]], device='cuda:0'),\n",
       " torch.Size([1, 1, 32]))"
      ]
     },
     "execution_count": 34,
     "metadata": {},
     "output_type": "execute_result"
    }
   ],
   "source": [
    "deltaDcsVec_cu, deltaDcsVec_cu.shape"
   ]
  },
  {
   "cell_type": "markdown",
   "metadata": {},
   "source": [
    "### bw kernel match through autograd"
   ]
  },
  {
   "cell_type": "code",
   "execution_count": 35,
   "metadata": {},
   "outputs": [],
   "source": [
    "fgs_pt = fgs.clone().detach().requires_grad_(True)\n",
    "igs_pt = igs.clone().detach().requires_grad_(True)\n",
    "qs_pt = qs.clone().detach().requires_grad_(True)\n",
    "ks_pt = ks.clone().detach().requires_grad_(True)\n",
    "vs_pt = vs.clone().detach().requires_grad_(True)"
   ]
  },
  {
   "cell_type": "code",
   "execution_count": 36,
   "metadata": {},
   "outputs": [],
   "source": [
    "# pytorch version QKV product (To test if this is still correct after changes to the code.)\n",
    "# at some point we have to compare to the vlstm_fw_torch version.\n",
    "# rs = qs @ ks.transpose(-1, -2) @ vs\n",
    "# rs, rs.shape"
   ]
  },
  {
   "cell_type": "code",
   "execution_count": 37,
   "metadata": {},
   "outputs": [],
   "source": [
    "# rs_torch = (qs @ ks.transpose(-1, -2) * torch.tril(torch.ones((B, NH, S, S))).to(device=DEVICE, dtype=DTYPE)) @ vs\n",
    "# rs_torch, rs_torch.shape"
   ]
  },
  {
   "cell_type": "code",
   "execution_count": 38,
   "metadata": {},
   "outputs": [
    {
     "data": {
      "text/plain": [
       "(tensor([[[[3.9268e-05, 3.9268e-05, 3.9268e-05, 3.9268e-05, 3.9268e-05, 3.9268e-05, 3.9268e-05, 3.9268e-05],\n",
       "           [2.5971e-04, 2.5971e-04, 2.5971e-04, 2.5971e-04, 2.5971e-04, 2.5971e-04, 2.5971e-04, 2.5971e-04],\n",
       "           [3.5444e-04, 3.5444e-04, 3.5444e-04, 3.5444e-04, 3.5444e-04, 3.5444e-04, 3.5444e-04, 3.5444e-04],\n",
       "           [1.0614e-03, 1.0614e-03, 1.0614e-03, 1.0614e-03, 1.0614e-03, 1.0614e-03, 1.0614e-03, 1.0614e-03],\n",
       "           [1.9845e-03, 1.9845e-03, 1.9845e-03, 1.9845e-03, 1.9845e-03, 1.9845e-03, 1.9845e-03, 1.9845e-03],\n",
       "           [2.4016e-03, 2.4016e-03, 2.4016e-03, 2.4016e-03, 2.4016e-03, 2.4016e-03, 2.4016e-03, 2.4016e-03],\n",
       "           [2.2950e-03, 2.2950e-03, 2.2950e-03, 2.2950e-03, 2.2950e-03, 2.2950e-03, 2.2950e-03, 2.2950e-03],\n",
       "           [1.9563e-03, 1.9563e-03, 1.9563e-03, 1.9563e-03, 1.9563e-03, 1.9563e-03, 1.9563e-03, 1.9563e-03],\n",
       "           [2.1884e-03, 2.1884e-03, 2.1884e-03, 2.1884e-03, 2.1884e-03, 2.1884e-03, 2.1884e-03, 2.1884e-03],\n",
       "           [3.2163e-03, 3.2163e-03, 3.2163e-03, 3.2163e-03, 3.2163e-03, 3.2163e-03, 3.2163e-03, 3.2163e-03],\n",
       "           [1.3915e-03, 1.3915e-03, 1.3915e-03, 1.3915e-03, 1.3915e-03, 1.3915e-03, 1.3915e-03, 1.3915e-03],\n",
       "           [1.0000e-02, 1.0000e-02, 1.0000e-02, 1.0000e-02, 1.0000e-02, 1.0000e-02, 1.0000e-02, 1.0000e-02],\n",
       "           [1.0000e-02, 1.0000e-02, 1.0000e-02, 1.0000e-02, 1.0000e-02, 1.0000e-02, 1.0000e-02, 1.0000e-02],\n",
       "           [1.0000e-02, 1.0000e-02, 1.0000e-02, 1.0000e-02, 1.0000e-02, 1.0000e-02, 1.0000e-02, 1.0000e-02],\n",
       "           [1.0000e-02, 1.0000e-02, 1.0000e-02, 1.0000e-02, 1.0000e-02, 1.0000e-02, 1.0000e-02, 1.0000e-02],\n",
       "           [1.0000e-02, 1.0000e-02, 1.0000e-02, 1.0000e-02, 1.0000e-02, 1.0000e-02, 1.0000e-02, 1.0000e-02],\n",
       "           [1.0000e-02, 1.0000e-02, 1.0000e-02, 1.0000e-02, 1.0000e-02, 1.0000e-02, 1.0000e-02, 1.0000e-02],\n",
       "           [1.0000e-02, 1.0000e-02, 1.0000e-02, 1.0000e-02, 1.0000e-02, 1.0000e-02, 1.0000e-02, 1.0000e-02],\n",
       "           [1.0000e-02, 1.0000e-02, 1.0000e-02, 1.0000e-02, 1.0000e-02, 1.0000e-02, 1.0000e-02, 1.0000e-02],\n",
       "           [1.0000e-02, 1.0000e-02, 1.0000e-02, 1.0000e-02, 1.0000e-02, 1.0000e-02, 1.0000e-02, 1.0000e-02],\n",
       "           [1.0000e-02, 1.0000e-02, 1.0000e-02, 1.0000e-02, 1.0000e-02, 1.0000e-02, 1.0000e-02, 1.0000e-02],\n",
       "           [1.0000e-02, 1.0000e-02, 1.0000e-02, 1.0000e-02, 1.0000e-02, 1.0000e-02, 1.0000e-02, 1.0000e-02],\n",
       "           [8.7165e-03, 8.7165e-03, 8.7165e-03, 8.7165e-03, 8.7165e-03, 8.7165e-03, 8.7165e-03, 8.7165e-03],\n",
       "           [5.6947e-03, 5.6947e-03, 5.6947e-03, 5.6947e-03, 5.6947e-03, 5.6947e-03, 5.6947e-03, 5.6947e-03],\n",
       "           [8.4881e-03, 8.4881e-03, 8.4881e-03, 8.4881e-03, 8.4881e-03, 8.4881e-03, 8.4881e-03, 8.4881e-03],\n",
       "           [8.4982e-03, 8.4982e-03, 8.4982e-03, 8.4982e-03, 8.4982e-03, 8.4982e-03, 8.4982e-03, 8.4982e-03],\n",
       "           [1.0000e-02, 1.0000e-02, 1.0000e-02, 1.0000e-02, 1.0000e-02, 1.0000e-02, 1.0000e-02, 1.0000e-02],\n",
       "           [1.0000e-02, 1.0000e-02, 1.0000e-02, 1.0000e-02, 1.0000e-02, 1.0000e-02, 1.0000e-02, 1.0000e-02],\n",
       "           [1.0000e-02, 1.0000e-02, 1.0000e-02, 1.0000e-02, 1.0000e-02, 1.0000e-02, 1.0000e-02, 1.0000e-02],\n",
       "           [1.0000e-02, 1.0000e-02, 1.0000e-02, 1.0000e-02, 1.0000e-02, 1.0000e-02, 1.0000e-02, 1.0000e-02],\n",
       "           [1.0000e-02, 1.0000e-02, 1.0000e-02, 1.0000e-02, 1.0000e-02, 1.0000e-02, 1.0000e-02, 1.0000e-02],\n",
       "           [1.0000e-02, 1.0000e-02, 1.0000e-02, 1.0000e-02, 1.0000e-02, 1.0000e-02, 1.0000e-02, 1.0000e-02]]]], device='cuda:0', grad_fn=<vLSTMParallelFwBwWithGroupNormBackward>),\n",
       " torch.Size([1, 1, 32, 8]))"
      ]
     },
     "execution_count": 38,
     "metadata": {},
     "output_type": "execute_result"
    }
   ],
   "source": [
    "# pytorch version\n",
    "hs_pt, n_pt, m_pt = vlstm_fwbw_torch_obw(\n",
    "    queries=qs_pt,\n",
    "    keys=ks_pt,\n",
    "    values=vs_pt,\n",
    "    igate_preact=igs_pt,\n",
    "    fgate_preact=fgs_pt,\n",
    ")\n",
    "hs_pt, hs_pt.shape"
   ]
  },
  {
   "cell_type": "code",
   "execution_count": 39,
   "metadata": {},
   "outputs": [],
   "source": [
    "fgs_cu = fgs.clone().detach().requires_grad_(True)\n",
    "igs_cu = igs.clone().detach().requires_grad_(True)\n",
    "qs_cu = qs.clone().detach().requires_grad_(True)\n",
    "ks_cu = ks.clone().detach().requires_grad_(True)\n",
    "vs_cu = vs.clone().detach().requires_grad_(True)"
   ]
  },
  {
   "cell_type": "code",
   "execution_count": 40,
   "metadata": {
    "notebookRunGroups": {
     "groupValue": "1"
    }
   },
   "outputs": [
    {
     "name": "stdout",
     "output_type": "stream",
     "text": [
      "before kernel dispatch - float32!\n",
      "B: 1, NH: 1, S: 32, DH: 8\n",
      "blocksxy: 1-2, threadsxy: 4-4, shared_mem in bytes: 5664\n",
      "In FW-Kernel: gdim.x: 1, gdim.y: 2, gdim.z: 1, bdim.x: 4, bdim.y: 4\n",
      "In FW-Kernel: QtileDim: 8, KVtileDim: 8, TblockDim:4\n",
      "BIdx.y=0, FLTIdx=7: qTileIdx=0, fChunkAccIterIdx=0 (<1), fWCIdx=0, f_acc=-4.943604, fTileColLast=0.000000\n",
      "STR: BIdx.y=1: qTileIdx=0, fWCIdx=0 (<1), flatThreadIdx=7: fT_acc_res=-10.706538, fTileCol_val=-10.706538, fTileColLastVal=0.000000\n",
      "BIdx.y=0, FLTIdx=7: qTileIdx=0, fChunkAccIterIdx=1 (<1), fWCIdx=0, f_acc=-4.943604, fTileColLast=0.000000\n",
      "BIdx.y=0, FLTIdx=7: qTileIdx=1, fChunkAccIterIdx=0 (<3), fWCIdx=0, f_acc=-5.259939, fTileColLast=-10.706538\n",
      "STR: BIdx.y=1: qTileIdx=1, fWCIdx=0 (<1), flatThreadIdx=7: fT_acc_res=-20.829517, fTileCol_val=-20.829517, fTileColLastVal=-10.706538\n",
      "BIdx.y=0, FLTIdx=7: qTileIdx=1, fChunkAccIterIdx=1 (<3), fWCIdx=0, f_acc=-5.259939, fTileColLast=-10.706538\n"
     ]
    },
    {
     "data": {
      "text/plain": [
       "(tensor([[[[3.9268e-05, 3.9268e-05, 3.9268e-05, 3.9268e-05, 3.9268e-05, 3.9268e-05, 3.9268e-05, 3.9268e-05],\n",
       "           [2.5972e-04, 2.5972e-04, 2.5972e-04, 2.5972e-04, 2.5972e-04, 2.5972e-04, 2.5972e-04, 2.5972e-04],\n",
       "           [3.5444e-04, 3.5444e-04, 3.5444e-04, 3.5444e-04, 3.5444e-04, 3.5444e-04, 3.5444e-04, 3.5444e-04],\n",
       "           [1.0614e-03, 1.0614e-03, 1.0614e-03, 1.0614e-03, 1.0614e-03, 1.0614e-03, 1.0614e-03, 1.0614e-03],\n",
       "           [1.9845e-03, 1.9845e-03, 1.9845e-03, 1.9845e-03, 1.9845e-03, 1.9845e-03, 1.9845e-03, 1.9845e-03],\n",
       "           [2.4016e-03, 2.4016e-03, 2.4016e-03, 2.4016e-03, 2.4016e-03, 2.4016e-03, 2.4016e-03, 2.4016e-03],\n",
       "           [2.2950e-03, 2.2950e-03, 2.2950e-03, 2.2950e-03, 2.2950e-03, 2.2950e-03, 2.2950e-03, 2.2950e-03],\n",
       "           [1.9563e-03, 1.9563e-03, 1.9563e-03, 1.9563e-03, 1.9563e-03, 1.9563e-03, 1.9563e-03, 1.9563e-03],\n",
       "           [2.1884e-03, 2.1884e-03, 2.1884e-03, 2.1884e-03, 2.1884e-03, 2.1884e-03, 2.1884e-03, 2.1884e-03],\n",
       "           [3.2163e-03, 3.2163e-03, 3.2163e-03, 3.2163e-03, 3.2163e-03, 3.2163e-03, 3.2163e-03, 3.2163e-03],\n",
       "           [1.3915e-03, 1.3915e-03, 1.3915e-03, 1.3915e-03, 1.3915e-03, 1.3915e-03, 1.3915e-03, 1.3915e-03],\n",
       "           [1.0000e-02, 1.0000e-02, 1.0000e-02, 1.0000e-02, 1.0000e-02, 1.0000e-02, 1.0000e-02, 1.0000e-02],\n",
       "           [1.0000e-02, 1.0000e-02, 1.0000e-02, 1.0000e-02, 1.0000e-02, 1.0000e-02, 1.0000e-02, 1.0000e-02],\n",
       "           [1.0000e-02, 1.0000e-02, 1.0000e-02, 1.0000e-02, 1.0000e-02, 1.0000e-02, 1.0000e-02, 1.0000e-02],\n",
       "           [1.0000e-02, 1.0000e-02, 1.0000e-02, 1.0000e-02, 1.0000e-02, 1.0000e-02, 1.0000e-02, 1.0000e-02],\n",
       "           [1.0000e-02, 1.0000e-02, 1.0000e-02, 1.0000e-02, 1.0000e-02, 1.0000e-02, 1.0000e-02, 1.0000e-02],\n",
       "           [1.0000e-02, 1.0000e-02, 1.0000e-02, 1.0000e-02, 1.0000e-02, 1.0000e-02, 1.0000e-02, 1.0000e-02],\n",
       "           [1.0000e-02, 1.0000e-02, 1.0000e-02, 1.0000e-02, 1.0000e-02, 1.0000e-02, 1.0000e-02, 1.0000e-02],\n",
       "           [1.0000e-02, 1.0000e-02, 1.0000e-02, 1.0000e-02, 1.0000e-02, 1.0000e-02, 1.0000e-02, 1.0000e-02],\n",
       "           [1.0000e-02, 1.0000e-02, 1.0000e-02, 1.0000e-02, 1.0000e-02, 1.0000e-02, 1.0000e-02, 1.0000e-02],\n",
       "           [1.0000e-02, 1.0000e-02, 1.0000e-02, 1.0000e-02, 1.0000e-02, 1.0000e-02, 1.0000e-02, 1.0000e-02],\n",
       "           [1.0000e-02, 1.0000e-02, 1.0000e-02, 1.0000e-02, 1.0000e-02, 1.0000e-02, 1.0000e-02, 1.0000e-02],\n",
       "           [8.7165e-03, 8.7165e-03, 8.7165e-03, 8.7165e-03, 8.7165e-03, 8.7165e-03, 8.7165e-03, 8.7165e-03],\n",
       "           [5.6947e-03, 5.6947e-03, 5.6947e-03, 5.6947e-03, 5.6947e-03, 5.6947e-03, 5.6947e-03, 5.6947e-03],\n",
       "           [8.4881e-03, 8.4881e-03, 8.4881e-03, 8.4881e-03, 8.4881e-03, 8.4881e-03, 8.4881e-03, 8.4881e-03],\n",
       "           [8.4982e-03, 8.4982e-03, 8.4982e-03, 8.4982e-03, 8.4982e-03, 8.4982e-03, 8.4982e-03, 8.4982e-03],\n",
       "           [1.0000e-02, 1.0000e-02, 1.0000e-02, 1.0000e-02, 1.0000e-02, 1.0000e-02, 1.0000e-02, 1.0000e-02],\n",
       "           [1.0000e-02, 1.0000e-02, 1.0000e-02, 1.0000e-02, 1.0000e-02, 1.0000e-02, 1.0000e-02, 1.0000e-02],\n",
       "           [1.0000e-02, 1.0000e-02, 1.0000e-02, 1.0000e-02, 1.0000e-02, 1.0000e-02, 1.0000e-02, 1.0000e-02],\n",
       "           [1.0000e-02, 1.0000e-02, 1.0000e-02, 1.0000e-02, 1.0000e-02, 1.0000e-02, 1.0000e-02, 1.0000e-02],\n",
       "           [1.0000e-02, 1.0000e-02, 1.0000e-02, 1.0000e-02, 1.0000e-02, 1.0000e-02, 1.0000e-02, 1.0000e-02],\n",
       "           [1.0000e-02, 1.0000e-02, 1.0000e-02, 1.0000e-02, 1.0000e-02, 1.0000e-02, 1.0000e-02, 1.0000e-02]]]], device='cuda:0', grad_fn=<vLSTMParallelFwBwCudaBackward>),\n",
       " torch.Size([1, 1, 32, 8]))"
      ]
     },
     "execution_count": 40,
     "metadata": {},
     "output_type": "execute_result"
    }
   ],
   "source": [
    "# cuda kernel\n",
    "hs_cu, n_cu, m_cu, matD_cu = vlstm_fwbw_cuda(mat_Q=qs_cu, mat_K=ks_cu, mat_V=vs_cu, igate_preact=igs_cu.squeeze(-1), fgate_preact=fgs_cu.squeeze(-1))\n",
    "hs_cu, hs_cu.shape"
   ]
  },
  {
   "cell_type": "code",
   "execution_count": 41,
   "metadata": {},
   "outputs": [
    {
     "data": {
      "text/plain": [
       "tensor([[[[-1.4552e-11, -1.4552e-11, -1.4552e-11, -1.4552e-11, -1.4552e-11, -1.4552e-11, -1.4552e-11, -1.4552e-11],\n",
       "          [-1.4552e-10, -1.4552e-10, -1.4552e-10, -1.4552e-10, -1.4552e-10, -1.4552e-10, -1.4552e-10, -1.4552e-10],\n",
       "          [-1.1642e-10, -1.1642e-10, -1.1642e-10, -1.1642e-10, -1.1642e-10, -1.1642e-10, -1.1642e-10, -1.1642e-10],\n",
       "          [-1.1642e-09, -1.1642e-09, -1.1642e-09, -1.1642e-09, -1.1642e-09, -1.1642e-09, -1.1642e-09, -1.1642e-09],\n",
       "          [-1.6298e-09, -1.6298e-09, -1.6298e-09, -1.6298e-09, -1.6298e-09, -1.6298e-09, -1.6298e-09, -1.6298e-09],\n",
       "          [-9.3132e-10, -9.3132e-10, -9.3132e-10, -9.3132e-10, -9.3132e-10, -9.3132e-10, -9.3132e-10, -9.3132e-10],\n",
       "          [-9.3132e-10, -9.3132e-10, -9.3132e-10, -9.3132e-10, -9.3132e-10, -9.3132e-10, -9.3132e-10, -9.3132e-10],\n",
       "          [-1.1642e-09, -1.1642e-09, -1.1642e-09, -1.1642e-09, -1.1642e-09, -1.1642e-09, -1.1642e-09, -1.1642e-09],\n",
       "          [-2.3283e-10, -2.3283e-10, -2.3283e-10, -2.3283e-10, -2.3283e-10, -2.3283e-10, -2.3283e-10, -2.3283e-10],\n",
       "          [-1.8626e-09, -1.8626e-09, -1.8626e-09, -1.8626e-09, -1.8626e-09, -1.8626e-09, -1.8626e-09, -1.8626e-09],\n",
       "          [-4.6566e-10, -4.6566e-10, -4.6566e-10, -4.6566e-10, -4.6566e-10, -4.6566e-10, -4.6566e-10, -4.6566e-10],\n",
       "          [-3.8184e-08, -3.8184e-08, -3.8184e-08, -3.8184e-08, -3.8184e-08, -3.8184e-08, -3.8184e-08, -3.8184e-08],\n",
       "          [-2.9802e-08, -2.9802e-08, -2.9802e-08, -2.9802e-08, -2.9802e-08, -2.9802e-08, -2.9802e-08, -2.9802e-08],\n",
       "          [-2.1420e-08, -2.1420e-08, -2.1420e-08, -2.1420e-08, -2.1420e-08, -2.1420e-08, -2.1420e-08, -2.1420e-08],\n",
       "          [-2.2352e-08, -2.2352e-08, -2.2352e-08, -2.2352e-08, -2.2352e-08, -2.2352e-08, -2.2352e-08, -2.2352e-08],\n",
       "          [-1.6764e-08, -1.6764e-08, -1.6764e-08, -1.6764e-08, -1.6764e-08, -1.6764e-08, -1.6764e-08, -1.6764e-08],\n",
       "          [-1.1176e-08, -1.1176e-08, -1.1176e-08, -1.1176e-08, -1.1176e-08, -1.1176e-08, -1.1176e-08, -1.1176e-08],\n",
       "          [-1.5832e-08, -1.5832e-08, -1.5832e-08, -1.5832e-08, -1.5832e-08, -1.5832e-08, -1.5832e-08, -1.5832e-08],\n",
       "          [-1.4901e-08, -1.4901e-08, -1.4901e-08, -1.4901e-08, -1.4901e-08, -1.4901e-08, -1.4901e-08, -1.4901e-08],\n",
       "          [-9.3132e-09, -9.3132e-09, -9.3132e-09, -9.3132e-09, -9.3132e-09, -9.3132e-09, -9.3132e-09, -9.3132e-09],\n",
       "          [-8.3819e-09, -8.3819e-09, -8.3819e-09, -8.3819e-09, -8.3819e-09, -8.3819e-09, -8.3819e-09, -8.3819e-09],\n",
       "          [-5.5879e-09, -5.5879e-09, -5.5879e-09, -5.5879e-09, -5.5879e-09, -5.5879e-09, -5.5879e-09, -5.5879e-09],\n",
       "          [ 1.8626e-09,  1.8626e-09,  1.8626e-09,  1.8626e-09,  1.8626e-09,  1.8626e-09,  1.8626e-09,  1.8626e-09],\n",
       "          [ 2.3283e-09,  2.3283e-09,  2.3283e-09,  2.3283e-09,  2.3283e-09,  2.3283e-09,  2.3283e-09,  2.3283e-09],\n",
       "          [-3.7253e-09, -3.7253e-09, -3.7253e-09, -3.7253e-09, -3.7253e-09, -3.7253e-09, -3.7253e-09, -3.7253e-09],\n",
       "          [-7.4506e-09, -7.4506e-09, -7.4506e-09, -7.4506e-09, -7.4506e-09, -7.4506e-09, -7.4506e-09, -7.4506e-09],\n",
       "          [-1.3970e-08, -1.3970e-08, -1.3970e-08, -1.3970e-08, -1.3970e-08, -1.3970e-08, -1.3970e-08, -1.3970e-08],\n",
       "          [-7.4506e-09, -7.4506e-09, -7.4506e-09, -7.4506e-09, -7.4506e-09, -7.4506e-09, -7.4506e-09, -7.4506e-09],\n",
       "          [-4.6566e-09, -4.6566e-09, -4.6566e-09, -4.6566e-09, -4.6566e-09, -4.6566e-09, -4.6566e-09, -4.6566e-09],\n",
       "          [-5.5879e-09, -5.5879e-09, -5.5879e-09, -5.5879e-09, -5.5879e-09, -5.5879e-09, -5.5879e-09, -5.5879e-09],\n",
       "          [-7.4506e-09, -7.4506e-09, -7.4506e-09, -7.4506e-09, -7.4506e-09, -7.4506e-09, -7.4506e-09, -7.4506e-09],\n",
       "          [-7.4506e-09, -7.4506e-09, -7.4506e-09, -7.4506e-09, -7.4506e-09, -7.4506e-09, -7.4506e-09, -7.4506e-09]]]], device='cuda:0', grad_fn=<SubBackward0>)"
      ]
     },
     "execution_count": 41,
     "metadata": {},
     "output_type": "execute_result"
    }
   ],
   "source": [
    "# forward match\n",
    "hs_pt - hs_cu"
   ]
  },
  {
   "cell_type": "code",
   "execution_count": 42,
   "metadata": {},
   "outputs": [
    {
     "ename": "ValueError",
     "evalue": "too many values to unpack (expected 5)",
     "output_type": "error",
     "traceback": [
      "\u001b[0;31m---------------------------------------------------------------------------\u001b[0m",
      "\u001b[0;31mValueError\u001b[0m                                Traceback (most recent call last)",
      "Cell \u001b[0;32mIn[42], line 1\u001b[0m\n\u001b[0;32m----> 1\u001b[0m \u001b[43mhs_pt\u001b[49m\u001b[38;5;241;43m.\u001b[39;49m\u001b[43msum\u001b[49m\u001b[43m(\u001b[49m\u001b[43m)\u001b[49m\u001b[38;5;241;43m.\u001b[39;49m\u001b[43mbackward\u001b[49m\u001b[43m(\u001b[49m\u001b[43m)\u001b[49m\n",
      "File \u001b[0;32m~/miniconda3/envs/xlstmpt220cu121/lib/python3.11/site-packages/torch/_tensor.py:522\u001b[0m, in \u001b[0;36mTensor.backward\u001b[0;34m(self, gradient, retain_graph, create_graph, inputs)\u001b[0m\n\u001b[1;32m    512\u001b[0m \u001b[38;5;28;01mif\u001b[39;00m has_torch_function_unary(\u001b[38;5;28mself\u001b[39m):\n\u001b[1;32m    513\u001b[0m     \u001b[38;5;28;01mreturn\u001b[39;00m handle_torch_function(\n\u001b[1;32m    514\u001b[0m         Tensor\u001b[38;5;241m.\u001b[39mbackward,\n\u001b[1;32m    515\u001b[0m         (\u001b[38;5;28mself\u001b[39m,),\n\u001b[0;32m   (...)\u001b[0m\n\u001b[1;32m    520\u001b[0m         inputs\u001b[38;5;241m=\u001b[39minputs,\n\u001b[1;32m    521\u001b[0m     )\n\u001b[0;32m--> 522\u001b[0m \u001b[43mtorch\u001b[49m\u001b[38;5;241;43m.\u001b[39;49m\u001b[43mautograd\u001b[49m\u001b[38;5;241;43m.\u001b[39;49m\u001b[43mbackward\u001b[49m\u001b[43m(\u001b[49m\n\u001b[1;32m    523\u001b[0m \u001b[43m    \u001b[49m\u001b[38;5;28;43mself\u001b[39;49m\u001b[43m,\u001b[49m\u001b[43m \u001b[49m\u001b[43mgradient\u001b[49m\u001b[43m,\u001b[49m\u001b[43m \u001b[49m\u001b[43mretain_graph\u001b[49m\u001b[43m,\u001b[49m\u001b[43m \u001b[49m\u001b[43mcreate_graph\u001b[49m\u001b[43m,\u001b[49m\u001b[43m \u001b[49m\u001b[43minputs\u001b[49m\u001b[38;5;241;43m=\u001b[39;49m\u001b[43minputs\u001b[49m\n\u001b[1;32m    524\u001b[0m \u001b[43m\u001b[49m\u001b[43m)\u001b[49m\n",
      "File \u001b[0;32m~/miniconda3/envs/xlstmpt220cu121/lib/python3.11/site-packages/torch/autograd/__init__.py:266\u001b[0m, in \u001b[0;36mbackward\u001b[0;34m(tensors, grad_tensors, retain_graph, create_graph, grad_variables, inputs)\u001b[0m\n\u001b[1;32m    261\u001b[0m     retain_graph \u001b[38;5;241m=\u001b[39m create_graph\n\u001b[1;32m    263\u001b[0m \u001b[38;5;66;03m# The reason we repeat the same comment below is that\u001b[39;00m\n\u001b[1;32m    264\u001b[0m \u001b[38;5;66;03m# some Python versions print out the first line of a multi-line function\u001b[39;00m\n\u001b[1;32m    265\u001b[0m \u001b[38;5;66;03m# calls in the traceback and some print out the last line\u001b[39;00m\n\u001b[0;32m--> 266\u001b[0m \u001b[43mVariable\u001b[49m\u001b[38;5;241;43m.\u001b[39;49m\u001b[43m_execution_engine\u001b[49m\u001b[38;5;241;43m.\u001b[39;49m\u001b[43mrun_backward\u001b[49m\u001b[43m(\u001b[49m\u001b[43m  \u001b[49m\u001b[38;5;66;43;03m# Calls into the C++ engine to run the backward pass\u001b[39;49;00m\n\u001b[1;32m    267\u001b[0m \u001b[43m    \u001b[49m\u001b[43mtensors\u001b[49m\u001b[43m,\u001b[49m\n\u001b[1;32m    268\u001b[0m \u001b[43m    \u001b[49m\u001b[43mgrad_tensors_\u001b[49m\u001b[43m,\u001b[49m\n\u001b[1;32m    269\u001b[0m \u001b[43m    \u001b[49m\u001b[43mretain_graph\u001b[49m\u001b[43m,\u001b[49m\n\u001b[1;32m    270\u001b[0m \u001b[43m    \u001b[49m\u001b[43mcreate_graph\u001b[49m\u001b[43m,\u001b[49m\n\u001b[1;32m    271\u001b[0m \u001b[43m    \u001b[49m\u001b[43minputs\u001b[49m\u001b[43m,\u001b[49m\n\u001b[1;32m    272\u001b[0m \u001b[43m    \u001b[49m\u001b[43mallow_unreachable\u001b[49m\u001b[38;5;241;43m=\u001b[39;49m\u001b[38;5;28;43;01mTrue\u001b[39;49;00m\u001b[43m,\u001b[49m\n\u001b[1;32m    273\u001b[0m \u001b[43m    \u001b[49m\u001b[43maccumulate_grad\u001b[49m\u001b[38;5;241;43m=\u001b[39;49m\u001b[38;5;28;43;01mTrue\u001b[39;49;00m\u001b[43m,\u001b[49m\n\u001b[1;32m    274\u001b[0m \u001b[43m\u001b[49m\u001b[43m)\u001b[49m\n",
      "File \u001b[0;32m~/miniconda3/envs/xlstmpt220cu121/lib/python3.11/site-packages/torch/autograd/function.py:289\u001b[0m, in \u001b[0;36mBackwardCFunction.apply\u001b[0;34m(self, *args)\u001b[0m\n\u001b[1;32m    283\u001b[0m     \u001b[38;5;28;01mraise\u001b[39;00m \u001b[38;5;167;01mRuntimeError\u001b[39;00m(\n\u001b[1;32m    284\u001b[0m         \u001b[38;5;124m\"\u001b[39m\u001b[38;5;124mImplementing both \u001b[39m\u001b[38;5;124m'\u001b[39m\u001b[38;5;124mbackward\u001b[39m\u001b[38;5;124m'\u001b[39m\u001b[38;5;124m and \u001b[39m\u001b[38;5;124m'\u001b[39m\u001b[38;5;124mvjp\u001b[39m\u001b[38;5;124m'\u001b[39m\u001b[38;5;124m for a custom \u001b[39m\u001b[38;5;124m\"\u001b[39m\n\u001b[1;32m    285\u001b[0m         \u001b[38;5;124m\"\u001b[39m\u001b[38;5;124mFunction is not allowed. You should only implement one \u001b[39m\u001b[38;5;124m\"\u001b[39m\n\u001b[1;32m    286\u001b[0m         \u001b[38;5;124m\"\u001b[39m\u001b[38;5;124mof them.\u001b[39m\u001b[38;5;124m\"\u001b[39m\n\u001b[1;32m    287\u001b[0m     )\n\u001b[1;32m    288\u001b[0m user_fn \u001b[38;5;241m=\u001b[39m vjp_fn \u001b[38;5;28;01mif\u001b[39;00m vjp_fn \u001b[38;5;129;01mis\u001b[39;00m \u001b[38;5;129;01mnot\u001b[39;00m Function\u001b[38;5;241m.\u001b[39mvjp \u001b[38;5;28;01melse\u001b[39;00m backward_fn\n\u001b[0;32m--> 289\u001b[0m \u001b[38;5;28;01mreturn\u001b[39;00m \u001b[43muser_fn\u001b[49m\u001b[43m(\u001b[49m\u001b[38;5;28;43mself\u001b[39;49m\u001b[43m,\u001b[49m\u001b[43m \u001b[49m\u001b[38;5;241;43m*\u001b[39;49m\u001b[43margs\u001b[49m\u001b[43m)\u001b[49m\n",
      "File \u001b[0;32m~/myrepos/vlstm_cuda/src/vlstm_fwbw_v0/torch_impl.py:470\u001b[0m, in \u001b[0;36mvLSTMParallelFwBwWithGroupNorm.backward\u001b[0;34m(ctx, delta_Htilde, grad_var_n_unused, grad_var_m_unused)\u001b[0m\n\u001b[1;32m    460\u001b[0m \u001b[38;5;129m@staticmethod\u001b[39m\n\u001b[1;32m    461\u001b[0m \u001b[38;5;28;01mdef\u001b[39;00m \u001b[38;5;21mbackward\u001b[39m(\n\u001b[1;32m    462\u001b[0m     ctx,\n\u001b[0;32m   (...)\u001b[0m\n\u001b[1;32m    465\u001b[0m     grad_var_m_unused: torch\u001b[38;5;241m.\u001b[39mTensor,\n\u001b[1;32m    466\u001b[0m ) \u001b[38;5;241m-\u001b[39m\u001b[38;5;241m>\u001b[39m \u001b[38;5;28mtuple\u001b[39m[torch\u001b[38;5;241m.\u001b[39mTensor, \u001b[38;5;241m.\u001b[39m\u001b[38;5;241m.\u001b[39m\u001b[38;5;241m.\u001b[39m]:\n\u001b[1;32m    467\u001b[0m     (queries, keys, values, igate_preact, fgate_preact, var_n, var_m) \u001b[38;5;241m=\u001b[39m (\n\u001b[1;32m    468\u001b[0m         ctx\u001b[38;5;241m.\u001b[39msaved_tensors\n\u001b[1;32m    469\u001b[0m     )\n\u001b[0;32m--> 470\u001b[0m     delta_Q, delta_K, delta_V, delta_i, delta_f \u001b[38;5;241m=\u001b[39m (\n\u001b[1;32m    471\u001b[0m         vlstm_parallel_bw_torch_w_groupnorm(\n\u001b[1;32m    472\u001b[0m             delta_Htilde\u001b[38;5;241m=\u001b[39mdelta_Htilde,\n\u001b[1;32m    473\u001b[0m             queries\u001b[38;5;241m=\u001b[39mqueries,\n\u001b[1;32m    474\u001b[0m             keys\u001b[38;5;241m=\u001b[39mkeys,\n\u001b[1;32m    475\u001b[0m             values\u001b[38;5;241m=\u001b[39mvalues,\n\u001b[1;32m    476\u001b[0m             igate_preact\u001b[38;5;241m=\u001b[39migate_preact,\n\u001b[1;32m    477\u001b[0m             fgate_preact\u001b[38;5;241m=\u001b[39mfgate_preact,\n\u001b[1;32m    478\u001b[0m             var_n\u001b[38;5;241m=\u001b[39mvar_n,\n\u001b[1;32m    479\u001b[0m             var_m\u001b[38;5;241m=\u001b[39mvar_m,\n\u001b[1;32m    480\u001b[0m         )\n\u001b[1;32m    481\u001b[0m     )\n\u001b[1;32m    482\u001b[0m     \u001b[38;5;28;01mreturn\u001b[39;00m delta_Q, delta_K, delta_V, delta_i, delta_f, \u001b[38;5;28;01mNone\u001b[39;00m\n",
      "\u001b[0;31mValueError\u001b[0m: too many values to unpack (expected 5)"
     ]
    }
   ],
   "source": [
    "hs_pt.sum().backward()"
   ]
  },
  {
   "cell_type": "code",
   "execution_count": null,
   "metadata": {},
   "outputs": [
    {
     "data": {
      "text/plain": [
       "(tensor([[[[0.0001, 0.0001, 0.0001, 0.0001, 0.0001, 0.0001, 0.0001, 0.0001],\n",
       "           [0.0002, 0.0002, 0.0002, 0.0002, 0.0002, 0.0002, 0.0002, 0.0002],\n",
       "           [0.0002, 0.0002, 0.0002, 0.0002, 0.0002, 0.0002, 0.0002, 0.0002],\n",
       "           [0.0004, 0.0004, 0.0004, 0.0004, 0.0004, 0.0004, 0.0004, 0.0004],\n",
       "           [0.0006, 0.0006, 0.0006, 0.0006, 0.0006, 0.0006, 0.0006, 0.0006],\n",
       "           [0.0006, 0.0006, 0.0006, 0.0006, 0.0006, 0.0006, 0.0006, 0.0006],\n",
       "           [0.0004, 0.0004, 0.0004, 0.0004, 0.0004, 0.0004, 0.0004, 0.0004],\n",
       "           [0.0003, 0.0003, 0.0003, 0.0003, 0.0003, 0.0003, 0.0003, 0.0003],\n",
       "           [0.0003, 0.0003, 0.0003, 0.0003, 0.0003, 0.0003, 0.0003, 0.0003],\n",
       "           [0.0004, 0.0004, 0.0004, 0.0004, 0.0004, 0.0004, 0.0004, 0.0004],\n",
       "           [0.0002, 0.0002, 0.0002, 0.0002, 0.0002, 0.0002, 0.0002, 0.0002],\n",
       "           [0.0011, 0.0011, 0.0011, 0.0011, 0.0011, 0.0011, 0.0011, 0.0011],\n",
       "           [0.0010, 0.0010, 0.0010, 0.0010, 0.0010, 0.0010, 0.0010, 0.0010],\n",
       "           [0.0009, 0.0009, 0.0009, 0.0009, 0.0009, 0.0009, 0.0009, 0.0009],\n",
       "           [0.0009, 0.0009, 0.0009, 0.0009, 0.0009, 0.0009, 0.0009, 0.0009],\n",
       "           [0.0008, 0.0008, 0.0008, 0.0008, 0.0008, 0.0008, 0.0008, 0.0008]]]], device='cuda:0'),\n",
       " tensor([[[[0.0174, 0.0195, 0.0216, 0.0237, 0.0258, 0.0279, 0.0300, 0.0321],\n",
       "           [0.0785, 0.0829, 0.0873, 0.0917, 0.0961, 0.1005, 0.1049, 0.1093],\n",
       "           [0.0097, 0.0101, 0.0105, 0.0108, 0.0112, 0.0116, 0.0120, 0.0124],\n",
       "           [0.3243, 0.3337, 0.3430, 0.3524, 0.3618, 0.3711, 0.3805, 0.3898],\n",
       "           [0.2358, 0.2417, 0.2475, 0.2533, 0.2592, 0.2650, 0.2708, 0.2767],\n",
       "           [0.1397, 0.1426, 0.1456, 0.1486, 0.1516, 0.1546, 0.1576, 0.1606],\n",
       "           [0.1373, 0.1398, 0.1423, 0.1448, 0.1474, 0.1499, 0.1524, 0.1549],\n",
       "           [0.3080, 0.3129, 0.3177, 0.3225, 0.3273, 0.3321, 0.3370, 0.3418],\n",
       "           [0.1329, 0.1348, 0.1367, 0.1386, 0.1405, 0.1424, 0.1443, 0.1462],\n",
       "           [0.2046, 0.2073, 0.2101, 0.2128, 0.2155, 0.2182, 0.2209, 0.2236],\n",
       "           [0.0640, 0.0647, 0.0655, 0.0662, 0.0670, 0.0677, 0.0685, 0.0692],\n",
       "           [2.6744, 2.7021, 2.7298, 2.7575, 2.7852, 2.8129, 2.8406, 2.8683],\n",
       "           [0.3938, 0.3977, 0.4015, 0.4054, 0.4093, 0.4131, 0.4170, 0.4209],\n",
       "           [0.2212, 0.2233, 0.2253, 0.2274, 0.2295, 0.2315, 0.2336, 0.2357],\n",
       "           [0.9315, 0.9396, 0.9478, 0.9559, 0.9641, 0.9722, 0.9804, 0.9885],\n",
       "           [0.5474, 0.5520, 0.5566, 0.5611, 0.5657, 0.5702, 0.5748, 0.5794]]]], device='cuda:0'),\n",
       " tensor([[[[0.0247, 0.0247, 0.0247, 0.0247, 0.0247, 0.0247, 0.0247, 0.0247],\n",
       "           [0.0939, 0.0939, 0.0939, 0.0939, 0.0939, 0.0939, 0.0939, 0.0939],\n",
       "           [0.0110, 0.0110, 0.0110, 0.0110, 0.0110, 0.0110, 0.0110, 0.0110],\n",
       "           [0.3571, 0.3571, 0.3571, 0.3571, 0.3571, 0.3571, 0.3571, 0.3571],\n",
       "           [0.2562, 0.2562, 0.2562, 0.2562, 0.2562, 0.2562, 0.2562, 0.2562],\n",
       "           [0.1501, 0.1501, 0.1501, 0.1501, 0.1501, 0.1501, 0.1501, 0.1501],\n",
       "           [0.1461, 0.1461, 0.1461, 0.1461, 0.1461, 0.1461, 0.1461, 0.1461],\n",
       "           [0.3249, 0.3249, 0.3249, 0.3249, 0.3249, 0.3249, 0.3249, 0.3249],\n",
       "           [0.1395, 0.1395, 0.1395, 0.1395, 0.1395, 0.1395, 0.1395, 0.1395],\n",
       "           [0.2141, 0.2141, 0.2141, 0.2141, 0.2141, 0.2141, 0.2141, 0.2141],\n",
       "           [0.0666, 0.0666, 0.0666, 0.0666, 0.0666, 0.0666, 0.0666, 0.0666],\n",
       "           [2.7713, 2.7713, 2.7713, 2.7713, 2.7713, 2.7713, 2.7713, 2.7713],\n",
       "           [0.4073, 0.4073, 0.4073, 0.4073, 0.4073, 0.4073, 0.4073, 0.4073],\n",
       "           [0.2284, 0.2284, 0.2284, 0.2284, 0.2284, 0.2284, 0.2284, 0.2284],\n",
       "           [0.9600, 0.9600, 0.9600, 0.9600, 0.9600, 0.9600, 0.9600, 0.9600],\n",
       "           [0.5634, 0.5634, 0.5634, 0.5634, 0.5634, 0.5634, 0.5634, 0.5634]]]], device='cuda:0'),\n",
       " tensor([[[[0.0020],\n",
       "           [0.0075],\n",
       "           [0.0009],\n",
       "           [0.0286],\n",
       "           [0.0205],\n",
       "           [0.0120],\n",
       "           [0.0117],\n",
       "           [0.0260],\n",
       "           [0.0112],\n",
       "           [0.0171],\n",
       "           [0.0053],\n",
       "           [0.2217],\n",
       "           [0.0326],\n",
       "           [0.0183],\n",
       "           [0.0768],\n",
       "           [0.0451]]]], device='cuda:0'),\n",
       " tensor([[[[0.0000],\n",
       "           [0.0011],\n",
       "           [0.0020],\n",
       "           [0.0035],\n",
       "           [0.0051],\n",
       "           [0.0088],\n",
       "           [0.0106],\n",
       "           [0.0115],\n",
       "           [0.0081],\n",
       "           [0.0058],\n",
       "           [0.0083],\n",
       "           [0.0033],\n",
       "           [0.0553],\n",
       "           [0.0396],\n",
       "           [0.0254],\n",
       "           [0.0186]]]], device='cuda:0'))"
      ]
     },
     "execution_count": 20,
     "metadata": {},
     "output_type": "execute_result"
    }
   ],
   "source": [
    "qs_pt.grad, ks_pt.grad, vs_pt.grad, igs_pt.grad, fgs_pt.grad"
   ]
  },
  {
   "cell_type": "code",
   "execution_count": null,
   "metadata": {},
   "outputs": [
    {
     "name": "stdout",
     "output_type": "stream",
     "text": [
      "before kernel dispatch - float32!\n",
      "B: 1, NH: 1, S: 16, DH: 8\n",
      "blocksxy: 1-2, threadsxy: 4-4, shared_mem in bytes: 7136\n",
      "In BW-Kernel: gdim.x: 1, gdim.y: 2, gdim.z: 1, bdim.x: 4, bdim.y: 4\n",
      "In BW-Kernel: QtileDim: 8, KVtileDim: 8, TblockDim:4\n"
     ]
    }
   ],
   "source": [
    "hs_cu.sum().backward()"
   ]
  },
  {
   "cell_type": "code",
   "execution_count": null,
   "metadata": {},
   "outputs": [
    {
     "data": {
      "text/plain": [
       "(tensor([[[[0., 0., 0., 0., 0., 0., 0., 0.],\n",
       "           [0., 0., 0., 0., 0., 0., 0., 0.],\n",
       "           [0., 0., 0., 0., 0., 0., 0., 0.],\n",
       "           [0., 0., 0., 0., 0., 0., 0., 0.],\n",
       "           [0., 0., 0., 0., 0., 0., 0., 0.],\n",
       "           [0., 0., 0., 0., 0., 0., 0., 0.],\n",
       "           [0., 0., 0., 0., 0., 0., 0., 0.],\n",
       "           [0., 0., 0., 0., 0., 0., 0., 0.],\n",
       "           [0., 0., 0., 0., 0., 0., 0., 0.],\n",
       "           [0., 0., 0., 0., 0., 0., 0., 0.],\n",
       "           [0., 0., 0., 0., 0., 0., 0., 0.],\n",
       "           [0., 0., 0., 0., 0., 0., 0., 0.],\n",
       "           [0., 0., 0., 0., 0., 0., 0., 0.],\n",
       "           [0., 0., 0., 0., 0., 0., 0., 0.],\n",
       "           [0., 0., 0., 0., 0., 0., 0., 0.],\n",
       "           [0., 0., 0., 0., 0., 0., 0., 0.]]]], device='cuda:0'),\n",
       " tensor([[[[0., 0., 0., 0., 0., 0., 0., 0.],\n",
       "           [0., 0., 0., 0., 0., 0., 0., 0.],\n",
       "           [0., 0., 0., 0., 0., 0., 0., 0.],\n",
       "           [0., 0., 0., 0., 0., 0., 0., 0.],\n",
       "           [0., 0., 0., 0., 0., 0., 0., 0.],\n",
       "           [0., 0., 0., 0., 0., 0., 0., 0.],\n",
       "           [0., 0., 0., 0., 0., 0., 0., 0.],\n",
       "           [0., 0., 0., 0., 0., 0., 0., 0.],\n",
       "           [0., 0., 0., 0., 0., 0., 0., 0.],\n",
       "           [0., 0., 0., 0., 0., 0., 0., 0.],\n",
       "           [0., 0., 0., 0., 0., 0., 0., 0.],\n",
       "           [0., 0., 0., 0., 0., 0., 0., 0.],\n",
       "           [0., 0., 0., 0., 0., 0., 0., 0.],\n",
       "           [0., 0., 0., 0., 0., 0., 0., 0.],\n",
       "           [0., 0., 0., 0., 0., 0., 0., 0.],\n",
       "           [0., 0., 0., 0., 0., 0., 0., 0.]]]], device='cuda:0'),\n",
       " tensor([[[[0., 0., 0., 0., 0., 0., 0., 0.],\n",
       "           [0., 0., 0., 0., 0., 0., 0., 0.],\n",
       "           [0., 0., 0., 0., 0., 0., 0., 0.],\n",
       "           [0., 0., 0., 0., 0., 0., 0., 0.],\n",
       "           [0., 0., 0., 0., 0., 0., 0., 0.],\n",
       "           [0., 0., 0., 0., 0., 0., 0., 0.],\n",
       "           [0., 0., 0., 0., 0., 0., 0., 0.],\n",
       "           [0., 0., 0., 0., 0., 0., 0., 0.],\n",
       "           [0., 0., 0., 0., 0., 0., 0., 0.],\n",
       "           [0., 0., 0., 0., 0., 0., 0., 0.],\n",
       "           [0., 0., 0., 0., 0., 0., 0., 0.],\n",
       "           [0., 0., 0., 0., 0., 0., 0., 0.],\n",
       "           [0., 0., 0., 0., 0., 0., 0., 0.],\n",
       "           [0., 0., 0., 0., 0., 0., 0., 0.],\n",
       "           [0., 0., 0., 0., 0., 0., 0., 0.],\n",
       "           [0., 0., 0., 0., 0., 0., 0., 0.]]]], device='cuda:0'),\n",
       " tensor([[[[0.],\n",
       "           [0.],\n",
       "           [0.],\n",
       "           [0.],\n",
       "           [0.],\n",
       "           [0.],\n",
       "           [0.],\n",
       "           [0.],\n",
       "           [0.],\n",
       "           [0.],\n",
       "           [0.],\n",
       "           [0.],\n",
       "           [0.],\n",
       "           [0.],\n",
       "           [0.],\n",
       "           [0.]]]], device='cuda:0'),\n",
       " tensor([[[[0.],\n",
       "           [0.],\n",
       "           [0.],\n",
       "           [0.],\n",
       "           [0.],\n",
       "           [0.],\n",
       "           [0.],\n",
       "           [0.],\n",
       "           [0.],\n",
       "           [0.],\n",
       "           [0.],\n",
       "           [0.],\n",
       "           [0.],\n",
       "           [0.],\n",
       "           [0.],\n",
       "           [0.]]]], device='cuda:0'))"
      ]
     },
     "execution_count": 22,
     "metadata": {},
     "output_type": "execute_result"
    }
   ],
   "source": [
    "qs_cu.grad, ks_cu.grad, vs_cu.grad, igs_cu.grad, fgs_cu.grad"
   ]
  },
  {
   "cell_type": "code",
   "execution_count": null,
   "metadata": {},
   "outputs": [],
   "source": []
  }
 ],
 "metadata": {
  "kernelspec": {
   "display_name": "xlstmpt21cu121",
   "language": "python",
   "name": "python3"
  },
  "language_info": {
   "codemirror_mode": {
    "name": "ipython",
    "version": 3
   },
   "file_extension": ".py",
   "mimetype": "text/x-python",
   "name": "python",
   "nbconvert_exporter": "python",
   "pygments_lexer": "ipython3",
   "version": "3.11.7"
  }
 },
 "nbformat": 4,
 "nbformat_minor": 2
}
