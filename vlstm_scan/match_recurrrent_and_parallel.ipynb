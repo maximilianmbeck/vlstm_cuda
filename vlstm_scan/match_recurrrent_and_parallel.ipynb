{
 "cells": [
  {
   "cell_type": "code",
   "execution_count": 1,
   "metadata": {},
   "outputs": [],
   "source": [
    "%load_ext autoreload\n",
    "%autoreload 2\n",
    "\n",
    "import torch \n",
    "\n",
    "from vlstm_parallel import vlstm_fw_torch\n",
    "from vlstm_recurrent import vlstm_recurrent_sequence_stabilized\n",
    "\n"
   ]
  },
  {
   "cell_type": "markdown",
   "metadata": {},
   "source": [
    "# vLSTM forward backward (FULL version stabilized) implementation"
   ]
  },
  {
   "cell_type": "code",
   "execution_count": 2,
   "metadata": {},
   "outputs": [],
   "source": [
    "DTYPE = torch.float32 \n",
    "DEVICE = torch.device(\"cuda:0\")"
   ]
  },
  {
   "cell_type": "code",
   "execution_count": 10,
   "metadata": {},
   "outputs": [],
   "source": [
    "B = 1\n",
    "S = 12\n",
    "NH = 1\n",
    "DH = 4\n",
    "EPS = 0.0"
   ]
  },
  {
   "cell_type": "code",
   "execution_count": 11,
   "metadata": {},
   "outputs": [],
   "source": [
    "igate_preacts = torch.randn((B, NH, S, 1), dtype=DTYPE, device=DEVICE)\n",
    "fgate_preacts = torch.randn((B, NH, S, 1), dtype=DTYPE, device=DEVICE)"
   ]
  },
  {
   "cell_type": "code",
   "execution_count": 12,
   "metadata": {},
   "outputs": [
    {
     "data": {
      "text/plain": [
       "torch.Size([1, 1, 12, 4])"
      ]
     },
     "execution_count": 12,
     "metadata": {},
     "output_type": "execute_result"
    }
   ],
   "source": [
    "qs = torch.randn((B, NH, S, DH), dtype=DTYPE, device=DEVICE)\n",
    "ks = torch.randn((B, NH, S, DH), dtype=DTYPE, device=DEVICE)\n",
    "vs = torch.randn((B, NH, S, DH), dtype=DTYPE, device=DEVICE)\n",
    "vs.shape"
   ]
  },
  {
   "cell_type": "code",
   "execution_count": 13,
   "metadata": {},
   "outputs": [],
   "source": [
    "y_p = vlstm_fw_torch(qs, ks, vs, igate_preacts, fgate_preacts, eps=EPS)"
   ]
  },
  {
   "cell_type": "code",
   "execution_count": 14,
   "metadata": {},
   "outputs": [
    {
     "data": {
      "text/plain": [
       "tensor([[[[-0.0208,  0.3266,  0.3857,  0.0730],\n",
       "          [-0.0035,  0.0821,  0.0670,  0.0098],\n",
       "          [ 0.1610, -0.5688, -1.3052, -0.4520],\n",
       "          [-0.3968, -0.0871,  0.2988,  0.2167],\n",
       "          [ 0.4778, -0.2201, -0.0380,  0.4327],\n",
       "          [ 0.4222,  0.1358, -0.2821,  0.0323],\n",
       "          [ 0.8828,  0.7066,  0.1482,  0.8923],\n",
       "          [ 2.1660,  1.0765,  0.2336,  2.2521],\n",
       "          [-1.1186, -1.1352, -1.2679, -2.6684],\n",
       "          [ 0.8338,  0.7153,  0.7025,  1.6455],\n",
       "          [ 0.0896, -0.3243,  0.4156, -0.0119],\n",
       "          [-1.3081,  0.1669, -0.3698, -1.9528]]]], device='cuda:0')"
      ]
     },
     "execution_count": 14,
     "metadata": {},
     "output_type": "execute_result"
    }
   ],
   "source": [
    "y_p"
   ]
  },
  {
   "cell_type": "code",
   "execution_count": 15,
   "metadata": {},
   "outputs": [],
   "source": [
    "y_r = vlstm_recurrent_sequence_stabilized(qs, ks, vs, igate_preacts, fgate_preacts, normalization_mode=\"max_abs_sum_C_1\", eps=EPS)"
   ]
  },
  {
   "cell_type": "code",
   "execution_count": 16,
   "metadata": {},
   "outputs": [
    {
     "data": {
      "text/plain": [
       "tensor([[[[-0.0208,  0.3266,  0.3857,  0.0730],\n",
       "          [-0.0035,  0.0821,  0.0670,  0.0098],\n",
       "          [ 0.1610, -0.5688, -1.3052, -0.4520],\n",
       "          [-0.3968, -0.0871,  0.2988,  0.2167],\n",
       "          [ 0.4778, -0.2201, -0.0380,  0.4327],\n",
       "          [ 0.4222,  0.1358, -0.2821,  0.0323],\n",
       "          [ 0.8828,  0.7066,  0.1482,  0.8923],\n",
       "          [ 2.1660,  1.0765,  0.2336,  2.2521],\n",
       "          [-1.1186, -1.1352, -1.2679, -2.6684],\n",
       "          [ 0.8338,  0.7153,  0.7025,  1.6455],\n",
       "          [ 0.0896, -0.3243,  0.4156, -0.0119],\n",
       "          [-1.3081,  0.1669, -0.3698, -1.9528]]]], device='cuda:0')"
      ]
     },
     "execution_count": 16,
     "metadata": {},
     "output_type": "execute_result"
    }
   ],
   "source": [
    "y_r"
   ]
  },
  {
   "cell_type": "code",
   "execution_count": 10,
   "metadata": {},
   "outputs": [
    {
     "data": {
      "text/plain": [
       "True"
      ]
     },
     "execution_count": 10,
     "metadata": {},
     "output_type": "execute_result"
    }
   ],
   "source": [
    "torch.allclose(y_p, y_r, atol=1e-5)"
   ]
  },
  {
   "cell_type": "code",
   "execution_count": null,
   "metadata": {},
   "outputs": [],
   "source": []
  }
 ],
 "metadata": {
  "kernelspec": {
   "display_name": "xlstmpt220cu121",
   "language": "python",
   "name": "python3"
  },
  "language_info": {
   "codemirror_mode": {
    "name": "ipython",
    "version": 3
   },
   "file_extension": ".py",
   "mimetype": "text/x-python",
   "name": "python",
   "nbconvert_exporter": "python",
   "pygments_lexer": "ipython3",
   "version": "3.11.7"
  }
 },
 "nbformat": 4,
 "nbformat_minor": 2
}
