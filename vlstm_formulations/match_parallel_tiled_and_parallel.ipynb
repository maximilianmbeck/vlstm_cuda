{
 "cells": [
  {
   "cell_type": "code",
   "execution_count": 7,
   "metadata": {},
   "outputs": [],
   "source": [
    "import torch"
   ]
  },
  {
   "cell_type": "markdown",
   "metadata": {},
   "source": [
    "## PyTorch vLSTM forward - Tiled Computation\n",
    "\n",
    "Shows that we can compute the forward pass of the vLSTM in tiled fashion (similar to FlashAttention), \n",
    "which is necessary for the fused kernels."
   ]
  },
  {
   "cell_type": "code",
   "execution_count": 8,
   "metadata": {},
   "outputs": [
    {
     "name": "stdout",
     "output_type": "stream",
     "text": [
      "The autoreload extension is already loaded. To reload it, use:\n",
      "  %reload_ext autoreload\n"
     ]
    }
   ],
   "source": [
    "%load_ext autoreload\n",
    "%autoreload 2\n",
    "from vlstm_parallel_tiled import vlstm_parallel_tiled\n",
    "from vlstm_parallel import vlstm_parallel_fw_torch"
   ]
  },
  {
   "cell_type": "code",
   "execution_count": 9,
   "metadata": {},
   "outputs": [],
   "source": [
    "# params\n",
    "S = 8 # seq len\n",
    "B = 1 # batch size\n",
    "NH = 1 # num heads\n",
    "DH = 6 # dim per head\n",
    "DTYPE = torch.float32\n",
    "DEVICE = torch.device(\"cuda:0\")"
   ]
  },
  {
   "cell_type": "code",
   "execution_count": 10,
   "metadata": {},
   "outputs": [
    {
     "data": {
      "text/plain": [
       "(torch.Size([1, 1, 8, 6]), torch.Size([1, 1, 8, 1]))"
      ]
     },
     "execution_count": 10,
     "metadata": {},
     "output_type": "execute_result"
    }
   ],
   "source": [
    "# create qkv, inputgates, forgetgates \n",
    "torch.manual_seed(0)\n",
    "qs = torch.randn((B, NH, S, DH), device=DEVICE, dtype=DTYPE)\n",
    "ks = torch.randn((B, NH, S, DH), device=DEVICE, dtype=DTYPE)\n",
    "vs = torch.randn((B, NH, S, DH), device=DEVICE, dtype=DTYPE)\n",
    "igs = torch.rand((B, NH, S, 1), device=DEVICE, dtype=DTYPE)\n",
    "igs2 = (1. + torch.arange((B * NH * S), device=DEVICE, dtype=DTYPE)).reshape(B, NH, S, 1)\n",
    "fgs = torch.rand((B, NH, S, 1), device=DEVICE, dtype=DTYPE)\n",
    "qs.shape, fgs.shape"
   ]
  },
  {
   "cell_type": "code",
   "execution_count": 11,
   "metadata": {},
   "outputs": [],
   "source": [
    "# rs = vlstm_fw_torch(\n",
    "#     queries=qs,\n",
    "#     keys=ks,\n",
    "#     values=vs,\n",
    "#     igate_preact=igs,\n",
    "#     fgate_preact=fgs,\n",
    "#     stabilize_rowwise=True,\n",
    "# )\n",
    "# rs, rs.shape"
   ]
  },
  {
   "cell_type": "code",
   "execution_count": 12,
   "metadata": {},
   "outputs": [
    {
     "data": {
      "text/plain": [
       "(tensor([[[[-2.5441,  0.7163,  0.4934, -0.1267, -0.1014,  0.4035],\n",
       "           [-1.6203,  0.4098,  0.3366, -0.0847, -0.1083,  0.2467],\n",
       "           [ 0.8271,  0.0098,  0.5125, -0.6795,  0.2315,  0.0330],\n",
       "           [-1.9904,  0.9070,  0.9530,  0.1805, -1.7032,  1.2508],\n",
       "           [ 1.3889, -0.6382, -0.3210,  0.5379,  0.7543, -0.3709],\n",
       "           [-0.4355,  0.4663, -0.8395,  0.3217,  0.2152, -0.0767],\n",
       "           [ 0.8291, -3.9762, -2.8966,  0.0866, -0.2370,  0.0088],\n",
       "           [-0.8208, -0.8103, -2.0256,  0.4166, -0.6027, -0.1329]]]],\n",
       "        device='cuda:0'),\n",
       " torch.Size([1, 1, 8, 6]))"
      ]
     },
     "execution_count": 12,
     "metadata": {},
     "output_type": "execute_result"
    }
   ],
   "source": [
    "rs = vlstm_parallel_fw_torch(\n",
    "    queries=qs,\n",
    "    keys=ks,\n",
    "    values=vs,\n",
    "    igate_preact=igs,\n",
    "    fgate_preact=fgs,\n",
    ")\n",
    "rs, rs.shape"
   ]
  },
  {
   "cell_type": "code",
   "execution_count": 13,
   "metadata": {},
   "outputs": [
    {
     "name": "stdout",
     "output_type": "stream",
     "text": [
      "q_tiles: 2, torch.Size([1, 1, 4, 6])\n",
      "kv_tiles: 2, torch.Size([1, 1, 4, 6])\n"
     ]
    },
    {
     "data": {
      "text/plain": [
       "(tensor([[[[-2.5441,  0.7163,  0.4934, -0.1267, -0.1014,  0.4035],\n",
       "           [-1.6203,  0.4098,  0.3366, -0.0847, -0.1083,  0.2467],\n",
       "           [ 0.8271,  0.0098,  0.5125, -0.6795,  0.2315,  0.0330],\n",
       "           [-1.9904,  0.9070,  0.9530,  0.1805, -1.7032,  1.2508],\n",
       "           [ 1.3889, -0.6382, -0.3210,  0.5379,  0.7543, -0.3709],\n",
       "           [-0.4355,  0.4663, -0.8395,  0.3217,  0.2152, -0.0767],\n",
       "           [ 0.8291, -3.9762, -2.8966,  0.0866, -0.2370,  0.0088],\n",
       "           [-0.8208, -0.8103, -2.0256,  0.4166, -0.6027, -0.1329]]]],\n",
       "        device='cuda:0'),\n",
       " torch.Size([1, 1, 8, 6]))"
      ]
     },
     "execution_count": 13,
     "metadata": {},
     "output_type": "execute_result"
    }
   ],
   "source": [
    "hs, m, l = vlstm_parallel_tiled(\n",
    "    queries=qs,\n",
    "    keys=ks,\n",
    "    values=vs,\n",
    "    igate_preact=igs,\n",
    "    fgate_preact=fgs,\n",
    "    bq_tile_size=4,\n",
    "    bkv_tile_size=4,\n",
    ")\n",
    "hs, hs.shape#, m, l"
   ]
  },
  {
   "cell_type": "code",
   "execution_count": 14,
   "metadata": {},
   "outputs": [
    {
     "data": {
      "text/plain": [
       "tensor([[[[ 0.0000e+00,  0.0000e+00,  0.0000e+00,  0.0000e+00,  0.0000e+00,\n",
       "            0.0000e+00],\n",
       "          [ 0.0000e+00,  0.0000e+00,  0.0000e+00,  0.0000e+00,  0.0000e+00,\n",
       "            0.0000e+00],\n",
       "          [ 0.0000e+00,  3.7253e-09,  0.0000e+00,  0.0000e+00,  0.0000e+00,\n",
       "            0.0000e+00],\n",
       "          [-1.1921e-07,  5.9605e-08,  0.0000e+00,  0.0000e+00,  0.0000e+00,\n",
       "            0.0000e+00],\n",
       "          [ 1.1921e-07,  1.1921e-07, -3.5763e-07,  2.3842e-07,  0.0000e+00,\n",
       "            2.9802e-08],\n",
       "          [ 2.3842e-07, -2.3842e-07, -2.3842e-07,  0.0000e+00,  4.7684e-07,\n",
       "           -3.8743e-07],\n",
       "          [ 5.9605e-08,  2.3842e-07,  0.0000e+00,  0.0000e+00,  5.9605e-08,\n",
       "           -2.2352e-08],\n",
       "          [-5.9605e-08,  5.9605e-08,  0.0000e+00,  0.0000e+00,  2.9802e-07,\n",
       "           -1.1921e-07]]]], device='cuda:0')"
      ]
     },
     "execution_count": 14,
     "metadata": {},
     "output_type": "execute_result"
    }
   ],
   "source": [
    "hs - rs"
   ]
  },
  {
   "cell_type": "code",
   "execution_count": null,
   "metadata": {},
   "outputs": [],
   "source": []
  },
  {
   "cell_type": "code",
   "execution_count": null,
   "metadata": {},
   "outputs": [],
   "source": []
  }
 ],
 "metadata": {
  "kernelspec": {
   "display_name": "xlstmpt220cu121",
   "language": "python",
   "name": "python3"
  },
  "language_info": {
   "codemirror_mode": {
    "name": "ipython",
    "version": 3
   },
   "file_extension": ".py",
   "mimetype": "text/x-python",
   "name": "python",
   "nbconvert_exporter": "python",
   "pygments_lexer": "ipython3",
   "version": "3.11.7"
  }
 },
 "nbformat": 4,
 "nbformat_minor": 2
}
