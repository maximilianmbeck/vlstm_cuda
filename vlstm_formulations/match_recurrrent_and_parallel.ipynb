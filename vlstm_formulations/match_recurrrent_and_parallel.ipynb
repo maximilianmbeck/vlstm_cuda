{
 "cells": [
  {
   "cell_type": "code",
   "execution_count": 1,
   "metadata": {},
   "outputs": [],
   "source": [
    "%load_ext autoreload\n",
    "%autoreload 2\n",
    "\n",
    "import torch \n",
    "\n",
    "from vlstm_parallel import vlstm_parallel_fw_torch\n",
    "from vlstm_recurrent import vlstm_recurrent_sequence_stabilized\n",
    "\n"
   ]
  },
  {
   "cell_type": "markdown",
   "metadata": {},
   "source": [
    "# vLSTM forward backward (FULL version stabilized) implementation"
   ]
  },
  {
   "cell_type": "code",
   "execution_count": 2,
   "metadata": {},
   "outputs": [],
   "source": [
    "DTYPE = torch.float32 \n",
    "DEVICE = torch.device(\"cuda:0\")"
   ]
  },
  {
   "cell_type": "code",
   "execution_count": 3,
   "metadata": {},
   "outputs": [],
   "source": [
    "B = 1\n",
    "S = 12\n",
    "NH = 1\n",
    "DH = 4\n",
    "EPS = 0.0"
   ]
  },
  {
   "cell_type": "code",
   "execution_count": 4,
   "metadata": {},
   "outputs": [],
   "source": [
    "igate_preacts = torch.randn((B, NH, S, 1), dtype=DTYPE, device=DEVICE)\n",
    "fgate_preacts = torch.randn((B, NH, S, 1), dtype=DTYPE, device=DEVICE)"
   ]
  },
  {
   "cell_type": "code",
   "execution_count": 5,
   "metadata": {},
   "outputs": [
    {
     "data": {
      "text/plain": [
       "torch.Size([1, 1, 12, 4])"
      ]
     },
     "execution_count": 5,
     "metadata": {},
     "output_type": "execute_result"
    }
   ],
   "source": [
    "qs = torch.randn((B, NH, S, DH), dtype=DTYPE, device=DEVICE)\n",
    "ks = torch.randn((B, NH, S, DH), dtype=DTYPE, device=DEVICE)\n",
    "vs = torch.randn((B, NH, S, DH), dtype=DTYPE, device=DEVICE)\n",
    "vs.shape"
   ]
  },
  {
   "cell_type": "code",
   "execution_count": 6,
   "metadata": {},
   "outputs": [],
   "source": [
    "y_p = vlstm_parallel_fw_torch(qs, ks, vs, igate_preacts, fgate_preacts, eps=EPS)"
   ]
  },
  {
   "cell_type": "code",
   "execution_count": 7,
   "metadata": {},
   "outputs": [
    {
     "data": {
      "text/plain": [
       "tensor([[[[ 0.0401, -0.6524,  0.0756, -0.1705],\n",
       "          [-0.0835, -0.5428, -0.1295, -0.1220],\n",
       "          [ 0.0119,  0.2431,  0.1620,  0.0266],\n",
       "          [ 4.1489, -0.8343, -1.1976, -0.1249],\n",
       "          [ 1.0242,  0.5282, -0.4067, -0.4703],\n",
       "          [-0.1481,  0.1326, -0.2982, -0.3432],\n",
       "          [-0.9226,  0.4848,  0.3874, -0.2165],\n",
       "          [ 0.1472,  0.0197, -0.5274, -0.2781],\n",
       "          [ 0.6186,  0.0995, -0.5075, -0.1090],\n",
       "          [ 0.0781,  0.1545, -0.0641,  0.4224],\n",
       "          [ 0.0790,  0.1072,  0.2291, -0.3317],\n",
       "          [-0.4620, -0.2302, -1.1630, -1.4933]]]], device='cuda:0')"
      ]
     },
     "execution_count": 7,
     "metadata": {},
     "output_type": "execute_result"
    }
   ],
   "source": [
    "y_p"
   ]
  },
  {
   "cell_type": "code",
   "execution_count": 8,
   "metadata": {},
   "outputs": [],
   "source": [
    "y_r = vlstm_recurrent_sequence_stabilized(qs, ks, vs, igate_preacts, fgate_preacts, normalization_mode=\"max_abs_sum_C_1\", eps=EPS)"
   ]
  },
  {
   "cell_type": "code",
   "execution_count": 9,
   "metadata": {},
   "outputs": [
    {
     "data": {
      "text/plain": [
       "tensor([[[[ 0.0401, -0.6524,  0.0756, -0.1705],\n",
       "          [-0.0835, -0.5428, -0.1295, -0.1220],\n",
       "          [ 0.0119,  0.2431,  0.1620,  0.0266],\n",
       "          [ 4.1489, -0.8343, -1.1976, -0.1249],\n",
       "          [ 1.0242,  0.5282, -0.4067, -0.4703],\n",
       "          [-0.1481,  0.1326, -0.2982, -0.3432],\n",
       "          [-0.9226,  0.4848,  0.3874, -0.2165],\n",
       "          [ 0.1472,  0.0197, -0.5274, -0.2781],\n",
       "          [ 0.6186,  0.0995, -0.5075, -0.1090],\n",
       "          [ 0.0781,  0.1545, -0.0641,  0.4224],\n",
       "          [ 0.0790,  0.1072,  0.2291, -0.3317],\n",
       "          [-0.4620, -0.2302, -1.1630, -1.4933]]]], device='cuda:0')"
      ]
     },
     "execution_count": 9,
     "metadata": {},
     "output_type": "execute_result"
    }
   ],
   "source": [
    "y_r"
   ]
  },
  {
   "cell_type": "code",
   "execution_count": 10,
   "metadata": {},
   "outputs": [
    {
     "data": {
      "text/plain": [
       "True"
      ]
     },
     "execution_count": 10,
     "metadata": {},
     "output_type": "execute_result"
    }
   ],
   "source": [
    "torch.allclose(y_p, y_r, atol=1e-5)"
   ]
  },
  {
   "cell_type": "code",
   "execution_count": null,
   "metadata": {},
   "outputs": [],
   "source": []
  }
 ],
 "metadata": {
  "kernelspec": {
   "display_name": "xlstmpt220cu121",
   "language": "python",
   "name": "python3"
  },
  "language_info": {
   "codemirror_mode": {
    "name": "ipython",
    "version": 3
   },
   "file_extension": ".py",
   "mimetype": "text/x-python",
   "name": "python",
   "nbconvert_exporter": "python",
   "pygments_lexer": "ipython3",
   "version": "3.11.7"
  }
 },
 "nbformat": 4,
 "nbformat_minor": 2
}
