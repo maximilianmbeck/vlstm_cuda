{
 "cells": [
  {
   "cell_type": "code",
   "execution_count": 1,
   "metadata": {},
   "outputs": [],
   "source": [
    "%load_ext autoreload\n",
    "%autoreload 2\n",
    "\n",
    "import torch \n",
    "\n",
    "from gla_chunkwise_recurrent import torch_simple_gla, torch_simple_gla_recurrent"
   ]
  },
  {
   "cell_type": "markdown",
   "metadata": {},
   "source": [
    "# Understand GLA chunkwise recurrent formulation"
   ]
  },
  {
   "cell_type": "markdown",
   "metadata": {},
   "source": [
    "- Simple GLA\n",
    "\n",
    "Gating mechanism in https://arxiv.org/abs/2103.02143. Compared to GLA, the gating is head-wise instead of elementwise. As a result, we can adapt the RetNet kernel for training using matmul w/o numerical instability. It is faster than GLA but has less expressive power. I will use it as a baseline for the GLA.\n",
    "\n",
    "$S_{t+1} = g_{t+1} \\odot S_{t} + K_{t+1} V_{t+1}^{\\top}$ where $g$ is a scalar."
   ]
  },
  {
   "cell_type": "code",
   "execution_count": 2,
   "metadata": {},
   "outputs": [],
   "source": [
    "DTYPE = torch.float32 \n",
    "DEVICE = torch.device(\"cuda:0\")"
   ]
  },
  {
   "cell_type": "code",
   "execution_count": 3,
   "metadata": {},
   "outputs": [],
   "source": [
    "B = 1\n",
    "S = 12\n",
    "NH = 1\n",
    "DH = 5"
   ]
  },
  {
   "cell_type": "code",
   "execution_count": 4,
   "metadata": {},
   "outputs": [],
   "source": [
    "gs = torch.randn((B, NH, S), dtype=DTYPE, device=DEVICE)"
   ]
  },
  {
   "cell_type": "code",
   "execution_count": 5,
   "metadata": {},
   "outputs": [
    {
     "data": {
      "text/plain": [
       "torch.Size([1, 1, 12, 5])"
      ]
     },
     "execution_count": 5,
     "metadata": {},
     "output_type": "execute_result"
    }
   ],
   "source": [
    "qs = torch.randn((B, NH, S, DH), dtype=DTYPE, device=DEVICE)\n",
    "ks = torch.randn((B, NH, S, DH), dtype=DTYPE, device=DEVICE)\n",
    "vs = torch.randn((B, NH, S, DH), dtype=DTYPE, device=DEVICE)\n",
    "vs.shape"
   ]
  },
  {
   "cell_type": "code",
   "execution_count": 6,
   "metadata": {},
   "outputs": [
    {
     "name": "stderr",
     "output_type": "stream",
     "text": [
      "/home/max/miniconda3/envs/xlstmpt220cu121/lib/python3.11/site-packages/tqdm/auto.py:21: TqdmWarning: IProgress not found. Please update jupyter and ipywidgets. See https://ipywidgets.readthedocs.io/en/stable/user_install.html\n",
      "  from .autonotebook import tqdm as notebook_tqdm\n"
     ]
    }
   ],
   "source": [
    "y_chunk = torch_simple_gla(qs, ks, vs, gs, chunk_size=4)"
   ]
  },
  {
   "cell_type": "code",
   "execution_count": 12,
   "metadata": {},
   "outputs": [
    {
     "data": {
      "text/plain": [
       "(tensor([[[[-0.8802, -0.5078,  0.0239, -0.0394],\n",
       "           [-1.6906, -0.9773, -0.4512,  1.2322],\n",
       "           [ 0.6835,  0.3874,  0.3577, -0.9209],\n",
       "           [ 0.1452,  1.0253, -0.2556,  0.8121],\n",
       "           [ 1.7869,  0.9745, -0.9807, -0.9227],\n",
       "           [-0.8809,  1.7100, -0.7934,  0.9973],\n",
       "           [-0.0363, -0.4424,  0.0630,  0.0519],\n",
       "           [ 1.3853, -0.7348, -2.6967, -0.7480],\n",
       "           [-0.5974,  0.9879, -0.3555,  0.5916],\n",
       "           [ 1.0301,  1.1901, -0.8591, -1.0535],\n",
       "           [ 0.1138,  1.4598, -3.1535, -1.8314],\n",
       "           [-1.4128, -2.8261,  2.1200,  3.5042]]]], device='cuda:0'),\n",
       " torch.Size([1, 1, 12, 4]))"
      ]
     },
     "execution_count": 12,
     "metadata": {},
     "output_type": "execute_result"
    }
   ],
   "source": [
    "y_chunk, y_chunk.shape"
   ]
  },
  {
   "cell_type": "code",
   "execution_count": 9,
   "metadata": {},
   "outputs": [],
   "source": [
    "y_recurrent = torch_simple_gla_recurrent(qs, ks, vs, gs, chunk_size=4)"
   ]
  },
  {
   "cell_type": "code",
   "execution_count": 10,
   "metadata": {},
   "outputs": [
    {
     "data": {
      "text/plain": [
       "tensor([[[[-0.8802, -0.5078,  0.0239, -0.0394],\n",
       "          [-1.6906, -0.9773, -0.4512,  1.2322],\n",
       "          [ 0.6835,  0.3874,  0.3577, -0.9209],\n",
       "          [ 0.1452,  1.0253, -0.2556,  0.8121],\n",
       "          [ 1.7869,  0.9745, -0.9807, -0.9227],\n",
       "          [-0.8809,  1.7100, -0.7934,  0.9973],\n",
       "          [-0.0363, -0.4424,  0.0630,  0.0519],\n",
       "          [ 1.3853, -0.7348, -2.6967, -0.7480],\n",
       "          [-0.5974,  0.9879, -0.3555,  0.5916],\n",
       "          [ 1.0301,  1.1901, -0.8591, -1.0535],\n",
       "          [ 0.1138,  1.4598, -3.1535, -1.8314],\n",
       "          [-1.4128, -2.8261,  2.1200,  3.5042]]]], device='cuda:0')"
      ]
     },
     "execution_count": 10,
     "metadata": {},
     "output_type": "execute_result"
    }
   ],
   "source": [
    "y_recurrent"
   ]
  },
  {
   "cell_type": "code",
   "execution_count": null,
   "metadata": {},
   "outputs": [],
   "source": []
  }
 ],
 "metadata": {
  "kernelspec": {
   "display_name": "xlstmpt220cu121",
   "language": "python",
   "name": "python3"
  },
  "language_info": {
   "codemirror_mode": {
    "name": "ipython",
    "version": 3
   },
   "file_extension": ".py",
   "mimetype": "text/x-python",
   "name": "python",
   "nbconvert_exporter": "python",
   "pygments_lexer": "ipython3",
   "version": "3.11.7"
  }
 },
 "nbformat": 4,
 "nbformat_minor": 2
}
