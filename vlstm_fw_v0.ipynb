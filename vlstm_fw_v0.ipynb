{
 "cells": [
  {
   "cell_type": "code",
   "execution_count": 1,
   "metadata": {
    "notebookRunGroups": {
     "groupValue": "1"
    }
   },
   "outputs": [
    {
     "data": {
      "text/plain": [
       "True"
      ]
     },
     "execution_count": 1,
     "metadata": {},
     "output_type": "execute_result"
    }
   ],
   "source": [
    "import sys\n",
    "import os\n",
    "\n",
    "os.environ[\"CUDA_VISIBLE_DEVICES\"] = \"0\"\n",
    "sys.path.append(\".\")\n",
    "# os.environ[\"MAX_JOBS\"] = \"100\"\n",
    "\n",
    "import torch\n",
    "torch.set_printoptions(linewidth=200)\n",
    "torch.cuda.is_available()"
   ]
  },
  {
   "cell_type": "code",
   "execution_count": 2,
   "metadata": {
    "notebookRunGroups": {
     "groupValue": "1"
    }
   },
   "outputs": [
    {
     "name": "stdout",
     "output_type": "stream",
     "text": [
      "INCLUDE: ['/home/max/miniconda3/envs/xlstmpt21cu118/lib/python3.11/site-packages/torch/include', '/home/max/miniconda3/envs/xlstmpt21cu118/lib/python3.11/site-packages/torch/include/torch/csrc/api/include', '/home/max/miniconda3/envs/xlstmpt21cu118/lib/python3.11/site-packages/torch/include/TH', '/home/max/miniconda3/envs/xlstmpt21cu118/lib/python3.11/site-packages/torch/include/THC', '/home/max/miniconda3/envs/xlstmpt21cu118/include']\n",
      "/home/max/myrepos/vlstm_cuda/src\n",
      "/home/max/cpplibs/libtorch/lib:/usr/local/cuda-12.3/lib64:\n",
      "/home/max/miniconda3/envs/xlstmpt21cu118/lib\n"
     ]
    },
    {
     "name": "stderr",
     "output_type": "stream",
     "text": [
      "Using /home/max/.cache/torch_extensions/py311_cu118 as PyTorch extensions root...\n",
      "Creating extension directory /home/max/.cache/torch_extensions/py311_cu118/vlstm_fw_v0...\n",
      "Detected CUDA files, patching ldflags\n",
      "Emitting ninja build file /home/max/.cache/torch_extensions/py311_cu118/vlstm_fw_v0/build.ninja...\n",
      "Building extension module vlstm_fw_v0...\n",
      "Allowing ninja to set a default number of workers... (overridable by setting the environment variable MAX_JOBS=N)\n"
     ]
    },
    {
     "name": "stdout",
     "output_type": "stream",
     "text": [
      "[1/3] /home/max/miniconda3/envs/xlstmpt21cu118/bin/x86_64-conda-linux-gnu-c++ -MMD -MF interface.o.d -DTORCH_EXTENSION_NAME=vlstm_fw_v0 -DTORCH_API_INCLUDE_EXTENSION_H -DPYBIND11_COMPILER_TYPE=\\\"_gcc\\\" -DPYBIND11_STDLIB=\\\"_libstdcpp\\\" -DPYBIND11_BUILD_ABI=\\\"_cxxabi1011\\\" -isystem /home/max/miniconda3/envs/xlstmpt21cu118/lib/python3.11/site-packages/torch/include -isystem /home/max/miniconda3/envs/xlstmpt21cu118/lib/python3.11/site-packages/torch/include/torch/csrc/api/include -isystem /home/max/miniconda3/envs/xlstmpt21cu118/lib/python3.11/site-packages/torch/include/TH -isystem /home/max/miniconda3/envs/xlstmpt21cu118/lib/python3.11/site-packages/torch/include/THC -isystem /home/max/miniconda3/envs/xlstmpt21cu118/include -isystem /home/max/miniconda3/envs/xlstmpt21cu118/include/python3.11 -D_GLIBCXX_USE_CXX11_ABI=0 -fPIC -std=c++17 -c /home/max/myrepos/vlstm_cuda/src/vlstm_fw_v0/interface.cc -o interface.o \n",
      "[2/3] /home/max/miniconda3/envs/xlstmpt21cu118/bin/nvcc  -ccbin /home/max/miniconda3/envs/xlstmpt21cu118/bin/x86_64-conda-linux-gnu-cc -DTORCH_EXTENSION_NAME=vlstm_fw_v0 -DTORCH_API_INCLUDE_EXTENSION_H -DPYBIND11_COMPILER_TYPE=\\\"_gcc\\\" -DPYBIND11_STDLIB=\\\"_libstdcpp\\\" -DPYBIND11_BUILD_ABI=\\\"_cxxabi1011\\\" -isystem /home/max/miniconda3/envs/xlstmpt21cu118/lib/python3.11/site-packages/torch/include -isystem /home/max/miniconda3/envs/xlstmpt21cu118/lib/python3.11/site-packages/torch/include/torch/csrc/api/include -isystem /home/max/miniconda3/envs/xlstmpt21cu118/lib/python3.11/site-packages/torch/include/TH -isystem /home/max/miniconda3/envs/xlstmpt21cu118/lib/python3.11/site-packages/torch/include/THC -isystem /home/max/miniconda3/envs/xlstmpt21cu118/include -isystem /home/max/miniconda3/envs/xlstmpt21cu118/include/python3.11 -D_GLIBCXX_USE_CXX11_ABI=0 -D__CUDA_NO_HALF_OPERATORS__ -D__CUDA_NO_HALF_CONVERSIONS__ -D__CUDA_NO_BFLOAT16_CONVERSIONS__ -D__CUDA_NO_HALF2_OPERATORS__ --expt-relaxed-constexpr -gencode=arch=compute_89,code=compute_89 -gencode=arch=compute_89,code=sm_89 --compiler-options '-fPIC' -gencode arch=compute_80,code=compute_80 -res-usage --use_fast_math -O3 -Xptxas -O3 --extra-device-vectorization -DTmax=13407807929942597099574024998205846127479365820592393377723561443721764030073546976801874298166903427690031858186486050853753882811946569946433649006084096 -std=c++17 -c /home/max/myrepos/vlstm_cuda/src/vlstm_fw_v0/kernels.cu -o kernels.cuda.o \n",
      "/home/max/myrepos/vlstm_cuda/src/vlstm_fw_v0/../util/inline_ops.cuh(255): remark #20200-D: #pragma message: \"/home/max/myrepos/vlstm_cuda/src/vlstm_fw_v0/../util/inline_ops.cuh:255 CUDART_VERSION: 11080, arch: 800\"\n",
      "\n",
      "/home/max/myrepos/vlstm_cuda/src/vlstm_fw_v0/../util/inline_ops.cuh(260): remark #20200-D: #pragma message: \"INCLUDING FP16\"\n",
      "\n",
      "/home/max/myrepos/vlstm_cuda/src/vlstm_fw_v0/../util/inline_ops_fp16.cuh(29): remark #20200-D: #pragma message: \"/home/max/myrepos/vlstm_cuda/src/vlstm_fw_v0/../util/inline_ops_fp16.cuh:29 CUDART_VERSION with FP16: 11080, CUDA_ARCH: 800\"\n",
      "\n",
      "/home/max/myrepos/vlstm_cuda/src/vlstm_fw_v0/../util/inline_ops_2fp16.cuh(29): remark #20200-D: #pragma message: \"/home/max/myrepos/vlstm_cuda/src/vlstm_fw_v0/../util/inline_ops_2fp16.cuh:29 CUDART_VERSION with FP16: 11080, CUDA_ARCH: 800\"\n",
      "\n",
      "/home/max/myrepos/vlstm_cuda/src/vlstm_fw_v0/../util/inline_ops.cuh(273): remark #20200-D: #pragma message: \"INCLUDING BF16\"\n",
      "\n",
      "/home/max/myrepos/vlstm_cuda/src/vlstm_fw_v0/../util/inline_ops_bf16.cuh(29): remark #20200-D: #pragma message: \"/home/max/myrepos/vlstm_cuda/src/vlstm_fw_v0/../util/inline_ops_bf16.cuh:29 CUDART_VERSION with BF16: 11080, CUDA_ARCH: 800\"\n",
      "\n",
      "/home/max/myrepos/vlstm_cuda/src/vlstm_fw_v0/../util/inline_ops_2bf16.cuh(29): remark #20200-D: #pragma message: \"/home/max/myrepos/vlstm_cuda/src/vlstm_fw_v0/../util/inline_ops_2bf16.cuh:29 CUDART_VERSION with FP16: 11080, CUDA_ARCH: 800\"\n",
      "\n",
      "/home/max/myrepos/vlstm_cuda/src/vlstm_fw_v0/../util/inline_ops.cuh(255): remark #20200-D: #pragma message: \"/home/max/myrepos/vlstm_cuda/src/vlstm_fw_v0/../util/inline_ops.cuh:255 CUDART_VERSION: 11080, arch: 890\"\n",
      "\n",
      "/home/max/myrepos/vlstm_cuda/src/vlstm_fw_v0/../util/inline_ops.cuh(260): remark #20200-D: #pragma message: \"INCLUDING FP16\"\n",
      "\n",
      "/home/max/myrepos/vlstm_cuda/src/vlstm_fw_v0/../util/inline_ops_fp16.cuh(29): remark #20200-D: #pragma message: \"/home/max/myrepos/vlstm_cuda/src/vlstm_fw_v0/../util/inline_ops_fp16.cuh:29 CUDART_VERSION with FP16: 11080, CUDA_ARCH: 890\"\n",
      "\n",
      "/home/max/myrepos/vlstm_cuda/src/vlstm_fw_v0/../util/inline_ops_2fp16.cuh(29): remark #20200-D: #pragma message: \"/home/max/myrepos/vlstm_cuda/src/vlstm_fw_v0/../util/inline_ops_2fp16.cuh:29 CUDART_VERSION with FP16: 11080, CUDA_ARCH: 890\"\n",
      "\n",
      "/home/max/myrepos/vlstm_cuda/src/vlstm_fw_v0/../util/inline_ops.cuh(273): remark #20200-D: #pragma message: \"INCLUDING BF16\"\n",
      "\n",
      "/home/max/myrepos/vlstm_cuda/src/vlstm_fw_v0/../util/inline_ops_bf16.cuh(29): remark #20200-D: #pragma message: \"/home/max/myrepos/vlstm_cuda/src/vlstm_fw_v0/../util/inline_ops_bf16.cuh:29 CUDART_VERSION with BF16: 11080, CUDA_ARCH: 890\"\n",
      "\n",
      "/home/max/myrepos/vlstm_cuda/src/vlstm_fw_v0/../util/inline_ops_2bf16.cuh(29): remark #20200-D: #pragma message: \"/home/max/myrepos/vlstm_cuda/src/vlstm_fw_v0/../util/inline_ops_2bf16.cuh:29 CUDART_VERSION with FP16: 11080, CUDA_ARCH: 890\"\n",
      "\n",
      "ptxas info    : 144 bytes gmem\n",
      "ptxas info    : Compiling entry function '_ZN5vlstm7kernels8vlstm_fwIfLi4ELi8ELi8EEEvPT_S3_S3_S3_iiii' for 'sm_89'\n",
      "ptxas info    : Function properties for _ZN5vlstm7kernels8vlstm_fwIfLi4ELi8ELi8EEEvPT_S3_S3_S3_iiii\n",
      "    24 bytes stack frame, 0 bytes spill stores, 0 bytes spill loads\n",
      "ptxas info    : Used 56 registers, 400 bytes cmem[0]\n",
      "ptxas info    : Compiling entry function '_ZN5vlstm7kernels8vlstm_fwI6__halfLi4ELi8ELi8EEEvPT_S4_S4_S4_iiii' for 'sm_89'\n",
      "ptxas info    : Function properties for _ZN5vlstm7kernels8vlstm_fwI6__halfLi4ELi8ELi8EEEvPT_S4_S4_S4_iiii\n",
      "    24 bytes stack frame, 0 bytes spill stores, 0 bytes spill loads\n",
      "ptxas info    : Used 48 registers, 400 bytes cmem[0]\n",
      "ptxas info    : Compiling entry function '_ZN5vlstm7kernels8vlstm_fwI13__nv_bfloat16Li4ELi8ELi8EEEvPT_S4_S4_S4_iiii' for 'sm_89'\n",
      "ptxas info    : Function properties for _ZN5vlstm7kernels8vlstm_fwI13__nv_bfloat16Li4ELi8ELi8EEEvPT_S4_S4_S4_iiii\n",
      "    24 bytes stack frame, 0 bytes spill stores, 0 bytes spill loads\n",
      "ptxas info    : Used 48 registers, 400 bytes cmem[0]\n",
      "/home/max/myrepos/vlstm_cuda/src/vlstm_fw_v0/../util/inline_ops.cuh:255:136: note: '#pragma message: /home/max/myrepos/vlstm_cuda/src/vlstm_fw_v0/../util/inline_ops.cuh:255 CUDART_VERSION: 11080, arch: __CUDA_ARCH__'\n",
      "  255 | #pragma message(AT \" CUDART_VERSION: \" TOSTRING(                               \\\n",
      "      |                                                                                                                                        ^\n",
      "/home/max/myrepos/vlstm_cuda/src/vlstm_fw_v0/../util/inline_ops.cuh:267:90: note: '#pragma message: SKIPPING FP16, because of CUDART_VERSION: 11080, arch: __CUDA_ARCH__'\n",
      "  267 | #pragma message(\"SKIPPING FP16, because of CUDART_VERSION: \" TOSTRING(         \\\n",
      "      |                                                                                          ^\n",
      "/home/max/myrepos/vlstm_cuda/src/vlstm_fw_v0/../util/inline_ops.cuh:280:90: note: '#pragma message: SKIPPING BF16, because of CUDART_VERSION: 11080, arch: __CUDA_ARCH__'\n",
      "  280 | #pragma message(\"SKIPPING BF16, because of CUDART_VERSION: \" TOSTRING(         \\\n",
      "      |                                                                                          ^\n",
      "[3/3] /home/max/miniconda3/envs/xlstmpt21cu118/bin/x86_64-conda-linux-gnu-c++ interface.o kernels.cuda.o -shared -L/home/max/miniconda3/envs/xlstmpt21cu118/lib -lcublas -L/home/max/miniconda3/envs/xlstmpt21cu118/lib/python3.11/site-packages/torch/lib -lc10 -lc10_cuda -ltorch_cpu -ltorch_cuda -ltorch -ltorch_python -L/home/max/miniconda3/envs/xlstmpt21cu118/lib -lcudart -o vlstm_fw_v0.so\n"
     ]
    },
    {
     "name": "stderr",
     "output_type": "stream",
     "text": [
      "Loading extension module vlstm_fw_v0...\n"
     ]
    }
   ],
   "source": [
    "from src.vlstm_fw_v0.interface import vlstm_fw_torch\n",
    "from src.vlstm_fw_v0.interface import vlstm_fw_cuda"
   ]
  },
  {
   "cell_type": "markdown",
   "metadata": {},
   "source": [
    "## CUDA vLSTM forward"
   ]
  },
  {
   "cell_type": "code",
   "execution_count": 17,
   "metadata": {
    "notebookRunGroups": {
     "groupValue": "1"
    }
   },
   "outputs": [],
   "source": [
    "S = 16 # seq len\n",
    "B = 1 # batch size\n",
    "NH = 1 # num heads\n",
    "DH = 4 # dim per head\n",
    "DTYPE = torch.float32\n",
    "DEVICE = torch.device(\"cuda:0\")"
   ]
  },
  {
   "cell_type": "code",
   "execution_count": 32,
   "metadata": {
    "notebookRunGroups": {
     "groupValue": "1"
    }
   },
   "outputs": [
    {
     "data": {
      "text/plain": [
       "(tensor([[[[0.0000, 0.1000, 0.2000, 0.3000],\n",
       "           [0.4000, 0.5000, 0.6000, 0.7000],\n",
       "           [0.8000, 0.9000, 1.0000, 1.1000],\n",
       "           [1.2000, 1.3000, 1.4000, 1.5000],\n",
       "           [1.6000, 1.7000, 1.8000, 1.9000],\n",
       "           [2.0000, 2.1000, 2.2000, 2.3000],\n",
       "           [2.4000, 2.5000, 2.6000, 2.7000],\n",
       "           [2.8000, 2.9000, 3.0000, 3.1000]]]], device='cuda:0'),\n",
       " torch.Size([1, 1, 8, 4]),\n",
       " 32)"
      ]
     },
     "execution_count": 32,
     "metadata": {},
     "output_type": "execute_result"
    }
   ],
   "source": [
    "# create qkv, inputgates, forgetgates \n",
    "torch.manual_seed(0)\n",
    "qs = torch.arange((B*NH*S*DH), device=DEVICE, dtype=DTYPE).reshape((B, NH, S, DH)) / 10.\n",
    "ks = torch.ones((B, NH, S, DH), device=DEVICE, dtype=DTYPE) / 100.\n",
    "vs = torch.ones((B, NH, S, DH), device=DEVICE, dtype=DTYPE) / 100.\n",
    "# igs = (1. + torch.arange((B * NH * S), device=DEVICE, dtype=DTYPE)).reshape(B, NH, S, 1) / 100.\n",
    "igs = torch.ones((B, NH, S, 1), device=DEVICE, dtype=DTYPE) #/ 10.\n",
    "fgs = 0.01 * torch.ones((B, NH, S, 1), device=DEVICE, dtype=DTYPE)\n",
    "qs, qs.shape, len(qs.view(-1))"
   ]
  },
  {
   "cell_type": "code",
   "execution_count": 35,
   "metadata": {
    "notebookRunGroups": {
     "groupValue": "1"
    }
   },
   "outputs": [
    {
     "data": {
      "text/plain": [
       "(tensor([[[[8.1548e-05, 8.1548e-05, 8.1548e-05, 8.1548e-05],\n",
       "           [4.4926e-04, 4.4926e-04, 4.4926e-04, 4.4926e-04],\n",
       "           [9.0641e-04, 9.0641e-04, 9.0641e-04, 9.0641e-04],\n",
       "           [1.3812e-03, 1.3812e-03, 1.3812e-03, 1.3812e-03],\n",
       "           [1.8511e-03, 1.8511e-03, 1.8511e-03, 1.8511e-03],\n",
       "           [2.3116e-03, 2.3116e-03, 2.3116e-03, 2.3116e-03],\n",
       "           [2.7640e-03, 2.7640e-03, 2.7640e-03, 2.7640e-03],\n",
       "           [3.2106e-03, 3.2106e-03, 3.2106e-03, 3.2106e-03]]]], device='cuda:0'),\n",
       " torch.Size([1, 1, 8, 4]))"
      ]
     },
     "execution_count": 35,
     "metadata": {},
     "output_type": "execute_result"
    }
   ],
   "source": [
    "# pytorch version\n",
    "rs = vlstm_fw_torch(\n",
    "    queries=qs,\n",
    "    keys=ks,\n",
    "    values=vs,\n",
    "    igate_preact=igs,\n",
    "    fgate_preact=fgs,\n",
    ")\n",
    "rs, rs.shape"
   ]
  },
  {
   "cell_type": "code",
   "execution_count": 20,
   "metadata": {
    "notebookRunGroups": {
     "groupValue": "1"
    }
   },
   "outputs": [
    {
     "name": "stdout",
     "output_type": "stream",
     "text": [
      "before kernel dispatch - float32!\n",
      "B: 1, NH: 1, S: 16, DH: 4\n",
      "blocksxy: 1-2, threads: 4-4, shared_mem in bytes: 2048\n",
      "In Kernel: gdim.x: 1, gdim.y: 2, gdim.z: 1, bdim.x: 4, bdim.y: 4\n",
      "In Kernel: QtileDim: 8, KVtileDim: 8, TblockDim:4\n"
     ]
    },
    {
     "data": {
      "text/plain": [
       "(tensor([[[[  9.6000,   9.6000,   9.6000,   9.6000],\n",
       "           [ 35.2000,  35.2000,  35.2000,  35.2000],\n",
       "           [ 60.8000,  60.8000,  60.8000,  60.8000],\n",
       "           [ 86.4000,  86.4000,  86.4000,  86.4000],\n",
       "           [112.0000, 112.0000, 112.0000, 112.0000],\n",
       "           [137.6000, 137.6000, 137.6000, 137.6000],\n",
       "           [163.2000, 163.2000, 163.2000, 163.2000],\n",
       "           [188.8000, 188.8000, 188.8000, 188.8000],\n",
       "           [214.4000, 214.4000, 214.4000, 214.4000],\n",
       "           [240.0000, 240.0000, 240.0000, 240.0000],\n",
       "           [265.6001, 265.6001, 265.6001, 265.6001],\n",
       "           [291.2000, 291.2000, 291.2000, 291.2000],\n",
       "           [316.8000, 316.8000, 316.8000, 316.8000],\n",
       "           [342.4000, 342.4000, 342.4000, 342.4000],\n",
       "           [368.0000, 368.0000, 368.0000, 368.0000],\n",
       "           [393.6001, 393.6001, 393.6001, 393.6001]]]], device='cuda:0'),\n",
       " torch.Size([1, 1, 16, 4]))"
      ]
     },
     "execution_count": 20,
     "metadata": {},
     "output_type": "execute_result"
    }
   ],
   "source": [
    "# cuda kernel\n",
    "rs = vlstm_fw_cuda(mat_Q=qs, mat_K=ks, mat_V=vs)\n",
    "rs, rs.shape"
   ]
  },
  {
   "cell_type": "markdown",
   "metadata": {},
   "source": [
    "## PyTorch vLSTM forward - Normalization\n",
    "\n",
    "Shows that the result is identical, whether we use rowwise stabilization or not. \n",
    "For the Kernel it is easier to implement the rowwise normalization, therefore use the rowwise normalization as default. (It is also somewhat conceptually easier to convey. We treat each timestep independently.)\n",
    "\n",
    "In most cases due to the input gate the maximum is the last input timestep (i.e. the element on the diagonal). Then the result of the stabilization is that there are almost always ones on the diagonal, and the other timesteps are decayed accordingly."
   ]
  },
  {
   "cell_type": "code",
   "execution_count": 23,
   "metadata": {},
   "outputs": [],
   "source": [
    "from src.vlstm_fw_v0.torch_impl import vlstm_fw_torch"
   ]
  },
  {
   "cell_type": "code",
   "execution_count": 24,
   "metadata": {},
   "outputs": [],
   "source": [
    "# params\n",
    "S = 8 # seq len\n",
    "B = 1 # batch size\n",
    "NH = 1 # num heads\n",
    "DH = 4 # dim per head\n",
    "DTYPE = torch.float32\n",
    "DEVICE = torch.device(\"cuda:0\")"
   ]
  },
  {
   "cell_type": "code",
   "execution_count": 25,
   "metadata": {},
   "outputs": [
    {
     "data": {
      "text/plain": [
       "(torch.Size([1, 1, 8, 4]), torch.Size([1, 1, 8, 1]))"
      ]
     },
     "execution_count": 25,
     "metadata": {},
     "output_type": "execute_result"
    }
   ],
   "source": [
    "# create qkv, inputgates, forgetgates \n",
    "torch.manual_seed(0)\n",
    "qs = torch.randn((B, NH, S, DH), device=DEVICE, dtype=DTYPE)\n",
    "ks = torch.randn((B, NH, S, DH), device=DEVICE, dtype=DTYPE)\n",
    "vs = torch.randn((B, NH, S, DH), device=DEVICE, dtype=DTYPE)\n",
    "igs = torch.rand((B, NH, S, 1), device=DEVICE, dtype=DTYPE)\n",
    "igs2 = (1. + torch.arange((B * NH * S), device=DEVICE, dtype=DTYPE)).reshape(B, NH, S, 1)\n",
    "fgs = torch.rand((B, NH, S, 1), device=DEVICE, dtype=DTYPE)\n",
    "qs.shape, fgs.shape"
   ]
  },
  {
   "cell_type": "code",
   "execution_count": 26,
   "metadata": {},
   "outputs": [
    {
     "data": {
      "text/plain": [
       "(tensor([[[[-2.5441,  0.7163,  0.4934, -0.1267],\n",
       "           [-0.0950,  0.1215, -0.2144, -0.2080],\n",
       "           [-1.1865,  0.5090, -0.2582, -0.4349],\n",
       "           [ 0.6274, -0.0040, -1.7983,  1.1217],\n",
       "           [-0.2278,  0.4122, -2.1547,  1.6022],\n",
       "           [ 0.8848, -0.3820,  0.6012, -0.5168],\n",
       "           [ 1.9075, -1.2873, -0.1571,  0.0968],\n",
       "           [ 1.5725, -1.0859, -0.3932,  1.7004]]]], device='cuda:0'),\n",
       " torch.Size([1, 1, 8, 4]))"
      ]
     },
     "execution_count": 26,
     "metadata": {},
     "output_type": "execute_result"
    }
   ],
   "source": [
    "rs = vlstm_fw_torch(\n",
    "    queries=qs,\n",
    "    keys=ks,\n",
    "    values=vs,\n",
    "    igate_preact=igs,\n",
    "    fgate_preact=fgs,\n",
    "    stabilize_rowwise=True,\n",
    ")\n",
    "rs, rs.shape"
   ]
  },
  {
   "cell_type": "code",
   "execution_count": 27,
   "metadata": {},
   "outputs": [
    {
     "data": {
      "text/plain": [
       "(tensor([[[[-2.5441,  0.7163,  0.4934, -0.1267],\n",
       "           [-0.0950,  0.1215, -0.2144, -0.2080],\n",
       "           [-1.1865,  0.5090, -0.2582, -0.4349],\n",
       "           [ 0.6274, -0.0040, -1.7983,  1.1217],\n",
       "           [-0.2278,  0.4122, -2.1547,  1.6022],\n",
       "           [ 0.8848, -0.3820,  0.6012, -0.5168],\n",
       "           [ 1.9075, -1.2873, -0.1571,  0.0968],\n",
       "           [ 1.5725, -1.0859, -0.3932,  1.7004]]]], device='cuda:0'),\n",
       " torch.Size([1, 1, 8, 4]))"
      ]
     },
     "execution_count": 27,
     "metadata": {},
     "output_type": "execute_result"
    }
   ],
   "source": [
    "rs = vlstm_fw_torch(\n",
    "    queries=qs,\n",
    "    keys=ks,\n",
    "    values=vs,\n",
    "    igate_preact=igs,\n",
    "    fgate_preact=fgs,\n",
    "    stabilize_rowwise=False,\n",
    ")\n",
    "rs, rs.shape"
   ]
  },
  {
   "cell_type": "code",
   "execution_count": null,
   "metadata": {},
   "outputs": [
    {
     "name": "stdout",
     "output_type": "stream",
     "text": [
      "INCLUDE: ['/home/max/miniconda3/envs/xlstmpt21cu118/lib/python3.11/site-packages/torch/include', '/home/max/miniconda3/envs/xlstmpt21cu118/lib/python3.11/site-packages/torch/include/torch/csrc/api/include', '/home/max/miniconda3/envs/xlstmpt21cu118/lib/python3.11/site-packages/torch/include/TH', '/home/max/miniconda3/envs/xlstmpt21cu118/lib/python3.11/site-packages/torch/include/THC', '/home/max/miniconda3/envs/xlstmpt21cu118/include']\n",
      "/home/max/myrepos/vlstm_cuda/src\n",
      "/home/max/cpplibs/libtorch/lib:/usr/local/cuda-12.3/lib64:\n",
      "/home/max/miniconda3/envs/xlstmpt21cu118/lib\n"
     ]
    },
    {
     "name": "stderr",
     "output_type": "stream",
     "text": [
      "Using /home/max/.cache/torch_extensions/py311_cu118 as PyTorch extensions root...\n",
      "Detected CUDA files, patching ldflags\n",
      "Emitting ninja build file /home/max/.cache/torch_extensions/py311_cu118/vlstm_fw_v0/build.ninja...\n",
      "Building extension module vlstm_fw_v0...\n",
      "Allowing ninja to set a default number of workers... (overridable by setting the environment variable MAX_JOBS=N)\n"
     ]
    }
   ],
   "source": [
    "from src.vlstm_fw_v0.interface import vlstm_fw"
   ]
  }
 ],
 "metadata": {
  "kernelspec": {
   "display_name": "xlstmpt21cu121",
   "language": "python",
   "name": "python3"
  },
  "language_info": {
   "codemirror_mode": {
    "name": "ipython",
    "version": 3
   },
   "file_extension": ".py",
   "mimetype": "text/x-python",
   "name": "python",
   "nbconvert_exporter": "python",
   "pygments_lexer": "ipython3",
   "version": "3.11.6"
  }
 },
 "nbformat": 4,
 "nbformat_minor": 2
}
